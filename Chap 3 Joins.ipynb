{
    "metadata": {
        "kernelspec": {
            "name": "SQL",
            "display_name": "SQL",
            "language": "sql"
        },
        "language_info": {
            "name": "sql",
            "version": ""
        }
    },
    "nbformat_minor": 2,
    "nbformat": 4,
    "cells": [
        {
            "cell_type": "markdown",
            "source": [
                "**Chapter 3: JOINS.**"
            ],
            "metadata": {
                "azdata_cell_guid": "ed2eb876-f64c-42ad-8dee-ff2548e51c2a"
            },
            "attachments": {}
        },
        {
            "cell_type": "markdown",
            "source": [
                "**CROSS JOINS**\n",
                "\n",
                "Proposition: I would like a Cartesian Product of custoemers and employees. \n",
                "\n",
                "There are 91 customers and 9 employees. There should be 91 \\* 9 = 819 rows in the result.\n",
                "\n",
                "All other joins are first cross joins/cartesian product before additional filtering is applied on the matched column attribute, logically speaking. Physical query processing may run differently."
            ],
            "metadata": {
                "azdata_cell_guid": "29fa31b9-ce01-4f9b-977c-2d22e93d64a5"
            },
            "attachments": {}
        },
        {
            "cell_type": "code",
            "source": [
                "USE Northwinds2022TSQLV7\r\n",
                "\r\n",
                "SELECT C.CustomerId, E.EmployeeId\r\n",
                "FROM Sales.Customer AS C\r\n",
                "    CROSS JOIN HumanResources.Employee AS E;"
            ],
            "metadata": {
                "azdata_cell_guid": "8f0c115d-c16e-4805-9cf9-70460f2defa6",
                "language": "sql"
            },
            "outputs": [],
            "execution_count": null
        },
        {
            "cell_type": "markdown",
            "source": [
                "SELF CROSS JOINS\n",
                "\n",
                "Proposition: Produce all possible combinations of pairs of employees. This may include an employee being paired with him/herself. \n",
                "\n",
                "9 \\* 9 = 81"
            ],
            "metadata": {
                "language": "sql",
                "azdata_cell_guid": "eefe4406-7635-49d9-aa8d-9c81835a793f"
            },
            "attachments": {}
        },
        {
            "cell_type": "code",
            "source": [
                "USE Northwinds2022TSQLV7\r\n",
                "SELECT E1.EmployeeId, E2.EmployeeId\r\n",
                "FROM HumanResources.Employee AS E1\r\n",
                "    CROSS JOIN HumanResources.Employee AS E2;"
            ],
            "metadata": {
                "language": "sql",
                "azdata_cell_guid": "c6d98307-43cf-4441-ae60-bd357bb90378",
                "tags": []
            },
            "outputs": [],
            "execution_count": null
        },
        {
            "cell_type": "markdown",
            "source": [
                "Producing Tables of Numbers (Application of self cross join)\n",
                "\n",
                "Proposition: Write a query that produces a sequence of integers in the range 1 through 1000. \n",
                "\n",
                "A sequence of numbers is a powerful tool for many purposes. First, create a digits table with values from 0 to 9. Then apply the table whenever necessary."
            ],
            "metadata": {
                "language": "sql",
                "azdata_cell_guid": "dcea8d32-8e52-4216-9a14-0fbc8feb446b"
            },
            "attachments": {}
        },
        {
            "cell_type": "code",
            "source": [
                "USE Northwinds2022TSQLV7\r\n",
                "DROP TABLE IF EXISTS dbo.Digit;\r\n",
                "CREATE TABLE dbo.Digit (digit INT NOT NULL PRIMARY KEY);\r\n",
                "INSERT INTO dbo.Digit (digit)\r\n",
                "    VALUES (0), (1), (2), (3), (4), (5), (6), (7), (8), (9);\r\n",
                "\r\n",
                "SELECT digit FROM dbo.Digit;\r\n",
                "\r\n",
                "SELECT D3.digit * 100 + D2.digit * 10 + D1.digit + 1 AS n -- multiply by power of 10. 100, 10, digit table itself (ones). +1 is to discard 0. \r\n",
                "FROM dbo.Digit AS D1\r\n",
                "    CROSS JOIN dbo.Digit AS D2\r\n",
                "    CROSS JOIN dbo.digit AS D3\r\n",
                "ORDER BY n;\r\n",
                ""
            ],
            "metadata": {
                "language": "sql",
                "azdata_cell_guid": "a4884b91-6d3c-46ff-be64-6190bac7c830"
            },
            "outputs": [],
            "execution_count": null
        },
        {
            "cell_type": "markdown",
            "source": [
                "**INNER JOINS or JOINS**\n",
                "\n",
                "Proposition: Produce a list of orderID, employee first and last names, and employeeid. \"Match each employee row with all order rows that have the same employeeID as in the employee row.\"\n",
                "\n",
                "Since these attributes are from two different tables, inner join is necessary. The cartesian product is filtered by a match in the employeeId."
            ],
            "metadata": {
                "language": "sql",
                "azdata_cell_guid": "961268b2-17dd-4d11-82ae-c1fe658a27d8"
            },
            "attachments": {}
        },
        {
            "cell_type": "code",
            "source": [
                "USE Northwinds2022TSQLV7\r\n",
                "SELECT E.EmployeeId, E.EmployeeFirstName, E.EmployeeLastName, O.OrderId\r\n",
                "FROM HumanResources.Employee AS E\r\n",
                "    INNER JOIN SALES.[Order] AS O\r\n",
                "        ON E.EmployeeId = O.EmployeeId"
            ],
            "metadata": {
                "language": "sql",
                "azdata_cell_guid": "f307784b-e6d2-4db6-9a4d-b9bdbcfb949a",
                "tags": []
            },
            "outputs": [],
            "execution_count": null
        },
        {
            "cell_type": "markdown",
            "source": [
                "**COMPOSITE JOINS** (application of join)\n",
                "\n",
                "For tables based on a primary key-foreign key relationship based on more than one attribute, you may need to perform composite join where you need to match multiple attributes from each side.\n",
                "\n",
                "Proposition: Return a query with current value from OrderDetails table and the value before and after the change from the OrderDetailsAudit table.\n",
                "\n",
                "Primary key of the OrderDetails table is composed of two attributes: productid, and orderid."
            ],
            "metadata": {
                "language": "sql",
                "azdata_cell_guid": "a904b6a6-03a8-4eca-a0e2-60f5c45a3fb4"
            },
            "attachments": {}
        },
        {
            "cell_type": "code",
            "source": [
                "/*\r\n",
                "    FROM dbo.Table1 AS T1\r\n",
                "        INNER JOIN dbo.Table2 AS T2\r\n",
                "         ON T1.col1 = T2.col1\r\n",
                "         AND T2.col1 = T2.col2\r\n",
                "*/\r\n",
                "\r\n",
                "--In the following table creation, there are two columns in Sales.ORderDetailAudit that are also present in Sales.OrderDetail: orderid and productid. When you join these two tables, you will need to perform the composite join.\r\n",
                "USE Northwinds2022TSQLV7\r\n",
                "DROP TABLE IF EXIstS Sales.OrderDetailsAudit;\r\n",
                "\r\n",
                "CREATE TABLE Sales.OrderDetailsAudit(\r\n",
                "    lsn INT NOT NULL IDENTITY,\r\n",
                "    orderid INT NOT NULL,\r\n",
                "    productid INT NOT NULL,\r\n",
                "    dt DATETIME NOT NULL,\r\n",
                "    loginname sysname NOT NULL,\r\n",
                "    columnname sysname NOT NULL,\r\n",
                "    oldval SQL_VARIANT,\r\n",
                "    newval SQL_VARIANT,\r\n",
                "    CONSTRAINT PK_OrderDetailsAudit PRIMARY KEY (lsn),\r\n",
                "    CONSTRAINT FK_OrderDetailsAudit_OrderDetails\r\n",
                "        FOREIGN KEY(orderid, productid)\r\n",
                "        REFERENCES Sales.OrderDetail (OrderId, ProductId)\r\n",
                ");\r\n",
                "\r\n",
                "SELECT OD.OrderId, OD.ProductId, OD.Quantity,\r\n",
                "    ODA.dt, ODA.loginname, ODA.oldval, ODA.newval \r\n",
                "FROM Sales.OrderDetail AS OD\r\n",
                "    INNER JOIN Sales.OrderDetailsAudit AS ODA\r\n",
                "        ON OD.orderid = ODA.orderid\r\n",
                "        AND OD.productid = ODA.productid\r\n",
                "WHERE ODA.columnname = N'qty';"
            ],
            "metadata": {
                "language": "sql",
                "azdata_cell_guid": "2d871cb2-f7ea-404e-8f72-715b727ba906",
                "tags": []
            },
            "outputs": [],
            "execution_count": null
        },
        {
            "cell_type": "markdown",
            "source": [
                "**NON-EQUI JOINS**\n",
                "\n",
                "Equi joins: When a join condition involves only an equality operator. =\n",
                "\n",
                "Non-equi joins: When a join condition involves any operator besides equality. \\>, \\<, etc\n",
                "\n",
                "Proposition: Join two instances of the Employees table to produce unique pairs of employees. This is an example of non-equi join and self join.\n",
                "\n",
                "This result excludes self pairs (1 with 1) and mirrored pairs (1 with 2 and also 2 with 1). The purpose is to produce unique pairs."
            ],
            "metadata": {
                "azdata_cell_guid": "e9c2e3e2-eacd-4bcb-8ae3-0c662f029b4a"
            },
            "attachments": {}
        },
        {
            "cell_type": "code",
            "source": [
                "USE Northwinds2022TSQLV7\r\n",
                "SELECT\r\n",
                "    E1.EmployeeId, E1.EmployeeFirstName, E1.EmployeeLastName,\r\n",
                "    E2.EmployeeId, E2.EmployeeFirstName, E2.EmployeeLastname\r\n",
                "FROM HumanResources.Employee AS E1\r\n",
                "    INNER JOIN HumanResources.Employee AS E2\r\n",
                "        ON E1.EmployeeId < E2.EmployeeId\r\n",
                "ORDER BY E1.EmployeeId;"
            ],
            "metadata": {
                "azdata_cell_guid": "0ca1c7b9-b78a-486e-b1b5-62263c19a039",
                "language": "sql",
                "tags": []
            },
            "outputs": [],
            "execution_count": null
        },
        {
            "cell_type": "markdown",
            "source": [
                "**Multi-Join Queries**\n",
                "\n",
                "When more than one table operates in the FROM clause, the table operators are logically processed from left to right. The result of the first table operateor is treated as the left input to the second table operator.  The first join operates on two base tables, but all other joins get the result of the preceding join as their left input.\n",
                "\n",
                "Proposition: Join the Customers and Orders tables to match customers with their orders, and then join this result with the OrderDetails table."
            ],
            "metadata": {
                "language": "sql",
                "azdata_cell_guid": "2aadea80-6ccd-4d3f-9ed1-ce2da16e977a"
            },
            "attachments": {}
        },
        {
            "cell_type": "code",
            "source": [
                "USE Northwinds2022TSQLV7\r\n",
                "SELECT\r\n",
                "    C.CustomerId, C.CustomerCompanyName,\r\n",
                "    O.OrderId,\r\n",
                "    OD.ProductId, OD.Quantity\r\n",
                "FROM Sales.Customer AS C\r\n",
                "    INNER JOIN Sales.[Order] AS O\r\n",
                "        ON C.CustomerId = O.CustomerId\r\n",
                "    INNER JOIN Sales.OrderDetail AS OD\r\n",
                "        ON O.OrderId = OD.OrderId;"
            ],
            "metadata": {
                "language": "sql",
                "azdata_cell_guid": "6b179b1b-14db-432b-a471-bb9d5d8dfb9c"
            },
            "outputs": [],
            "execution_count": null
        },
        {
            "cell_type": "markdown",
            "source": [
                "**OUTER JOIN: LEFT OUTER JOIN, RIGHT OUTER JOIN, FULL OUTER JOIN**\n",
                "\n",
                "The keyword is preserve. LEFT OUTER JOIN preserves and returns all data from the left table even when there is no match on the attribute. \n",
                "\n",
                "First phase: cross join\n",
                "\n",
                "Second phase: inner join (overlap)\n",
                "\n",
                "Thrird phase: Combine inner join with the values from the left table.\n",
                "\n",
                "Proposition: Return customers and their order. Include the customers who did not palce any orders."
            ],
            "metadata": {
                "language": "sql",
                "azdata_cell_guid": "b5974682-7a74-43c5-94e6-d3e7541812b7"
            },
            "attachments": {}
        },
        {
            "cell_type": "code",
            "source": [
                "USE Northwinds2022TSQLV7\r\n",
                "SELECT C.CustomerId,C.CustomerCompanyName,\r\n",
                "    O.orderid\r\n",
                "FROM Sales.Customer AS C\r\n",
                "    LEFT OUTER JOIN Sales.[Order] as O \r\n",
                "        ON C.CustomerId = O.CustomerId\r\n",
                "ORDER BY C.CustomerID;\r\n",
                "\r\n",
                "--Notice that the output includes NULL under OrderId. \r\n",
                "\r\n",
                "--The following only identifies the customers with no orders:\r\n",
                "SELECT C.CustomerId,C.CustomerCompanyName,\r\n",
                "    O.orderid\r\n",
                "FROM Sales.Customer AS C\r\n",
                "    LEFT OUTER JOIN Sales.[Order] as O \r\n",
                "        ON C.CustomerId = O.CustomerId\r\n",
                "WHERE O.OrderId IS NULL;\r\n",
                "\r\n",
                "--To see the missing values/the outer rows or NULLs, uou should choose an attribute that can only have NULLs. In this case, you know OrderId would be NULL for customers who did not place any orders.\r\n",
                "--The following three are safe to use: Primary key column, join column, and column defined as NOT NULL\r\n",
                "--Primary key: primary key cannot be null. If there is a NULL here, it can only meant that the row is an outer row.\r\n",
                "--Join Column: if There is a null in the join column, that row is filtered out by the second phase of the join, so null in such a column can only mean that it's an outer row. \r\n",
                "--NULL in a column defined as NOT NULL can only mean that the row is an outer row."
            ],
            "metadata": {
                "language": "sql",
                "azdata_cell_guid": "a1cea242-537f-4f77-bfda-8d84d9d09733",
                "tags": []
            },
            "outputs": [],
            "execution_count": null
        },
        {
            "cell_type": "markdown",
            "source": [
                "**Using Outer joins to identify and include the missing values**\n",
                "\n",
                "Proposition: Query all orders from the Orders table from Jan 1, 2014 to Dec 31, 2016. Include the dates with no orders with NULLs as place holders in the order attribute.\n",
                "\n",
                "First, write a query that returns the sequence of all dates. Then perform a left outer join between the dates result and the Orders table."
            ],
            "metadata": {
                "language": "sql",
                "azdata_cell_guid": "2613f58c-fa9b-40f2-8043-17b712b38afc"
            },
            "attachments": {}
        },
        {
            "cell_type": "code",
            "source": [
                "--This query returns a sequence of all dates in the range Jan 1, 2014 through Dec 31 2016.\r\n",
                "USE Northwinds2022TSQLV7\r\n",
                "SELECT DATEADD (day, n-1, CAST('20140101' AS DATE)) AS orderdate -- From Jan 1st 2014, add n-1 number of days and output the result.\r\n",
                "FROM dbo.Nums\r\n",
                "WHERE n <= DATEDIFF (day, '20140101', '20161231') +1--this calculates how many times to iterate. Calculates the difference between the two dates in days. \r\n",
                "ORDER BY orderdate;\r\n",
                "--this is like a forloop. n is the number of iterations. \r\n",
                "\r\n",
                "--Then outer join between the dates and the orders.\r\n",
                "\r\n",
                "SELECT DATEADD (day, Nums.n-1, CAST('20140101' AS DATE)) AS orderdate,\r\n",
                "    O.orderId, O.CustomerId, O.EmployeeId\r\n",
                "FROM dbo.Nums\r\n",
                "    LEFT OUTER JOIN Sales.[Order] AS O\r\n",
                "        ON DATEADD (day, Nums.n-1, CAST('20140101' AS DATE)) = O.orderdate;"
            ],
            "metadata": {
                "language": "sql",
                "azdata_cell_guid": "7ce9d494-ae17-4194-b298-d3e67ac5a903",
                "tags": []
            },
            "outputs": [],
            "execution_count": null
        },
        {
            "cell_type": "markdown",
            "source": [
                "OUTER JOINS: Mistake to Avoid\n",
                "\n",
                "The Where clause of the following query causes all outer rows to be filtered out, effectively nuliffying the outer join. Effectively, the join becomes an inner join. So the programmer either made a mistake in the join type or in the predicate."
            ],
            "metadata": {
                "language": "sql",
                "azdata_cell_guid": "edd0f0c7-1ca0-4c42-a17a-0d6281214886"
            },
            "attachments": {}
        },
        {
            "cell_type": "code",
            "source": [
                "USE Northwinds2022TSQLV7\r\n",
                "SELECT C.CustomerId, C.CustomerCompanyName, O.OrderId, O.OrderDate\r\n",
                "FROM Sales.Customer AS C\r\n",
                "    LEFT Outer JOIN Sales.[Order] AS O\r\n",
                "        ON C.CustomerId = O.CustomerId\r\n",
                "WHERE O.OrderDate >= '20160101';"
            ],
            "metadata": {
                "language": "sql",
                "azdata_cell_guid": "b878a7de-2892-4952-94d4-dbecbf3ce9d1"
            },
            "outputs": [],
            "execution_count": null
        },
        {
            "cell_type": "markdown",
            "source": [
                "**Using outer joins in a multi-join query**\n",
                "\n",
                "FROM evalutes table operates from left to right. If the predicate in the inner jion's ON clause compares an attribute from the nonpreserved side of the outer join and an attribute from the third table, all outer rows are discarded. Remember that outer rows have NULLs in the attributes from the non preserved side of the join, comparing a NULL with anything yields UNKNOWN.\n",
                "\n",
                "Proposition: Return a query with customerID, OrderId, ProductId, and Quantity. Be sure to include customers with no orders."
            ],
            "metadata": {
                "language": "sql",
                "azdata_cell_guid": "cbae5313-2f51-4ce9-af60-492060264c9b"
            },
            "attachments": {}
        },
        {
            "cell_type": "code",
            "source": [
                "--The following query is bad becaues of the reason above.\r\n",
                "USE Northwinds2022TSQLV7\r\n",
                "SELECT C.CustomerId, O.OrderId, OD.ProductId, OD.Quantity\r\n",
                "FROM Sales.Customer AS C \r\n",
                "    LEFT OUTER JOIN Sales.[Order] AS O\r\n",
                "        ON C.CustomerId = O.CustomerId\r\n",
                "    INNER JOIN Sales.OrderDetail AS OD \r\n",
                "        ON O.OrderId = Od.OrderId;\r\n",
                "\r\n",
                "--Generally, outer rows are dropped whenever any kind of outer join (left, right, full) is folowed by a subsequent inner join or right outer join.\r\n",
                "\r\n",
                "--Work- around 1 (both left outer joins): This might not be good. What if there were rows in Orders that didnt have matches in OrderDetails, and you wanted those rows to be discarded?\r\n",
                "SELECT C.CustomerId, O.OrderId, OD.ProductId, OD.Quantity\r\n",
                "FROM Sales.Customer AS C \r\n",
                "    LEFT OUTER JOIN Sales.[Order] AS O\r\n",
                "        ON C.CustomerId = O.CustomerId\r\n",
                "    LEFT OUTER JOIN Sales.OrderDetail AS OD \r\n",
                "        ON O.OrderId = Od.OrderId;\r\n",
                "\r\n",
                "--Work- around 2: inner join before the outer join. Inner join between orders and orderdetails. then join the result with the customers table.\r\n",
                "SELECT C.CustomerId, O.OrderId, OD.ProductId, OD.Quantity\r\n",
                "FROM Sales.[Order] AS O \r\n",
                "    INNER JOIN Sales.OrderDetail AS OD \r\n",
                "        ON O.OrderId = Od.OrderId\r\n",
                "    RIGHT OUTER JOIN Sales.[Order] AS C\r\n",
                "        ON C.CustomerId = O.CustomerId;\r\n",
                "--Work- around 3: Use parenthesis. Similar to the work-around 2. Parenthesis ensures that inner join happens before the outer join.\r\n",
                "SELECT C.CustomerId, O.OrderId, OD.ProductId, OD.Quantity\r\n",
                "FROM Sales.Customer AS C\r\n",
                "    LEFT OUTER JOIN \r\n",
                "        (Sales.[Order] AS O\r\n",
                "            INNER JOIN Sales.OrderDetail AS OD \r\n",
                "                ON O.OrderID = OD.OrderId)\r\n",
                "    ON O.CustomerId = C.CustomerId;"
            ],
            "metadata": {
                "language": "sql",
                "azdata_cell_guid": "102ad927-a5a1-4c68-82bb-27ca37afcc11"
            },
            "outputs": [
                {
                    "output_type": "error",
                    "evalue": "Msg 8120, Level 16, State 1, Line 28\r\nColumn 'Sales.Customer.CustomerId' is invalid in the select list because it is not contained in either an aggregate function or the GROUP BY clause.",
                    "ename": "",
                    "traceback": []
                },
                {
                    "output_type": "display_data",
                    "data": {
                        "text/html": "Total execution time: 00:00:00.008"
                    },
                    "metadata": {}
                }
            ],
            "execution_count": 19
        },
        {
            "cell_type": "markdown",
            "source": [
                "Using the COUNT aggregate with outer joins\n",
                "\n",
                "COUNT (\\*) aggregate counts rows regardless of their contents such as NULLs. For this reason, you are not supposed to take outer rows into consideration for counting purpose.\n",
                "\n",
                "Proposition: Return the count of orders for each customer."
            ],
            "metadata": {
                "azdata_cell_guid": "4cb99a9a-58be-4d3d-b2c9-2b1c3275184f"
            },
            "attachments": {}
        },
        {
            "cell_type": "code",
            "source": [
                "--The following query is supposed to return the count of orders for each customer. Customer 22 and 57 who did not place an order are counted as having ordered once. This counted the Nulls as well.\r\n",
                "USE Northwinds2022TSQLV7\r\n",
                "SELECT C.CustomerId, COUNT(*) AS numorders\r\n",
                "FROM Sales.Customer AS C \r\n",
                "    LEFT OUTER JOIN Sales.[Order] AS O\r\n",
                "        ON C.CustomerId = O.CustomerId\r\n",
                "GROUP BY C.CustomerId;\r\n",
                "\r\n",
                "--Rewrite this query like this:\r\n",
                "SELECT C.CustomerId, COUNT(O.OrderId) AS numorders\r\n",
                "FROM Sales.Customer AS C \r\n",
                "    LEFT OUTER JOIN Sales.[Order] AS O\r\n",
                "        ON C.CustomerId = O.CustomerId\r\n",
                "GROUP BY C.CustomerId;\r\n",
                "    "
            ],
            "metadata": {
                "azdata_cell_guid": "3b3f6251-9399-4aa6-9b0b-b840348ebacb",
                "language": "sql"
            },
            "outputs": [],
            "execution_count": null
        },
        {
            "cell_type": "markdown",
            "source": [
                "Exercise 1\n",
                "\n",
                "Write a query that generates five copies of each employee row."
            ],
            "metadata": {
                "language": "sql",
                "azdata_cell_guid": "927a7e40-c5cf-445b-aa82-474b46026dc3"
            },
            "attachments": {}
        },
        {
            "cell_type": "code",
            "source": [
                "USE TSQLV4\r\n",
                "\r\n",
                "SELECT E.empid, E.firstname, E.lastname, N.n \r\n",
                "FROM HR.Employees E\r\n",
                "    CROSS JOIN dbo.Nums N\r\n",
                "WHERE n <=5\r\n",
                "ORDER BY n, empid;"
            ],
            "metadata": {
                "language": "sql",
                "azdata_cell_guid": "a3ae7c5f-3c46-45ed-91a3-75c2acd750ff"
            },
            "outputs": [],
            "execution_count": null
        },
        {
            "cell_type": "markdown",
            "source": [
                "Exercise 1-2\n",
                "\n",
                "Proposition: Write a query that returns a row for each employee and day in the range June 12, 2016 through June 16,2016."
            ],
            "metadata": {
                "language": "sql",
                "azdata_cell_guid": "0a9ffdbc-e7f6-4c5d-8825-e315034e24e4"
            },
            "attachments": {}
        },
        {
            "cell_type": "code",
            "source": [
                "USE TSQLV4\r\n",
                "SELECT E.empid, DATEADD (day, D.n -1, CAST('20160612' AS DATE)) AS dt \r\n",
                "    FROM HR.Employees AS E \r\n",
                "        CROSS JOIN dbo.Nums AS D\r\n",
                "WHERE D.n <=DATEDIFF(day, '20160612', '20160616') + 1 -- + 1 inclues the 20160616 within the results.\r\n",
                "ORDER BY empid, dt;"
            ],
            "metadata": {
                "language": "sql",
                "azdata_cell_guid": "a5695f75-d8ad-48a7-a3fa-503afb5a03f4"
            },
            "outputs": [],
            "execution_count": null
        },
        {
            "cell_type": "markdown",
            "source": [
                "Exercise 2 \n",
                "\n",
                "Proposition: Explain what's wrong in the following query and provide a correct alternative."
            ],
            "metadata": {
                "language": "sql",
                "azdata_cell_guid": "b449ddb0-3d47-49db-83bd-5a7356995d9a"
            },
            "attachments": {}
        },
        {
            "cell_type": "code",
            "source": [
                "USE TSQLV4\r\n",
                "/*\r\n",
                "SELECT Customers.CustomerId, Customers.companyname, Orders.orderid, Orders.orderdate\r\n",
                "FROM Sales.Customers AS C \r\n",
                "    INNER JOIN Sales.Orders AS O\r\n",
                "        ON Customers.custid = Orders.customerid;*/\r\n",
                "\r\n",
                "-- The alias was not consistent.\r\n",
                "SELECT C.Custid, C.companyname, O.orderid, O.orderdate\r\n",
                "FROM Sales.Customers AS C \r\n",
                "    INNER JOIN Sales.Orders AS O\r\n",
                "        ON C.custid = O.custid;"
            ],
            "metadata": {
                "language": "sql",
                "azdata_cell_guid": "1d622b91-df2b-4ce8-ac5f-1aac65e5c698"
            },
            "outputs": [],
            "execution_count": null
        },
        {
            "cell_type": "markdown",
            "source": [
                "Exercise 3\n",
                "\n",
                "Proposition: Return US customers, and for each customer return the total number of orders and total quantities."
            ],
            "metadata": {
                "language": "sql",
                "azdata_cell_guid": "93d635a2-4897-4aa2-aaea-df7c5a40d544"
            },
            "attachments": {}
        },
        {
            "cell_type": "code",
            "source": [
                "USE TSQLV4\r\n",
                "\r\n",
                "SELECT TOP(5) * FROM sales.OrderDetails;\r\n",
                "SELECT TOP(5) * FROM sales.orders;\r\n",
                "\r\n",
                "SELECT C.custid, COUNT (DISTINCT O.orderid) AS numorders, SUM(OD.qty) AS totalqty\r\n",
                "FROM Sales.Customers AS C \r\n",
                "    INNER JOIN Sales.Orders AS O\r\n",
                "        ON C.custid = O.custid\r\n",
                "    INNER JOIN Sales.OrderDetails AS OD \r\n",
                "        ON O.orderid = OD.orderid\r\n",
                "WHERE C.country = N'USA'\r\n",
                "GROUP BY C.custid\r\n",
                "ORDER BY C.custid\r\n",
                "\r\n",
                "--need to use distinct because of the join between order and orderdetails. orderdetails has multiple lines for each order."
            ],
            "metadata": {
                "language": "sql",
                "azdata_cell_guid": "3640aee5-0a88-4743-a1f3-afdc370ad3b7"
            },
            "outputs": [],
            "execution_count": null
        },
        {
            "cell_type": "markdown",
            "source": [
                "Exercise 4\n",
                "\n",
                "Proposition: Return customers and their orders, including customers who placed no orders."
            ],
            "metadata": {
                "language": "sql",
                "azdata_cell_guid": "e05a42de-e513-43d6-884f-a396173aeafd"
            },
            "attachments": {}
        },
        {
            "cell_type": "code",
            "source": [
                "USE TSQLV4\r\n",
                "SELECT C.custid, C.companyname, O.orderid, O.orderdate\r\n",
                "FROM Sales.Customers AS C \r\n",
                "    LEFT OUTER JOIN Sales.Orders AS O\r\n",
                "        ON C.custid = O.custid \r\n",
                ""
            ],
            "metadata": {
                "language": "sql",
                "azdata_cell_guid": "f1c4f398-3272-4a15-b199-0eabf2c25099"
            },
            "outputs": [],
            "execution_count": null
        },
        {
            "cell_type": "markdown",
            "source": [
                "Exercise 5\n",
                "\n",
                "Proposition: Return customers who placed no orders"
            ],
            "metadata": {
                "language": "sql",
                "azdata_cell_guid": "0e6863bd-72db-4ee2-ab9b-7eb19b333996"
            },
            "attachments": {}
        },
        {
            "cell_type": "code",
            "source": [
                "USE TSQLV4\r\n",
                "SELECT C.custid, C.companyname, O.orderid\r\n",
                "FROM Sales.Customers AS C \r\n",
                "    LEFT OUTER JOIN Sales.Orders AS O\r\n",
                "        ON C.custid = O.custid \r\n",
                "WHERE O.orderid is NULL"
            ],
            "metadata": {
                "language": "sql",
                "azdata_cell_guid": "84568276-b25e-4425-adfe-d9dc82909f64"
            },
            "outputs": [],
            "execution_count": null
        },
        {
            "cell_type": "markdown",
            "source": [
                "Exercise 6\n",
                "\n",
                "Proposition: Return customers with orders placed on Feb 12, 2016 along with their orders."
            ],
            "metadata": {
                "language": "sql",
                "azdata_cell_guid": "7fa69f9c-29b2-46b9-8b78-def5020fc8ee"
            },
            "attachments": {}
        },
        {
            "cell_type": "code",
            "source": [
                "USE TSQLV4\r\n",
                "SELECT C.custid, C.companyname, O.orderid, O.orderdate\r\n",
                "FROM Sales.Customers AS C \r\n",
                "    INNER JOIN Sales.Orders AS O\r\n",
                "        ON C.custid = O.custid \r\n",
                "WHERE O.orderdate = '20160212';"
            ],
            "metadata": {
                "language": "sql",
                "azdata_cell_guid": "cd60d40e-de7a-4db1-9920-3e685bfc89b0",
                "tags": []
            },
            "outputs": [],
            "execution_count": null
        },
        {
            "cell_type": "markdown",
            "source": [
                "Exercise 7 & 8\n",
                "\n",
                "Proposition: Write a query that returns all customers in the output, but matches them with their respective orders only if they were placed on Feb 12, 2016:"
            ],
            "metadata": {
                "language": "sql",
                "azdata_cell_guid": "2143f03d-e591-4eac-be3c-2e0d9c93cbee"
            },
            "attachments": {}
        },
        {
            "cell_type": "code",
            "source": [
                "--Be sure to note that where is a final filter and predicate based on the orderdate is a nonfinal matching candiate. So it must be with the on clause not with the where clause.\r\n",
                "--The following query is incorrect.\r\n",
                "USE TSQLV4\r\n",
                "SELECT C.custid, C.companyname, O.orderid, O.orderdate\r\n",
                "FROM Sales.Customers AS C \r\n",
                "    LEFT OUTER JOIN Sales.Orders AS O\r\n",
                "        ON C.custid = O.custid \r\n",
                "wHERE O.orderdate = '20160212'\r\n",
                "    OR O.orderid IS NULL;\r\n",
                "\r\n",
                "--this query is correct.\r\n",
                "USE TSQLV4\r\n",
                "SELECT C.custid, C.companyname, O.orderid, O.orderdate\r\n",
                "FROM Sales.Customers AS C \r\n",
                "    LEFT OUTER JOIN Sales.Orders AS O\r\n",
                "        ON C.custid = O.custid \r\n",
                "        AND O.orderdate = '20160212'"
            ],
            "metadata": {
                "language": "sql",
                "azdata_cell_guid": "305d2940-9152-48af-a776-e061a956a4cf"
            },
            "outputs": [],
            "execution_count": null
        },
        {
            "cell_type": "markdown",
            "source": [
                "Exercise 9\n",
                "\n",
                "Proposition: Return all customers, and for each return a Yes/No value depending on whether the customer placed orders on Feb 12, 2016"
            ],
            "metadata": {
                "language": "sql",
                "azdata_cell_guid": "289e0496-b934-41cd-b4d9-f263139f5ec3"
            },
            "attachments": {}
        },
        {
            "cell_type": "code",
            "source": [
                "USE TSQLV4\r\n",
                "SELECT C.custid, C.companyname, O.orderdate,\r\n",
                "    CASE O.orderdate\r\n",
                "        WHEN '20160212' THEN 'Yes'    --CASE WHEN O.orderid Is not null then 'Yes' ELSE 'NO' END AS Hasorderon20160212\r\n",
                "         ELSE 'No'\r\n",
                "    END AS HasOrderOn20160212\r\n",
                "FROM Sales.Customers AS C \r\n",
                "    LEFT OUTER JOIN Sales.Orders AS O\r\n",
                "        ON C.custid = O.custid \r\n",
                "        AND O.orderdate = '20160212'"
            ],
            "metadata": {
                "language": "sql",
                "azdata_cell_guid": "abc15384-1252-477b-83da-8e5493f04885"
            },
            "outputs": [],
            "execution_count": null
        }
    ]
}