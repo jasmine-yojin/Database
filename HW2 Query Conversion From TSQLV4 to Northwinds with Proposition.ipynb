{
    "metadata": {
        "kernelspec": {
            "name": "SQL",
            "display_name": "SQL",
            "language": "sql"
        },
        "language_info": {
            "name": "sql",
            "version": ""
        }
    },
    "nbformat_minor": 2,
    "nbformat": 4,
    "cells": [
        {
            "cell_type": "markdown",
            "source": [
                "The following queries for TSQLV4 database are converted to be used for Northwinds2022TSQLV7 database."
            ],
            "metadata": {
                "azdata_cell_guid": "97482835-4e69-4a47-a51e-176662abfcde"
            },
            "attachments": {}
        },
        {
            "cell_type": "markdown",
            "source": [
                " <span style=\"color: rgb(96, 139, 78);\"><b>&nbsp;Elements&nbsp;of&nbsp;the&nbsp;SELECT&nbsp;Statement</b></span>\n",
                "\n",
                "<span style=\"color: #608b4e;\">Proposition:&nbsp;I&nbsp;would&nbsp;like&nbsp;to&nbsp;know&nbsp;the&nbsp;number&nbsp;of&nbsp;orders&nbsp;the&nbsp;Customer&nbsp;71&nbsp;placed&nbsp;by&nbsp;each&nbsp;employee&nbsp;and&nbsp;year.&nbsp;</span>"
            ],
            "metadata": {
                "language": "sql",
                "azdata_cell_guid": "eeb6e572-467a-40fc-be28-2a83020f9ee8"
            },
            "attachments": {}
        },
        {
            "cell_type": "code",
            "source": [
                "USE TSQLV4;\r\n",
                "\r\n",
                "SELECT empid, YEAR(orderdate) AS orderyear, COUNT(*) AS numorders\r\n",
                "FROM Sales.Orders\r\n",
                "WHERE custid = 71\r\n",
                "GROUP BY empid, YEAR(orderdate)\r\n",
                "HAVING COUNT(*) > 1\r\n",
                "ORDER BY empid, orderyear;\r\n",
                "\r\n",
                "USE Northwinds2022TSQLV7\r\n",
                "GO\r\n",
                "SELECT EmployeeId, YEAR(OrderDate) AS orderyear, COUNT (*) AS numorders\r\n",
                "FROM Sales.[Order]\r\n",
                "WHERE CustomerId = 71\r\n",
                "GROUP BY EmployeeId, YEAR (OrderDate)\r\n",
                "HAVING COUNT (*) > 1\r\n",
                "ORDER BY EmployeeId, OrderYear;"
            ],
            "metadata": {
                "azdata_cell_guid": "f610fe76-b6cf-47f6-bb46-b87b560381cd",
                "language": "sql",
                "tags": []
            },
            "outputs": [],
            "execution_count": null
        },
        {
            "cell_type": "markdown",
            "source": [
                "<span style=\"color: #6a9955;\"><b>The FROM Clause</b></span>\n",
                "\n",
                "<span style=\"color: #6a9955;\">Proposition: I would like to see a list of orders and OrderId, CustomerId, EmployeeId, and Freight related to these orders.</span>"
            ],
            "metadata": {
                "language": "sql",
                "azdata_cell_guid": "4cff9207-a03c-4acd-b9f6-2a5681f73790"
            },
            "attachments": {}
        },
        {
            "cell_type": "code",
            "source": [
                "USE   TSQLV4;\r\n",
                "SELECT orderid, custid, empid, orderdate, freight\r\n",
                "FROM Sales.Orders;"
            ],
            "metadata": {
                "language": "sql",
                "azdata_cell_guid": "5565ad24-d606-4cf6-9cbc-9d859a469a40"
            },
            "outputs": [],
            "execution_count": null
        },
        {
            "cell_type": "markdown",
            "source": [
                "<span style=\"color: #608b4e;\"><b>The&nbsp;WHERE&nbsp;Clause</b></span>\n",
                "\n",
                "<span style=\"color: #608b4e;\">Proposition:&nbsp;I&nbsp;would&nbsp;like&nbsp;to&nbsp;see&nbsp;a&nbsp;list&nbsp;of&nbsp;all&nbsp;orders&nbsp;placed&nbsp;by&nbsp;CustomerId&nbsp;71.&nbsp;I&nbsp;want&nbsp;to&nbsp;see&nbsp;orderID,&nbsp;customer&nbsp;who&nbsp;placed&nbsp;an&nbsp;order,&nbsp;employee&nbsp;who&nbsp;helped&nbsp;place&nbsp;the&nbsp;order,&nbsp;and&nbsp;the&nbsp;total&nbsp;sales.&nbsp;</span>"
            ],
            "metadata": {
                "azdata_cell_guid": "e2b23ab3-afec-4b4e-bfc8-d91f704aeee1"
            },
            "attachments": {}
        },
        {
            "cell_type": "code",
            "source": [
                "USE TSQLV4;\r\n",
                "SELECT orderid, empid, orderdate, freight\r\n",
                "FROM Sales.Orders\r\n",
                "WHERE custid = 71;\r\n",
                "\r\n",
                "USE Northwinds2022TSQLV7\r\n",
                "GO\r\n",
                "SELECT OrderId, EmployeeId, OrderDate, Freight\r\n",
                "FROM Sales.[Order]\r\n",
                "WHERE CustomerId = 71"
            ],
            "metadata": {
                "azdata_cell_guid": "5835b1ca-d6f3-407b-a8ef-7a5142c455fa",
                "language": "sql"
            },
            "outputs": [],
            "execution_count": null
        },
        {
            "cell_type": "markdown",
            "source": [
                "<span style=\"color: rgb(96, 139, 78);\"><b>The&nbsp;GROUP&nbsp;BY&nbsp;Clause</b></span>\n",
                "\n",
                "<span style=\"color: rgb(96, 139, 78);\">Proposition:&nbsp;I&nbsp;would&nbsp;like&nbsp;to&nbsp;see&nbsp;a&nbsp;list&nbsp;of&nbsp;employees&nbsp;who&nbsp;helped&nbsp;customer&nbsp;71&nbsp;place&nbsp;an&nbsp;order&nbsp;each&nbsp;year.&nbsp;&nbsp;</span>"
            ],
            "metadata": {
                "azdata_cell_guid": "9a1f6ab8-1b27-46ff-99db-b6136ec93783"
            },
            "attachments": {}
        },
        {
            "cell_type": "code",
            "source": [
                "USE TSQLV4;\r\n",
                "SELECT empid, YEAR(orderdate) AS orderyear\r\n",
                "FROM Sales.Orders\r\n",
                "WHERE custid = 71\r\n",
                "GROUP BY empid, YEAR(orderdate);\r\n",
                "\r\n",
                "USE Northwinds2022TSQLV7\r\n",
                "GO\r\n",
                "SELECT EmployeeId, YEAR (orderDate) AS orderyear\r\n",
                "FROM Sales.[Order]\r\n",
                "WHERE CustomerId = 71\r\n",
                "GROUP BY EmployeeId, YEAR (orderdate)"
            ],
            "metadata": {
                "language": "sql",
                "azdata_cell_guid": "7e4c8612-01bc-4544-9fac-68cd286cc79b"
            },
            "outputs": [],
            "execution_count": null
        },
        {
            "cell_type": "markdown",
            "source": [
                "<span style=\"color: rgb(96, 139, 78);\"><b>The&nbsp;GROUP&nbsp;BY&nbsp;Clause</b></span>\n",
                "\n",
                "<span style=\"color: rgb(96, 139, 78);\">Proposition: I would like to know how many orders various employee placed for customer 71 for each year and the total sales amount.&nbsp;&nbsp;</span>"
            ],
            "metadata": {
                "azdata_cell_guid": "35db59d4-6994-41a5-8f24-a2d4a55e62e4"
            },
            "attachments": {}
        },
        {
            "cell_type": "code",
            "source": [
                "USE TSQLV4;\r\n",
                "SELECT\r\n",
                "  empid,\r\n",
                "  YEAR(orderdate) AS orderyear,\r\n",
                "  SUM(freight) AS totalfreight,\r\n",
                "  COUNT(*) AS numorders\r\n",
                "FROM Sales.Orders\r\n",
                "WHERE custid = 71\r\n",
                "GROUP BY empid, YEAR(orderdate);\r\n",
                "\r\n",
                "USE Northwinds2022TSQLV7\r\n",
                "GO\r\n",
                "SELECT\r\n",
                "  EmployeeId,\r\n",
                "  YEAR(OrderDate) AS orderyear,\r\n",
                "  SUM(Freight) AS totalfreight,\r\n",
                "  COUNT (*) AS numorders\r\n",
                "FROM Sales.[Order]\r\n",
                "WHERE CustomerId = 71\r\n",
                "GROUP BY EmployeeId, YEAR (OrderDate);\r\n",
                ""
            ],
            "metadata": {
                "azdata_cell_guid": "281dd213-c3b8-49c1-aeb0-26dfd9be21d7",
                "language": "sql",
                "tags": []
            },
            "outputs": [],
            "execution_count": null
        },
        {
            "cell_type": "markdown",
            "source": [
                "<span style=\"color: rgb(96, 139, 78);\"><b>The&nbsp;GROUP&nbsp;BY&nbsp;Clause</b></span>\n",
                "\n",
                "<span style=\"color: rgb(96, 139, 78);\">Proposition: I want to know how many unique customers each employee served for each respective year.&nbsp;</span>"
            ],
            "metadata": {
                "azdata_cell_guid": "211840f1-515a-4f78-aa44-3c7b2a1a9550"
            },
            "attachments": {}
        },
        {
            "cell_type": "code",
            "source": [
                "USE TSQLV4;\r\n",
                "SELECT\r\n",
                "    empid,\r\n",
                "    YEAR(orderdate) AS orderyear,\r\n",
                "    COUNT(DISTINCT custid) AS numcusts\r\n",
                "FROM Sales.Orders\r\n",
                "GROUP BY empid, YEAR(orderdate);\r\n",
                "\r\n",
                "USE Northwinds2022TSQLV7\r\n",
                "GO\r\n",
                "SELECT\r\n",
                "    EmployeeId,\r\n",
                "    YEAR (OrderDate) AS orderyear,\r\n",
                "    COUNT (DISTINCT CustomerId) AS numcusts\r\n",
                "FROM Sales.[Order]\r\n",
                "GROUP BY EmployeeId, YEAR (OrderDate);"
            ],
            "metadata": {
                "azdata_cell_guid": "7d696077-ceb0-4d68-83ea-811867816b06",
                "language": "sql",
                "tags": []
            },
            "outputs": [],
            "execution_count": null
        },
        {
            "cell_type": "markdown",
            "source": [
                "<span style=\"color: rgb(106, 153, 85);\"><b>The HAVING Clause</b></span>\n",
                "\n",
                "Proposition: I would like a list of employees who placed at least two orders per year for customer 71."
            ],
            "metadata": {
                "azdata_cell_guid": "29791446-8cdf-4865-8f56-c030dd8511b6"
            },
            "attachments": {}
        },
        {
            "cell_type": "code",
            "source": [
                "USE TSQLV4;\r\n",
                "SELECT empid, YEAR(orderdate) AS orderyear\r\n",
                "FROM Sales.Orders\r\n",
                "WHERE custid = 71\r\n",
                "GROUP BY empid, YEAR(orderdate)\r\n",
                "HAVING COUNT(*) > 1;\r\n",
                "\r\n",
                "USE Northwinds2022TSQLV7\r\n",
                "GO\r\n",
                "SELECT EmployeeId, YEAR (OrderDate) AS orderyear\r\n",
                "FROM Sales.[Order]\r\n",
                "WHERE CustomerId = 71\r\n",
                "GROUP BY EmployeeId, YEAR (OrderDate)\r\n",
                "HAVING COUNT(*) > 1"
            ],
            "metadata": {
                "azdata_cell_guid": "a2a341d6-3ff3-4e7b-9066-ef24d70ba686",
                "language": "sql",
                "tags": []
            },
            "outputs": [],
            "execution_count": null
        },
        {
            "cell_type": "markdown",
            "source": [
                "**The SELECT Clause**\n",
                "\n",
                "Proposition: I would like a list of orders that was placed after year 2015."
            ],
            "metadata": {
                "azdata_cell_guid": "991820a8-31a5-4f21-a584-062d7403784f"
            },
            "attachments": {}
        },
        {
            "cell_type": "code",
            "source": [
                "USE TSQLV4;\r\n",
                "SELECT orderid, YEAR(orderdate) AS orderyear\r\n",
                "FROM Sales.Orders\r\n",
                "WHERE YEAR(orderdate) > 2015;\r\n",
                "\r\n",
                "USE Northwinds2022TSQLV7\r\n",
                "GO\r\n",
                "SELECT OrderId, YEAR(OrderDate) AS orderyear\r\n",
                "FROM Sales.[Order]\r\n",
                "WHERE YEAR (orderdate) > 2015;"
            ],
            "metadata": {
                "azdata_cell_guid": "2643a108-f7d9-4658-91ec-b21f0e03299c",
                "language": "sql"
            },
            "outputs": [],
            "execution_count": null
        },
        {
            "cell_type": "markdown",
            "source": [
                "**The SELECT Clause**\n",
                "\n",
                "Listing 2-2: Query Returning Duplicate Rows\n",
                "\n",
                "Proposition: I would like a list of employees who helped place an order for customer 71 for each year.  \n",
                "\n",
                "This could query could result in duplicate rows since an employee can place more than one order in a given year."
            ],
            "metadata": {
                "azdata_cell_guid": "8ff60684-8f9b-4396-a346-22a9f03d5096"
            },
            "attachments": {}
        },
        {
            "cell_type": "code",
            "source": [
                "USE TSQLV4;\r\n",
                "SELECT empid, YEAR(orderdate) AS orderyear\r\n",
                "FROM Sales.Orders\r\n",
                "WHERE custid = 71;\r\n",
                "\r\n",
                "USE Northwinds2022TSQLV7\r\n",
                "GO\r\n",
                "SELECT EmployeeId, YEAR (orderdate) AS orderyear\r\n",
                "FROM Sales. [Order]\r\n",
                "WHERE CustomerId = 71;"
            ],
            "metadata": {
                "azdata_cell_guid": "75b60b99-cc2c-40e6-b63d-df75e12c05fc",
                "language": "sql",
                "tags": []
            },
            "outputs": [],
            "execution_count": null
        },
        {
            "cell_type": "markdown",
            "source": [
                "**The SELECT Clause**\n",
                "\n",
                "Listing 2-3: Query with a DISTINCT Clause\n",
                "\n",
                "Proposition: I would like a list of unique employees who helped place an order for customer 71 for each year.  \n",
                "\n",
                "This could query would remove the duplicate rows."
            ],
            "metadata": {
                "language": "sql",
                "azdata_cell_guid": "edb6398f-b602-4ff3-bb9f-a308d858927d"
            },
            "attachments": {}
        },
        {
            "cell_type": "code",
            "source": [
                "USE TSQLV4;\r\n",
                "SELECT DISTINCT empid, YEAR(orderdate) AS orderyear\r\n",
                "FROM Sales.Orders\r\n",
                "WHERE custid = 71;\r\n",
                "\r\n",
                "USE Northwinds2022TSQLV7\r\n",
                "GO\r\n",
                "SELECT DISTINCT EmployeeId, YEAR (orderdate) AS orderyear\r\n",
                "FROM Sales.[Order]\r\n",
                "WHERE CustomerId= 71;"
            ],
            "metadata": {
                "language": "sql",
                "azdata_cell_guid": "f2404c35-9439-4a7a-b7f2-5dacc7b3bccf"
            },
            "outputs": [],
            "execution_count": null
        },
        {
            "cell_type": "markdown",
            "source": [
                "**THE SELECT Clause**\n",
                "\n",
                "Proposition: I would like a list of all shippers with all attributes related to each shipper.\n",
                "\n",
                "This shows the use of  \\* - it displays all the columns in the given table. It is normally not recommended to use wildcard unless the data size is small. In this case, the data size is small."
            ],
            "metadata": {
                "language": "sql",
                "azdata_cell_guid": "eae4f815-457a-42eb-af50-70381f6b2460"
            },
            "attachments": {}
        },
        {
            "cell_type": "code",
            "source": [
                "USE TSQLV4;\r\n",
                "SELECT *\r\n",
                "FROM Sales.Shippers;\r\n",
                "\r\n",
                "USE Northwinds2022TSQLV7\r\n",
                "GO\r\n",
                "SELECT *\r\n",
                "FROM Sales.[Shipper]\r\n",
                ""
            ],
            "metadata": {
                "language": "sql",
                "azdata_cell_guid": "582346b3-b8db-4c00-bef2-0315ce9cfa62"
            },
            "outputs": [],
            "execution_count": null
        },
        {
            "cell_type": "markdown",
            "source": [
                "**The SELECT Clause**\n",
                "\n",
                "Proposition: I would like a list of all orders, the year the order was placed, and the following year after the order was placed. \n",
                "\n",
                "This query shows that we can use arithmetic with the columns."
            ],
            "metadata": {
                "language": "sql",
                "azdata_cell_guid": "4f931954-55d2-4f6f-a3d0-ef07fe9d9007"
            },
            "attachments": {}
        },
        {
            "cell_type": "code",
            "source": [
                "USE TSQLV4;\r\n",
                "SELECT orderid,\r\n",
                "  YEAR(orderdate) AS orderyear,\r\n",
                "  YEAR(orderdate) + 1 AS nextyear\r\n",
                "FROM Sales.Orders;\r\n",
                "\r\n",
                "USE Northwinds2022TSQLV7\r\n",
                "GO\r\n",
                "SELECT OrderId,\r\n",
                "    YEAR (OrderDate) AS orderyear,\r\n",
                "    YEAR (OrderDate) + 1 AS nextyear\r\n",
                "FROM Sales.[Order];"
            ],
            "metadata": {
                "language": "sql",
                "azdata_cell_guid": "33bebb2f-fa30-42f9-a3ed-5e3461fb8715",
                "tags": []
            },
            "outputs": [],
            "execution_count": null
        },
        {
            "cell_type": "markdown",
            "source": [
                "**The ORDER BY Clause**\n",
                "\n",
                "Proposition: I would like to know how many orders each employee placed per year for the customer 71, if they helped this customer AND if they placed at least 2 orders for this customer that year. \n",
                "\n",
                "Notice that I can use the alias in ORDER BY because it is called after SELECT.\n",
                "\n",
                "WHERE Custid = 71 eliminates all other employees who did not help this customer."
            ],
            "metadata": {
                "azdata_cell_guid": "80b7d699-35cb-433e-8a6b-56a55ef7e3f3"
            },
            "attachments": {}
        },
        {
            "cell_type": "code",
            "source": [
                "USE TSQLV4;\r\n",
                "SELECT empid, YEAR(orderdate) AS orderyear, COUNT(*) AS numorders\r\n",
                "FROM Sales.Orders\r\n",
                "WHERE custid = 71\r\n",
                "GROUP BY empid, YEAR(orderdate)\r\n",
                "HAVING COUNT(*) > 1\r\n",
                "ORDER BY empid, orderyear;\r\n",
                "\r\n",
                "USE Northwinds2022TSQLV7\r\n",
                "GO\r\n",
                "SELECT EmployeeId, YEAR (OrderDate) AS orderyear, COUNT (*) AS numorders\r\n",
                "FROM Sales.[Order]\r\n",
                "WHERE CustomerId = 71\r\n",
                "GROUP BY EmployeeId, YEAR (orderdate)\r\n",
                "HAVING COUNT (*) > 1\r\n",
                "ORDER BY EmployeeId, orderyear;\r\n",
                ""
            ],
            "metadata": {
                "azdata_cell_guid": "8eb75c52-8d26-46f2-93ca-840ff7121bf5",
                "language": "sql",
                "tags": []
            },
            "outputs": [],
            "execution_count": null
        },
        {
            "cell_type": "markdown",
            "source": [
                "The ORDER BY Clause\n",
                "\n",
                "Proposition: I would like a list of employee ID, firstname, lastname, and country ordered by the oldest hiredate."
            ],
            "metadata": {
                "language": "sql",
                "azdata_cell_guid": "0733f145-c570-4c4e-be6e-63b1f83f0713"
            },
            "attachments": {}
        },
        {
            "cell_type": "code",
            "source": [
                "USE TSQLV4;\r\n",
                "SELECT empid, firstname, lastname, country\r\n",
                "FROM HR.Employees\r\n",
                "ORDER BY hiredate;\r\n",
                "\r\n",
                "USE Northwinds2022TSQLV7\r\n",
                "GO\r\n",
                "SELECT EmployeeId, EmployeeFirstName, EmployeeLastName, EmployeeCountry\r\n",
                "FROM HumanResources.Employee\r\n",
                "ORDER BY HireDate;"
            ],
            "metadata": {
                "language": "sql",
                "azdata_cell_guid": "b174abce-a3c3-4b7d-8e44-893325009519",
                "tags": []
            },
            "outputs": [],
            "execution_count": null
        },
        {
            "cell_type": "markdown",
            "source": [
                "**The TOP Filter**\n",
                "\n",
                "Proposition: I would like the last 5 orders that was placed along with the orderid, orderdate, customerid, and employee who worked on the order.\n",
                "\n",
                "Notice that when there are the same dates, the order of the rows is not always guaranteed. So the first and the second queries are not the same. May need to use OrderId as a tiebreaker."
            ],
            "metadata": {
                "language": "sql",
                "azdata_cell_guid": "cf98b97c-0c17-4593-91fe-f700a4b528ed"
            },
            "attachments": {}
        },
        {
            "cell_type": "code",
            "source": [
                "USE TSQLV4;\r\n",
                "SELECT TOP (5) orderid, orderdate, custid, empid\r\n",
                "FROM Sales.Orders\r\n",
                "ORDER BY orderdate DESC;\r\n",
                "\r\n",
                "USE Northwinds2022TSQLV7\r\n",
                "GO\r\n",
                "SELECT TOP (5) OrderId, OrderDate, CustomerId, EmployeeId\r\n",
                "FROM Sales.[Order]\r\n",
                "ORDER BY OrderDate DESC;\r\n",
                ""
            ],
            "metadata": {
                "language": "sql",
                "azdata_cell_guid": "7f52fc5e-b3d6-4702-95f1-18120a1d2578"
            },
            "outputs": [],
            "execution_count": null
        },
        {
            "cell_type": "markdown",
            "source": [
                "**The TOP Filter - PERCENT**\n",
                "\n",
                "Proposition: I would like the 1 % of the orders that was placed recently along with orderid, orderdate, customerid, and employee who worked on the order."
            ],
            "metadata": {
                "language": "sql",
                "azdata_cell_guid": "a1d11a5c-ec2a-40e8-b085-05cfa9eab141"
            },
            "attachments": {}
        },
        {
            "cell_type": "code",
            "source": [
                "USE TSQLV4;\r\n",
                "SELECT TOP (1) PERCENT orderid, orderdate, custid, empid\r\n",
                "FROM Sales.Orders\r\n",
                "ORDER BY orderdate DESC;\r\n",
                "\r\n",
                "USE Northwinds2022TSQLV7\r\n",
                "GO\r\n",
                "SELECT TOP (1) PERCENT OrderId, OrderDate, CustomerId, EmployeeId\r\n",
                "FROM Sales.[Order]\r\n",
                "ORDER BY OrderDate DESC;"
            ],
            "metadata": {
                "language": "sql",
                "azdata_cell_guid": "a61374dc-f69d-448a-96f8-60bbac4e0088"
            },
            "outputs": [],
            "execution_count": null
        },
        {
            "cell_type": "markdown",
            "source": [
                "**The TOP FILTER - Unique ORDER BY List with a Tiebreaker**\n",
                "\n",
                "Proposition: I would like the last 5 orders that was placed along with the orderid, orderdate, customerid, and employee who worked on the order.\n",
                "\n",
                "There are orders with the same date. In that case, OrderId DESC was used as a tiebreaker. This guarantees that the query will bring the same results or \"deterministic.\""
            ],
            "metadata": {
                "azdata_cell_guid": "4758b7a5-c577-49b6-a753-0e7e97a37b9c"
            },
            "attachments": {}
        },
        {
            "cell_type": "code",
            "source": [
                "USE TSQLV4;\r\n",
                "SELECT TOP (5) orderid, orderdate, custid, empid\r\n",
                "FROM Sales.Orders\r\n",
                "ORDER BY orderdate DESC, orderid DESC;\r\n",
                "\r\n",
                "USE Northwinds2022TSQLV7\r\n",
                "GO\r\n",
                "SELECT TOP (5) OrderId, OrderDate, CustomerId, EmployeeId\r\n",
                "FROM Sales.[Order]\r\n",
                "ORDER BY OrderDate DESC, OrderId DESC;"
            ],
            "metadata": {
                "azdata_cell_guid": "12379dda-1899-4967-a14c-1f1cb0bd2dba",
                "language": "sql",
                "tags": []
            },
            "outputs": [],
            "execution_count": null
        },
        {
            "cell_type": "markdown",
            "source": [
                "**The Top Filter - WITH TIES**\n",
                "\n",
                "Proposition: I would like the last 5 orders that was placed along with the orderid, orderdate, customerid, and employee who worked on the order. Please include the orders whose dates are the same as the last order out of the 5. \n",
                "\n",
                "In addition to the five rows, you get back all other rows from the table that have the same sort value as the last one found (in this case it is the date, 05/05/2016)"
            ],
            "metadata": {
                "language": "sql",
                "azdata_cell_guid": "5b2d505f-c6b6-49a6-91b5-4306ec6fe7ab"
            },
            "attachments": {}
        },
        {
            "cell_type": "code",
            "source": [
                "USE TSQLV4;\r\n",
                "SELECT TOP (5) WITH TIES orderid, orderdate, custid, empid\r\n",
                "FROM Sales.Orders\r\n",
                "ORDER BY orderdate DESC;\r\n",
                "\r\n",
                "USE Northwinds2022TSQLV7\r\n",
                "GO\r\n",
                "SELECT TOP (5) WITH TIES OrderId, OrderDate, CustomerId, EmployeeId\r\n",
                "FROM Sales.[Order]\r\n",
                "ORDER BY OrderDate DESC;"
            ],
            "metadata": {
                "language": "sql",
                "azdata_cell_guid": "85471e59-3285-428a-92d3-f1d787ef547f"
            },
            "outputs": [],
            "execution_count": null
        },
        {
            "cell_type": "markdown",
            "source": [
                "**OFFSET-FETCH Filter**\n",
                "\n",
                "  \n",
                "\n",
                "Proposition: I would like the first 25 orders placed. Please skip the first 50."
            ],
            "metadata": {
                "language": "sql",
                "azdata_cell_guid": "79840303-d4bb-4f7e-8c3c-6e29f333351c"
            },
            "attachments": {}
        },
        {
            "cell_type": "code",
            "source": [
                "USE TSQLV4;\r\n",
                "SELECT orderid, orderdate, custid, empid\r\n",
                "FROM Sales.Orders\r\n",
                "ORDER BY orderdate, orderid\r\n",
                "OFFSET 50 ROWS FETCH NEXT 25 ROWS ONLY;\r\n",
                "\r\n",
                "USE Northwinds2022TSQLV7\r\n",
                "GO\r\n",
                "SELECT OrderId, OrderDate, CustomerId, EmployeeId\r\n",
                "FROM Sales.[Order]\r\n",
                "ORDER BY OrderDate, OrderId\r\n",
                "OFFSET 50 ROWS FETCH NEXT 25 ROWS ONLY;"
            ],
            "metadata": {
                "language": "sql",
                "azdata_cell_guid": "c01ccfcc-02c3-44b4-9ba8-575f6bf6f066",
                "tags": []
            },
            "outputs": [],
            "execution_count": null
        },
        {
            "cell_type": "markdown",
            "source": [
                "**<mark>Window Function: Row\\_Number()</mark>**\n",
                "\n",
                "Proposition: I would like to lable each order within each customer's orders. The order with the lowest value would receive the first number."
            ],
            "metadata": {
                "azdata_cell_guid": "1964f598-1c9b-4809-a613-3a6ad5ba7bb8"
            },
            "attachments": {}
        },
        {
            "cell_type": "code",
            "source": [
                "USE TSQLV4;\r\n",
                "SELECT orderid, custid, val,\r\n",
                "    ROW_NUMBER() OVER(PARTITION BY custid\r\n",
                "                    ORDER BY val) AS rownum\r\n",
                "FROM Sales.OrderValues\r\n",
                "ORDER BY custid, val;\r\n",
                "\r\n",
                "\r\n",
                "USE Northwinds2022TSQLV7\r\n",
                "GO\r\n",
                "SELECT OrderId, CustomerId, Val,\r\n",
                "    ROW_NUMBER () OVER (PARTITION BY CustomerId\r\n",
                "                        ORDER BY Val) AS rownum\r\n",
                "FROM Sales.[OrderValue]\r\n",
                "\r\n",
                ""
            ],
            "metadata": {
                "azdata_cell_guid": "46dca679-96cc-400e-8ab1-b43c8cc9bbb2",
                "language": "sql",
                "tags": [
                    "hide_input"
                ]
            },
            "outputs": [],
            "execution_count": null
        },
        {
            "cell_type": "markdown",
            "source": [
                "**Predicate: IN**\n",
                "\n",
                "Proposition: I would like the list of dates and employees who worked on the following orders: 10248, 10249, 10250.\n",
                "\n",
                "IN allows you to include multiple values in the query."
            ],
            "metadata": {
                "language": "sql",
                "azdata_cell_guid": "c4eeedcf-3a44-4b72-a4f3-41639eff39fb"
            },
            "attachments": {}
        },
        {
            "cell_type": "code",
            "source": [
                "USE TSQLV4;\r\n",
                "SELECT orderid, empid, orderdate\r\n",
                "FROM Sales.Orders\r\n",
                "WHERE orderid IN(10248, 10249, 10250);\r\n",
                "\r\n",
                "USE Northwinds2022TSQLV7\r\n",
                "GO\r\n",
                "SELECT OrderId, EmployeeId, OrderDate\r\n",
                "FROM Sales.[Order]\r\n",
                "WHERE OrderId IN (10248, 10249, 10250);"
            ],
            "metadata": {
                "language": "sql",
                "azdata_cell_guid": "7c157c98-76ea-42d7-b071-1cbff4244736",
                "tags": []
            },
            "outputs": [],
            "execution_count": null
        },
        {
            "cell_type": "markdown",
            "source": [
                "**Predicate: BETWEEN**\n",
                "\n",
                "Proposition: I would like the list of dates and employees who worked on the orders 10300 through 10310.\n",
                "\n",
                "BETWEEN allows you to specify a range."
            ],
            "metadata": {
                "language": "sql",
                "azdata_cell_guid": "0bd3a417-bb96-43b3-ad11-b4c664ad4fb4"
            },
            "attachments": {}
        },
        {
            "cell_type": "code",
            "source": [
                "USE TSQLV4;\r\n",
                "SELECT orderid, empid, orderdate\r\n",
                "FROM Sales.Orders\r\n",
                "WHERE orderid BETWEEN 10300 AND 10310;\r\n",
                "\r\n",
                "USE Northwinds2022TSQLV7\r\n",
                "GO\r\n",
                "SELECT OrderId, EmployeeId, OrderDate\r\n",
                "FROM Sales.[Order]\r\n",
                "WHERE OrderId BETWEEN 10300 AND 10310;"
            ],
            "metadata": {
                "language": "sql",
                "azdata_cell_guid": "bbbdd0f1-441f-4a93-b8af-f7cd4c5f6d9b"
            },
            "outputs": [],
            "execution_count": null
        },
        {
            "cell_type": "markdown",
            "source": [
                "**Predicate: LIKE**\n",
                "\n",
                "Proposition: I would like a list of first and last name of all employees whose last name starts with 'D.'"
            ],
            "metadata": {
                "language": "sql",
                "azdata_cell_guid": "2adfd694-d8ab-40a1-9c70-409ace5e9290"
            },
            "attachments": {}
        },
        {
            "cell_type": "code",
            "source": [
                "USE TSQLV4;\r\n",
                "SELECT empid, firstname, lastname\r\n",
                "FROM HR.Employees\r\n",
                "WHERE lastname LIKE N'D%';\r\n",
                "\r\n",
                "USE Northwinds2022TSQLV7\r\n",
                "GO\r\n",
                "SELECT EmployeeId, EmployeeFirstName, EmployeeLastName\r\n",
                "FROM HumanResources.Employee\r\n",
                "WHERE EmployeeLastName LIKE N'D%'\r\n",
                ""
            ],
            "metadata": {
                "language": "sql",
                "azdata_cell_guid": "b38ae297-1d48-40fd-974c-b5faa021eab8",
                "tags": []
            },
            "outputs": [],
            "execution_count": null
        },
        {
            "cell_type": "markdown",
            "source": [
                "**Comparison Operator: =**\n",
                "\n",
                "Proposition: I would like a list of all orders and employee ID, and order dates from the orders placed on and after 01/01/2016."
            ],
            "metadata": {
                "language": "sql",
                "azdata_cell_guid": "d7713c70-fb39-46a9-8f0b-c72be841e92c"
            },
            "attachments": {}
        },
        {
            "cell_type": "code",
            "source": [
                "USE TSQLV4;\r\n",
                "SELECT orderid, empid, orderdate\r\n",
                "FROM Sales.Orders\r\n",
                "WHERE orderdate >= '20160101';\r\n",
                "\r\n",
                "USE Northwinds2022TSQLV7\r\n",
                "GO\r\n",
                "SELECT OrderId, EmployeeId, OrderDate\r\n",
                "FROM Sales.[Order]\r\n",
                "WHERE OrderDate >= '20160101';"
            ],
            "metadata": {
                "language": "sql",
                "azdata_cell_guid": "f8d53c7e-ab7f-4cc0-b264-988f4644eb96"
            },
            "outputs": [],
            "execution_count": null
        },
        {
            "cell_type": "markdown",
            "source": [
                "**Logical Operator: AND**\n",
                "\n",
                "Proposition: I would like a list of orders placed after 01/01/2016 by the following employees: 1, 3, 5."
            ],
            "metadata": {
                "language": "sql",
                "azdata_cell_guid": "7b493721-e557-4272-8e59-ef6da0861540"
            },
            "attachments": {}
        },
        {
            "cell_type": "code",
            "source": [
                "USE TSQLV4;\r\n",
                "SELECT orderid, empid, orderdate\r\n",
                "FROM Sales.Orders\r\n",
                "WHERE orderdate >= '20160101'\r\n",
                "  AND empid IN(1, 3, 5);\r\n",
                "\r\n",
                "USE Northwinds2022TSQLV7\r\n",
                "GO\r\n",
                "SELECT OrderId, EmployeeId, OrderDate\r\n",
                "FROM Sales.[Order]\r\n",
                "WHERE OrderDate >= '20160101'\r\n",
                "    AND EMployeeId IN (1, 3, 5);"
            ],
            "metadata": {
                "language": "sql",
                "azdata_cell_guid": "a7236cb3-28bc-4fde-bf58-7ce6ccfceea8"
            },
            "outputs": [],
            "execution_count": null
        },
        {
            "cell_type": "markdown",
            "source": [
                "**Arithmetic Operator: \\*, -**\n",
                "\n",
                "Proposition: I would like a list of orders with a discounted price."
            ],
            "metadata": {
                "language": "sql",
                "azdata_cell_guid": "fc18fec5-6062-48ee-8ed6-be304c5c3e8f"
            },
            "attachments": {}
        },
        {
            "cell_type": "code",
            "source": [
                "USE TSQLV4;\r\n",
                "SELECT orderid, productid, qty, unitprice, discount,\r\n",
                "  qty * unitprice * (1 - discount) AS val\r\n",
                "FROM Sales.OrderDetails;\r\n",
                "\r\n",
                "USE Northwinds2022TSQLV7\r\n",
                "GO\r\n",
                "SELECT OrderId, ProductId, Quantity, UnitPrice, DiscountPercentage,\r\n",
                "    Quantity * UnitPrice * (1- DiscountPercentage) AS val\r\n",
                "FROM Sales.OrderDetail;\r\n",
                ""
            ],
            "metadata": {
                "language": "sql",
                "azdata_cell_guid": "3873235c-f78f-44e2-9dda-3aed801b2ee3"
            },
            "outputs": [],
            "execution_count": null
        },
        {
            "cell_type": "markdown",
            "source": [
                "**Operator Precedence: AND Precedes OR**\n",
                "\n",
                "Proposition: I would like a list of orders  for customers 85 or 1 placed by employees 1, 3, 5 and 2, 4, 6. \n",
                "\n",
                "Note that the following query can be ambiguous. However, the operator precedences removes the ambiguity. Still, it is best to use brackets to ensure clarity for others working with this query."
            ],
            "metadata": {
                "language": "sql",
                "azdata_cell_guid": "7b9a55fc-2429-4515-93e2-fbe664449e59"
            },
            "attachments": {}
        },
        {
            "cell_type": "code",
            "source": [
                "USE TSQLV4;\r\n",
                "SELECT orderid, custid, empid, orderdate\r\n",
                "FROM Sales.Orders\r\n",
                "WHERE\r\n",
                "        custid = 1\r\n",
                "    AND empid IN(1, 3, 5)\r\n",
                "    OR  custid = 85\r\n",
                "    AND empid IN(2, 4, 6);\r\n",
                "\r\n",
                "\r\n",
                "\r\n",
                "USE Northwinds2022TSQLV7\r\n",
                "GO\r\n",
                "SELECT OrderId, CustomerId, EmployeeId, OrderDate\r\n",
                "FROM Sales.[Order]\r\n",
                "WHERE\r\n",
                "        ( CustomerId = 1 AND EmployeeID IN(1,3,5))\r\n",
                "        OR\r\n",
                "        (CustomerId = 85 AND EmployeeId IN (2, 4, 6));"
            ],
            "metadata": {
                "language": "sql",
                "azdata_cell_guid": "10351e9b-5ae0-4573-9f51-363f215422b6",
                "tags": []
            },
            "outputs": [],
            "execution_count": null
        },
        {
            "cell_type": "markdown",
            "source": [
                "**Operator Precedence: \\* precedes +**\n",
                "\n",
                "  \n",
                "\n",
                "Proposition. Please add 10 and 2. Then multiply the result by 3. \n",
                "\n",
                "The latter query is the correct one because () ensures the precedence of the operator it encloses."
            ],
            "metadata": {
                "language": "sql",
                "azdata_cell_guid": "88e32505-ae77-4779-8e70-448841027246"
            },
            "attachments": {}
        },
        {
            "cell_type": "code",
            "source": [
                "SELECT 10 + 2 * 3   -- 16\r\n",
                "\r\n",
                "SELECT (10 + 2) * 3 -- 36"
            ],
            "metadata": {
                "language": "sql",
                "azdata_cell_guid": "a1465a14-4420-491c-a30a-d5ed24817f54"
            },
            "outputs": [],
            "execution_count": null
        },
        {
            "cell_type": "markdown",
            "source": [
                "**CASE Expression- Simple**\n",
                "\n",
                "Proposition: Please display the category of the product for each respective category ID."
            ],
            "metadata": {
                "language": "sql",
                "azdata_cell_guid": "521c0ba7-e2aa-48d4-9368-8a86e860859d"
            },
            "attachments": {}
        },
        {
            "cell_type": "code",
            "source": [
                "USE TSQLV4;\r\n",
                "SELECT productid, productname, categoryid,\r\n",
                "  CASE categoryid\r\n",
                "    WHEN 1 THEN 'Beverages'\r\n",
                "    WHEN 2 THEN 'Condiments'\r\n",
                "    WHEN 3 THEN 'Confections'\r\n",
                "    WHEN 4 THEN 'Dairy Products'\r\n",
                "    WHEN 5 THEN 'Grains/Cereals'\r\n",
                "    WHEN 6 THEN 'Meat/Poultry'\r\n",
                "    WHEN 7 THEN 'Produce'\r\n",
                "    WHEN 8 THEN 'Seafood'\r\n",
                "    ELSE 'Unknown Category'\r\n",
                "  END AS categoryname\r\n",
                "FROM Production.Products;\r\n",
                "\r\n",
                "USE Northwinds2022TSQLV7\r\n",
                "GO\r\n",
                "SELECT ProductId, ProductName, CategoryId,\r\n",
                "  CASE CategoryId\r\n",
                "    WHEN 1 THEN 'Beverages'\r\n",
                "    WHEN 2 THEN 'Condiments'\r\n",
                "    WHEN 3 THEN 'Confections'\r\n",
                "    WHEN 4 THEN 'Dairy Products'\r\n",
                "    WHEN 5 THEN 'Grains/Cereals'\r\n",
                "    WHEN 6 THEN 'Meat/Poultry'\r\n",
                "    WHEN 7 THEN 'Produce'\r\n",
                "    WHEN 8 THEN 'Seafood'\r\n",
                "    ELSE 'Unknown Category'\r\n",
                "  END AS categoryname\r\n",
                "FROM Production.Product;"
            ],
            "metadata": {
                "language": "sql",
                "azdata_cell_guid": "3798c514-4a08-4ab2-9b52-32e9b0a395a1"
            },
            "outputs": [],
            "execution_count": null
        },
        {
            "cell_type": "markdown",
            "source": [
                "**CASE Expression - Searched**\n",
                "\n",
                "Proposition: Please display the respective ranges using words for each value."
            ],
            "metadata": {
                "language": "sql",
                "azdata_cell_guid": "055fcafa-c7f7-4419-88de-a727909a06b6"
            },
            "attachments": {}
        },
        {
            "cell_type": "code",
            "source": [
                "USE TSQLV4;\r\n",
                "SELECT orderid, custid, val,\r\n",
                "  CASE \r\n",
                "    WHEN val < 1000.00                   THEN 'Less than 1000'\r\n",
                "    WHEN val BETWEEN 1000.00 AND 3000.00 THEN 'Between 1000 and 3000'\r\n",
                "    WHEN val > 3000.00                   THEN 'More than 3000'\r\n",
                "    ELSE 'Unknown'\r\n",
                "  END AS valuecategory\r\n",
                "FROM Sales.OrderValues;\r\n",
                "\r\n",
                "USE Northwinds2022TSQLV7\r\n",
                "GO\r\n",
                "SELECT orderid, custid, val,\r\n",
                "  CASE \r\n",
                "    WHEN val < 1000.00                   THEN 'Less than 1000'\r\n",
                "    WHEN val BETWEEN 1000.00 AND 3000.00 THEN 'Between 1000 and 3000'\r\n",
                "    WHEN val > 3000.00                   THEN 'More than 3000'\r\n",
                "    ELSE 'Unknown'\r\n",
                "  END AS valuecategory\r\n",
                "FROM Sales.OrderValue;"
            ],
            "metadata": {
                "language": "sql",
                "azdata_cell_guid": "721157ab-8a87-44f8-a816-b09027d357bf"
            },
            "outputs": [],
            "execution_count": null
        },
        {
            "cell_type": "markdown",
            "source": [
                "**NULLS**\n",
                "\n",
                "Proposition: I would like a list of all customers who do not live in Washington state. Be sure to include customers whose state column is missing.\n",
                "\n",
                "The following queries demonstrate the three-valued logic (T, F, and NULL)."
            ],
            "metadata": {
                "language": "sql",
                "azdata_cell_guid": "288a92e8-a164-45ed-9c72-fef16abb6590"
            },
            "attachments": {}
        },
        {
            "cell_type": "code",
            "source": [
                "\r\n",
                "USE TSQLV4;\r\n",
                "\r\n",
                "/*\r\n",
                "This query will return the list of customers who live in WA.\r\n",
                "\r\n",
                "SELECT custid, country, region, city\r\n",
                "FROM Sales.Customers\r\n",
                "WHERE region = N'WA';\r\n",
                "\r\n",
                "\r\n",
                "This query will return the list of customers who do not live in WA. It will exclude the customers whose residence field is empty (NULL) or unknown.\r\n",
                "The query filter only accepts TRUE. Both UNKNOWN and NULL will be rejected.\r\n",
                "\r\n",
                "SELECT custid, country, region, city\r\n",
                "FROM Sales.Customers\r\n",
                "WHERE region <> N'WA';\r\n",
                "   \r\n",
                "This query will return an empty set. region = NULL evaluates to UNKNOWN. \r\n",
                "\r\n",
                "SELECT custid, country, region, city\r\n",
                "FROM Sales.Customers\r\n",
                "WHERE region = NULL;\r\n",
                "\r\n",
                "This query will return a list of customers whose region field is NULL or empty. \r\n",
                "\r\n",
                "SELECT custid, country, region, city\r\n",
                "FROM Sales.Customers\r\n",
                "WHERE region IS NULL;\r\n",
                "*/\r\n",
                "\r\n",
                "--This query satisfies the proposition above. \r\n",
                "SELECT custid, country, region, city\r\n",
                "FROM Sales.Customers\r\n",
                "WHERE region <> N'WA'\r\n",
                "   OR region IS NULL;\r\n",
                "\r\n",
                "USE Northwinds2022TSQLV7\r\n",
                "GO\r\n",
                "SELECT CustomerId, CustomerCountry, CustomerRegion, CustomerCity\r\n",
                "FROM Sales.Customer\r\n",
                "WHERE CustomerRegion <> N'WA'\r\n",
                "   OR CustomerRegion IS NULL;\r\n",
                ""
            ],
            "metadata": {
                "language": "sql",
                "azdata_cell_guid": "3f594598-5143-4777-af0b-0bd4ec5da477",
                "tags": []
            },
            "outputs": [],
            "execution_count": null
        },
        {
            "cell_type": "markdown",
            "source": [
                "**All-At-Once Operations**\n",
                "\n",
                "All expressions that appera in the same logical query processing phase are evaluated at the same point in time."
            ],
            "metadata": {
                "azdata_cell_guid": "1116881e-bab6-4e00-998b-c46da49ada27"
            },
            "attachments": {}
        },
        {
            "cell_type": "code",
            "source": [
                "\r\n",
                "/*\r\n",
                "The following query is invalid. Alias cannot be used to refer to another column since there is no guarantee that the column with the alias will be processed first. \r\n",
                "SELECT \r\n",
                "  orderid, \r\n",
                "  YEAR(orderdate) AS orderyear, \r\n",
                "  orderyear + 1 AS nextyear\r\n",
                "FROM Sales.Orders;\r\n",
                "*/\r\n",
                "\r\n",
                "/*\r\n",
                "col2/col1 > 2 can be evaluated before col1 <> 0. This query may result in error. \r\n",
                "SELECT col1, col2\r\n",
                "FROM dbo.T1\r\n",
                "WHERE col1 <> 0 AND col2/col1 > 2;\r\n",
                "*/\r\n",
                "\r\n",
                "/*\r\n",
                "--This query is a work-around using the CASE Expression. \r\n",
                "SELECT col1, col2\r\n",
                "FROM dbo.T1\r\n",
                "WHERE\r\n",
                "  CASE\r\n",
                "    WHEN col1 = 0 THEN 'no' -- or 'yes' if row should be returned\r\n",
                "    WHEN col2/col1 > 2 THEN 'yes'\r\n",
                "    ELSE 'no'\r\n",
                "  END = 'yes';\r\n",
                "\r\n",
                "\r\n",
                "/*\r\n",
                "SELECT col1, col2\r\n",
                "FROM dbo.T1\r\n",
                "WHERE (col1 > 0 AND col2 > 2*col1) OR (col1 < 0 AND col2 < 2*col1); \r\n",
                "*/"
            ],
            "metadata": {
                "azdata_cell_guid": "72554b71-fd0b-4b05-b748-2246e3e71a7c",
                "language": "sql"
            },
            "outputs": [],
            "execution_count": null
        },
        {
            "cell_type": "markdown",
            "source": [
                "**Character Data: Collation**\n",
                "\n",
                "Collation is a property of character data that encapsulates several aspects: language support, sort order, case sensitivity, accent sensitity, and more.\n",
                "\n",
                "Proposition: I would like a list of employees whose lastname is davis with a lowercase letter."
            ],
            "metadata": {
                "language": "sql",
                "azdata_cell_guid": "f357a6f9-74ac-41f8-bdc2-a5cbb399b107"
            },
            "attachments": {}
        },
        {
            "cell_type": "code",
            "source": [
                "--This query returns a list of supported collations and their descriptions. \r\n",
                "\r\n",
                "SELECT name, description\r\n",
                "FROM sys.fn_helpcollations();\r\n",
                "\r\n",
                "-- This query returns the employee whose lastname is davis. This query is not sensitive to the fact that davis is lower-case.\r\n",
                "USE TSQLV4;\r\n",
                "SELECT empid, firstname, lastname\r\n",
                "FROM HR.Employees\r\n",
                "WHERE lastname = N'davis';\r\n",
                "\r\n",
                "USE Northwinds2022TSQLV7\r\n",
                "GO\r\n",
                "SELECT EmployeeId, EmployeeFirstName, EmployeeLastName\r\n",
                "FROM HumanResources.Employee\r\n",
                "WHERE EmployeeLastName = N'davis';\r\n",
                "\r\n",
                "-- This query returns None. This query is sensitive to the fact that davis is lower-case. No employee in the database has a lastname davis with lowercase. \r\n",
                "USE TSQLV4;\r\n",
                "SELECT empid, firstname, lastname\r\n",
                "FROM HR.Employees\r\n",
                "WHERE lastname COLLATE Latin1_General_CS_AS = N'davis';\r\n",
                "\r\n",
                "USE Northwinds2022TSQLV7\r\n",
                "GO\r\n",
                "SELECT EmployeeId, EmployeeFirstName, EmployeeLastName\r\n",
                "FROM HumanResources.Employee\r\n",
                "WHERE EmployeeLastName COLLATE LATIN1_GENERAL_CS_AS= N'davis';"
            ],
            "metadata": {
                "language": "sql",
                "azdata_cell_guid": "70c5288e-0a1c-43be-a2b9-ab3c9cc12606"
            },
            "outputs": [],
            "execution_count": null
        },
        {
            "cell_type": "markdown",
            "source": [
                "**Character Data: Operators and Functions**\n",
                "\n",
                "Proposition: I would like to receive a list of employees with their full names.\n",
                "\n",
                "Proposition: I would like to see a list of customers' address with a column that combines country, region, and city."
            ],
            "metadata": {
                "language": "sql",
                "azdata_cell_guid": "63d2d32c-4436-4410-a3bc-0e2b28f1c0c7"
            },
            "attachments": {}
        },
        {
            "cell_type": "code",
            "source": [
                "\r\n",
                "-- Concatenation\r\n",
                "USE TSQLV4;\r\n",
                "SELECT empid, firstname + N' ' + lastname AS fullname\r\n",
                "FROM HR.Employees;\r\n",
                "\r\n",
                "USE Northwinds2022TSQLV7\r\n",
                "GO\r\n",
                "SELECT EmployeeId, EmployeeFirstName + N' '+EmployeeLastName AS fullname\r\n",
                "FROM HumanResources.Employee;\r\n",
                "\r\n",
                "-- Listing 2-7: Query Demonstrating String Concatenation. The location will return NULL for customers whose region is NULL.\r\n",
                "USE TSQLV4;\r\n",
                "SELECT custid, country, region, city,\r\n",
                "    country + N',' + region + N',' + city AS location\r\n",
                "FROM Sales.Customers;\r\n",
                "\r\n",
                "USE Northwinds2022TSQLV7\r\n",
                "GO\r\n",
                "SELECT CustomerId, CustomerCountry, CustomerRegion, CustomerCity,\r\n",
                "    CustomerCountry + N',' + CustomerRegion + N',' + CustomerCity AS location\r\n",
                "FROM Sales.Customer;\r\n",
                "\r\n",
                "-- convert NULL to empty string. This is a work-around for the customers with no region. Coalesce function returns the first value that is not NULL.\r\n",
                "USE TSQLV4;\r\n",
                "SELECT custid, country, region, city,\r\n",
                "  country + COALESCE( N',' + region, N'') + N',' + city AS location\r\n",
                "FROM Sales.Customers;\r\n",
                "\r\n",
                "USE Northwinds2022TSQLV7\r\n",
                "GO\r\n",
                "SELECT CustomerId, CustomerCountry, CustomerRegion, CustomerCity,\r\n",
                "    CustomerCountry + COALESCE (N',' + CustomerRegion, N'') + N',' + CustomerCity AS location\r\n",
                "FROM Sales.Customer;\r\n",
                "\r\n",
                "-- CONCAT function below is equivalent to the query above. It automatically substitutes NULL with an empty string.\r\n",
                "USE TSQLV4;\r\n",
                "SELECT custid, country, region, city,\r\n",
                "  CONCAT(country, N',' + region, N',' + city) AS location\r\n",
                "FROM Sales.Customers;\r\n",
                "\r\n",
                "USE Northwinds2022TSQLV7\r\n",
                "GO\r\n",
                "SELECT CustomerId, CustomerCountry, customerRegion, CustomerCity,\r\n",
                "  CONCAT(CustomerCountry, N',' + CustomerRegion, N',' + CustomerCity) AS location\r\n",
                "FROM Sales.Customer;\r\n",
                ""
            ],
            "metadata": {
                "language": "sql",
                "azdata_cell_guid": "a4739725-2511-4011-8bc2-ad067167a3d4"
            },
            "outputs": [],
            "execution_count": null
        },
        {
            "cell_type": "markdown",
            "source": [
                "**Character: Functions**"
            ],
            "metadata": {
                "language": "sql",
                "azdata_cell_guid": "d6692fb7-3f52-4cbc-b9ec-15211e517f15"
            },
            "attachments": {}
        },
        {
            "cell_type": "code",
            "source": [
                "SELECT SUBSTRING('abcde', 1, 3); -- 'abc'\r\n",
                "\r\n",
                "SELECT RIGHT('abcde', 3); -- 'cde'\r\n",
                "\r\n",
                "SELECT LEN(N'abcde'); -- 5\r\n",
                "\r\n",
                "SELECT DATALENGTH(N'abcde'); -- 10\r\n",
                "\r\n",
                "SELECT CHARINDEX(' ','Itzik Ben-Gan'); -- 6\r\n",
                "\r\n",
                "SELECT PATINDEX('%[0-9]%', 'abcd123efgh'); -- 5\r\n",
                "\r\n",
                "SELECT REPLACE('1-a 2-b', '-', ':'); -- '1:a 2:b'\r\n",
                "\r\n",
                "SELECT REPLICATE('abc', 3); -- 'abcabcabc'\r\n",
                "\r\n",
                "SELECT STUFF('xyz', 2, 1, 'abc'); -- 'xabcz'\r\n",
                "\r\n",
                "SELECT UPPER('Itzik Ben-Gan'); -- 'ITZIK BEN-GAN'\r\n",
                "\r\n",
                "SELECT LOWER('Itzik Ben-Gan'); -- 'itzik ben-gan'\r\n",
                "\r\n",
                "SELECT RTRIM(LTRIM('   abc   ')); -- 'abc'\r\n",
                "\r\n",
                "SELECT FORMAT(1759, '0000000000'); -- '0000001759'"
            ],
            "metadata": {
                "language": "sql",
                "azdata_cell_guid": "a7c2e008-3ef0-4ee2-a13a-a3ac0983b037"
            },
            "outputs": [],
            "execution_count": null
        },
        {
            "cell_type": "markdown",
            "source": [
                "**Character: LEN & REPLACE**\n",
                "\n",
                "Proposition: I would like to know how many e's are in employees' lastnames."
            ],
            "metadata": {
                "language": "sql",
                "azdata_cell_guid": "fb8ebe77-87d5-4ff8-afb5-3610bf2e57f9"
            },
            "attachments": {}
        },
        {
            "cell_type": "code",
            "source": [
                "--Replace function is typically used to replace a letter with another character. In this case, it is replaced with an empty string, removing all e's. \r\n",
                "--Then the length of the shortened lastname is subtracted from the length of the original lastname. This difference would account for a total count of e's in the name. \r\n",
                "\r\n",
                "USE TSQLV4;\r\n",
                "SELECT empid, lastname,\r\n",
                "  LEN(lastname) - LEN(REPLACE(lastname, 'e', '')) AS numoccur\r\n",
                "FROM HR.Employees;\r\n",
                "\r\n",
                "USE Northwinds2022TSQLV7\r\n",
                "SELECT EmployeeId, EmployeeLastName,\r\n",
                "  LEN(EmployeeLastName) - LEN(REPLACE(EmployeeLastname, 'e', '')) AS numoccur\r\n",
                "FROM HumanResources.Employee;\r\n",
                ""
            ],
            "metadata": {
                "language": "sql",
                "azdata_cell_guid": "d7c69fc4-de7c-41e6-9b14-506110aa0f3c"
            },
            "outputs": [],
            "execution_count": null
        },
        {
            "cell_type": "markdown",
            "source": [
                "**Character: RIGHT, REPLICATE, CAST**\n",
                "\n",
                "Proposition: I would like to see the supplierID as a 10-digit number."
            ],
            "metadata": {
                "language": "sql",
                "azdata_cell_guid": "7543ddaf-3c05-4f93-9792-e4410c6a03ba"
            },
            "attachments": {}
        },
        {
            "cell_type": "code",
            "source": [
                "--This query uses REPLICATE to concatenate nine 0's in front of the original supplierid. \r\n",
                "--In order to use concatenate function, this supplierid should be converted from number to character. \r\n",
                "--Lastly, the total length of the supplierID has to be 10 digit. Use the RIGHT function to discard extra 0's in the front. \r\n",
                "--All these can be done with the FORMAT function. \r\n",
                "USE TSQLV4;\r\n",
                "SELECT supplierid,\r\n",
                "  RIGHT(REPLICATE('0', 9) + CAST(supplierid AS VARCHAR(10)),\r\n",
                "        10) AS strsupplierid\r\n",
                "FROM Production.Suppliers;\r\n",
                "\r\n",
                "USE Northwinds2022TSQLV7\r\n",
                "SELECT SupplierId,\r\n",
                "  RIGHT(REPLICATE('0', 9) + CAST(SupplierId AS VARCHAR(10)),\r\n",
                "        10) AS strsupplierid\r\n",
                "FROM Production.Supplier;"
            ],
            "metadata": {
                "language": "sql",
                "azdata_cell_guid": "57c17f34-515e-4ae3-8f2a-76dc38d71200"
            },
            "outputs": [],
            "execution_count": null
        },
        {
            "cell_type": "markdown",
            "source": [
                "**Character: COMPRESS, DECOMPRESS**"
            ],
            "metadata": {
                "language": "sql",
                "azdata_cell_guid": "60947606-7521-43a8-8df4-115fb598f7fe"
            },
            "attachments": {}
        },
        {
            "cell_type": "code",
            "source": [
                "-- COMPRESS\r\n",
                "SELECT COMPRESS(N'This is my cv. Imagine it was much longer.');\r\n",
                "\r\n",
                "-- DECOMPRESS - this is an incorrect query.\r\n",
                "--SELECT DECOMPRESS(COMPRESS(N'This is my cv. Imagine it was much longer.'));\r\n",
                "\r\n",
                "--This query properly decompresses. Explicit cast is necessary. \r\n",
                "SELECT\r\n",
                "  CAST(\r\n",
                "    DECOMPRESS(COMPRESS(N'This is my cv. Imagine it was much longer.'))\r\n",
                "      AS NVARCHAR(MAX));"
            ],
            "metadata": {
                "language": "sql",
                "azdata_cell_guid": "d81fb1ef-5c2b-4124-abd7-6a4c693e1ed8"
            },
            "outputs": [],
            "execution_count": null
        },
        {
            "cell_type": "markdown",
            "source": [
                "**Character: STRING\\_SPLIT**"
            ],
            "metadata": {
                "language": "sql",
                "azdata_cell_guid": "5805aa6a-8647-4c51-aaf6-9b82cf351381"
            },
            "attachments": {}
        },
        {
            "cell_type": "code",
            "source": [
                ""
            ],
            "metadata": {
                "language": "sql",
                "azdata_cell_guid": "b058908b-b1ed-445e-8601-6d8671722048"
            },
            "outputs": [],
            "execution_count": null
        }
    ]
}