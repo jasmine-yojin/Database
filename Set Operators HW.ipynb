{
    "metadata": {
        "kernelspec": {
            "name": "SQL",
            "display_name": "SQL",
            "language": "sql"
        },
        "language_info": {
            "name": "sql",
            "version": ""
        }
    },
    "nbformat_minor": 2,
    "nbformat": 4,
    "cells": [
        {
            "cell_type": "markdown",
            "source": [
                "**SET OPERATORS**\n",
                "\n",
                "A set operator compares complete rows between the results of the two input queries involved. Two queries involved cannot have ORDER BY clause. The two input queries must produce results with the same number of columns, and corresponding columns must have compatible data types. \n",
                "\n",
                "Set operator does not use equality operator; it uses distinct predicate. This predicate produces TRUE when comparing two NULLs. T-SQL does not allow you to specify the DISTINCT clause explicitly to reduce duplicates; it is implied when you don't specify ALL.\n",
                "\n",
                "**SET vs. Multiset**\n",
                "\n",
                "SET: Distinct members\n",
                "\n",
                "Multiset: Contains all duplicates."
            ],
            "metadata": {
                "azdata_cell_guid": "c942bcdd-99cc-44cb-9b41-ae29bf17b9bd"
            },
            "attachments": {}
        },
        {
            "cell_type": "markdown",
            "source": [
                "**The UNION operator**\n",
                "\n",
                "It unifieds the results of two input quries. . T-SQL supports both UNION ALL and UNION (implicit DISTINCT)\n",
                "\n",
                "Proposition: Return country, region, and city from the Employee table and Customer table. Preserve the duplicates."
            ],
            "metadata": {
                "azdata_cell_guid": "8c0b7233-a649-4d4c-b931-41e45fcda3c2"
            },
            "attachments": {}
        },
        {
            "cell_type": "code",
            "source": [
                "use Northwinds2022TSQLV7;\r\n",
                "--UNION ALL (Multiset)\r\n",
                "SELECT e.EmployeeCountry, e.EmployeeRegion, e.EmployeeCity\r\n",
                "FROM HumanResources.Employee AS e\r\n",
                "\r\n",
                "UNION ALL\r\n",
                "\r\n",
                "SELECT c.CustomerCountry, c.CustomerRegion, c.CustomerCity\r\n",
                "FROM Sales.Customer AS c\r\n",
                "\r\n",
                "--UNION (DISTINCT, Set)- duplicates removed.\r\n",
                "SELECT e.EmployeeCountry, e.EmployeeRegion, e.EmployeeCity\r\n",
                "FROM HumanResources.Employee AS e\r\n",
                "\r\n",
                "UNION\r\n",
                "\r\n",
                "SELECT c.CustomerCountry, c.CustomerRegion, c.CustomerCity\r\n",
                "FROM Sales.Customer AS c"
            ],
            "metadata": {
                "azdata_cell_guid": "c67c5fd2-144f-4109-b6c1-94f88ff10787",
                "language": "sql"
            },
            "outputs": [
                {
                    "output_type": "display_data",
                    "data": {
                        "text/html": "(100 rows affected)"
                    },
                    "metadata": {}
                },
                {
                    "output_type": "display_data",
                    "data": {
                        "text/html": "(71 rows affected)"
                    },
                    "metadata": {}
                },
                {
                    "output_type": "display_data",
                    "data": {
                        "text/html": "Total execution time: 00:00:00.070"
                    },
                    "metadata": {}
                },
                {
                    "output_type": "execute_result",
                    "execution_count": 1,
                    "data": {
                        "application/vnd.dataresource+json": {
                            "schema": {
                                "fields": [
                                    {
                                        "name": "EmployeeCountry"
                                    },
                                    {
                                        "name": "EmployeeRegion"
                                    },
                                    {
                                        "name": "EmployeeCity"
                                    }
                                ]
                            },
                            "data": [
                                {
                                    "0": "USA",
                                    "1": "WA",
                                    "2": "Seattle"
                                },
                                {
                                    "0": "USA",
                                    "1": "WA",
                                    "2": "Tacoma"
                                },
                                {
                                    "0": "USA",
                                    "1": "WA",
                                    "2": "Kirkland"
                                },
                                {
                                    "0": "USA",
                                    "1": "WA",
                                    "2": "Redmond"
                                },
                                {
                                    "0": "UK",
                                    "1": "NULL",
                                    "2": "London"
                                },
                                {
                                    "0": "UK",
                                    "1": "NULL",
                                    "2": "London"
                                },
                                {
                                    "0": "UK",
                                    "1": "NULL",
                                    "2": "London"
                                },
                                {
                                    "0": "USA",
                                    "1": "WA",
                                    "2": "Seattle"
                                },
                                {
                                    "0": "UK",
                                    "1": "NULL",
                                    "2": "London"
                                },
                                {
                                    "0": "Germany",
                                    "1": "NULL",
                                    "2": "Berlin"
                                },
                                {
                                    "0": "Mexico",
                                    "1": "NULL",
                                    "2": "México D.F."
                                },
                                {
                                    "0": "Mexico",
                                    "1": "NULL",
                                    "2": "México D.F."
                                },
                                {
                                    "0": "UK",
                                    "1": "NULL",
                                    "2": "London"
                                },
                                {
                                    "0": "Sweden",
                                    "1": "NULL",
                                    "2": "Luleå"
                                },
                                {
                                    "0": "Germany",
                                    "1": "NULL",
                                    "2": "Mannheim"
                                },
                                {
                                    "0": "France",
                                    "1": "NULL",
                                    "2": "Strasbourg"
                                },
                                {
                                    "0": "Spain",
                                    "1": "NULL",
                                    "2": "Madrid"
                                },
                                {
                                    "0": "France",
                                    "1": "NULL",
                                    "2": "Marseille"
                                },
                                {
                                    "0": "Canada",
                                    "1": "BC",
                                    "2": "Tsawassen"
                                },
                                {
                                    "0": "UK",
                                    "1": "NULL",
                                    "2": "London"
                                },
                                {
                                    "0": "Argentina",
                                    "1": "NULL",
                                    "2": "Buenos Aires"
                                },
                                {
                                    "0": "Mexico",
                                    "1": "NULL",
                                    "2": "México D.F."
                                },
                                {
                                    "0": "Switzerland",
                                    "1": "NULL",
                                    "2": "Bern"
                                },
                                {
                                    "0": "Brazil",
                                    "1": "SP",
                                    "2": "Sao Paulo"
                                },
                                {
                                    "0": "UK",
                                    "1": "NULL",
                                    "2": "London"
                                },
                                {
                                    "0": "Germany",
                                    "1": "NULL",
                                    "2": "Aachen"
                                },
                                {
                                    "0": "France",
                                    "1": "NULL",
                                    "2": "Nantes"
                                },
                                {
                                    "0": "UK",
                                    "1": "NULL",
                                    "2": "London"
                                },
                                {
                                    "0": "Austria",
                                    "1": "NULL",
                                    "2": "Graz"
                                },
                                {
                                    "0": "Brazil",
                                    "1": "SP",
                                    "2": "Sao Paulo"
                                },
                                {
                                    "0": "Spain",
                                    "1": "NULL",
                                    "2": "Madrid"
                                },
                                {
                                    "0": "France",
                                    "1": "NULL",
                                    "2": "Lille"
                                },
                                {
                                    "0": "Sweden",
                                    "1": "NULL",
                                    "2": "Bräcke"
                                },
                                {
                                    "0": "Germany",
                                    "1": "NULL",
                                    "2": "München"
                                },
                                {
                                    "0": "France",
                                    "1": "NULL",
                                    "2": "Nantes"
                                },
                                {
                                    "0": "Italy",
                                    "1": "NULL",
                                    "2": "Torino"
                                },
                                {
                                    "0": "Portugal",
                                    "1": "NULL",
                                    "2": "Lisboa"
                                },
                                {
                                    "0": "Spain",
                                    "1": "NULL",
                                    "2": "Barcelona"
                                },
                                {
                                    "0": "Spain",
                                    "1": "NULL",
                                    "2": "Sevilla"
                                },
                                {
                                    "0": "Brazil",
                                    "1": "SP",
                                    "2": "Campinas"
                                },
                                {
                                    "0": "USA",
                                    "1": "OR",
                                    "2": "Eugene"
                                },
                                {
                                    "0": "Venezuela",
                                    "1": "DF",
                                    "2": "Caracas"
                                },
                                {
                                    "0": "Brazil",
                                    "1": "RJ",
                                    "2": "Rio de Janeiro"
                                },
                                {
                                    "0": "Venezuela",
                                    "1": "Táchira",
                                    "2": "San Cristóbal"
                                },
                                {
                                    "0": "USA",
                                    "1": "OR",
                                    "2": "Elgin"
                                },
                                {
                                    "0": "Ireland",
                                    "1": "Co. Cork",
                                    "2": "Cork"
                                },
                                {
                                    "0": "UK",
                                    "1": "Isle of Wight",
                                    "2": "Cowes"
                                },
                                {
                                    "0": "Germany",
                                    "1": "NULL",
                                    "2": "Brandenburg"
                                },
                                {
                                    "0": "France",
                                    "1": "NULL",
                                    "2": "Versailles"
                                },
                                {
                                    "0": "France",
                                    "1": "NULL",
                                    "2": "Toulouse"
                                },
                                {
                                    "0": "Canada",
                                    "1": "BC",
                                    "2": "Vancouver"
                                },
                                {
                                    "0": "USA",
                                    "1": "WA",
                                    "2": "Walla Walla"
                                },
                                {
                                    "0": "Germany",
                                    "1": "NULL",
                                    "2": "Frankfurt a.M."
                                },
                                {
                                    "0": "USA",
                                    "1": "CA",
                                    "2": "San Francisco"
                                },
                                {
                                    "0": "Venezuela",
                                    "1": "Lara",
                                    "2": "Barquisimeto"
                                },
                                {
                                    "0": "Venezuela",
                                    "1": "Nueva Esparta",
                                    "2": "I. de Margarita"
                                },
                                {
                                    "0": "USA",
                                    "1": "OR",
                                    "2": "Portland"
                                },
                                {
                                    "0": "Italy",
                                    "1": "NULL",
                                    "2": "Bergamo"
                                },
                                {
                                    "0": "Belgium",
                                    "1": "NULL",
                                    "2": "Bruxelles"
                                },
                                {
                                    "0": "Canada",
                                    "1": "Québec",
                                    "2": "Montréal"
                                },
                                {
                                    "0": "Germany",
                                    "1": "NULL",
                                    "2": "Leipzig"
                                },
                                {
                                    "0": "UK",
                                    "1": "NULL",
                                    "2": "London"
                                },
                                {
                                    "0": "Argentina",
                                    "1": "NULL",
                                    "2": "Buenos Aires"
                                },
                                {
                                    "0": "USA",
                                    "1": "AK",
                                    "2": "Anchorage"
                                },
                                {
                                    "0": "Germany",
                                    "1": "NULL",
                                    "2": "Köln"
                                },
                                {
                                    "0": "France",
                                    "1": "NULL",
                                    "2": "Paris"
                                },
                                {
                                    "0": "Mexico",
                                    "1": "NULL",
                                    "2": "México D.F."
                                },
                                {
                                    "0": "Austria",
                                    "1": "NULL",
                                    "2": "Salzburg"
                                },
                                {
                                    "0": "Portugal",
                                    "1": "NULL",
                                    "2": "Lisboa"
                                },
                                {
                                    "0": "Brazil",
                                    "1": "RJ",
                                    "2": "Rio de Janeiro"
                                },
                                {
                                    "0": "Brazil",
                                    "1": "SP",
                                    "2": "Sao Paulo"
                                },
                                {
                                    "0": "Germany",
                                    "1": "NULL",
                                    "2": "Cunewalde"
                                },
                                {
                                    "0": "Argentina",
                                    "1": "NULL",
                                    "2": "Buenos Aires"
                                },
                                {
                                    "0": "USA",
                                    "1": "NM",
                                    "2": "Albuquerque"
                                },
                                {
                                    "0": "Italy",
                                    "1": "NULL",
                                    "2": "Reggio Emilia"
                                },
                                {
                                    "0": "Brazil",
                                    "1": "RJ",
                                    "2": "Rio de Janeiro"
                                },
                                {
                                    "0": "Switzerland",
                                    "1": "NULL",
                                    "2": "Genève"
                                },
                                {
                                    "0": "Spain",
                                    "1": "NULL",
                                    "2": "Madrid"
                                },
                                {
                                    "0": "Norway",
                                    "1": "NULL",
                                    "2": "Stavern"
                                },
                                {
                                    "0": "USA",
                                    "1": "ID",
                                    "2": "Boise"
                                },
                                {
                                    "0": "UK",
                                    "1": "NULL",
                                    "2": "London"
                                },
                                {
                                    "0": "Denmark",
                                    "1": "NULL",
                                    "2": "Kobenhavn"
                                },
                                {
                                    "0": "France",
                                    "1": "NULL",
                                    "2": "Paris"
                                },
                                {
                                    "0": "USA",
                                    "1": "WY",
                                    "2": "Lander"
                                },
                                {
                                    "0": "Belgium",
                                    "1": "NULL",
                                    "2": "Charleroi"
                                },
                                {
                                    "0": "USA",
                                    "1": "OR",
                                    "2": "Portland"
                                },
                                {
                                    "0": "USA",
                                    "1": "MT",
                                    "2": "Butte"
                                },
                                {
                                    "0": "Germany",
                                    "1": "NULL",
                                    "2": "Münster"
                                },
                                {
                                    "0": "Mexico",
                                    "1": "NULL",
                                    "2": "México D.F."
                                },
                                {
                                    "0": "Brazil",
                                    "1": "SP",
                                    "2": "Sao Paulo"
                                },
                                {
                                    "0": "USA",
                                    "1": "WA",
                                    "2": "Kirkland"
                                },
                                {
                                    "0": "Denmark",
                                    "1": "NULL",
                                    "2": "Århus"
                                },
                                {
                                    "0": "France",
                                    "1": "NULL",
                                    "2": "Lyon"
                                },
                                {
                                    "0": "France",
                                    "1": "NULL",
                                    "2": "Reims"
                                },
                                {
                                    "0": "Germany",
                                    "1": "NULL",
                                    "2": "Stuttgart"
                                },
                                {
                                    "0": "Finland",
                                    "1": "NULL",
                                    "2": "Oulu"
                                },
                                {
                                    "0": "Brazil",
                                    "1": "SP",
                                    "2": "Resende"
                                },
                                {
                                    "0": "USA",
                                    "1": "WA",
                                    "2": "Seattle"
                                },
                                {
                                    "0": "Finland",
                                    "1": "NULL",
                                    "2": "Helsinki"
                                },
                                {
                                    "0": "Poland",
                                    "1": "NULL",
                                    "2": "Warszawa"
                                }
                            ]
                        },
                        "text/html": "<table><tr><th>EmployeeCountry</th><th>EmployeeRegion</th><th>EmployeeCity</th></tr><tr><td>USA</td><td>WA</td><td>Seattle</td></tr><tr><td>USA</td><td>WA</td><td>Tacoma</td></tr><tr><td>USA</td><td>WA</td><td>Kirkland</td></tr><tr><td>USA</td><td>WA</td><td>Redmond</td></tr><tr><td>UK</td><td>NULL</td><td>London</td></tr><tr><td>UK</td><td>NULL</td><td>London</td></tr><tr><td>UK</td><td>NULL</td><td>London</td></tr><tr><td>USA</td><td>WA</td><td>Seattle</td></tr><tr><td>UK</td><td>NULL</td><td>London</td></tr><tr><td>Germany</td><td>NULL</td><td>Berlin</td></tr><tr><td>Mexico</td><td>NULL</td><td>México D.F.</td></tr><tr><td>Mexico</td><td>NULL</td><td>México D.F.</td></tr><tr><td>UK</td><td>NULL</td><td>London</td></tr><tr><td>Sweden</td><td>NULL</td><td>Luleå</td></tr><tr><td>Germany</td><td>NULL</td><td>Mannheim</td></tr><tr><td>France</td><td>NULL</td><td>Strasbourg</td></tr><tr><td>Spain</td><td>NULL</td><td>Madrid</td></tr><tr><td>France</td><td>NULL</td><td>Marseille</td></tr><tr><td>Canada</td><td>BC</td><td>Tsawassen</td></tr><tr><td>UK</td><td>NULL</td><td>London</td></tr><tr><td>Argentina</td><td>NULL</td><td>Buenos Aires</td></tr><tr><td>Mexico</td><td>NULL</td><td>México D.F.</td></tr><tr><td>Switzerland</td><td>NULL</td><td>Bern</td></tr><tr><td>Brazil</td><td>SP</td><td>Sao Paulo</td></tr><tr><td>UK</td><td>NULL</td><td>London</td></tr><tr><td>Germany</td><td>NULL</td><td>Aachen</td></tr><tr><td>France</td><td>NULL</td><td>Nantes</td></tr><tr><td>UK</td><td>NULL</td><td>London</td></tr><tr><td>Austria</td><td>NULL</td><td>Graz</td></tr><tr><td>Brazil</td><td>SP</td><td>Sao Paulo</td></tr><tr><td>Spain</td><td>NULL</td><td>Madrid</td></tr><tr><td>France</td><td>NULL</td><td>Lille</td></tr><tr><td>Sweden</td><td>NULL</td><td>Bräcke</td></tr><tr><td>Germany</td><td>NULL</td><td>München</td></tr><tr><td>France</td><td>NULL</td><td>Nantes</td></tr><tr><td>Italy</td><td>NULL</td><td>Torino</td></tr><tr><td>Portugal</td><td>NULL</td><td>Lisboa</td></tr><tr><td>Spain</td><td>NULL</td><td>Barcelona</td></tr><tr><td>Spain</td><td>NULL</td><td>Sevilla</td></tr><tr><td>Brazil</td><td>SP</td><td>Campinas</td></tr><tr><td>USA</td><td>OR</td><td>Eugene</td></tr><tr><td>Venezuela</td><td>DF</td><td>Caracas</td></tr><tr><td>Brazil</td><td>RJ</td><td>Rio de Janeiro</td></tr><tr><td>Venezuela</td><td>Táchira</td><td>San Cristóbal</td></tr><tr><td>USA</td><td>OR</td><td>Elgin</td></tr><tr><td>Ireland</td><td>Co. Cork</td><td>Cork</td></tr><tr><td>UK</td><td>Isle of Wight</td><td>Cowes</td></tr><tr><td>Germany</td><td>NULL</td><td>Brandenburg</td></tr><tr><td>France</td><td>NULL</td><td>Versailles</td></tr><tr><td>France</td><td>NULL</td><td>Toulouse</td></tr><tr><td>Canada</td><td>BC</td><td>Vancouver</td></tr><tr><td>USA</td><td>WA</td><td>Walla Walla</td></tr><tr><td>Germany</td><td>NULL</td><td>Frankfurt a.M.</td></tr><tr><td>USA</td><td>CA</td><td>San Francisco</td></tr><tr><td>Venezuela</td><td>Lara</td><td>Barquisimeto</td></tr><tr><td>Venezuela</td><td>Nueva Esparta</td><td>I. de Margarita</td></tr><tr><td>USA</td><td>OR</td><td>Portland</td></tr><tr><td>Italy</td><td>NULL</td><td>Bergamo</td></tr><tr><td>Belgium</td><td>NULL</td><td>Bruxelles</td></tr><tr><td>Canada</td><td>Québec</td><td>Montréal</td></tr><tr><td>Germany</td><td>NULL</td><td>Leipzig</td></tr><tr><td>UK</td><td>NULL</td><td>London</td></tr><tr><td>Argentina</td><td>NULL</td><td>Buenos Aires</td></tr><tr><td>USA</td><td>AK</td><td>Anchorage</td></tr><tr><td>Germany</td><td>NULL</td><td>Köln</td></tr><tr><td>France</td><td>NULL</td><td>Paris</td></tr><tr><td>Mexico</td><td>NULL</td><td>México D.F.</td></tr><tr><td>Austria</td><td>NULL</td><td>Salzburg</td></tr><tr><td>Portugal</td><td>NULL</td><td>Lisboa</td></tr><tr><td>Brazil</td><td>RJ</td><td>Rio de Janeiro</td></tr><tr><td>Brazil</td><td>SP</td><td>Sao Paulo</td></tr><tr><td>Germany</td><td>NULL</td><td>Cunewalde</td></tr><tr><td>Argentina</td><td>NULL</td><td>Buenos Aires</td></tr><tr><td>USA</td><td>NM</td><td>Albuquerque</td></tr><tr><td>Italy</td><td>NULL</td><td>Reggio Emilia</td></tr><tr><td>Brazil</td><td>RJ</td><td>Rio de Janeiro</td></tr><tr><td>Switzerland</td><td>NULL</td><td>Genève</td></tr><tr><td>Spain</td><td>NULL</td><td>Madrid</td></tr><tr><td>Norway</td><td>NULL</td><td>Stavern</td></tr><tr><td>USA</td><td>ID</td><td>Boise</td></tr><tr><td>UK</td><td>NULL</td><td>London</td></tr><tr><td>Denmark</td><td>NULL</td><td>Kobenhavn</td></tr><tr><td>France</td><td>NULL</td><td>Paris</td></tr><tr><td>USA</td><td>WY</td><td>Lander</td></tr><tr><td>Belgium</td><td>NULL</td><td>Charleroi</td></tr><tr><td>USA</td><td>OR</td><td>Portland</td></tr><tr><td>USA</td><td>MT</td><td>Butte</td></tr><tr><td>Germany</td><td>NULL</td><td>Münster</td></tr><tr><td>Mexico</td><td>NULL</td><td>México D.F.</td></tr><tr><td>Brazil</td><td>SP</td><td>Sao Paulo</td></tr><tr><td>USA</td><td>WA</td><td>Kirkland</td></tr><tr><td>Denmark</td><td>NULL</td><td>Århus</td></tr><tr><td>France</td><td>NULL</td><td>Lyon</td></tr><tr><td>France</td><td>NULL</td><td>Reims</td></tr><tr><td>Germany</td><td>NULL</td><td>Stuttgart</td></tr><tr><td>Finland</td><td>NULL</td><td>Oulu</td></tr><tr><td>Brazil</td><td>SP</td><td>Resende</td></tr><tr><td>USA</td><td>WA</td><td>Seattle</td></tr><tr><td>Finland</td><td>NULL</td><td>Helsinki</td></tr><tr><td>Poland</td><td>NULL</td><td>Warszawa</td></tr></table>"
                    },
                    "metadata": {}
                },
                {
                    "output_type": "execute_result",
                    "execution_count": 1,
                    "data": {
                        "application/vnd.dataresource+json": {
                            "schema": {
                                "fields": [
                                    {
                                        "name": "EmployeeCountry"
                                    },
                                    {
                                        "name": "EmployeeRegion"
                                    },
                                    {
                                        "name": "EmployeeCity"
                                    }
                                ]
                            },
                            "data": [
                                {
                                    "0": "Argentina",
                                    "1": "NULL",
                                    "2": "Buenos Aires"
                                },
                                {
                                    "0": "Austria",
                                    "1": "NULL",
                                    "2": "Graz"
                                },
                                {
                                    "0": "Austria",
                                    "1": "NULL",
                                    "2": "Salzburg"
                                },
                                {
                                    "0": "Belgium",
                                    "1": "NULL",
                                    "2": "Bruxelles"
                                },
                                {
                                    "0": "Belgium",
                                    "1": "NULL",
                                    "2": "Charleroi"
                                },
                                {
                                    "0": "Brazil",
                                    "1": "RJ",
                                    "2": "Rio de Janeiro"
                                },
                                {
                                    "0": "Brazil",
                                    "1": "SP",
                                    "2": "Campinas"
                                },
                                {
                                    "0": "Brazil",
                                    "1": "SP",
                                    "2": "Resende"
                                },
                                {
                                    "0": "Brazil",
                                    "1": "SP",
                                    "2": "Sao Paulo"
                                },
                                {
                                    "0": "Canada",
                                    "1": "BC",
                                    "2": "Tsawassen"
                                },
                                {
                                    "0": "Canada",
                                    "1": "BC",
                                    "2": "Vancouver"
                                },
                                {
                                    "0": "Canada",
                                    "1": "Québec",
                                    "2": "Montréal"
                                },
                                {
                                    "0": "Denmark",
                                    "1": "NULL",
                                    "2": "Århus"
                                },
                                {
                                    "0": "Denmark",
                                    "1": "NULL",
                                    "2": "Kobenhavn"
                                },
                                {
                                    "0": "Finland",
                                    "1": "NULL",
                                    "2": "Helsinki"
                                },
                                {
                                    "0": "Finland",
                                    "1": "NULL",
                                    "2": "Oulu"
                                },
                                {
                                    "0": "France",
                                    "1": "NULL",
                                    "2": "Lille"
                                },
                                {
                                    "0": "France",
                                    "1": "NULL",
                                    "2": "Lyon"
                                },
                                {
                                    "0": "France",
                                    "1": "NULL",
                                    "2": "Marseille"
                                },
                                {
                                    "0": "France",
                                    "1": "NULL",
                                    "2": "Nantes"
                                },
                                {
                                    "0": "France",
                                    "1": "NULL",
                                    "2": "Paris"
                                },
                                {
                                    "0": "France",
                                    "1": "NULL",
                                    "2": "Reims"
                                },
                                {
                                    "0": "France",
                                    "1": "NULL",
                                    "2": "Strasbourg"
                                },
                                {
                                    "0": "France",
                                    "1": "NULL",
                                    "2": "Toulouse"
                                },
                                {
                                    "0": "France",
                                    "1": "NULL",
                                    "2": "Versailles"
                                },
                                {
                                    "0": "Germany",
                                    "1": "NULL",
                                    "2": "Aachen"
                                },
                                {
                                    "0": "Germany",
                                    "1": "NULL",
                                    "2": "Berlin"
                                },
                                {
                                    "0": "Germany",
                                    "1": "NULL",
                                    "2": "Brandenburg"
                                },
                                {
                                    "0": "Germany",
                                    "1": "NULL",
                                    "2": "Cunewalde"
                                },
                                {
                                    "0": "Germany",
                                    "1": "NULL",
                                    "2": "Frankfurt a.M."
                                },
                                {
                                    "0": "Germany",
                                    "1": "NULL",
                                    "2": "Köln"
                                },
                                {
                                    "0": "Germany",
                                    "1": "NULL",
                                    "2": "Leipzig"
                                },
                                {
                                    "0": "Germany",
                                    "1": "NULL",
                                    "2": "Mannheim"
                                },
                                {
                                    "0": "Germany",
                                    "1": "NULL",
                                    "2": "München"
                                },
                                {
                                    "0": "Germany",
                                    "1": "NULL",
                                    "2": "Münster"
                                },
                                {
                                    "0": "Germany",
                                    "1": "NULL",
                                    "2": "Stuttgart"
                                },
                                {
                                    "0": "Ireland",
                                    "1": "Co. Cork",
                                    "2": "Cork"
                                },
                                {
                                    "0": "Italy",
                                    "1": "NULL",
                                    "2": "Bergamo"
                                },
                                {
                                    "0": "Italy",
                                    "1": "NULL",
                                    "2": "Reggio Emilia"
                                },
                                {
                                    "0": "Italy",
                                    "1": "NULL",
                                    "2": "Torino"
                                },
                                {
                                    "0": "Mexico",
                                    "1": "NULL",
                                    "2": "México D.F."
                                },
                                {
                                    "0": "Norway",
                                    "1": "NULL",
                                    "2": "Stavern"
                                },
                                {
                                    "0": "Poland",
                                    "1": "NULL",
                                    "2": "Warszawa"
                                },
                                {
                                    "0": "Portugal",
                                    "1": "NULL",
                                    "2": "Lisboa"
                                },
                                {
                                    "0": "Spain",
                                    "1": "NULL",
                                    "2": "Barcelona"
                                },
                                {
                                    "0": "Spain",
                                    "1": "NULL",
                                    "2": "Madrid"
                                },
                                {
                                    "0": "Spain",
                                    "1": "NULL",
                                    "2": "Sevilla"
                                },
                                {
                                    "0": "Sweden",
                                    "1": "NULL",
                                    "2": "Bräcke"
                                },
                                {
                                    "0": "Sweden",
                                    "1": "NULL",
                                    "2": "Luleå"
                                },
                                {
                                    "0": "Switzerland",
                                    "1": "NULL",
                                    "2": "Bern"
                                },
                                {
                                    "0": "Switzerland",
                                    "1": "NULL",
                                    "2": "Genève"
                                },
                                {
                                    "0": "UK",
                                    "1": "NULL",
                                    "2": "London"
                                },
                                {
                                    "0": "UK",
                                    "1": "Isle of Wight",
                                    "2": "Cowes"
                                },
                                {
                                    "0": "USA",
                                    "1": "AK",
                                    "2": "Anchorage"
                                },
                                {
                                    "0": "USA",
                                    "1": "CA",
                                    "2": "San Francisco"
                                },
                                {
                                    "0": "USA",
                                    "1": "ID",
                                    "2": "Boise"
                                },
                                {
                                    "0": "USA",
                                    "1": "MT",
                                    "2": "Butte"
                                },
                                {
                                    "0": "USA",
                                    "1": "NM",
                                    "2": "Albuquerque"
                                },
                                {
                                    "0": "USA",
                                    "1": "OR",
                                    "2": "Elgin"
                                },
                                {
                                    "0": "USA",
                                    "1": "OR",
                                    "2": "Eugene"
                                },
                                {
                                    "0": "USA",
                                    "1": "OR",
                                    "2": "Portland"
                                },
                                {
                                    "0": "USA",
                                    "1": "WA",
                                    "2": "Kirkland"
                                },
                                {
                                    "0": "USA",
                                    "1": "WA",
                                    "2": "Redmond"
                                },
                                {
                                    "0": "USA",
                                    "1": "WA",
                                    "2": "Seattle"
                                },
                                {
                                    "0": "USA",
                                    "1": "WA",
                                    "2": "Tacoma"
                                },
                                {
                                    "0": "USA",
                                    "1": "WA",
                                    "2": "Walla Walla"
                                },
                                {
                                    "0": "USA",
                                    "1": "WY",
                                    "2": "Lander"
                                },
                                {
                                    "0": "Venezuela",
                                    "1": "DF",
                                    "2": "Caracas"
                                },
                                {
                                    "0": "Venezuela",
                                    "1": "Lara",
                                    "2": "Barquisimeto"
                                },
                                {
                                    "0": "Venezuela",
                                    "1": "Nueva Esparta",
                                    "2": "I. de Margarita"
                                },
                                {
                                    "0": "Venezuela",
                                    "1": "Táchira",
                                    "2": "San Cristóbal"
                                }
                            ]
                        },
                        "text/html": "<table><tr><th>EmployeeCountry</th><th>EmployeeRegion</th><th>EmployeeCity</th></tr><tr><td>Argentina</td><td>NULL</td><td>Buenos Aires</td></tr><tr><td>Austria</td><td>NULL</td><td>Graz</td></tr><tr><td>Austria</td><td>NULL</td><td>Salzburg</td></tr><tr><td>Belgium</td><td>NULL</td><td>Bruxelles</td></tr><tr><td>Belgium</td><td>NULL</td><td>Charleroi</td></tr><tr><td>Brazil</td><td>RJ</td><td>Rio de Janeiro</td></tr><tr><td>Brazil</td><td>SP</td><td>Campinas</td></tr><tr><td>Brazil</td><td>SP</td><td>Resende</td></tr><tr><td>Brazil</td><td>SP</td><td>Sao Paulo</td></tr><tr><td>Canada</td><td>BC</td><td>Tsawassen</td></tr><tr><td>Canada</td><td>BC</td><td>Vancouver</td></tr><tr><td>Canada</td><td>Québec</td><td>Montréal</td></tr><tr><td>Denmark</td><td>NULL</td><td>Århus</td></tr><tr><td>Denmark</td><td>NULL</td><td>Kobenhavn</td></tr><tr><td>Finland</td><td>NULL</td><td>Helsinki</td></tr><tr><td>Finland</td><td>NULL</td><td>Oulu</td></tr><tr><td>France</td><td>NULL</td><td>Lille</td></tr><tr><td>France</td><td>NULL</td><td>Lyon</td></tr><tr><td>France</td><td>NULL</td><td>Marseille</td></tr><tr><td>France</td><td>NULL</td><td>Nantes</td></tr><tr><td>France</td><td>NULL</td><td>Paris</td></tr><tr><td>France</td><td>NULL</td><td>Reims</td></tr><tr><td>France</td><td>NULL</td><td>Strasbourg</td></tr><tr><td>France</td><td>NULL</td><td>Toulouse</td></tr><tr><td>France</td><td>NULL</td><td>Versailles</td></tr><tr><td>Germany</td><td>NULL</td><td>Aachen</td></tr><tr><td>Germany</td><td>NULL</td><td>Berlin</td></tr><tr><td>Germany</td><td>NULL</td><td>Brandenburg</td></tr><tr><td>Germany</td><td>NULL</td><td>Cunewalde</td></tr><tr><td>Germany</td><td>NULL</td><td>Frankfurt a.M.</td></tr><tr><td>Germany</td><td>NULL</td><td>Köln</td></tr><tr><td>Germany</td><td>NULL</td><td>Leipzig</td></tr><tr><td>Germany</td><td>NULL</td><td>Mannheim</td></tr><tr><td>Germany</td><td>NULL</td><td>München</td></tr><tr><td>Germany</td><td>NULL</td><td>Münster</td></tr><tr><td>Germany</td><td>NULL</td><td>Stuttgart</td></tr><tr><td>Ireland</td><td>Co. Cork</td><td>Cork</td></tr><tr><td>Italy</td><td>NULL</td><td>Bergamo</td></tr><tr><td>Italy</td><td>NULL</td><td>Reggio Emilia</td></tr><tr><td>Italy</td><td>NULL</td><td>Torino</td></tr><tr><td>Mexico</td><td>NULL</td><td>México D.F.</td></tr><tr><td>Norway</td><td>NULL</td><td>Stavern</td></tr><tr><td>Poland</td><td>NULL</td><td>Warszawa</td></tr><tr><td>Portugal</td><td>NULL</td><td>Lisboa</td></tr><tr><td>Spain</td><td>NULL</td><td>Barcelona</td></tr><tr><td>Spain</td><td>NULL</td><td>Madrid</td></tr><tr><td>Spain</td><td>NULL</td><td>Sevilla</td></tr><tr><td>Sweden</td><td>NULL</td><td>Bräcke</td></tr><tr><td>Sweden</td><td>NULL</td><td>Luleå</td></tr><tr><td>Switzerland</td><td>NULL</td><td>Bern</td></tr><tr><td>Switzerland</td><td>NULL</td><td>Genève</td></tr><tr><td>UK</td><td>NULL</td><td>London</td></tr><tr><td>UK</td><td>Isle of Wight</td><td>Cowes</td></tr><tr><td>USA</td><td>AK</td><td>Anchorage</td></tr><tr><td>USA</td><td>CA</td><td>San Francisco</td></tr><tr><td>USA</td><td>ID</td><td>Boise</td></tr><tr><td>USA</td><td>MT</td><td>Butte</td></tr><tr><td>USA</td><td>NM</td><td>Albuquerque</td></tr><tr><td>USA</td><td>OR</td><td>Elgin</td></tr><tr><td>USA</td><td>OR</td><td>Eugene</td></tr><tr><td>USA</td><td>OR</td><td>Portland</td></tr><tr><td>USA</td><td>WA</td><td>Kirkland</td></tr><tr><td>USA</td><td>WA</td><td>Redmond</td></tr><tr><td>USA</td><td>WA</td><td>Seattle</td></tr><tr><td>USA</td><td>WA</td><td>Tacoma</td></tr><tr><td>USA</td><td>WA</td><td>Walla Walla</td></tr><tr><td>USA</td><td>WY</td><td>Lander</td></tr><tr><td>Venezuela</td><td>DF</td><td>Caracas</td></tr><tr><td>Venezuela</td><td>Lara</td><td>Barquisimeto</td></tr><tr><td>Venezuela</td><td>Nueva Esparta</td><td>I. de Margarita</td></tr><tr><td>Venezuela</td><td>Táchira</td><td>San Cristóbal</td></tr></table>"
                    },
                    "metadata": {}
                }
            ],
            "execution_count": 1
        },
        {
            "cell_type": "markdown",
            "source": [
                "**The INTERSECT operator**\n",
                "\n",
                "It is implied DISTINCT. Returns only distinct rows that appear in both input query results.\n",
                "\n",
                "You can achieve the same results using the INNER JOIN or correlated subquery. However, you would have to handle special case of NULLs. Using the set operator is simpler to code up.\n",
                "\n",
                "Proposition: Return the country, city, region that is present in both Employee and Customer tables. Remove duplicates."
            ],
            "metadata": {
                "language": "sql",
                "azdata_cell_guid": "b84745e3-c4a4-4c5e-a847-67a43db0d55b"
            },
            "attachments": {}
        },
        {
            "cell_type": "code",
            "source": [
                "use Northwinds2022TSQLV7;\r\n",
                "SELECT e.EmployeeCountry, e.EmployeeRegion, e.EmployeeCity\r\n",
                "FROM HumanResources.Employee AS e\r\n",
                "\r\n",
                "INTERSECT\r\n",
                "\r\n",
                "SELECT c.CustomerCountry, c.CustomerRegion, c.CustomerCity\r\n",
                "FROM Sales.Customer AS c"
            ],
            "metadata": {
                "language": "sql",
                "azdata_cell_guid": "d19a1802-e8e2-481e-ad80-26c1d324509c"
            },
            "outputs": [
                {
                    "output_type": "display_data",
                    "data": {
                        "text/html": "(3 rows affected)"
                    },
                    "metadata": {}
                },
                {
                    "output_type": "display_data",
                    "data": {
                        "text/html": "Total execution time: 00:00:00.010"
                    },
                    "metadata": {}
                },
                {
                    "output_type": "execute_result",
                    "execution_count": 2,
                    "data": {
                        "application/vnd.dataresource+json": {
                            "schema": {
                                "fields": [
                                    {
                                        "name": "EmployeeCountry"
                                    },
                                    {
                                        "name": "EmployeeRegion"
                                    },
                                    {
                                        "name": "EmployeeCity"
                                    }
                                ]
                            },
                            "data": [
                                {
                                    "0": "UK",
                                    "1": "NULL",
                                    "2": "London"
                                },
                                {
                                    "0": "USA",
                                    "1": "WA",
                                    "2": "Kirkland"
                                },
                                {
                                    "0": "USA",
                                    "1": "WA",
                                    "2": "Seattle"
                                }
                            ]
                        },
                        "text/html": "<table><tr><th>EmployeeCountry</th><th>EmployeeRegion</th><th>EmployeeCity</th></tr><tr><td>UK</td><td>NULL</td><td>London</td></tr><tr><td>USA</td><td>WA</td><td>Kirkland</td></tr><tr><td>USA</td><td>WA</td><td>Seattle</td></tr></table>"
                    },
                    "metadata": {}
                }
            ],
            "execution_count": 2
        },
        {
            "cell_type": "markdown",
            "source": [
                "**INTERSECT ALL (keep all duplicates)**\n",
                "\n",
                " If row R occurs 4 times in Employee and 6 times in Customers, it will output the R 4 times, minimum (4,6). T-SQL does not support  it but you can do something similar with ROW\\_NUMBER function.\n",
                "\n",
                "Proposition: Return the country, city, region that is present in both Employee and Customer tables. Preserve the duplicates."
            ],
            "metadata": {
                "language": "sql",
                "azdata_cell_guid": "345546fb-e5b0-4689-8697-9010219c1ed0"
            },
            "attachments": {}
        },
        {
            "cell_type": "code",
            "source": [
                "use Northwinds2022TSQLV7;\r\n",
                "--Note that ORDER BY (SELECT 0) is used when you don't care about the order.\r\n",
                "SELECT \r\n",
                "\tROW_NUMBER() OVER (PARTITION BY e.EmployeeCountry, e.EmployeeRegion, e.EmployeeCity ORDER BY (SELECT 0)) AS rownum\r\n",
                "\t,e.EmployeeCountry, e.EmployeeRegion, e.EmployeeCity\r\n",
                "\r\n",
                "FROM HumanResources.Employee AS e\r\n",
                "\r\n",
                "INTERSECT\r\n",
                "\r\n",
                "SELECT \r\n",
                "\tROW_NUMBER() OVER (PARTITION BY c.CustomerCountry, c.CustomerRegion, c.CustomerCity ORDER BY (SELECT 0)) AS rownum\r\n",
                "\t,c.CustomerCountry, c.CustomerRegion, c.CustomerCity\r\n",
                "FROM sales.Customer AS c;\r\n",
                "\r\n",
                "--INTERSECT ALL would normally not return the row numbers. To hide this, create a table expression and query without the row number.\r\n",
                "WITH INTERSECT_ALL\r\n",
                "AS\r\n",
                "(\r\n",
                "\tSELECT \r\n",
                "\t\tROW_NUMBER() OVER (PARTITION BY e.EmployeeCountry, e.EmployeeRegion, e.EmployeeCity ORDER BY (SELECT 0)) AS rownum\r\n",
                "\t\t,e.EmployeeCountry, e.EmployeeRegion, e.EmployeeCity\r\n",
                "\r\n",
                "\tFROM HumanResources.Employee AS e\r\n",
                "\r\n",
                "\tINTERSECT\r\n",
                "\r\n",
                "\tSELECT \r\n",
                "\t\tROW_NUMBER() OVER (PARTITION BY c.CustomerCountry, c.CustomerRegion, c.CustomerCity ORDER BY (SELECT 0)) AS rownum\r\n",
                "\t\t,c.CustomerCountry, c.CustomerRegion, c.CustomerCity\r\n",
                "\tFROM sales.Customer AS c\r\n",
                ")\r\n",
                "\r\n",
                "SELECT INTERSECT_ALL.EmployeeCountry, INTERSECT_ALL.EmployeeRegion, INTERSECT_ALL.EmployeeCity\r\n",
                "FROM INTERSECT_ALL"
            ],
            "metadata": {
                "language": "sql",
                "azdata_cell_guid": "78237255-b3b2-40ee-92c6-9db99df7d53e",
                "tags": []
            },
            "outputs": [
                {
                    "output_type": "display_data",
                    "data": {
                        "text/html": "(6 rows affected)"
                    },
                    "metadata": {}
                },
                {
                    "output_type": "display_data",
                    "data": {
                        "text/html": "(6 rows affected)"
                    },
                    "metadata": {}
                },
                {
                    "output_type": "display_data",
                    "data": {
                        "text/html": "Total execution time: 00:00:00.025"
                    },
                    "metadata": {}
                },
                {
                    "output_type": "execute_result",
                    "execution_count": 3,
                    "data": {
                        "application/vnd.dataresource+json": {
                            "schema": {
                                "fields": [
                                    {
                                        "name": "rownum"
                                    },
                                    {
                                        "name": "EmployeeCountry"
                                    },
                                    {
                                        "name": "EmployeeRegion"
                                    },
                                    {
                                        "name": "EmployeeCity"
                                    }
                                ]
                            },
                            "data": [
                                {
                                    "0": "1",
                                    "1": "UK",
                                    "2": "NULL",
                                    "3": "London"
                                },
                                {
                                    "0": "1",
                                    "1": "USA",
                                    "2": "WA",
                                    "3": "Kirkland"
                                },
                                {
                                    "0": "1",
                                    "1": "USA",
                                    "2": "WA",
                                    "3": "Seattle"
                                },
                                {
                                    "0": "2",
                                    "1": "UK",
                                    "2": "NULL",
                                    "3": "London"
                                },
                                {
                                    "0": "3",
                                    "1": "UK",
                                    "2": "NULL",
                                    "3": "London"
                                },
                                {
                                    "0": "4",
                                    "1": "UK",
                                    "2": "NULL",
                                    "3": "London"
                                }
                            ]
                        },
                        "text/html": "<table><tr><th>rownum</th><th>EmployeeCountry</th><th>EmployeeRegion</th><th>EmployeeCity</th></tr><tr><td>1</td><td>UK</td><td>NULL</td><td>London</td></tr><tr><td>1</td><td>USA</td><td>WA</td><td>Kirkland</td></tr><tr><td>1</td><td>USA</td><td>WA</td><td>Seattle</td></tr><tr><td>2</td><td>UK</td><td>NULL</td><td>London</td></tr><tr><td>3</td><td>UK</td><td>NULL</td><td>London</td></tr><tr><td>4</td><td>UK</td><td>NULL</td><td>London</td></tr></table>"
                    },
                    "metadata": {}
                },
                {
                    "output_type": "execute_result",
                    "execution_count": 3,
                    "data": {
                        "application/vnd.dataresource+json": {
                            "schema": {
                                "fields": [
                                    {
                                        "name": "EmployeeCountry"
                                    },
                                    {
                                        "name": "EmployeeRegion"
                                    },
                                    {
                                        "name": "EmployeeCity"
                                    }
                                ]
                            },
                            "data": [
                                {
                                    "0": "UK",
                                    "1": "NULL",
                                    "2": "London"
                                },
                                {
                                    "0": "USA",
                                    "1": "WA",
                                    "2": "Kirkland"
                                },
                                {
                                    "0": "USA",
                                    "1": "WA",
                                    "2": "Seattle"
                                },
                                {
                                    "0": "UK",
                                    "1": "NULL",
                                    "2": "London"
                                },
                                {
                                    "0": "UK",
                                    "1": "NULL",
                                    "2": "London"
                                },
                                {
                                    "0": "UK",
                                    "1": "NULL",
                                    "2": "London"
                                }
                            ]
                        },
                        "text/html": "<table><tr><th>EmployeeCountry</th><th>EmployeeRegion</th><th>EmployeeCity</th></tr><tr><td>UK</td><td>NULL</td><td>London</td></tr><tr><td>USA</td><td>WA</td><td>Kirkland</td></tr><tr><td>USA</td><td>WA</td><td>Seattle</td></tr><tr><td>UK</td><td>NULL</td><td>London</td></tr><tr><td>UK</td><td>NULL</td><td>London</td></tr><tr><td>UK</td><td>NULL</td><td>London</td></tr></table>"
                    },
                    "metadata": {}
                }
            ],
            "execution_count": 3
        },
        {
            "cell_type": "markdown",
            "source": [
                "**The EXCEPT operator**\n",
                "\n",
                "It implements set differences. It returns rows that appear in the first input but not the second. A row is returned once in the output as long as it appears at least once in the first input multiset and zero times in the second. It is noncommutative; the order in which you specify the two input queries matter.\n",
                "\n",
                "Here, too, you can achieve similar results using the OUTER JOIN and using NOT EXISTS. However, they may not be comparing each column by column. You also have to handle NULLs explicitly.\n",
                "\n",
                "Proposition: Return country, region, and city that is only present in the Employee table."
            ],
            "metadata": {
                "language": "sql",
                "azdata_cell_guid": "4dc6616c-595d-4e06-bebc-a34d2ab62146"
            },
            "attachments": {}
        },
        {
            "cell_type": "code",
            "source": [
                "use Northwinds2022TSQLV7;\r\n",
                "--Notice the difference in the result set depending on which input you place first.\r\n",
                "--Outputs 2 rows\r\n",
                "SELECT e.EmployeeCountry, e.EmployeeRegion, e.EmployeeCity FROM HumanResources.Employee AS e\r\n",
                "\r\n",
                "EXCEPT\r\n",
                "\r\n",
                "SELECT c.CustomerCountry, c.CustomerRegion, c.CustomerCity FROM sales.Customer AS c;\r\n",
                "\r\n",
                "-- outputs 66 rows. Reverse. \r\n",
                "\r\n",
                "SELECT c.CustomerCountry, c.CustomerRegion, c.CustomerCity FROM sales.Customer AS c\r\n",
                "\r\n",
                "EXCEPT\r\n",
                "\r\n",
                "SELECT e.EmployeeCountry, e.EmployeeRegion, e.EmployeeCity FROM HumanResources.Employee AS e;"
            ],
            "metadata": {
                "language": "sql",
                "azdata_cell_guid": "636f039d-5f16-40be-b38d-f3cde74217d1"
            },
            "outputs": [
                {
                    "output_type": "display_data",
                    "data": {
                        "text/html": "(2 rows affected)"
                    },
                    "metadata": {}
                },
                {
                    "output_type": "display_data",
                    "data": {
                        "text/html": "(66 rows affected)"
                    },
                    "metadata": {}
                },
                {
                    "output_type": "display_data",
                    "data": {
                        "text/html": "Total execution time: 00:00:00.019"
                    },
                    "metadata": {}
                },
                {
                    "output_type": "execute_result",
                    "execution_count": 4,
                    "data": {
                        "application/vnd.dataresource+json": {
                            "schema": {
                                "fields": [
                                    {
                                        "name": "EmployeeCountry"
                                    },
                                    {
                                        "name": "EmployeeRegion"
                                    },
                                    {
                                        "name": "EmployeeCity"
                                    }
                                ]
                            },
                            "data": [
                                {
                                    "0": "USA",
                                    "1": "WA",
                                    "2": "Redmond"
                                },
                                {
                                    "0": "USA",
                                    "1": "WA",
                                    "2": "Tacoma"
                                }
                            ]
                        },
                        "text/html": "<table><tr><th>EmployeeCountry</th><th>EmployeeRegion</th><th>EmployeeCity</th></tr><tr><td>USA</td><td>WA</td><td>Redmond</td></tr><tr><td>USA</td><td>WA</td><td>Tacoma</td></tr></table>"
                    },
                    "metadata": {}
                },
                {
                    "output_type": "execute_result",
                    "execution_count": 4,
                    "data": {
                        "application/vnd.dataresource+json": {
                            "schema": {
                                "fields": [
                                    {
                                        "name": "CustomerCountry"
                                    },
                                    {
                                        "name": "CustomerRegion"
                                    },
                                    {
                                        "name": "CustomerCity"
                                    }
                                ]
                            },
                            "data": [
                                {
                                    "0": "Argentina",
                                    "1": "NULL",
                                    "2": "Buenos Aires"
                                },
                                {
                                    "0": "Austria",
                                    "1": "NULL",
                                    "2": "Graz"
                                },
                                {
                                    "0": "Austria",
                                    "1": "NULL",
                                    "2": "Salzburg"
                                },
                                {
                                    "0": "Belgium",
                                    "1": "NULL",
                                    "2": "Bruxelles"
                                },
                                {
                                    "0": "Belgium",
                                    "1": "NULL",
                                    "2": "Charleroi"
                                },
                                {
                                    "0": "Brazil",
                                    "1": "RJ",
                                    "2": "Rio de Janeiro"
                                },
                                {
                                    "0": "Brazil",
                                    "1": "SP",
                                    "2": "Campinas"
                                },
                                {
                                    "0": "Brazil",
                                    "1": "SP",
                                    "2": "Resende"
                                },
                                {
                                    "0": "Brazil",
                                    "1": "SP",
                                    "2": "Sao Paulo"
                                },
                                {
                                    "0": "Canada",
                                    "1": "BC",
                                    "2": "Tsawassen"
                                },
                                {
                                    "0": "Canada",
                                    "1": "BC",
                                    "2": "Vancouver"
                                },
                                {
                                    "0": "Canada",
                                    "1": "Québec",
                                    "2": "Montréal"
                                },
                                {
                                    "0": "Denmark",
                                    "1": "NULL",
                                    "2": "Århus"
                                },
                                {
                                    "0": "Denmark",
                                    "1": "NULL",
                                    "2": "Kobenhavn"
                                },
                                {
                                    "0": "Finland",
                                    "1": "NULL",
                                    "2": "Helsinki"
                                },
                                {
                                    "0": "Finland",
                                    "1": "NULL",
                                    "2": "Oulu"
                                },
                                {
                                    "0": "France",
                                    "1": "NULL",
                                    "2": "Lille"
                                },
                                {
                                    "0": "France",
                                    "1": "NULL",
                                    "2": "Lyon"
                                },
                                {
                                    "0": "France",
                                    "1": "NULL",
                                    "2": "Marseille"
                                },
                                {
                                    "0": "France",
                                    "1": "NULL",
                                    "2": "Nantes"
                                },
                                {
                                    "0": "France",
                                    "1": "NULL",
                                    "2": "Paris"
                                },
                                {
                                    "0": "France",
                                    "1": "NULL",
                                    "2": "Reims"
                                },
                                {
                                    "0": "France",
                                    "1": "NULL",
                                    "2": "Strasbourg"
                                },
                                {
                                    "0": "France",
                                    "1": "NULL",
                                    "2": "Toulouse"
                                },
                                {
                                    "0": "France",
                                    "1": "NULL",
                                    "2": "Versailles"
                                },
                                {
                                    "0": "Germany",
                                    "1": "NULL",
                                    "2": "Aachen"
                                },
                                {
                                    "0": "Germany",
                                    "1": "NULL",
                                    "2": "Berlin"
                                },
                                {
                                    "0": "Germany",
                                    "1": "NULL",
                                    "2": "Brandenburg"
                                },
                                {
                                    "0": "Germany",
                                    "1": "NULL",
                                    "2": "Cunewalde"
                                },
                                {
                                    "0": "Germany",
                                    "1": "NULL",
                                    "2": "Frankfurt a.M."
                                },
                                {
                                    "0": "Germany",
                                    "1": "NULL",
                                    "2": "Köln"
                                },
                                {
                                    "0": "Germany",
                                    "1": "NULL",
                                    "2": "Leipzig"
                                },
                                {
                                    "0": "Germany",
                                    "1": "NULL",
                                    "2": "Mannheim"
                                },
                                {
                                    "0": "Germany",
                                    "1": "NULL",
                                    "2": "München"
                                },
                                {
                                    "0": "Germany",
                                    "1": "NULL",
                                    "2": "Münster"
                                },
                                {
                                    "0": "Germany",
                                    "1": "NULL",
                                    "2": "Stuttgart"
                                },
                                {
                                    "0": "Ireland",
                                    "1": "Co. Cork",
                                    "2": "Cork"
                                },
                                {
                                    "0": "Italy",
                                    "1": "NULL",
                                    "2": "Bergamo"
                                },
                                {
                                    "0": "Italy",
                                    "1": "NULL",
                                    "2": "Reggio Emilia"
                                },
                                {
                                    "0": "Italy",
                                    "1": "NULL",
                                    "2": "Torino"
                                },
                                {
                                    "0": "Mexico",
                                    "1": "NULL",
                                    "2": "México D.F."
                                },
                                {
                                    "0": "Norway",
                                    "1": "NULL",
                                    "2": "Stavern"
                                },
                                {
                                    "0": "Poland",
                                    "1": "NULL",
                                    "2": "Warszawa"
                                },
                                {
                                    "0": "Portugal",
                                    "1": "NULL",
                                    "2": "Lisboa"
                                },
                                {
                                    "0": "Spain",
                                    "1": "NULL",
                                    "2": "Barcelona"
                                },
                                {
                                    "0": "Spain",
                                    "1": "NULL",
                                    "2": "Madrid"
                                },
                                {
                                    "0": "Spain",
                                    "1": "NULL",
                                    "2": "Sevilla"
                                },
                                {
                                    "0": "Sweden",
                                    "1": "NULL",
                                    "2": "Bräcke"
                                },
                                {
                                    "0": "Sweden",
                                    "1": "NULL",
                                    "2": "Luleå"
                                },
                                {
                                    "0": "Switzerland",
                                    "1": "NULL",
                                    "2": "Bern"
                                },
                                {
                                    "0": "Switzerland",
                                    "1": "NULL",
                                    "2": "Genève"
                                },
                                {
                                    "0": "UK",
                                    "1": "Isle of Wight",
                                    "2": "Cowes"
                                },
                                {
                                    "0": "USA",
                                    "1": "AK",
                                    "2": "Anchorage"
                                },
                                {
                                    "0": "USA",
                                    "1": "CA",
                                    "2": "San Francisco"
                                },
                                {
                                    "0": "USA",
                                    "1": "ID",
                                    "2": "Boise"
                                },
                                {
                                    "0": "USA",
                                    "1": "MT",
                                    "2": "Butte"
                                },
                                {
                                    "0": "USA",
                                    "1": "NM",
                                    "2": "Albuquerque"
                                },
                                {
                                    "0": "USA",
                                    "1": "OR",
                                    "2": "Elgin"
                                },
                                {
                                    "0": "USA",
                                    "1": "OR",
                                    "2": "Eugene"
                                },
                                {
                                    "0": "USA",
                                    "1": "OR",
                                    "2": "Portland"
                                },
                                {
                                    "0": "USA",
                                    "1": "WA",
                                    "2": "Walla Walla"
                                },
                                {
                                    "0": "USA",
                                    "1": "WY",
                                    "2": "Lander"
                                },
                                {
                                    "0": "Venezuela",
                                    "1": "DF",
                                    "2": "Caracas"
                                },
                                {
                                    "0": "Venezuela",
                                    "1": "Lara",
                                    "2": "Barquisimeto"
                                },
                                {
                                    "0": "Venezuela",
                                    "1": "Nueva Esparta",
                                    "2": "I. de Margarita"
                                },
                                {
                                    "0": "Venezuela",
                                    "1": "Táchira",
                                    "2": "San Cristóbal"
                                }
                            ]
                        },
                        "text/html": "<table><tr><th>CustomerCountry</th><th>CustomerRegion</th><th>CustomerCity</th></tr><tr><td>Argentina</td><td>NULL</td><td>Buenos Aires</td></tr><tr><td>Austria</td><td>NULL</td><td>Graz</td></tr><tr><td>Austria</td><td>NULL</td><td>Salzburg</td></tr><tr><td>Belgium</td><td>NULL</td><td>Bruxelles</td></tr><tr><td>Belgium</td><td>NULL</td><td>Charleroi</td></tr><tr><td>Brazil</td><td>RJ</td><td>Rio de Janeiro</td></tr><tr><td>Brazil</td><td>SP</td><td>Campinas</td></tr><tr><td>Brazil</td><td>SP</td><td>Resende</td></tr><tr><td>Brazil</td><td>SP</td><td>Sao Paulo</td></tr><tr><td>Canada</td><td>BC</td><td>Tsawassen</td></tr><tr><td>Canada</td><td>BC</td><td>Vancouver</td></tr><tr><td>Canada</td><td>Québec</td><td>Montréal</td></tr><tr><td>Denmark</td><td>NULL</td><td>Århus</td></tr><tr><td>Denmark</td><td>NULL</td><td>Kobenhavn</td></tr><tr><td>Finland</td><td>NULL</td><td>Helsinki</td></tr><tr><td>Finland</td><td>NULL</td><td>Oulu</td></tr><tr><td>France</td><td>NULL</td><td>Lille</td></tr><tr><td>France</td><td>NULL</td><td>Lyon</td></tr><tr><td>France</td><td>NULL</td><td>Marseille</td></tr><tr><td>France</td><td>NULL</td><td>Nantes</td></tr><tr><td>France</td><td>NULL</td><td>Paris</td></tr><tr><td>France</td><td>NULL</td><td>Reims</td></tr><tr><td>France</td><td>NULL</td><td>Strasbourg</td></tr><tr><td>France</td><td>NULL</td><td>Toulouse</td></tr><tr><td>France</td><td>NULL</td><td>Versailles</td></tr><tr><td>Germany</td><td>NULL</td><td>Aachen</td></tr><tr><td>Germany</td><td>NULL</td><td>Berlin</td></tr><tr><td>Germany</td><td>NULL</td><td>Brandenburg</td></tr><tr><td>Germany</td><td>NULL</td><td>Cunewalde</td></tr><tr><td>Germany</td><td>NULL</td><td>Frankfurt a.M.</td></tr><tr><td>Germany</td><td>NULL</td><td>Köln</td></tr><tr><td>Germany</td><td>NULL</td><td>Leipzig</td></tr><tr><td>Germany</td><td>NULL</td><td>Mannheim</td></tr><tr><td>Germany</td><td>NULL</td><td>München</td></tr><tr><td>Germany</td><td>NULL</td><td>Münster</td></tr><tr><td>Germany</td><td>NULL</td><td>Stuttgart</td></tr><tr><td>Ireland</td><td>Co. Cork</td><td>Cork</td></tr><tr><td>Italy</td><td>NULL</td><td>Bergamo</td></tr><tr><td>Italy</td><td>NULL</td><td>Reggio Emilia</td></tr><tr><td>Italy</td><td>NULL</td><td>Torino</td></tr><tr><td>Mexico</td><td>NULL</td><td>México D.F.</td></tr><tr><td>Norway</td><td>NULL</td><td>Stavern</td></tr><tr><td>Poland</td><td>NULL</td><td>Warszawa</td></tr><tr><td>Portugal</td><td>NULL</td><td>Lisboa</td></tr><tr><td>Spain</td><td>NULL</td><td>Barcelona</td></tr><tr><td>Spain</td><td>NULL</td><td>Madrid</td></tr><tr><td>Spain</td><td>NULL</td><td>Sevilla</td></tr><tr><td>Sweden</td><td>NULL</td><td>Bräcke</td></tr><tr><td>Sweden</td><td>NULL</td><td>Luleå</td></tr><tr><td>Switzerland</td><td>NULL</td><td>Bern</td></tr><tr><td>Switzerland</td><td>NULL</td><td>Genève</td></tr><tr><td>UK</td><td>Isle of Wight</td><td>Cowes</td></tr><tr><td>USA</td><td>AK</td><td>Anchorage</td></tr><tr><td>USA</td><td>CA</td><td>San Francisco</td></tr><tr><td>USA</td><td>ID</td><td>Boise</td></tr><tr><td>USA</td><td>MT</td><td>Butte</td></tr><tr><td>USA</td><td>NM</td><td>Albuquerque</td></tr><tr><td>USA</td><td>OR</td><td>Elgin</td></tr><tr><td>USA</td><td>OR</td><td>Eugene</td></tr><tr><td>USA</td><td>OR</td><td>Portland</td></tr><tr><td>USA</td><td>WA</td><td>Walla Walla</td></tr><tr><td>USA</td><td>WY</td><td>Lander</td></tr><tr><td>Venezuela</td><td>DF</td><td>Caracas</td></tr><tr><td>Venezuela</td><td>Lara</td><td>Barquisimeto</td></tr><tr><td>Venezuela</td><td>Nueva Esparta</td><td>I. de Margarita</td></tr><tr><td>Venezuela</td><td>Táchira</td><td>San Cristóbal</td></tr></table>"
                    },
                    "metadata": {}
                }
            ],
            "execution_count": 4
        },
        {
            "cell_type": "markdown",
            "source": [
                "**EXCEPT ALL operator**\n",
                "\n",
                "EXCEPT ALL returns only occurrences of a row from the first multiset that do not have a corresponding occurrence in the second. If row R appears 6 times in the first multiset and 4 times in the second, R will appear 6-4= 2 times in the query. \n",
                "\n",
                "T\\_SQL does not provide EXCEPT ALL operator. You can achieve something similar using the ROW\\_NUMBER."
            ],
            "metadata": {
                "language": "sql",
                "azdata_cell_guid": "ebb588b9-fa8d-490e-a7f1-99dc99d08488"
            },
            "attachments": {}
        },
        {
            "cell_type": "code",
            "source": [
                "use Northwinds2022TSQLV7;\r\n",
                "WITH EXCEPT_ALL\r\n",
                "AS\r\n",
                "(\r\n",
                "\tSELECT \r\n",
                "\t\tROW_NUMBER() OVER (PARTITION BY e.EmployeeCountry, e.EmployeeRegion, e.EmployeeCity ORDER BY (SELECT 0)) AS rownum\r\n",
                "\t\t,e.EmployeeCountry, e.EmployeeRegion, e.EmployeeCity\r\n",
                "\r\n",
                "\tFROM HumanResources.Employee AS e\r\n",
                "\r\n",
                "\tEXCEPT\r\n",
                "\r\n",
                "\tSELECT \r\n",
                "\t\tROW_NUMBER() OVER (PARTITION BY c.CustomerCountry, c.CustomerRegion, c.CustomerCity ORDER BY (SELECT 0)) AS rownum\r\n",
                "\t\t,c.CustomerCountry, c.CustomerRegion, c.CustomerCity\r\n",
                "\tFROM sales.Customer AS c\r\n",
                ")\r\n",
                "\r\n",
                "SELECT EXCEPT_ALL.EmployeeCountry, EXCEPT_ALL.EmployeeRegion, EXCEPT_ALL.EmployeeCity \r\n",
                "FROM EXCEPT_ALL;"
            ],
            "metadata": {
                "language": "sql",
                "azdata_cell_guid": "a1192868-fc7b-4eb8-859f-850213ba18e1"
            },
            "outputs": [
                {
                    "output_type": "display_data",
                    "data": {
                        "text/html": "(3 rows affected)"
                    },
                    "metadata": {}
                },
                {
                    "output_type": "display_data",
                    "data": {
                        "text/html": "Total execution time: 00:00:00.019"
                    },
                    "metadata": {}
                },
                {
                    "output_type": "execute_result",
                    "execution_count": 5,
                    "data": {
                        "application/vnd.dataresource+json": {
                            "schema": {
                                "fields": [
                                    {
                                        "name": "EmployeeCountry"
                                    },
                                    {
                                        "name": "EmployeeRegion"
                                    },
                                    {
                                        "name": "EmployeeCity"
                                    }
                                ]
                            },
                            "data": [
                                {
                                    "0": "USA",
                                    "1": "WA",
                                    "2": "Redmond"
                                },
                                {
                                    "0": "USA",
                                    "1": "WA",
                                    "2": "Tacoma"
                                },
                                {
                                    "0": "USA",
                                    "1": "WA",
                                    "2": "Seattle"
                                }
                            ]
                        },
                        "text/html": "<table><tr><th>EmployeeCountry</th><th>EmployeeRegion</th><th>EmployeeCity</th></tr><tr><td>USA</td><td>WA</td><td>Redmond</td></tr><tr><td>USA</td><td>WA</td><td>Tacoma</td></tr><tr><td>USA</td><td>WA</td><td>Seattle</td></tr></table>"
                    },
                    "metadata": {}
                }
            ],
            "execution_count": 5
        },
        {
            "cell_type": "markdown",
            "source": [
                "**Precedence**\n",
                "\n",
                "INTERSECT operator precedes UNION and EXCEPT.\n",
                "\n",
                "UNION and EXCEPT are evaluated in order of appearance.\n",
                "\n",
                "Proposition: Retrun locations that are supplier locations, but not (locations that are both employee and customer locations).\""
            ],
            "metadata": {
                "language": "sql",
                "azdata_cell_guid": "30368486-5d56-4b5f-86c3-d1913d888965"
            },
            "attachments": {}
        },
        {
            "cell_type": "code",
            "source": [
                "use Northwinds2022TSQLV7;\r\n",
                "--Intersect happens before except. \r\n",
                "\r\n",
                "SELECT s.SupplierCountry, s.SupplierRegion, s.SupplierCity FROM Production.Supplier AS s\r\n",
                "EXCEPT\r\n",
                "SELECT e.EmployeeCountry, e.EmployeeRegion, e.EmployeeCity  FROM HumanResources.Employee AS e\r\n",
                "INTERSECT\r\n",
                "SELECT c.CustomerCountry, c.CustomerRegion, c.CustomerCity  FROM sales.Customer AS c;\r\n",
                "\r\n",
                "-- To control the order of operation, use parenthesis, which has the highest precedence.\r\n",
                "(SELECT s.SupplierCountry, s.SupplierRegion, s.SupplierCity FROM Production.Supplier AS s\r\n",
                "EXCEPT\r\n",
                "SELECT e.EmployeeCountry, e.EmployeeRegion, e.EmployeeCity  FROM HumanResources.Employee AS e)\r\n",
                "INTERSECT\r\n",
                "SELECT c.CustomerCountry, c.CustomerRegion, c.CustomerCity  FROM sales.Customer AS c \r\n",
                ""
            ],
            "metadata": {
                "language": "sql",
                "azdata_cell_guid": "e7d51c9b-acab-4b63-93c5-5fdacbce83c4"
            },
            "outputs": [
                {
                    "output_type": "display_data",
                    "data": {
                        "text/html": "(28 rows affected)"
                    },
                    "metadata": {}
                },
                {
                    "output_type": "display_data",
                    "data": {
                        "text/html": "(3 rows affected)"
                    },
                    "metadata": {}
                },
                {
                    "output_type": "display_data",
                    "data": {
                        "text/html": "Total execution time: 00:00:00.034"
                    },
                    "metadata": {}
                },
                {
                    "output_type": "execute_result",
                    "execution_count": 6,
                    "data": {
                        "application/vnd.dataresource+json": {
                            "schema": {
                                "fields": [
                                    {
                                        "name": "SupplierCountry"
                                    },
                                    {
                                        "name": "SupplierRegion"
                                    },
                                    {
                                        "name": "SupplierCity"
                                    }
                                ]
                            },
                            "data": [
                                {
                                    "0": "Australia",
                                    "1": "NSW",
                                    "2": "Sydney"
                                },
                                {
                                    "0": "Australia",
                                    "1": "Victoria",
                                    "2": "Melbourne"
                                },
                                {
                                    "0": "Brazil",
                                    "1": "NULL",
                                    "2": "Sao Paulo"
                                },
                                {
                                    "0": "Canada",
                                    "1": "Québec",
                                    "2": "Montréal"
                                },
                                {
                                    "0": "Canada",
                                    "1": "Québec",
                                    "2": "Ste-Hyacinthe"
                                },
                                {
                                    "0": "Denmark",
                                    "1": "NULL",
                                    "2": "Lyngby"
                                },
                                {
                                    "0": "Finland",
                                    "1": "NULL",
                                    "2": "Lappeenranta"
                                },
                                {
                                    "0": "France",
                                    "1": "NULL",
                                    "2": "Annecy"
                                },
                                {
                                    "0": "France",
                                    "1": "NULL",
                                    "2": "Montceau"
                                },
                                {
                                    "0": "France",
                                    "1": "NULL",
                                    "2": "Paris"
                                },
                                {
                                    "0": "Germany",
                                    "1": "NULL",
                                    "2": "Berlin"
                                },
                                {
                                    "0": "Germany",
                                    "1": "NULL",
                                    "2": "Cuxhaven"
                                },
                                {
                                    "0": "Germany",
                                    "1": "NULL",
                                    "2": "Frankfurt"
                                },
                                {
                                    "0": "Italy",
                                    "1": "NULL",
                                    "2": "Ravenna"
                                },
                                {
                                    "0": "Italy",
                                    "1": "NULL",
                                    "2": "Salerno"
                                },
                                {
                                    "0": "Japan",
                                    "1": "NULL",
                                    "2": "Osaka"
                                },
                                {
                                    "0": "Japan",
                                    "1": "NULL",
                                    "2": "Tokyo"
                                },
                                {
                                    "0": "Netherlands",
                                    "1": "NULL",
                                    "2": "Zaandam"
                                },
                                {
                                    "0": "Norway",
                                    "1": "NULL",
                                    "2": "Sandvika"
                                },
                                {
                                    "0": "Singapore",
                                    "1": "NULL",
                                    "2": "Singapore"
                                },
                                {
                                    "0": "Spain",
                                    "1": "Asturias",
                                    "2": "Oviedo"
                                },
                                {
                                    "0": "Sweden",
                                    "1": "NULL",
                                    "2": "Göteborg"
                                },
                                {
                                    "0": "Sweden",
                                    "1": "NULL",
                                    "2": "Stockholm"
                                },
                                {
                                    "0": "UK",
                                    "1": "NULL",
                                    "2": "Manchester"
                                },
                                {
                                    "0": "USA",
                                    "1": "LA",
                                    "2": "New Orleans"
                                },
                                {
                                    "0": "USA",
                                    "1": "MA",
                                    "2": "Boston"
                                },
                                {
                                    "0": "USA",
                                    "1": "MI",
                                    "2": "Ann Arbor"
                                },
                                {
                                    "0": "USA",
                                    "1": "OR",
                                    "2": "Bend"
                                }
                            ]
                        },
                        "text/html": "<table><tr><th>SupplierCountry</th><th>SupplierRegion</th><th>SupplierCity</th></tr><tr><td>Australia</td><td>NSW</td><td>Sydney</td></tr><tr><td>Australia</td><td>Victoria</td><td>Melbourne</td></tr><tr><td>Brazil</td><td>NULL</td><td>Sao Paulo</td></tr><tr><td>Canada</td><td>Québec</td><td>Montréal</td></tr><tr><td>Canada</td><td>Québec</td><td>Ste-Hyacinthe</td></tr><tr><td>Denmark</td><td>NULL</td><td>Lyngby</td></tr><tr><td>Finland</td><td>NULL</td><td>Lappeenranta</td></tr><tr><td>France</td><td>NULL</td><td>Annecy</td></tr><tr><td>France</td><td>NULL</td><td>Montceau</td></tr><tr><td>France</td><td>NULL</td><td>Paris</td></tr><tr><td>Germany</td><td>NULL</td><td>Berlin</td></tr><tr><td>Germany</td><td>NULL</td><td>Cuxhaven</td></tr><tr><td>Germany</td><td>NULL</td><td>Frankfurt</td></tr><tr><td>Italy</td><td>NULL</td><td>Ravenna</td></tr><tr><td>Italy</td><td>NULL</td><td>Salerno</td></tr><tr><td>Japan</td><td>NULL</td><td>Osaka</td></tr><tr><td>Japan</td><td>NULL</td><td>Tokyo</td></tr><tr><td>Netherlands</td><td>NULL</td><td>Zaandam</td></tr><tr><td>Norway</td><td>NULL</td><td>Sandvika</td></tr><tr><td>Singapore</td><td>NULL</td><td>Singapore</td></tr><tr><td>Spain</td><td>Asturias</td><td>Oviedo</td></tr><tr><td>Sweden</td><td>NULL</td><td>Göteborg</td></tr><tr><td>Sweden</td><td>NULL</td><td>Stockholm</td></tr><tr><td>UK</td><td>NULL</td><td>Manchester</td></tr><tr><td>USA</td><td>LA</td><td>New Orleans</td></tr><tr><td>USA</td><td>MA</td><td>Boston</td></tr><tr><td>USA</td><td>MI</td><td>Ann Arbor</td></tr><tr><td>USA</td><td>OR</td><td>Bend</td></tr></table>"
                    },
                    "metadata": {}
                },
                {
                    "output_type": "execute_result",
                    "execution_count": 6,
                    "data": {
                        "application/vnd.dataresource+json": {
                            "schema": {
                                "fields": [
                                    {
                                        "name": "SupplierCountry"
                                    },
                                    {
                                        "name": "SupplierRegion"
                                    },
                                    {
                                        "name": "SupplierCity"
                                    }
                                ]
                            },
                            "data": [
                                {
                                    "0": "Canada",
                                    "1": "Québec",
                                    "2": "Montréal"
                                },
                                {
                                    "0": "France",
                                    "1": "NULL",
                                    "2": "Paris"
                                },
                                {
                                    "0": "Germany",
                                    "1": "NULL",
                                    "2": "Berlin"
                                }
                            ]
                        },
                        "text/html": "<table><tr><th>SupplierCountry</th><th>SupplierRegion</th><th>SupplierCity</th></tr><tr><td>Canada</td><td>Québec</td><td>Montréal</td></tr><tr><td>France</td><td>NULL</td><td>Paris</td></tr><tr><td>Germany</td><td>NULL</td><td>Berlin</td></tr></table>"
                    },
                    "metadata": {}
                }
            ],
            "execution_count": 6
        },
        {
            "cell_type": "markdown",
            "source": [
                "**Circumventing unsupported logical phases**\n",
                "\n",
                "logical phases: ORDER BY, GROUP BY, HAVING, WHERE\n",
                "\n",
                "Only ORDER BY is allowed to be used on the result of the operator. WHERE, GROUP BY, and HAVING are not allowed. To get around that, use table expressions. Apply the logical query processing phase in the outer query.\n",
                "\n",
                "Proposition: Return the count of locations by the country."
            ],
            "metadata": {
                "language": "sql",
                "azdata_cell_guid": "b4f0110e-95ad-4cca-bb2d-881036198c5a"
            },
            "attachments": {}
        },
        {
            "cell_type": "code",
            "source": [
                "use Northwinds2022TSQLV7;\r\n",
                "SELECT u.EmployeeCountry, COUNT(*) AS numlocations\r\n",
                "FROM (SELECT e.EmployeeCountry, e.EmployeeRegion, e.EmployeeCity FROM HumanResources.Employee AS e\r\n",
                "\t   UNION\r\n",
                "       SELECT c.CustomerCountry, c.CustomerRegion, c.CustomerCity FROM sales.Customer AS c) AS u\r\n",
                "GROUP BY u.EmployeeCountry;"
            ],
            "metadata": {
                "language": "sql",
                "azdata_cell_guid": "12082ad5-bd3f-4440-aee9-382b5946c572"
            },
            "outputs": [
                {
                    "output_type": "display_data",
                    "data": {
                        "text/html": "(21 rows affected)"
                    },
                    "metadata": {}
                },
                {
                    "output_type": "display_data",
                    "data": {
                        "text/html": "Total execution time: 00:00:00.016"
                    },
                    "metadata": {}
                },
                {
                    "output_type": "execute_result",
                    "execution_count": 7,
                    "data": {
                        "application/vnd.dataresource+json": {
                            "schema": {
                                "fields": [
                                    {
                                        "name": "EmployeeCountry"
                                    },
                                    {
                                        "name": "numlocations"
                                    }
                                ]
                            },
                            "data": [
                                {
                                    "0": "Argentina",
                                    "1": "1"
                                },
                                {
                                    "0": "Austria",
                                    "1": "2"
                                },
                                {
                                    "0": "Belgium",
                                    "1": "2"
                                },
                                {
                                    "0": "Brazil",
                                    "1": "4"
                                },
                                {
                                    "0": "Canada",
                                    "1": "3"
                                },
                                {
                                    "0": "Denmark",
                                    "1": "2"
                                },
                                {
                                    "0": "Finland",
                                    "1": "2"
                                },
                                {
                                    "0": "France",
                                    "1": "9"
                                },
                                {
                                    "0": "Germany",
                                    "1": "11"
                                },
                                {
                                    "0": "Ireland",
                                    "1": "1"
                                },
                                {
                                    "0": "Italy",
                                    "1": "3"
                                },
                                {
                                    "0": "Mexico",
                                    "1": "1"
                                },
                                {
                                    "0": "Norway",
                                    "1": "1"
                                },
                                {
                                    "0": "Poland",
                                    "1": "1"
                                },
                                {
                                    "0": "Portugal",
                                    "1": "1"
                                },
                                {
                                    "0": "Spain",
                                    "1": "3"
                                },
                                {
                                    "0": "Sweden",
                                    "1": "2"
                                },
                                {
                                    "0": "Switzerland",
                                    "1": "2"
                                },
                                {
                                    "0": "UK",
                                    "1": "2"
                                },
                                {
                                    "0": "USA",
                                    "1": "14"
                                },
                                {
                                    "0": "Venezuela",
                                    "1": "4"
                                }
                            ]
                        },
                        "text/html": "<table><tr><th>EmployeeCountry</th><th>numlocations</th></tr><tr><td>Argentina</td><td>1</td></tr><tr><td>Austria</td><td>2</td></tr><tr><td>Belgium</td><td>2</td></tr><tr><td>Brazil</td><td>4</td></tr><tr><td>Canada</td><td>3</td></tr><tr><td>Denmark</td><td>2</td></tr><tr><td>Finland</td><td>2</td></tr><tr><td>France</td><td>9</td></tr><tr><td>Germany</td><td>11</td></tr><tr><td>Ireland</td><td>1</td></tr><tr><td>Italy</td><td>3</td></tr><tr><td>Mexico</td><td>1</td></tr><tr><td>Norway</td><td>1</td></tr><tr><td>Poland</td><td>1</td></tr><tr><td>Portugal</td><td>1</td></tr><tr><td>Spain</td><td>3</td></tr><tr><td>Sweden</td><td>2</td></tr><tr><td>Switzerland</td><td>2</td></tr><tr><td>UK</td><td>2</td></tr><tr><td>USA</td><td>14</td></tr><tr><td>Venezuela</td><td>4</td></tr></table>"
                    },
                    "metadata": {}
                }
            ],
            "execution_count": 7
        },
        {
            "cell_type": "markdown",
            "source": [
                "**Circumventing unsupported logical phases**\n",
                "\n",
                "Using TOP and OFFSET-FETCH with set operators. \n",
                "\n",
                "ORDER BY is not allowed in the inner query unless it is used with TOP or OFFSET-FETCH. In order to use this with the set operators, use the table expression again.\n",
                "\n",
                "Proposition: Return the last 2 orders placed by employee 3 and 5."
            ],
            "metadata": {
                "language": "sql",
                "azdata_cell_guid": "3eaaff87-9670-42e5-936a-45d799b15449"
            },
            "attachments": {}
        },
        {
            "cell_type": "code",
            "source": [
                "use Northwinds2022TSQLV7;\r\n",
                "SELECT D1.EmployeeId, D1.OrderId, D1.OrderDate \r\n",
                "FROM (SELECT TOP (2) employeeId, o.OrderId, o.OrderDate\r\n",
                "\t  FROM sales.[order] AS o\r\n",
                "\t  WHERE o.EmployeeId = 3\r\n",
                "\t  ORDER BY o.orderdate DESC, o.OrderId DESC) AS D1\r\n",
                "\r\n",
                "UNION ALL\r\n",
                "\r\n",
                "SELECT D2.EmployeeId, D2.OrderId, D2.OrderDate \r\n",
                "FROM (SELECT TOP (2) employeeId, o.OrderId, o.OrderDate\r\n",
                "\t  FROM sales.[order] AS o\r\n",
                "\t  WHERE o.EmployeeId = 5\r\n",
                "\t  ORDER BY o.orderdate DESC, o.OrderId DESC) AS D2;\r\n",
                ""
            ],
            "metadata": {
                "language": "sql",
                "azdata_cell_guid": "daff9ea8-8285-4326-8ef3-811b6ed2f600"
            },
            "outputs": [
                {
                    "output_type": "display_data",
                    "data": {
                        "text/html": "(4 rows affected)"
                    },
                    "metadata": {}
                },
                {
                    "output_type": "display_data",
                    "data": {
                        "text/html": "Total execution time: 00:00:00.014"
                    },
                    "metadata": {}
                },
                {
                    "output_type": "execute_result",
                    "execution_count": 8,
                    "data": {
                        "application/vnd.dataresource+json": {
                            "schema": {
                                "fields": [
                                    {
                                        "name": "EmployeeId"
                                    },
                                    {
                                        "name": "OrderId"
                                    },
                                    {
                                        "name": "OrderDate"
                                    }
                                ]
                            },
                            "data": [
                                {
                                    "0": "3",
                                    "1": "11063",
                                    "2": "2016-04-30"
                                },
                                {
                                    "0": "3",
                                    "1": "11057",
                                    "2": "2016-04-29"
                                },
                                {
                                    "0": "5",
                                    "1": "11043",
                                    "2": "2016-04-22"
                                },
                                {
                                    "0": "5",
                                    "1": "10954",
                                    "2": "2016-03-17"
                                }
                            ]
                        },
                        "text/html": "<table><tr><th>EmployeeId</th><th>OrderId</th><th>OrderDate</th></tr><tr><td>3</td><td>11063</td><td>2016-04-30</td></tr><tr><td>3</td><td>11057</td><td>2016-04-29</td></tr><tr><td>5</td><td>11043</td><td>2016-04-22</td></tr><tr><td>5</td><td>10954</td><td>2016-03-17</td></tr></table>"
                    },
                    "metadata": {}
                }
            ],
            "execution_count": 8
        },
        {
            "cell_type": "markdown",
            "source": [
                "Exercise 1\n",
                "\n",
                "  \n",
                "\n",
                "Explain the difference between the UNION ALL and UNION operators. In what cases are the two equivalent? When they are equivalent, which one should you use?\n",
                "\n",
                "UNION removes the duplicates from the result set while UNION ALL preserves them. The result set will be identical if the duplicates do not exist. UNION is the preferred operator to use."
            ],
            "metadata": {
                "language": "sql",
                "azdata_cell_guid": "b9b78982-ef47-4b82-9380-8b2f17535127"
            },
            "attachments": {}
        },
        {
            "cell_type": "markdown",
            "source": [
                "**Exercise 2**\n",
                "\n",
                "Write a query that generates a virtual auxiliary table of 10 numbers in the range 1 through 10 without using a looping construct. You do not need to guarantee any order of the rows in the ouput of your solution."
            ],
            "metadata": {
                "language": "sql",
                "azdata_cell_guid": "f4c63283-54b6-428b-98cb-8705943fa6a2"
            },
            "attachments": {}
        },
        {
            "cell_type": "code",
            "source": [
                "use Northwinds2022TSQLV7;\r\n",
                "SELECT 1 AS n \r\n",
                "UNION ALL SELECT 2\r\n",
                "UNION ALL SELECT 3\r\n",
                "UNION ALL SELECT 4\r\n",
                "UNION ALL SELECT 5\r\n",
                "UNION ALL SELECT 6\r\n",
                "UNION ALL SELECT 7\r\n",
                "UNION ALL SELECT 8\r\n",
                "UNION ALL SELECT 9\r\n",
                "UNION ALL SELECT 10"
            ],
            "metadata": {
                "language": "sql",
                "azdata_cell_guid": "60ee8e12-14f9-4774-b658-92baa6006e7c"
            },
            "outputs": [
                {
                    "output_type": "display_data",
                    "data": {
                        "text/html": "(10 rows affected)"
                    },
                    "metadata": {}
                },
                {
                    "output_type": "display_data",
                    "data": {
                        "text/html": "Total execution time: 00:00:00.008"
                    },
                    "metadata": {}
                },
                {
                    "output_type": "execute_result",
                    "execution_count": 9,
                    "data": {
                        "application/vnd.dataresource+json": {
                            "schema": {
                                "fields": [
                                    {
                                        "name": "n"
                                    }
                                ]
                            },
                            "data": [
                                {
                                    "0": "1"
                                },
                                {
                                    "0": "2"
                                },
                                {
                                    "0": "3"
                                },
                                {
                                    "0": "4"
                                },
                                {
                                    "0": "5"
                                },
                                {
                                    "0": "6"
                                },
                                {
                                    "0": "7"
                                },
                                {
                                    "0": "8"
                                },
                                {
                                    "0": "9"
                                },
                                {
                                    "0": "10"
                                }
                            ]
                        },
                        "text/html": "<table><tr><th>n</th></tr><tr><td>1</td></tr><tr><td>2</td></tr><tr><td>3</td></tr><tr><td>4</td></tr><tr><td>5</td></tr><tr><td>6</td></tr><tr><td>7</td></tr><tr><td>8</td></tr><tr><td>9</td></tr><tr><td>10</td></tr></table>"
                    },
                    "metadata": {}
                }
            ],
            "execution_count": 9
        },
        {
            "cell_type": "markdown",
            "source": [
                "**Exercise 3**\n",
                "\n",
                "Write a query that returns customer and employee pairs  that had order activity in January 2016 but not in February 2016"
            ],
            "metadata": {
                "language": "sql",
                "azdata_cell_guid": "be05a0eb-9f9b-4766-871c-caa7789cd7db"
            },
            "attachments": {}
        },
        {
            "cell_type": "code",
            "source": [
                "use Northwinds2022TSQLV7;\r\n",
                "SELECT  o.CustomerId, o.EmployeeId FROM sales.[Order] AS [o] WHERE o.OrderDate >='20160101' AND o.OrderDate < '20160201'\r\n",
                "\r\n",
                "EXCEPT\r\n",
                "\r\n",
                "SELECT  o.CustomerId, o.EmployeeId  FROM sales.[Order] AS [o] WHERE o.OrderDate >='20160201' AND o.OrderDate < '20160301'"
            ],
            "metadata": {
                "language": "sql",
                "azdata_cell_guid": "9074b4c7-8eff-4025-9b3a-64fd3fa0ba74"
            },
            "outputs": [
                {
                    "output_type": "display_data",
                    "data": {
                        "text/html": "(50 rows affected)"
                    },
                    "metadata": {}
                },
                {
                    "output_type": "display_data",
                    "data": {
                        "text/html": "Total execution time: 00:00:00.013"
                    },
                    "metadata": {}
                },
                {
                    "output_type": "execute_result",
                    "execution_count": 10,
                    "data": {
                        "application/vnd.dataresource+json": {
                            "schema": {
                                "fields": [
                                    {
                                        "name": "CustomerId"
                                    },
                                    {
                                        "name": "EmployeeId"
                                    }
                                ]
                            },
                            "data": [
                                {
                                    "0": "1",
                                    "1": "1"
                                },
                                {
                                    "0": "3",
                                    "1": "3"
                                },
                                {
                                    "0": "5",
                                    "1": "8"
                                },
                                {
                                    "0": "5",
                                    "1": "9"
                                },
                                {
                                    "0": "6",
                                    "1": "9"
                                },
                                {
                                    "0": "7",
                                    "1": "6"
                                },
                                {
                                    "0": "9",
                                    "1": "1"
                                },
                                {
                                    "0": "12",
                                    "1": "2"
                                },
                                {
                                    "0": "16",
                                    "1": "7"
                                },
                                {
                                    "0": "17",
                                    "1": "1"
                                },
                                {
                                    "0": "20",
                                    "1": "7"
                                },
                                {
                                    "0": "24",
                                    "1": "8"
                                },
                                {
                                    "0": "25",
                                    "1": "1"
                                },
                                {
                                    "0": "26",
                                    "1": "3"
                                },
                                {
                                    "0": "32",
                                    "1": "4"
                                },
                                {
                                    "0": "38",
                                    "1": "9"
                                },
                                {
                                    "0": "39",
                                    "1": "3"
                                },
                                {
                                    "0": "40",
                                    "1": "2"
                                },
                                {
                                    "0": "41",
                                    "1": "2"
                                },
                                {
                                    "0": "42",
                                    "1": "2"
                                },
                                {
                                    "0": "44",
                                    "1": "8"
                                },
                                {
                                    "0": "47",
                                    "1": "3"
                                },
                                {
                                    "0": "47",
                                    "1": "4"
                                },
                                {
                                    "0": "47",
                                    "1": "8"
                                },
                                {
                                    "0": "49",
                                    "1": "7"
                                },
                                {
                                    "0": "55",
                                    "1": "2"
                                },
                                {
                                    "0": "55",
                                    "1": "3"
                                },
                                {
                                    "0": "56",
                                    "1": "6"
                                },
                                {
                                    "0": "59",
                                    "1": "8"
                                },
                                {
                                    "0": "63",
                                    "1": "8"
                                },
                                {
                                    "0": "64",
                                    "1": "9"
                                },
                                {
                                    "0": "65",
                                    "1": "3"
                                },
                                {
                                    "0": "65",
                                    "1": "8"
                                },
                                {
                                    "0": "66",
                                    "1": "5"
                                },
                                {
                                    "0": "67",
                                    "1": "5"
                                },
                                {
                                    "0": "70",
                                    "1": "3"
                                },
                                {
                                    "0": "71",
                                    "1": "2"
                                },
                                {
                                    "0": "75",
                                    "1": "1"
                                },
                                {
                                    "0": "76",
                                    "1": "2"
                                },
                                {
                                    "0": "76",
                                    "1": "5"
                                },
                                {
                                    "0": "80",
                                    "1": "1"
                                },
                                {
                                    "0": "81",
                                    "1": "1"
                                },
                                {
                                    "0": "81",
                                    "1": "3"
                                },
                                {
                                    "0": "81",
                                    "1": "4"
                                },
                                {
                                    "0": "82",
                                    "1": "6"
                                },
                                {
                                    "0": "84",
                                    "1": "1"
                                },
                                {
                                    "0": "84",
                                    "1": "3"
                                },
                                {
                                    "0": "84",
                                    "1": "4"
                                },
                                {
                                    "0": "88",
                                    "1": "7"
                                },
                                {
                                    "0": "89",
                                    "1": "4"
                                }
                            ]
                        },
                        "text/html": "<table><tr><th>CustomerId</th><th>EmployeeId</th></tr><tr><td>1</td><td>1</td></tr><tr><td>3</td><td>3</td></tr><tr><td>5</td><td>8</td></tr><tr><td>5</td><td>9</td></tr><tr><td>6</td><td>9</td></tr><tr><td>7</td><td>6</td></tr><tr><td>9</td><td>1</td></tr><tr><td>12</td><td>2</td></tr><tr><td>16</td><td>7</td></tr><tr><td>17</td><td>1</td></tr><tr><td>20</td><td>7</td></tr><tr><td>24</td><td>8</td></tr><tr><td>25</td><td>1</td></tr><tr><td>26</td><td>3</td></tr><tr><td>32</td><td>4</td></tr><tr><td>38</td><td>9</td></tr><tr><td>39</td><td>3</td></tr><tr><td>40</td><td>2</td></tr><tr><td>41</td><td>2</td></tr><tr><td>42</td><td>2</td></tr><tr><td>44</td><td>8</td></tr><tr><td>47</td><td>3</td></tr><tr><td>47</td><td>4</td></tr><tr><td>47</td><td>8</td></tr><tr><td>49</td><td>7</td></tr><tr><td>55</td><td>2</td></tr><tr><td>55</td><td>3</td></tr><tr><td>56</td><td>6</td></tr><tr><td>59</td><td>8</td></tr><tr><td>63</td><td>8</td></tr><tr><td>64</td><td>9</td></tr><tr><td>65</td><td>3</td></tr><tr><td>65</td><td>8</td></tr><tr><td>66</td><td>5</td></tr><tr><td>67</td><td>5</td></tr><tr><td>70</td><td>3</td></tr><tr><td>71</td><td>2</td></tr><tr><td>75</td><td>1</td></tr><tr><td>76</td><td>2</td></tr><tr><td>76</td><td>5</td></tr><tr><td>80</td><td>1</td></tr><tr><td>81</td><td>1</td></tr><tr><td>81</td><td>3</td></tr><tr><td>81</td><td>4</td></tr><tr><td>82</td><td>6</td></tr><tr><td>84</td><td>1</td></tr><tr><td>84</td><td>3</td></tr><tr><td>84</td><td>4</td></tr><tr><td>88</td><td>7</td></tr><tr><td>89</td><td>4</td></tr></table>"
                    },
                    "metadata": {}
                }
            ],
            "execution_count": 10
        },
        {
            "cell_type": "markdown",
            "source": [
                "**Exercise 4**\n",
                "\n",
                "Write a query that returns customer and employee pairs that had order activity in both January 2016 and February 2016"
            ],
            "metadata": {
                "language": "sql",
                "azdata_cell_guid": "d7224ebe-50d0-41a5-8668-bb1b42b7d695"
            },
            "attachments": {}
        },
        {
            "cell_type": "code",
            "source": [
                "use Northwinds2022TSQLV7;\r\n",
                "SELECT  o.CustomerId, o.EmployeeId FROM sales.[Order] AS [o] WHERE o.OrderDate >='20160101' AND o.OrderDate < '20160201'\r\n",
                "\r\n",
                "INTERSECT\r\n",
                "\r\n",
                "SELECT  o.CustomerId, o.EmployeeId  FROM sales.[Order] AS [o] WHERE o.OrderDate >='20160201' AND o.OrderDate < '20160301'"
            ],
            "metadata": {
                "language": "sql",
                "azdata_cell_guid": "d3762f75-8707-4d7d-b96e-9a8b80ee272c"
            },
            "outputs": [
                {
                    "output_type": "display_data",
                    "data": {
                        "text/html": "(5 rows affected)"
                    },
                    "metadata": {}
                },
                {
                    "output_type": "display_data",
                    "data": {
                        "text/html": "Total execution time: 00:00:00.018"
                    },
                    "metadata": {}
                },
                {
                    "output_type": "execute_result",
                    "execution_count": 11,
                    "data": {
                        "application/vnd.dataresource+json": {
                            "schema": {
                                "fields": [
                                    {
                                        "name": "CustomerId"
                                    },
                                    {
                                        "name": "EmployeeId"
                                    }
                                ]
                            },
                            "data": [
                                {
                                    "0": "20",
                                    "1": "3"
                                },
                                {
                                    "0": "39",
                                    "1": "9"
                                },
                                {
                                    "0": "46",
                                    "1": "5"
                                },
                                {
                                    "0": "67",
                                    "1": "1"
                                },
                                {
                                    "0": "71",
                                    "1": "4"
                                }
                            ]
                        },
                        "text/html": "<table><tr><th>CustomerId</th><th>EmployeeId</th></tr><tr><td>20</td><td>3</td></tr><tr><td>39</td><td>9</td></tr><tr><td>46</td><td>5</td></tr><tr><td>67</td><td>1</td></tr><tr><td>71</td><td>4</td></tr></table>"
                    },
                    "metadata": {}
                }
            ],
            "execution_count": 11
        },
        {
            "cell_type": "markdown",
            "source": [
                "**Exercise 5**\n",
                "\n",
                "Write a query that returns customer and employee pairs that had order activity in both January 2016 and February 2016 but not in 2015. Might not need the parenthesis for INTERSECT precedes EXCEPT anyway."
            ],
            "metadata": {
                "language": "sql",
                "azdata_cell_guid": "6c81ca5f-cee3-4799-9d7f-9c13c0c2abd4"
            },
            "attachments": {}
        },
        {
            "cell_type": "code",
            "source": [
                "(SELECT  o.CustomerId, o.EmployeeId FROM sales.[Order] AS [o] WHERE o.OrderDate >='20160101' AND o.OrderDate < '20160201'\r\n",
                "\r\n",
                "INTERSECT\r\n",
                "\r\n",
                "SELECT  o.CustomerId, o.EmployeeId  FROM sales.[Order] AS [o] WHERE o.OrderDate >='20160201' AND o.OrderDate < '20160301')\r\n",
                "\r\n",
                "EXCEPT\r\n",
                "\r\n",
                "SELECT  o.CustomerId, o.EmployeeId  FROM sales.[Order] AS [o] WHERE o.OrderDate >='20150101' AND o.OrderDate < '20160101'"
            ],
            "metadata": {
                "language": "sql",
                "azdata_cell_guid": "164c0cca-0282-4432-9368-73609b379fe7",
                "tags": []
            },
            "outputs": [
                {
                    "output_type": "display_data",
                    "data": {
                        "text/html": "(2 rows affected)"
                    },
                    "metadata": {}
                },
                {
                    "output_type": "display_data",
                    "data": {
                        "text/html": "Total execution time: 00:00:00.014"
                    },
                    "metadata": {}
                },
                {
                    "output_type": "execute_result",
                    "execution_count": 12,
                    "data": {
                        "application/vnd.dataresource+json": {
                            "schema": {
                                "fields": [
                                    {
                                        "name": "CustomerId"
                                    },
                                    {
                                        "name": "EmployeeId"
                                    }
                                ]
                            },
                            "data": [
                                {
                                    "0": "67",
                                    "1": "1"
                                },
                                {
                                    "0": "46",
                                    "1": "5"
                                }
                            ]
                        },
                        "text/html": "<table><tr><th>CustomerId</th><th>EmployeeId</th></tr><tr><td>67</td><td>1</td></tr><tr><td>46</td><td>5</td></tr></table>"
                    },
                    "metadata": {}
                }
            ],
            "execution_count": 12
        },
        {
            "cell_type": "markdown",
            "source": [
                "**Exercise 6** \n",
                "\n",
                "You are asked to add logic to the query such that it would guarantee that the rows from Employees would be returned in the output before the rows from Suppliers, and within each segment, the rows should be sorted by country, region, city"
            ],
            "metadata": {
                "language": "sql",
                "azdata_cell_guid": "635db770-84cc-4692-b773-5989178ce5f6"
            },
            "attachments": {}
        },
        {
            "cell_type": "code",
            "source": [
                "use Northwinds2022TSQLV7;\r\n",
                "SELECT D.EmployeeCountry, D.EmployeeRegion, D.EmployeeCity\r\n",
                "FROM \r\n",
                "\t(   SELECT 1 AS sortcol, EmployeeCountry, EmployeeRegion, EmployeeCity\r\n",
                "\t\tFROM HumanResources.Employee\r\n",
                "\r\n",
                "\t\tUNION ALL\r\n",
                "\r\n",
                "\t\tSELECT 2 AS sortcol, SupplierCountry, SupplierRegion, SupplierCity\r\n",
                "\t\tFROM Production.Supplier) AS D\r\n",
                "ORDER BY sortcol, D.EmployeeCountry, D.EmployeeRegion, D.EmployeeCity"
            ],
            "metadata": {
                "language": "sql",
                "azdata_cell_guid": "d2539486-6943-4aa6-bdd5-b79ce7fcafd0"
            },
            "outputs": [
                {
                    "output_type": "display_data",
                    "data": {
                        "text/html": "(38 rows affected)"
                    },
                    "metadata": {}
                },
                {
                    "output_type": "display_data",
                    "data": {
                        "text/html": "Total execution time: 00:00:00.012"
                    },
                    "metadata": {}
                },
                {
                    "output_type": "execute_result",
                    "execution_count": 13,
                    "data": {
                        "application/vnd.dataresource+json": {
                            "schema": {
                                "fields": [
                                    {
                                        "name": "EmployeeCountry"
                                    },
                                    {
                                        "name": "EmployeeRegion"
                                    },
                                    {
                                        "name": "EmployeeCity"
                                    }
                                ]
                            },
                            "data": [
                                {
                                    "0": "UK",
                                    "1": "NULL",
                                    "2": "London"
                                },
                                {
                                    "0": "UK",
                                    "1": "NULL",
                                    "2": "London"
                                },
                                {
                                    "0": "UK",
                                    "1": "NULL",
                                    "2": "London"
                                },
                                {
                                    "0": "UK",
                                    "1": "NULL",
                                    "2": "London"
                                },
                                {
                                    "0": "USA",
                                    "1": "WA",
                                    "2": "Kirkland"
                                },
                                {
                                    "0": "USA",
                                    "1": "WA",
                                    "2": "Redmond"
                                },
                                {
                                    "0": "USA",
                                    "1": "WA",
                                    "2": "Seattle"
                                },
                                {
                                    "0": "USA",
                                    "1": "WA",
                                    "2": "Seattle"
                                },
                                {
                                    "0": "USA",
                                    "1": "WA",
                                    "2": "Tacoma"
                                },
                                {
                                    "0": "Australia",
                                    "1": "NSW",
                                    "2": "Sydney"
                                },
                                {
                                    "0": "Australia",
                                    "1": "Victoria",
                                    "2": "Melbourne"
                                },
                                {
                                    "0": "Brazil",
                                    "1": "NULL",
                                    "2": "Sao Paulo"
                                },
                                {
                                    "0": "Canada",
                                    "1": "Québec",
                                    "2": "Montréal"
                                },
                                {
                                    "0": "Canada",
                                    "1": "Québec",
                                    "2": "Ste-Hyacinthe"
                                },
                                {
                                    "0": "Denmark",
                                    "1": "NULL",
                                    "2": "Lyngby"
                                },
                                {
                                    "0": "Finland",
                                    "1": "NULL",
                                    "2": "Lappeenranta"
                                },
                                {
                                    "0": "France",
                                    "1": "NULL",
                                    "2": "Annecy"
                                },
                                {
                                    "0": "France",
                                    "1": "NULL",
                                    "2": "Montceau"
                                },
                                {
                                    "0": "France",
                                    "1": "NULL",
                                    "2": "Paris"
                                },
                                {
                                    "0": "Germany",
                                    "1": "NULL",
                                    "2": "Berlin"
                                },
                                {
                                    "0": "Germany",
                                    "1": "NULL",
                                    "2": "Cuxhaven"
                                },
                                {
                                    "0": "Germany",
                                    "1": "NULL",
                                    "2": "Frankfurt"
                                },
                                {
                                    "0": "Italy",
                                    "1": "NULL",
                                    "2": "Ravenna"
                                },
                                {
                                    "0": "Italy",
                                    "1": "NULL",
                                    "2": "Salerno"
                                },
                                {
                                    "0": "Japan",
                                    "1": "NULL",
                                    "2": "Osaka"
                                },
                                {
                                    "0": "Japan",
                                    "1": "NULL",
                                    "2": "Tokyo"
                                },
                                {
                                    "0": "Netherlands",
                                    "1": "NULL",
                                    "2": "Zaandam"
                                },
                                {
                                    "0": "Norway",
                                    "1": "NULL",
                                    "2": "Sandvika"
                                },
                                {
                                    "0": "Singapore",
                                    "1": "NULL",
                                    "2": "Singapore"
                                },
                                {
                                    "0": "Spain",
                                    "1": "Asturias",
                                    "2": "Oviedo"
                                },
                                {
                                    "0": "Sweden",
                                    "1": "NULL",
                                    "2": "Göteborg"
                                },
                                {
                                    "0": "Sweden",
                                    "1": "NULL",
                                    "2": "Stockholm"
                                },
                                {
                                    "0": "UK",
                                    "1": "NULL",
                                    "2": "London"
                                },
                                {
                                    "0": "UK",
                                    "1": "NULL",
                                    "2": "Manchester"
                                },
                                {
                                    "0": "USA",
                                    "1": "LA",
                                    "2": "New Orleans"
                                },
                                {
                                    "0": "USA",
                                    "1": "MA",
                                    "2": "Boston"
                                },
                                {
                                    "0": "USA",
                                    "1": "MI",
                                    "2": "Ann Arbor"
                                },
                                {
                                    "0": "USA",
                                    "1": "OR",
                                    "2": "Bend"
                                }
                            ]
                        },
                        "text/html": "<table><tr><th>EmployeeCountry</th><th>EmployeeRegion</th><th>EmployeeCity</th></tr><tr><td>UK</td><td>NULL</td><td>London</td></tr><tr><td>UK</td><td>NULL</td><td>London</td></tr><tr><td>UK</td><td>NULL</td><td>London</td></tr><tr><td>UK</td><td>NULL</td><td>London</td></tr><tr><td>USA</td><td>WA</td><td>Kirkland</td></tr><tr><td>USA</td><td>WA</td><td>Redmond</td></tr><tr><td>USA</td><td>WA</td><td>Seattle</td></tr><tr><td>USA</td><td>WA</td><td>Seattle</td></tr><tr><td>USA</td><td>WA</td><td>Tacoma</td></tr><tr><td>Australia</td><td>NSW</td><td>Sydney</td></tr><tr><td>Australia</td><td>Victoria</td><td>Melbourne</td></tr><tr><td>Brazil</td><td>NULL</td><td>Sao Paulo</td></tr><tr><td>Canada</td><td>Québec</td><td>Montréal</td></tr><tr><td>Canada</td><td>Québec</td><td>Ste-Hyacinthe</td></tr><tr><td>Denmark</td><td>NULL</td><td>Lyngby</td></tr><tr><td>Finland</td><td>NULL</td><td>Lappeenranta</td></tr><tr><td>France</td><td>NULL</td><td>Annecy</td></tr><tr><td>France</td><td>NULL</td><td>Montceau</td></tr><tr><td>France</td><td>NULL</td><td>Paris</td></tr><tr><td>Germany</td><td>NULL</td><td>Berlin</td></tr><tr><td>Germany</td><td>NULL</td><td>Cuxhaven</td></tr><tr><td>Germany</td><td>NULL</td><td>Frankfurt</td></tr><tr><td>Italy</td><td>NULL</td><td>Ravenna</td></tr><tr><td>Italy</td><td>NULL</td><td>Salerno</td></tr><tr><td>Japan</td><td>NULL</td><td>Osaka</td></tr><tr><td>Japan</td><td>NULL</td><td>Tokyo</td></tr><tr><td>Netherlands</td><td>NULL</td><td>Zaandam</td></tr><tr><td>Norway</td><td>NULL</td><td>Sandvika</td></tr><tr><td>Singapore</td><td>NULL</td><td>Singapore</td></tr><tr><td>Spain</td><td>Asturias</td><td>Oviedo</td></tr><tr><td>Sweden</td><td>NULL</td><td>Göteborg</td></tr><tr><td>Sweden</td><td>NULL</td><td>Stockholm</td></tr><tr><td>UK</td><td>NULL</td><td>London</td></tr><tr><td>UK</td><td>NULL</td><td>Manchester</td></tr><tr><td>USA</td><td>LA</td><td>New Orleans</td></tr><tr><td>USA</td><td>MA</td><td>Boston</td></tr><tr><td>USA</td><td>MI</td><td>Ann Arbor</td></tr><tr><td>USA</td><td>OR</td><td>Bend</td></tr></table>"
                    },
                    "metadata": {}
                }
            ],
            "execution_count": 13
        }
    ]
}