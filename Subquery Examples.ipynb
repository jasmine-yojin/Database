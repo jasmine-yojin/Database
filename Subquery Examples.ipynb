{
    "metadata": {
        "kernelspec": {
            "name": "SQL",
            "display_name": "SQL",
            "language": "sql"
        },
        "language_info": {
            "name": "sql",
            "version": ""
        }
    },
    "nbformat_minor": 2,
    "nbformat": 4,
    "cells": [
        {
            "cell_type": "markdown",
            "source": [
                "**Definitions**\n",
                "\n",
                "<u>self-contained subquery</u>: no dependency on tables from the outer query\n",
                "\n",
                "<u>correlated subquery</u>: dependence on tables from the outer query"
            ],
            "metadata": {
                "azdata_cell_guid": "542eb961-f36f-4d25-b45a-9acaae5c5446"
            },
            "attachments": {}
        },
        {
            "cell_type": "markdown",
            "source": [
                "**Self-Contained Scalar Subquery**\n",
                "\n",
                "Uses equality operator\n",
                "\n",
                "Proposition: Return maximum orderID"
            ],
            "metadata": {
                "azdata_cell_guid": "99eb308d-6e5e-4138-a92b-6e1a2591a815"
            },
            "attachments": {}
        },
        {
            "cell_type": "code",
            "source": [
                "--Let's first try to do obtain the results using a two-step process. Then we will see that this can be done in one step using a subquery.\n",
                "use Northwinds2022TSQLV7\n",
                "DECLARE @maxid AS INT = (SELECT MAX (OrderId) FROM Sales.[Order]);\n",
                "\n",
                "SELECT orderId, OrderDate, EmployeeId, CustomerId\n",
                "From Sales.[Order]\n",
                "WHERE OrderId = @maxid;\n",
                "\n",
                "--Same thing, using a subquery. Note that Alias was used in the subquery to refer to the same time maybe to differentiate between the outer query and subquery.\n",
                "SELECT orderId, OrderDate, EmployeeId, CustomerId\n",
                "FROM Sales.[Order]\n",
                "WHERE OrderId =(SELECT MAX (O.OrderId) \n",
                "\t\t\t\tFROM Sales.[Order] AS O);\n",
                "\n",
                "--For scalar function to be valid, the subquery must return a scalar value or a single value. The following query is incorrect.\n",
                "-- This query works without error because there happens to be one employee who meets this criteria. However, since it has a potential to return\n",
                "--more than one results, it is wrong.\n",
                "SELECT orderId, EmployeeId\n",
                "FROM Sales.[Order]\n",
                "WHERE EmployeeId = (SELECT E.EmployeeId\n",
                "\t\t\t\t\tFROM HumanResources.Employee AS E\n",
                "\t\t\t\t\tWHERE E.EmployeeLastName LIKE N'C%');\n",
                "\n",
                "--Trying the same query with condition that will return more than one value (employee whose last name starts with D) and see if the query gets an error. Davis and Doyle are two results.\n",
                "SELECT orderId\n",
                "FROM Sales.[Order]\n",
                "WHERE EmployeeId = (SELECT E.EmployeeId\n",
                "\t\t\t\t\tFROM HumanResources.Employee AS E\n",
                "\t\t\t\t\tWHERE E.EmployeeLastName LIKE N'D%');\n",
                "\n",
                "--In the following query, the subquery returns NULL. The outer query returns empty set because NULL with an equality operator (comparison) returns UNKNOWN.\n",
                "SELECT orderID\n",
                "FROM Sales.[Order]\n",
                "WHERE EmployeeId = (SELECT E.EmployeeId\n",
                "\t\t\t\t\tFROM HumanResources.Employee AS E\n",
                "\t\t\t\t\tWHERE E.EmployeeLastName LIKE N'A%');\n",
                "\n"
            ],
            "metadata": {
                "azdata_cell_guid": "82fd4814-356e-4f88-a0ff-fc9b55b0621a",
                "language": "sql"
            },
            "outputs": [],
            "execution_count": null
        },
        {
            "cell_type": "markdown",
            "source": [
                "<span style=\"color: #608b4e;\"><b>Self-contained&nbsp;multivalued&nbsp;subquery</b></span>\n",
                "\n",
                "<span style=\"color: #608b4e;\">Proposition: Return orders placed by employees whose last name starts with 'D'</span>"
            ],
            "metadata": {
                "azdata_cell_guid": "3b41619b-f890-4e8d-abf0-f0b189e25acd"
            },
            "attachments": {}
        },
        {
            "cell_type": "code",
            "source": [
                "\n",
                "--Returns multiple values as a single column. Use the IN predicate. \n",
                "use Northwinds2022TSQLV7\n",
                "SELECT orderId, EmployeeId\n",
                "FROM Sales.[Order]\n",
                "WHERE EmployeeId IN (SELECT E.EmployeeId\n",
                "\t\t\t\t\tFROM HumanResources.Employee AS E\n",
                "\t\t\t\t\tWHERE E.EmployeeLastName LIKE N'D%');\n",
                "\n",
                "--IN can handle none, one or more.\n",
                "\n",
                "--Notice that you can accomplish the same thing with an inner join:\n",
                "SELECT orderID, o.employeeid, E.employeeLastName\n",
                "FROM Sales.[Order] O\n",
                "\tINNER JOIN HumanResources.Employee AS E\n",
                "\t\tON O.EmployeeId= E.EmployeeId\n",
                "WHERE E.EmployeeLastName LIKE N'D%';\n",
                "--Multiple query methods are possible to arrive at the same answer. Depending on the database engine, joins perform better or at times subqueries are better.\n",
                "--Pick the fastest one for particular databases\n",
                "\n",
                "--Applying the group by.\n",
                "SELECT E.EmployeeLastName, count(O.orderID) as [Number of Orders]\n",
                "FROM Sales.[Order] O\n",
                "\tINNER JOIN HumanResources.Employee AS E\n",
                "\t\tON O.EmployeeId= E.EmployeeId\n",
                "WHERE E.EmployeeLastName LIKE N'D%'\n",
                "GROUP BY E.EmployeeLastName\n",
                "ORDER BY E.EmployeeLastName;\n",
                "\n",
                "--another example of multivalued subquery\n",
                "--Proposition: Return orders placed by customers from United States. \n",
                "SELECT CustomerId, orderid, orderdate, EmployeeId\n",
                "FROM Sales.[Order]\n",
                "\tWHERE CustomerId IN (SELECT C.CustomerId\n",
                "\t\t\t\t\t\t FROM Sales.Customer AS C\n",
                "\t\t\t\t\t\t WHERE CustomerCountry = N'USA');\n"
            ],
            "metadata": {
                "azdata_cell_guid": "25d03a4a-d48b-44db-83a3-f19f2ba1cc55",
                "language": "sql"
            },
            "outputs": [],
            "execution_count": null
        },
        {
            "cell_type": "markdown",
            "source": [
                "<span style=\"color: #608b4e;\"><b>Demonstration&nbsp;of&nbsp;Multiple&nbsp;Self-Contained&nbsp;Subqueries</b></span>\n",
                "\n",
                "<span style=\"color: #608b4e;\">Proposition:&nbsp;Write&nbsp;a&nbsp;query&nbsp;that&nbsp;returns&nbsp;all&nbsp;individual&nbsp;order&nbsp;IDs&nbsp;that&nbsp;are&nbsp;missing&nbsp;between&nbsp;the&nbsp;minimum&nbsp;and&nbsp;maximum&nbsp;orderid in&nbsp;the&nbsp;table.&nbsp;In&nbsp;other&nbsp;words,&nbsp;return&nbsp;the&nbsp;odd-numbered&nbsp;orderids</span>"
            ],
            "metadata": {
                "azdata_cell_guid": "9771aaea-e4a4-4b0a-a9ab-74fe2d78003d"
            },
            "attachments": {}
        },
        {
            "cell_type": "code",
            "source": [
                "\n",
                "--Demonstration of Multiple Self-Contained Subqueries\n",
                "DROP TABLE IF EXISTS dbo.Orders;\n",
                "CREATE TABLE dbo.Orders (\n",
                "\torderId INT NOT NULL CONSTRAINT PK_Orders PRIMARY KEY\n",
                ");\n",
                "\n",
                "--popluate the table with even-numbered orderid.\n",
                "INSERT INTO dbo.Orders (orderId)\n",
                "\tSELECT orderId\n",
                "\tFROM Sales.[Order]\n",
                "\tWhere orderid % 2 = 0;\n",
                "\n",
                "--Proposition: Write a query that returns all individual order IDs that are missing between the minimum and maximum ones in the table. In other words, return the odd-numbered orderids\n",
                "SELECT n\n",
                "FROM dbo.Nums\n",
                "WHERE n BETWEEN (SELECT MIN (O.OrderId) FROM dbo.Orders AS O)\n",
                "\t\t\tAND (SELECT MAX (O.OrderId) FROM dbo.Orders AS O)\n",
                "  AND n\tNOT IN (SELECT O.orderId FROM dbo.Orders AS O);\n"
            ],
            "metadata": {
                "azdata_cell_guid": "2528a3cd-0976-43fb-9fef-d4b72aafd515",
                "language": "sql"
            },
            "outputs": [],
            "execution_count": null
        },
        {
            "cell_type": "markdown",
            "source": [
                "**Left outer join with self-contained subqueries**\n",
                "\n",
                "<span style=\"color: #608b4e;\">Proposition:&nbsp;Return&nbsp;customers&nbsp;with&nbsp;no&nbsp;orders</span>"
            ],
            "metadata": {
                "azdata_cell_guid": "606c1d2c-e719-411c-957c-dbaf7960ed02"
            },
            "attachments": {}
        },
        {
            "cell_type": "code",
            "source": [
                "use Northwinds2022TSQLV7\n",
                "--You can negate the IN Predicate\n",
                "\n",
                "SELECT CustomerId, CustomerCompanyName\n",
                "FROM Sales.Customer\n",
                "WHERE CustomerId NOT IN (SELECT O.CustomerId\n",
                "\t\t\t\t\t\t FROM Sales.[Order] AS O);\n",
                "\n",
                "--You can do the same thing with the left outer join\n",
                "select c.customerid, c.customercompanyname\n",
                "from sales.customer as c\n",
                "\t left outer join sales.[order] o\n",
                "\t     on c.customerid = o.CustomerId\n",
                "where o.orderid is null; -- or o.customerid is null\n",
                "-- It is best practice to qualify the subquery to exlude NULLS. This was done to demonstrate the negation. More on this in the bottom \"null trouble\""
            ],
            "metadata": {
                "azdata_cell_guid": "83925dfe-253b-471f-8794-737ea0a0b623",
                "language": "sql",
                "tags": []
            },
            "outputs": [],
            "execution_count": null
        },
        {
            "cell_type": "markdown",
            "source": [
                "**Correlated subqueries**\n",
                "\n",
                "Subqueries refers to attributes from the outer query. The subquery depends on the outer query and cannot be invoked independently.  \n",
                "\n",
                "\\* \\*The subquery is evaluated separately for EACH outer row\\*\\*\n",
                "\n",
                "Proposition: Find the max orderID for each customer."
            ],
            "metadata": {
                "azdata_cell_guid": "c1bb74c0-e7c6-46a9-a7dd-0bb79d73776a"
            },
            "attachments": {}
        },
        {
            "cell_type": "code",
            "source": [
                "USE Northwinds2022TSQLV7\n",
                "SELECT customerId, OrderId, OrderDate, EmployeeId\n",
                "FROM Sales.[Order] as O1\n",
                "WHERE orderId = (SELECT MAX (O2.OrderId)\n",
                "\t\t\t\t  FROM Sales.[Order] as O2\n",
                "\t\t\t\t  WHERE O2.CustomerId = O1.CustomerId);\n",
                "\n",
                "-- debugging correlated queries is hard because the inner depends on the outer to run. Just substitute the inner query with a constant to see if it works. \n",
                "SELECT MAX (O2.OrderId)\n",
                "FROM Sales.[Order] AS O2\n",
                "WHERE O2.CustomerId = 85"
            ],
            "metadata": {
                "azdata_cell_guid": "db5e2f74-0066-44d5-aeda-55828786b23d",
                "language": "sql"
            },
            "outputs": [
                {
                    "output_type": "display_data",
                    "data": {
                        "text/html": "(89 rows affected)"
                    },
                    "metadata": {}
                },
                {
                    "output_type": "display_data",
                    "data": {
                        "text/html": "(1 row affected)"
                    },
                    "metadata": {}
                },
                {
                    "output_type": "display_data",
                    "data": {
                        "text/html": "Total execution time: 00:00:00.019"
                    },
                    "metadata": {}
                },
                {
                    "output_type": "execute_result",
                    "execution_count": 19,
                    "data": {
                        "application/vnd.dataresource+json": {
                            "data": [
                                {
                                    "0": "91",
                                    "1": "11044",
                                    "2": "2016-04-23",
                                    "3": "4"
                                },
                                {
                                    "0": "90",
                                    "1": "11005",
                                    "2": "2016-04-07",
                                    "3": "2"
                                },
                                {
                                    "0": "89",
                                    "1": "11066",
                                    "2": "2016-05-01",
                                    "3": "7"
                                },
                                {
                                    "0": "88",
                                    "1": "10935",
                                    "2": "2016-03-09",
                                    "3": "4"
                                },
                                {
                                    "0": "87",
                                    "1": "11025",
                                    "2": "2016-04-15",
                                    "3": "6"
                                },
                                {
                                    "0": "86",
                                    "1": "11046",
                                    "2": "2016-04-23",
                                    "3": "8"
                                },
                                {
                                    "0": "85",
                                    "1": "10739",
                                    "2": "2015-11-12",
                                    "3": "3"
                                },
                                {
                                    "0": "84",
                                    "1": "10850",
                                    "2": "2016-01-23",
                                    "3": "1"
                                },
                                {
                                    "0": "83",
                                    "1": "10994",
                                    "2": "2016-04-02",
                                    "3": "2"
                                },
                                {
                                    "0": "82",
                                    "1": "10822",
                                    "2": "2016-01-08",
                                    "3": "6"
                                },
                                {
                                    "0": "81",
                                    "1": "10839",
                                    "2": "2016-01-19",
                                    "3": "3"
                                },
                                {
                                    "0": "80",
                                    "1": "11069",
                                    "2": "2016-05-04",
                                    "3": "1"
                                },
                                {
                                    "0": "79",
                                    "1": "10967",
                                    "2": "2016-03-23",
                                    "3": "2"
                                },
                                {
                                    "0": "78",
                                    "1": "11003",
                                    "2": "2016-04-06",
                                    "3": "3"
                                },
                                {
                                    "0": "77",
                                    "1": "10992",
                                    "2": "2016-04-01",
                                    "3": "1"
                                },
                                {
                                    "0": "76",
                                    "1": "11038",
                                    "2": "2016-04-21",
                                    "3": "1"
                                },
                                {
                                    "0": "75",
                                    "1": "10974",
                                    "2": "2016-03-25",
                                    "3": "3"
                                },
                                {
                                    "0": "74",
                                    "1": "11043",
                                    "2": "2016-04-22",
                                    "3": "5"
                                },
                                {
                                    "0": "73",
                                    "1": "11074",
                                    "2": "2016-05-06",
                                    "3": "7"
                                },
                                {
                                    "0": "72",
                                    "1": "10869",
                                    "2": "2016-02-04",
                                    "3": "5"
                                },
                                {
                                    "0": "71",
                                    "1": "11064",
                                    "2": "2016-05-01",
                                    "3": "1"
                                },
                                {
                                    "0": "70",
                                    "1": "11015",
                                    "2": "2016-04-10",
                                    "3": "2"
                                },
                                {
                                    "0": "69",
                                    "1": "11013",
                                    "2": "2016-04-09",
                                    "3": "2"
                                },
                                {
                                    "0": "68",
                                    "1": "11075",
                                    "2": "2016-05-06",
                                    "3": "8"
                                },
                                {
                                    "0": "67",
                                    "1": "11059",
                                    "2": "2016-04-29",
                                    "3": "2"
                                },
                                {
                                    "0": "66",
                                    "1": "11062",
                                    "2": "2016-04-30",
                                    "3": "4"
                                },
                                {
                                    "0": "65",
                                    "1": "11077",
                                    "2": "2016-05-06",
                                    "3": "1"
                                },
                                {
                                    "0": "64",
                                    "1": "11019",
                                    "2": "2016-04-13",
                                    "3": "6"
                                },
                                {
                                    "0": "63",
                                    "1": "11021",
                                    "2": "2016-04-14",
                                    "3": "3"
                                },
                                {
                                    "0": "62",
                                    "1": "11068",
                                    "2": "2016-05-04",
                                    "3": "8"
                                },
                                {
                                    "0": "61",
                                    "1": "10989",
                                    "2": "2016-03-31",
                                    "3": "2"
                                },
                                {
                                    "0": "60",
                                    "1": "11007",
                                    "2": "2016-04-08",
                                    "3": "8"
                                },
                                {
                                    "0": "59",
                                    "1": "11053",
                                    "2": "2016-04-27",
                                    "3": "2"
                                },
                                {
                                    "0": "58",
                                    "1": "11073",
                                    "2": "2016-05-05",
                                    "3": "2"
                                },
                                {
                                    "0": "56",
                                    "1": "11020",
                                    "2": "2016-04-14",
                                    "3": "2"
                                },
                                {
                                    "0": "55",
                                    "1": "11034",
                                    "2": "2016-04-20",
                                    "3": "8"
                                },
                                {
                                    "0": "54",
                                    "1": "10986",
                                    "2": "2016-03-30",
                                    "3": "8"
                                },
                                {
                                    "0": "53",
                                    "1": "11057",
                                    "2": "2016-04-29",
                                    "3": "3"
                                },
                                {
                                    "0": "52",
                                    "1": "10945",
                                    "2": "2016-03-12",
                                    "3": "4"
                                },
                                {
                                    "0": "51",
                                    "1": "10724",
                                    "2": "2015-10-30",
                                    "3": "8"
                                },
                                {
                                    "0": "50",
                                    "1": "11004",
                                    "2": "2016-04-07",
                                    "3": "3"
                                },
                                {
                                    "0": "49",
                                    "1": "10950",
                                    "2": "2016-03-16",
                                    "3": "1"
                                },
                                {
                                    "0": "48",
                                    "1": "11018",
                                    "2": "2016-04-13",
                                    "3": "4"
                                },
                                {
                                    "0": "47",
                                    "1": "11039",
                                    "2": "2016-04-21",
                                    "3": "1"
                                },
                                {
                                    "0": "46",
                                    "1": "11071",
                                    "2": "2016-05-05",
                                    "3": "1"
                                },
                                {
                                    "0": "45",
                                    "1": "10884",
                                    "2": "2016-02-12",
                                    "3": "4"
                                },
                                {
                                    "0": "44",
                                    "1": "11070",
                                    "2": "2016-05-05",
                                    "3": "2"
                                },
                                {
                                    "0": "43",
                                    "1": "10545",
                                    "2": "2015-05-22",
                                    "3": "8"
                                },
                                {
                                    "0": "42",
                                    "1": "10810",
                                    "2": "2016-01-01",
                                    "3": "2"
                                },
                                {
                                    "0": "41",
                                    "1": "11051",
                                    "2": "2016-04-27",
                                    "3": "7"
                                },
                                {
                                    "0": "40",
                                    "1": "10973",
                                    "2": "2016-03-24",
                                    "3": "6"
                                },
                                {
                                    "0": "39",
                                    "1": "11028",
                                    "2": "2016-04-16",
                                    "3": "2"
                                },
                                {
                                    "0": "38",
                                    "1": "10933",
                                    "2": "2016-03-06",
                                    "3": "6"
                                },
                                {
                                    "0": "37",
                                    "1": "11063",
                                    "2": "2016-04-30",
                                    "3": "3"
                                },
                                {
                                    "0": "36",
                                    "1": "10660",
                                    "2": "2015-09-08",
                                    "3": "8"
                                },
                                {
                                    "0": "35",
                                    "1": "11055",
                                    "2": "2016-04-28",
                                    "3": "7"
                                },
                                {
                                    "0": "34",
                                    "1": "11052",
                                    "2": "2016-04-27",
                                    "3": "3"
                                },
                                {
                                    "0": "33",
                                    "1": "10785",
                                    "2": "2015-12-18",
                                    "3": "1"
                                },
                                {
                                    "0": "32",
                                    "1": "11061",
                                    "2": "2016-04-30",
                                    "3": "4"
                                },
                                {
                                    "0": "31",
                                    "1": "11049",
                                    "2": "2016-04-24",
                                    "3": "3"
                                },
                                {
                                    "0": "30",
                                    "1": "11037",
                                    "2": "2016-04-21",
                                    "3": "7"
                                },
                                {
                                    "0": "29",
                                    "1": "10928",
                                    "2": "2016-03-05",
                                    "3": "1"
                                },
                                {
                                    "0": "28",
                                    "1": "10963",
                                    "2": "2016-03-19",
                                    "3": "9"
                                },
                                {
                                    "0": "27",
                                    "1": "11060",
                                    "2": "2016-04-30",
                                    "3": "2"
                                },
                                {
                                    "0": "26",
                                    "1": "10971",
                                    "2": "2016-03-24",
                                    "3": "2"
                                },
                                {
                                    "0": "25",
                                    "1": "11012",
                                    "2": "2016-04-09",
                                    "3": "1"
                                },
                                {
                                    "0": "24",
                                    "1": "11050",
                                    "2": "2016-04-27",
                                    "3": "8"
                                },
                                {
                                    "0": "23",
                                    "1": "10789",
                                    "2": "2015-12-22",
                                    "3": "1"
                                },
                                {
                                    "0": "21",
                                    "1": "10725",
                                    "2": "2015-10-31",
                                    "3": "4"
                                },
                                {
                                    "0": "20",
                                    "1": "11072",
                                    "2": "2016-05-05",
                                    "3": "4"
                                },
                                {
                                    "0": "19",
                                    "1": "11056",
                                    "2": "2016-04-28",
                                    "3": "8"
                                },
                                {
                                    "0": "18",
                                    "1": "10890",
                                    "2": "2016-02-16",
                                    "3": "7"
                                },
                                {
                                    "0": "17",
                                    "1": "11067",
                                    "2": "2016-05-04",
                                    "3": "1"
                                },
                                {
                                    "0": "16",
                                    "1": "10848",
                                    "2": "2016-01-23",
                                    "3": "7"
                                },
                                {
                                    "0": "15",
                                    "1": "11042",
                                    "2": "2016-04-22",
                                    "3": "2"
                                },
                                {
                                    "0": "14",
                                    "1": "11041",
                                    "2": "2016-04-22",
                                    "3": "3"
                                },
                                {
                                    "0": "13",
                                    "1": "10259",
                                    "2": "2014-07-18",
                                    "3": "4"
                                },
                                {
                                    "0": "12",
                                    "1": "11054",
                                    "2": "2016-04-28",
                                    "3": "8"
                                },
                                {
                                    "0": "11",
                                    "1": "11023",
                                    "2": "2016-04-14",
                                    "3": "1"
                                },
                                {
                                    "0": "10",
                                    "1": "11048",
                                    "2": "2016-04-24",
                                    "3": "7"
                                },
                                {
                                    "0": "9",
                                    "1": "11076",
                                    "2": "2016-05-06",
                                    "3": "4"
                                },
                                {
                                    "0": "8",
                                    "1": "10970",
                                    "2": "2016-03-24",
                                    "3": "9"
                                },
                                {
                                    "0": "7",
                                    "1": "10826",
                                    "2": "2016-01-12",
                                    "3": "6"
                                },
                                {
                                    "0": "6",
                                    "1": "11058",
                                    "2": "2016-04-29",
                                    "3": "9"
                                },
                                {
                                    "0": "5",
                                    "1": "10924",
                                    "2": "2016-03-04",
                                    "3": "3"
                                },
                                {
                                    "0": "4",
                                    "1": "11016",
                                    "2": "2016-04-10",
                                    "3": "9"
                                },
                                {
                                    "0": "3",
                                    "1": "10856",
                                    "2": "2016-01-28",
                                    "3": "3"
                                },
                                {
                                    "0": "2",
                                    "1": "10926",
                                    "2": "2016-03-04",
                                    "3": "4"
                                },
                                {
                                    "0": "1",
                                    "1": "11011",
                                    "2": "2016-04-09",
                                    "3": "3"
                                }
                            ],
                            "schema": {
                                "fields": [
                                    {
                                        "name": "customerId"
                                    },
                                    {
                                        "name": "OrderId"
                                    },
                                    {
                                        "name": "OrderDate"
                                    },
                                    {
                                        "name": "EmployeeId"
                                    }
                                ]
                            }
                        },
                        "text/html": "<table>\n<tr><th>customerId</th><th>OrderId</th><th>OrderDate</th><th>EmployeeId</th></tr>\n<tr><td>91</td><td>11044</td><td>2016-04-23</td><td>4</td></tr>\n<tr><td>90</td><td>11005</td><td>2016-04-07</td><td>2</td></tr>\n<tr><td>89</td><td>11066</td><td>2016-05-01</td><td>7</td></tr>\n<tr><td>88</td><td>10935</td><td>2016-03-09</td><td>4</td></tr>\n<tr><td>87</td><td>11025</td><td>2016-04-15</td><td>6</td></tr>\n<tr><td>86</td><td>11046</td><td>2016-04-23</td><td>8</td></tr>\n<tr><td>85</td><td>10739</td><td>2015-11-12</td><td>3</td></tr>\n<tr><td>84</td><td>10850</td><td>2016-01-23</td><td>1</td></tr>\n<tr><td>83</td><td>10994</td><td>2016-04-02</td><td>2</td></tr>\n<tr><td>82</td><td>10822</td><td>2016-01-08</td><td>6</td></tr>\n<tr><td>81</td><td>10839</td><td>2016-01-19</td><td>3</td></tr>\n<tr><td>80</td><td>11069</td><td>2016-05-04</td><td>1</td></tr>\n<tr><td>79</td><td>10967</td><td>2016-03-23</td><td>2</td></tr>\n<tr><td>78</td><td>11003</td><td>2016-04-06</td><td>3</td></tr>\n<tr><td>77</td><td>10992</td><td>2016-04-01</td><td>1</td></tr>\n<tr><td>76</td><td>11038</td><td>2016-04-21</td><td>1</td></tr>\n<tr><td>75</td><td>10974</td><td>2016-03-25</td><td>3</td></tr>\n<tr><td>74</td><td>11043</td><td>2016-04-22</td><td>5</td></tr>\n<tr><td>73</td><td>11074</td><td>2016-05-06</td><td>7</td></tr>\n<tr><td>72</td><td>10869</td><td>2016-02-04</td><td>5</td></tr>\n<tr><td>71</td><td>11064</td><td>2016-05-01</td><td>1</td></tr>\n<tr><td>70</td><td>11015</td><td>2016-04-10</td><td>2</td></tr>\n<tr><td>69</td><td>11013</td><td>2016-04-09</td><td>2</td></tr>\n<tr><td>68</td><td>11075</td><td>2016-05-06</td><td>8</td></tr>\n<tr><td>67</td><td>11059</td><td>2016-04-29</td><td>2</td></tr>\n<tr><td>66</td><td>11062</td><td>2016-04-30</td><td>4</td></tr>\n<tr><td>65</td><td>11077</td><td>2016-05-06</td><td>1</td></tr>\n<tr><td>64</td><td>11019</td><td>2016-04-13</td><td>6</td></tr>\n<tr><td>63</td><td>11021</td><td>2016-04-14</td><td>3</td></tr>\n<tr><td>62</td><td>11068</td><td>2016-05-04</td><td>8</td></tr>\n<tr><td>61</td><td>10989</td><td>2016-03-31</td><td>2</td></tr>\n<tr><td>60</td><td>11007</td><td>2016-04-08</td><td>8</td></tr>\n<tr><td>59</td><td>11053</td><td>2016-04-27</td><td>2</td></tr>\n<tr><td>58</td><td>11073</td><td>2016-05-05</td><td>2</td></tr>\n<tr><td>56</td><td>11020</td><td>2016-04-14</td><td>2</td></tr>\n<tr><td>55</td><td>11034</td><td>2016-04-20</td><td>8</td></tr>\n<tr><td>54</td><td>10986</td><td>2016-03-30</td><td>8</td></tr>\n<tr><td>53</td><td>11057</td><td>2016-04-29</td><td>3</td></tr>\n<tr><td>52</td><td>10945</td><td>2016-03-12</td><td>4</td></tr>\n<tr><td>51</td><td>10724</td><td>2015-10-30</td><td>8</td></tr>\n<tr><td>50</td><td>11004</td><td>2016-04-07</td><td>3</td></tr>\n<tr><td>49</td><td>10950</td><td>2016-03-16</td><td>1</td></tr>\n<tr><td>48</td><td>11018</td><td>2016-04-13</td><td>4</td></tr>\n<tr><td>47</td><td>11039</td><td>2016-04-21</td><td>1</td></tr>\n<tr><td>46</td><td>11071</td><td>2016-05-05</td><td>1</td></tr>\n<tr><td>45</td><td>10884</td><td>2016-02-12</td><td>4</td></tr>\n<tr><td>44</td><td>11070</td><td>2016-05-05</td><td>2</td></tr>\n<tr><td>43</td><td>10545</td><td>2015-05-22</td><td>8</td></tr>\n<tr><td>42</td><td>10810</td><td>2016-01-01</td><td>2</td></tr>\n<tr><td>41</td><td>11051</td><td>2016-04-27</td><td>7</td></tr>\n<tr><td>40</td><td>10973</td><td>2016-03-24</td><td>6</td></tr>\n<tr><td>39</td><td>11028</td><td>2016-04-16</td><td>2</td></tr>\n<tr><td>38</td><td>10933</td><td>2016-03-06</td><td>6</td></tr>\n<tr><td>37</td><td>11063</td><td>2016-04-30</td><td>3</td></tr>\n<tr><td>36</td><td>10660</td><td>2015-09-08</td><td>8</td></tr>\n<tr><td>35</td><td>11055</td><td>2016-04-28</td><td>7</td></tr>\n<tr><td>34</td><td>11052</td><td>2016-04-27</td><td>3</td></tr>\n<tr><td>33</td><td>10785</td><td>2015-12-18</td><td>1</td></tr>\n<tr><td>32</td><td>11061</td><td>2016-04-30</td><td>4</td></tr>\n<tr><td>31</td><td>11049</td><td>2016-04-24</td><td>3</td></tr>\n<tr><td>30</td><td>11037</td><td>2016-04-21</td><td>7</td></tr>\n<tr><td>29</td><td>10928</td><td>2016-03-05</td><td>1</td></tr>\n<tr><td>28</td><td>10963</td><td>2016-03-19</td><td>9</td></tr>\n<tr><td>27</td><td>11060</td><td>2016-04-30</td><td>2</td></tr>\n<tr><td>26</td><td>10971</td><td>2016-03-24</td><td>2</td></tr>\n<tr><td>25</td><td>11012</td><td>2016-04-09</td><td>1</td></tr>\n<tr><td>24</td><td>11050</td><td>2016-04-27</td><td>8</td></tr>\n<tr><td>23</td><td>10789</td><td>2015-12-22</td><td>1</td></tr>\n<tr><td>21</td><td>10725</td><td>2015-10-31</td><td>4</td></tr>\n<tr><td>20</td><td>11072</td><td>2016-05-05</td><td>4</td></tr>\n<tr><td>19</td><td>11056</td><td>2016-04-28</td><td>8</td></tr>\n<tr><td>18</td><td>10890</td><td>2016-02-16</td><td>7</td></tr>\n<tr><td>17</td><td>11067</td><td>2016-05-04</td><td>1</td></tr>\n<tr><td>16</td><td>10848</td><td>2016-01-23</td><td>7</td></tr>\n<tr><td>15</td><td>11042</td><td>2016-04-22</td><td>2</td></tr>\n<tr><td>14</td><td>11041</td><td>2016-04-22</td><td>3</td></tr>\n<tr><td>13</td><td>10259</td><td>2014-07-18</td><td>4</td></tr>\n<tr><td>12</td><td>11054</td><td>2016-04-28</td><td>8</td></tr>\n<tr><td>11</td><td>11023</td><td>2016-04-14</td><td>1</td></tr>\n<tr><td>10</td><td>11048</td><td>2016-04-24</td><td>7</td></tr>\n<tr><td>9</td><td>11076</td><td>2016-05-06</td><td>4</td></tr>\n<tr><td>8</td><td>10970</td><td>2016-03-24</td><td>9</td></tr>\n<tr><td>7</td><td>10826</td><td>2016-01-12</td><td>6</td></tr>\n<tr><td>6</td><td>11058</td><td>2016-04-29</td><td>9</td></tr>\n<tr><td>5</td><td>10924</td><td>2016-03-04</td><td>3</td></tr>\n<tr><td>4</td><td>11016</td><td>2016-04-10</td><td>9</td></tr>\n<tr><td>3</td><td>10856</td><td>2016-01-28</td><td>3</td></tr>\n<tr><td>2</td><td>10926</td><td>2016-03-04</td><td>4</td></tr>\n<tr><td>1</td><td>11011</td><td>2016-04-09</td><td>3</td></tr>\n</table>"
                    },
                    "metadata": {}
                },
                {
                    "output_type": "execute_result",
                    "execution_count": 19,
                    "data": {
                        "application/vnd.dataresource+json": {
                            "data": [
                                {
                                    "0": "10739"
                                }
                            ],
                            "schema": {
                                "fields": [
                                    {
                                        "name": "(No column name)"
                                    }
                                ]
                            }
                        },
                        "text/html": "<table>\n<tr><th>(No column name)</th></tr>\n<tr><td>10739</td></tr>\n</table>"
                    },
                    "metadata": {}
                }
            ],
            "execution_count": 19
        },
        {
            "cell_type": "markdown",
            "source": [
                "<span style=\"color: #608b4e;\"><b>CORRELATED SUBQUERY IN THE SELECT CLAUSE</b></span>\n",
                "\n",
                "<span style=\"color: rgb(96, 139, 78);\">Instead of WHERE clause, you&nbsp;can&nbsp;use&nbsp;the&nbsp;subquery&nbsp;within&nbsp;the&nbsp;SELECT clause&nbsp;if&nbsp;you&nbsp;want&nbsp;to&nbsp;use&nbsp;the&nbsp;attributes&nbsp;to&nbsp;obtain&nbsp;the&nbsp;result&nbsp;you&nbsp;want.</span><span style=\"color: #608b4e;\"><br></span>\n",
                "\n",
                "<span style=\"color: #608b4e;\">Proposition:&nbsp;Return&nbsp;for&nbsp;each&nbsp;order&nbsp;the&nbsp;percentage&nbsp;of&nbsp;the&nbsp;current&nbsp;order&nbsp;value&nbsp;out&nbsp;of&nbsp;the&nbsp;customer&nbsp;total.&nbsp;</span>"
            ],
            "metadata": {
                "azdata_cell_guid": "624877e4-4e66-4229-913a-d67524893b37"
            },
            "attachments": {}
        },
        {
            "cell_type": "code",
            "source": [
                "--The inner query returns the sum/total money spent by that customer and the outer query calculates the percentage of customer's each spending against the total.\n",
                "USE TSQLV4\n",
                "SELECT orderId, custid, o1.val,\n",
                "\t\tCAST(100. * val/ (SELECT SUM(val) \n",
                "\t\t\t FROM Sales.OrderValues AS O2\n",
                "\t\t\t WHERE O2.custid = O1.custid)\n",
                "\t\t AS NUMERIC (5,2)) AS Ptc\n",
                "FROM Sales.OrderValues AS O1\n",
                "ORDER BY custid, orderid;"
            ],
            "metadata": {
                "azdata_cell_guid": "66c4dc5b-4822-40bb-8d64-e1f8edbc2645",
                "language": "sql"
            },
            "outputs": [
                {
                    "output_type": "display_data",
                    "data": {
                        "text/html": "(830 rows affected)"
                    },
                    "metadata": {}
                },
                {
                    "output_type": "display_data",
                    "data": {
                        "text/html": "Total execution time: 00:00:00.058"
                    },
                    "metadata": {}
                },
                {
                    "output_type": "execute_result",
                    "execution_count": 20,
                    "data": {
                        "application/vnd.dataresource+json": {
                            "data": [
                                {
                                    "0": "10643",
                                    "1": "1",
                                    "2": "814.50",
                                    "3": "19.06"
                                },
                                {
                                    "0": "10692",
                                    "1": "1",
                                    "2": "878.00",
                                    "3": "20.55"
                                },
                                {
                                    "0": "10702",
                                    "1": "1",
                                    "2": "330.00",
                                    "3": "7.72"
                                },
                                {
                                    "0": "10835",
                                    "1": "1",
                                    "2": "845.80",
                                    "3": "19.79"
                                },
                                {
                                    "0": "10952",
                                    "1": "1",
                                    "2": "471.20",
                                    "3": "11.03"
                                },
                                {
                                    "0": "11011",
                                    "1": "1",
                                    "2": "933.50",
                                    "3": "21.85"
                                },
                                {
                                    "0": "10308",
                                    "1": "2",
                                    "2": "88.80",
                                    "3": "6.33"
                                },
                                {
                                    "0": "10625",
                                    "1": "2",
                                    "2": "479.75",
                                    "3": "34.20"
                                },
                                {
                                    "0": "10759",
                                    "1": "2",
                                    "2": "320.00",
                                    "3": "22.81"
                                },
                                {
                                    "0": "10926",
                                    "1": "2",
                                    "2": "514.40",
                                    "3": "36.67"
                                },
                                {
                                    "0": "10365",
                                    "1": "3",
                                    "2": "403.20",
                                    "3": "5.74"
                                },
                                {
                                    "0": "10507",
                                    "1": "3",
                                    "2": "749.06",
                                    "3": "10.66"
                                },
                                {
                                    "0": "10535",
                                    "1": "3",
                                    "2": "1940.85",
                                    "3": "27.63"
                                },
                                {
                                    "0": "10573",
                                    "1": "3",
                                    "2": "2082.00",
                                    "3": "29.64"
                                },
                                {
                                    "0": "10677",
                                    "1": "3",
                                    "2": "813.37",
                                    "3": "11.58"
                                },
                                {
                                    "0": "10682",
                                    "1": "3",
                                    "2": "375.50",
                                    "3": "5.35"
                                },
                                {
                                    "0": "10856",
                                    "1": "3",
                                    "2": "660.00",
                                    "3": "9.40"
                                },
                                {
                                    "0": "10355",
                                    "1": "4",
                                    "2": "480.00",
                                    "3": "3.58"
                                },
                                {
                                    "0": "10383",
                                    "1": "4",
                                    "2": "899.00",
                                    "3": "6.71"
                                },
                                {
                                    "0": "10453",
                                    "1": "4",
                                    "2": "407.70",
                                    "3": "3.04"
                                },
                                {
                                    "0": "10558",
                                    "1": "4",
                                    "2": "2142.90",
                                    "3": "16.00"
                                },
                                {
                                    "0": "10707",
                                    "1": "4",
                                    "2": "1641.00",
                                    "3": "12.25"
                                },
                                {
                                    "0": "10741",
                                    "1": "4",
                                    "2": "228.00",
                                    "3": "1.70"
                                },
                                {
                                    "0": "10743",
                                    "1": "4",
                                    "2": "319.20",
                                    "3": "2.38"
                                },
                                {
                                    "0": "10768",
                                    "1": "4",
                                    "2": "1477.00",
                                    "3": "11.03"
                                },
                                {
                                    "0": "10793",
                                    "1": "4",
                                    "2": "191.10",
                                    "3": "1.43"
                                },
                                {
                                    "0": "10864",
                                    "1": "4",
                                    "2": "282.00",
                                    "3": "2.11"
                                },
                                {
                                    "0": "10920",
                                    "1": "4",
                                    "2": "390.00",
                                    "3": "2.91"
                                },
                                {
                                    "0": "10953",
                                    "1": "4",
                                    "2": "4441.25",
                                    "3": "33.17"
                                },
                                {
                                    "0": "11016",
                                    "1": "4",
                                    "2": "491.50",
                                    "3": "3.67"
                                },
                                {
                                    "0": "10278",
                                    "1": "5",
                                    "2": "1488.80",
                                    "3": "5.97"
                                },
                                {
                                    "0": "10280",
                                    "1": "5",
                                    "2": "613.20",
                                    "3": "2.46"
                                },
                                {
                                    "0": "10384",
                                    "1": "5",
                                    "2": "2222.40",
                                    "3": "8.92"
                                },
                                {
                                    "0": "10444",
                                    "1": "5",
                                    "2": "1031.70",
                                    "3": "4.14"
                                },
                                {
                                    "0": "10445",
                                    "1": "5",
                                    "2": "174.90",
                                    "3": "0.70"
                                },
                                {
                                    "0": "10524",
                                    "1": "5",
                                    "2": "3192.65",
                                    "3": "12.81"
                                },
                                {
                                    "0": "10572",
                                    "1": "5",
                                    "2": "1501.09",
                                    "3": "6.02"
                                },
                                {
                                    "0": "10626",
                                    "1": "5",
                                    "2": "1503.60",
                                    "3": "6.03"
                                },
                                {
                                    "0": "10654",
                                    "1": "5",
                                    "2": "601.83",
                                    "3": "2.41"
                                },
                                {
                                    "0": "10672",
                                    "1": "5",
                                    "2": "3815.25",
                                    "3": "15.31"
                                },
                                {
                                    "0": "10689",
                                    "1": "5",
                                    "2": "472.50",
                                    "3": "1.90"
                                },
                                {
                                    "0": "10733",
                                    "1": "5",
                                    "2": "1459.00",
                                    "3": "5.85"
                                },
                                {
                                    "0": "10778",
                                    "1": "5",
                                    "2": "96.50",
                                    "3": "0.39"
                                },
                                {
                                    "0": "10837",
                                    "1": "5",
                                    "2": "1064.50",
                                    "3": "4.27"
                                },
                                {
                                    "0": "10857",
                                    "1": "5",
                                    "2": "2048.21",
                                    "3": "8.22"
                                },
                                {
                                    "0": "10866",
                                    "1": "5",
                                    "2": "1096.20",
                                    "3": "4.40"
                                },
                                {
                                    "0": "10875",
                                    "1": "5",
                                    "2": "709.55",
                                    "3": "2.85"
                                },
                                {
                                    "0": "10924",
                                    "1": "5",
                                    "2": "1835.70",
                                    "3": "7.36"
                                },
                                {
                                    "0": "10501",
                                    "1": "6",
                                    "2": "149.00",
                                    "3": "4.60"
                                },
                                {
                                    "0": "10509",
                                    "1": "6",
                                    "2": "136.80",
                                    "3": "4.22"
                                },
                                {
                                    "0": "10582",
                                    "1": "6",
                                    "2": "330.00",
                                    "3": "10.19"
                                },
                                {
                                    "0": "10614",
                                    "1": "6",
                                    "2": "464.00",
                                    "3": "14.32"
                                },
                                {
                                    "0": "10853",
                                    "1": "6",
                                    "2": "625.00",
                                    "3": "19.29"
                                },
                                {
                                    "0": "10956",
                                    "1": "6",
                                    "2": "677.00",
                                    "3": "20.90"
                                },
                                {
                                    "0": "11058",
                                    "1": "6",
                                    "2": "858.00",
                                    "3": "26.48"
                                },
                                {
                                    "0": "10265",
                                    "1": "7",
                                    "2": "1176.00",
                                    "3": "6.35"
                                },
                                {
                                    "0": "10297",
                                    "1": "7",
                                    "2": "1420.00",
                                    "3": "7.66"
                                },
                                {
                                    "0": "10360",
                                    "1": "7",
                                    "2": "7390.20",
                                    "3": "39.87"
                                },
                                {
                                    "0": "10436",
                                    "1": "7",
                                    "2": "1994.52",
                                    "3": "10.76"
                                },
                                {
                                    "0": "10449",
                                    "1": "7",
                                    "2": "1838.20",
                                    "3": "9.92"
                                },
                                {
                                    "0": "10559",
                                    "1": "7",
                                    "2": "520.41",
                                    "3": "2.81"
                                },
                                {
                                    "0": "10566",
                                    "1": "7",
                                    "2": "1761.00",
                                    "3": "9.50"
                                },
                                {
                                    "0": "10584",
                                    "1": "7",
                                    "2": "593.75",
                                    "3": "3.20"
                                },
                                {
                                    "0": "10628",
                                    "1": "7",
                                    "2": "450.00",
                                    "3": "2.43"
                                },
                                {
                                    "0": "10679",
                                    "1": "7",
                                    "2": "660.00",
                                    "3": "3.56"
                                },
                                {
                                    "0": "10826",
                                    "1": "7",
                                    "2": "730.00",
                                    "3": "3.94"
                                },
                                {
                                    "0": "10326",
                                    "1": "8",
                                    "2": "982.00",
                                    "3": "23.20"
                                },
                                {
                                    "0": "10801",
                                    "1": "8",
                                    "2": "3026.85",
                                    "3": "71.51"
                                },
                                {
                                    "0": "10970",
                                    "1": "8",
                                    "2": "224.00",
                                    "3": "5.29"
                                },
                                {
                                    "0": "10331",
                                    "1": "9",
                                    "2": "88.50",
                                    "3": "0.40"
                                },
                                {
                                    "0": "10340",
                                    "1": "9",
                                    "2": "2436.18",
                                    "3": "11.09"
                                },
                                {
                                    "0": "10362",
                                    "1": "9",
                                    "2": "1549.60",
                                    "3": "7.06"
                                },
                                {
                                    "0": "10470",
                                    "1": "9",
                                    "2": "1820.80",
                                    "3": "8.29"
                                },
                                {
                                    "0": "10511",
                                    "1": "9",
                                    "2": "2550.00",
                                    "3": "11.61"
                                },
                                {
                                    "0": "10525",
                                    "1": "9",
                                    "2": "818.40",
                                    "3": "3.73"
                                },
                                {
                                    "0": "10663",
                                    "1": "9",
                                    "2": "1930.40",
                                    "3": "8.79"
                                },
                                {
                                    "0": "10715",
                                    "1": "9",
                                    "2": "1296.00",
                                    "3": "5.90"
                                },
                                {
                                    "0": "10730",
                                    "1": "9",
                                    "2": "484.26",
                                    "3": "2.20"
                                },
                                {
                                    "0": "10732",
                                    "1": "9",
                                    "2": "360.00",
                                    "3": "1.64"
                                },
                                {
                                    "0": "10755",
                                    "1": "9",
                                    "2": "1948.50",
                                    "3": "8.87"
                                },
                                {
                                    "0": "10827",
                                    "1": "9",
                                    "2": "843.00",
                                    "3": "3.84"
                                },
                                {
                                    "0": "10871",
                                    "1": "9",
                                    "2": "1979.23",
                                    "3": "9.01"
                                },
                                {
                                    "0": "10876",
                                    "1": "9",
                                    "2": "917.00",
                                    "3": "4.18"
                                },
                                {
                                    "0": "10932",
                                    "1": "9",
                                    "2": "1788.63",
                                    "3": "8.14"
                                },
                                {
                                    "0": "10940",
                                    "1": "9",
                                    "2": "360.00",
                                    "3": "1.64"
                                },
                                {
                                    "0": "11076",
                                    "1": "9",
                                    "2": "792.75",
                                    "3": "3.61"
                                },
                                {
                                    "0": "10389",
                                    "1": "10",
                                    "2": "1832.80",
                                    "3": "8.81"
                                },
                                {
                                    "0": "10410",
                                    "1": "10",
                                    "2": "802.00",
                                    "3": "3.86"
                                },
                                {
                                    "0": "10411",
                                    "1": "10",
                                    "2": "966.80",
                                    "3": "4.65"
                                },
                                {
                                    "0": "10431",
                                    "1": "10",
                                    "2": "1892.25",
                                    "3": "9.10"
                                },
                                {
                                    "0": "10492",
                                    "1": "10",
                                    "2": "851.20",
                                    "3": "4.09"
                                },
                                {
                                    "0": "10742",
                                    "1": "10",
                                    "2": "3118.00",
                                    "3": "14.99"
                                },
                                {
                                    "0": "10918",
                                    "1": "10",
                                    "2": "1447.50",
                                    "3": "6.96"
                                },
                                {
                                    "0": "10944",
                                    "1": "10",
                                    "2": "1025.33",
                                    "3": "4.93"
                                },
                                {
                                    "0": "10949",
                                    "1": "10",
                                    "2": "4422.00",
                                    "3": "21.26"
                                },
                                {
                                    "0": "10975",
                                    "1": "10",
                                    "2": "717.50",
                                    "3": "3.45"
                                },
                                {
                                    "0": "10982",
                                    "1": "10",
                                    "2": "1014.00",
                                    "3": "4.87"
                                },
                                {
                                    "0": "11027",
                                    "1": "10",
                                    "2": "877.73",
                                    "3": "4.22"
                                },
                                {
                                    "0": "11045",
                                    "1": "10",
                                    "2": "1309.50",
                                    "3": "6.30"
                                },
                                {
                                    "0": "11048",
                                    "1": "10",
                                    "2": "525.00",
                                    "3": "2.52"
                                },
                                {
                                    "0": "10289",
                                    "1": "11",
                                    "2": "479.40",
                                    "3": "7.87"
                                },
                                {
                                    "0": "10471",
                                    "1": "11",
                                    "2": "1328.00",
                                    "3": "21.81"
                                },
                                {
                                    "0": "10484",
                                    "1": "11",
                                    "2": "386.20",
                                    "3": "6.34"
                                },
                                {
                                    "0": "10538",
                                    "1": "11",
                                    "2": "139.80",
                                    "3": "2.30"
                                },
                                {
                                    "0": "10539",
                                    "1": "11",
                                    "2": "355.50",
                                    "3": "5.84"
                                },
                                {
                                    "0": "10578",
                                    "1": "11",
                                    "2": "477.00",
                                    "3": "7.83"
                                },
                                {
                                    "0": "10599",
                                    "1": "11",
                                    "2": "493.00",
                                    "3": "8.10"
                                },
                                {
                                    "0": "10943",
                                    "1": "11",
                                    "2": "711.00",
                                    "3": "11.68"
                                },
                                {
                                    "0": "10947",
                                    "1": "11",
                                    "2": "220.00",
                                    "3": "3.61"
                                },
                                {
                                    "0": "11023",
                                    "1": "11",
                                    "2": "1500.00",
                                    "3": "24.63"
                                },
                                {
                                    "0": "10521",
                                    "1": "12",
                                    "2": "225.50",
                                    "3": "12.43"
                                },
                                {
                                    "0": "10782",
                                    "1": "12",
                                    "2": "12.50",
                                    "3": "0.69"
                                },
                                {
                                    "0": "10819",
                                    "1": "12",
                                    "2": "477.00",
                                    "3": "26.28"
                                },
                                {
                                    "0": "10881",
                                    "1": "12",
                                    "2": "150.00",
                                    "3": "8.27"
                                },
                                {
                                    "0": "10937",
                                    "1": "12",
                                    "2": "644.80",
                                    "3": "35.53"
                                },
                                {
                                    "0": "11054",
                                    "1": "12",
                                    "2": "305.00",
                                    "3": "16.81"
                                },
                                {
                                    "0": "10259",
                                    "1": "13",
                                    "2": "100.80",
                                    "3": "100.00"
                                },
                                {
                                    "0": "10254",
                                    "1": "14",
                                    "2": "556.62",
                                    "3": "4.51"
                                },
                                {
                                    "0": "10370",
                                    "1": "14",
                                    "2": "1117.60",
                                    "3": "9.05"
                                },
                                {
                                    "0": "10519",
                                    "1": "14",
                                    "2": "2314.20",
                                    "3": "18.74"
                                },
                                {
                                    "0": "10731",
                                    "1": "14",
                                    "2": "1890.50",
                                    "3": "15.31"
                                },
                                {
                                    "0": "10746",
                                    "1": "14",
                                    "2": "2311.70",
                                    "3": "18.72"
                                },
                                {
                                    "0": "10966",
                                    "1": "14",
                                    "2": "1098.46",
                                    "3": "8.90"
                                },
                                {
                                    "0": "11029",
                                    "1": "14",
                                    "2": "1286.80",
                                    "3": "10.42"
                                },
                                {
                                    "0": "11041",
                                    "1": "14",
                                    "2": "1773.00",
                                    "3": "14.36"
                                },
                                {
                                    "0": "10290",
                                    "1": "15",
                                    "2": "2169.00",
                                    "3": "56.92"
                                },
                                {
                                    "0": "10466",
                                    "1": "15",
                                    "2": "216.00",
                                    "3": "5.67"
                                },
                                {
                                    "0": "10494",
                                    "1": "15",
                                    "2": "912.00",
                                    "3": "23.93"
                                },
                                {
                                    "0": "10969",
                                    "1": "15",
                                    "2": "108.00",
                                    "3": "2.83"
                                },
                                {
                                    "0": "11042",
                                    "1": "15",
                                    "2": "405.75",
                                    "3": "10.65"
                                },
                                {
                                    "0": "10435",
                                    "1": "16",
                                    "2": "631.60",
                                    "3": "36.74"
                                },
                                {
                                    "0": "10462",
                                    "1": "16",
                                    "2": "156.00",
                                    "3": "9.07"
                                },
                                {
                                    "0": "10848",
                                    "1": "16",
                                    "2": "931.50",
                                    "3": "54.19"
                                },
                                {
                                    "0": "10363",
                                    "1": "17",
                                    "2": "447.20",
                                    "3": "11.88"
                                },
                                {
                                    "0": "10391",
                                    "1": "17",
                                    "2": "86.40",
                                    "3": "2.30"
                                },
                                {
                                    "0": "10797",
                                    "1": "17",
                                    "2": "420.00",
                                    "3": "11.16"
                                },
                                {
                                    "0": "10825",
                                    "1": "17",
                                    "2": "1030.76",
                                    "3": "27.39"
                                },
                                {
                                    "0": "11036",
                                    "1": "17",
                                    "2": "1692.00",
                                    "3": "44.96"
                                },
                                {
                                    "0": "11067",
                                    "1": "17",
                                    "2": "86.85",
                                    "3": "2.31"
                                },
                                {
                                    "0": "10311",
                                    "1": "18",
                                    "2": "268.80",
                                    "3": "16.63"
                                },
                                {
                                    "0": "10609",
                                    "1": "18",
                                    "2": "424.00",
                                    "3": "26.24"
                                },
                                {
                                    "0": "10683",
                                    "1": "18",
                                    "2": "63.00",
                                    "3": "3.90"
                                },
                                {
                                    "0": "10890",
                                    "1": "18",
                                    "2": "860.10",
                                    "3": "53.23"
                                },
                                {
                                    "0": "10364",
                                    "1": "19",
                                    "2": "950.00",
                                    "3": "6.44"
                                },
                                {
                                    "0": "10400",
                                    "1": "19",
                                    "2": "3063.00",
                                    "3": "20.75"
                                },
                                {
                                    "0": "10532",
                                    "1": "19",
                                    "2": "796.35",
                                    "3": "5.39"
                                },
                                {
                                    "0": "10726",
                                    "1": "19",
                                    "2": "655.00",
                                    "3": "4.44"
                                },
                                {
                                    "0": "10987",
                                    "1": "19",
                                    "2": "2772.00",
                                    "3": "18.78"
                                },
                                {
                                    "0": "11024",
                                    "1": "19",
                                    "2": "1966.81",
                                    "3": "13.32"
                                },
                                {
                                    "0": "11047",
                                    "1": "19",
                                    "2": "817.88",
                                    "3": "5.54"
                                },
                                {
                                    "0": "11056",
                                    "1": "19",
                                    "2": "3740.00",
                                    "3": "25.34"
                                },
                                {
                                    "0": "10258",
                                    "1": "20",
                                    "2": "1614.88",
                                    "3": "1.54"
                                },
                                {
                                    "0": "10263",
                                    "1": "20",
                                    "2": "1873.80",
                                    "3": "1.79"
                                },
                                {
                                    "0": "10351",
                                    "1": "20",
                                    "2": "5398.73",
                                    "3": "5.15"
                                },
                                {
                                    "0": "10368",
                                    "1": "20",
                                    "2": "1689.78",
                                    "3": "1.61"
                                },
                                {
                                    "0": "10382",
                                    "1": "20",
                                    "2": "2900.00",
                                    "3": "2.77"
                                },
                                {
                                    "0": "10390",
                                    "1": "20",
                                    "2": "2090.88",
                                    "3": "1.99"
                                },
                                {
                                    "0": "10402",
                                    "1": "20",
                                    "2": "2713.50",
                                    "3": "2.59"
                                },
                                {
                                    "0": "10403",
                                    "1": "20",
                                    "2": "855.02",
                                    "3": "0.82"
                                },
                                {
                                    "0": "10430",
                                    "1": "20",
                                    "2": "4899.20",
                                    "3": "4.67"
                                },
                                {
                                    "0": "10442",
                                    "1": "20",
                                    "2": "1792.00",
                                    "3": "1.71"
                                },
                                {
                                    "0": "10514",
                                    "1": "20",
                                    "2": "8623.45",
                                    "3": "8.22"
                                },
                                {
                                    "0": "10571",
                                    "1": "20",
                                    "2": "550.59",
                                    "3": "0.52"
                                },
                                {
                                    "0": "10595",
                                    "1": "20",
                                    "2": "4725.00",
                                    "3": "4.51"
                                },
                                {
                                    "0": "10633",
                                    "1": "20",
                                    "2": "5510.59",
                                    "3": "5.25"
                                },
                                {
                                    "0": "10667",
                                    "1": "20",
                                    "2": "1536.80",
                                    "3": "1.47"
                                },
                                {
                                    "0": "10698",
                                    "1": "20",
                                    "2": "3436.44",
                                    "3": "3.28"
                                },
                                {
                                    "0": "10764",
                                    "1": "20",
                                    "2": "2286.00",
                                    "3": "2.18"
                                },
                                {
                                    "0": "10771",
                                    "1": "20",
                                    "2": "344.00",
                                    "3": "0.33"
                                },
                                {
                                    "0": "10773",
                                    "1": "20",
                                    "2": "2030.40",
                                    "3": "1.94"
                                },
                                {
                                    "0": "10776",
                                    "1": "20",
                                    "2": "6635.28",
                                    "3": "6.33"
                                },
                                {
                                    "0": "10795",
                                    "1": "20",
                                    "2": "2158.00",
                                    "3": "2.06"
                                },
                                {
                                    "0": "10836",
                                    "1": "20",
                                    "2": "4705.50",
                                    "3": "4.49"
                                },
                                {
                                    "0": "10854",
                                    "1": "20",
                                    "2": "2966.50",
                                    "3": "2.83"
                                },
                                {
                                    "0": "10895",
                                    "1": "20",
                                    "2": "6379.40",
                                    "3": "6.08"
                                },
                                {
                                    "0": "10968",
                                    "1": "20",
                                    "2": "1408.00",
                                    "3": "1.34"
                                },
                                {
                                    "0": "10979",
                                    "1": "20",
                                    "2": "4813.50",
                                    "3": "4.59"
                                },
                                {
                                    "0": "10990",
                                    "1": "20",
                                    "2": "4288.85",
                                    "3": "4.09"
                                },
                                {
                                    "0": "11008",
                                    "1": "20",
                                    "2": "4680.90",
                                    "3": "4.46"
                                },
                                {
                                    "0": "11017",
                                    "1": "20",
                                    "2": "6750.00",
                                    "3": "6.44"
                                },
                                {
                                    "0": "11072",
                                    "1": "20",
                                    "2": "5218.00",
                                    "3": "4.98"
                                },
                                {
                                    "0": "10347",
                                    "1": "21",
                                    "2": "814.42",
                                    "3": "19.83"
                                },
                                {
                                    "0": "10386",
                                    "1": "21",
                                    "2": "166.00",
                                    "3": "4.04"
                                },
                                {
                                    "0": "10414",
                                    "1": "21",
                                    "2": "224.83",
                                    "3": "5.47"
                                },
                                {
                                    "0": "10512",
                                    "1": "21",
                                    "2": "525.30",
                                    "3": "12.79"
                                },
                                {
                                    "0": "10581",
                                    "1": "21",
                                    "2": "310.00",
                                    "3": "7.55"
                                },
                                {
                                    "0": "10650",
                                    "1": "21",
                                    "2": "1779.20",
                                    "3": "43.32"
                                },
                                {
                                    "0": "10725",
                                    "1": "21",
                                    "2": "287.80",
                                    "3": "7.01"
                                },
                                {
                                    "0": "10408",
                                    "1": "23",
                                    "2": "1622.40",
                                    "3": "13.91"
                                },
                                {
                                    "0": "10480",
                                    "1": "23",
                                    "2": "756.00",
                                    "3": "6.48"
                                },
                                {
                                    "0": "10634",
                                    "1": "23",
                                    "2": "4985.50",
                                    "3": "42.73"
                                },
                                {
                                    "0": "10763",
                                    "1": "23",
                                    "2": "616.00",
                                    "3": "5.28"
                                },
                                {
                                    "0": "10789",
                                    "1": "23",
                                    "2": "3687.00",
                                    "3": "31.60"
                                },
                                {
                                    "0": "10264",
                                    "1": "24",
                                    "2": "695.63",
                                    "3": "2.35"
                                },
                                {
                                    "0": "10327",
                                    "1": "24",
                                    "2": "1810.00",
                                    "3": "6.12"
                                },
                                {
                                    "0": "10378",
                                    "1": "24",
                                    "2": "103.20",
                                    "3": "0.35"
                                },
                                {
                                    "0": "10434",
                                    "1": "24",
                                    "2": "321.12",
                                    "3": "1.09"
                                },
                                {
                                    "0": "10460",
                                    "1": "24",
                                    "2": "176.10",
                                    "3": "0.60"
                                },
                                {
                                    "0": "10533",
                                    "1": "24",
                                    "2": "2222.20",
                                    "3": "7.52"
                                },
                                {
                                    "0": "10561",
                                    "1": "24",
                                    "2": "2844.50",
                                    "3": "9.62"
                                },
                                {
                                    "0": "10703",
                                    "1": "24",
                                    "2": "2545.00",
                                    "3": "8.61"
                                },
                                {
                                    "0": "10762",
                                    "1": "24",
                                    "2": "4337.00",
                                    "3": "14.67"
                                },
                                {
                                    "0": "10774",
                                    "1": "24",
                                    "2": "868.75",
                                    "3": "2.94"
                                },
                                {
                                    "0": "10824",
                                    "1": "24",
                                    "2": "250.80",
                                    "3": "0.85"
                                },
                                {
                                    "0": "10880",
                                    "1": "24",
                                    "2": "1500.00",
                                    "3": "5.07"
                                },
                                {
                                    "0": "10902",
                                    "1": "24",
                                    "2": "863.43",
                                    "3": "2.92"
                                },
                                {
                                    "0": "10955",
                                    "1": "24",
                                    "2": "74.40",
                                    "3": "0.25"
                                },
                                {
                                    "0": "10977",
                                    "1": "24",
                                    "2": "2233.00",
                                    "3": "7.55"
                                },
                                {
                                    "0": "10980",
                                    "1": "24",
                                    "2": "248.00",
                                    "3": "0.84"
                                },
                                {
                                    "0": "10993",
                                    "1": "24",
                                    "2": "4895.44",
                                    "3": "16.56"
                                },
                                {
                                    "0": "11001",
                                    "1": "24",
                                    "2": "2769.00",
                                    "3": "9.36"
                                },
                                {
                                    "0": "11050",
                                    "1": "24",
                                    "2": "810.00",
                                    "3": "2.74"
                                },
                                {
                                    "0": "10267",
                                    "1": "25",
                                    "2": "3536.60",
                                    "3": "13.27"
                                },
                                {
                                    "0": "10337",
                                    "1": "25",
                                    "2": "2467.00",
                                    "3": "9.25"
                                },
                                {
                                    "0": "10342",
                                    "1": "25",
                                    "2": "1840.64",
                                    "3": "6.91"
                                },
                                {
                                    "0": "10396",
                                    "1": "25",
                                    "2": "1903.80",
                                    "3": "7.14"
                                },
                                {
                                    "0": "10488",
                                    "1": "25",
                                    "2": "1512.00",
                                    "3": "5.67"
                                },
                                {
                                    "0": "10560",
                                    "1": "25",
                                    "2": "1072.43",
                                    "3": "4.02"
                                },
                                {
                                    "0": "10623",
                                    "1": "25",
                                    "2": "1336.95",
                                    "3": "5.02"
                                },
                                {
                                    "0": "10653",
                                    "1": "25",
                                    "2": "1083.15",
                                    "3": "4.06"
                                },
                                {
                                    "0": "10670",
                                    "1": "25",
                                    "2": "2301.75",
                                    "3": "8.63"
                                },
                                {
                                    "0": "10675",
                                    "1": "25",
                                    "2": "1423.00",
                                    "3": "5.34"
                                },
                                {
                                    "0": "10717",
                                    "1": "25",
                                    "2": "1270.75",
                                    "3": "4.77"
                                },
                                {
                                    "0": "10791",
                                    "1": "25",
                                    "2": "1829.76",
                                    "3": "6.86"
                                },
                                {
                                    "0": "10859",
                                    "1": "25",
                                    "2": "1078.69",
                                    "3": "4.05"
                                },
                                {
                                    "0": "10929",
                                    "1": "25",
                                    "2": "1174.75",
                                    "3": "4.41"
                                },
                                {
                                    "0": "11012",
                                    "1": "25",
                                    "2": "2825.30",
                                    "3": "10.60"
                                },
                                {
                                    "0": "10671",
                                    "1": "26",
                                    "2": "920.10",
                                    "3": "29.01"
                                },
                                {
                                    "0": "10860",
                                    "1": "26",
                                    "2": "519.00",
                                    "3": "16.36"
                                },
                                {
                                    "0": "10971",
                                    "1": "26",
                                    "2": "1733.06",
                                    "3": "54.63"
                                },
                                {
                                    "0": "10422",
                                    "1": "27",
                                    "2": "49.80",
                                    "3": "3.22"
                                },
                                {
                                    "0": "10710",
                                    "1": "27",
                                    "2": "93.50",
                                    "3": "6.05"
                                },
                                {
                                    "0": "10753",
                                    "1": "27",
                                    "2": "88.00",
                                    "3": "5.69"
                                },
                                {
                                    "0": "10807",
                                    "1": "27",
                                    "2": "18.40",
                                    "3": "1.19"
                                },
                                {
                                    "0": "11026",
                                    "1": "27",
                                    "2": "1030.00",
                                    "3": "66.64"
                                },
                                {
                                    "0": "11060",
                                    "1": "27",
                                    "2": "266.00",
                                    "3": "17.21"
                                },
                                {
                                    "0": "10328",
                                    "1": "28",
                                    "2": "1168.00",
                                    "3": "18.17"
                                },
                                {
                                    "0": "10352",
                                    "1": "28",
                                    "2": "136.30",
                                    "3": "2.12"
                                },
                                {
                                    "0": "10464",
                                    "1": "28",
                                    "2": "1609.28",
                                    "3": "25.04"
                                },
                                {
                                    "0": "10491",
                                    "1": "28",
                                    "2": "259.51",
                                    "3": "4.04"
                                },
                                {
                                    "0": "10551",
                                    "1": "28",
                                    "2": "1677.30",
                                    "3": "26.10"
                                },
                                {
                                    "0": "10604",
                                    "1": "28",
                                    "2": "230.85",
                                    "3": "3.59"
                                },
                                {
                                    "0": "10664",
                                    "1": "28",
                                    "2": "1288.39",
                                    "3": "20.05"
                                },
                                {
                                    "0": "10963",
                                    "1": "28",
                                    "2": "57.80",
                                    "3": "0.90"
                                },
                                {
                                    "0": "10366",
                                    "1": "29",
                                    "2": "136.00",
                                    "3": "16.25"
                                },
                                {
                                    "0": "10426",
                                    "1": "29",
                                    "2": "338.20",
                                    "3": "40.42"
                                },
                                {
                                    "0": "10568",
                                    "1": "29",
                                    "2": "155.00",
                                    "3": "18.53"
                                },
                                {
                                    "0": "10887",
                                    "1": "29",
                                    "2": "70.00",
                                    "3": "8.37"
                                },
                                {
                                    "0": "10928",
                                    "1": "29",
                                    "2": "137.50",
                                    "3": "16.43"
                                },
                                {
                                    "0": "10303",
                                    "1": "30",
                                    "2": "1117.80",
                                    "3": "9.77"
                                },
                                {
                                    "0": "10550",
                                    "1": "30",
                                    "2": "683.30",
                                    "3": "5.97"
                                },
                                {
                                    "0": "10629",
                                    "1": "30",
                                    "2": "2775.05",
                                    "3": "24.24"
                                },
                                {
                                    "0": "10872",
                                    "1": "30",
                                    "2": "2058.46",
                                    "3": "17.98"
                                },
                                {
                                    "0": "10874",
                                    "1": "30",
                                    "2": "310.00",
                                    "3": "2.71"
                                },
                                {
                                    "0": "10888",
                                    "1": "30",
                                    "2": "605.00",
                                    "3": "5.29"
                                },
                                {
                                    "0": "10911",
                                    "1": "30",
                                    "2": "858.00",
                                    "3": "7.50"
                                },
                                {
                                    "0": "10948",
                                    "1": "30",
                                    "2": "2362.25",
                                    "3": "20.64"
                                },
                                {
                                    "0": "11009",
                                    "1": "30",
                                    "2": "616.50",
                                    "3": "5.39"
                                },
                                {
                                    "0": "11037",
                                    "1": "30",
                                    "2": "60.00",
                                    "3": "0.52"
                                },
                                {
                                    "0": "10423",
                                    "1": "31",
                                    "2": "1020.00",
                                    "3": "12.12"
                                },
                                {
                                    "0": "10652",
                                    "1": "31",
                                    "2": "318.84",
                                    "3": "3.79"
                                },
                                {
                                    "0": "10685",
                                    "1": "31",
                                    "2": "801.10",
                                    "3": "9.52"
                                },
                                {
                                    "0": "10709",
                                    "1": "31",
                                    "2": "3424.00",
                                    "3": "40.69"
                                },
                                {
                                    "0": "10734",
                                    "1": "31",
                                    "2": "1498.35",
                                    "3": "17.81"
                                },
                                {
                                    "0": "10777",
                                    "1": "31",
                                    "2": "224.00",
                                    "3": "2.66"
                                },
                                {
                                    "0": "10790",
                                    "1": "31",
                                    "2": "722.50",
                                    "3": "8.59"
                                },
                                {
                                    "0": "10959",
                                    "1": "31",
                                    "2": "131.75",
                                    "3": "1.57"
                                },
                                {
                                    "0": "11049",
                                    "1": "31",
                                    "2": "273.60",
                                    "3": "3.25"
                                },
                                {
                                    "0": "10528",
                                    "1": "32",
                                    "2": "392.20",
                                    "3": "2.12"
                                },
                                {
                                    "0": "10589",
                                    "1": "32",
                                    "2": "72.00",
                                    "3": "0.39"
                                },
                                {
                                    "0": "10616",
                                    "1": "32",
                                    "2": "4807.00",
                                    "3": "25.97"
                                },
                                {
                                    "0": "10617",
                                    "1": "32",
                                    "2": "1402.50",
                                    "3": "7.58"
                                },
                                {
                                    "0": "10656",
                                    "1": "32",
                                    "2": "604.22",
                                    "3": "3.26"
                                },
                                {
                                    "0": "10681",
                                    "1": "32",
                                    "2": "1287.40",
                                    "3": "6.96"
                                },
                                {
                                    "0": "10816",
                                    "1": "32",
                                    "2": "8446.45",
                                    "3": "45.64"
                                },
                                {
                                    "0": "10936",
                                    "1": "32",
                                    "2": "456.00",
                                    "3": "2.46"
                                },
                                {
                                    "0": "11006",
                                    "1": "32",
                                    "2": "329.69",
                                    "3": "1.78"
                                },
                                {
                                    "0": "11040",
                                    "1": "32",
                                    "2": "200.00",
                                    "3": "1.08"
                                },
                                {
                                    "0": "11061",
                                    "1": "32",
                                    "2": "510.00",
                                    "3": "2.76"
                                },
                                {
                                    "0": "10268",
                                    "1": "33",
                                    "2": "1101.20",
                                    "3": "73.97"
                                },
                                {
                                    "0": "10785",
                                    "1": "33",
                                    "2": "387.50",
                                    "3": "26.03"
                                },
                                {
                                    "0": "10250",
                                    "1": "34",
                                    "2": "1552.60",
                                    "3": "4.73"
                                },
                                {
                                    "0": "10253",
                                    "1": "34",
                                    "2": "1444.80",
                                    "3": "4.40"
                                },
                                {
                                    "0": "10541",
                                    "1": "34",
                                    "2": "1946.52",
                                    "3": "5.93"
                                },
                                {
                                    "0": "10645",
                                    "1": "34",
                                    "2": "1535.00",
                                    "3": "4.67"
                                },
                                {
                                    "0": "10690",
                                    "1": "34",
                                    "2": "862.50",
                                    "3": "2.63"
                                },
                                {
                                    "0": "10770",
                                    "1": "34",
                                    "2": "236.25",
                                    "3": "0.72"
                                },
                                {
                                    "0": "10783",
                                    "1": "34",
                                    "2": "1442.50",
                                    "3": "4.39"
                                },
                                {
                                    "0": "10886",
                                    "1": "34",
                                    "2": "3127.50",
                                    "3": "9.52"
                                },
                                {
                                    "0": "10903",
                                    "1": "34",
                                    "2": "932.05",
                                    "3": "2.84"
                                },
                                {
                                    "0": "10922",
                                    "1": "34",
                                    "2": "742.50",
                                    "3": "2.26"
                                },
                                {
                                    "0": "10925",
                                    "1": "34",
                                    "2": "475.15",
                                    "3": "1.45"
                                },
                                {
                                    "0": "10981",
                                    "1": "34",
                                    "2": "15810.00",
                                    "3": "48.14"
                                },
                                {
                                    "0": "11022",
                                    "1": "34",
                                    "2": "1402.00",
                                    "3": "4.27"
                                },
                                {
                                    "0": "11052",
                                    "1": "34",
                                    "2": "1332.00",
                                    "3": "4.06"
                                },
                                {
                                    "0": "10257",
                                    "1": "35",
                                    "2": "1119.90",
                                    "3": "4.92"
                                },
                                {
                                    "0": "10395",
                                    "1": "35",
                                    "2": "2122.92",
                                    "3": "9.32"
                                },
                                {
                                    "0": "10476",
                                    "1": "35",
                                    "2": "180.48",
                                    "3": "0.79"
                                },
                                {
                                    "0": "10486",
                                    "1": "35",
                                    "2": "1272.00",
                                    "3": "5.59"
                                },
                                {
                                    "0": "10490",
                                    "1": "35",
                                    "2": "3163.20",
                                    "3": "13.89"
                                },
                                {
                                    "0": "10498",
                                    "1": "35",
                                    "2": "575.00",
                                    "3": "2.53"
                                },
                                {
                                    "0": "10552",
                                    "1": "35",
                                    "2": "880.50",
                                    "3": "3.87"
                                },
                                {
                                    "0": "10601",
                                    "1": "35",
                                    "2": "2285.00",
                                    "3": "10.04"
                                },
                                {
                                    "0": "10613",
                                    "1": "35",
                                    "2": "353.20",
                                    "3": "1.55"
                                },
                                {
                                    "0": "10641",
                                    "1": "35",
                                    "2": "2054.00",
                                    "3": "9.02"
                                },
                                {
                                    "0": "10705",
                                    "1": "35",
                                    "2": "378.00",
                                    "3": "1.66"
                                },
                                {
                                    "0": "10796",
                                    "1": "35",
                                    "2": "2341.36",
                                    "3": "10.28"
                                },
                                {
                                    "0": "10863",
                                    "1": "35",
                                    "2": "441.15",
                                    "3": "1.94"
                                },
                                {
                                    "0": "10901",
                                    "1": "35",
                                    "2": "934.50",
                                    "3": "4.10"
                                },
                                {
                                    "0": "10957",
                                    "1": "35",
                                    "2": "1762.70",
                                    "3": "7.74"
                                },
                                {
                                    "0": "10960",
                                    "1": "35",
                                    "2": "265.35",
                                    "3": "1.17"
                                },
                                {
                                    "0": "10976",
                                    "1": "35",
                                    "2": "912.00",
                                    "3": "4.01"
                                },
                                {
                                    "0": "11055",
                                    "1": "35",
                                    "2": "1727.50",
                                    "3": "7.59"
                                },
                                {
                                    "0": "10375",
                                    "1": "36",
                                    "2": "338.00",
                                    "3": "11.03"
                                },
                                {
                                    "0": "10394",
                                    "1": "36",
                                    "2": "442.00",
                                    "3": "14.43"
                                },
                                {
                                    "0": "10415",
                                    "1": "36",
                                    "2": "102.40",
                                    "3": "3.34"
                                },
                                {
                                    "0": "10600",
                                    "1": "36",
                                    "2": "479.80",
                                    "3": "15.66"
                                },
                                {
                                    "0": "10660",
                                    "1": "36",
                                    "2": "1701.00",
                                    "3": "55.53"
                                },
                                {
                                    "0": "10298",
                                    "1": "37",
                                    "2": "2645.00",
                                    "3": "5.29"
                                },
                                {
                                    "0": "10309",
                                    "1": "37",
                                    "2": "1762.00",
                                    "3": "3.53"
                                },
                                {
                                    "0": "10335",
                                    "1": "37",
                                    "2": "2036.16",
                                    "3": "4.07"
                                },
                                {
                                    "0": "10373",
                                    "1": "37",
                                    "2": "1366.40",
                                    "3": "2.73"
                                },
                                {
                                    "0": "10380",
                                    "1": "37",
                                    "2": "1313.82",
                                    "3": "2.63"
                                },
                                {
                                    "0": "10429",
                                    "1": "37",
                                    "2": "1441.38",
                                    "3": "2.88"
                                },
                                {
                                    "0": "10503",
                                    "1": "37",
                                    "2": "2048.50",
                                    "3": "4.10"
                                },
                                {
                                    "0": "10516",
                                    "1": "37",
                                    "2": "2381.05",
                                    "3": "4.76"
                                },
                                {
                                    "0": "10567",
                                    "1": "37",
                                    "2": "2519.00",
                                    "3": "5.04"
                                },
                                {
                                    "0": "10646",
                                    "1": "37",
                                    "2": "1446.00",
                                    "3": "2.89"
                                },
                                {
                                    "0": "10661",
                                    "1": "37",
                                    "2": "562.60",
                                    "3": "1.13"
                                },
                                {
                                    "0": "10687",
                                    "1": "37",
                                    "2": "4960.90",
                                    "3": "9.93"
                                },
                                {
                                    "0": "10701",
                                    "1": "37",
                                    "2": "2864.50",
                                    "3": "5.73"
                                },
                                {
                                    "0": "10712",
                                    "1": "37",
                                    "2": "1233.48",
                                    "3": "2.47"
                                },
                                {
                                    "0": "10736",
                                    "1": "37",
                                    "2": "997.00",
                                    "3": "1.99"
                                },
                                {
                                    "0": "10897",
                                    "1": "37",
                                    "2": "10835.24",
                                    "3": "21.68"
                                },
                                {
                                    "0": "10912",
                                    "1": "37",
                                    "2": "6200.55",
                                    "3": "12.41"
                                },
                                {
                                    "0": "10985",
                                    "1": "37",
                                    "2": "2023.38",
                                    "3": "4.05"
                                },
                                {
                                    "0": "11063",
                                    "1": "37",
                                    "2": "1342.95",
                                    "3": "2.69"
                                },
                                {
                                    "0": "10315",
                                    "1": "38",
                                    "2": "516.80",
                                    "3": "8.41"
                                },
                                {
                                    "0": "10318",
                                    "1": "38",
                                    "2": "240.40",
                                    "3": "3.91"
                                },
                                {
                                    "0": "10321",
                                    "1": "38",
                                    "2": "144.00",
                                    "3": "2.34"
                                },
                                {
                                    "0": "10473",
                                    "1": "38",
                                    "2": "230.40",
                                    "3": "3.75"
                                },
                                {
                                    "0": "10621",
                                    "1": "38",
                                    "2": "758.50",
                                    "3": "12.34"
                                },
                                {
                                    "0": "10674",
                                    "1": "38",
                                    "2": "45.00",
                                    "3": "0.73"
                                },
                                {
                                    "0": "10749",
                                    "1": "38",
                                    "2": "1080.00",
                                    "3": "17.57"
                                },
                                {
                                    "0": "10798",
                                    "1": "38",
                                    "2": "446.60",
                                    "3": "7.27"
                                },
                                {
                                    "0": "10829",
                                    "1": "38",
                                    "2": "1764.00",
                                    "3": "28.70"
                                },
                                {
                                    "0": "10933",
                                    "1": "38",
                                    "2": "920.60",
                                    "3": "14.98"
                                },
                                {
                                    "0": "10323",
                                    "1": "39",
                                    "2": "164.40",
                                    "3": "0.53"
                                },
                                {
                                    "0": "10325",
                                    "1": "39",
                                    "2": "1497.00",
                                    "3": "4.84"
                                },
                                {
                                    "0": "10456",
                                    "1": "39",
                                    "2": "557.60",
                                    "3": "1.80"
                                },
                                {
                                    "0": "10457",
                                    "1": "39",
                                    "2": "1584.00",
                                    "3": "5.12"
                                },
                                {
                                    "0": "10468",
                                    "1": "39",
                                    "2": "717.60",
                                    "3": "2.32"
                                },
                                {
                                    "0": "10506",
                                    "1": "39",
                                    "2": "415.80",
                                    "3": "1.35"
                                },
                                {
                                    "0": "10542",
                                    "1": "39",
                                    "2": "469.11",
                                    "3": "1.52"
                                },
                                {
                                    "0": "10630",
                                    "1": "39",
                                    "2": "903.60",
                                    "3": "2.92"
                                },
                                {
                                    "0": "10718",
                                    "1": "39",
                                    "2": "3463.00",
                                    "3": "11.20"
                                },
                                {
                                    "0": "10799",
                                    "1": "39",
                                    "2": "1553.50",
                                    "3": "5.03"
                                },
                                {
                                    "0": "10817",
                                    "1": "39",
                                    "2": "10952.85",
                                    "3": "35.44"
                                },
                                {
                                    "0": "10849",
                                    "1": "39",
                                    "2": "967.82",
                                    "3": "3.13"
                                },
                                {
                                    "0": "10893",
                                    "1": "39",
                                    "2": "5502.11",
                                    "3": "17.80"
                                },
                                {
                                    "0": "11028",
                                    "1": "39",
                                    "2": "2160.00",
                                    "3": "6.99"
                                },
                                {
                                    "0": "10858",
                                    "1": "40",
                                    "2": "649.00",
                                    "3": "32.58"
                                },
                                {
                                    "0": "10927",
                                    "1": "40",
                                    "2": "800.00",
                                    "3": "40.16"
                                },
                                {
                                    "0": "10972",
                                    "1": "40",
                                    "2": "251.50",
                                    "3": "12.63"
                                },
                                {
                                    "0": "10973",
                                    "1": "40",
                                    "2": "291.55",
                                    "3": "14.64"
                                },
                                {
                                    "0": "10350",
                                    "1": "41",
                                    "2": "642.06",
                                    "3": "6.88"
                                },
                                {
                                    "0": "10358",
                                    "1": "41",
                                    "2": "429.40",
                                    "3": "4.60"
                                },
                                {
                                    "0": "10371",
                                    "1": "41",
                                    "2": "72.96",
                                    "3": "0.78"
                                },
                                {
                                    "0": "10413",
                                    "1": "41",
                                    "2": "2123.20",
                                    "3": "22.76"
                                },
                                {
                                    "0": "10425",
                                    "1": "41",
                                    "2": "360.00",
                                    "3": "3.86"
                                },
                                {
                                    "0": "10454",
                                    "1": "41",
                                    "2": "331.20",
                                    "3": "3.55"
                                },
                                {
                                    "0": "10493",
                                    "1": "41",
                                    "2": "608.40",
                                    "3": "6.52"
                                },
                                {
                                    "0": "10500",
                                    "1": "41",
                                    "2": "523.26",
                                    "3": "5.61"
                                },
                                {
                                    "0": "10610",
                                    "1": "41",
                                    "2": "299.25",
                                    "3": "3.21"
                                },
                                {
                                    "0": "10631",
                                    "1": "41",
                                    "2": "55.80",
                                    "3": "0.60"
                                },
                                {
                                    "0": "10787",
                                    "1": "41",
                                    "2": "2622.76",
                                    "3": "28.12"
                                },
                                {
                                    "0": "10832",
                                    "1": "41",
                                    "2": "475.11",
                                    "3": "5.09"
                                },
                                {
                                    "0": "10923",
                                    "1": "41",
                                    "2": "748.80",
                                    "3": "8.03"
                                },
                                {
                                    "0": "11051",
                                    "1": "41",
                                    "2": "36.00",
                                    "3": "0.39"
                                },
                                {
                                    "0": "10495",
                                    "1": "42",
                                    "2": "278.00",
                                    "3": "53.21"
                                },
                                {
                                    "0": "10620",
                                    "1": "42",
                                    "2": "57.50",
                                    "3": "11.00"
                                },
                                {
                                    "0": "10810",
                                    "1": "42",
                                    "2": "187.00",
                                    "3": "35.79"
                                },
                                {
                                    "0": "10482",
                                    "1": "43",
                                    "2": "147.00",
                                    "3": "41.18"
                                },
                                {
                                    "0": "10545",
                                    "1": "43",
                                    "2": "210.00",
                                    "3": "58.82"
                                },
                                {
                                    "0": "10279",
                                    "1": "44",
                                    "2": "351.00",
                                    "3": "1.82"
                                },
                                {
                                    "0": "10284",
                                    "1": "44",
                                    "2": "1170.38",
                                    "3": "6.08"
                                },
                                {
                                    "0": "10343",
                                    "1": "44",
                                    "2": "1584.00",
                                    "3": "8.22"
                                },
                                {
                                    "0": "10497",
                                    "1": "44",
                                    "2": "1380.60",
                                    "3": "7.17"
                                },
                                {
                                    "0": "10522",
                                    "1": "44",
                                    "2": "2318.24",
                                    "3": "12.04"
                                },
                                {
                                    "0": "10534",
                                    "1": "44",
                                    "2": "465.70",
                                    "3": "2.42"
                                },
                                {
                                    "0": "10536",
                                    "1": "44",
                                    "2": "1645.00",
                                    "3": "8.54"
                                },
                                {
                                    "0": "10557",
                                    "1": "44",
                                    "2": "1152.50",
                                    "3": "5.98"
                                },
                                {
                                    "0": "10592",
                                    "1": "44",
                                    "2": "516.47",
                                    "3": "2.68"
                                },
                                {
                                    "0": "10593",
                                    "1": "44",
                                    "2": "1994.40",
                                    "3": "10.35"
                                },
                                {
                                    "0": "10772",
                                    "1": "44",
                                    "2": "3603.22",
                                    "3": "18.71"
                                },
                                {
                                    "0": "10862",
                                    "1": "44",
                                    "2": "581.00",
                                    "3": "3.02"
                                },
                                {
                                    "0": "10891",
                                    "1": "44",
                                    "2": "368.93",
                                    "3": "1.92"
                                },
                                {
                                    "0": "10934",
                                    "1": "44",
                                    "2": "500.00",
                                    "3": "2.60"
                                },
                                {
                                    "0": "11070",
                                    "1": "44",
                                    "2": "1629.98",
                                    "3": "8.46"
                                },
                                {
                                    "0": "10579",
                                    "1": "45",
                                    "2": "317.75",
                                    "3": "10.33"
                                },
                                {
                                    "0": "10719",
                                    "1": "45",
                                    "2": "844.25",
                                    "3": "27.44"
                                },
                                {
                                    "0": "10735",
                                    "1": "45",
                                    "2": "536.40",
                                    "3": "17.44"
                                },
                                {
                                    "0": "10884",
                                    "1": "45",
                                    "2": "1378.07",
                                    "3": "44.79"
                                },
                                {
                                    "0": "10283",
                                    "1": "46",
                                    "2": "1414.80",
                                    "3": "8.80"
                                },
                                {
                                    "0": "10296",
                                    "1": "46",
                                    "2": "1050.60",
                                    "3": "6.53"
                                },
                                {
                                    "0": "10330",
                                    "1": "46",
                                    "2": "1649.00",
                                    "3": "10.26"
                                },
                                {
                                    "0": "10357",
                                    "1": "46",
                                    "2": "1167.68",
                                    "3": "7.26"
                                },
                                {
                                    "0": "10381",
                                    "1": "46",
                                    "2": "112.00",
                                    "3": "0.70"
                                },
                                {
                                    "0": "10461",
                                    "1": "46",
                                    "2": "1538.70",
                                    "3": "9.57"
                                },
                                {
                                    "0": "10499",
                                    "1": "46",
                                    "2": "1412.00",
                                    "3": "8.78"
                                },
                                {
                                    "0": "10543",
                                    "1": "46",
                                    "2": "1504.50",
                                    "3": "9.36"
                                },
                                {
                                    "0": "10780",
                                    "1": "46",
                                    "2": "720.00",
                                    "3": "4.48"
                                },
                                {
                                    "0": "10823",
                                    "1": "46",
                                    "2": "2826.00",
                                    "3": "17.58"
                                },
                                {
                                    "0": "10899",
                                    "1": "46",
                                    "2": "122.40",
                                    "3": "0.76"
                                },
                                {
                                    "0": "10997",
                                    "1": "46",
                                    "2": "1885.00",
                                    "3": "11.73"
                                },
                                {
                                    "0": "11065",
                                    "1": "46",
                                    "2": "189.42",
                                    "3": "1.18"
                                },
                                {
                                    "0": "11071",
                                    "1": "46",
                                    "2": "484.50",
                                    "3": "3.01"
                                },
                                {
                                    "0": "10405",
                                    "1": "47",
                                    "2": "400.00",
                                    "3": "2.43"
                                },
                                {
                                    "0": "10485",
                                    "1": "47",
                                    "2": "1584.00",
                                    "3": "9.61"
                                },
                                {
                                    "0": "10638",
                                    "1": "47",
                                    "2": "2720.05",
                                    "3": "16.51"
                                },
                                {
                                    "0": "10697",
                                    "1": "47",
                                    "2": "805.43",
                                    "3": "4.89"
                                },
                                {
                                    "0": "10729",
                                    "1": "47",
                                    "2": "1850.00",
                                    "3": "11.23"
                                },
                                {
                                    "0": "10811",
                                    "1": "47",
                                    "2": "852.00",
                                    "3": "5.17"
                                },
                                {
                                    "0": "10838",
                                    "1": "47",
                                    "2": "1938.38",
                                    "3": "11.76"
                                },
                                {
                                    "0": "10840",
                                    "1": "47",
                                    "2": "211.20",
                                    "3": "1.28"
                                },
                                {
                                    "0": "10919",
                                    "1": "47",
                                    "2": "1122.80",
                                    "3": "6.81"
                                },
                                {
                                    "0": "10954",
                                    "1": "47",
                                    "2": "1659.54",
                                    "3": "10.07"
                                },
                                {
                                    "0": "11014",
                                    "1": "47",
                                    "2": "243.18",
                                    "3": "1.48"
                                },
                                {
                                    "0": "11039",
                                    "1": "47",
                                    "2": "3090.00",
                                    "3": "18.75"
                                },
                                {
                                    "0": "10307",
                                    "1": "48",
                                    "2": "424.00",
                                    "3": "9.96"
                                },
                                {
                                    "0": "10317",
                                    "1": "48",
                                    "2": "288.00",
                                    "3": "6.76"
                                },
                                {
                                    "0": "10544",
                                    "1": "48",
                                    "2": "417.20",
                                    "3": "9.80"
                                },
                                {
                                    "0": "10662",
                                    "1": "48",
                                    "2": "125.00",
                                    "3": "2.94"
                                },
                                {
                                    "0": "10665",
                                    "1": "48",
                                    "2": "1295.00",
                                    "3": "30.41"
                                },
                                {
                                    "0": "10867",
                                    "1": "48",
                                    "2": "98.40",
                                    "3": "2.31"
                                },
                                {
                                    "0": "10883",
                                    "1": "48",
                                    "2": "36.00",
                                    "3": "0.85"
                                },
                                {
                                    "0": "11018",
                                    "1": "48",
                                    "2": "1575.00",
                                    "3": "36.98"
                                },
                                {
                                    "0": "10275",
                                    "1": "49",
                                    "2": "291.84",
                                    "3": "4.07"
                                },
                                {
                                    "0": "10300",
                                    "1": "49",
                                    "2": "608.00",
                                    "3": "8.47"
                                },
                                {
                                    "0": "10404",
                                    "1": "49",
                                    "2": "1591.25",
                                    "3": "22.17"
                                },
                                {
                                    "0": "10467",
                                    "1": "49",
                                    "2": "235.20",
                                    "3": "3.28"
                                },
                                {
                                    "0": "10635",
                                    "1": "49",
                                    "2": "1326.23",
                                    "3": "18.48"
                                },
                                {
                                    "0": "10754",
                                    "1": "49",
                                    "2": "55.20",
                                    "3": "0.77"
                                },
                                {
                                    "0": "10784",
                                    "1": "49",
                                    "2": "1488.00",
                                    "3": "20.74"
                                },
                                {
                                    "0": "10818",
                                    "1": "49",
                                    "2": "833.00",
                                    "3": "11.61"
                                },
                                {
                                    "0": "10939",
                                    "1": "49",
                                    "2": "637.50",
                                    "3": "8.88"
                                },
                                {
                                    "0": "10950",
                                    "1": "49",
                                    "2": "110.00",
                                    "3": "1.53"
                                },
                                {
                                    "0": "10529",
                                    "1": "50",
                                    "2": "946.00",
                                    "3": "9.72"
                                },
                                {
                                    "0": "10649",
                                    "1": "50",
                                    "2": "1434.00",
                                    "3": "14.73"
                                },
                                {
                                    "0": "10760",
                                    "1": "50",
                                    "2": "2917.00",
                                    "3": "29.96"
                                },
                                {
                                    "0": "10892",
                                    "1": "50",
                                    "2": "2090.00",
                                    "3": "21.47"
                                },
                                {
                                    "0": "10896",
                                    "1": "50",
                                    "2": "750.50",
                                    "3": "7.71"
                                },
                                {
                                    "0": "10978",
                                    "1": "50",
                                    "2": "1303.20",
                                    "3": "13.39"
                                },
                                {
                                    "0": "11004",
                                    "1": "50",
                                    "2": "295.38",
                                    "3": "3.03"
                                },
                                {
                                    "0": "10332",
                                    "1": "51",
                                    "2": "1786.88",
                                    "3": "6.19"
                                },
                                {
                                    "0": "10339",
                                    "1": "51",
                                    "2": "3354.00",
                                    "3": "11.62"
                                },
                                {
                                    "0": "10376",
                                    "1": "51",
                                    "2": "399.00",
                                    "3": "1.38"
                                },
                                {
                                    "0": "10424",
                                    "1": "51",
                                    "2": "9194.56",
                                    "3": "31.85"
                                },
                                {
                                    "0": "10439",
                                    "1": "51",
                                    "2": "1078.00",
                                    "3": "3.73"
                                },
                                {
                                    "0": "10505",
                                    "1": "51",
                                    "2": "147.90",
                                    "3": "0.51"
                                },
                                {
                                    "0": "10565",
                                    "1": "51",
                                    "2": "639.90",
                                    "3": "2.22"
                                },
                                {
                                    "0": "10570",
                                    "1": "51",
                                    "2": "2465.25",
                                    "3": "8.54"
                                },
                                {
                                    "0": "10590",
                                    "1": "51",
                                    "2": "1101.00",
                                    "3": "3.81"
                                },
                                {
                                    "0": "10605",
                                    "1": "51",
                                    "2": "4109.70",
                                    "3": "14.23"
                                },
                                {
                                    "0": "10618",
                                    "1": "51",
                                    "2": "2697.50",
                                    "3": "9.34"
                                },
                                {
                                    "0": "10619",
                                    "1": "51",
                                    "2": "1260.00",
                                    "3": "4.36"
                                },
                                {
                                    "0": "10724",
                                    "1": "51",
                                    "2": "638.50",
                                    "3": "2.21"
                                },
                                {
                                    "0": "10277",
                                    "1": "52",
                                    "2": "1200.80",
                                    "3": "23.82"
                                },
                                {
                                    "0": "10575",
                                    "1": "52",
                                    "2": "2147.40",
                                    "3": "42.59"
                                },
                                {
                                    "0": "10699",
                                    "1": "52",
                                    "2": "114.00",
                                    "3": "2.26"
                                },
                                {
                                    "0": "10779",
                                    "1": "52",
                                    "2": "1335.00",
                                    "3": "26.48"
                                },
                                {
                                    "0": "10945",
                                    "1": "52",
                                    "2": "245.00",
                                    "3": "4.86"
                                },
                                {
                                    "0": "10517",
                                    "1": "53",
                                    "2": "352.00",
                                    "3": "54.24"
                                },
                                {
                                    "0": "10752",
                                    "1": "53",
                                    "2": "252.00",
                                    "3": "38.83"
                                },
                                {
                                    "0": "11057",
                                    "1": "53",
                                    "2": "45.00",
                                    "3": "6.93"
                                },
                                {
                                    "0": "10409",
                                    "1": "54",
                                    "2": "319.20",
                                    "3": "9.22"
                                },
                                {
                                    "0": "10531",
                                    "1": "54",
                                    "2": "110.00",
                                    "3": "3.18"
                                },
                                {
                                    "0": "10898",
                                    "1": "54",
                                    "2": "30.00",
                                    "3": "0.87"
                                },
                                {
                                    "0": "10958",
                                    "1": "54",
                                    "2": "781.00",
                                    "3": "22.57"
                                },
                                {
                                    "0": "10986",
                                    "1": "54",
                                    "2": "2220.00",
                                    "3": "64.16"
                                },
                                {
                                    "0": "10305",
                                    "1": "55",
                                    "2": "3741.30",
                                    "3": "24.65"
                                },
                                {
                                    "0": "10338",
                                    "1": "55",
                                    "2": "934.50",
                                    "3": "6.16"
                                },
                                {
                                    "0": "10441",
                                    "1": "55",
                                    "2": "1755.00",
                                    "3": "11.56"
                                },
                                {
                                    "0": "10594",
                                    "1": "55",
                                    "2": "565.50",
                                    "3": "3.73"
                                },
                                {
                                    "0": "10680",
                                    "1": "55",
                                    "2": "1261.88",
                                    "3": "8.31"
                                },
                                {
                                    "0": "10706",
                                    "1": "55",
                                    "2": "1893.00",
                                    "3": "12.47"
                                },
                                {
                                    "0": "10808",
                                    "1": "55",
                                    "2": "1411.00",
                                    "3": "9.30"
                                },
                                {
                                    "0": "10855",
                                    "1": "55",
                                    "2": "2227.89",
                                    "3": "14.68"
                                },
                                {
                                    "0": "10965",
                                    "1": "55",
                                    "2": "848.00",
                                    "3": "5.59"
                                },
                                {
                                    "0": "11034",
                                    "1": "55",
                                    "2": "539.40",
                                    "3": "3.55"
                                },
                                {
                                    "0": "10260",
                                    "1": "56",
                                    "2": "1504.65",
                                    "3": "12.04"
                                },
                                {
                                    "0": "10407",
                                    "1": "56",
                                    "2": "1194.00",
                                    "3": "9.55"
                                },
                                {
                                    "0": "10508",
                                    "1": "56",
                                    "2": "240.00",
                                    "3": "1.92"
                                },
                                {
                                    "0": "10554",
                                    "1": "56",
                                    "2": "1728.53",
                                    "3": "13.83"
                                },
                                {
                                    "0": "10580",
                                    "1": "56",
                                    "2": "1013.75",
                                    "3": "8.11"
                                },
                                {
                                    "0": "10684",
                                    "1": "56",
                                    "2": "1768.00",
                                    "3": "14.15"
                                },
                                {
                                    "0": "10766",
                                    "1": "56",
                                    "2": "2310.00",
                                    "3": "18.49"
                                },
                                {
                                    "0": "10833",
                                    "1": "56",
                                    "2": "906.93",
                                    "3": "7.26"
                                },
                                {
                                    "0": "10999",
                                    "1": "56",
                                    "2": "1197.95",
                                    "3": "9.59"
                                },
                                {
                                    "0": "11020",
                                    "1": "56",
                                    "2": "632.40",
                                    "3": "5.06"
                                },
                                {
                                    "0": "10322",
                                    "1": "58",
                                    "2": "112.00",
                                    "3": "2.64"
                                },
                                {
                                    "0": "10354",
                                    "1": "58",
                                    "2": "568.80",
                                    "3": "13.41"
                                },
                                {
                                    "0": "10474",
                                    "1": "58",
                                    "2": "1249.10",
                                    "3": "29.44"
                                },
                                {
                                    "0": "10502",
                                    "1": "58",
                                    "2": "816.30",
                                    "3": "19.24"
                                },
                                {
                                    "0": "10995",
                                    "1": "58",
                                    "2": "1196.00",
                                    "3": "28.19"
                                },
                                {
                                    "0": "11073",
                                    "1": "58",
                                    "2": "300.00",
                                    "3": "7.07"
                                },
                                {
                                    "0": "10353",
                                    "1": "59",
                                    "2": "8593.28",
                                    "3": "37.15"
                                },
                                {
                                    "0": "10392",
                                    "1": "59",
                                    "2": "1440.00",
                                    "3": "6.23"
                                },
                                {
                                    "0": "10427",
                                    "1": "59",
                                    "2": "651.00",
                                    "3": "2.81"
                                },
                                {
                                    "0": "10489",
                                    "1": "59",
                                    "2": "439.20",
                                    "3": "1.90"
                                },
                                {
                                    "0": "10530",
                                    "1": "59",
                                    "2": "4180.00",
                                    "3": "18.07"
                                },
                                {
                                    "0": "10597",
                                    "1": "59",
                                    "2": "718.08",
                                    "3": "3.10"
                                },
                                {
                                    "0": "10686",
                                    "1": "59",
                                    "2": "1404.45",
                                    "3": "6.07"
                                },
                                {
                                    "0": "10747",
                                    "1": "59",
                                    "2": "1912.85",
                                    "3": "8.27"
                                },
                                {
                                    "0": "10844",
                                    "1": "59",
                                    "2": "735.00",
                                    "3": "3.18"
                                },
                                {
                                    "0": "11053",
                                    "1": "59",
                                    "2": "3055.00",
                                    "3": "13.21"
                                },
                                {
                                    "0": "10336",
                                    "1": "60",
                                    "2": "285.12",
                                    "3": "5.65"
                                },
                                {
                                    "0": "10397",
                                    "1": "60",
                                    "2": "716.72",
                                    "3": "14.21"
                                },
                                {
                                    "0": "10433",
                                    "1": "60",
                                    "2": "851.20",
                                    "3": "16.87"
                                },
                                {
                                    "0": "10477",
                                    "1": "60",
                                    "2": "558.00",
                                    "3": "11.06"
                                },
                                {
                                    "0": "11007",
                                    "1": "60",
                                    "2": "2633.90",
                                    "3": "52.21"
                                },
                                {
                                    "0": "10261",
                                    "1": "61",
                                    "2": "448.00",
                                    "3": "6.72"
                                },
                                {
                                    "0": "10291",
                                    "1": "61",
                                    "2": "497.52",
                                    "3": "7.46"
                                },
                                {
                                    "0": "10379",
                                    "1": "61",
                                    "2": "863.28",
                                    "3": "12.95"
                                },
                                {
                                    "0": "10421",
                                    "1": "61",
                                    "2": "1194.27",
                                    "3": "17.92"
                                },
                                {
                                    "0": "10587",
                                    "1": "61",
                                    "2": "807.38",
                                    "3": "12.11"
                                },
                                {
                                    "0": "10647",
                                    "1": "61",
                                    "2": "636.00",
                                    "3": "9.54"
                                },
                                {
                                    "0": "10720",
                                    "1": "61",
                                    "2": "550.00",
                                    "3": "8.25"
                                },
                                {
                                    "0": "10794",
                                    "1": "61",
                                    "2": "314.76",
                                    "3": "4.72"
                                },
                                {
                                    "0": "10989",
                                    "1": "61",
                                    "2": "1353.60",
                                    "3": "20.31"
                                },
                                {
                                    "0": "10372",
                                    "1": "62",
                                    "2": "9210.90",
                                    "3": "35.82"
                                },
                                {
                                    "0": "10406",
                                    "1": "62",
                                    "2": "1830.78",
                                    "3": "7.12"
                                },
                                {
                                    "0": "10487",
                                    "1": "62",
                                    "2": "889.70",
                                    "3": "3.46"
                                },
                                {
                                    "0": "10637",
                                    "1": "62",
                                    "2": "2761.94",
                                    "3": "10.74"
                                },
                                {
                                    "0": "10659",
                                    "1": "62",
                                    "2": "1227.02",
                                    "3": "4.77"
                                },
                                {
                                    "0": "10704",
                                    "1": "62",
                                    "2": "595.50",
                                    "3": "2.32"
                                },
                                {
                                    "0": "10728",
                                    "1": "62",
                                    "2": "1296.75",
                                    "3": "5.04"
                                },
                                {
                                    "0": "10786",
                                    "1": "62",
                                    "2": "1531.08",
                                    "3": "5.95"
                                },
                                {
                                    "0": "10868",
                                    "1": "62",
                                    "2": "1920.60",
                                    "3": "7.47"
                                },
                                {
                                    "0": "10913",
                                    "1": "62",
                                    "2": "768.75",
                                    "3": "2.99"
                                },
                                {
                                    "0": "10914",
                                    "1": "62",
                                    "2": "537.50",
                                    "3": "2.09"
                                },
                                {
                                    "0": "10961",
                                    "1": "62",
                                    "2": "1119.90",
                                    "3": "4.35"
                                },
                                {
                                    "0": "11068",
                                    "1": "62",
                                    "2": "2027.08",
                                    "3": "7.88"
                                },
                                {
                                    "0": "10273",
                                    "1": "63",
                                    "2": "2037.28",
                                    "3": "1.85"
                                },
                                {
                                    "0": "10285",
                                    "1": "63",
                                    "2": "1743.36",
                                    "3": "1.58"
                                },
                                {
                                    "0": "10286",
                                    "1": "63",
                                    "2": "3016.00",
                                    "3": "2.73"
                                },
                                {
                                    "0": "10313",
                                    "1": "63",
                                    "2": "182.40",
                                    "3": "0.17"
                                },
                                {
                                    "0": "10345",
                                    "1": "63",
                                    "2": "2924.80",
                                    "3": "2.65"
                                },
                                {
                                    "0": "10361",
                                    "1": "63",
                                    "2": "2046.24",
                                    "3": "1.86"
                                },
                                {
                                    "0": "10418",
                                    "1": "63",
                                    "2": "1814.80",
                                    "3": "1.65"
                                },
                                {
                                    "0": "10451",
                                    "1": "63",
                                    "2": "3849.66",
                                    "3": "3.49"
                                },
                                {
                                    "0": "10515",
                                    "1": "63",
                                    "2": "9921.30",
                                    "3": "9.00"
                                },
                                {
                                    "0": "10527",
                                    "1": "63",
                                    "2": "1503.00",
                                    "3": "1.36"
                                },
                                {
                                    "0": "10540",
                                    "1": "63",
                                    "2": "10191.70",
                                    "3": "9.24"
                                },
                                {
                                    "0": "10549",
                                    "1": "63",
                                    "2": "3554.28",
                                    "3": "3.22"
                                },
                                {
                                    "0": "10588",
                                    "1": "63",
                                    "2": "3120.00",
                                    "3": "2.83"
                                },
                                {
                                    "0": "10658",
                                    "1": "63",
                                    "2": "4464.60",
                                    "3": "4.05"
                                },
                                {
                                    "0": "10691",
                                    "1": "63",
                                    "2": "10164.80",
                                    "3": "9.22"
                                },
                                {
                                    "0": "10694",
                                    "1": "63",
                                    "2": "4825.00",
                                    "3": "4.38"
                                },
                                {
                                    "0": "10721",
                                    "1": "63",
                                    "2": "923.88",
                                    "3": "0.84"
                                },
                                {
                                    "0": "10745",
                                    "1": "63",
                                    "2": "4529.80",
                                    "3": "4.11"
                                },
                                {
                                    "0": "10765",
                                    "1": "63",
                                    "2": "1515.60",
                                    "3": "1.37"
                                },
                                {
                                    "0": "10788",
                                    "1": "63",
                                    "2": "731.50",
                                    "3": "0.66"
                                },
                                {
                                    "0": "10845",
                                    "1": "63",
                                    "2": "3812.70",
                                    "3": "3.46"
                                },
                                {
                                    "0": "10865",
                                    "1": "63",
                                    "2": "16387.50",
                                    "3": "14.86"
                                },
                                {
                                    "0": "10878",
                                    "1": "63",
                                    "2": "1539.00",
                                    "3": "1.40"
                                },
                                {
                                    "0": "10938",
                                    "1": "63",
                                    "2": "2731.88",
                                    "3": "2.48"
                                },
                                {
                                    "0": "10962",
                                    "1": "63",
                                    "2": "3584.00",
                                    "3": "3.25"
                                },
                                {
                                    "0": "10991",
                                    "1": "63",
                                    "2": "2296.00",
                                    "3": "2.08"
                                },
                                {
                                    "0": "10996",
                                    "1": "63",
                                    "2": "560.00",
                                    "3": "0.51"
                                },
                                {
                                    "0": "11021",
                                    "1": "63",
                                    "2": "6306.24",
                                    "3": "5.72"
                                },
                                {
                                    "0": "10448",
                                    "1": "64",
                                    "2": "443.40",
                                    "3": "15.59"
                                },
                                {
                                    "0": "10716",
                                    "1": "64",
                                    "2": "706.00",
                                    "3": "24.82"
                                },
                                {
                                    "0": "10828",
                                    "1": "64",
                                    "2": "932.00",
                                    "3": "32.77"
                                },
                                {
                                    "0": "10916",
                                    "1": "64",
                                    "2": "686.70",
                                    "3": "24.14"
                                },
                                {
                                    "0": "11019",
                                    "1": "64",
                                    "2": "76.00",
                                    "3": "2.67"
                                },
                                {
                                    "0": "10262",
                                    "1": "65",
                                    "2": "584.00",
                                    "3": "1.14"
                                },
                                {
                                    "0": "10272",
                                    "1": "65",
                                    "2": "1456.00",
                                    "3": "2.85"
                                },
                                {
                                    "0": "10294",
                                    "1": "65",
                                    "2": "1887.60",
                                    "3": "3.69"
                                },
                                {
                                    "0": "10314",
                                    "1": "65",
                                    "2": "2094.30",
                                    "3": "4.10"
                                },
                                {
                                    "0": "10316",
                                    "1": "65",
                                    "2": "2835.00",
                                    "3": "5.55"
                                },
                                {
                                    "0": "10346",
                                    "1": "65",
                                    "2": "1618.88",
                                    "3": "3.17"
                                },
                                {
                                    "0": "10401",
                                    "1": "65",
                                    "2": "3868.60",
                                    "3": "7.57"
                                },
                                {
                                    "0": "10479",
                                    "1": "65",
                                    "2": "10495.60",
                                    "3": "20.54"
                                },
                                {
                                    "0": "10564",
                                    "1": "65",
                                    "2": "1234.05",
                                    "3": "2.42"
                                },
                                {
                                    "0": "10569",
                                    "1": "65",
                                    "2": "890.00",
                                    "3": "1.74"
                                },
                                {
                                    "0": "10598",
                                    "1": "65",
                                    "2": "2388.50",
                                    "3": "4.67"
                                },
                                {
                                    "0": "10761",
                                    "1": "65",
                                    "2": "507.00",
                                    "3": "0.99"
                                },
                                {
                                    "0": "10820",
                                    "1": "65",
                                    "2": "1140.00",
                                    "3": "2.23"
                                },
                                {
                                    "0": "10852",
                                    "1": "65",
                                    "2": "2984.00",
                                    "3": "5.84"
                                },
                                {
                                    "0": "10889",
                                    "1": "65",
                                    "2": "11380.00",
                                    "3": "22.27"
                                },
                                {
                                    "0": "10988",
                                    "1": "65",
                                    "2": "3574.80",
                                    "3": "7.00"
                                },
                                {
                                    "0": "11000",
                                    "1": "65",
                                    "2": "903.75",
                                    "3": "1.77"
                                },
                                {
                                    "0": "11077",
                                    "1": "65",
                                    "2": "1255.72",
                                    "3": "2.46"
                                },
                                {
                                    "0": "10288",
                                    "1": "66",
                                    "2": "80.10",
                                    "3": "1.14"
                                },
                                {
                                    "0": "10428",
                                    "1": "66",
                                    "2": "192.00",
                                    "3": "2.72"
                                },
                                {
                                    "0": "10443",
                                    "1": "66",
                                    "2": "517.44",
                                    "3": "7.34"
                                },
                                {
                                    "0": "10562",
                                    "1": "66",
                                    "2": "488.70",
                                    "3": "6.93"
                                },
                                {
                                    "0": "10586",
                                    "1": "66",
                                    "2": "23.80",
                                    "3": "0.34"
                                },
                                {
                                    "0": "10655",
                                    "1": "66",
                                    "2": "154.40",
                                    "3": "2.19"
                                },
                                {
                                    "0": "10727",
                                    "1": "66",
                                    "2": "1624.50",
                                    "3": "23.05"
                                },
                                {
                                    "0": "10812",
                                    "1": "66",
                                    "2": "1692.80",
                                    "3": "24.02"
                                },
                                {
                                    "0": "10908",
                                    "1": "66",
                                    "2": "663.10",
                                    "3": "9.41"
                                },
                                {
                                    "0": "10942",
                                    "1": "66",
                                    "2": "560.00",
                                    "3": "7.95"
                                },
                                {
                                    "0": "11010",
                                    "1": "66",
                                    "2": "645.00",
                                    "3": "9.15"
                                },
                                {
                                    "0": "11062",
                                    "1": "66",
                                    "2": "406.40",
                                    "3": "5.77"
                                },
                                {
                                    "0": "10287",
                                    "1": "67",
                                    "2": "819.00",
                                    "3": "6.58"
                                },
                                {
                                    "0": "10299",
                                    "1": "67",
                                    "2": "349.50",
                                    "3": "2.81"
                                },
                                {
                                    "0": "10447",
                                    "1": "67",
                                    "2": "914.40",
                                    "3": "7.34"
                                },
                                {
                                    "0": "10481",
                                    "1": "67",
                                    "2": "1472.00",
                                    "3": "11.82"
                                },
                                {
                                    "0": "10563",
                                    "1": "67",
                                    "2": "965.00",
                                    "3": "7.75"
                                },
                                {
                                    "0": "10622",
                                    "1": "67",
                                    "2": "560.00",
                                    "3": "4.50"
                                },
                                {
                                    "0": "10648",
                                    "1": "67",
                                    "2": "372.38",
                                    "3": "2.99"
                                },
                                {
                                    "0": "10813",
                                    "1": "67",
                                    "2": "602.40",
                                    "3": "4.84"
                                },
                                {
                                    "0": "10851",
                                    "1": "67",
                                    "2": "2603.00",
                                    "3": "20.91"
                                },
                                {
                                    "0": "10877",
                                    "1": "67",
                                    "2": "1955.13",
                                    "3": "15.70"
                                },
                                {
                                    "0": "11059",
                                    "1": "67",
                                    "2": "1838.00",
                                    "3": "14.76"
                                },
                                {
                                    "0": "10255",
                                    "1": "68",
                                    "2": "2490.50",
                                    "3": "12.87"
                                },
                                {
                                    "0": "10419",
                                    "1": "68",
                                    "2": "2097.60",
                                    "3": "10.84"
                                },
                                {
                                    "0": "10537",
                                    "1": "68",
                                    "2": "1823.80",
                                    "3": "9.43"
                                },
                                {
                                    "0": "10666",
                                    "1": "68",
                                    "2": "4666.94",
                                    "3": "24.13"
                                },
                                {
                                    "0": "10751",
                                    "1": "68",
                                    "2": "1631.48",
                                    "3": "8.43"
                                },
                                {
                                    "0": "10758",
                                    "1": "68",
                                    "2": "1644.60",
                                    "3": "8.50"
                                },
                                {
                                    "0": "10931",
                                    "1": "68",
                                    "2": "799.20",
                                    "3": "4.13"
                                },
                                {
                                    "0": "10951",
                                    "1": "68",
                                    "2": "458.76",
                                    "3": "2.37"
                                },
                                {
                                    "0": "11033",
                                    "1": "68",
                                    "2": "3232.80",
                                    "3": "16.71"
                                },
                                {
                                    "0": "11075",
                                    "1": "68",
                                    "2": "498.10",
                                    "3": "2.57"
                                },
                                {
                                    "0": "10281",
                                    "1": "69",
                                    "2": "86.50",
                                    "3": "5.90"
                                },
                                {
                                    "0": "10282",
                                    "1": "69",
                                    "2": "155.40",
                                    "3": "10.59"
                                },
                                {
                                    "0": "10306",
                                    "1": "69",
                                    "2": "498.50",
                                    "3": "33.97"
                                },
                                {
                                    "0": "10917",
                                    "1": "69",
                                    "2": "365.89",
                                    "3": "24.94"
                                },
                                {
                                    "0": "11013",
                                    "1": "69",
                                    "2": "361.00",
                                    "3": "24.60"
                                },
                                {
                                    "0": "10387",
                                    "1": "70",
                                    "2": "1058.40",
                                    "3": "18.45"
                                },
                                {
                                    "0": "10520",
                                    "1": "70",
                                    "2": "200.00",
                                    "3": "3.49"
                                },
                                {
                                    "0": "10639",
                                    "1": "70",
                                    "2": "500.00",
                                    "3": "8.72"
                                },
                                {
                                    "0": "10831",
                                    "1": "70",
                                    "2": "2684.40",
                                    "3": "46.81"
                                },
                                {
                                    "0": "10909",
                                    "1": "70",
                                    "2": "670.00",
                                    "3": "11.68"
                                },
                                {
                                    "0": "11015",
                                    "1": "70",
                                    "2": "622.35",
                                    "3": "10.85"
                                },
                                {
                                    "0": "10324",
                                    "1": "71",
                                    "2": "5275.72",
                                    "3": "5.06"
                                },
                                {
                                    "0": "10393",
                                    "1": "71",
                                    "2": "2556.95",
                                    "3": "2.45"
                                },
                                {
                                    "0": "10398",
                                    "1": "71",
                                    "2": "2505.60",
                                    "3": "2.40"
                                },
                                {
                                    "0": "10440",
                                    "1": "71",
                                    "2": "4924.14",
                                    "3": "4.72"
                                },
                                {
                                    "0": "10452",
                                    "1": "71",
                                    "2": "2018.50",
                                    "3": "1.93"
                                },
                                {
                                    "0": "10510",
                                    "1": "71",
                                    "2": "4707.54",
                                    "3": "4.51"
                                },
                                {
                                    "0": "10555",
                                    "1": "71",
                                    "2": "2944.40",
                                    "3": "2.82"
                                },
                                {
                                    "0": "10603",
                                    "1": "71",
                                    "2": "1483.00",
                                    "3": "1.42"
                                },
                                {
                                    "0": "10607",
                                    "1": "71",
                                    "2": "6475.40",
                                    "3": "6.20"
                                },
                                {
                                    "0": "10612",
                                    "1": "71",
                                    "2": "6375.00",
                                    "3": "6.11"
                                },
                                {
                                    "0": "10627",
                                    "1": "71",
                                    "2": "1185.75",
                                    "3": "1.14"
                                },
                                {
                                    "0": "10657",
                                    "1": "71",
                                    "2": "4371.60",
                                    "3": "4.19"
                                },
                                {
                                    "0": "10678",
                                    "1": "71",
                                    "2": "5256.50",
                                    "3": "5.04"
                                },
                                {
                                    "0": "10700",
                                    "1": "71",
                                    "2": "1638.40",
                                    "3": "1.57"
                                },
                                {
                                    "0": "10711",
                                    "1": "71",
                                    "2": "4451.70",
                                    "3": "4.27"
                                },
                                {
                                    "0": "10713",
                                    "1": "71",
                                    "2": "2827.90",
                                    "3": "2.71"
                                },
                                {
                                    "0": "10714",
                                    "1": "71",
                                    "2": "2205.75",
                                    "3": "2.11"
                                },
                                {
                                    "0": "10722",
                                    "1": "71",
                                    "2": "1570.00",
                                    "3": "1.50"
                                },
                                {
                                    "0": "10748",
                                    "1": "71",
                                    "2": "2196.00",
                                    "3": "2.10"
                                },
                                {
                                    "0": "10757",
                                    "1": "71",
                                    "2": "3082.00",
                                    "3": "2.95"
                                },
                                {
                                    "0": "10815",
                                    "1": "71",
                                    "2": "40.00",
                                    "3": "0.04"
                                },
                                {
                                    "0": "10847",
                                    "1": "71",
                                    "2": "4931.92",
                                    "3": "4.73"
                                },
                                {
                                    "0": "10882",
                                    "1": "71",
                                    "2": "892.64",
                                    "3": "0.86"
                                },
                                {
                                    "0": "10894",
                                    "1": "71",
                                    "2": "2753.10",
                                    "3": "2.64"
                                },
                                {
                                    "0": "10941",
                                    "1": "71",
                                    "2": "4011.75",
                                    "3": "3.84"
                                },
                                {
                                    "0": "10983",
                                    "1": "71",
                                    "2": "720.90",
                                    "3": "0.69"
                                },
                                {
                                    "0": "10984",
                                    "1": "71",
                                    "2": "1809.75",
                                    "3": "1.73"
                                },
                                {
                                    "0": "11002",
                                    "1": "71",
                                    "2": "1811.10",
                                    "3": "1.74"
                                },
                                {
                                    "0": "11030",
                                    "1": "71",
                                    "2": "12615.05",
                                    "3": "12.09"
                                },
                                {
                                    "0": "11031",
                                    "1": "71",
                                    "2": "2393.50",
                                    "3": "2.29"
                                },
                                {
                                    "0": "11064",
                                    "1": "71",
                                    "2": "4330.40",
                                    "3": "4.15"
                                },
                                {
                                    "0": "10359",
                                    "1": "72",
                                    "2": "3471.68",
                                    "3": "21.41"
                                },
                                {
                                    "0": "10377",
                                    "1": "72",
                                    "2": "863.60",
                                    "3": "5.33"
                                },
                                {
                                    "0": "10388",
                                    "1": "72",
                                    "2": "1228.80",
                                    "3": "7.58"
                                },
                                {
                                    "0": "10472",
                                    "1": "72",
                                    "2": "1036.80",
                                    "3": "6.39"
                                },
                                {
                                    "0": "10523",
                                    "1": "72",
                                    "2": "2444.31",
                                    "3": "15.07"
                                },
                                {
                                    "0": "10547",
                                    "1": "72",
                                    "2": "1792.80",
                                    "3": "11.06"
                                },
                                {
                                    "0": "10800",
                                    "1": "72",
                                    "2": "1468.94",
                                    "3": "9.06"
                                },
                                {
                                    "0": "10804",
                                    "1": "72",
                                    "2": "2278.40",
                                    "3": "14.05"
                                },
                                {
                                    "0": "10869",
                                    "1": "72",
                                    "2": "1630.00",
                                    "3": "10.05"
                                },
                                {
                                    "0": "10341",
                                    "1": "73",
                                    "2": "352.60",
                                    "3": "2.10"
                                },
                                {
                                    "0": "10417",
                                    "1": "73",
                                    "2": "11188.40",
                                    "3": "66.53"
                                },
                                {
                                    "0": "10556",
                                    "1": "73",
                                    "2": "835.20",
                                    "3": "4.97"
                                },
                                {
                                    "0": "10642",
                                    "1": "73",
                                    "2": "696.00",
                                    "3": "4.14"
                                },
                                {
                                    "0": "10669",
                                    "1": "73",
                                    "2": "570.00",
                                    "3": "3.39"
                                },
                                {
                                    "0": "10802",
                                    "1": "73",
                                    "2": "2942.81",
                                    "3": "17.50"
                                },
                                {
                                    "0": "11074",
                                    "1": "73",
                                    "2": "232.09",
                                    "3": "1.38"
                                },
                                {
                                    "0": "10738",
                                    "1": "74",
                                    "2": "52.35",
                                    "3": "2.16"
                                },
                                {
                                    "0": "10907",
                                    "1": "74",
                                    "2": "108.50",
                                    "3": "4.48"
                                },
                                {
                                    "0": "10964",
                                    "1": "74",
                                    "2": "2052.50",
                                    "3": "84.70"
                                },
                                {
                                    "0": "11043",
                                    "1": "74",
                                    "2": "210.00",
                                    "3": "8.67"
                                },
                                {
                                    "0": "10271",
                                    "1": "75",
                                    "2": "48.00",
                                    "3": "0.42"
                                },
                                {
                                    "0": "10329",
                                    "1": "75",
                                    "2": "4578.43",
                                    "3": "40.02"
                                },
                                {
                                    "0": "10349",
                                    "1": "75",
                                    "2": "141.60",
                                    "3": "1.24"
                                },
                                {
                                    "0": "10369",
                                    "1": "75",
                                    "2": "2390.40",
                                    "3": "20.89"
                                },
                                {
                                    "0": "10385",
                                    "1": "75",
                                    "2": "691.20",
                                    "3": "6.04"
                                },
                                {
                                    "0": "10432",
                                    "1": "75",
                                    "2": "485.00",
                                    "3": "4.24"
                                },
                                {
                                    "0": "10756",
                                    "1": "75",
                                    "2": "1990.00",
                                    "3": "17.39"
                                },
                                {
                                    "0": "10821",
                                    "1": "75",
                                    "2": "678.00",
                                    "3": "5.93"
                                },
                                {
                                    "0": "10974",
                                    "1": "75",
                                    "2": "439.00",
                                    "3": "3.84"
                                },
                                {
                                    "0": "10252",
                                    "1": "76",
                                    "2": "3597.90",
                                    "3": "14.94"
                                },
                                {
                                    "0": "10302",
                                    "1": "76",
                                    "2": "2708.80",
                                    "3": "11.25"
                                },
                                {
                                    "0": "10458",
                                    "1": "76",
                                    "2": "3891.00",
                                    "3": "16.15"
                                },
                                {
                                    "0": "10463",
                                    "1": "76",
                                    "2": "713.30",
                                    "3": "2.96"
                                },
                                {
                                    "0": "10475",
                                    "1": "76",
                                    "2": "1505.18",
                                    "3": "6.25"
                                },
                                {
                                    "0": "10767",
                                    "1": "76",
                                    "2": "28.00",
                                    "3": "0.12"
                                },
                                {
                                    "0": "10841",
                                    "1": "76",
                                    "2": "4581.00",
                                    "3": "19.02"
                                },
                                {
                                    "0": "10846",
                                    "1": "76",
                                    "2": "1112.00",
                                    "3": "4.62"
                                },
                                {
                                    "0": "10885",
                                    "1": "76",
                                    "2": "1209.00",
                                    "3": "5.02"
                                },
                                {
                                    "0": "10930",
                                    "1": "76",
                                    "2": "2255.50",
                                    "3": "9.36"
                                },
                                {
                                    "0": "11035",
                                    "1": "76",
                                    "2": "1754.50",
                                    "3": "7.28"
                                },
                                {
                                    "0": "11038",
                                    "1": "76",
                                    "2": "732.60",
                                    "3": "3.04"
                                },
                                {
                                    "0": "10310",
                                    "1": "77",
                                    "2": "336.00",
                                    "3": "10.00"
                                },
                                {
                                    "0": "10708",
                                    "1": "77",
                                    "2": "180.40",
                                    "3": "5.37"
                                },
                                {
                                    "0": "10805",
                                    "1": "77",
                                    "2": "2775.00",
                                    "3": "82.56"
                                },
                                {
                                    "0": "10992",
                                    "1": "77",
                                    "2": "69.60",
                                    "3": "2.07"
                                },
                                {
                                    "0": "10624",
                                    "1": "78",
                                    "2": "1393.24",
                                    "3": "71.55"
                                },
                                {
                                    "0": "10775",
                                    "1": "78",
                                    "2": "228.00",
                                    "3": "11.71"
                                },
                                {
                                    "0": "11003",
                                    "1": "78",
                                    "2": "326.00",
                                    "3": "16.74"
                                },
                                {
                                    "0": "10249",
                                    "1": "79",
                                    "2": "1863.40",
                                    "3": "39.00"
                                },
                                {
                                    "0": "10438",
                                    "1": "79",
                                    "2": "454.00",
                                    "3": "9.50"
                                },
                                {
                                    "0": "10446",
                                    "1": "79",
                                    "2": "246.24",
                                    "3": "5.15"
                                },
                                {
                                    "0": "10548",
                                    "1": "79",
                                    "2": "240.10",
                                    "3": "5.02"
                                },
                                {
                                    "0": "10608",
                                    "1": "79",
                                    "2": "1064.00",
                                    "3": "22.27"
                                },
                                {
                                    "0": "10967",
                                    "1": "79",
                                    "2": "910.40",
                                    "3": "19.05"
                                },
                                {
                                    "0": "10276",
                                    "1": "80",
                                    "2": "420.00",
                                    "3": "3.88"
                                },
                                {
                                    "0": "10293",
                                    "1": "80",
                                    "2": "848.70",
                                    "3": "7.85"
                                },
                                {
                                    "0": "10304",
                                    "1": "80",
                                    "2": "954.40",
                                    "3": "8.83"
                                },
                                {
                                    "0": "10319",
                                    "1": "80",
                                    "2": "1191.20",
                                    "3": "11.02"
                                },
                                {
                                    "0": "10518",
                                    "1": "80",
                                    "2": "4150.05",
                                    "3": "38.38"
                                },
                                {
                                    "0": "10576",
                                    "1": "80",
                                    "2": "838.45",
                                    "3": "7.75"
                                },
                                {
                                    "0": "10676",
                                    "1": "80",
                                    "2": "534.85",
                                    "3": "4.95"
                                },
                                {
                                    "0": "10842",
                                    "1": "80",
                                    "2": "975.00",
                                    "3": "9.02"
                                },
                                {
                                    "0": "10915",
                                    "1": "80",
                                    "2": "539.50",
                                    "3": "4.99"
                                },
                                {
                                    "0": "11069",
                                    "1": "80",
                                    "2": "360.00",
                                    "3": "3.33"
                                },
                                {
                                    "0": "10292",
                                    "1": "81",
                                    "2": "1296.00",
                                    "3": "18.92"
                                },
                                {
                                    "0": "10496",
                                    "1": "81",
                                    "2": "190.00",
                                    "3": "2.77"
                                },
                                {
                                    "0": "10606",
                                    "1": "81",
                                    "2": "1130.40",
                                    "3": "16.50"
                                },
                                {
                                    "0": "10830",
                                    "1": "81",
                                    "2": "1974.00",
                                    "3": "28.81"
                                },
                                {
                                    "0": "10834",
                                    "1": "81",
                                    "2": "1432.71",
                                    "3": "20.91"
                                },
                                {
                                    "0": "10839",
                                    "1": "81",
                                    "2": "827.55",
                                    "3": "12.08"
                                },
                                {
                                    "0": "10574",
                                    "1": "82",
                                    "2": "764.30",
                                    "3": "48.64"
                                },
                                {
                                    "0": "10577",
                                    "1": "82",
                                    "2": "569.00",
                                    "3": "36.21"
                                },
                                {
                                    "0": "10822",
                                    "1": "82",
                                    "2": "237.90",
                                    "3": "15.14"
                                },
                                {
                                    "0": "10367",
                                    "1": "83",
                                    "2": "834.20",
                                    "3": "5.27"
                                },
                                {
                                    "0": "10399",
                                    "1": "83",
                                    "2": "1765.60",
                                    "3": "11.14"
                                },
                                {
                                    "0": "10465",
                                    "1": "83",
                                    "2": "2518.00",
                                    "3": "15.89"
                                },
                                {
                                    "0": "10591",
                                    "1": "83",
                                    "2": "812.50",
                                    "3": "5.13"
                                },
                                {
                                    "0": "10602",
                                    "1": "83",
                                    "2": "48.75",
                                    "3": "0.31"
                                },
                                {
                                    "0": "10688",
                                    "1": "83",
                                    "2": "3160.60",
                                    "3": "19.95"
                                },
                                {
                                    "0": "10744",
                                    "1": "83",
                                    "2": "736.00",
                                    "3": "4.65"
                                },
                                {
                                    "0": "10769",
                                    "1": "83",
                                    "2": "1684.28",
                                    "3": "10.63"
                                },
                                {
                                    "0": "10921",
                                    "1": "83",
                                    "2": "1936.00",
                                    "3": "12.22"
                                },
                                {
                                    "0": "10946",
                                    "1": "83",
                                    "2": "1407.50",
                                    "3": "8.88"
                                },
                                {
                                    "0": "10994",
                                    "1": "83",
                                    "2": "940.50",
                                    "3": "5.94"
                                },
                                {
                                    "0": "10251",
                                    "1": "84",
                                    "2": "654.06",
                                    "3": "7.12"
                                },
                                {
                                    "0": "10334",
                                    "1": "84",
                                    "2": "144.80",
                                    "3": "1.58"
                                },
                                {
                                    "0": "10450",
                                    "1": "84",
                                    "2": "425.12",
                                    "3": "4.63"
                                },
                                {
                                    "0": "10459",
                                    "1": "84",
                                    "2": "1659.20",
                                    "3": "18.07"
                                },
                                {
                                    "0": "10478",
                                    "1": "84",
                                    "2": "471.20",
                                    "3": "5.13"
                                },
                                {
                                    "0": "10546",
                                    "1": "84",
                                    "2": "2812.00",
                                    "3": "30.62"
                                },
                                {
                                    "0": "10806",
                                    "1": "84",
                                    "2": "439.60",
                                    "3": "4.79"
                                },
                                {
                                    "0": "10814",
                                    "1": "84",
                                    "2": "1788.45",
                                    "3": "19.48"
                                },
                                {
                                    "0": "10843",
                                    "1": "84",
                                    "2": "159.00",
                                    "3": "1.73"
                                },
                                {
                                    "0": "10850",
                                    "1": "84",
                                    "2": "629.00",
                                    "3": "6.85"
                                },
                                {
                                    "0": "10248",
                                    "1": "85",
                                    "2": "440.00",
                                    "3": "29.73"
                                },
                                {
                                    "0": "10274",
                                    "1": "85",
                                    "2": "538.60",
                                    "3": "36.39"
                                },
                                {
                                    "0": "10295",
                                    "1": "85",
                                    "2": "121.60",
                                    "3": "8.22"
                                },
                                {
                                    "0": "10737",
                                    "1": "85",
                                    "2": "139.80",
                                    "3": "9.45"
                                },
                                {
                                    "0": "10739",
                                    "1": "85",
                                    "2": "240.00",
                                    "3": "16.22"
                                },
                                {
                                    "0": "10301",
                                    "1": "86",
                                    "2": "755.00",
                                    "3": "7.87"
                                },
                                {
                                    "0": "10312",
                                    "1": "86",
                                    "2": "1614.80",
                                    "3": "16.84"
                                },
                                {
                                    "0": "10348",
                                    "1": "86",
                                    "2": "363.60",
                                    "3": "3.79"
                                },
                                {
                                    "0": "10356",
                                    "1": "86",
                                    "2": "1106.40",
                                    "3": "11.54"
                                },
                                {
                                    "0": "10513",
                                    "1": "86",
                                    "2": "1942.00",
                                    "3": "20.25"
                                },
                                {
                                    "0": "10632",
                                    "1": "86",
                                    "2": "589.00",
                                    "3": "6.14"
                                },
                                {
                                    "0": "10640",
                                    "1": "86",
                                    "2": "708.75",
                                    "3": "7.39"
                                },
                                {
                                    "0": "10651",
                                    "1": "86",
                                    "2": "397.80",
                                    "3": "4.15"
                                },
                                {
                                    "0": "10668",
                                    "1": "86",
                                    "2": "625.28",
                                    "3": "6.52"
                                },
                                {
                                    "0": "11046",
                                    "1": "86",
                                    "2": "1485.80",
                                    "3": "15.50"
                                },
                                {
                                    "0": "10266",
                                    "1": "87",
                                    "2": "346.56",
                                    "3": "2.21"
                                },
                                {
                                    "0": "10270",
                                    "1": "87",
                                    "2": "1376.00",
                                    "3": "8.79"
                                },
                                {
                                    "0": "10320",
                                    "1": "87",
                                    "2": "516.00",
                                    "3": "3.30"
                                },
                                {
                                    "0": "10333",
                                    "1": "87",
                                    "2": "877.20",
                                    "3": "5.61"
                                },
                                {
                                    "0": "10412",
                                    "1": "87",
                                    "2": "334.80",
                                    "3": "2.14"
                                },
                                {
                                    "0": "10416",
                                    "1": "87",
                                    "2": "720.00",
                                    "3": "4.60"
                                },
                                {
                                    "0": "10437",
                                    "1": "87",
                                    "2": "393.00",
                                    "3": "2.51"
                                },
                                {
                                    "0": "10455",
                                    "1": "87",
                                    "2": "2684.00",
                                    "3": "17.15"
                                },
                                {
                                    "0": "10526",
                                    "1": "87",
                                    "2": "1151.40",
                                    "3": "7.36"
                                },
                                {
                                    "0": "10553",
                                    "1": "87",
                                    "2": "1546.30",
                                    "3": "9.88"
                                },
                                {
                                    "0": "10583",
                                    "1": "87",
                                    "2": "2237.50",
                                    "3": "14.30"
                                },
                                {
                                    "0": "10636",
                                    "1": "87",
                                    "2": "629.50",
                                    "3": "4.02"
                                },
                                {
                                    "0": "10750",
                                    "1": "87",
                                    "2": "1590.56",
                                    "3": "10.16"
                                },
                                {
                                    "0": "10781",
                                    "1": "87",
                                    "2": "975.88",
                                    "3": "6.24"
                                },
                                {
                                    "0": "11025",
                                    "1": "87",
                                    "2": "270.00",
                                    "3": "1.73"
                                },
                                {
                                    "0": "10256",
                                    "1": "88",
                                    "2": "517.80",
                                    "3": "8.53"
                                },
                                {
                                    "0": "10420",
                                    "1": "88",
                                    "2": "1707.84",
                                    "3": "28.14"
                                },
                                {
                                    "0": "10585",
                                    "1": "88",
                                    "2": "142.50",
                                    "3": "2.35"
                                },
                                {
                                    "0": "10644",
                                    "1": "88",
                                    "2": "1371.80",
                                    "3": "22.61"
                                },
                                {
                                    "0": "10803",
                                    "1": "88",
                                    "2": "1193.01",
                                    "3": "19.66"
                                },
                                {
                                    "0": "10809",
                                    "1": "88",
                                    "2": "140.00",
                                    "3": "2.31"
                                },
                                {
                                    "0": "10900",
                                    "1": "88",
                                    "2": "33.75",
                                    "3": "0.56"
                                },
                                {
                                    "0": "10905",
                                    "1": "88",
                                    "2": "342.00",
                                    "3": "5.64"
                                },
                                {
                                    "0": "10935",
                                    "1": "88",
                                    "2": "619.50",
                                    "3": "10.21"
                                },
                                {
                                    "0": "10269",
                                    "1": "89",
                                    "2": "642.20",
                                    "3": "2.35"
                                },
                                {
                                    "0": "10344",
                                    "1": "89",
                                    "2": "2296.00",
                                    "3": "8.39"
                                },
                                {
                                    "0": "10469",
                                    "1": "89",
                                    "2": "956.68",
                                    "3": "3.50"
                                },
                                {
                                    "0": "10483",
                                    "1": "89",
                                    "2": "668.80",
                                    "3": "2.44"
                                },
                                {
                                    "0": "10504",
                                    "1": "89",
                                    "2": "1388.50",
                                    "3": "5.07"
                                },
                                {
                                    "0": "10596",
                                    "1": "89",
                                    "2": "1180.88",
                                    "3": "4.32"
                                },
                                {
                                    "0": "10693",
                                    "1": "89",
                                    "2": "2071.20",
                                    "3": "7.57"
                                },
                                {
                                    "0": "10696",
                                    "1": "89",
                                    "2": "996.00",
                                    "3": "3.64"
                                },
                                {
                                    "0": "10723",
                                    "1": "89",
                                    "2": "468.45",
                                    "3": "1.71"
                                },
                                {
                                    "0": "10740",
                                    "1": "89",
                                    "2": "1416.00",
                                    "3": "5.17"
                                },
                                {
                                    "0": "10861",
                                    "1": "89",
                                    "2": "3523.40",
                                    "3": "12.88"
                                },
                                {
                                    "0": "10904",
                                    "1": "89",
                                    "2": "1924.25",
                                    "3": "7.03"
                                },
                                {
                                    "0": "11032",
                                    "1": "89",
                                    "2": "8902.50",
                                    "3": "32.53"
                                },
                                {
                                    "0": "11066",
                                    "1": "89",
                                    "2": "928.75",
                                    "3": "3.39"
                                },
                                {
                                    "0": "10615",
                                    "1": "90",
                                    "2": "120.00",
                                    "3": "3.80"
                                },
                                {
                                    "0": "10673",
                                    "1": "90",
                                    "2": "412.35",
                                    "3": "13.04"
                                },
                                {
                                    "0": "10695",
                                    "1": "90",
                                    "2": "642.00",
                                    "3": "20.31"
                                },
                                {
                                    "0": "10873",
                                    "1": "90",
                                    "2": "336.80",
                                    "3": "10.65"
                                },
                                {
                                    "0": "10879",
                                    "1": "90",
                                    "2": "611.30",
                                    "3": "19.34"
                                },
                                {
                                    "0": "10910",
                                    "1": "90",
                                    "2": "452.90",
                                    "3": "14.33"
                                },
                                {
                                    "0": "11005",
                                    "1": "90",
                                    "2": "586.00",
                                    "3": "18.54"
                                },
                                {
                                    "0": "10374",
                                    "1": "91",
                                    "2": "459.00",
                                    "3": "13.00"
                                },
                                {
                                    "0": "10611",
                                    "1": "91",
                                    "2": "808.00",
                                    "3": "22.88"
                                },
                                {
                                    "0": "10792",
                                    "1": "91",
                                    "2": "399.85",
                                    "3": "11.32"
                                },
                                {
                                    "0": "10870",
                                    "1": "91",
                                    "2": "160.00",
                                    "3": "4.53"
                                },
                                {
                                    "0": "10906",
                                    "1": "91",
                                    "2": "427.50",
                                    "3": "12.10"
                                },
                                {
                                    "0": "10998",
                                    "1": "91",
                                    "2": "686.00",
                                    "3": "19.42"
                                },
                                {
                                    "0": "11044",
                                    "1": "91",
                                    "2": "591.60",
                                    "3": "16.75"
                                }
                            ],
                            "schema": {
                                "fields": [
                                    {
                                        "name": "orderId"
                                    },
                                    {
                                        "name": "custid"
                                    },
                                    {
                                        "name": "val"
                                    },
                                    {
                                        "name": "Ptc"
                                    }
                                ]
                            }
                        },
                        "text/html": "<table>\n<tr><th>orderId</th><th>custid</th><th>val</th><th>Ptc</th></tr>\n<tr><td>10643</td><td>1</td><td>814.50</td><td>19.06</td></tr>\n<tr><td>10692</td><td>1</td><td>878.00</td><td>20.55</td></tr>\n<tr><td>10702</td><td>1</td><td>330.00</td><td>7.72</td></tr>\n<tr><td>10835</td><td>1</td><td>845.80</td><td>19.79</td></tr>\n<tr><td>10952</td><td>1</td><td>471.20</td><td>11.03</td></tr>\n<tr><td>11011</td><td>1</td><td>933.50</td><td>21.85</td></tr>\n<tr><td>10308</td><td>2</td><td>88.80</td><td>6.33</td></tr>\n<tr><td>10625</td><td>2</td><td>479.75</td><td>34.20</td></tr>\n<tr><td>10759</td><td>2</td><td>320.00</td><td>22.81</td></tr>\n<tr><td>10926</td><td>2</td><td>514.40</td><td>36.67</td></tr>\n<tr><td>10365</td><td>3</td><td>403.20</td><td>5.74</td></tr>\n<tr><td>10507</td><td>3</td><td>749.06</td><td>10.66</td></tr>\n<tr><td>10535</td><td>3</td><td>1940.85</td><td>27.63</td></tr>\n<tr><td>10573</td><td>3</td><td>2082.00</td><td>29.64</td></tr>\n<tr><td>10677</td><td>3</td><td>813.37</td><td>11.58</td></tr>\n<tr><td>10682</td><td>3</td><td>375.50</td><td>5.35</td></tr>\n<tr><td>10856</td><td>3</td><td>660.00</td><td>9.40</td></tr>\n<tr><td>10355</td><td>4</td><td>480.00</td><td>3.58</td></tr>\n<tr><td>10383</td><td>4</td><td>899.00</td><td>6.71</td></tr>\n<tr><td>10453</td><td>4</td><td>407.70</td><td>3.04</td></tr>\n<tr><td>10558</td><td>4</td><td>2142.90</td><td>16.00</td></tr>\n<tr><td>10707</td><td>4</td><td>1641.00</td><td>12.25</td></tr>\n<tr><td>10741</td><td>4</td><td>228.00</td><td>1.70</td></tr>\n<tr><td>10743</td><td>4</td><td>319.20</td><td>2.38</td></tr>\n<tr><td>10768</td><td>4</td><td>1477.00</td><td>11.03</td></tr>\n<tr><td>10793</td><td>4</td><td>191.10</td><td>1.43</td></tr>\n<tr><td>10864</td><td>4</td><td>282.00</td><td>2.11</td></tr>\n<tr><td>10920</td><td>4</td><td>390.00</td><td>2.91</td></tr>\n<tr><td>10953</td><td>4</td><td>4441.25</td><td>33.17</td></tr>\n<tr><td>11016</td><td>4</td><td>491.50</td><td>3.67</td></tr>\n<tr><td>10278</td><td>5</td><td>1488.80</td><td>5.97</td></tr>\n<tr><td>10280</td><td>5</td><td>613.20</td><td>2.46</td></tr>\n<tr><td>10384</td><td>5</td><td>2222.40</td><td>8.92</td></tr>\n<tr><td>10444</td><td>5</td><td>1031.70</td><td>4.14</td></tr>\n<tr><td>10445</td><td>5</td><td>174.90</td><td>0.70</td></tr>\n<tr><td>10524</td><td>5</td><td>3192.65</td><td>12.81</td></tr>\n<tr><td>10572</td><td>5</td><td>1501.09</td><td>6.02</td></tr>\n<tr><td>10626</td><td>5</td><td>1503.60</td><td>6.03</td></tr>\n<tr><td>10654</td><td>5</td><td>601.83</td><td>2.41</td></tr>\n<tr><td>10672</td><td>5</td><td>3815.25</td><td>15.31</td></tr>\n<tr><td>10689</td><td>5</td><td>472.50</td><td>1.90</td></tr>\n<tr><td>10733</td><td>5</td><td>1459.00</td><td>5.85</td></tr>\n<tr><td>10778</td><td>5</td><td>96.50</td><td>0.39</td></tr>\n<tr><td>10837</td><td>5</td><td>1064.50</td><td>4.27</td></tr>\n<tr><td>10857</td><td>5</td><td>2048.21</td><td>8.22</td></tr>\n<tr><td>10866</td><td>5</td><td>1096.20</td><td>4.40</td></tr>\n<tr><td>10875</td><td>5</td><td>709.55</td><td>2.85</td></tr>\n<tr><td>10924</td><td>5</td><td>1835.70</td><td>7.36</td></tr>\n<tr><td>10501</td><td>6</td><td>149.00</td><td>4.60</td></tr>\n<tr><td>10509</td><td>6</td><td>136.80</td><td>4.22</td></tr>\n<tr><td>10582</td><td>6</td><td>330.00</td><td>10.19</td></tr>\n<tr><td>10614</td><td>6</td><td>464.00</td><td>14.32</td></tr>\n<tr><td>10853</td><td>6</td><td>625.00</td><td>19.29</td></tr>\n<tr><td>10956</td><td>6</td><td>677.00</td><td>20.90</td></tr>\n<tr><td>11058</td><td>6</td><td>858.00</td><td>26.48</td></tr>\n<tr><td>10265</td><td>7</td><td>1176.00</td><td>6.35</td></tr>\n<tr><td>10297</td><td>7</td><td>1420.00</td><td>7.66</td></tr>\n<tr><td>10360</td><td>7</td><td>7390.20</td><td>39.87</td></tr>\n<tr><td>10436</td><td>7</td><td>1994.52</td><td>10.76</td></tr>\n<tr><td>10449</td><td>7</td><td>1838.20</td><td>9.92</td></tr>\n<tr><td>10559</td><td>7</td><td>520.41</td><td>2.81</td></tr>\n<tr><td>10566</td><td>7</td><td>1761.00</td><td>9.50</td></tr>\n<tr><td>10584</td><td>7</td><td>593.75</td><td>3.20</td></tr>\n<tr><td>10628</td><td>7</td><td>450.00</td><td>2.43</td></tr>\n<tr><td>10679</td><td>7</td><td>660.00</td><td>3.56</td></tr>\n<tr><td>10826</td><td>7</td><td>730.00</td><td>3.94</td></tr>\n<tr><td>10326</td><td>8</td><td>982.00</td><td>23.20</td></tr>\n<tr><td>10801</td><td>8</td><td>3026.85</td><td>71.51</td></tr>\n<tr><td>10970</td><td>8</td><td>224.00</td><td>5.29</td></tr>\n<tr><td>10331</td><td>9</td><td>88.50</td><td>0.40</td></tr>\n<tr><td>10340</td><td>9</td><td>2436.18</td><td>11.09</td></tr>\n<tr><td>10362</td><td>9</td><td>1549.60</td><td>7.06</td></tr>\n<tr><td>10470</td><td>9</td><td>1820.80</td><td>8.29</td></tr>\n<tr><td>10511</td><td>9</td><td>2550.00</td><td>11.61</td></tr>\n<tr><td>10525</td><td>9</td><td>818.40</td><td>3.73</td></tr>\n<tr><td>10663</td><td>9</td><td>1930.40</td><td>8.79</td></tr>\n<tr><td>10715</td><td>9</td><td>1296.00</td><td>5.90</td></tr>\n<tr><td>10730</td><td>9</td><td>484.26</td><td>2.20</td></tr>\n<tr><td>10732</td><td>9</td><td>360.00</td><td>1.64</td></tr>\n<tr><td>10755</td><td>9</td><td>1948.50</td><td>8.87</td></tr>\n<tr><td>10827</td><td>9</td><td>843.00</td><td>3.84</td></tr>\n<tr><td>10871</td><td>9</td><td>1979.23</td><td>9.01</td></tr>\n<tr><td>10876</td><td>9</td><td>917.00</td><td>4.18</td></tr>\n<tr><td>10932</td><td>9</td><td>1788.63</td><td>8.14</td></tr>\n<tr><td>10940</td><td>9</td><td>360.00</td><td>1.64</td></tr>\n<tr><td>11076</td><td>9</td><td>792.75</td><td>3.61</td></tr>\n<tr><td>10389</td><td>10</td><td>1832.80</td><td>8.81</td></tr>\n<tr><td>10410</td><td>10</td><td>802.00</td><td>3.86</td></tr>\n<tr><td>10411</td><td>10</td><td>966.80</td><td>4.65</td></tr>\n<tr><td>10431</td><td>10</td><td>1892.25</td><td>9.10</td></tr>\n<tr><td>10492</td><td>10</td><td>851.20</td><td>4.09</td></tr>\n<tr><td>10742</td><td>10</td><td>3118.00</td><td>14.99</td></tr>\n<tr><td>10918</td><td>10</td><td>1447.50</td><td>6.96</td></tr>\n<tr><td>10944</td><td>10</td><td>1025.33</td><td>4.93</td></tr>\n<tr><td>10949</td><td>10</td><td>4422.00</td><td>21.26</td></tr>\n<tr><td>10975</td><td>10</td><td>717.50</td><td>3.45</td></tr>\n<tr><td>10982</td><td>10</td><td>1014.00</td><td>4.87</td></tr>\n<tr><td>11027</td><td>10</td><td>877.73</td><td>4.22</td></tr>\n<tr><td>11045</td><td>10</td><td>1309.50</td><td>6.30</td></tr>\n<tr><td>11048</td><td>10</td><td>525.00</td><td>2.52</td></tr>\n<tr><td>10289</td><td>11</td><td>479.40</td><td>7.87</td></tr>\n<tr><td>10471</td><td>11</td><td>1328.00</td><td>21.81</td></tr>\n<tr><td>10484</td><td>11</td><td>386.20</td><td>6.34</td></tr>\n<tr><td>10538</td><td>11</td><td>139.80</td><td>2.30</td></tr>\n<tr><td>10539</td><td>11</td><td>355.50</td><td>5.84</td></tr>\n<tr><td>10578</td><td>11</td><td>477.00</td><td>7.83</td></tr>\n<tr><td>10599</td><td>11</td><td>493.00</td><td>8.10</td></tr>\n<tr><td>10943</td><td>11</td><td>711.00</td><td>11.68</td></tr>\n<tr><td>10947</td><td>11</td><td>220.00</td><td>3.61</td></tr>\n<tr><td>11023</td><td>11</td><td>1500.00</td><td>24.63</td></tr>\n<tr><td>10521</td><td>12</td><td>225.50</td><td>12.43</td></tr>\n<tr><td>10782</td><td>12</td><td>12.50</td><td>0.69</td></tr>\n<tr><td>10819</td><td>12</td><td>477.00</td><td>26.28</td></tr>\n<tr><td>10881</td><td>12</td><td>150.00</td><td>8.27</td></tr>\n<tr><td>10937</td><td>12</td><td>644.80</td><td>35.53</td></tr>\n<tr><td>11054</td><td>12</td><td>305.00</td><td>16.81</td></tr>\n<tr><td>10259</td><td>13</td><td>100.80</td><td>100.00</td></tr>\n<tr><td>10254</td><td>14</td><td>556.62</td><td>4.51</td></tr>\n<tr><td>10370</td><td>14</td><td>1117.60</td><td>9.05</td></tr>\n<tr><td>10519</td><td>14</td><td>2314.20</td><td>18.74</td></tr>\n<tr><td>10731</td><td>14</td><td>1890.50</td><td>15.31</td></tr>\n<tr><td>10746</td><td>14</td><td>2311.70</td><td>18.72</td></tr>\n<tr><td>10966</td><td>14</td><td>1098.46</td><td>8.90</td></tr>\n<tr><td>11029</td><td>14</td><td>1286.80</td><td>10.42</td></tr>\n<tr><td>11041</td><td>14</td><td>1773.00</td><td>14.36</td></tr>\n<tr><td>10290</td><td>15</td><td>2169.00</td><td>56.92</td></tr>\n<tr><td>10466</td><td>15</td><td>216.00</td><td>5.67</td></tr>\n<tr><td>10494</td><td>15</td><td>912.00</td><td>23.93</td></tr>\n<tr><td>10969</td><td>15</td><td>108.00</td><td>2.83</td></tr>\n<tr><td>11042</td><td>15</td><td>405.75</td><td>10.65</td></tr>\n<tr><td>10435</td><td>16</td><td>631.60</td><td>36.74</td></tr>\n<tr><td>10462</td><td>16</td><td>156.00</td><td>9.07</td></tr>\n<tr><td>10848</td><td>16</td><td>931.50</td><td>54.19</td></tr>\n<tr><td>10363</td><td>17</td><td>447.20</td><td>11.88</td></tr>\n<tr><td>10391</td><td>17</td><td>86.40</td><td>2.30</td></tr>\n<tr><td>10797</td><td>17</td><td>420.00</td><td>11.16</td></tr>\n<tr><td>10825</td><td>17</td><td>1030.76</td><td>27.39</td></tr>\n<tr><td>11036</td><td>17</td><td>1692.00</td><td>44.96</td></tr>\n<tr><td>11067</td><td>17</td><td>86.85</td><td>2.31</td></tr>\n<tr><td>10311</td><td>18</td><td>268.80</td><td>16.63</td></tr>\n<tr><td>10609</td><td>18</td><td>424.00</td><td>26.24</td></tr>\n<tr><td>10683</td><td>18</td><td>63.00</td><td>3.90</td></tr>\n<tr><td>10890</td><td>18</td><td>860.10</td><td>53.23</td></tr>\n<tr><td>10364</td><td>19</td><td>950.00</td><td>6.44</td></tr>\n<tr><td>10400</td><td>19</td><td>3063.00</td><td>20.75</td></tr>\n<tr><td>10532</td><td>19</td><td>796.35</td><td>5.39</td></tr>\n<tr><td>10726</td><td>19</td><td>655.00</td><td>4.44</td></tr>\n<tr><td>10987</td><td>19</td><td>2772.00</td><td>18.78</td></tr>\n<tr><td>11024</td><td>19</td><td>1966.81</td><td>13.32</td></tr>\n<tr><td>11047</td><td>19</td><td>817.88</td><td>5.54</td></tr>\n<tr><td>11056</td><td>19</td><td>3740.00</td><td>25.34</td></tr>\n<tr><td>10258</td><td>20</td><td>1614.88</td><td>1.54</td></tr>\n<tr><td>10263</td><td>20</td><td>1873.80</td><td>1.79</td></tr>\n<tr><td>10351</td><td>20</td><td>5398.73</td><td>5.15</td></tr>\n<tr><td>10368</td><td>20</td><td>1689.78</td><td>1.61</td></tr>\n<tr><td>10382</td><td>20</td><td>2900.00</td><td>2.77</td></tr>\n<tr><td>10390</td><td>20</td><td>2090.88</td><td>1.99</td></tr>\n<tr><td>10402</td><td>20</td><td>2713.50</td><td>2.59</td></tr>\n<tr><td>10403</td><td>20</td><td>855.02</td><td>0.82</td></tr>\n<tr><td>10430</td><td>20</td><td>4899.20</td><td>4.67</td></tr>\n<tr><td>10442</td><td>20</td><td>1792.00</td><td>1.71</td></tr>\n<tr><td>10514</td><td>20</td><td>8623.45</td><td>8.22</td></tr>\n<tr><td>10571</td><td>20</td><td>550.59</td><td>0.52</td></tr>\n<tr><td>10595</td><td>20</td><td>4725.00</td><td>4.51</td></tr>\n<tr><td>10633</td><td>20</td><td>5510.59</td><td>5.25</td></tr>\n<tr><td>10667</td><td>20</td><td>1536.80</td><td>1.47</td></tr>\n<tr><td>10698</td><td>20</td><td>3436.44</td><td>3.28</td></tr>\n<tr><td>10764</td><td>20</td><td>2286.00</td><td>2.18</td></tr>\n<tr><td>10771</td><td>20</td><td>344.00</td><td>0.33</td></tr>\n<tr><td>10773</td><td>20</td><td>2030.40</td><td>1.94</td></tr>\n<tr><td>10776</td><td>20</td><td>6635.28</td><td>6.33</td></tr>\n<tr><td>10795</td><td>20</td><td>2158.00</td><td>2.06</td></tr>\n<tr><td>10836</td><td>20</td><td>4705.50</td><td>4.49</td></tr>\n<tr><td>10854</td><td>20</td><td>2966.50</td><td>2.83</td></tr>\n<tr><td>10895</td><td>20</td><td>6379.40</td><td>6.08</td></tr>\n<tr><td>10968</td><td>20</td><td>1408.00</td><td>1.34</td></tr>\n<tr><td>10979</td><td>20</td><td>4813.50</td><td>4.59</td></tr>\n<tr><td>10990</td><td>20</td><td>4288.85</td><td>4.09</td></tr>\n<tr><td>11008</td><td>20</td><td>4680.90</td><td>4.46</td></tr>\n<tr><td>11017</td><td>20</td><td>6750.00</td><td>6.44</td></tr>\n<tr><td>11072</td><td>20</td><td>5218.00</td><td>4.98</td></tr>\n<tr><td>10347</td><td>21</td><td>814.42</td><td>19.83</td></tr>\n<tr><td>10386</td><td>21</td><td>166.00</td><td>4.04</td></tr>\n<tr><td>10414</td><td>21</td><td>224.83</td><td>5.47</td></tr>\n<tr><td>10512</td><td>21</td><td>525.30</td><td>12.79</td></tr>\n<tr><td>10581</td><td>21</td><td>310.00</td><td>7.55</td></tr>\n<tr><td>10650</td><td>21</td><td>1779.20</td><td>43.32</td></tr>\n<tr><td>10725</td><td>21</td><td>287.80</td><td>7.01</td></tr>\n<tr><td>10408</td><td>23</td><td>1622.40</td><td>13.91</td></tr>\n<tr><td>10480</td><td>23</td><td>756.00</td><td>6.48</td></tr>\n<tr><td>10634</td><td>23</td><td>4985.50</td><td>42.73</td></tr>\n<tr><td>10763</td><td>23</td><td>616.00</td><td>5.28</td></tr>\n<tr><td>10789</td><td>23</td><td>3687.00</td><td>31.60</td></tr>\n<tr><td>10264</td><td>24</td><td>695.63</td><td>2.35</td></tr>\n<tr><td>10327</td><td>24</td><td>1810.00</td><td>6.12</td></tr>\n<tr><td>10378</td><td>24</td><td>103.20</td><td>0.35</td></tr>\n<tr><td>10434</td><td>24</td><td>321.12</td><td>1.09</td></tr>\n<tr><td>10460</td><td>24</td><td>176.10</td><td>0.60</td></tr>\n<tr><td>10533</td><td>24</td><td>2222.20</td><td>7.52</td></tr>\n<tr><td>10561</td><td>24</td><td>2844.50</td><td>9.62</td></tr>\n<tr><td>10703</td><td>24</td><td>2545.00</td><td>8.61</td></tr>\n<tr><td>10762</td><td>24</td><td>4337.00</td><td>14.67</td></tr>\n<tr><td>10774</td><td>24</td><td>868.75</td><td>2.94</td></tr>\n<tr><td>10824</td><td>24</td><td>250.80</td><td>0.85</td></tr>\n<tr><td>10880</td><td>24</td><td>1500.00</td><td>5.07</td></tr>\n<tr><td>10902</td><td>24</td><td>863.43</td><td>2.92</td></tr>\n<tr><td>10955</td><td>24</td><td>74.40</td><td>0.25</td></tr>\n<tr><td>10977</td><td>24</td><td>2233.00</td><td>7.55</td></tr>\n<tr><td>10980</td><td>24</td><td>248.00</td><td>0.84</td></tr>\n<tr><td>10993</td><td>24</td><td>4895.44</td><td>16.56</td></tr>\n<tr><td>11001</td><td>24</td><td>2769.00</td><td>9.36</td></tr>\n<tr><td>11050</td><td>24</td><td>810.00</td><td>2.74</td></tr>\n<tr><td>10267</td><td>25</td><td>3536.60</td><td>13.27</td></tr>\n<tr><td>10337</td><td>25</td><td>2467.00</td><td>9.25</td></tr>\n<tr><td>10342</td><td>25</td><td>1840.64</td><td>6.91</td></tr>\n<tr><td>10396</td><td>25</td><td>1903.80</td><td>7.14</td></tr>\n<tr><td>10488</td><td>25</td><td>1512.00</td><td>5.67</td></tr>\n<tr><td>10560</td><td>25</td><td>1072.43</td><td>4.02</td></tr>\n<tr><td>10623</td><td>25</td><td>1336.95</td><td>5.02</td></tr>\n<tr><td>10653</td><td>25</td><td>1083.15</td><td>4.06</td></tr>\n<tr><td>10670</td><td>25</td><td>2301.75</td><td>8.63</td></tr>\n<tr><td>10675</td><td>25</td><td>1423.00</td><td>5.34</td></tr>\n<tr><td>10717</td><td>25</td><td>1270.75</td><td>4.77</td></tr>\n<tr><td>10791</td><td>25</td><td>1829.76</td><td>6.86</td></tr>\n<tr><td>10859</td><td>25</td><td>1078.69</td><td>4.05</td></tr>\n<tr><td>10929</td><td>25</td><td>1174.75</td><td>4.41</td></tr>\n<tr><td>11012</td><td>25</td><td>2825.30</td><td>10.60</td></tr>\n<tr><td>10671</td><td>26</td><td>920.10</td><td>29.01</td></tr>\n<tr><td>10860</td><td>26</td><td>519.00</td><td>16.36</td></tr>\n<tr><td>10971</td><td>26</td><td>1733.06</td><td>54.63</td></tr>\n<tr><td>10422</td><td>27</td><td>49.80</td><td>3.22</td></tr>\n<tr><td>10710</td><td>27</td><td>93.50</td><td>6.05</td></tr>\n<tr><td>10753</td><td>27</td><td>88.00</td><td>5.69</td></tr>\n<tr><td>10807</td><td>27</td><td>18.40</td><td>1.19</td></tr>\n<tr><td>11026</td><td>27</td><td>1030.00</td><td>66.64</td></tr>\n<tr><td>11060</td><td>27</td><td>266.00</td><td>17.21</td></tr>\n<tr><td>10328</td><td>28</td><td>1168.00</td><td>18.17</td></tr>\n<tr><td>10352</td><td>28</td><td>136.30</td><td>2.12</td></tr>\n<tr><td>10464</td><td>28</td><td>1609.28</td><td>25.04</td></tr>\n<tr><td>10491</td><td>28</td><td>259.51</td><td>4.04</td></tr>\n<tr><td>10551</td><td>28</td><td>1677.30</td><td>26.10</td></tr>\n<tr><td>10604</td><td>28</td><td>230.85</td><td>3.59</td></tr>\n<tr><td>10664</td><td>28</td><td>1288.39</td><td>20.05</td></tr>\n<tr><td>10963</td><td>28</td><td>57.80</td><td>0.90</td></tr>\n<tr><td>10366</td><td>29</td><td>136.00</td><td>16.25</td></tr>\n<tr><td>10426</td><td>29</td><td>338.20</td><td>40.42</td></tr>\n<tr><td>10568</td><td>29</td><td>155.00</td><td>18.53</td></tr>\n<tr><td>10887</td><td>29</td><td>70.00</td><td>8.37</td></tr>\n<tr><td>10928</td><td>29</td><td>137.50</td><td>16.43</td></tr>\n<tr><td>10303</td><td>30</td><td>1117.80</td><td>9.77</td></tr>\n<tr><td>10550</td><td>30</td><td>683.30</td><td>5.97</td></tr>\n<tr><td>10629</td><td>30</td><td>2775.05</td><td>24.24</td></tr>\n<tr><td>10872</td><td>30</td><td>2058.46</td><td>17.98</td></tr>\n<tr><td>10874</td><td>30</td><td>310.00</td><td>2.71</td></tr>\n<tr><td>10888</td><td>30</td><td>605.00</td><td>5.29</td></tr>\n<tr><td>10911</td><td>30</td><td>858.00</td><td>7.50</td></tr>\n<tr><td>10948</td><td>30</td><td>2362.25</td><td>20.64</td></tr>\n<tr><td>11009</td><td>30</td><td>616.50</td><td>5.39</td></tr>\n<tr><td>11037</td><td>30</td><td>60.00</td><td>0.52</td></tr>\n<tr><td>10423</td><td>31</td><td>1020.00</td><td>12.12</td></tr>\n<tr><td>10652</td><td>31</td><td>318.84</td><td>3.79</td></tr>\n<tr><td>10685</td><td>31</td><td>801.10</td><td>9.52</td></tr>\n<tr><td>10709</td><td>31</td><td>3424.00</td><td>40.69</td></tr>\n<tr><td>10734</td><td>31</td><td>1498.35</td><td>17.81</td></tr>\n<tr><td>10777</td><td>31</td><td>224.00</td><td>2.66</td></tr>\n<tr><td>10790</td><td>31</td><td>722.50</td><td>8.59</td></tr>\n<tr><td>10959</td><td>31</td><td>131.75</td><td>1.57</td></tr>\n<tr><td>11049</td><td>31</td><td>273.60</td><td>3.25</td></tr>\n<tr><td>10528</td><td>32</td><td>392.20</td><td>2.12</td></tr>\n<tr><td>10589</td><td>32</td><td>72.00</td><td>0.39</td></tr>\n<tr><td>10616</td><td>32</td><td>4807.00</td><td>25.97</td></tr>\n<tr><td>10617</td><td>32</td><td>1402.50</td><td>7.58</td></tr>\n<tr><td>10656</td><td>32</td><td>604.22</td><td>3.26</td></tr>\n<tr><td>10681</td><td>32</td><td>1287.40</td><td>6.96</td></tr>\n<tr><td>10816</td><td>32</td><td>8446.45</td><td>45.64</td></tr>\n<tr><td>10936</td><td>32</td><td>456.00</td><td>2.46</td></tr>\n<tr><td>11006</td><td>32</td><td>329.69</td><td>1.78</td></tr>\n<tr><td>11040</td><td>32</td><td>200.00</td><td>1.08</td></tr>\n<tr><td>11061</td><td>32</td><td>510.00</td><td>2.76</td></tr>\n<tr><td>10268</td><td>33</td><td>1101.20</td><td>73.97</td></tr>\n<tr><td>10785</td><td>33</td><td>387.50</td><td>26.03</td></tr>\n<tr><td>10250</td><td>34</td><td>1552.60</td><td>4.73</td></tr>\n<tr><td>10253</td><td>34</td><td>1444.80</td><td>4.40</td></tr>\n<tr><td>10541</td><td>34</td><td>1946.52</td><td>5.93</td></tr>\n<tr><td>10645</td><td>34</td><td>1535.00</td><td>4.67</td></tr>\n<tr><td>10690</td><td>34</td><td>862.50</td><td>2.63</td></tr>\n<tr><td>10770</td><td>34</td><td>236.25</td><td>0.72</td></tr>\n<tr><td>10783</td><td>34</td><td>1442.50</td><td>4.39</td></tr>\n<tr><td>10886</td><td>34</td><td>3127.50</td><td>9.52</td></tr>\n<tr><td>10903</td><td>34</td><td>932.05</td><td>2.84</td></tr>\n<tr><td>10922</td><td>34</td><td>742.50</td><td>2.26</td></tr>\n<tr><td>10925</td><td>34</td><td>475.15</td><td>1.45</td></tr>\n<tr><td>10981</td><td>34</td><td>15810.00</td><td>48.14</td></tr>\n<tr><td>11022</td><td>34</td><td>1402.00</td><td>4.27</td></tr>\n<tr><td>11052</td><td>34</td><td>1332.00</td><td>4.06</td></tr>\n<tr><td>10257</td><td>35</td><td>1119.90</td><td>4.92</td></tr>\n<tr><td>10395</td><td>35</td><td>2122.92</td><td>9.32</td></tr>\n<tr><td>10476</td><td>35</td><td>180.48</td><td>0.79</td></tr>\n<tr><td>10486</td><td>35</td><td>1272.00</td><td>5.59</td></tr>\n<tr><td>10490</td><td>35</td><td>3163.20</td><td>13.89</td></tr>\n<tr><td>10498</td><td>35</td><td>575.00</td><td>2.53</td></tr>\n<tr><td>10552</td><td>35</td><td>880.50</td><td>3.87</td></tr>\n<tr><td>10601</td><td>35</td><td>2285.00</td><td>10.04</td></tr>\n<tr><td>10613</td><td>35</td><td>353.20</td><td>1.55</td></tr>\n<tr><td>10641</td><td>35</td><td>2054.00</td><td>9.02</td></tr>\n<tr><td>10705</td><td>35</td><td>378.00</td><td>1.66</td></tr>\n<tr><td>10796</td><td>35</td><td>2341.36</td><td>10.28</td></tr>\n<tr><td>10863</td><td>35</td><td>441.15</td><td>1.94</td></tr>\n<tr><td>10901</td><td>35</td><td>934.50</td><td>4.10</td></tr>\n<tr><td>10957</td><td>35</td><td>1762.70</td><td>7.74</td></tr>\n<tr><td>10960</td><td>35</td><td>265.35</td><td>1.17</td></tr>\n<tr><td>10976</td><td>35</td><td>912.00</td><td>4.01</td></tr>\n<tr><td>11055</td><td>35</td><td>1727.50</td><td>7.59</td></tr>\n<tr><td>10375</td><td>36</td><td>338.00</td><td>11.03</td></tr>\n<tr><td>10394</td><td>36</td><td>442.00</td><td>14.43</td></tr>\n<tr><td>10415</td><td>36</td><td>102.40</td><td>3.34</td></tr>\n<tr><td>10600</td><td>36</td><td>479.80</td><td>15.66</td></tr>\n<tr><td>10660</td><td>36</td><td>1701.00</td><td>55.53</td></tr>\n<tr><td>10298</td><td>37</td><td>2645.00</td><td>5.29</td></tr>\n<tr><td>10309</td><td>37</td><td>1762.00</td><td>3.53</td></tr>\n<tr><td>10335</td><td>37</td><td>2036.16</td><td>4.07</td></tr>\n<tr><td>10373</td><td>37</td><td>1366.40</td><td>2.73</td></tr>\n<tr><td>10380</td><td>37</td><td>1313.82</td><td>2.63</td></tr>\n<tr><td>10429</td><td>37</td><td>1441.38</td><td>2.88</td></tr>\n<tr><td>10503</td><td>37</td><td>2048.50</td><td>4.10</td></tr>\n<tr><td>10516</td><td>37</td><td>2381.05</td><td>4.76</td></tr>\n<tr><td>10567</td><td>37</td><td>2519.00</td><td>5.04</td></tr>\n<tr><td>10646</td><td>37</td><td>1446.00</td><td>2.89</td></tr>\n<tr><td>10661</td><td>37</td><td>562.60</td><td>1.13</td></tr>\n<tr><td>10687</td><td>37</td><td>4960.90</td><td>9.93</td></tr>\n<tr><td>10701</td><td>37</td><td>2864.50</td><td>5.73</td></tr>\n<tr><td>10712</td><td>37</td><td>1233.48</td><td>2.47</td></tr>\n<tr><td>10736</td><td>37</td><td>997.00</td><td>1.99</td></tr>\n<tr><td>10897</td><td>37</td><td>10835.24</td><td>21.68</td></tr>\n<tr><td>10912</td><td>37</td><td>6200.55</td><td>12.41</td></tr>\n<tr><td>10985</td><td>37</td><td>2023.38</td><td>4.05</td></tr>\n<tr><td>11063</td><td>37</td><td>1342.95</td><td>2.69</td></tr>\n<tr><td>10315</td><td>38</td><td>516.80</td><td>8.41</td></tr>\n<tr><td>10318</td><td>38</td><td>240.40</td><td>3.91</td></tr>\n<tr><td>10321</td><td>38</td><td>144.00</td><td>2.34</td></tr>\n<tr><td>10473</td><td>38</td><td>230.40</td><td>3.75</td></tr>\n<tr><td>10621</td><td>38</td><td>758.50</td><td>12.34</td></tr>\n<tr><td>10674</td><td>38</td><td>45.00</td><td>0.73</td></tr>\n<tr><td>10749</td><td>38</td><td>1080.00</td><td>17.57</td></tr>\n<tr><td>10798</td><td>38</td><td>446.60</td><td>7.27</td></tr>\n<tr><td>10829</td><td>38</td><td>1764.00</td><td>28.70</td></tr>\n<tr><td>10933</td><td>38</td><td>920.60</td><td>14.98</td></tr>\n<tr><td>10323</td><td>39</td><td>164.40</td><td>0.53</td></tr>\n<tr><td>10325</td><td>39</td><td>1497.00</td><td>4.84</td></tr>\n<tr><td>10456</td><td>39</td><td>557.60</td><td>1.80</td></tr>\n<tr><td>10457</td><td>39</td><td>1584.00</td><td>5.12</td></tr>\n<tr><td>10468</td><td>39</td><td>717.60</td><td>2.32</td></tr>\n<tr><td>10506</td><td>39</td><td>415.80</td><td>1.35</td></tr>\n<tr><td>10542</td><td>39</td><td>469.11</td><td>1.52</td></tr>\n<tr><td>10630</td><td>39</td><td>903.60</td><td>2.92</td></tr>\n<tr><td>10718</td><td>39</td><td>3463.00</td><td>11.20</td></tr>\n<tr><td>10799</td><td>39</td><td>1553.50</td><td>5.03</td></tr>\n<tr><td>10817</td><td>39</td><td>10952.85</td><td>35.44</td></tr>\n<tr><td>10849</td><td>39</td><td>967.82</td><td>3.13</td></tr>\n<tr><td>10893</td><td>39</td><td>5502.11</td><td>17.80</td></tr>\n<tr><td>11028</td><td>39</td><td>2160.00</td><td>6.99</td></tr>\n<tr><td>10858</td><td>40</td><td>649.00</td><td>32.58</td></tr>\n<tr><td>10927</td><td>40</td><td>800.00</td><td>40.16</td></tr>\n<tr><td>10972</td><td>40</td><td>251.50</td><td>12.63</td></tr>\n<tr><td>10973</td><td>40</td><td>291.55</td><td>14.64</td></tr>\n<tr><td>10350</td><td>41</td><td>642.06</td><td>6.88</td></tr>\n<tr><td>10358</td><td>41</td><td>429.40</td><td>4.60</td></tr>\n<tr><td>10371</td><td>41</td><td>72.96</td><td>0.78</td></tr>\n<tr><td>10413</td><td>41</td><td>2123.20</td><td>22.76</td></tr>\n<tr><td>10425</td><td>41</td><td>360.00</td><td>3.86</td></tr>\n<tr><td>10454</td><td>41</td><td>331.20</td><td>3.55</td></tr>\n<tr><td>10493</td><td>41</td><td>608.40</td><td>6.52</td></tr>\n<tr><td>10500</td><td>41</td><td>523.26</td><td>5.61</td></tr>\n<tr><td>10610</td><td>41</td><td>299.25</td><td>3.21</td></tr>\n<tr><td>10631</td><td>41</td><td>55.80</td><td>0.60</td></tr>\n<tr><td>10787</td><td>41</td><td>2622.76</td><td>28.12</td></tr>\n<tr><td>10832</td><td>41</td><td>475.11</td><td>5.09</td></tr>\n<tr><td>10923</td><td>41</td><td>748.80</td><td>8.03</td></tr>\n<tr><td>11051</td><td>41</td><td>36.00</td><td>0.39</td></tr>\n<tr><td>10495</td><td>42</td><td>278.00</td><td>53.21</td></tr>\n<tr><td>10620</td><td>42</td><td>57.50</td><td>11.00</td></tr>\n<tr><td>10810</td><td>42</td><td>187.00</td><td>35.79</td></tr>\n<tr><td>10482</td><td>43</td><td>147.00</td><td>41.18</td></tr>\n<tr><td>10545</td><td>43</td><td>210.00</td><td>58.82</td></tr>\n<tr><td>10279</td><td>44</td><td>351.00</td><td>1.82</td></tr>\n<tr><td>10284</td><td>44</td><td>1170.38</td><td>6.08</td></tr>\n<tr><td>10343</td><td>44</td><td>1584.00</td><td>8.22</td></tr>\n<tr><td>10497</td><td>44</td><td>1380.60</td><td>7.17</td></tr>\n<tr><td>10522</td><td>44</td><td>2318.24</td><td>12.04</td></tr>\n<tr><td>10534</td><td>44</td><td>465.70</td><td>2.42</td></tr>\n<tr><td>10536</td><td>44</td><td>1645.00</td><td>8.54</td></tr>\n<tr><td>10557</td><td>44</td><td>1152.50</td><td>5.98</td></tr>\n<tr><td>10592</td><td>44</td><td>516.47</td><td>2.68</td></tr>\n<tr><td>10593</td><td>44</td><td>1994.40</td><td>10.35</td></tr>\n<tr><td>10772</td><td>44</td><td>3603.22</td><td>18.71</td></tr>\n<tr><td>10862</td><td>44</td><td>581.00</td><td>3.02</td></tr>\n<tr><td>10891</td><td>44</td><td>368.93</td><td>1.92</td></tr>\n<tr><td>10934</td><td>44</td><td>500.00</td><td>2.60</td></tr>\n<tr><td>11070</td><td>44</td><td>1629.98</td><td>8.46</td></tr>\n<tr><td>10579</td><td>45</td><td>317.75</td><td>10.33</td></tr>\n<tr><td>10719</td><td>45</td><td>844.25</td><td>27.44</td></tr>\n<tr><td>10735</td><td>45</td><td>536.40</td><td>17.44</td></tr>\n<tr><td>10884</td><td>45</td><td>1378.07</td><td>44.79</td></tr>\n<tr><td>10283</td><td>46</td><td>1414.80</td><td>8.80</td></tr>\n<tr><td>10296</td><td>46</td><td>1050.60</td><td>6.53</td></tr>\n<tr><td>10330</td><td>46</td><td>1649.00</td><td>10.26</td></tr>\n<tr><td>10357</td><td>46</td><td>1167.68</td><td>7.26</td></tr>\n<tr><td>10381</td><td>46</td><td>112.00</td><td>0.70</td></tr>\n<tr><td>10461</td><td>46</td><td>1538.70</td><td>9.57</td></tr>\n<tr><td>10499</td><td>46</td><td>1412.00</td><td>8.78</td></tr>\n<tr><td>10543</td><td>46</td><td>1504.50</td><td>9.36</td></tr>\n<tr><td>10780</td><td>46</td><td>720.00</td><td>4.48</td></tr>\n<tr><td>10823</td><td>46</td><td>2826.00</td><td>17.58</td></tr>\n<tr><td>10899</td><td>46</td><td>122.40</td><td>0.76</td></tr>\n<tr><td>10997</td><td>46</td><td>1885.00</td><td>11.73</td></tr>\n<tr><td>11065</td><td>46</td><td>189.42</td><td>1.18</td></tr>\n<tr><td>11071</td><td>46</td><td>484.50</td><td>3.01</td></tr>\n<tr><td>10405</td><td>47</td><td>400.00</td><td>2.43</td></tr>\n<tr><td>10485</td><td>47</td><td>1584.00</td><td>9.61</td></tr>\n<tr><td>10638</td><td>47</td><td>2720.05</td><td>16.51</td></tr>\n<tr><td>10697</td><td>47</td><td>805.43</td><td>4.89</td></tr>\n<tr><td>10729</td><td>47</td><td>1850.00</td><td>11.23</td></tr>\n<tr><td>10811</td><td>47</td><td>852.00</td><td>5.17</td></tr>\n<tr><td>10838</td><td>47</td><td>1938.38</td><td>11.76</td></tr>\n<tr><td>10840</td><td>47</td><td>211.20</td><td>1.28</td></tr>\n<tr><td>10919</td><td>47</td><td>1122.80</td><td>6.81</td></tr>\n<tr><td>10954</td><td>47</td><td>1659.54</td><td>10.07</td></tr>\n<tr><td>11014</td><td>47</td><td>243.18</td><td>1.48</td></tr>\n<tr><td>11039</td><td>47</td><td>3090.00</td><td>18.75</td></tr>\n<tr><td>10307</td><td>48</td><td>424.00</td><td>9.96</td></tr>\n<tr><td>10317</td><td>48</td><td>288.00</td><td>6.76</td></tr>\n<tr><td>10544</td><td>48</td><td>417.20</td><td>9.80</td></tr>\n<tr><td>10662</td><td>48</td><td>125.00</td><td>2.94</td></tr>\n<tr><td>10665</td><td>48</td><td>1295.00</td><td>30.41</td></tr>\n<tr><td>10867</td><td>48</td><td>98.40</td><td>2.31</td></tr>\n<tr><td>10883</td><td>48</td><td>36.00</td><td>0.85</td></tr>\n<tr><td>11018</td><td>48</td><td>1575.00</td><td>36.98</td></tr>\n<tr><td>10275</td><td>49</td><td>291.84</td><td>4.07</td></tr>\n<tr><td>10300</td><td>49</td><td>608.00</td><td>8.47</td></tr>\n<tr><td>10404</td><td>49</td><td>1591.25</td><td>22.17</td></tr>\n<tr><td>10467</td><td>49</td><td>235.20</td><td>3.28</td></tr>\n<tr><td>10635</td><td>49</td><td>1326.23</td><td>18.48</td></tr>\n<tr><td>10754</td><td>49</td><td>55.20</td><td>0.77</td></tr>\n<tr><td>10784</td><td>49</td><td>1488.00</td><td>20.74</td></tr>\n<tr><td>10818</td><td>49</td><td>833.00</td><td>11.61</td></tr>\n<tr><td>10939</td><td>49</td><td>637.50</td><td>8.88</td></tr>\n<tr><td>10950</td><td>49</td><td>110.00</td><td>1.53</td></tr>\n<tr><td>10529</td><td>50</td><td>946.00</td><td>9.72</td></tr>\n<tr><td>10649</td><td>50</td><td>1434.00</td><td>14.73</td></tr>\n<tr><td>10760</td><td>50</td><td>2917.00</td><td>29.96</td></tr>\n<tr><td>10892</td><td>50</td><td>2090.00</td><td>21.47</td></tr>\n<tr><td>10896</td><td>50</td><td>750.50</td><td>7.71</td></tr>\n<tr><td>10978</td><td>50</td><td>1303.20</td><td>13.39</td></tr>\n<tr><td>11004</td><td>50</td><td>295.38</td><td>3.03</td></tr>\n<tr><td>10332</td><td>51</td><td>1786.88</td><td>6.19</td></tr>\n<tr><td>10339</td><td>51</td><td>3354.00</td><td>11.62</td></tr>\n<tr><td>10376</td><td>51</td><td>399.00</td><td>1.38</td></tr>\n<tr><td>10424</td><td>51</td><td>9194.56</td><td>31.85</td></tr>\n<tr><td>10439</td><td>51</td><td>1078.00</td><td>3.73</td></tr>\n<tr><td>10505</td><td>51</td><td>147.90</td><td>0.51</td></tr>\n<tr><td>10565</td><td>51</td><td>639.90</td><td>2.22</td></tr>\n<tr><td>10570</td><td>51</td><td>2465.25</td><td>8.54</td></tr>\n<tr><td>10590</td><td>51</td><td>1101.00</td><td>3.81</td></tr>\n<tr><td>10605</td><td>51</td><td>4109.70</td><td>14.23</td></tr>\n<tr><td>10618</td><td>51</td><td>2697.50</td><td>9.34</td></tr>\n<tr><td>10619</td><td>51</td><td>1260.00</td><td>4.36</td></tr>\n<tr><td>10724</td><td>51</td><td>638.50</td><td>2.21</td></tr>\n<tr><td>10277</td><td>52</td><td>1200.80</td><td>23.82</td></tr>\n<tr><td>10575</td><td>52</td><td>2147.40</td><td>42.59</td></tr>\n<tr><td>10699</td><td>52</td><td>114.00</td><td>2.26</td></tr>\n<tr><td>10779</td><td>52</td><td>1335.00</td><td>26.48</td></tr>\n<tr><td>10945</td><td>52</td><td>245.00</td><td>4.86</td></tr>\n<tr><td>10517</td><td>53</td><td>352.00</td><td>54.24</td></tr>\n<tr><td>10752</td><td>53</td><td>252.00</td><td>38.83</td></tr>\n<tr><td>11057</td><td>53</td><td>45.00</td><td>6.93</td></tr>\n<tr><td>10409</td><td>54</td><td>319.20</td><td>9.22</td></tr>\n<tr><td>10531</td><td>54</td><td>110.00</td><td>3.18</td></tr>\n<tr><td>10898</td><td>54</td><td>30.00</td><td>0.87</td></tr>\n<tr><td>10958</td><td>54</td><td>781.00</td><td>22.57</td></tr>\n<tr><td>10986</td><td>54</td><td>2220.00</td><td>64.16</td></tr>\n<tr><td>10305</td><td>55</td><td>3741.30</td><td>24.65</td></tr>\n<tr><td>10338</td><td>55</td><td>934.50</td><td>6.16</td></tr>\n<tr><td>10441</td><td>55</td><td>1755.00</td><td>11.56</td></tr>\n<tr><td>10594</td><td>55</td><td>565.50</td><td>3.73</td></tr>\n<tr><td>10680</td><td>55</td><td>1261.88</td><td>8.31</td></tr>\n<tr><td>10706</td><td>55</td><td>1893.00</td><td>12.47</td></tr>\n<tr><td>10808</td><td>55</td><td>1411.00</td><td>9.30</td></tr>\n<tr><td>10855</td><td>55</td><td>2227.89</td><td>14.68</td></tr>\n<tr><td>10965</td><td>55</td><td>848.00</td><td>5.59</td></tr>\n<tr><td>11034</td><td>55</td><td>539.40</td><td>3.55</td></tr>\n<tr><td>10260</td><td>56</td><td>1504.65</td><td>12.04</td></tr>\n<tr><td>10407</td><td>56</td><td>1194.00</td><td>9.55</td></tr>\n<tr><td>10508</td><td>56</td><td>240.00</td><td>1.92</td></tr>\n<tr><td>10554</td><td>56</td><td>1728.53</td><td>13.83</td></tr>\n<tr><td>10580</td><td>56</td><td>1013.75</td><td>8.11</td></tr>\n<tr><td>10684</td><td>56</td><td>1768.00</td><td>14.15</td></tr>\n<tr><td>10766</td><td>56</td><td>2310.00</td><td>18.49</td></tr>\n<tr><td>10833</td><td>56</td><td>906.93</td><td>7.26</td></tr>\n<tr><td>10999</td><td>56</td><td>1197.95</td><td>9.59</td></tr>\n<tr><td>11020</td><td>56</td><td>632.40</td><td>5.06</td></tr>\n<tr><td>10322</td><td>58</td><td>112.00</td><td>2.64</td></tr>\n<tr><td>10354</td><td>58</td><td>568.80</td><td>13.41</td></tr>\n<tr><td>10474</td><td>58</td><td>1249.10</td><td>29.44</td></tr>\n<tr><td>10502</td><td>58</td><td>816.30</td><td>19.24</td></tr>\n<tr><td>10995</td><td>58</td><td>1196.00</td><td>28.19</td></tr>\n<tr><td>11073</td><td>58</td><td>300.00</td><td>7.07</td></tr>\n<tr><td>10353</td><td>59</td><td>8593.28</td><td>37.15</td></tr>\n<tr><td>10392</td><td>59</td><td>1440.00</td><td>6.23</td></tr>\n<tr><td>10427</td><td>59</td><td>651.00</td><td>2.81</td></tr>\n<tr><td>10489</td><td>59</td><td>439.20</td><td>1.90</td></tr>\n<tr><td>10530</td><td>59</td><td>4180.00</td><td>18.07</td></tr>\n<tr><td>10597</td><td>59</td><td>718.08</td><td>3.10</td></tr>\n<tr><td>10686</td><td>59</td><td>1404.45</td><td>6.07</td></tr>\n<tr><td>10747</td><td>59</td><td>1912.85</td><td>8.27</td></tr>\n<tr><td>10844</td><td>59</td><td>735.00</td><td>3.18</td></tr>\n<tr><td>11053</td><td>59</td><td>3055.00</td><td>13.21</td></tr>\n<tr><td>10336</td><td>60</td><td>285.12</td><td>5.65</td></tr>\n<tr><td>10397</td><td>60</td><td>716.72</td><td>14.21</td></tr>\n<tr><td>10433</td><td>60</td><td>851.20</td><td>16.87</td></tr>\n<tr><td>10477</td><td>60</td><td>558.00</td><td>11.06</td></tr>\n<tr><td>11007</td><td>60</td><td>2633.90</td><td>52.21</td></tr>\n<tr><td>10261</td><td>61</td><td>448.00</td><td>6.72</td></tr>\n<tr><td>10291</td><td>61</td><td>497.52</td><td>7.46</td></tr>\n<tr><td>10379</td><td>61</td><td>863.28</td><td>12.95</td></tr>\n<tr><td>10421</td><td>61</td><td>1194.27</td><td>17.92</td></tr>\n<tr><td>10587</td><td>61</td><td>807.38</td><td>12.11</td></tr>\n<tr><td>10647</td><td>61</td><td>636.00</td><td>9.54</td></tr>\n<tr><td>10720</td><td>61</td><td>550.00</td><td>8.25</td></tr>\n<tr><td>10794</td><td>61</td><td>314.76</td><td>4.72</td></tr>\n<tr><td>10989</td><td>61</td><td>1353.60</td><td>20.31</td></tr>\n<tr><td>10372</td><td>62</td><td>9210.90</td><td>35.82</td></tr>\n<tr><td>10406</td><td>62</td><td>1830.78</td><td>7.12</td></tr>\n<tr><td>10487</td><td>62</td><td>889.70</td><td>3.46</td></tr>\n<tr><td>10637</td><td>62</td><td>2761.94</td><td>10.74</td></tr>\n<tr><td>10659</td><td>62</td><td>1227.02</td><td>4.77</td></tr>\n<tr><td>10704</td><td>62</td><td>595.50</td><td>2.32</td></tr>\n<tr><td>10728</td><td>62</td><td>1296.75</td><td>5.04</td></tr>\n<tr><td>10786</td><td>62</td><td>1531.08</td><td>5.95</td></tr>\n<tr><td>10868</td><td>62</td><td>1920.60</td><td>7.47</td></tr>\n<tr><td>10913</td><td>62</td><td>768.75</td><td>2.99</td></tr>\n<tr><td>10914</td><td>62</td><td>537.50</td><td>2.09</td></tr>\n<tr><td>10961</td><td>62</td><td>1119.90</td><td>4.35</td></tr>\n<tr><td>11068</td><td>62</td><td>2027.08</td><td>7.88</td></tr>\n<tr><td>10273</td><td>63</td><td>2037.28</td><td>1.85</td></tr>\n<tr><td>10285</td><td>63</td><td>1743.36</td><td>1.58</td></tr>\n<tr><td>10286</td><td>63</td><td>3016.00</td><td>2.73</td></tr>\n<tr><td>10313</td><td>63</td><td>182.40</td><td>0.17</td></tr>\n<tr><td>10345</td><td>63</td><td>2924.80</td><td>2.65</td></tr>\n<tr><td>10361</td><td>63</td><td>2046.24</td><td>1.86</td></tr>\n<tr><td>10418</td><td>63</td><td>1814.80</td><td>1.65</td></tr>\n<tr><td>10451</td><td>63</td><td>3849.66</td><td>3.49</td></tr>\n<tr><td>10515</td><td>63</td><td>9921.30</td><td>9.00</td></tr>\n<tr><td>10527</td><td>63</td><td>1503.00</td><td>1.36</td></tr>\n<tr><td>10540</td><td>63</td><td>10191.70</td><td>9.24</td></tr>\n<tr><td>10549</td><td>63</td><td>3554.28</td><td>3.22</td></tr>\n<tr><td>10588</td><td>63</td><td>3120.00</td><td>2.83</td></tr>\n<tr><td>10658</td><td>63</td><td>4464.60</td><td>4.05</td></tr>\n<tr><td>10691</td><td>63</td><td>10164.80</td><td>9.22</td></tr>\n<tr><td>10694</td><td>63</td><td>4825.00</td><td>4.38</td></tr>\n<tr><td>10721</td><td>63</td><td>923.88</td><td>0.84</td></tr>\n<tr><td>10745</td><td>63</td><td>4529.80</td><td>4.11</td></tr>\n<tr><td>10765</td><td>63</td><td>1515.60</td><td>1.37</td></tr>\n<tr><td>10788</td><td>63</td><td>731.50</td><td>0.66</td></tr>\n<tr><td>10845</td><td>63</td><td>3812.70</td><td>3.46</td></tr>\n<tr><td>10865</td><td>63</td><td>16387.50</td><td>14.86</td></tr>\n<tr><td>10878</td><td>63</td><td>1539.00</td><td>1.40</td></tr>\n<tr><td>10938</td><td>63</td><td>2731.88</td><td>2.48</td></tr>\n<tr><td>10962</td><td>63</td><td>3584.00</td><td>3.25</td></tr>\n<tr><td>10991</td><td>63</td><td>2296.00</td><td>2.08</td></tr>\n<tr><td>10996</td><td>63</td><td>560.00</td><td>0.51</td></tr>\n<tr><td>11021</td><td>63</td><td>6306.24</td><td>5.72</td></tr>\n<tr><td>10448</td><td>64</td><td>443.40</td><td>15.59</td></tr>\n<tr><td>10716</td><td>64</td><td>706.00</td><td>24.82</td></tr>\n<tr><td>10828</td><td>64</td><td>932.00</td><td>32.77</td></tr>\n<tr><td>10916</td><td>64</td><td>686.70</td><td>24.14</td></tr>\n<tr><td>11019</td><td>64</td><td>76.00</td><td>2.67</td></tr>\n<tr><td>10262</td><td>65</td><td>584.00</td><td>1.14</td></tr>\n<tr><td>10272</td><td>65</td><td>1456.00</td><td>2.85</td></tr>\n<tr><td>10294</td><td>65</td><td>1887.60</td><td>3.69</td></tr>\n<tr><td>10314</td><td>65</td><td>2094.30</td><td>4.10</td></tr>\n<tr><td>10316</td><td>65</td><td>2835.00</td><td>5.55</td></tr>\n<tr><td>10346</td><td>65</td><td>1618.88</td><td>3.17</td></tr>\n<tr><td>10401</td><td>65</td><td>3868.60</td><td>7.57</td></tr>\n<tr><td>10479</td><td>65</td><td>10495.60</td><td>20.54</td></tr>\n<tr><td>10564</td><td>65</td><td>1234.05</td><td>2.42</td></tr>\n<tr><td>10569</td><td>65</td><td>890.00</td><td>1.74</td></tr>\n<tr><td>10598</td><td>65</td><td>2388.50</td><td>4.67</td></tr>\n<tr><td>10761</td><td>65</td><td>507.00</td><td>0.99</td></tr>\n<tr><td>10820</td><td>65</td><td>1140.00</td><td>2.23</td></tr>\n<tr><td>10852</td><td>65</td><td>2984.00</td><td>5.84</td></tr>\n<tr><td>10889</td><td>65</td><td>11380.00</td><td>22.27</td></tr>\n<tr><td>10988</td><td>65</td><td>3574.80</td><td>7.00</td></tr>\n<tr><td>11000</td><td>65</td><td>903.75</td><td>1.77</td></tr>\n<tr><td>11077</td><td>65</td><td>1255.72</td><td>2.46</td></tr>\n<tr><td>10288</td><td>66</td><td>80.10</td><td>1.14</td></tr>\n<tr><td>10428</td><td>66</td><td>192.00</td><td>2.72</td></tr>\n<tr><td>10443</td><td>66</td><td>517.44</td><td>7.34</td></tr>\n<tr><td>10562</td><td>66</td><td>488.70</td><td>6.93</td></tr>\n<tr><td>10586</td><td>66</td><td>23.80</td><td>0.34</td></tr>\n<tr><td>10655</td><td>66</td><td>154.40</td><td>2.19</td></tr>\n<tr><td>10727</td><td>66</td><td>1624.50</td><td>23.05</td></tr>\n<tr><td>10812</td><td>66</td><td>1692.80</td><td>24.02</td></tr>\n<tr><td>10908</td><td>66</td><td>663.10</td><td>9.41</td></tr>\n<tr><td>10942</td><td>66</td><td>560.00</td><td>7.95</td></tr>\n<tr><td>11010</td><td>66</td><td>645.00</td><td>9.15</td></tr>\n<tr><td>11062</td><td>66</td><td>406.40</td><td>5.77</td></tr>\n<tr><td>10287</td><td>67</td><td>819.00</td><td>6.58</td></tr>\n<tr><td>10299</td><td>67</td><td>349.50</td><td>2.81</td></tr>\n<tr><td>10447</td><td>67</td><td>914.40</td><td>7.34</td></tr>\n<tr><td>10481</td><td>67</td><td>1472.00</td><td>11.82</td></tr>\n<tr><td>10563</td><td>67</td><td>965.00</td><td>7.75</td></tr>\n<tr><td>10622</td><td>67</td><td>560.00</td><td>4.50</td></tr>\n<tr><td>10648</td><td>67</td><td>372.38</td><td>2.99</td></tr>\n<tr><td>10813</td><td>67</td><td>602.40</td><td>4.84</td></tr>\n<tr><td>10851</td><td>67</td><td>2603.00</td><td>20.91</td></tr>\n<tr><td>10877</td><td>67</td><td>1955.13</td><td>15.70</td></tr>\n<tr><td>11059</td><td>67</td><td>1838.00</td><td>14.76</td></tr>\n<tr><td>10255</td><td>68</td><td>2490.50</td><td>12.87</td></tr>\n<tr><td>10419</td><td>68</td><td>2097.60</td><td>10.84</td></tr>\n<tr><td>10537</td><td>68</td><td>1823.80</td><td>9.43</td></tr>\n<tr><td>10666</td><td>68</td><td>4666.94</td><td>24.13</td></tr>\n<tr><td>10751</td><td>68</td><td>1631.48</td><td>8.43</td></tr>\n<tr><td>10758</td><td>68</td><td>1644.60</td><td>8.50</td></tr>\n<tr><td>10931</td><td>68</td><td>799.20</td><td>4.13</td></tr>\n<tr><td>10951</td><td>68</td><td>458.76</td><td>2.37</td></tr>\n<tr><td>11033</td><td>68</td><td>3232.80</td><td>16.71</td></tr>\n<tr><td>11075</td><td>68</td><td>498.10</td><td>2.57</td></tr>\n<tr><td>10281</td><td>69</td><td>86.50</td><td>5.90</td></tr>\n<tr><td>10282</td><td>69</td><td>155.40</td><td>10.59</td></tr>\n<tr><td>10306</td><td>69</td><td>498.50</td><td>33.97</td></tr>\n<tr><td>10917</td><td>69</td><td>365.89</td><td>24.94</td></tr>\n<tr><td>11013</td><td>69</td><td>361.00</td><td>24.60</td></tr>\n<tr><td>10387</td><td>70</td><td>1058.40</td><td>18.45</td></tr>\n<tr><td>10520</td><td>70</td><td>200.00</td><td>3.49</td></tr>\n<tr><td>10639</td><td>70</td><td>500.00</td><td>8.72</td></tr>\n<tr><td>10831</td><td>70</td><td>2684.40</td><td>46.81</td></tr>\n<tr><td>10909</td><td>70</td><td>670.00</td><td>11.68</td></tr>\n<tr><td>11015</td><td>70</td><td>622.35</td><td>10.85</td></tr>\n<tr><td>10324</td><td>71</td><td>5275.72</td><td>5.06</td></tr>\n<tr><td>10393</td><td>71</td><td>2556.95</td><td>2.45</td></tr>\n<tr><td>10398</td><td>71</td><td>2505.60</td><td>2.40</td></tr>\n<tr><td>10440</td><td>71</td><td>4924.14</td><td>4.72</td></tr>\n<tr><td>10452</td><td>71</td><td>2018.50</td><td>1.93</td></tr>\n<tr><td>10510</td><td>71</td><td>4707.54</td><td>4.51</td></tr>\n<tr><td>10555</td><td>71</td><td>2944.40</td><td>2.82</td></tr>\n<tr><td>10603</td><td>71</td><td>1483.00</td><td>1.42</td></tr>\n<tr><td>10607</td><td>71</td><td>6475.40</td><td>6.20</td></tr>\n<tr><td>10612</td><td>71</td><td>6375.00</td><td>6.11</td></tr>\n<tr><td>10627</td><td>71</td><td>1185.75</td><td>1.14</td></tr>\n<tr><td>10657</td><td>71</td><td>4371.60</td><td>4.19</td></tr>\n<tr><td>10678</td><td>71</td><td>5256.50</td><td>5.04</td></tr>\n<tr><td>10700</td><td>71</td><td>1638.40</td><td>1.57</td></tr>\n<tr><td>10711</td><td>71</td><td>4451.70</td><td>4.27</td></tr>\n<tr><td>10713</td><td>71</td><td>2827.90</td><td>2.71</td></tr>\n<tr><td>10714</td><td>71</td><td>2205.75</td><td>2.11</td></tr>\n<tr><td>10722</td><td>71</td><td>1570.00</td><td>1.50</td></tr>\n<tr><td>10748</td><td>71</td><td>2196.00</td><td>2.10</td></tr>\n<tr><td>10757</td><td>71</td><td>3082.00</td><td>2.95</td></tr>\n<tr><td>10815</td><td>71</td><td>40.00</td><td>0.04</td></tr>\n<tr><td>10847</td><td>71</td><td>4931.92</td><td>4.73</td></tr>\n<tr><td>10882</td><td>71</td><td>892.64</td><td>0.86</td></tr>\n<tr><td>10894</td><td>71</td><td>2753.10</td><td>2.64</td></tr>\n<tr><td>10941</td><td>71</td><td>4011.75</td><td>3.84</td></tr>\n<tr><td>10983</td><td>71</td><td>720.90</td><td>0.69</td></tr>\n<tr><td>10984</td><td>71</td><td>1809.75</td><td>1.73</td></tr>\n<tr><td>11002</td><td>71</td><td>1811.10</td><td>1.74</td></tr>\n<tr><td>11030</td><td>71</td><td>12615.05</td><td>12.09</td></tr>\n<tr><td>11031</td><td>71</td><td>2393.50</td><td>2.29</td></tr>\n<tr><td>11064</td><td>71</td><td>4330.40</td><td>4.15</td></tr>\n<tr><td>10359</td><td>72</td><td>3471.68</td><td>21.41</td></tr>\n<tr><td>10377</td><td>72</td><td>863.60</td><td>5.33</td></tr>\n<tr><td>10388</td><td>72</td><td>1228.80</td><td>7.58</td></tr>\n<tr><td>10472</td><td>72</td><td>1036.80</td><td>6.39</td></tr>\n<tr><td>10523</td><td>72</td><td>2444.31</td><td>15.07</td></tr>\n<tr><td>10547</td><td>72</td><td>1792.80</td><td>11.06</td></tr>\n<tr><td>10800</td><td>72</td><td>1468.94</td><td>9.06</td></tr>\n<tr><td>10804</td><td>72</td><td>2278.40</td><td>14.05</td></tr>\n<tr><td>10869</td><td>72</td><td>1630.00</td><td>10.05</td></tr>\n<tr><td>10341</td><td>73</td><td>352.60</td><td>2.10</td></tr>\n<tr><td>10417</td><td>73</td><td>11188.40</td><td>66.53</td></tr>\n<tr><td>10556</td><td>73</td><td>835.20</td><td>4.97</td></tr>\n<tr><td>10642</td><td>73</td><td>696.00</td><td>4.14</td></tr>\n<tr><td>10669</td><td>73</td><td>570.00</td><td>3.39</td></tr>\n<tr><td>10802</td><td>73</td><td>2942.81</td><td>17.50</td></tr>\n<tr><td>11074</td><td>73</td><td>232.09</td><td>1.38</td></tr>\n<tr><td>10738</td><td>74</td><td>52.35</td><td>2.16</td></tr>\n<tr><td>10907</td><td>74</td><td>108.50</td><td>4.48</td></tr>\n<tr><td>10964</td><td>74</td><td>2052.50</td><td>84.70</td></tr>\n<tr><td>11043</td><td>74</td><td>210.00</td><td>8.67</td></tr>\n<tr><td>10271</td><td>75</td><td>48.00</td><td>0.42</td></tr>\n<tr><td>10329</td><td>75</td><td>4578.43</td><td>40.02</td></tr>\n<tr><td>10349</td><td>75</td><td>141.60</td><td>1.24</td></tr>\n<tr><td>10369</td><td>75</td><td>2390.40</td><td>20.89</td></tr>\n<tr><td>10385</td><td>75</td><td>691.20</td><td>6.04</td></tr>\n<tr><td>10432</td><td>75</td><td>485.00</td><td>4.24</td></tr>\n<tr><td>10756</td><td>75</td><td>1990.00</td><td>17.39</td></tr>\n<tr><td>10821</td><td>75</td><td>678.00</td><td>5.93</td></tr>\n<tr><td>10974</td><td>75</td><td>439.00</td><td>3.84</td></tr>\n<tr><td>10252</td><td>76</td><td>3597.90</td><td>14.94</td></tr>\n<tr><td>10302</td><td>76</td><td>2708.80</td><td>11.25</td></tr>\n<tr><td>10458</td><td>76</td><td>3891.00</td><td>16.15</td></tr>\n<tr><td>10463</td><td>76</td><td>713.30</td><td>2.96</td></tr>\n<tr><td>10475</td><td>76</td><td>1505.18</td><td>6.25</td></tr>\n<tr><td>10767</td><td>76</td><td>28.00</td><td>0.12</td></tr>\n<tr><td>10841</td><td>76</td><td>4581.00</td><td>19.02</td></tr>\n<tr><td>10846</td><td>76</td><td>1112.00</td><td>4.62</td></tr>\n<tr><td>10885</td><td>76</td><td>1209.00</td><td>5.02</td></tr>\n<tr><td>10930</td><td>76</td><td>2255.50</td><td>9.36</td></tr>\n<tr><td>11035</td><td>76</td><td>1754.50</td><td>7.28</td></tr>\n<tr><td>11038</td><td>76</td><td>732.60</td><td>3.04</td></tr>\n<tr><td>10310</td><td>77</td><td>336.00</td><td>10.00</td></tr>\n<tr><td>10708</td><td>77</td><td>180.40</td><td>5.37</td></tr>\n<tr><td>10805</td><td>77</td><td>2775.00</td><td>82.56</td></tr>\n<tr><td>10992</td><td>77</td><td>69.60</td><td>2.07</td></tr>\n<tr><td>10624</td><td>78</td><td>1393.24</td><td>71.55</td></tr>\n<tr><td>10775</td><td>78</td><td>228.00</td><td>11.71</td></tr>\n<tr><td>11003</td><td>78</td><td>326.00</td><td>16.74</td></tr>\n<tr><td>10249</td><td>79</td><td>1863.40</td><td>39.00</td></tr>\n<tr><td>10438</td><td>79</td><td>454.00</td><td>9.50</td></tr>\n<tr><td>10446</td><td>79</td><td>246.24</td><td>5.15</td></tr>\n<tr><td>10548</td><td>79</td><td>240.10</td><td>5.02</td></tr>\n<tr><td>10608</td><td>79</td><td>1064.00</td><td>22.27</td></tr>\n<tr><td>10967</td><td>79</td><td>910.40</td><td>19.05</td></tr>\n<tr><td>10276</td><td>80</td><td>420.00</td><td>3.88</td></tr>\n<tr><td>10293</td><td>80</td><td>848.70</td><td>7.85</td></tr>\n<tr><td>10304</td><td>80</td><td>954.40</td><td>8.83</td></tr>\n<tr><td>10319</td><td>80</td><td>1191.20</td><td>11.02</td></tr>\n<tr><td>10518</td><td>80</td><td>4150.05</td><td>38.38</td></tr>\n<tr><td>10576</td><td>80</td><td>838.45</td><td>7.75</td></tr>\n<tr><td>10676</td><td>80</td><td>534.85</td><td>4.95</td></tr>\n<tr><td>10842</td><td>80</td><td>975.00</td><td>9.02</td></tr>\n<tr><td>10915</td><td>80</td><td>539.50</td><td>4.99</td></tr>\n<tr><td>11069</td><td>80</td><td>360.00</td><td>3.33</td></tr>\n<tr><td>10292</td><td>81</td><td>1296.00</td><td>18.92</td></tr>\n<tr><td>10496</td><td>81</td><td>190.00</td><td>2.77</td></tr>\n<tr><td>10606</td><td>81</td><td>1130.40</td><td>16.50</td></tr>\n<tr><td>10830</td><td>81</td><td>1974.00</td><td>28.81</td></tr>\n<tr><td>10834</td><td>81</td><td>1432.71</td><td>20.91</td></tr>\n<tr><td>10839</td><td>81</td><td>827.55</td><td>12.08</td></tr>\n<tr><td>10574</td><td>82</td><td>764.30</td><td>48.64</td></tr>\n<tr><td>10577</td><td>82</td><td>569.00</td><td>36.21</td></tr>\n<tr><td>10822</td><td>82</td><td>237.90</td><td>15.14</td></tr>\n<tr><td>10367</td><td>83</td><td>834.20</td><td>5.27</td></tr>\n<tr><td>10399</td><td>83</td><td>1765.60</td><td>11.14</td></tr>\n<tr><td>10465</td><td>83</td><td>2518.00</td><td>15.89</td></tr>\n<tr><td>10591</td><td>83</td><td>812.50</td><td>5.13</td></tr>\n<tr><td>10602</td><td>83</td><td>48.75</td><td>0.31</td></tr>\n<tr><td>10688</td><td>83</td><td>3160.60</td><td>19.95</td></tr>\n<tr><td>10744</td><td>83</td><td>736.00</td><td>4.65</td></tr>\n<tr><td>10769</td><td>83</td><td>1684.28</td><td>10.63</td></tr>\n<tr><td>10921</td><td>83</td><td>1936.00</td><td>12.22</td></tr>\n<tr><td>10946</td><td>83</td><td>1407.50</td><td>8.88</td></tr>\n<tr><td>10994</td><td>83</td><td>940.50</td><td>5.94</td></tr>\n<tr><td>10251</td><td>84</td><td>654.06</td><td>7.12</td></tr>\n<tr><td>10334</td><td>84</td><td>144.80</td><td>1.58</td></tr>\n<tr><td>10450</td><td>84</td><td>425.12</td><td>4.63</td></tr>\n<tr><td>10459</td><td>84</td><td>1659.20</td><td>18.07</td></tr>\n<tr><td>10478</td><td>84</td><td>471.20</td><td>5.13</td></tr>\n<tr><td>10546</td><td>84</td><td>2812.00</td><td>30.62</td></tr>\n<tr><td>10806</td><td>84</td><td>439.60</td><td>4.79</td></tr>\n<tr><td>10814</td><td>84</td><td>1788.45</td><td>19.48</td></tr>\n<tr><td>10843</td><td>84</td><td>159.00</td><td>1.73</td></tr>\n<tr><td>10850</td><td>84</td><td>629.00</td><td>6.85</td></tr>\n<tr><td>10248</td><td>85</td><td>440.00</td><td>29.73</td></tr>\n<tr><td>10274</td><td>85</td><td>538.60</td><td>36.39</td></tr>\n<tr><td>10295</td><td>85</td><td>121.60</td><td>8.22</td></tr>\n<tr><td>10737</td><td>85</td><td>139.80</td><td>9.45</td></tr>\n<tr><td>10739</td><td>85</td><td>240.00</td><td>16.22</td></tr>\n<tr><td>10301</td><td>86</td><td>755.00</td><td>7.87</td></tr>\n<tr><td>10312</td><td>86</td><td>1614.80</td><td>16.84</td></tr>\n<tr><td>10348</td><td>86</td><td>363.60</td><td>3.79</td></tr>\n<tr><td>10356</td><td>86</td><td>1106.40</td><td>11.54</td></tr>\n<tr><td>10513</td><td>86</td><td>1942.00</td><td>20.25</td></tr>\n<tr><td>10632</td><td>86</td><td>589.00</td><td>6.14</td></tr>\n<tr><td>10640</td><td>86</td><td>708.75</td><td>7.39</td></tr>\n<tr><td>10651</td><td>86</td><td>397.80</td><td>4.15</td></tr>\n<tr><td>10668</td><td>86</td><td>625.28</td><td>6.52</td></tr>\n<tr><td>11046</td><td>86</td><td>1485.80</td><td>15.50</td></tr>\n<tr><td>10266</td><td>87</td><td>346.56</td><td>2.21</td></tr>\n<tr><td>10270</td><td>87</td><td>1376.00</td><td>8.79</td></tr>\n<tr><td>10320</td><td>87</td><td>516.00</td><td>3.30</td></tr>\n<tr><td>10333</td><td>87</td><td>877.20</td><td>5.61</td></tr>\n<tr><td>10412</td><td>87</td><td>334.80</td><td>2.14</td></tr>\n<tr><td>10416</td><td>87</td><td>720.00</td><td>4.60</td></tr>\n<tr><td>10437</td><td>87</td><td>393.00</td><td>2.51</td></tr>\n<tr><td>10455</td><td>87</td><td>2684.00</td><td>17.15</td></tr>\n<tr><td>10526</td><td>87</td><td>1151.40</td><td>7.36</td></tr>\n<tr><td>10553</td><td>87</td><td>1546.30</td><td>9.88</td></tr>\n<tr><td>10583</td><td>87</td><td>2237.50</td><td>14.30</td></tr>\n<tr><td>10636</td><td>87</td><td>629.50</td><td>4.02</td></tr>\n<tr><td>10750</td><td>87</td><td>1590.56</td><td>10.16</td></tr>\n<tr><td>10781</td><td>87</td><td>975.88</td><td>6.24</td></tr>\n<tr><td>11025</td><td>87</td><td>270.00</td><td>1.73</td></tr>\n<tr><td>10256</td><td>88</td><td>517.80</td><td>8.53</td></tr>\n<tr><td>10420</td><td>88</td><td>1707.84</td><td>28.14</td></tr>\n<tr><td>10585</td><td>88</td><td>142.50</td><td>2.35</td></tr>\n<tr><td>10644</td><td>88</td><td>1371.80</td><td>22.61</td></tr>\n<tr><td>10803</td><td>88</td><td>1193.01</td><td>19.66</td></tr>\n<tr><td>10809</td><td>88</td><td>140.00</td><td>2.31</td></tr>\n<tr><td>10900</td><td>88</td><td>33.75</td><td>0.56</td></tr>\n<tr><td>10905</td><td>88</td><td>342.00</td><td>5.64</td></tr>\n<tr><td>10935</td><td>88</td><td>619.50</td><td>10.21</td></tr>\n<tr><td>10269</td><td>89</td><td>642.20</td><td>2.35</td></tr>\n<tr><td>10344</td><td>89</td><td>2296.00</td><td>8.39</td></tr>\n<tr><td>10469</td><td>89</td><td>956.68</td><td>3.50</td></tr>\n<tr><td>10483</td><td>89</td><td>668.80</td><td>2.44</td></tr>\n<tr><td>10504</td><td>89</td><td>1388.50</td><td>5.07</td></tr>\n<tr><td>10596</td><td>89</td><td>1180.88</td><td>4.32</td></tr>\n<tr><td>10693</td><td>89</td><td>2071.20</td><td>7.57</td></tr>\n<tr><td>10696</td><td>89</td><td>996.00</td><td>3.64</td></tr>\n<tr><td>10723</td><td>89</td><td>468.45</td><td>1.71</td></tr>\n<tr><td>10740</td><td>89</td><td>1416.00</td><td>5.17</td></tr>\n<tr><td>10861</td><td>89</td><td>3523.40</td><td>12.88</td></tr>\n<tr><td>10904</td><td>89</td><td>1924.25</td><td>7.03</td></tr>\n<tr><td>11032</td><td>89</td><td>8902.50</td><td>32.53</td></tr>\n<tr><td>11066</td><td>89</td><td>928.75</td><td>3.39</td></tr>\n<tr><td>10615</td><td>90</td><td>120.00</td><td>3.80</td></tr>\n<tr><td>10673</td><td>90</td><td>412.35</td><td>13.04</td></tr>\n<tr><td>10695</td><td>90</td><td>642.00</td><td>20.31</td></tr>\n<tr><td>10873</td><td>90</td><td>336.80</td><td>10.65</td></tr>\n<tr><td>10879</td><td>90</td><td>611.30</td><td>19.34</td></tr>\n<tr><td>10910</td><td>90</td><td>452.90</td><td>14.33</td></tr>\n<tr><td>11005</td><td>90</td><td>586.00</td><td>18.54</td></tr>\n<tr><td>10374</td><td>91</td><td>459.00</td><td>13.00</td></tr>\n<tr><td>10611</td><td>91</td><td>808.00</td><td>22.88</td></tr>\n<tr><td>10792</td><td>91</td><td>399.85</td><td>11.32</td></tr>\n<tr><td>10870</td><td>91</td><td>160.00</td><td>4.53</td></tr>\n<tr><td>10906</td><td>91</td><td>427.50</td><td>12.10</td></tr>\n<tr><td>10998</td><td>91</td><td>686.00</td><td>19.42</td></tr>\n<tr><td>11044</td><td>91</td><td>591.60</td><td>16.75</td></tr>\n</table>"
                    },
                    "metadata": {}
                }
            ],
            "execution_count": 20
        },
        {
            "cell_type": "markdown",
            "source": [
                "<span style=\"color: #608b4e;\"><b>EXISTS&nbsp;predicate</b></span>\n",
                "\n",
                "<span style=\"color: #608b4e;\">Returns&nbsp;true&nbsp;if&nbsp;subquery&nbsp;returns&nbsp;any&nbsp;rows&nbsp;and&nbsp;false&nbsp;otherwise.</span>\n",
                "\n",
                "<span style=\"color: #608b4e;\">Proposition:&nbsp;Return&nbsp;customers&nbsp;from&nbsp;Spain&nbsp;who&nbsp;placed&nbsp;orders</span>"
            ],
            "metadata": {
                "azdata_cell_guid": "b252d0b8-eb45-4c8d-97d8-8b28a10e239c",
                "language": "sql"
            },
            "attachments": {}
        },
        {
            "cell_type": "code",
            "source": [
                "USE Northwinds2022TSQLV7\n",
                "SELECT customerId, CustomerCompanyName\n",
                "FROM Sales.Customer AS C\n",
                "WHERE CustomerCountry = N'Spain'\n",
                "\tAND EXISTS\n",
                "\t\t(SELECT * FROM Sales.[Order] O\n",
                "\t\tWHERE C.customerid = O.CustomerId);\n",
                "\n",
                "--Negation: Return customers from Spain who did NOT place any orders.\n",
                "SELECT customerId, customerCompanyName\n",
                "FROM Sales.Customer C\n",
                "WHERE CustomerCountry = N'Spain'\n",
                "\tAND NOT EXISTS\n",
                "\t\t(SELECT * FROM Sales.[Order] O\n",
                "\t\t WHERE C.CustomerId = O.CustomerId);\n",
                "--EXISTS is a good optimization tool. Just need to know whether a data exists and the database engine does not need to produce the data. Notice that * is used liberally here. \n",
                "--EXISTS is two-valued logic. The data either exists or it does not.\n",
                "--Instead of *, you could also specify SELECT DISTINCT O.CustomerId from Sales.[Order]...so the database engine does not strain itself."
            ],
            "metadata": {
                "azdata_cell_guid": "7dea4ae9-147a-48d0-bc89-c7a4a11b837b",
                "language": "sql",
                "tags": []
            },
            "outputs": [
                {
                    "output_type": "display_data",
                    "data": {
                        "text/html": "(4 rows affected)"
                    },
                    "metadata": {}
                },
                {
                    "output_type": "display_data",
                    "data": {
                        "text/html": "(1 row affected)"
                    },
                    "metadata": {}
                },
                {
                    "output_type": "display_data",
                    "data": {
                        "text/html": "Total execution time: 00:00:00.011"
                    },
                    "metadata": {}
                },
                {
                    "output_type": "execute_result",
                    "execution_count": 21,
                    "data": {
                        "application/vnd.dataresource+json": {
                            "data": [
                                {
                                    "0": "8",
                                    "1": "Customer QUHWH"
                                },
                                {
                                    "0": "29",
                                    "1": "Customer MDLWA"
                                },
                                {
                                    "0": "30",
                                    "1": "Customer KSLQF"
                                },
                                {
                                    "0": "69",
                                    "1": "Customer SIUIH"
                                }
                            ],
                            "schema": {
                                "fields": [
                                    {
                                        "name": "customerId"
                                    },
                                    {
                                        "name": "CustomerCompanyName"
                                    }
                                ]
                            }
                        },
                        "text/html": "<table>\n<tr><th>customerId</th><th>CustomerCompanyName</th></tr>\n<tr><td>8</td><td>Customer QUHWH</td></tr>\n<tr><td>29</td><td>Customer MDLWA</td></tr>\n<tr><td>30</td><td>Customer KSLQF</td></tr>\n<tr><td>69</td><td>Customer SIUIH</td></tr>\n</table>"
                    },
                    "metadata": {}
                },
                {
                    "output_type": "execute_result",
                    "execution_count": 21,
                    "data": {
                        "application/vnd.dataresource+json": {
                            "data": [
                                {
                                    "0": "22",
                                    "1": "Customer DTDMN"
                                }
                            ],
                            "schema": {
                                "fields": [
                                    {
                                        "name": "customerId"
                                    },
                                    {
                                        "name": "customerCompanyName"
                                    }
                                ]
                            }
                        },
                        "text/html": "<table>\n<tr><th>customerId</th><th>customerCompanyName</th></tr>\n<tr><td>22</td><td>Customer DTDMN</td></tr>\n</table>"
                    },
                    "metadata": {}
                }
            ],
            "execution_count": 21
        },
        {
            "cell_type": "markdown",
            "source": [
                "<span style=\"color:#608b4e;\">Returning&nbsp;the&nbsp;previous&nbsp;value relative to the current OrderID.&nbsp;Max&nbsp;of&nbsp;the&nbsp;value&nbsp;prior&nbsp;to&nbsp;the&nbsp;current&nbsp;value.&nbsp;</span>"
            ],
            "metadata": {
                "azdata_cell_guid": "396df35c-695f-4430-8202-d92f1c8b57e3",
                "language": "sql"
            },
            "attachments": {}
        },
        {
            "cell_type": "code",
            "source": [
                "--Max is looking for the orderId that is immediately before all of the previous orderID's.\n",
                "SELECT top 20 orderid, orderdate, employeeid, customerid,\n",
                "\t   (SELECT MAX(O2.orderid)\n",
                "\t\tFROM Sales.[Order] AS O2\n",
                "\t\tWHERE O2.orderID < O1.orderId) AS PrevOrderId\n",
                "FROM Sales.[Order] AS O1\n",
                "\n",
                "--Returning the next value. Min value among the all the OrderId's that occur after the current value returns the orderId that is immediately after the current one.\n",
                "SELECT top 20 orderid, orderdate, employeeid, customerid,\n",
                "\t\t\t(SELECT MIN (O2.orderid)\n",
                "\t\t\t FROM Sales.[Order] AS O2\n",
                "\t\t\t WHERE O2.orderid > O1.orderid) AS NextOrderId\n",
                "FROM Sales.[Order] AS O1;\n",
                ""
            ],
            "metadata": {
                "azdata_cell_guid": "19c9c350-7d76-4a61-830e-965f5b48f39c",
                "language": "sql"
            },
            "outputs": [],
            "execution_count": null
        },
        {
            "cell_type": "markdown",
            "source": [
                "<span style=\"color: #608b4e;\"><b>Using&nbsp;running&nbsp;aggregates</b></span>\n",
                "\n",
                "<span style=\"color: #608b4e;\">Proposition:&nbsp;Use&nbsp;a&nbsp;correlated&nbsp;subquery&nbsp;against&nbsp;a&nbsp;second&nbsp;instance&nbsp;of&nbsp;the&nbsp;view&nbsp;to&nbsp;calculate&nbsp;the&nbsp;running-total&nbsp;quantity.&nbsp;</span>"
            ],
            "metadata": {
                "azdata_cell_guid": "db51193a-7fb6-44fe-821d-ff6562a49943",
                "language": "sql"
            },
            "attachments": {}
        },
        {
            "cell_type": "code",
            "source": [
                "--Using running aggregates\n",
                "USE TSQLV4\n",
                "SELECT orderyear, qty\n",
                "FROM Sales.OrderTotalsByYear\n",
                "ORDER BY orderyear;\n",
                "\n",
                "--Proposition: Use a correlated subquery against a second instance of the view to calculate the running-total quantity. \n",
                "SELECT orderyear, qty,\n",
                "\t   (SELECT SUM (O2.qty)\n",
                "\t\tFROM Sales.OrderTotalsByYear AS O2\n",
                "\t\tWHERE O2.orderyear <= O1.orderyear) AS runqty\n",
                "FROM Sales.OrderTotalsByYear AS O1\n",
                "ORDER BY orderyear;"
            ],
            "metadata": {
                "azdata_cell_guid": "c7c9ef56-d694-4f0f-b1e0-10f5b50e81b2",
                "language": "sql"
            },
            "outputs": [
                {
                    "output_type": "display_data",
                    "data": {
                        "text/html": "(3 rows affected)"
                    },
                    "metadata": {}
                },
                {
                    "output_type": "display_data",
                    "data": {
                        "text/html": "(3 rows affected)"
                    },
                    "metadata": {}
                },
                {
                    "output_type": "display_data",
                    "data": {
                        "text/html": "Total execution time: 00:00:00.035"
                    },
                    "metadata": {}
                },
                {
                    "output_type": "execute_result",
                    "metadata": {},
                    "execution_count": 2,
                    "data": {
                        "application/vnd.dataresource+json": {
                            "schema": {
                                "fields": [
                                    {
                                        "name": "orderyear"
                                    },
                                    {
                                        "name": "qty"
                                    }
                                ]
                            },
                            "data": [
                                {
                                    "0": "2014",
                                    "1": "9581"
                                },
                                {
                                    "0": "2015",
                                    "1": "25489"
                                },
                                {
                                    "0": "2016",
                                    "1": "16247"
                                }
                            ]
                        },
                        "text/html": [
                            "<table>",
                            "<tr><th>orderyear</th><th>qty</th></tr>",
                            "<tr><td>2014</td><td>9581</td></tr>",
                            "<tr><td>2015</td><td>25489</td></tr>",
                            "<tr><td>2016</td><td>16247</td></tr>",
                            "</table>"
                        ]
                    }
                },
                {
                    "output_type": "execute_result",
                    "metadata": {},
                    "execution_count": 2,
                    "data": {
                        "application/vnd.dataresource+json": {
                            "schema": {
                                "fields": [
                                    {
                                        "name": "orderyear"
                                    },
                                    {
                                        "name": "qty"
                                    },
                                    {
                                        "name": "runqty"
                                    }
                                ]
                            },
                            "data": [
                                {
                                    "0": "2014",
                                    "1": "9581",
                                    "2": "9581"
                                },
                                {
                                    "0": "2015",
                                    "1": "25489",
                                    "2": "35070"
                                },
                                {
                                    "0": "2016",
                                    "1": "16247",
                                    "2": "51317"
                                }
                            ]
                        },
                        "text/html": [
                            "<table>",
                            "<tr><th>orderyear</th><th>qty</th><th>runqty</th></tr>",
                            "<tr><td>2014</td><td>9581</td><td>9581</td></tr>",
                            "<tr><td>2015</td><td>25489</td><td>35070</td></tr>",
                            "<tr><td>2016</td><td>16247</td><td>51317</td></tr>",
                            "</table>"
                        ]
                    }
                }
            ],
            "execution_count": 2
        },
        {
            "cell_type": "markdown",
            "source": [
                "<span style=\"color: #608b4e;\"><b>NULL&nbsp;trouble</b>:&nbsp;problems&nbsp;that&nbsp;can&nbsp;evolve&nbsp;when&nbsp;you&nbsp;forget&nbsp;about&nbsp;NULLs</span>"
            ],
            "metadata": {
                "azdata_cell_guid": "bdccc8ed-dafe-46f1-acb4-ede5a17db69e",
                "language": "sql"
            },
            "attachments": {}
        },
        {
            "cell_type": "code",
            "source": [
                "USE Northwinds2022TSQLV7\n",
                "SELECT CustomerId, CustomerCompanyName\n",
                "FROM Sales.Customer\n",
                "WHERE CustomerId NOT IN(SELECT O.CustomerId\n",
                "                    FROM Sales.[Order] AS O);\n",
                "--This returnS customer 22 and 57 who have not placed any orders. But let's say you enter NULL values for the customerId attribute.\n",
                "INSERT INTO Sales.[Order]\n",
                "  (CustomerId, EmployeeId, orderdate, requireddate, ShipToDate, shipperid,\n",
                "   freight, shipToName, shipToAddress, shipToCity, shipToRegion,\n",
                "   shipToPostalcode, shipToCountry)\n",
                "  VALUES(NULL, 1, '20160212', '20160212',\n",
                "         '20160212', 1, 123.00, N'abc', N'abc', N'abc',\n",
                "         N'abc', N'abc', N'abc');\n",
                "--Then if you run the same query, it will return empty set. NULL will be excluded in the result because NULLS are included in the subquery results.\n",
                "--When you use the NOT IN predicate against a subquery that returns at least one NULL, the query always returns an empty set.\n",
                "\n",
                "SELECT CustomerId, CustomerCompanyName\n",
                "FROM Sales.Customer\n",
                "WHERE CustomerId NOT IN(SELECT O.CustomerId\n",
                "                    FROM Sales.[Order] AS O);\n",
                "\n",
                "--You can explicitly exclude NULLs in the subquery so the outer query can return NULLS, when you are using NOT IN.\n",
                "SELECT CustomerId, CustomerCompanyName\n",
                "FROM Sales.Customer\n",
                "WHERE CustomerId NOT IN(SELECT O.CustomerId ---alternatively, you can use coalesce function to replace null values. SELECT COALESCE (O.CustomerId, -1) and remove the the were o.customerid IS NOT NULL.\n",
                "                        FROM Sales.[Order] AS O\n",
                "                        WHERE O.CustomerId IS NOT NULL);\n",
                "---alternatively, you can use coalesce function to replace null values. SELECT COALESCE (O.CustomerId, -1) and remove the the were o.customerid IS NOT NULL.\n",
                "SELECT CustomerId, CustomerCompanyName\n",
                "FROM Sales.Customer\n",
                "WHERE CustomerId NOT IN(SELECT COALESCE (O.CustomerId, -1) \n",
                "                        FROM Sales.[Order] AS O);\n",
                "--EXISTS uses two-valued logic. NOT EXISTS is a better alternative to IN because of this NULL trouble.\n",
                "SELECT CustomerId, CustomerCompanyName\n",
                "FROM Sales.Customer AS C\n",
                "WHERE NOT EXISTS\n",
                "  (SELECT * \n",
                "   FROM Sales.[Order] AS O\n",
                "   WHERE O.CustomerId = C.CustomerId);\n",
                "\n",
                "\n",
                "--We delete the null row.\n",
                "DELETE FROM Sales.[Order] WHERE CustomerId IS NULL;"
            ],
            "metadata": {
                "azdata_cell_guid": "c97406f1-28ec-4f87-8568-2301c434aeef",
                "language": "sql"
            },
            "outputs": [
                {
                    "output_type": "display_data",
                    "data": {
                        "text/html": "(2 rows affected)"
                    },
                    "metadata": {}
                },
                {
                    "output_type": "display_data",
                    "data": {
                        "text/html": "(1 row affected)"
                    },
                    "metadata": {}
                },
                {
                    "output_type": "display_data",
                    "data": {
                        "text/html": "(0 rows affected)"
                    },
                    "metadata": {}
                },
                {
                    "output_type": "display_data",
                    "data": {
                        "text/html": "(2 rows affected)"
                    },
                    "metadata": {}
                },
                {
                    "output_type": "display_data",
                    "data": {
                        "text/html": "(2 rows affected)"
                    },
                    "metadata": {}
                },
                {
                    "output_type": "display_data",
                    "data": {
                        "text/html": "(1 row affected)"
                    },
                    "metadata": {}
                },
                {
                    "output_type": "display_data",
                    "data": {
                        "text/html": "Total execution time: 00:00:00.048"
                    },
                    "metadata": {}
                },
                {
                    "output_type": "execute_result",
                    "execution_count": 22,
                    "data": {
                        "application/vnd.dataresource+json": {
                            "data": [
                                {
                                    "0": "22",
                                    "1": "Customer DTDMN"
                                },
                                {
                                    "0": "57",
                                    "1": "Customer WVAXS"
                                }
                            ],
                            "schema": {
                                "fields": [
                                    {
                                        "name": "CustomerId"
                                    },
                                    {
                                        "name": "CustomerCompanyName"
                                    }
                                ]
                            }
                        },
                        "text/html": "<table>\n<tr><th>CustomerId</th><th>CustomerCompanyName</th></tr>\n<tr><td>22</td><td>Customer DTDMN</td></tr>\n<tr><td>57</td><td>Customer WVAXS</td></tr>\n</table>"
                    },
                    "metadata": {}
                },
                {
                    "output_type": "execute_result",
                    "execution_count": 22,
                    "data": {
                        "application/vnd.dataresource+json": {
                            "data": [],
                            "schema": {
                                "fields": [
                                    {
                                        "name": "CustomerId"
                                    },
                                    {
                                        "name": "CustomerCompanyName"
                                    }
                                ]
                            }
                        },
                        "text/html": "<table>\n<tr><th>CustomerId</th><th>CustomerCompanyName</th></tr>\n</table>"
                    },
                    "metadata": {}
                },
                {
                    "output_type": "execute_result",
                    "execution_count": 22,
                    "data": {
                        "application/vnd.dataresource+json": {
                            "data": [
                                {
                                    "0": "22",
                                    "1": "Customer DTDMN"
                                },
                                {
                                    "0": "57",
                                    "1": "Customer WVAXS"
                                }
                            ],
                            "schema": {
                                "fields": [
                                    {
                                        "name": "CustomerId"
                                    },
                                    {
                                        "name": "CustomerCompanyName"
                                    }
                                ]
                            }
                        },
                        "text/html": "<table>\n<tr><th>CustomerId</th><th>CustomerCompanyName</th></tr>\n<tr><td>22</td><td>Customer DTDMN</td></tr>\n<tr><td>57</td><td>Customer WVAXS</td></tr>\n</table>"
                    },
                    "metadata": {}
                },
                {
                    "output_type": "execute_result",
                    "execution_count": 22,
                    "data": {
                        "application/vnd.dataresource+json": {
                            "data": [
                                {
                                    "0": "22",
                                    "1": "Customer DTDMN"
                                },
                                {
                                    "0": "57",
                                    "1": "Customer WVAXS"
                                }
                            ],
                            "schema": {
                                "fields": [
                                    {
                                        "name": "CustomerId"
                                    },
                                    {
                                        "name": "CustomerCompanyName"
                                    }
                                ]
                            }
                        },
                        "text/html": "<table>\n<tr><th>CustomerId</th><th>CustomerCompanyName</th></tr>\n<tr><td>22</td><td>Customer DTDMN</td></tr>\n<tr><td>57</td><td>Customer WVAXS</td></tr>\n</table>"
                    },
                    "metadata": {}
                }
            ],
            "execution_count": 22
        },
        {
            "cell_type": "markdown",
            "source": [
                "Substitution Error in a query column name"
            ],
            "metadata": {
                "azdata_cell_guid": "f062062e-9db3-497d-a3b5-1da77ffed2bd",
                "language": "sql"
            },
            "attachments": {}
        },
        {
            "cell_type": "code",
            "source": [
                "USE Northwinds2022TSQLV7\n",
                "DROP TABLE IF EXISTS Sales.MyShipper;\n",
                "\n",
                "CREATE TABLE Sales.MyShipper\n",
                "(\n",
                "  shipper_id  INT          NOT NULL,\n",
                "  companyname NVARCHAR(40) NOT NULL,\n",
                "  phone       NVARCHAR(24) NOT NULL,\n",
                "  CONSTRAINT PK_MyShippers PRIMARY KEY(shipper_id)\n",
                ");\n",
                "\n",
                "INSERT INTO Sales.MyShipper(shipper_id, companyname, phone)\n",
                "  VALUES(1, N'Shipper GVSUA', N'(503) 555-0137'),\n",
                "\t      (2, N'Shipper ETYNR', N'(425) 555-0136'),\n",
                "\t\t\t\t(3, N'Shipper ZHISN', N'(415) 555-0138');\n",
                "\n",
                "--Only two values are expected. However, all of them are returned.\n",
                "SELECT shipper_id, companyname\n",
                "FROM Sales.MyShipper\n",
                "WHERE shipper_id IN\n",
                "  (SELECT shipper_id\n",
                "   FROM Sales.[Order]\n",
                "   WHERE CustomerId = 43);\n",
                "\n",
                "--The lesson is that you should use the attribute names consistently throughout the database. shipper_id vs shipperid. Notice that there is red line present under the O.shipper_id when you use alias\n",
                "/*SELECT shipper_id, companyname\n",
                "FROM Sales.MyShipper\n",
                "WHERE shipper_id IN\n",
                "  (SELECT O.shipper_id\n",
                "   FROM Sales.[Order] AS O\n",
                "   WHERE O.CustomerId = 43);*/\n",
                "\n",
                "--Using the alias to refer to each attribute, the use of O.... helps with identifying the error. The correct attribute name is now used below:\n",
                "SELECT shipper_id, companyname\n",
                "FROM Sales.MyShipper\n",
                "WHERE shipper_id IN\n",
                "  (SELECT O.shipperid\n",
                "   FROM Sales.[Order] AS O\n",
                "   WHERE O.CustomerId = 43);\n",
                "\n",
                "-- Cleanup\n",
                "DROP TABLE IF EXISTS Sales.MyShippers;\n"
            ],
            "metadata": {
                "azdata_cell_guid": "07540731-d343-4dae-a0ed-7fa98fb728dd",
                "language": "sql"
            },
            "outputs": [
                {
                    "output_type": "display_data",
                    "data": {
                        "text/html": "(3 rows affected)"
                    },
                    "metadata": {}
                },
                {
                    "output_type": "display_data",
                    "data": {
                        "text/html": "(3 rows affected)"
                    },
                    "metadata": {}
                },
                {
                    "output_type": "display_data",
                    "data": {
                        "text/html": "(2 rows affected)"
                    },
                    "metadata": {}
                },
                {
                    "output_type": "display_data",
                    "data": {
                        "text/html": "Total execution time: 00:00:00.065"
                    },
                    "metadata": {}
                },
                {
                    "output_type": "execute_result",
                    "execution_count": 24,
                    "data": {
                        "application/vnd.dataresource+json": {
                            "data": [
                                {
                                    "0": "1",
                                    "1": "Shipper GVSUA"
                                },
                                {
                                    "0": "2",
                                    "1": "Shipper ETYNR"
                                },
                                {
                                    "0": "3",
                                    "1": "Shipper ZHISN"
                                }
                            ],
                            "schema": {
                                "fields": [
                                    {
                                        "name": "shipper_id"
                                    },
                                    {
                                        "name": "companyname"
                                    }
                                ]
                            }
                        },
                        "text/html": "<table>\n<tr><th>shipper_id</th><th>companyname</th></tr>\n<tr><td>1</td><td>Shipper GVSUA</td></tr>\n<tr><td>2</td><td>Shipper ETYNR</td></tr>\n<tr><td>3</td><td>Shipper ZHISN</td></tr>\n</table>"
                    },
                    "metadata": {}
                },
                {
                    "output_type": "execute_result",
                    "execution_count": 24,
                    "data": {
                        "application/vnd.dataresource+json": {
                            "data": [
                                {
                                    "0": "2",
                                    "1": "Shipper ETYNR"
                                },
                                {
                                    "0": "3",
                                    "1": "Shipper ZHISN"
                                }
                            ],
                            "schema": {
                                "fields": [
                                    {
                                        "name": "shipper_id"
                                    },
                                    {
                                        "name": "companyname"
                                    }
                                ]
                            }
                        },
                        "text/html": "<table>\n<tr><th>shipper_id</th><th>companyname</th></tr>\n<tr><td>2</td><td>Shipper ETYNR</td></tr>\n<tr><td>3</td><td>Shipper ZHISN</td></tr>\n</table>"
                    },
                    "metadata": {}
                }
            ],
            "execution_count": 24
        }
    ]
}