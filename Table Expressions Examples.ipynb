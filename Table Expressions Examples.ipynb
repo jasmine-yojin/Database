{
    "metadata": {
        "kernelspec": {
            "name": "SQL",
            "display_name": "SQL",
            "language": "sql"
        },
        "language_info": {
            "name": "sql",
            "version": ""
        }
    },
    "nbformat_minor": 2,
    "nbformat": 4,
    "cells": [
        {
            "cell_type": "markdown",
            "source": [
                "**Derived Tables (table subqueries)**\n",
                "\n",
                "Derived tables are evaluated dynamically and are different from physical tables. It gives you the data upfront and can avoid many joins.\n",
                "\n",
                "The following query shows the syntax derived tables. You have a subquery following the FROM clause within the parenthesis.  You end the parenthesis with alias. You end the parenthesis with alias. It is different from subqueries in that subqueries are embedded either in SELECT or WHERE clause of the outer query.\n",
                "\n",
                "Proposition: Return information about customers from USA."
            ],
            "metadata": {
                "azdata_cell_guid": "e724e81b-3cc9-42a0-b90d-3f2d7f8f2236"
            },
            "attachments": {}
        },
        {
            "cell_type": "code",
            "source": [
                "Use Northwinds2022TSQLV7\r\n",
                "\r\n",
                "SELECT *\r\n",
                "FROM (SELECT customerId, customerCompanyName\r\n",
                "      FROM Sales.Customer\r\n",
                "      WHERE customerCountry = N'USA') AS USACusts;"
            ],
            "metadata": {
                "azdata_cell_guid": "c3ecb991-1c56-4355-835c-37c99efafd71",
                "language": "sql"
            },
            "outputs": [],
            "execution_count": null
        },
        {
            "cell_type": "markdown",
            "source": [
                "**3 Requirements for a Valid Table Expression**\n",
                "\n",
                "1\\. Order is not guaranteed\n",
                "\n",
                "2\\. All columns must have names\n",
                "\n",
                "3\\. All column names must be unique"
            ],
            "metadata": {
                "language": "sql",
                "azdata_cell_guid": "f1bd66d0-0434-4dd9-ac5e-2615f82c9072"
            },
            "attachments": {}
        },
        {
            "cell_type": "markdown",
            "source": [
                "**Query with a Dervied Table using Inline Aliasing Form**\n",
                "\n",
                "In regular queries, you cannot refer to the column alias in the SELECT clause. In dervied tables, you can.\n",
                "\n",
                "Proposition: Return a count of distinct customers and the order year."
            ],
            "metadata": {
                "azdata_cell_guid": "13e531bd-be70-4734-9ba6-80bce086b8ab"
            },
            "attachments": {}
        },
        {
            "cell_type": "code",
            "source": [
                "Use Northwinds2022TSQLV7\r\n",
                "\r\n",
                "--Notice that orderyear is a column alias from the inner query. It is used in the outer query's SELECT and GROUP BY Clauses.\r\n",
                "SELECT orderyear, COUNT(DISTINCT customerId) AS numcusts\r\n",
                "FROM (SELECT YEAR(orderdate) AS orderyear, customerId\r\n",
                "      FROM Sales.[Order]) AS D\r\n",
                "GROUP BY orderyear;\r\n",
                "\r\n",
                "\r\n",
                "--In a regular query, you would have had to this:\r\n",
                "SELECT YEAR(orderdate) AS orderyear, COUNT(DISTINCT customerId) AS numcusts\r\n",
                "FROM Sales.[Order]\r\n",
                "GROUP BY YEAR(orderdate);"
            ],
            "metadata": {
                "azdata_cell_guid": "fe664a3d-1eaa-46b1-b36c-507e3be8d381",
                "language": "sql",
                "tags": []
            },
            "outputs": [
                {
                    "output_type": "display_data",
                    "data": {
                        "text/html": "(3 rows affected)"
                    },
                    "metadata": {}
                },
                {
                    "output_type": "display_data",
                    "data": {
                        "text/html": "(3 rows affected)"
                    },
                    "metadata": {}
                },
                {
                    "output_type": "display_data",
                    "data": {
                        "text/html": "Total execution time: 00:00:00.061"
                    },
                    "metadata": {}
                },
                {
                    "output_type": "execute_result",
                    "metadata": {},
                    "execution_count": 1,
                    "data": {
                        "application/vnd.dataresource+json": {
                            "schema": {
                                "fields": [
                                    {
                                        "name": "orderyear"
                                    },
                                    {
                                        "name": "numcusts"
                                    }
                                ]
                            },
                            "data": [
                                {
                                    "0": "2014",
                                    "1": "67"
                                },
                                {
                                    "0": "2015",
                                    "1": "86"
                                },
                                {
                                    "0": "2016",
                                    "1": "81"
                                }
                            ]
                        },
                        "text/html": [
                            "<table>",
                            "<tr><th>orderyear</th><th>numcusts</th></tr>",
                            "<tr><td>2014</td><td>67</td></tr>",
                            "<tr><td>2015</td><td>86</td></tr>",
                            "<tr><td>2016</td><td>81</td></tr>",
                            "</table>"
                        ]
                    }
                },
                {
                    "output_type": "execute_result",
                    "metadata": {},
                    "execution_count": 1,
                    "data": {
                        "application/vnd.dataresource+json": {
                            "schema": {
                                "fields": [
                                    {
                                        "name": "orderyear"
                                    },
                                    {
                                        "name": "numcusts"
                                    }
                                ]
                            },
                            "data": [
                                {
                                    "0": "2014",
                                    "1": "67"
                                },
                                {
                                    "0": "2015",
                                    "1": "86"
                                },
                                {
                                    "0": "2016",
                                    "1": "81"
                                }
                            ]
                        },
                        "text/html": [
                            "<table>",
                            "<tr><th>orderyear</th><th>numcusts</th></tr>",
                            "<tr><td>2014</td><td>67</td></tr>",
                            "<tr><td>2015</td><td>86</td></tr>",
                            "<tr><td>2016</td><td>81</td></tr>",
                            "</table>"
                        ]
                    }
                }
            ],
            "execution_count": 1
        },
        {
            "cell_type": "markdown",
            "source": [
                "**Query with Derived Table Using External Aliasing**\n",
                "\n",
                "Proposition: Return a count of distinct customers and the order year.\n",
                "\n",
                "It is more dfficult to debug."
            ],
            "metadata": {
                "language": "sql",
                "azdata_cell_guid": "7cb9698f-e751-4812-8b70-cf9d699873d2"
            },
            "attachments": {}
        },
        {
            "cell_type": "code",
            "source": [
                "Use Northwinds2022TSQLV7\r\n",
                "SELECT orderyear, COUNT(DISTINCT custid) AS numcusts\r\n",
                "FROM (SELECT YEAR(orderdate), customerId\r\n",
                "      FROM Sales.[Order]) AS D(orderyear, custid)\r\n",
                "GROUP BY orderyear;\r\n",
                ""
            ],
            "metadata": {
                "language": "sql",
                "azdata_cell_guid": "e96781a1-1a1a-4304-b71d-84a81cf04f8e"
            },
            "outputs": [
                {
                    "output_type": "display_data",
                    "data": {
                        "text/html": "(3 rows affected)"
                    },
                    "metadata": {}
                },
                {
                    "output_type": "display_data",
                    "data": {
                        "text/html": "Total execution time: 00:00:00.008"
                    },
                    "metadata": {}
                },
                {
                    "output_type": "execute_result",
                    "metadata": {},
                    "execution_count": 2,
                    "data": {
                        "application/vnd.dataresource+json": {
                            "schema": {
                                "fields": [
                                    {
                                        "name": "orderyear"
                                    },
                                    {
                                        "name": "numcusts"
                                    }
                                ]
                            },
                            "data": [
                                {
                                    "0": "2014",
                                    "1": "67"
                                },
                                {
                                    "0": "2015",
                                    "1": "86"
                                },
                                {
                                    "0": "2016",
                                    "1": "81"
                                }
                            ]
                        },
                        "text/html": [
                            "<table>",
                            "<tr><th>orderyear</th><th>numcusts</th></tr>",
                            "<tr><td>2014</td><td>67</td></tr>",
                            "<tr><td>2015</td><td>86</td></tr>",
                            "<tr><td>2016</td><td>81</td></tr>",
                            "</table>"
                        ]
                    }
                }
            ],
            "execution_count": 2
        },
        {
            "cell_type": "markdown",
            "source": [
                "**Using Arguments**\n",
                "\n",
                "Like local variables and input parameters to a routine procedure.\n",
                "\n",
                "Proposition: Return distinct number of customers and year that employeeID 3 helped."
            ],
            "metadata": {
                "language": "sql",
                "azdata_cell_guid": "a9b26cd4-e95e-404c-aece-8d6826d25229"
            },
            "attachments": {}
        },
        {
            "cell_type": "code",
            "source": [
                "Use Northwinds2022TSQLV7\r\n",
                "DECLARE @empid AS INT = 3;\r\n",
                "\r\n",
                "SELECT orderyear, COUNT(DISTINCT customerId) AS numcusts\r\n",
                "FROM (SELECT YEAR(orderdate) AS orderyear, customerId\r\n",
                "      FROM Sales.[Order]\r\n",
                "      WHERE EmployeeId = @empid) AS D\r\n",
                "GROUP BY orderyear;\r\n",
                ""
            ],
            "metadata": {
                "language": "sql",
                "azdata_cell_guid": "eee52e22-dc3e-4f87-9ada-903697312814",
                "tags": []
            },
            "outputs": [
                {
                    "output_type": "display_data",
                    "data": {
                        "text/html": "(3 rows affected)"
                    },
                    "metadata": {}
                },
                {
                    "output_type": "display_data",
                    "data": {
                        "text/html": "Total execution time: 00:00:00.020"
                    },
                    "metadata": {}
                },
                {
                    "output_type": "execute_result",
                    "metadata": {},
                    "execution_count": 3,
                    "data": {
                        "application/vnd.dataresource+json": {
                            "schema": {
                                "fields": [
                                    {
                                        "name": "orderyear"
                                    },
                                    {
                                        "name": "numcusts"
                                    }
                                ]
                            },
                            "data": [
                                {
                                    "0": "2014",
                                    "1": "16"
                                },
                                {
                                    "0": "2015",
                                    "1": "46"
                                },
                                {
                                    "0": "2016",
                                    "1": "30"
                                }
                            ]
                        },
                        "text/html": [
                            "<table>",
                            "<tr><th>orderyear</th><th>numcusts</th></tr>",
                            "<tr><td>2014</td><td>16</td></tr>",
                            "<tr><td>2015</td><td>46</td></tr>",
                            "<tr><td>2016</td><td>30</td></tr>",
                            "</table>"
                        ]
                    }
                }
            ],
            "execution_count": 3
        },
        {
            "cell_type": "markdown",
            "source": [
                "**Nesting**\n",
                "\n",
                "Tends to complicate the code and reduces readability.\n",
                "\n",
                "Proposition: Return order years and the number of customers handled in each year only for years in which more than 70 customers were handled"
            ],
            "metadata": {
                "language": "sql",
                "azdata_cell_guid": "f25375af-8145-4c24-8f54-f4b27f9f13ac"
            },
            "attachments": {}
        },
        {
            "cell_type": "code",
            "source": [
                "Use Northwinds2022TSQLV7\r\n",
                "SELECT orderyear, numcusts\r\n",
                "FROM (SELECT orderyear, COUNT(DISTINCT CustomerId) AS numcusts\r\n",
                "      FROM (SELECT YEAR(orderdate) AS orderyear, CustomerId\r\n",
                "            FROM Sales.[Order]) AS D1\r\n",
                "      GROUP BY orderyear) AS D2\r\n",
                "WHERE numcusts > 70;\r\n",
                "\r\n",
                "--The same result can be obtained by the following simpler, easier to read query:\r\n",
                "\r\n",
                "SELECT YEAR(orderdate) AS orderyear, COUNT(DISTINCT CustomerId) AS numcusts\r\n",
                "FROM Sales.[Order]\r\n",
                "GROUP BY YEAR(orderdate)\r\n",
                "HAVING COUNT(DISTINCT CustomerId) > 70;"
            ],
            "metadata": {
                "language": "sql",
                "azdata_cell_guid": "e5b05e76-4fcc-46a5-8355-878112ba95eb"
            },
            "outputs": [
                {
                    "output_type": "display_data",
                    "data": {
                        "text/html": "(2 rows affected)"
                    },
                    "metadata": {}
                },
                {
                    "output_type": "display_data",
                    "data": {
                        "text/html": "(2 rows affected)"
                    },
                    "metadata": {}
                },
                {
                    "output_type": "display_data",
                    "data": {
                        "text/html": "Total execution time: 00:00:00.020"
                    },
                    "metadata": {}
                },
                {
                    "output_type": "execute_result",
                    "metadata": {},
                    "execution_count": 4,
                    "data": {
                        "application/vnd.dataresource+json": {
                            "schema": {
                                "fields": [
                                    {
                                        "name": "orderyear"
                                    },
                                    {
                                        "name": "numcusts"
                                    }
                                ]
                            },
                            "data": [
                                {
                                    "0": "2015",
                                    "1": "86"
                                },
                                {
                                    "0": "2016",
                                    "1": "81"
                                }
                            ]
                        },
                        "text/html": [
                            "<table>",
                            "<tr><th>orderyear</th><th>numcusts</th></tr>",
                            "<tr><td>2015</td><td>86</td></tr>",
                            "<tr><td>2016</td><td>81</td></tr>",
                            "</table>"
                        ]
                    }
                },
                {
                    "output_type": "execute_result",
                    "metadata": {},
                    "execution_count": 4,
                    "data": {
                        "application/vnd.dataresource+json": {
                            "schema": {
                                "fields": [
                                    {
                                        "name": "orderyear"
                                    },
                                    {
                                        "name": "numcusts"
                                    }
                                ]
                            },
                            "data": [
                                {
                                    "0": "2015",
                                    "1": "86"
                                },
                                {
                                    "0": "2016",
                                    "1": "81"
                                }
                            ]
                        },
                        "text/html": [
                            "<table>",
                            "<tr><th>orderyear</th><th>numcusts</th></tr>",
                            "<tr><td>2015</td><td>86</td></tr>",
                            "<tr><td>2016</td><td>81</td></tr>",
                            "</table>"
                        ]
                    }
                }
            ],
            "execution_count": 4
        },
        {
            "cell_type": "markdown",
            "source": [
                "**Multiple References**\n",
                "\n",
                "This query joins two derived tables that are based on the same query. The join condition, Cur.orderyear = prv.orderyear+1 ensures that each year from the first derived table matches the previous year of the second.\n",
                "\n",
                "Proposition: Determine the amount of growth by calculating the difference in number of customers served in two consecutive years."
            ],
            "metadata": {
                "language": "sql",
                "azdata_cell_guid": "8822ca87-2a7a-4407-8462-bbe6c0b21ae5"
            },
            "attachments": {}
        },
        {
            "cell_type": "code",
            "source": [
                "Use Northwinds2022TSQLV7\r\n",
                "SELECT Cur.orderyear, \r\n",
                "  Cur.numcusts AS curnumcusts, Prv.numcusts AS prvnumcusts,\r\n",
                "  Cur.numcusts - Prv.numcusts AS growth\r\n",
                "FROM (SELECT YEAR(orderdate) AS orderyear,\r\n",
                "        COUNT(DISTINCT CustomerId) AS numcusts\r\n",
                "      FROM Sales.[Order]\r\n",
                "      GROUP BY YEAR(orderdate)) AS Cur\r\n",
                "  LEFT OUTER JOIN\r\n",
                "     (SELECT YEAR(orderdate) AS orderyear,\r\n",
                "        COUNT(DISTINCT CustomerId) AS numcusts\r\n",
                "      FROM Sales.[Order]\r\n",
                "      GROUP BY YEAR(orderdate)) AS Prv\r\n",
                "    ON Cur.orderyear = Prv.orderyear + 1;\r\n",
                "\r\n",
                "--Because we cannot refer to multiple instances of the same dervied table in the same join forces you to maintain multple copies of the same query definition. This is lengthy and prone to errors.\r\n",
                ""
            ],
            "metadata": {
                "language": "sql",
                "azdata_cell_guid": "629d4e97-1b2a-4b2d-b76c-17beb51bd791"
            },
            "outputs": [
                {
                    "output_type": "display_data",
                    "data": {
                        "text/html": "(3 rows affected)"
                    },
                    "metadata": {}
                },
                {
                    "output_type": "display_data",
                    "data": {
                        "text/html": "Total execution time: 00:00:00.020"
                    },
                    "metadata": {}
                },
                {
                    "output_type": "execute_result",
                    "metadata": {},
                    "execution_count": 5,
                    "data": {
                        "application/vnd.dataresource+json": {
                            "schema": {
                                "fields": [
                                    {
                                        "name": "orderyear"
                                    },
                                    {
                                        "name": "curnumcusts"
                                    },
                                    {
                                        "name": "prvnumcusts"
                                    },
                                    {
                                        "name": "growth"
                                    }
                                ]
                            },
                            "data": [
                                {
                                    "0": "2014",
                                    "1": "67",
                                    "2": "NULL",
                                    "3": "NULL"
                                },
                                {
                                    "0": "2015",
                                    "1": "86",
                                    "2": "67",
                                    "3": "19"
                                },
                                {
                                    "0": "2016",
                                    "1": "81",
                                    "2": "86",
                                    "3": "-5"
                                }
                            ]
                        },
                        "text/html": [
                            "<table>",
                            "<tr><th>orderyear</th><th>curnumcusts</th><th>prvnumcusts</th><th>growth</th></tr>",
                            "<tr><td>2014</td><td>67</td><td>NULL</td><td>NULL</td></tr>",
                            "<tr><td>2015</td><td>86</td><td>67</td><td>19</td></tr>",
                            "<tr><td>2016</td><td>81</td><td>86</td><td>-5</td></tr>",
                            "</table>"
                        ]
                    }
                }
            ],
            "execution_count": 5
        },
        {
            "cell_type": "markdown",
            "source": [
                "**Common Table Expressions (CTE)**\n",
                "\n",
                "  \n",
                "\n",
                "CTE has more advantages than the derived tables. It starts with the WITH statement. \n",
                "\n",
                "  \n",
                "\n",
                "Proposition: Return all customers from the US."
            ],
            "metadata": {
                "language": "sql",
                "azdata_cell_guid": "9f09238e-c548-4b71-ac79-61ce007c2a49"
            },
            "attachments": {}
        },
        {
            "cell_type": "code",
            "source": [
                "Use Northwinds2022TSQLV7;\r\n",
                "WITH USACusts AS\r\n",
                "(\r\n",
                "  SELECT CustomerId, CustomerCompanyname\r\n",
                "  FROM Sales.Customer\r\n",
                "  WHERE CustomerCountry = N'USA'\r\n",
                ")\r\n",
                "SELECT * FROM USACusts;\r\n",
                "\r\n",
                "--The table name comes before AS. The CTE is defined first then the outer query is written afterwards. "
            ],
            "metadata": {
                "language": "sql",
                "azdata_cell_guid": "3dcb12d1-75a7-440c-8a54-2f7cc9c74080"
            },
            "outputs": [
                {
                    "output_type": "display_data",
                    "data": {
                        "text/html": "(13 rows affected)"
                    },
                    "metadata": {}
                },
                {
                    "output_type": "display_data",
                    "data": {
                        "text/html": "Total execution time: 00:00:00.013"
                    },
                    "metadata": {}
                },
                {
                    "output_type": "execute_result",
                    "metadata": {},
                    "execution_count": 7,
                    "data": {
                        "application/vnd.dataresource+json": {
                            "schema": {
                                "fields": [
                                    {
                                        "name": "CustomerId"
                                    },
                                    {
                                        "name": "CustomerCompanyname"
                                    }
                                ]
                            },
                            "data": [
                                {
                                    "0": "32",
                                    "1": "Customer YSIQX"
                                },
                                {
                                    "0": "36",
                                    "1": "Customer LVJSO"
                                },
                                {
                                    "0": "43",
                                    "1": "Customer UISOJ"
                                },
                                {
                                    "0": "45",
                                    "1": "Customer QXPPT"
                                },
                                {
                                    "0": "48",
                                    "1": "Customer DVFMB"
                                },
                                {
                                    "0": "55",
                                    "1": "Customer KZQZT"
                                },
                                {
                                    "0": "65",
                                    "1": "Customer NYUHS"
                                },
                                {
                                    "0": "71",
                                    "1": "Customer LCOUJ"
                                },
                                {
                                    "0": "75",
                                    "1": "Customer XOJYP"
                                },
                                {
                                    "0": "77",
                                    "1": "Customer LCYBZ"
                                },
                                {
                                    "0": "78",
                                    "1": "Customer NLTYP"
                                },
                                {
                                    "0": "82",
                                    "1": "Customer EYHKM"
                                },
                                {
                                    "0": "89",
                                    "1": "Customer YBQTI"
                                }
                            ]
                        },
                        "text/html": [
                            "<table>",
                            "<tr><th>CustomerId</th><th>CustomerCompanyname</th></tr>",
                            "<tr><td>32</td><td>Customer YSIQX</td></tr>",
                            "<tr><td>36</td><td>Customer LVJSO</td></tr>",
                            "<tr><td>43</td><td>Customer UISOJ</td></tr>",
                            "<tr><td>45</td><td>Customer QXPPT</td></tr>",
                            "<tr><td>48</td><td>Customer DVFMB</td></tr>",
                            "<tr><td>55</td><td>Customer KZQZT</td></tr>",
                            "<tr><td>65</td><td>Customer NYUHS</td></tr>",
                            "<tr><td>71</td><td>Customer LCOUJ</td></tr>",
                            "<tr><td>75</td><td>Customer XOJYP</td></tr>",
                            "<tr><td>77</td><td>Customer LCYBZ</td></tr>",
                            "<tr><td>78</td><td>Customer NLTYP</td></tr>",
                            "<tr><td>82</td><td>Customer EYHKM</td></tr>",
                            "<tr><td>89</td><td>Customer YBQTI</td></tr>",
                            "</table>"
                        ]
                    }
                }
            ],
            "execution_count": 7
        },
        {
            "cell_type": "markdown",
            "source": [
                "**CTE: Assigning Column Aliases**\n",
                "\n",
                "Proposition: Return a count of distinct customers and the order year."
            ],
            "metadata": {
                "language": "sql",
                "azdata_cell_guid": "6b4bc7df-ca27-42ee-9858-9b9b24085fac"
            },
            "attachments": {}
        },
        {
            "cell_type": "code",
            "source": [
                "Use Northwinds2022TSQLV7;\r\n",
                "-- Inline column aliasing\r\n",
                "WITH C AS\r\n",
                "(\r\n",
                "  SELECT YEAR(orderdate) AS orderyear, CustomerId\r\n",
                "  FROM Sales.[Order]\r\n",
                ")\r\n",
                "SELECT orderyear, COUNT(DISTINCT CustomerId) AS numcusts\r\n",
                "FROM C\r\n",
                "GROUP BY orderyear;\r\n",
                "\r\n",
                "-- External column aliasing\r\n",
                "WITH C(orderyear, custid) AS\r\n",
                "(\r\n",
                "  SELECT YEAR(orderdate), CustomerId\r\n",
                "  FROM Sales.[Order]\r\n",
                ")\r\n",
                "SELECT orderyear, COUNT(DISTINCT custid) AS numcusts\r\n",
                "FROM C\r\n",
                "GROUP BY orderyear;\r\n",
                ""
            ],
            "metadata": {
                "language": "sql",
                "azdata_cell_guid": "6f99286f-dad1-4cf6-9189-7228deb61c1c",
                "tags": []
            },
            "outputs": [
                {
                    "output_type": "display_data",
                    "data": {
                        "text/html": "(3 rows affected)"
                    },
                    "metadata": {}
                },
                {
                    "output_type": "display_data",
                    "data": {
                        "text/html": "(3 rows affected)"
                    },
                    "metadata": {}
                },
                {
                    "output_type": "display_data",
                    "data": {
                        "text/html": "Total execution time: 00:00:00.012"
                    },
                    "metadata": {}
                },
                {
                    "output_type": "execute_result",
                    "metadata": {},
                    "execution_count": 8,
                    "data": {
                        "application/vnd.dataresource+json": {
                            "schema": {
                                "fields": [
                                    {
                                        "name": "orderyear"
                                    },
                                    {
                                        "name": "numcusts"
                                    }
                                ]
                            },
                            "data": [
                                {
                                    "0": "2014",
                                    "1": "67"
                                },
                                {
                                    "0": "2015",
                                    "1": "86"
                                },
                                {
                                    "0": "2016",
                                    "1": "81"
                                }
                            ]
                        },
                        "text/html": [
                            "<table>",
                            "<tr><th>orderyear</th><th>numcusts</th></tr>",
                            "<tr><td>2014</td><td>67</td></tr>",
                            "<tr><td>2015</td><td>86</td></tr>",
                            "<tr><td>2016</td><td>81</td></tr>",
                            "</table>"
                        ]
                    }
                },
                {
                    "output_type": "execute_result",
                    "metadata": {},
                    "execution_count": 8,
                    "data": {
                        "application/vnd.dataresource+json": {
                            "schema": {
                                "fields": [
                                    {
                                        "name": "orderyear"
                                    },
                                    {
                                        "name": "numcusts"
                                    }
                                ]
                            },
                            "data": [
                                {
                                    "0": "2014",
                                    "1": "67"
                                },
                                {
                                    "0": "2015",
                                    "1": "86"
                                },
                                {
                                    "0": "2016",
                                    "1": "81"
                                }
                            ]
                        },
                        "text/html": [
                            "<table>",
                            "<tr><th>orderyear</th><th>numcusts</th></tr>",
                            "<tr><td>2014</td><td>67</td></tr>",
                            "<tr><td>2015</td><td>86</td></tr>",
                            "<tr><td>2016</td><td>81</td></tr>",
                            "</table>"
                        ]
                    }
                }
            ],
            "execution_count": 8
        },
        {
            "cell_type": "markdown",
            "source": [
                "**CTE: Using Arguments**\n",
                "\n",
                "Proposition: Return distinct number of customers and year that employeeID 3 helped."
            ],
            "metadata": {
                "azdata_cell_guid": "0c8733df-00ef-4acb-ac8e-51fc0ad42b66"
            },
            "attachments": {}
        },
        {
            "cell_type": "code",
            "source": [
                "Use Northwinds2022TSQLV7;\r\n",
                "DECLARE @empid AS INT = 3;\r\n",
                "WITH C AS\r\n",
                "(\r\n",
                "  SELECT YEAR(orderdate) AS orderyear, CustomerId\r\n",
                "  FROM Sales.[Order]\r\n",
                "  WHERE EmployeeId = @empid\r\n",
                ")\r\n",
                "SELECT orderyear, COUNT(DISTINCT CustomerId) AS numcusts\r\n",
                "FROM C\r\n",
                "GROUP BY orderyear;"
            ],
            "metadata": {
                "azdata_cell_guid": "b6df6d72-d573-4503-bdc4-76fdb4807c05",
                "language": "sql"
            },
            "outputs": [
                {
                    "output_type": "display_data",
                    "data": {
                        "text/html": "(3 rows affected)"
                    },
                    "metadata": {}
                },
                {
                    "output_type": "display_data",
                    "data": {
                        "text/html": "Total execution time: 00:00:00.008"
                    },
                    "metadata": {}
                },
                {
                    "output_type": "execute_result",
                    "metadata": {},
                    "execution_count": 9,
                    "data": {
                        "application/vnd.dataresource+json": {
                            "schema": {
                                "fields": [
                                    {
                                        "name": "orderyear"
                                    },
                                    {
                                        "name": "numcusts"
                                    }
                                ]
                            },
                            "data": [
                                {
                                    "0": "2014",
                                    "1": "16"
                                },
                                {
                                    "0": "2015",
                                    "1": "46"
                                },
                                {
                                    "0": "2016",
                                    "1": "30"
                                }
                            ]
                        },
                        "text/html": [
                            "<table>",
                            "<tr><th>orderyear</th><th>numcusts</th></tr>",
                            "<tr><td>2014</td><td>16</td></tr>",
                            "<tr><td>2015</td><td>46</td></tr>",
                            "<tr><td>2016</td><td>30</td></tr>",
                            "</table>"
                        ]
                    }
                }
            ],
            "execution_count": 9
        },
        {
            "cell_type": "markdown",
            "source": [
                "**Defining Multiple CTEs**\n",
                "\n",
                "You do not nest the CTEs. You separate them by commas. Each CTE can refer to all previous CTE and the outer query can refer to all CTEs. This improves readability and maintainability\n",
                "\n",
                "Proposition: Return order years and the number of customers handled in each year only for years in which more than 70 customers were handled"
            ],
            "metadata": {
                "language": "sql",
                "azdata_cell_guid": "748952b0-5371-48f0-a803-fc281a4026db"
            },
            "attachments": {}
        },
        {
            "cell_type": "code",
            "source": [
                "Use Northwinds2022TSQLV7;\r\n",
                "WITH C1 AS\r\n",
                "(\r\n",
                "  SELECT YEAR(orderdate) AS orderyear, CustomerId\r\n",
                "  FROM Sales.[Order]\r\n",
                "),\r\n",
                "C2 AS\r\n",
                "(\r\n",
                "  SELECT orderyear, COUNT(DISTINCT CustomerId) AS numcusts\r\n",
                "  FROM C1\r\n",
                "  GROUP BY orderyear\r\n",
                ")\r\n",
                "SELECT orderyear, numcusts\r\n",
                "FROM C2\r\n",
                "WHERE numcusts > 70;"
            ],
            "metadata": {
                "language": "sql",
                "azdata_cell_guid": "8b72e9e5-dd14-45f7-8447-e39544ad421c"
            },
            "outputs": [
                {
                    "output_type": "display_data",
                    "data": {
                        "text/html": "(2 rows affected)"
                    },
                    "metadata": {}
                },
                {
                    "output_type": "display_data",
                    "data": {
                        "text/html": "Total execution time: 00:00:00.008"
                    },
                    "metadata": {}
                },
                {
                    "output_type": "execute_result",
                    "metadata": {},
                    "execution_count": 10,
                    "data": {
                        "application/vnd.dataresource+json": {
                            "schema": {
                                "fields": [
                                    {
                                        "name": "orderyear"
                                    },
                                    {
                                        "name": "numcusts"
                                    }
                                ]
                            },
                            "data": [
                                {
                                    "0": "2015",
                                    "1": "86"
                                },
                                {
                                    "0": "2016",
                                    "1": "81"
                                }
                            ]
                        },
                        "text/html": [
                            "<table>",
                            "<tr><th>orderyear</th><th>numcusts</th></tr>",
                            "<tr><td>2015</td><td>86</td></tr>",
                            "<tr><td>2016</td><td>81</td></tr>",
                            "</table>"
                        ]
                    }
                }
            ],
            "execution_count": 10
        },
        {
            "cell_type": "markdown",
            "source": [
                "**CTE: Multiple References**\n",
                "\n",
                "Once CTE is created, you can refer to it multple times.\n",
                "\n",
                "Proposition: Determine the amount of growth by calculating the difference in number of customers served in two consecutive years."
            ],
            "metadata": {
                "language": "sql",
                "azdata_cell_guid": "344c5214-6408-46f5-a395-f285dc07800e"
            },
            "attachments": {}
        },
        {
            "cell_type": "code",
            "source": [
                "Use Northwinds2022TSQLV7;\r\n",
                "WITH YearlyCount AS\r\n",
                "(\r\n",
                "  SELECT YEAR(orderdate) AS orderyear,\r\n",
                "    COUNT(DISTINCT CustomerId) AS numcusts\r\n",
                "  FROM Sales.[Order]\r\n",
                "  GROUP BY YEAR(orderdate)\r\n",
                ")\r\n",
                "SELECT Cur.orderyear, \r\n",
                "  Cur.numcusts AS curnumcusts, Prv.numcusts AS prvnumcusts,\r\n",
                "  Cur.numcusts - Prv.numcusts AS growth\r\n",
                "FROM YearlyCount AS Cur\r\n",
                "  LEFT OUTER JOIN YearlyCount AS Prv\r\n",
                "    ON Cur.orderyear = Prv.orderyear + 1;"
            ],
            "metadata": {
                "language": "sql",
                "azdata_cell_guid": "f6c97933-7cd7-45b7-ba21-4336699f9fb4"
            },
            "outputs": [
                {
                    "output_type": "display_data",
                    "data": {
                        "text/html": "(3 rows affected)"
                    },
                    "metadata": {}
                },
                {
                    "output_type": "display_data",
                    "data": {
                        "text/html": "Total execution time: 00:00:00.016"
                    },
                    "metadata": {}
                },
                {
                    "output_type": "execute_result",
                    "metadata": {},
                    "execution_count": 11,
                    "data": {
                        "application/vnd.dataresource+json": {
                            "schema": {
                                "fields": [
                                    {
                                        "name": "orderyear"
                                    },
                                    {
                                        "name": "curnumcusts"
                                    },
                                    {
                                        "name": "prvnumcusts"
                                    },
                                    {
                                        "name": "growth"
                                    }
                                ]
                            },
                            "data": [
                                {
                                    "0": "2014",
                                    "1": "67",
                                    "2": "NULL",
                                    "3": "NULL"
                                },
                                {
                                    "0": "2015",
                                    "1": "86",
                                    "2": "67",
                                    "3": "19"
                                },
                                {
                                    "0": "2016",
                                    "1": "81",
                                    "2": "86",
                                    "3": "-5"
                                }
                            ]
                        },
                        "text/html": [
                            "<table>",
                            "<tr><th>orderyear</th><th>curnumcusts</th><th>prvnumcusts</th><th>growth</th></tr>",
                            "<tr><td>2014</td><td>67</td><td>NULL</td><td>NULL</td></tr>",
                            "<tr><td>2015</td><td>86</td><td>67</td><td>19</td></tr>",
                            "<tr><td>2016</td><td>81</td><td>86</td><td>-5</td></tr>",
                            "</table>"
                        ]
                    }
                }
            ],
            "execution_count": 11
        },
        {
            "cell_type": "markdown",
            "source": [
                "**Recursive CTEs**\n",
                "\n",
                "It is like a for-loop. You union anchor member with a recursive member.  Anchor member is a valid relational result. Recursive member defines the termination condition.\n",
                "\n",
                "Proposition: Return employee 2 and all the employee's subordinates."
            ],
            "metadata": {
                "language": "sql",
                "azdata_cell_guid": "298564d0-f989-4f80-a841-6404ce56c63f"
            },
            "attachments": {}
        },
        {
            "cell_type": "code",
            "source": [
                "Use Northwinds2022TSQLV7;\r\n",
                "WITH EmpsCTE AS\r\n",
                "(\r\n",
                "  SELECT EmployeeId, EmployeeManagerId, Employeefirstname, EmployeeLastname\r\n",
                "  FROM HumanResources.Employee\r\n",
                "  WHERE EmployeeId = 2\r\n",
                "  \r\n",
                "  UNION ALL\r\n",
                "  \r\n",
                "  SELECT C.EmployeeId, C.EmployeeManagerId, C.Employeefirstname, C.EmployeeLastname\r\n",
                "  FROM EmpsCTE AS P\r\n",
                "    INNER JOIN HumanResources.Employee AS C\r\n",
                "      ON C.EmployeeManagerId = P.EmployeeId\r\n",
                ")\r\n",
                "SELECT EmployeeId, EmployeeManagerId, Employeefirstname, EmployeeLastname\r\n",
                "FROM EmpsCTE;\r\n",
                ""
            ],
            "metadata": {
                "language": "sql",
                "azdata_cell_guid": "6d4f7acb-d07b-400d-9c25-45482f29c888"
            },
            "outputs": [
                {
                    "output_type": "display_data",
                    "data": {
                        "text/html": "(8 rows affected)"
                    },
                    "metadata": {}
                },
                {
                    "output_type": "display_data",
                    "data": {
                        "text/html": "Total execution time: 00:00:00.014"
                    },
                    "metadata": {}
                },
                {
                    "output_type": "execute_result",
                    "metadata": {},
                    "execution_count": 12,
                    "data": {
                        "application/vnd.dataresource+json": {
                            "schema": {
                                "fields": [
                                    {
                                        "name": "EmployeeId"
                                    },
                                    {
                                        "name": "EmployeeManagerId"
                                    },
                                    {
                                        "name": "Employeefirstname"
                                    },
                                    {
                                        "name": "EmployeeLastname"
                                    }
                                ]
                            },
                            "data": [
                                {
                                    "0": "2",
                                    "1": "1",
                                    "2": "Don",
                                    "3": "Funk"
                                },
                                {
                                    "0": "3",
                                    "1": "2",
                                    "2": "Judy",
                                    "3": "Lew"
                                },
                                {
                                    "0": "5",
                                    "1": "2",
                                    "2": "Sven",
                                    "3": "Mortensen"
                                },
                                {
                                    "0": "6",
                                    "1": "5",
                                    "2": "Paul",
                                    "3": "Suurs"
                                },
                                {
                                    "0": "7",
                                    "1": "5",
                                    "2": "Russell",
                                    "3": "King"
                                },
                                {
                                    "0": "9",
                                    "1": "5",
                                    "2": "Patricia",
                                    "3": "Doyle"
                                },
                                {
                                    "0": "4",
                                    "1": "3",
                                    "2": "Yael",
                                    "3": "Peled"
                                },
                                {
                                    "0": "8",
                                    "1": "3",
                                    "2": "Maria",
                                    "3": "Cameron"
                                }
                            ]
                        },
                        "text/html": [
                            "<table>",
                            "<tr><th>EmployeeId</th><th>EmployeeManagerId</th><th>Employeefirstname</th><th>EmployeeLastname</th></tr>",
                            "<tr><td>2</td><td>1</td><td>Don</td><td>Funk</td></tr>",
                            "<tr><td>3</td><td>2</td><td>Judy</td><td>Lew</td></tr>",
                            "<tr><td>5</td><td>2</td><td>Sven</td><td>Mortensen</td></tr>",
                            "<tr><td>6</td><td>5</td><td>Paul</td><td>Suurs</td></tr>",
                            "<tr><td>7</td><td>5</td><td>Russell</td><td>King</td></tr>",
                            "<tr><td>9</td><td>5</td><td>Patricia</td><td>Doyle</td></tr>",
                            "<tr><td>4</td><td>3</td><td>Yael</td><td>Peled</td></tr>",
                            "<tr><td>8</td><td>3</td><td>Maria</td><td>Cameron</td></tr>",
                            "</table>"
                        ]
                    }
                }
            ],
            "execution_count": 12
        },
        {
            "cell_type": "markdown",
            "source": [
                "**Views**\n",
                "\n",
                "They are stored as permanent objects in the databse, making them reusable. You can manage access.\n",
                "\n",
                "Proposition: Return all customers from United States"
            ],
            "metadata": {
                "azdata_cell_guid": "0487c602-2515-4986-9ee0-ae4ac975ca9c"
            },
            "attachments": {}
        },
        {
            "cell_type": "code",
            "source": [
                "Use Northwinds2022TSQLV7;\r\n",
                "-- Creating USACusts View\r\n",
                "DROP VIEW IF EXISTS Sales.USACusts;\r\n",
                "GO\r\n",
                "CREATE VIEW Sales.USACusts\r\n",
                "AS\r\n",
                "\r\n",
                "SELECT\r\n",
                "  CustomerId, Customercompanyname, Customercontactname, Customercontacttitle, Customeraddress,\r\n",
                "  Customercity, CustomerRegion, CustomerPostalcode, CustomerCountry, CustomerPhoneNumber, CustomerFaxNumber\r\n",
                "FROM Sales.Customer\r\n",
                "WHERE CustomerCountry = N'USA';\r\n",
                "GO\r\n",
                "\r\n",
                "--Using stored views\r\n",
                "SELECT Customerid, CustomerCompanyname\r\n",
                "FROM Sales.USACusts;\r\n",
                "GO"
            ],
            "metadata": {
                "azdata_cell_guid": "9703e100-4fe3-4711-a31d-9818d350f0f6",
                "language": "sql"
            },
            "outputs": [
                {
                    "output_type": "display_data",
                    "data": {
                        "text/html": "Commands completed successfully."
                    },
                    "metadata": {}
                },
                {
                    "output_type": "display_data",
                    "data": {
                        "text/html": "Commands completed successfully."
                    },
                    "metadata": {}
                },
                {
                    "output_type": "display_data",
                    "data": {
                        "text/html": "(13 rows affected)"
                    },
                    "metadata": {}
                },
                {
                    "output_type": "display_data",
                    "data": {
                        "text/html": "Total execution time: 00:00:00.026"
                    },
                    "metadata": {}
                },
                {
                    "output_type": "execute_result",
                    "metadata": {},
                    "execution_count": 13,
                    "data": {
                        "application/vnd.dataresource+json": {
                            "schema": {
                                "fields": [
                                    {
                                        "name": "Customerid"
                                    },
                                    {
                                        "name": "CustomerCompanyname"
                                    }
                                ]
                            },
                            "data": [
                                {
                                    "0": "32",
                                    "1": "Customer YSIQX"
                                },
                                {
                                    "0": "36",
                                    "1": "Customer LVJSO"
                                },
                                {
                                    "0": "43",
                                    "1": "Customer UISOJ"
                                },
                                {
                                    "0": "45",
                                    "1": "Customer QXPPT"
                                },
                                {
                                    "0": "48",
                                    "1": "Customer DVFMB"
                                },
                                {
                                    "0": "55",
                                    "1": "Customer KZQZT"
                                },
                                {
                                    "0": "65",
                                    "1": "Customer NYUHS"
                                },
                                {
                                    "0": "71",
                                    "1": "Customer LCOUJ"
                                },
                                {
                                    "0": "75",
                                    "1": "Customer XOJYP"
                                },
                                {
                                    "0": "77",
                                    "1": "Customer LCYBZ"
                                },
                                {
                                    "0": "78",
                                    "1": "Customer NLTYP"
                                },
                                {
                                    "0": "82",
                                    "1": "Customer EYHKM"
                                },
                                {
                                    "0": "89",
                                    "1": "Customer YBQTI"
                                }
                            ]
                        },
                        "text/html": [
                            "<table>",
                            "<tr><th>Customerid</th><th>CustomerCompanyname</th></tr>",
                            "<tr><td>32</td><td>Customer YSIQX</td></tr>",
                            "<tr><td>36</td><td>Customer LVJSO</td></tr>",
                            "<tr><td>43</td><td>Customer UISOJ</td></tr>",
                            "<tr><td>45</td><td>Customer QXPPT</td></tr>",
                            "<tr><td>48</td><td>Customer DVFMB</td></tr>",
                            "<tr><td>55</td><td>Customer KZQZT</td></tr>",
                            "<tr><td>65</td><td>Customer NYUHS</td></tr>",
                            "<tr><td>71</td><td>Customer LCOUJ</td></tr>",
                            "<tr><td>75</td><td>Customer XOJYP</td></tr>",
                            "<tr><td>77</td><td>Customer LCYBZ</td></tr>",
                            "<tr><td>78</td><td>Customer NLTYP</td></tr>",
                            "<tr><td>82</td><td>Customer EYHKM</td></tr>",
                            "<tr><td>89</td><td>Customer YBQTI</td></tr>",
                            "</table>"
                        ]
                    }
                }
            ],
            "execution_count": 13
        },
        {
            "cell_type": "markdown",
            "source": [
                "**ORDER BY in a View is not Allowed**\n",
                "\n",
                "Proposition: Return all customers from United States"
            ],
            "metadata": {
                "language": "sql",
                "azdata_cell_guid": "85107377-8aa1-41ad-8f54-7be71f35ee73"
            },
            "attachments": {}
        },
        {
            "cell_type": "code",
            "source": [
                "--Instead, use ORDER BY in the outer query.\r\n",
                "Use Northwinds2022TSQLV7;\r\n",
                "SELECT CustomerId, Customercompanyname, Customerregion\r\n",
                "FROM Sales.USACusts\r\n",
                "ORDER BY Customerregion;\r\n",
                "\r\n",
                "--You can create the view with ORDER BY by adding TOP or OFFSET FETCH. But the order is not guaranteed.\r\n",
                ""
            ],
            "metadata": {
                "language": "sql",
                "azdata_cell_guid": "5038e6b8-ed3d-47f4-b7ea-aa6f0c8fc585"
            },
            "outputs": [],
            "execution_count": null
        },
        {
            "cell_type": "markdown",
            "source": [
                "**View Options: ENCRYPTION**\n",
                "\n",
                "The obfuscated text is not directly visible to users through any of the catalog objects- only to privileged users.\n",
                "\n",
                "Proposition: Return USA customers"
            ],
            "metadata": {
                "language": "sql",
                "azdata_cell_guid": "4dda5f6a-3b87-4c37-8e2f-3927633db448"
            },
            "attachments": {}
        },
        {
            "cell_type": "code",
            "source": [
                "--The following meta data function is available becauses this view was created without encryption. It displays the definition of the view.\r\n",
                "SELECT OBJECT_DEFINITION(OBJECT_ID('Sales.USACusts'));\r\n",
                "GO\r\n",
                "\r\n",
                "--now, adding encryption\r\n",
                "ALTER VIEW Sales.USACusts WITH ENCRYPTION\r\n",
                "AS\r\n",
                "\r\n",
                "SELECT\r\n",
                "  CustomerId, Customercompanyname, Customercontactname, Customercontacttitle, Customeraddress,\r\n",
                "  Customercity, CustomerRegion, CustomerPostalcode, CustomerCountry, CustomerPhoneNumber, CustomerFaxNumber\r\n",
                "FROM Sales.Customer\r\n",
                "WHERE CustomerCountry = N'USA';\r\n",
                "GO\r\n",
                "\r\n",
                "--Try running the same function. It won't work. It only displays NULL.\r\n",
                "SELECT OBJECT_DEFINITION(OBJECT_ID('Sales.USACusts'));\r\n",
                "\r\n",
                "EXEC sp_helptext 'Sales.USACusts';--This will explain that the view is encrypted."
            ],
            "metadata": {
                "language": "sql",
                "azdata_cell_guid": "44ecc199-bd4c-42c0-b513-d4ddfc3651ca"
            },
            "outputs": [
                {
                    "output_type": "display_data",
                    "data": {
                        "text/html": "(1 row affected)"
                    },
                    "metadata": {}
                },
                {
                    "output_type": "display_data",
                    "data": {
                        "text/html": "Commands completed successfully."
                    },
                    "metadata": {}
                },
                {
                    "output_type": "display_data",
                    "data": {
                        "text/html": "(1 row affected)"
                    },
                    "metadata": {}
                },
                {
                    "output_type": "display_data",
                    "data": {
                        "text/html": "The text for object 'Sales.USACusts' is encrypted."
                    },
                    "metadata": {}
                },
                {
                    "output_type": "display_data",
                    "data": {
                        "text/html": "Total execution time: 00:00:00.127"
                    },
                    "metadata": {}
                },
                {
                    "output_type": "execute_result",
                    "metadata": {},
                    "execution_count": 14,
                    "data": {
                        "application/vnd.dataresource+json": {
                            "schema": {
                                "fields": [
                                    {
                                        "name": "(No column name)"
                                    }
                                ]
                            },
                            "data": [
                                {
                                    "0": "CREATE VIEW Sales.USACusts\r\nAS\r\n\r\nSELECT\r\n  CustomerId, Customercompanyname, Customercontactname, Customercontacttitle, Customeraddress,\r\n  Customercity, CustomerRegion, CustomerPostalcode, CustomerCountry, CustomerPhoneNumber, CustomerFaxNumber\r\nFROM Sales.Customer\r\nWHERE CustomerCountry = N'USA';\r\n"
                                }
                            ]
                        },
                        "text/html": [
                            "<table>",
                            "<tr><th>(No column name)</th></tr>",
                            "<tr><td>CREATE VIEW Sales.USACusts\r\nAS\r\n\r\nSELECT\r\n  CustomerId, Customercompanyname, Customercontactname, Customercontacttitle, Customeraddress,\r\n  Customercity, CustomerRegion, CustomerPostalcode, CustomerCountry, CustomerPhoneNumber, CustomerFaxNumber\r\nFROM Sales.Customer\r\nWHERE CustomerCountry = N'USA';\r\n</td></tr>",
                            "</table>"
                        ]
                    }
                },
                {
                    "output_type": "execute_result",
                    "metadata": {},
                    "execution_count": 14,
                    "data": {
                        "application/vnd.dataresource+json": {
                            "schema": {
                                "fields": [
                                    {
                                        "name": "(No column name)"
                                    }
                                ]
                            },
                            "data": [
                                {
                                    "0": "NULL"
                                }
                            ]
                        },
                        "text/html": [
                            "<table>",
                            "<tr><th>(No column name)</th></tr>",
                            "<tr><td>NULL</td></tr>",
                            "</table>"
                        ]
                    }
                }
            ],
            "execution_count": 14
        },
        {
            "cell_type": "markdown",
            "source": [
                "**View Options: SCHEMABINDING**\n",
                "\n",
                "It binds the schema of referenced objects and columns to the schema of the referencing object. It indicates that referenced objects cannot be dropped or altered. This is a good practice.\n",
                "\n",
                "Proposition: Return USA customers"
            ],
            "metadata": {
                "azdata_cell_guid": "0df865a8-003d-43bb-9172-78a255e4d756"
            },
            "attachments": {}
        },
        {
            "cell_type": "code",
            "source": [
                "ALTER VIEW Sales.USACusts WITH SCHEMABINDING\r\n",
                "AS\r\n",
                "\r\n",
                "SELECT\r\n",
                "  CustomerId, Customercompanyname, Customercontactname, Customercontacttitle, Customeraddress,\r\n",
                "  Customercity, CustomerRegion, CustomerPostalcode, CustomerCountry, CustomerPhoneNumber, CustomerFaxNumber\r\n",
                "FROM Sales.Customer\r\n",
                "WHERE CustomerCountry = N'USA';\r\n",
                "GO\r\n",
                "\r\n",
                "--Now, you wont be able to drop or alter the view.\r\n",
                "ALTER TABLE Sales.Customers DROP COLUMN address;"
            ],
            "metadata": {
                "azdata_cell_guid": "75ded0f4-6747-41e0-8174-42e389c3bf5e",
                "language": "sql"
            },
            "outputs": [
                {
                    "output_type": "display_data",
                    "data": {
                        "text/html": "Commands completed successfully."
                    },
                    "metadata": {}
                },
                {
                    "output_type": "error",
                    "evalue": "Msg 4902, Level 16, State 1, Line 12\r\nCannot find the object \"Sales.Customers\" because it does not exist or you do not have permissions.",
                    "ename": "",
                    "traceback": []
                },
                {
                    "output_type": "display_data",
                    "data": {
                        "text/html": "Total execution time: 00:00:00.024"
                    },
                    "metadata": {}
                }
            ],
            "execution_count": 15
        },
        {
            "cell_type": "markdown",
            "source": [
                "**View Options: CHECK OPTIONS**\n",
                "\n",
                "It prevents modifications through the view that conflict with the view's filter.\n",
                "\n",
                "Proposition: Return USA customers"
            ],
            "metadata": {
                "language": "sql",
                "azdata_cell_guid": "fa1483db-af14-4447-a9f6-81a5c2b11320"
            },
            "attachments": {}
        },
        {
            "cell_type": "code",
            "source": [
                "use Northwinds2022TSQLV7;\r\n",
                "-- Notice that you can insert a row through the view\r\n",
                "INSERT INTO Sales.USACusts(\r\n",
                "  Customercompanyname, Customercontactname, Customercontacttitle, Customeraddress,\r\n",
                "  Customercity, CustomerRegion, CustomerPostalcode, CustomerCountry, CustomerPhoneNumber, CustomerFaxNumber)\r\n",
                " VALUES(\r\n",
                "  N'Customer ABCDE', N'Contact ABCDE', N'Title ABCDE', N'Address ABCDE',\r\n",
                "  N'London', NULL, N'12345', N'UK', N'012-3456789', N'012-3456789');\r\n",
                "\r\n",
                "-- But when you query the view, you won't see it because you inserted a customer from UK, not USA.\r\n",
                "SELECT CustomerId, Customercompanyname, CustomerCountry\r\n",
                "FROM Sales.USACusts\r\n",
                "WHERE CustomerCompanyname = N'Customer ABCDE';\r\n",
                "\r\n",
                "-- You can see it in the table, though\r\n",
                "SELECT CustomerId, Customercompanyname, CustomerCountry\r\n",
                "FROM Sales.Customer\r\n",
                "WHERE CustomerCompanyname = N'Customer ABCDE';\r\n",
                "GO\r\n",
                "\r\n",
                "-- Add CHECK OPTION to the View\r\n",
                "ALTER VIEW Sales.USACusts WITH SCHEMABINDING\r\n",
                "AS\r\n",
                "\r\n",
                "SELECT\r\n",
                "  CustomerId, Customercompanyname, Customercontactname, Customercontacttitle, Customeraddress,\r\n",
                "  Customercity, CustomerRegion, CustomerPostalcode, CustomerCountry, CustomerPhoneNumber, CustomerFaxNumber\r\n",
                "FROM Sales.Customer\r\n",
                "WHERE CustomerCountry = N'USA'\r\n",
                "WITH CHECK OPTION;\r\n",
                "GO\r\n",
                "\r\n",
                "-- Notice that you can't insert a row through the view because the country should be from USA\r\n",
                "/*\r\n",
                "INSERT INTO Sales.USACusts(\r\n",
                "  companyname, contactname, contacttitle, address,\r\n",
                "  city, region, postalcode, country, phone, fax)\r\n",
                " VALUES(\r\n",
                "  N'Customer FGHIJ', N'Contact FGHIJ', N'Title FGHIJ', N'Address FGHIJ',\r\n",
                "  N'London', NULL, N'12345', N'UK', N'012-3456789', N'012-3456789');\r\n",
                "*/\r\n",
                "GO\r\n",
                "\r\n",
                "-- Cleanup\r\n",
                "DELETE FROM Sales.Customer\r\n",
                "WHERE CustomerId > 91;\r\n",
                "\r\n",
                "DROP VIEW IF EXISTS Sales.USACusts;\r\n",
                "GO"
            ],
            "metadata": {
                "language": "sql",
                "azdata_cell_guid": "864271cd-655c-4dd1-8056-e390be0f1008",
                "tags": []
            },
            "outputs": [
                {
                    "output_type": "display_data",
                    "data": {
                        "text/html": "(1 row affected)"
                    },
                    "metadata": {}
                },
                {
                    "output_type": "display_data",
                    "data": {
                        "text/html": "(0 rows affected)"
                    },
                    "metadata": {}
                },
                {
                    "output_type": "display_data",
                    "data": {
                        "text/html": "(1 row affected)"
                    },
                    "metadata": {}
                },
                {
                    "output_type": "display_data",
                    "data": {
                        "text/html": "Commands completed successfully."
                    },
                    "metadata": {}
                },
                {
                    "output_type": "display_data",
                    "data": {
                        "text/html": "Commands completed successfully."
                    },
                    "metadata": {}
                },
                {
                    "output_type": "display_data",
                    "data": {
                        "text/html": "(1 row affected)"
                    },
                    "metadata": {}
                },
                {
                    "output_type": "display_data",
                    "data": {
                        "text/html": "Total execution time: 00:00:00.063"
                    },
                    "metadata": {}
                },
                {
                    "output_type": "execute_result",
                    "metadata": {},
                    "execution_count": 16,
                    "data": {
                        "application/vnd.dataresource+json": {
                            "schema": {
                                "fields": [
                                    {
                                        "name": "CustomerId"
                                    },
                                    {
                                        "name": "Customercompanyname"
                                    },
                                    {
                                        "name": "CustomerCountry"
                                    }
                                ]
                            },
                            "data": []
                        },
                        "text/html": [
                            "<table>",
                            "<tr><th>CustomerId</th><th>Customercompanyname</th><th>CustomerCountry</th></tr>",
                            "</table>"
                        ]
                    }
                },
                {
                    "output_type": "execute_result",
                    "metadata": {},
                    "execution_count": 16,
                    "data": {
                        "application/vnd.dataresource+json": {
                            "schema": {
                                "fields": [
                                    {
                                        "name": "CustomerId"
                                    },
                                    {
                                        "name": "Customercompanyname"
                                    },
                                    {
                                        "name": "CustomerCountry"
                                    }
                                ]
                            },
                            "data": [
                                {
                                    "0": "1092",
                                    "1": "Customer ABCDE",
                                    "2": "UK"
                                }
                            ]
                        },
                        "text/html": [
                            "<table>",
                            "<tr><th>CustomerId</th><th>Customercompanyname</th><th>CustomerCountry</th></tr>",
                            "<tr><td>1092</td><td>Customer ABCDE</td><td>UK</td></tr>",
                            "</table>"
                        ]
                    }
                }
            ],
            "execution_count": 16
        },
        {
            "cell_type": "markdown",
            "source": [
                "**Inline <span style=\"color: #569cd6;\">Table</span><span style=\"color: #d4d4d4;\">-</span>Valued Functions (TVF)**\n",
                "\n",
                "Reusable table expressions that support input parameters. They are like views with parameters.\n",
                "\n",
                "Proposition: Get customer orders. Customer ID 1"
            ],
            "metadata": {
                "language": "sql",
                "azdata_cell_guid": "4cf9c6be-e9c7-48e4-b76a-d3ea05108b76"
            },
            "attachments": {}
        },
        {
            "cell_type": "code",
            "source": [
                "use Northwinds2022TSQLV7;\r\n",
                "--Creating function\r\n",
                "DROP FUNCTION IF EXISTS dbo.GetCustOrders;\r\n",
                "GO\r\n",
                "CREATE FUNCTION dbo.GetCustOrders\r\n",
                "    (@cid AS INT) RETURNS TABLE\r\n",
                "AS\r\n",
                "RETURN\r\n",
                "    SELECT orderid, CustomerId, EmployeeId, orderdate, requireddate,\r\n",
                "        shipTodate, shipperid, freight, shipToname, shipToaddress, shipTocity,\r\n",
                "        shipToregion, shipTopostalcode, shipTocountry\r\n",
                "    FROM Sales.[Order]\r\n",
                "    WHERE CustomerId = @cid;\r\n",
                "GO\r\n",
                "\r\n",
                "--using the function\r\n",
                "SELECT orderid, CustomerId\r\n",
                "FROM dbo.GetCustOrders(1) AS O;\r\n",
                "\r\n",
                "--You can also perform joins with TVF\r\n",
                "SELECT O.orderid, O.CustomerId, OD.productid, OD.Quantity\r\n",
                "FROM dbo.GetCustOrders(1) AS O\r\n",
                "  INNER JOIN Sales.OrderDetail AS OD\r\n",
                "    ON O.orderid = OD.orderid;\r\n",
                "GO\r\n",
                "\r\n",
                "-- Cleanup\r\n",
                "DROP FUNCTION IF EXISTS dbo.GetCustOrders;"
            ],
            "metadata": {
                "azdata_cell_guid": "fc0f2550-80b1-4689-ac89-d3557ac72a88",
                "language": "sql",
                "tags": []
            },
            "outputs": [
                {
                    "output_type": "display_data",
                    "data": {
                        "text/html": "Commands completed successfully."
                    },
                    "metadata": {}
                },
                {
                    "output_type": "display_data",
                    "data": {
                        "text/html": "Commands completed successfully."
                    },
                    "metadata": {}
                },
                {
                    "output_type": "display_data",
                    "data": {
                        "text/html": "(6 rows affected)"
                    },
                    "metadata": {}
                },
                {
                    "output_type": "display_data",
                    "data": {
                        "text/html": "(12 rows affected)"
                    },
                    "metadata": {}
                },
                {
                    "output_type": "display_data",
                    "data": {
                        "text/html": "Commands completed successfully."
                    },
                    "metadata": {}
                },
                {
                    "output_type": "display_data",
                    "data": {
                        "text/html": "Total execution time: 00:00:00.040"
                    },
                    "metadata": {}
                },
                {
                    "output_type": "execute_result",
                    "metadata": {},
                    "execution_count": 17,
                    "data": {
                        "application/vnd.dataresource+json": {
                            "schema": {
                                "fields": [
                                    {
                                        "name": "orderid"
                                    },
                                    {
                                        "name": "CustomerId"
                                    }
                                ]
                            },
                            "data": [
                                {
                                    "0": "10643",
                                    "1": "1"
                                },
                                {
                                    "0": "10692",
                                    "1": "1"
                                },
                                {
                                    "0": "10702",
                                    "1": "1"
                                },
                                {
                                    "0": "10835",
                                    "1": "1"
                                },
                                {
                                    "0": "10952",
                                    "1": "1"
                                },
                                {
                                    "0": "11011",
                                    "1": "1"
                                }
                            ]
                        },
                        "text/html": [
                            "<table>",
                            "<tr><th>orderid</th><th>CustomerId</th></tr>",
                            "<tr><td>10643</td><td>1</td></tr>",
                            "<tr><td>10692</td><td>1</td></tr>",
                            "<tr><td>10702</td><td>1</td></tr>",
                            "<tr><td>10835</td><td>1</td></tr>",
                            "<tr><td>10952</td><td>1</td></tr>",
                            "<tr><td>11011</td><td>1</td></tr>",
                            "</table>"
                        ]
                    }
                },
                {
                    "output_type": "execute_result",
                    "metadata": {},
                    "execution_count": 17,
                    "data": {
                        "application/vnd.dataresource+json": {
                            "schema": {
                                "fields": [
                                    {
                                        "name": "orderid"
                                    },
                                    {
                                        "name": "CustomerId"
                                    },
                                    {
                                        "name": "productid"
                                    },
                                    {
                                        "name": "Quantity"
                                    }
                                ]
                            },
                            "data": [
                                {
                                    "0": "10643",
                                    "1": "1",
                                    "2": "28",
                                    "3": "15"
                                },
                                {
                                    "0": "10643",
                                    "1": "1",
                                    "2": "39",
                                    "3": "21"
                                },
                                {
                                    "0": "10643",
                                    "1": "1",
                                    "2": "46",
                                    "3": "2"
                                },
                                {
                                    "0": "10692",
                                    "1": "1",
                                    "2": "63",
                                    "3": "20"
                                },
                                {
                                    "0": "10702",
                                    "1": "1",
                                    "2": "3",
                                    "3": "6"
                                },
                                {
                                    "0": "10702",
                                    "1": "1",
                                    "2": "76",
                                    "3": "15"
                                },
                                {
                                    "0": "10835",
                                    "1": "1",
                                    "2": "59",
                                    "3": "15"
                                },
                                {
                                    "0": "10835",
                                    "1": "1",
                                    "2": "77",
                                    "3": "2"
                                },
                                {
                                    "0": "10952",
                                    "1": "1",
                                    "2": "6",
                                    "3": "16"
                                },
                                {
                                    "0": "10952",
                                    "1": "1",
                                    "2": "28",
                                    "3": "2"
                                },
                                {
                                    "0": "11011",
                                    "1": "1",
                                    "2": "58",
                                    "3": "40"
                                },
                                {
                                    "0": "11011",
                                    "1": "1",
                                    "2": "71",
                                    "3": "20"
                                }
                            ]
                        },
                        "text/html": [
                            "<table>",
                            "<tr><th>orderid</th><th>CustomerId</th><th>productid</th><th>Quantity</th></tr>",
                            "<tr><td>10643</td><td>1</td><td>28</td><td>15</td></tr>",
                            "<tr><td>10643</td><td>1</td><td>39</td><td>21</td></tr>",
                            "<tr><td>10643</td><td>1</td><td>46</td><td>2</td></tr>",
                            "<tr><td>10692</td><td>1</td><td>63</td><td>20</td></tr>",
                            "<tr><td>10702</td><td>1</td><td>3</td><td>6</td></tr>",
                            "<tr><td>10702</td><td>1</td><td>76</td><td>15</td></tr>",
                            "<tr><td>10835</td><td>1</td><td>59</td><td>15</td></tr>",
                            "<tr><td>10835</td><td>1</td><td>77</td><td>2</td></tr>",
                            "<tr><td>10952</td><td>1</td><td>6</td><td>16</td></tr>",
                            "<tr><td>10952</td><td>1</td><td>28</td><td>2</td></tr>",
                            "<tr><td>11011</td><td>1</td><td>58</td><td>40</td></tr>",
                            "<tr><td>11011</td><td>1</td><td>71</td><td>20</td></tr>",
                            "</table>"
                        ]
                    }
                }
            ],
            "execution_count": 17
        },
        {
            "cell_type": "markdown",
            "source": [
                "CROSS APPLY\n",
                "\n",
                "Apply operator operates on two input tables. Cross apply implements only one logical-query processing phase. It appIies the right table to each row from the left table and produces a result table with the unified result sets. Only returns matching rows.   \n",
                "\n",
                "Proposition: Return a cartesian product of the employeeID and shipper Id. Notice the cross join and cross apply return the same results."
            ],
            "metadata": {
                "azdata_cell_guid": "c6fe4809-f54e-410e-a753-7bb4f6701086"
            },
            "attachments": {}
        },
        {
            "cell_type": "code",
            "source": [
                "use Northwinds2022TSQLV7;\r\n",
                "SELECT S.shipperid, E.employeeId\r\n",
                "FROM Sales.Shipper AS S\r\n",
                "  CROSS JOIN HumanResources.Employee AS E;\r\n",
                "\r\n",
                "SELECT S.shipperid, E.employeeid\r\n",
                "FROM Sales.Shipper AS S\r\n",
                "  CROSS APPLY HumanResources.Employee AS E;"
            ],
            "metadata": {
                "azdata_cell_guid": "e62435ce-b9e4-4706-857f-fc81e2b09e40",
                "language": "sql"
            },
            "outputs": [
                {
                    "output_type": "display_data",
                    "data": {
                        "text/html": "(27 rows affected)"
                    },
                    "metadata": {}
                },
                {
                    "output_type": "display_data",
                    "data": {
                        "text/html": "(27 rows affected)"
                    },
                    "metadata": {}
                },
                {
                    "output_type": "display_data",
                    "data": {
                        "text/html": "Total execution time: 00:00:00.015"
                    },
                    "metadata": {}
                },
                {
                    "output_type": "execute_result",
                    "metadata": {},
                    "execution_count": 18,
                    "data": {
                        "application/vnd.dataresource+json": {
                            "schema": {
                                "fields": [
                                    {
                                        "name": "shipperid"
                                    },
                                    {
                                        "name": "employeeId"
                                    }
                                ]
                            },
                            "data": [
                                {
                                    "0": "1",
                                    "1": "1"
                                },
                                {
                                    "0": "1",
                                    "1": "2"
                                },
                                {
                                    "0": "1",
                                    "1": "3"
                                },
                                {
                                    "0": "1",
                                    "1": "4"
                                },
                                {
                                    "0": "1",
                                    "1": "5"
                                },
                                {
                                    "0": "1",
                                    "1": "6"
                                },
                                {
                                    "0": "1",
                                    "1": "7"
                                },
                                {
                                    "0": "1",
                                    "1": "8"
                                },
                                {
                                    "0": "1",
                                    "1": "9"
                                },
                                {
                                    "0": "2",
                                    "1": "1"
                                },
                                {
                                    "0": "2",
                                    "1": "2"
                                },
                                {
                                    "0": "2",
                                    "1": "3"
                                },
                                {
                                    "0": "2",
                                    "1": "4"
                                },
                                {
                                    "0": "2",
                                    "1": "5"
                                },
                                {
                                    "0": "2",
                                    "1": "6"
                                },
                                {
                                    "0": "2",
                                    "1": "7"
                                },
                                {
                                    "0": "2",
                                    "1": "8"
                                },
                                {
                                    "0": "2",
                                    "1": "9"
                                },
                                {
                                    "0": "3",
                                    "1": "1"
                                },
                                {
                                    "0": "3",
                                    "1": "2"
                                },
                                {
                                    "0": "3",
                                    "1": "3"
                                },
                                {
                                    "0": "3",
                                    "1": "4"
                                },
                                {
                                    "0": "3",
                                    "1": "5"
                                },
                                {
                                    "0": "3",
                                    "1": "6"
                                },
                                {
                                    "0": "3",
                                    "1": "7"
                                },
                                {
                                    "0": "3",
                                    "1": "8"
                                },
                                {
                                    "0": "3",
                                    "1": "9"
                                }
                            ]
                        },
                        "text/html": [
                            "<table>",
                            "<tr><th>shipperid</th><th>employeeId</th></tr>",
                            "<tr><td>1</td><td>1</td></tr>",
                            "<tr><td>1</td><td>2</td></tr>",
                            "<tr><td>1</td><td>3</td></tr>",
                            "<tr><td>1</td><td>4</td></tr>",
                            "<tr><td>1</td><td>5</td></tr>",
                            "<tr><td>1</td><td>6</td></tr>",
                            "<tr><td>1</td><td>7</td></tr>",
                            "<tr><td>1</td><td>8</td></tr>",
                            "<tr><td>1</td><td>9</td></tr>",
                            "<tr><td>2</td><td>1</td></tr>",
                            "<tr><td>2</td><td>2</td></tr>",
                            "<tr><td>2</td><td>3</td></tr>",
                            "<tr><td>2</td><td>4</td></tr>",
                            "<tr><td>2</td><td>5</td></tr>",
                            "<tr><td>2</td><td>6</td></tr>",
                            "<tr><td>2</td><td>7</td></tr>",
                            "<tr><td>2</td><td>8</td></tr>",
                            "<tr><td>2</td><td>9</td></tr>",
                            "<tr><td>3</td><td>1</td></tr>",
                            "<tr><td>3</td><td>2</td></tr>",
                            "<tr><td>3</td><td>3</td></tr>",
                            "<tr><td>3</td><td>4</td></tr>",
                            "<tr><td>3</td><td>5</td></tr>",
                            "<tr><td>3</td><td>6</td></tr>",
                            "<tr><td>3</td><td>7</td></tr>",
                            "<tr><td>3</td><td>8</td></tr>",
                            "<tr><td>3</td><td>9</td></tr>",
                            "</table>"
                        ]
                    }
                },
                {
                    "output_type": "execute_result",
                    "metadata": {},
                    "execution_count": 18,
                    "data": {
                        "application/vnd.dataresource+json": {
                            "schema": {
                                "fields": [
                                    {
                                        "name": "shipperid"
                                    },
                                    {
                                        "name": "employeeid"
                                    }
                                ]
                            },
                            "data": [
                                {
                                    "0": "1",
                                    "1": "1"
                                },
                                {
                                    "0": "1",
                                    "1": "2"
                                },
                                {
                                    "0": "1",
                                    "1": "3"
                                },
                                {
                                    "0": "1",
                                    "1": "4"
                                },
                                {
                                    "0": "1",
                                    "1": "5"
                                },
                                {
                                    "0": "1",
                                    "1": "6"
                                },
                                {
                                    "0": "1",
                                    "1": "7"
                                },
                                {
                                    "0": "1",
                                    "1": "8"
                                },
                                {
                                    "0": "1",
                                    "1": "9"
                                },
                                {
                                    "0": "2",
                                    "1": "1"
                                },
                                {
                                    "0": "2",
                                    "1": "2"
                                },
                                {
                                    "0": "2",
                                    "1": "3"
                                },
                                {
                                    "0": "2",
                                    "1": "4"
                                },
                                {
                                    "0": "2",
                                    "1": "5"
                                },
                                {
                                    "0": "2",
                                    "1": "6"
                                },
                                {
                                    "0": "2",
                                    "1": "7"
                                },
                                {
                                    "0": "2",
                                    "1": "8"
                                },
                                {
                                    "0": "2",
                                    "1": "9"
                                },
                                {
                                    "0": "3",
                                    "1": "1"
                                },
                                {
                                    "0": "3",
                                    "1": "2"
                                },
                                {
                                    "0": "3",
                                    "1": "3"
                                },
                                {
                                    "0": "3",
                                    "1": "4"
                                },
                                {
                                    "0": "3",
                                    "1": "5"
                                },
                                {
                                    "0": "3",
                                    "1": "6"
                                },
                                {
                                    "0": "3",
                                    "1": "7"
                                },
                                {
                                    "0": "3",
                                    "1": "8"
                                },
                                {
                                    "0": "3",
                                    "1": "9"
                                }
                            ]
                        },
                        "text/html": [
                            "<table>",
                            "<tr><th>shipperid</th><th>employeeid</th></tr>",
                            "<tr><td>1</td><td>1</td></tr>",
                            "<tr><td>1</td><td>2</td></tr>",
                            "<tr><td>1</td><td>3</td></tr>",
                            "<tr><td>1</td><td>4</td></tr>",
                            "<tr><td>1</td><td>5</td></tr>",
                            "<tr><td>1</td><td>6</td></tr>",
                            "<tr><td>1</td><td>7</td></tr>",
                            "<tr><td>1</td><td>8</td></tr>",
                            "<tr><td>1</td><td>9</td></tr>",
                            "<tr><td>2</td><td>1</td></tr>",
                            "<tr><td>2</td><td>2</td></tr>",
                            "<tr><td>2</td><td>3</td></tr>",
                            "<tr><td>2</td><td>4</td></tr>",
                            "<tr><td>2</td><td>5</td></tr>",
                            "<tr><td>2</td><td>6</td></tr>",
                            "<tr><td>2</td><td>7</td></tr>",
                            "<tr><td>2</td><td>8</td></tr>",
                            "<tr><td>2</td><td>9</td></tr>",
                            "<tr><td>3</td><td>1</td></tr>",
                            "<tr><td>3</td><td>2</td></tr>",
                            "<tr><td>3</td><td>3</td></tr>",
                            "<tr><td>3</td><td>4</td></tr>",
                            "<tr><td>3</td><td>5</td></tr>",
                            "<tr><td>3</td><td>6</td></tr>",
                            "<tr><td>3</td><td>7</td></tr>",
                            "<tr><td>3</td><td>8</td></tr>",
                            "<tr><td>3</td><td>9</td></tr>",
                            "</table>"
                        ]
                    }
                }
            ],
            "execution_count": 18
        },
        {
            "cell_type": "markdown",
            "source": [
                "CROSS APPLY \n",
                "\n",
                "Proposition: Return 3 most recent orders for each customer. \n",
                "\n",
                "Cross apply is like inner join except there is some order for cross apply. With apply, left side is evaluated first, and the right side is evaluated per row from the left. It is like correlated derived table. The right table expression (a dervied table) is applied to each row from the Customers table."
            ],
            "metadata": {
                "language": "sql",
                "azdata_cell_guid": "1e57dba0-5466-4e72-bdc7-ce9e4c088ad1"
            },
            "attachments": {}
        },
        {
            "cell_type": "code",
            "source": [
                "use Northwinds2022TSQLV7;\r\n",
                "SELECT C.CustomerId, A.orderid, A.orderdate\r\n",
                "FROM Sales.Customer AS C\r\n",
                "  CROSS APPLY\r\n",
                "    (SELECT TOP (3) orderid, EmployeeId, orderdate, requireddate \r\n",
                "     FROM Sales.[Order] AS O\r\n",
                "     WHERE O.CustomerId = C.CustomerId\r\n",
                "     ORDER BY orderdate DESC, orderid DESC) AS A;\r\n",
                "\r\n",
                "--You can use order by as well as offset fetch.\r\n",
                "SELECT C.CustomerId, A.orderid, A.orderdate\r\n",
                "FROM Sales.Customer AS C\r\n",
                "  CROSS APPLY\r\n",
                "    (SELECT orderid, EmployeeId, orderdate, requireddate \r\n",
                "     FROM Sales.[Order] AS O\r\n",
                "     WHERE O.CustomerId = C.CustomerId\r\n",
                "     ORDER BY orderdate DESC, orderid DESC\r\n",
                "     OFFSET 0 ROWS FETCH NEXT 3 ROWS ONLY) AS A;"
            ],
            "metadata": {
                "language": "sql",
                "azdata_cell_guid": "e829bfca-724b-4908-9bf8-5ea8d5e8214f"
            },
            "outputs": [
                {
                    "output_type": "display_data",
                    "data": {
                        "text/html": "(263 rows affected)"
                    },
                    "metadata": {}
                },
                {
                    "output_type": "display_data",
                    "data": {
                        "text/html": "(263 rows affected)"
                    },
                    "metadata": {}
                },
                {
                    "output_type": "display_data",
                    "data": {
                        "text/html": "Total execution time: 00:00:00.036"
                    },
                    "metadata": {}
                },
                {
                    "output_type": "execute_result",
                    "metadata": {},
                    "execution_count": 19,
                    "data": {
                        "application/vnd.dataresource+json": {
                            "schema": {
                                "fields": [
                                    {
                                        "name": "CustomerId"
                                    },
                                    {
                                        "name": "orderid"
                                    },
                                    {
                                        "name": "orderdate"
                                    }
                                ]
                            },
                            "data": [
                                {
                                    "0": "1",
                                    "1": "11011",
                                    "2": "2016-04-09"
                                },
                                {
                                    "0": "1",
                                    "1": "10952",
                                    "2": "2016-03-16"
                                },
                                {
                                    "0": "1",
                                    "1": "10835",
                                    "2": "2016-01-15"
                                },
                                {
                                    "0": "2",
                                    "1": "10926",
                                    "2": "2016-03-04"
                                },
                                {
                                    "0": "2",
                                    "1": "10759",
                                    "2": "2015-11-28"
                                },
                                {
                                    "0": "2",
                                    "1": "10625",
                                    "2": "2015-08-08"
                                },
                                {
                                    "0": "3",
                                    "1": "10856",
                                    "2": "2016-01-28"
                                },
                                {
                                    "0": "3",
                                    "1": "10682",
                                    "2": "2015-09-25"
                                },
                                {
                                    "0": "3",
                                    "1": "10677",
                                    "2": "2015-09-22"
                                },
                                {
                                    "0": "4",
                                    "1": "11016",
                                    "2": "2016-04-10"
                                },
                                {
                                    "0": "4",
                                    "1": "10953",
                                    "2": "2016-03-16"
                                },
                                {
                                    "0": "4",
                                    "1": "10920",
                                    "2": "2016-03-03"
                                },
                                {
                                    "0": "5",
                                    "1": "10924",
                                    "2": "2016-03-04"
                                },
                                {
                                    "0": "5",
                                    "1": "10875",
                                    "2": "2016-02-06"
                                },
                                {
                                    "0": "5",
                                    "1": "10866",
                                    "2": "2016-02-03"
                                },
                                {
                                    "0": "6",
                                    "1": "11058",
                                    "2": "2016-04-29"
                                },
                                {
                                    "0": "6",
                                    "1": "10956",
                                    "2": "2016-03-17"
                                },
                                {
                                    "0": "6",
                                    "1": "10853",
                                    "2": "2016-01-27"
                                },
                                {
                                    "0": "7",
                                    "1": "10826",
                                    "2": "2016-01-12"
                                },
                                {
                                    "0": "7",
                                    "1": "10679",
                                    "2": "2015-09-23"
                                },
                                {
                                    "0": "7",
                                    "1": "10628",
                                    "2": "2015-08-12"
                                },
                                {
                                    "0": "8",
                                    "1": "10970",
                                    "2": "2016-03-24"
                                },
                                {
                                    "0": "8",
                                    "1": "10801",
                                    "2": "2015-12-29"
                                },
                                {
                                    "0": "8",
                                    "1": "10326",
                                    "2": "2014-10-10"
                                },
                                {
                                    "0": "9",
                                    "1": "11076",
                                    "2": "2016-05-06"
                                },
                                {
                                    "0": "9",
                                    "1": "10940",
                                    "2": "2016-03-11"
                                },
                                {
                                    "0": "9",
                                    "1": "10932",
                                    "2": "2016-03-06"
                                },
                                {
                                    "0": "10",
                                    "1": "11048",
                                    "2": "2016-04-24"
                                },
                                {
                                    "0": "10",
                                    "1": "11045",
                                    "2": "2016-04-23"
                                },
                                {
                                    "0": "10",
                                    "1": "11027",
                                    "2": "2016-04-16"
                                },
                                {
                                    "0": "11",
                                    "1": "11023",
                                    "2": "2016-04-14"
                                },
                                {
                                    "0": "11",
                                    "1": "10947",
                                    "2": "2016-03-13"
                                },
                                {
                                    "0": "11",
                                    "1": "10943",
                                    "2": "2016-03-11"
                                },
                                {
                                    "0": "12",
                                    "1": "11054",
                                    "2": "2016-04-28"
                                },
                                {
                                    "0": "12",
                                    "1": "10937",
                                    "2": "2016-03-10"
                                },
                                {
                                    "0": "12",
                                    "1": "10881",
                                    "2": "2016-02-11"
                                },
                                {
                                    "0": "13",
                                    "1": "10259",
                                    "2": "2014-07-18"
                                },
                                {
                                    "0": "14",
                                    "1": "11041",
                                    "2": "2016-04-22"
                                },
                                {
                                    "0": "14",
                                    "1": "11029",
                                    "2": "2016-04-16"
                                },
                                {
                                    "0": "14",
                                    "1": "10966",
                                    "2": "2016-03-20"
                                },
                                {
                                    "0": "15",
                                    "1": "11042",
                                    "2": "2016-04-22"
                                },
                                {
                                    "0": "15",
                                    "1": "10969",
                                    "2": "2016-03-23"
                                },
                                {
                                    "0": "15",
                                    "1": "10494",
                                    "2": "2015-04-02"
                                },
                                {
                                    "0": "16",
                                    "1": "10848",
                                    "2": "2016-01-23"
                                },
                                {
                                    "0": "16",
                                    "1": "10462",
                                    "2": "2015-03-03"
                                },
                                {
                                    "0": "16",
                                    "1": "10435",
                                    "2": "2015-02-04"
                                },
                                {
                                    "0": "17",
                                    "1": "11067",
                                    "2": "2016-05-04"
                                },
                                {
                                    "0": "17",
                                    "1": "11036",
                                    "2": "2016-04-20"
                                },
                                {
                                    "0": "17",
                                    "1": "10825",
                                    "2": "2016-01-09"
                                },
                                {
                                    "0": "18",
                                    "1": "10890",
                                    "2": "2016-02-16"
                                },
                                {
                                    "0": "18",
                                    "1": "10683",
                                    "2": "2015-09-26"
                                },
                                {
                                    "0": "18",
                                    "1": "10609",
                                    "2": "2015-07-24"
                                },
                                {
                                    "0": "19",
                                    "1": "11056",
                                    "2": "2016-04-28"
                                },
                                {
                                    "0": "19",
                                    "1": "11047",
                                    "2": "2016-04-24"
                                },
                                {
                                    "0": "19",
                                    "1": "11024",
                                    "2": "2016-04-15"
                                },
                                {
                                    "0": "20",
                                    "1": "11072",
                                    "2": "2016-05-05"
                                },
                                {
                                    "0": "20",
                                    "1": "11017",
                                    "2": "2016-04-13"
                                },
                                {
                                    "0": "20",
                                    "1": "11008",
                                    "2": "2016-04-08"
                                },
                                {
                                    "0": "21",
                                    "1": "10725",
                                    "2": "2015-10-31"
                                },
                                {
                                    "0": "21",
                                    "1": "10650",
                                    "2": "2015-08-29"
                                },
                                {
                                    "0": "21",
                                    "1": "10581",
                                    "2": "2015-06-26"
                                },
                                {
                                    "0": "23",
                                    "1": "10789",
                                    "2": "2015-12-22"
                                },
                                {
                                    "0": "23",
                                    "1": "10763",
                                    "2": "2015-12-03"
                                },
                                {
                                    "0": "23",
                                    "1": "10634",
                                    "2": "2015-08-15"
                                },
                                {
                                    "0": "24",
                                    "1": "11050",
                                    "2": "2016-04-27"
                                },
                                {
                                    "0": "24",
                                    "1": "11001",
                                    "2": "2016-04-06"
                                },
                                {
                                    "0": "24",
                                    "1": "10993",
                                    "2": "2016-04-01"
                                },
                                {
                                    "0": "25",
                                    "1": "11012",
                                    "2": "2016-04-09"
                                },
                                {
                                    "0": "25",
                                    "1": "10929",
                                    "2": "2016-03-05"
                                },
                                {
                                    "0": "25",
                                    "1": "10859",
                                    "2": "2016-01-29"
                                },
                                {
                                    "0": "26",
                                    "1": "10971",
                                    "2": "2016-03-24"
                                },
                                {
                                    "0": "26",
                                    "1": "10860",
                                    "2": "2016-01-29"
                                },
                                {
                                    "0": "26",
                                    "1": "10671",
                                    "2": "2015-09-17"
                                },
                                {
                                    "0": "27",
                                    "1": "11060",
                                    "2": "2016-04-30"
                                },
                                {
                                    "0": "27",
                                    "1": "11026",
                                    "2": "2016-04-15"
                                },
                                {
                                    "0": "27",
                                    "1": "10807",
                                    "2": "2015-12-31"
                                },
                                {
                                    "0": "28",
                                    "1": "10963",
                                    "2": "2016-03-19"
                                },
                                {
                                    "0": "28",
                                    "1": "10664",
                                    "2": "2015-09-10"
                                },
                                {
                                    "0": "28",
                                    "1": "10604",
                                    "2": "2015-07-18"
                                },
                                {
                                    "0": "29",
                                    "1": "10928",
                                    "2": "2016-03-05"
                                },
                                {
                                    "0": "29",
                                    "1": "10887",
                                    "2": "2016-02-13"
                                },
                                {
                                    "0": "29",
                                    "1": "10568",
                                    "2": "2015-06-13"
                                },
                                {
                                    "0": "30",
                                    "1": "11037",
                                    "2": "2016-04-21"
                                },
                                {
                                    "0": "30",
                                    "1": "11009",
                                    "2": "2016-04-08"
                                },
                                {
                                    "0": "30",
                                    "1": "10948",
                                    "2": "2016-03-13"
                                },
                                {
                                    "0": "31",
                                    "1": "11049",
                                    "2": "2016-04-24"
                                },
                                {
                                    "0": "31",
                                    "1": "10959",
                                    "2": "2016-03-18"
                                },
                                {
                                    "0": "31",
                                    "1": "10790",
                                    "2": "2015-12-22"
                                },
                                {
                                    "0": "32",
                                    "1": "11061",
                                    "2": "2016-04-30"
                                },
                                {
                                    "0": "32",
                                    "1": "11040",
                                    "2": "2016-04-22"
                                },
                                {
                                    "0": "32",
                                    "1": "11006",
                                    "2": "2016-04-07"
                                },
                                {
                                    "0": "33",
                                    "1": "10785",
                                    "2": "2015-12-18"
                                },
                                {
                                    "0": "33",
                                    "1": "10268",
                                    "2": "2014-07-30"
                                },
                                {
                                    "0": "34",
                                    "1": "11052",
                                    "2": "2016-04-27"
                                },
                                {
                                    "0": "34",
                                    "1": "11022",
                                    "2": "2016-04-14"
                                },
                                {
                                    "0": "34",
                                    "1": "10981",
                                    "2": "2016-03-27"
                                },
                                {
                                    "0": "35",
                                    "1": "11055",
                                    "2": "2016-04-28"
                                },
                                {
                                    "0": "35",
                                    "1": "10976",
                                    "2": "2016-03-25"
                                },
                                {
                                    "0": "35",
                                    "1": "10960",
                                    "2": "2016-03-19"
                                },
                                {
                                    "0": "36",
                                    "1": "10660",
                                    "2": "2015-09-08"
                                },
                                {
                                    "0": "36",
                                    "1": "10600",
                                    "2": "2015-07-16"
                                },
                                {
                                    "0": "36",
                                    "1": "10415",
                                    "2": "2015-01-15"
                                },
                                {
                                    "0": "37",
                                    "1": "11063",
                                    "2": "2016-04-30"
                                },
                                {
                                    "0": "37",
                                    "1": "10985",
                                    "2": "2016-03-30"
                                },
                                {
                                    "0": "37",
                                    "1": "10912",
                                    "2": "2016-02-26"
                                },
                                {
                                    "0": "38",
                                    "1": "10933",
                                    "2": "2016-03-06"
                                },
                                {
                                    "0": "38",
                                    "1": "10829",
                                    "2": "2016-01-13"
                                },
                                {
                                    "0": "38",
                                    "1": "10798",
                                    "2": "2015-12-26"
                                },
                                {
                                    "0": "39",
                                    "1": "11028",
                                    "2": "2016-04-16"
                                },
                                {
                                    "0": "39",
                                    "1": "10893",
                                    "2": "2016-02-18"
                                },
                                {
                                    "0": "39",
                                    "1": "10849",
                                    "2": "2016-01-23"
                                },
                                {
                                    "0": "40",
                                    "1": "10973",
                                    "2": "2016-03-24"
                                },
                                {
                                    "0": "40",
                                    "1": "10972",
                                    "2": "2016-03-24"
                                },
                                {
                                    "0": "40",
                                    "1": "10927",
                                    "2": "2016-03-05"
                                },
                                {
                                    "0": "41",
                                    "1": "11051",
                                    "2": "2016-04-27"
                                },
                                {
                                    "0": "41",
                                    "1": "10923",
                                    "2": "2016-03-03"
                                },
                                {
                                    "0": "41",
                                    "1": "10832",
                                    "2": "2016-01-14"
                                },
                                {
                                    "0": "42",
                                    "1": "10810",
                                    "2": "2016-01-01"
                                },
                                {
                                    "0": "42",
                                    "1": "10620",
                                    "2": "2015-08-05"
                                },
                                {
                                    "0": "42",
                                    "1": "10495",
                                    "2": "2015-04-03"
                                },
                                {
                                    "0": "43",
                                    "1": "10545",
                                    "2": "2015-05-22"
                                },
                                {
                                    "0": "43",
                                    "1": "10482",
                                    "2": "2015-03-21"
                                },
                                {
                                    "0": "44",
                                    "1": "11070",
                                    "2": "2016-05-05"
                                },
                                {
                                    "0": "44",
                                    "1": "10934",
                                    "2": "2016-03-09"
                                },
                                {
                                    "0": "44",
                                    "1": "10891",
                                    "2": "2016-02-17"
                                },
                                {
                                    "0": "45",
                                    "1": "10884",
                                    "2": "2016-02-12"
                                },
                                {
                                    "0": "45",
                                    "1": "10735",
                                    "2": "2015-11-10"
                                },
                                {
                                    "0": "45",
                                    "1": "10719",
                                    "2": "2015-10-27"
                                },
                                {
                                    "0": "46",
                                    "1": "11071",
                                    "2": "2016-05-05"
                                },
                                {
                                    "0": "46",
                                    "1": "11065",
                                    "2": "2016-05-01"
                                },
                                {
                                    "0": "46",
                                    "1": "10997",
                                    "2": "2016-04-03"
                                },
                                {
                                    "0": "47",
                                    "1": "11039",
                                    "2": "2016-04-21"
                                },
                                {
                                    "0": "47",
                                    "1": "11014",
                                    "2": "2016-04-10"
                                },
                                {
                                    "0": "47",
                                    "1": "10954",
                                    "2": "2016-03-17"
                                },
                                {
                                    "0": "48",
                                    "1": "11018",
                                    "2": "2016-04-13"
                                },
                                {
                                    "0": "48",
                                    "1": "10883",
                                    "2": "2016-02-12"
                                },
                                {
                                    "0": "48",
                                    "1": "10867",
                                    "2": "2016-02-03"
                                },
                                {
                                    "0": "49",
                                    "1": "10950",
                                    "2": "2016-03-16"
                                },
                                {
                                    "0": "49",
                                    "1": "10939",
                                    "2": "2016-03-10"
                                },
                                {
                                    "0": "49",
                                    "1": "10818",
                                    "2": "2016-01-07"
                                },
                                {
                                    "0": "50",
                                    "1": "11004",
                                    "2": "2016-04-07"
                                },
                                {
                                    "0": "50",
                                    "1": "10978",
                                    "2": "2016-03-26"
                                },
                                {
                                    "0": "50",
                                    "1": "10896",
                                    "2": "2016-02-19"
                                },
                                {
                                    "0": "51",
                                    "1": "10724",
                                    "2": "2015-10-30"
                                },
                                {
                                    "0": "51",
                                    "1": "10619",
                                    "2": "2015-08-04"
                                },
                                {
                                    "0": "51",
                                    "1": "10618",
                                    "2": "2015-08-01"
                                },
                                {
                                    "0": "52",
                                    "1": "10945",
                                    "2": "2016-03-12"
                                },
                                {
                                    "0": "52",
                                    "1": "10779",
                                    "2": "2015-12-16"
                                },
                                {
                                    "0": "52",
                                    "1": "10699",
                                    "2": "2015-10-09"
                                },
                                {
                                    "0": "53",
                                    "1": "11057",
                                    "2": "2016-04-29"
                                },
                                {
                                    "0": "53",
                                    "1": "10752",
                                    "2": "2015-11-24"
                                },
                                {
                                    "0": "53",
                                    "1": "10517",
                                    "2": "2015-04-24"
                                },
                                {
                                    "0": "54",
                                    "1": "10986",
                                    "2": "2016-03-30"
                                },
                                {
                                    "0": "54",
                                    "1": "10958",
                                    "2": "2016-03-18"
                                },
                                {
                                    "0": "54",
                                    "1": "10898",
                                    "2": "2016-02-20"
                                },
                                {
                                    "0": "55",
                                    "1": "11034",
                                    "2": "2016-04-20"
                                },
                                {
                                    "0": "55",
                                    "1": "10965",
                                    "2": "2016-03-20"
                                },
                                {
                                    "0": "55",
                                    "1": "10855",
                                    "2": "2016-01-27"
                                },
                                {
                                    "0": "56",
                                    "1": "11020",
                                    "2": "2016-04-14"
                                },
                                {
                                    "0": "56",
                                    "1": "10999",
                                    "2": "2016-04-03"
                                },
                                {
                                    "0": "56",
                                    "1": "10833",
                                    "2": "2016-01-15"
                                },
                                {
                                    "0": "58",
                                    "1": "11073",
                                    "2": "2016-05-05"
                                },
                                {
                                    "0": "58",
                                    "1": "10995",
                                    "2": "2016-04-02"
                                },
                                {
                                    "0": "58",
                                    "1": "10502",
                                    "2": "2015-04-10"
                                },
                                {
                                    "0": "59",
                                    "1": "11053",
                                    "2": "2016-04-27"
                                },
                                {
                                    "0": "59",
                                    "1": "10844",
                                    "2": "2016-01-21"
                                },
                                {
                                    "0": "59",
                                    "1": "10747",
                                    "2": "2015-11-19"
                                },
                                {
                                    "0": "60",
                                    "1": "11007",
                                    "2": "2016-04-08"
                                },
                                {
                                    "0": "60",
                                    "1": "10477",
                                    "2": "2015-03-17"
                                },
                                {
                                    "0": "60",
                                    "1": "10433",
                                    "2": "2015-02-03"
                                },
                                {
                                    "0": "61",
                                    "1": "10989",
                                    "2": "2016-03-31"
                                },
                                {
                                    "0": "61",
                                    "1": "10794",
                                    "2": "2015-12-24"
                                },
                                {
                                    "0": "61",
                                    "1": "10720",
                                    "2": "2015-10-28"
                                },
                                {
                                    "0": "62",
                                    "1": "11068",
                                    "2": "2016-05-04"
                                },
                                {
                                    "0": "62",
                                    "1": "10961",
                                    "2": "2016-03-19"
                                },
                                {
                                    "0": "62",
                                    "1": "10914",
                                    "2": "2016-02-27"
                                },
                                {
                                    "0": "63",
                                    "1": "11021",
                                    "2": "2016-04-14"
                                },
                                {
                                    "0": "63",
                                    "1": "10996",
                                    "2": "2016-04-02"
                                },
                                {
                                    "0": "63",
                                    "1": "10991",
                                    "2": "2016-04-01"
                                },
                                {
                                    "0": "64",
                                    "1": "11019",
                                    "2": "2016-04-13"
                                },
                                {
                                    "0": "64",
                                    "1": "10916",
                                    "2": "2016-02-27"
                                },
                                {
                                    "0": "64",
                                    "1": "10828",
                                    "2": "2016-01-13"
                                },
                                {
                                    "0": "65",
                                    "1": "11077",
                                    "2": "2016-05-06"
                                },
                                {
                                    "0": "65",
                                    "1": "11000",
                                    "2": "2016-04-06"
                                },
                                {
                                    "0": "65",
                                    "1": "10988",
                                    "2": "2016-03-31"
                                },
                                {
                                    "0": "66",
                                    "1": "11062",
                                    "2": "2016-04-30"
                                },
                                {
                                    "0": "66",
                                    "1": "11010",
                                    "2": "2016-04-09"
                                },
                                {
                                    "0": "66",
                                    "1": "10942",
                                    "2": "2016-03-11"
                                },
                                {
                                    "0": "67",
                                    "1": "11059",
                                    "2": "2016-04-29"
                                },
                                {
                                    "0": "67",
                                    "1": "10877",
                                    "2": "2016-02-09"
                                },
                                {
                                    "0": "67",
                                    "1": "10851",
                                    "2": "2016-01-26"
                                },
                                {
                                    "0": "68",
                                    "1": "11075",
                                    "2": "2016-05-06"
                                },
                                {
                                    "0": "68",
                                    "1": "11033",
                                    "2": "2016-04-17"
                                },
                                {
                                    "0": "68",
                                    "1": "10951",
                                    "2": "2016-03-16"
                                },
                                {
                                    "0": "69",
                                    "1": "11013",
                                    "2": "2016-04-09"
                                },
                                {
                                    "0": "69",
                                    "1": "10917",
                                    "2": "2016-03-02"
                                },
                                {
                                    "0": "69",
                                    "1": "10306",
                                    "2": "2014-09-16"
                                },
                                {
                                    "0": "70",
                                    "1": "11015",
                                    "2": "2016-04-10"
                                },
                                {
                                    "0": "70",
                                    "1": "10909",
                                    "2": "2016-02-26"
                                },
                                {
                                    "0": "70",
                                    "1": "10831",
                                    "2": "2016-01-14"
                                },
                                {
                                    "0": "71",
                                    "1": "11064",
                                    "2": "2016-05-01"
                                },
                                {
                                    "0": "71",
                                    "1": "11031",
                                    "2": "2016-04-17"
                                },
                                {
                                    "0": "71",
                                    "1": "11030",
                                    "2": "2016-04-17"
                                },
                                {
                                    "0": "72",
                                    "1": "10869",
                                    "2": "2016-02-04"
                                },
                                {
                                    "0": "72",
                                    "1": "10804",
                                    "2": "2015-12-30"
                                },
                                {
                                    "0": "72",
                                    "1": "10800",
                                    "2": "2015-12-26"
                                },
                                {
                                    "0": "73",
                                    "1": "11074",
                                    "2": "2016-05-06"
                                },
                                {
                                    "0": "73",
                                    "1": "10802",
                                    "2": "2015-12-29"
                                },
                                {
                                    "0": "73",
                                    "1": "10669",
                                    "2": "2015-09-15"
                                },
                                {
                                    "0": "74",
                                    "1": "11043",
                                    "2": "2016-04-22"
                                },
                                {
                                    "0": "74",
                                    "1": "10964",
                                    "2": "2016-03-20"
                                },
                                {
                                    "0": "74",
                                    "1": "10907",
                                    "2": "2016-02-25"
                                },
                                {
                                    "0": "75",
                                    "1": "10974",
                                    "2": "2016-03-25"
                                },
                                {
                                    "0": "75",
                                    "1": "10821",
                                    "2": "2016-01-08"
                                },
                                {
                                    "0": "75",
                                    "1": "10756",
                                    "2": "2015-11-27"
                                },
                                {
                                    "0": "76",
                                    "1": "11038",
                                    "2": "2016-04-21"
                                },
                                {
                                    "0": "76",
                                    "1": "11035",
                                    "2": "2016-04-20"
                                },
                                {
                                    "0": "76",
                                    "1": "10930",
                                    "2": "2016-03-06"
                                },
                                {
                                    "0": "77",
                                    "1": "10992",
                                    "2": "2016-04-01"
                                },
                                {
                                    "0": "77",
                                    "1": "10805",
                                    "2": "2015-12-30"
                                },
                                {
                                    "0": "77",
                                    "1": "10708",
                                    "2": "2015-10-17"
                                },
                                {
                                    "0": "78",
                                    "1": "11003",
                                    "2": "2016-04-06"
                                },
                                {
                                    "0": "78",
                                    "1": "10775",
                                    "2": "2015-12-12"
                                },
                                {
                                    "0": "78",
                                    "1": "10624",
                                    "2": "2015-08-07"
                                },
                                {
                                    "0": "79",
                                    "1": "10967",
                                    "2": "2016-03-23"
                                },
                                {
                                    "0": "79",
                                    "1": "10608",
                                    "2": "2015-07-23"
                                },
                                {
                                    "0": "79",
                                    "1": "10548",
                                    "2": "2015-05-26"
                                },
                                {
                                    "0": "80",
                                    "1": "11069",
                                    "2": "2016-05-04"
                                },
                                {
                                    "0": "80",
                                    "1": "10915",
                                    "2": "2016-02-27"
                                },
                                {
                                    "0": "80",
                                    "1": "10842",
                                    "2": "2016-01-20"
                                },
                                {
                                    "0": "81",
                                    "1": "10839",
                                    "2": "2016-01-19"
                                },
                                {
                                    "0": "81",
                                    "1": "10834",
                                    "2": "2016-01-15"
                                },
                                {
                                    "0": "81",
                                    "1": "10830",
                                    "2": "2016-01-13"
                                },
                                {
                                    "0": "82",
                                    "1": "10822",
                                    "2": "2016-01-08"
                                },
                                {
                                    "0": "82",
                                    "1": "10577",
                                    "2": "2015-06-23"
                                },
                                {
                                    "0": "82",
                                    "1": "10574",
                                    "2": "2015-06-19"
                                },
                                {
                                    "0": "83",
                                    "1": "10994",
                                    "2": "2016-04-02"
                                },
                                {
                                    "0": "83",
                                    "1": "10946",
                                    "2": "2016-03-12"
                                },
                                {
                                    "0": "83",
                                    "1": "10921",
                                    "2": "2016-03-03"
                                },
                                {
                                    "0": "84",
                                    "1": "10850",
                                    "2": "2016-01-23"
                                },
                                {
                                    "0": "84",
                                    "1": "10843",
                                    "2": "2016-01-21"
                                },
                                {
                                    "0": "84",
                                    "1": "10814",
                                    "2": "2016-01-05"
                                },
                                {
                                    "0": "85",
                                    "1": "10739",
                                    "2": "2015-11-12"
                                },
                                {
                                    "0": "85",
                                    "1": "10737",
                                    "2": "2015-11-11"
                                },
                                {
                                    "0": "85",
                                    "1": "10295",
                                    "2": "2014-09-02"
                                },
                                {
                                    "0": "86",
                                    "1": "11046",
                                    "2": "2016-04-23"
                                },
                                {
                                    "0": "86",
                                    "1": "10668",
                                    "2": "2015-09-15"
                                },
                                {
                                    "0": "86",
                                    "1": "10651",
                                    "2": "2015-09-01"
                                },
                                {
                                    "0": "87",
                                    "1": "11025",
                                    "2": "2016-04-15"
                                },
                                {
                                    "0": "87",
                                    "1": "10781",
                                    "2": "2015-12-17"
                                },
                                {
                                    "0": "87",
                                    "1": "10750",
                                    "2": "2015-11-21"
                                },
                                {
                                    "0": "88",
                                    "1": "10935",
                                    "2": "2016-03-09"
                                },
                                {
                                    "0": "88",
                                    "1": "10905",
                                    "2": "2016-02-24"
                                },
                                {
                                    "0": "88",
                                    "1": "10900",
                                    "2": "2016-02-20"
                                },
                                {
                                    "0": "89",
                                    "1": "11066",
                                    "2": "2016-05-01"
                                },
                                {
                                    "0": "89",
                                    "1": "11032",
                                    "2": "2016-04-17"
                                },
                                {
                                    "0": "89",
                                    "1": "10904",
                                    "2": "2016-02-24"
                                },
                                {
                                    "0": "90",
                                    "1": "11005",
                                    "2": "2016-04-07"
                                },
                                {
                                    "0": "90",
                                    "1": "10910",
                                    "2": "2016-02-26"
                                },
                                {
                                    "0": "90",
                                    "1": "10879",
                                    "2": "2016-02-10"
                                },
                                {
                                    "0": "91",
                                    "1": "11044",
                                    "2": "2016-04-23"
                                },
                                {
                                    "0": "91",
                                    "1": "10998",
                                    "2": "2016-04-03"
                                },
                                {
                                    "0": "91",
                                    "1": "10906",
                                    "2": "2016-02-25"
                                }
                            ]
                        },
                        "text/html": [
                            "<table>",
                            "<tr><th>CustomerId</th><th>orderid</th><th>orderdate</th></tr>",
                            "<tr><td>1</td><td>11011</td><td>2016-04-09</td></tr>",
                            "<tr><td>1</td><td>10952</td><td>2016-03-16</td></tr>",
                            "<tr><td>1</td><td>10835</td><td>2016-01-15</td></tr>",
                            "<tr><td>2</td><td>10926</td><td>2016-03-04</td></tr>",
                            "<tr><td>2</td><td>10759</td><td>2015-11-28</td></tr>",
                            "<tr><td>2</td><td>10625</td><td>2015-08-08</td></tr>",
                            "<tr><td>3</td><td>10856</td><td>2016-01-28</td></tr>",
                            "<tr><td>3</td><td>10682</td><td>2015-09-25</td></tr>",
                            "<tr><td>3</td><td>10677</td><td>2015-09-22</td></tr>",
                            "<tr><td>4</td><td>11016</td><td>2016-04-10</td></tr>",
                            "<tr><td>4</td><td>10953</td><td>2016-03-16</td></tr>",
                            "<tr><td>4</td><td>10920</td><td>2016-03-03</td></tr>",
                            "<tr><td>5</td><td>10924</td><td>2016-03-04</td></tr>",
                            "<tr><td>5</td><td>10875</td><td>2016-02-06</td></tr>",
                            "<tr><td>5</td><td>10866</td><td>2016-02-03</td></tr>",
                            "<tr><td>6</td><td>11058</td><td>2016-04-29</td></tr>",
                            "<tr><td>6</td><td>10956</td><td>2016-03-17</td></tr>",
                            "<tr><td>6</td><td>10853</td><td>2016-01-27</td></tr>",
                            "<tr><td>7</td><td>10826</td><td>2016-01-12</td></tr>",
                            "<tr><td>7</td><td>10679</td><td>2015-09-23</td></tr>",
                            "<tr><td>7</td><td>10628</td><td>2015-08-12</td></tr>",
                            "<tr><td>8</td><td>10970</td><td>2016-03-24</td></tr>",
                            "<tr><td>8</td><td>10801</td><td>2015-12-29</td></tr>",
                            "<tr><td>8</td><td>10326</td><td>2014-10-10</td></tr>",
                            "<tr><td>9</td><td>11076</td><td>2016-05-06</td></tr>",
                            "<tr><td>9</td><td>10940</td><td>2016-03-11</td></tr>",
                            "<tr><td>9</td><td>10932</td><td>2016-03-06</td></tr>",
                            "<tr><td>10</td><td>11048</td><td>2016-04-24</td></tr>",
                            "<tr><td>10</td><td>11045</td><td>2016-04-23</td></tr>",
                            "<tr><td>10</td><td>11027</td><td>2016-04-16</td></tr>",
                            "<tr><td>11</td><td>11023</td><td>2016-04-14</td></tr>",
                            "<tr><td>11</td><td>10947</td><td>2016-03-13</td></tr>",
                            "<tr><td>11</td><td>10943</td><td>2016-03-11</td></tr>",
                            "<tr><td>12</td><td>11054</td><td>2016-04-28</td></tr>",
                            "<tr><td>12</td><td>10937</td><td>2016-03-10</td></tr>",
                            "<tr><td>12</td><td>10881</td><td>2016-02-11</td></tr>",
                            "<tr><td>13</td><td>10259</td><td>2014-07-18</td></tr>",
                            "<tr><td>14</td><td>11041</td><td>2016-04-22</td></tr>",
                            "<tr><td>14</td><td>11029</td><td>2016-04-16</td></tr>",
                            "<tr><td>14</td><td>10966</td><td>2016-03-20</td></tr>",
                            "<tr><td>15</td><td>11042</td><td>2016-04-22</td></tr>",
                            "<tr><td>15</td><td>10969</td><td>2016-03-23</td></tr>",
                            "<tr><td>15</td><td>10494</td><td>2015-04-02</td></tr>",
                            "<tr><td>16</td><td>10848</td><td>2016-01-23</td></tr>",
                            "<tr><td>16</td><td>10462</td><td>2015-03-03</td></tr>",
                            "<tr><td>16</td><td>10435</td><td>2015-02-04</td></tr>",
                            "<tr><td>17</td><td>11067</td><td>2016-05-04</td></tr>",
                            "<tr><td>17</td><td>11036</td><td>2016-04-20</td></tr>",
                            "<tr><td>17</td><td>10825</td><td>2016-01-09</td></tr>",
                            "<tr><td>18</td><td>10890</td><td>2016-02-16</td></tr>",
                            "<tr><td>18</td><td>10683</td><td>2015-09-26</td></tr>",
                            "<tr><td>18</td><td>10609</td><td>2015-07-24</td></tr>",
                            "<tr><td>19</td><td>11056</td><td>2016-04-28</td></tr>",
                            "<tr><td>19</td><td>11047</td><td>2016-04-24</td></tr>",
                            "<tr><td>19</td><td>11024</td><td>2016-04-15</td></tr>",
                            "<tr><td>20</td><td>11072</td><td>2016-05-05</td></tr>",
                            "<tr><td>20</td><td>11017</td><td>2016-04-13</td></tr>",
                            "<tr><td>20</td><td>11008</td><td>2016-04-08</td></tr>",
                            "<tr><td>21</td><td>10725</td><td>2015-10-31</td></tr>",
                            "<tr><td>21</td><td>10650</td><td>2015-08-29</td></tr>",
                            "<tr><td>21</td><td>10581</td><td>2015-06-26</td></tr>",
                            "<tr><td>23</td><td>10789</td><td>2015-12-22</td></tr>",
                            "<tr><td>23</td><td>10763</td><td>2015-12-03</td></tr>",
                            "<tr><td>23</td><td>10634</td><td>2015-08-15</td></tr>",
                            "<tr><td>24</td><td>11050</td><td>2016-04-27</td></tr>",
                            "<tr><td>24</td><td>11001</td><td>2016-04-06</td></tr>",
                            "<tr><td>24</td><td>10993</td><td>2016-04-01</td></tr>",
                            "<tr><td>25</td><td>11012</td><td>2016-04-09</td></tr>",
                            "<tr><td>25</td><td>10929</td><td>2016-03-05</td></tr>",
                            "<tr><td>25</td><td>10859</td><td>2016-01-29</td></tr>",
                            "<tr><td>26</td><td>10971</td><td>2016-03-24</td></tr>",
                            "<tr><td>26</td><td>10860</td><td>2016-01-29</td></tr>",
                            "<tr><td>26</td><td>10671</td><td>2015-09-17</td></tr>",
                            "<tr><td>27</td><td>11060</td><td>2016-04-30</td></tr>",
                            "<tr><td>27</td><td>11026</td><td>2016-04-15</td></tr>",
                            "<tr><td>27</td><td>10807</td><td>2015-12-31</td></tr>",
                            "<tr><td>28</td><td>10963</td><td>2016-03-19</td></tr>",
                            "<tr><td>28</td><td>10664</td><td>2015-09-10</td></tr>",
                            "<tr><td>28</td><td>10604</td><td>2015-07-18</td></tr>",
                            "<tr><td>29</td><td>10928</td><td>2016-03-05</td></tr>",
                            "<tr><td>29</td><td>10887</td><td>2016-02-13</td></tr>",
                            "<tr><td>29</td><td>10568</td><td>2015-06-13</td></tr>",
                            "<tr><td>30</td><td>11037</td><td>2016-04-21</td></tr>",
                            "<tr><td>30</td><td>11009</td><td>2016-04-08</td></tr>",
                            "<tr><td>30</td><td>10948</td><td>2016-03-13</td></tr>",
                            "<tr><td>31</td><td>11049</td><td>2016-04-24</td></tr>",
                            "<tr><td>31</td><td>10959</td><td>2016-03-18</td></tr>",
                            "<tr><td>31</td><td>10790</td><td>2015-12-22</td></tr>",
                            "<tr><td>32</td><td>11061</td><td>2016-04-30</td></tr>",
                            "<tr><td>32</td><td>11040</td><td>2016-04-22</td></tr>",
                            "<tr><td>32</td><td>11006</td><td>2016-04-07</td></tr>",
                            "<tr><td>33</td><td>10785</td><td>2015-12-18</td></tr>",
                            "<tr><td>33</td><td>10268</td><td>2014-07-30</td></tr>",
                            "<tr><td>34</td><td>11052</td><td>2016-04-27</td></tr>",
                            "<tr><td>34</td><td>11022</td><td>2016-04-14</td></tr>",
                            "<tr><td>34</td><td>10981</td><td>2016-03-27</td></tr>",
                            "<tr><td>35</td><td>11055</td><td>2016-04-28</td></tr>",
                            "<tr><td>35</td><td>10976</td><td>2016-03-25</td></tr>",
                            "<tr><td>35</td><td>10960</td><td>2016-03-19</td></tr>",
                            "<tr><td>36</td><td>10660</td><td>2015-09-08</td></tr>",
                            "<tr><td>36</td><td>10600</td><td>2015-07-16</td></tr>",
                            "<tr><td>36</td><td>10415</td><td>2015-01-15</td></tr>",
                            "<tr><td>37</td><td>11063</td><td>2016-04-30</td></tr>",
                            "<tr><td>37</td><td>10985</td><td>2016-03-30</td></tr>",
                            "<tr><td>37</td><td>10912</td><td>2016-02-26</td></tr>",
                            "<tr><td>38</td><td>10933</td><td>2016-03-06</td></tr>",
                            "<tr><td>38</td><td>10829</td><td>2016-01-13</td></tr>",
                            "<tr><td>38</td><td>10798</td><td>2015-12-26</td></tr>",
                            "<tr><td>39</td><td>11028</td><td>2016-04-16</td></tr>",
                            "<tr><td>39</td><td>10893</td><td>2016-02-18</td></tr>",
                            "<tr><td>39</td><td>10849</td><td>2016-01-23</td></tr>",
                            "<tr><td>40</td><td>10973</td><td>2016-03-24</td></tr>",
                            "<tr><td>40</td><td>10972</td><td>2016-03-24</td></tr>",
                            "<tr><td>40</td><td>10927</td><td>2016-03-05</td></tr>",
                            "<tr><td>41</td><td>11051</td><td>2016-04-27</td></tr>",
                            "<tr><td>41</td><td>10923</td><td>2016-03-03</td></tr>",
                            "<tr><td>41</td><td>10832</td><td>2016-01-14</td></tr>",
                            "<tr><td>42</td><td>10810</td><td>2016-01-01</td></tr>",
                            "<tr><td>42</td><td>10620</td><td>2015-08-05</td></tr>",
                            "<tr><td>42</td><td>10495</td><td>2015-04-03</td></tr>",
                            "<tr><td>43</td><td>10545</td><td>2015-05-22</td></tr>",
                            "<tr><td>43</td><td>10482</td><td>2015-03-21</td></tr>",
                            "<tr><td>44</td><td>11070</td><td>2016-05-05</td></tr>",
                            "<tr><td>44</td><td>10934</td><td>2016-03-09</td></tr>",
                            "<tr><td>44</td><td>10891</td><td>2016-02-17</td></tr>",
                            "<tr><td>45</td><td>10884</td><td>2016-02-12</td></tr>",
                            "<tr><td>45</td><td>10735</td><td>2015-11-10</td></tr>",
                            "<tr><td>45</td><td>10719</td><td>2015-10-27</td></tr>",
                            "<tr><td>46</td><td>11071</td><td>2016-05-05</td></tr>",
                            "<tr><td>46</td><td>11065</td><td>2016-05-01</td></tr>",
                            "<tr><td>46</td><td>10997</td><td>2016-04-03</td></tr>",
                            "<tr><td>47</td><td>11039</td><td>2016-04-21</td></tr>",
                            "<tr><td>47</td><td>11014</td><td>2016-04-10</td></tr>",
                            "<tr><td>47</td><td>10954</td><td>2016-03-17</td></tr>",
                            "<tr><td>48</td><td>11018</td><td>2016-04-13</td></tr>",
                            "<tr><td>48</td><td>10883</td><td>2016-02-12</td></tr>",
                            "<tr><td>48</td><td>10867</td><td>2016-02-03</td></tr>",
                            "<tr><td>49</td><td>10950</td><td>2016-03-16</td></tr>",
                            "<tr><td>49</td><td>10939</td><td>2016-03-10</td></tr>",
                            "<tr><td>49</td><td>10818</td><td>2016-01-07</td></tr>",
                            "<tr><td>50</td><td>11004</td><td>2016-04-07</td></tr>",
                            "<tr><td>50</td><td>10978</td><td>2016-03-26</td></tr>",
                            "<tr><td>50</td><td>10896</td><td>2016-02-19</td></tr>",
                            "<tr><td>51</td><td>10724</td><td>2015-10-30</td></tr>",
                            "<tr><td>51</td><td>10619</td><td>2015-08-04</td></tr>",
                            "<tr><td>51</td><td>10618</td><td>2015-08-01</td></tr>",
                            "<tr><td>52</td><td>10945</td><td>2016-03-12</td></tr>",
                            "<tr><td>52</td><td>10779</td><td>2015-12-16</td></tr>",
                            "<tr><td>52</td><td>10699</td><td>2015-10-09</td></tr>",
                            "<tr><td>53</td><td>11057</td><td>2016-04-29</td></tr>",
                            "<tr><td>53</td><td>10752</td><td>2015-11-24</td></tr>",
                            "<tr><td>53</td><td>10517</td><td>2015-04-24</td></tr>",
                            "<tr><td>54</td><td>10986</td><td>2016-03-30</td></tr>",
                            "<tr><td>54</td><td>10958</td><td>2016-03-18</td></tr>",
                            "<tr><td>54</td><td>10898</td><td>2016-02-20</td></tr>",
                            "<tr><td>55</td><td>11034</td><td>2016-04-20</td></tr>",
                            "<tr><td>55</td><td>10965</td><td>2016-03-20</td></tr>",
                            "<tr><td>55</td><td>10855</td><td>2016-01-27</td></tr>",
                            "<tr><td>56</td><td>11020</td><td>2016-04-14</td></tr>",
                            "<tr><td>56</td><td>10999</td><td>2016-04-03</td></tr>",
                            "<tr><td>56</td><td>10833</td><td>2016-01-15</td></tr>",
                            "<tr><td>58</td><td>11073</td><td>2016-05-05</td></tr>",
                            "<tr><td>58</td><td>10995</td><td>2016-04-02</td></tr>",
                            "<tr><td>58</td><td>10502</td><td>2015-04-10</td></tr>",
                            "<tr><td>59</td><td>11053</td><td>2016-04-27</td></tr>",
                            "<tr><td>59</td><td>10844</td><td>2016-01-21</td></tr>",
                            "<tr><td>59</td><td>10747</td><td>2015-11-19</td></tr>",
                            "<tr><td>60</td><td>11007</td><td>2016-04-08</td></tr>",
                            "<tr><td>60</td><td>10477</td><td>2015-03-17</td></tr>",
                            "<tr><td>60</td><td>10433</td><td>2015-02-03</td></tr>",
                            "<tr><td>61</td><td>10989</td><td>2016-03-31</td></tr>",
                            "<tr><td>61</td><td>10794</td><td>2015-12-24</td></tr>",
                            "<tr><td>61</td><td>10720</td><td>2015-10-28</td></tr>",
                            "<tr><td>62</td><td>11068</td><td>2016-05-04</td></tr>",
                            "<tr><td>62</td><td>10961</td><td>2016-03-19</td></tr>",
                            "<tr><td>62</td><td>10914</td><td>2016-02-27</td></tr>",
                            "<tr><td>63</td><td>11021</td><td>2016-04-14</td></tr>",
                            "<tr><td>63</td><td>10996</td><td>2016-04-02</td></tr>",
                            "<tr><td>63</td><td>10991</td><td>2016-04-01</td></tr>",
                            "<tr><td>64</td><td>11019</td><td>2016-04-13</td></tr>",
                            "<tr><td>64</td><td>10916</td><td>2016-02-27</td></tr>",
                            "<tr><td>64</td><td>10828</td><td>2016-01-13</td></tr>",
                            "<tr><td>65</td><td>11077</td><td>2016-05-06</td></tr>",
                            "<tr><td>65</td><td>11000</td><td>2016-04-06</td></tr>",
                            "<tr><td>65</td><td>10988</td><td>2016-03-31</td></tr>",
                            "<tr><td>66</td><td>11062</td><td>2016-04-30</td></tr>",
                            "<tr><td>66</td><td>11010</td><td>2016-04-09</td></tr>",
                            "<tr><td>66</td><td>10942</td><td>2016-03-11</td></tr>",
                            "<tr><td>67</td><td>11059</td><td>2016-04-29</td></tr>",
                            "<tr><td>67</td><td>10877</td><td>2016-02-09</td></tr>",
                            "<tr><td>67</td><td>10851</td><td>2016-01-26</td></tr>",
                            "<tr><td>68</td><td>11075</td><td>2016-05-06</td></tr>",
                            "<tr><td>68</td><td>11033</td><td>2016-04-17</td></tr>",
                            "<tr><td>68</td><td>10951</td><td>2016-03-16</td></tr>",
                            "<tr><td>69</td><td>11013</td><td>2016-04-09</td></tr>",
                            "<tr><td>69</td><td>10917</td><td>2016-03-02</td></tr>",
                            "<tr><td>69</td><td>10306</td><td>2014-09-16</td></tr>",
                            "<tr><td>70</td><td>11015</td><td>2016-04-10</td></tr>",
                            "<tr><td>70</td><td>10909</td><td>2016-02-26</td></tr>",
                            "<tr><td>70</td><td>10831</td><td>2016-01-14</td></tr>",
                            "<tr><td>71</td><td>11064</td><td>2016-05-01</td></tr>",
                            "<tr><td>71</td><td>11031</td><td>2016-04-17</td></tr>",
                            "<tr><td>71</td><td>11030</td><td>2016-04-17</td></tr>",
                            "<tr><td>72</td><td>10869</td><td>2016-02-04</td></tr>",
                            "<tr><td>72</td><td>10804</td><td>2015-12-30</td></tr>",
                            "<tr><td>72</td><td>10800</td><td>2015-12-26</td></tr>",
                            "<tr><td>73</td><td>11074</td><td>2016-05-06</td></tr>",
                            "<tr><td>73</td><td>10802</td><td>2015-12-29</td></tr>",
                            "<tr><td>73</td><td>10669</td><td>2015-09-15</td></tr>",
                            "<tr><td>74</td><td>11043</td><td>2016-04-22</td></tr>",
                            "<tr><td>74</td><td>10964</td><td>2016-03-20</td></tr>",
                            "<tr><td>74</td><td>10907</td><td>2016-02-25</td></tr>",
                            "<tr><td>75</td><td>10974</td><td>2016-03-25</td></tr>",
                            "<tr><td>75</td><td>10821</td><td>2016-01-08</td></tr>",
                            "<tr><td>75</td><td>10756</td><td>2015-11-27</td></tr>",
                            "<tr><td>76</td><td>11038</td><td>2016-04-21</td></tr>",
                            "<tr><td>76</td><td>11035</td><td>2016-04-20</td></tr>",
                            "<tr><td>76</td><td>10930</td><td>2016-03-06</td></tr>",
                            "<tr><td>77</td><td>10992</td><td>2016-04-01</td></tr>",
                            "<tr><td>77</td><td>10805</td><td>2015-12-30</td></tr>",
                            "<tr><td>77</td><td>10708</td><td>2015-10-17</td></tr>",
                            "<tr><td>78</td><td>11003</td><td>2016-04-06</td></tr>",
                            "<tr><td>78</td><td>10775</td><td>2015-12-12</td></tr>",
                            "<tr><td>78</td><td>10624</td><td>2015-08-07</td></tr>",
                            "<tr><td>79</td><td>10967</td><td>2016-03-23</td></tr>",
                            "<tr><td>79</td><td>10608</td><td>2015-07-23</td></tr>",
                            "<tr><td>79</td><td>10548</td><td>2015-05-26</td></tr>",
                            "<tr><td>80</td><td>11069</td><td>2016-05-04</td></tr>",
                            "<tr><td>80</td><td>10915</td><td>2016-02-27</td></tr>",
                            "<tr><td>80</td><td>10842</td><td>2016-01-20</td></tr>",
                            "<tr><td>81</td><td>10839</td><td>2016-01-19</td></tr>",
                            "<tr><td>81</td><td>10834</td><td>2016-01-15</td></tr>",
                            "<tr><td>81</td><td>10830</td><td>2016-01-13</td></tr>",
                            "<tr><td>82</td><td>10822</td><td>2016-01-08</td></tr>",
                            "<tr><td>82</td><td>10577</td><td>2015-06-23</td></tr>",
                            "<tr><td>82</td><td>10574</td><td>2015-06-19</td></tr>",
                            "<tr><td>83</td><td>10994</td><td>2016-04-02</td></tr>",
                            "<tr><td>83</td><td>10946</td><td>2016-03-12</td></tr>",
                            "<tr><td>83</td><td>10921</td><td>2016-03-03</td></tr>",
                            "<tr><td>84</td><td>10850</td><td>2016-01-23</td></tr>",
                            "<tr><td>84</td><td>10843</td><td>2016-01-21</td></tr>",
                            "<tr><td>84</td><td>10814</td><td>2016-01-05</td></tr>",
                            "<tr><td>85</td><td>10739</td><td>2015-11-12</td></tr>",
                            "<tr><td>85</td><td>10737</td><td>2015-11-11</td></tr>",
                            "<tr><td>85</td><td>10295</td><td>2014-09-02</td></tr>",
                            "<tr><td>86</td><td>11046</td><td>2016-04-23</td></tr>",
                            "<tr><td>86</td><td>10668</td><td>2015-09-15</td></tr>",
                            "<tr><td>86</td><td>10651</td><td>2015-09-01</td></tr>",
                            "<tr><td>87</td><td>11025</td><td>2016-04-15</td></tr>",
                            "<tr><td>87</td><td>10781</td><td>2015-12-17</td></tr>",
                            "<tr><td>87</td><td>10750</td><td>2015-11-21</td></tr>",
                            "<tr><td>88</td><td>10935</td><td>2016-03-09</td></tr>",
                            "<tr><td>88</td><td>10905</td><td>2016-02-24</td></tr>",
                            "<tr><td>88</td><td>10900</td><td>2016-02-20</td></tr>",
                            "<tr><td>89</td><td>11066</td><td>2016-05-01</td></tr>",
                            "<tr><td>89</td><td>11032</td><td>2016-04-17</td></tr>",
                            "<tr><td>89</td><td>10904</td><td>2016-02-24</td></tr>",
                            "<tr><td>90</td><td>11005</td><td>2016-04-07</td></tr>",
                            "<tr><td>90</td><td>10910</td><td>2016-02-26</td></tr>",
                            "<tr><td>90</td><td>10879</td><td>2016-02-10</td></tr>",
                            "<tr><td>91</td><td>11044</td><td>2016-04-23</td></tr>",
                            "<tr><td>91</td><td>10998</td><td>2016-04-03</td></tr>",
                            "<tr><td>91</td><td>10906</td><td>2016-02-25</td></tr>",
                            "</table>"
                        ]
                    }
                },
                {
                    "output_type": "execute_result",
                    "metadata": {},
                    "execution_count": 19,
                    "data": {
                        "application/vnd.dataresource+json": {
                            "schema": {
                                "fields": [
                                    {
                                        "name": "CustomerId"
                                    },
                                    {
                                        "name": "orderid"
                                    },
                                    {
                                        "name": "orderdate"
                                    }
                                ]
                            },
                            "data": [
                                {
                                    "0": "1",
                                    "1": "11011",
                                    "2": "2016-04-09"
                                },
                                {
                                    "0": "1",
                                    "1": "10952",
                                    "2": "2016-03-16"
                                },
                                {
                                    "0": "1",
                                    "1": "10835",
                                    "2": "2016-01-15"
                                },
                                {
                                    "0": "2",
                                    "1": "10926",
                                    "2": "2016-03-04"
                                },
                                {
                                    "0": "2",
                                    "1": "10759",
                                    "2": "2015-11-28"
                                },
                                {
                                    "0": "2",
                                    "1": "10625",
                                    "2": "2015-08-08"
                                },
                                {
                                    "0": "3",
                                    "1": "10856",
                                    "2": "2016-01-28"
                                },
                                {
                                    "0": "3",
                                    "1": "10682",
                                    "2": "2015-09-25"
                                },
                                {
                                    "0": "3",
                                    "1": "10677",
                                    "2": "2015-09-22"
                                },
                                {
                                    "0": "4",
                                    "1": "11016",
                                    "2": "2016-04-10"
                                },
                                {
                                    "0": "4",
                                    "1": "10953",
                                    "2": "2016-03-16"
                                },
                                {
                                    "0": "4",
                                    "1": "10920",
                                    "2": "2016-03-03"
                                },
                                {
                                    "0": "5",
                                    "1": "10924",
                                    "2": "2016-03-04"
                                },
                                {
                                    "0": "5",
                                    "1": "10875",
                                    "2": "2016-02-06"
                                },
                                {
                                    "0": "5",
                                    "1": "10866",
                                    "2": "2016-02-03"
                                },
                                {
                                    "0": "6",
                                    "1": "11058",
                                    "2": "2016-04-29"
                                },
                                {
                                    "0": "6",
                                    "1": "10956",
                                    "2": "2016-03-17"
                                },
                                {
                                    "0": "6",
                                    "1": "10853",
                                    "2": "2016-01-27"
                                },
                                {
                                    "0": "7",
                                    "1": "10826",
                                    "2": "2016-01-12"
                                },
                                {
                                    "0": "7",
                                    "1": "10679",
                                    "2": "2015-09-23"
                                },
                                {
                                    "0": "7",
                                    "1": "10628",
                                    "2": "2015-08-12"
                                },
                                {
                                    "0": "8",
                                    "1": "10970",
                                    "2": "2016-03-24"
                                },
                                {
                                    "0": "8",
                                    "1": "10801",
                                    "2": "2015-12-29"
                                },
                                {
                                    "0": "8",
                                    "1": "10326",
                                    "2": "2014-10-10"
                                },
                                {
                                    "0": "9",
                                    "1": "11076",
                                    "2": "2016-05-06"
                                },
                                {
                                    "0": "9",
                                    "1": "10940",
                                    "2": "2016-03-11"
                                },
                                {
                                    "0": "9",
                                    "1": "10932",
                                    "2": "2016-03-06"
                                },
                                {
                                    "0": "10",
                                    "1": "11048",
                                    "2": "2016-04-24"
                                },
                                {
                                    "0": "10",
                                    "1": "11045",
                                    "2": "2016-04-23"
                                },
                                {
                                    "0": "10",
                                    "1": "11027",
                                    "2": "2016-04-16"
                                },
                                {
                                    "0": "11",
                                    "1": "11023",
                                    "2": "2016-04-14"
                                },
                                {
                                    "0": "11",
                                    "1": "10947",
                                    "2": "2016-03-13"
                                },
                                {
                                    "0": "11",
                                    "1": "10943",
                                    "2": "2016-03-11"
                                },
                                {
                                    "0": "12",
                                    "1": "11054",
                                    "2": "2016-04-28"
                                },
                                {
                                    "0": "12",
                                    "1": "10937",
                                    "2": "2016-03-10"
                                },
                                {
                                    "0": "12",
                                    "1": "10881",
                                    "2": "2016-02-11"
                                },
                                {
                                    "0": "13",
                                    "1": "10259",
                                    "2": "2014-07-18"
                                },
                                {
                                    "0": "14",
                                    "1": "11041",
                                    "2": "2016-04-22"
                                },
                                {
                                    "0": "14",
                                    "1": "11029",
                                    "2": "2016-04-16"
                                },
                                {
                                    "0": "14",
                                    "1": "10966",
                                    "2": "2016-03-20"
                                },
                                {
                                    "0": "15",
                                    "1": "11042",
                                    "2": "2016-04-22"
                                },
                                {
                                    "0": "15",
                                    "1": "10969",
                                    "2": "2016-03-23"
                                },
                                {
                                    "0": "15",
                                    "1": "10494",
                                    "2": "2015-04-02"
                                },
                                {
                                    "0": "16",
                                    "1": "10848",
                                    "2": "2016-01-23"
                                },
                                {
                                    "0": "16",
                                    "1": "10462",
                                    "2": "2015-03-03"
                                },
                                {
                                    "0": "16",
                                    "1": "10435",
                                    "2": "2015-02-04"
                                },
                                {
                                    "0": "17",
                                    "1": "11067",
                                    "2": "2016-05-04"
                                },
                                {
                                    "0": "17",
                                    "1": "11036",
                                    "2": "2016-04-20"
                                },
                                {
                                    "0": "17",
                                    "1": "10825",
                                    "2": "2016-01-09"
                                },
                                {
                                    "0": "18",
                                    "1": "10890",
                                    "2": "2016-02-16"
                                },
                                {
                                    "0": "18",
                                    "1": "10683",
                                    "2": "2015-09-26"
                                },
                                {
                                    "0": "18",
                                    "1": "10609",
                                    "2": "2015-07-24"
                                },
                                {
                                    "0": "19",
                                    "1": "11056",
                                    "2": "2016-04-28"
                                },
                                {
                                    "0": "19",
                                    "1": "11047",
                                    "2": "2016-04-24"
                                },
                                {
                                    "0": "19",
                                    "1": "11024",
                                    "2": "2016-04-15"
                                },
                                {
                                    "0": "20",
                                    "1": "11072",
                                    "2": "2016-05-05"
                                },
                                {
                                    "0": "20",
                                    "1": "11017",
                                    "2": "2016-04-13"
                                },
                                {
                                    "0": "20",
                                    "1": "11008",
                                    "2": "2016-04-08"
                                },
                                {
                                    "0": "21",
                                    "1": "10725",
                                    "2": "2015-10-31"
                                },
                                {
                                    "0": "21",
                                    "1": "10650",
                                    "2": "2015-08-29"
                                },
                                {
                                    "0": "21",
                                    "1": "10581",
                                    "2": "2015-06-26"
                                },
                                {
                                    "0": "23",
                                    "1": "10789",
                                    "2": "2015-12-22"
                                },
                                {
                                    "0": "23",
                                    "1": "10763",
                                    "2": "2015-12-03"
                                },
                                {
                                    "0": "23",
                                    "1": "10634",
                                    "2": "2015-08-15"
                                },
                                {
                                    "0": "24",
                                    "1": "11050",
                                    "2": "2016-04-27"
                                },
                                {
                                    "0": "24",
                                    "1": "11001",
                                    "2": "2016-04-06"
                                },
                                {
                                    "0": "24",
                                    "1": "10993",
                                    "2": "2016-04-01"
                                },
                                {
                                    "0": "25",
                                    "1": "11012",
                                    "2": "2016-04-09"
                                },
                                {
                                    "0": "25",
                                    "1": "10929",
                                    "2": "2016-03-05"
                                },
                                {
                                    "0": "25",
                                    "1": "10859",
                                    "2": "2016-01-29"
                                },
                                {
                                    "0": "26",
                                    "1": "10971",
                                    "2": "2016-03-24"
                                },
                                {
                                    "0": "26",
                                    "1": "10860",
                                    "2": "2016-01-29"
                                },
                                {
                                    "0": "26",
                                    "1": "10671",
                                    "2": "2015-09-17"
                                },
                                {
                                    "0": "27",
                                    "1": "11060",
                                    "2": "2016-04-30"
                                },
                                {
                                    "0": "27",
                                    "1": "11026",
                                    "2": "2016-04-15"
                                },
                                {
                                    "0": "27",
                                    "1": "10807",
                                    "2": "2015-12-31"
                                },
                                {
                                    "0": "28",
                                    "1": "10963",
                                    "2": "2016-03-19"
                                },
                                {
                                    "0": "28",
                                    "1": "10664",
                                    "2": "2015-09-10"
                                },
                                {
                                    "0": "28",
                                    "1": "10604",
                                    "2": "2015-07-18"
                                },
                                {
                                    "0": "29",
                                    "1": "10928",
                                    "2": "2016-03-05"
                                },
                                {
                                    "0": "29",
                                    "1": "10887",
                                    "2": "2016-02-13"
                                },
                                {
                                    "0": "29",
                                    "1": "10568",
                                    "2": "2015-06-13"
                                },
                                {
                                    "0": "30",
                                    "1": "11037",
                                    "2": "2016-04-21"
                                },
                                {
                                    "0": "30",
                                    "1": "11009",
                                    "2": "2016-04-08"
                                },
                                {
                                    "0": "30",
                                    "1": "10948",
                                    "2": "2016-03-13"
                                },
                                {
                                    "0": "31",
                                    "1": "11049",
                                    "2": "2016-04-24"
                                },
                                {
                                    "0": "31",
                                    "1": "10959",
                                    "2": "2016-03-18"
                                },
                                {
                                    "0": "31",
                                    "1": "10790",
                                    "2": "2015-12-22"
                                },
                                {
                                    "0": "32",
                                    "1": "11061",
                                    "2": "2016-04-30"
                                },
                                {
                                    "0": "32",
                                    "1": "11040",
                                    "2": "2016-04-22"
                                },
                                {
                                    "0": "32",
                                    "1": "11006",
                                    "2": "2016-04-07"
                                },
                                {
                                    "0": "33",
                                    "1": "10785",
                                    "2": "2015-12-18"
                                },
                                {
                                    "0": "33",
                                    "1": "10268",
                                    "2": "2014-07-30"
                                },
                                {
                                    "0": "34",
                                    "1": "11052",
                                    "2": "2016-04-27"
                                },
                                {
                                    "0": "34",
                                    "1": "11022",
                                    "2": "2016-04-14"
                                },
                                {
                                    "0": "34",
                                    "1": "10981",
                                    "2": "2016-03-27"
                                },
                                {
                                    "0": "35",
                                    "1": "11055",
                                    "2": "2016-04-28"
                                },
                                {
                                    "0": "35",
                                    "1": "10976",
                                    "2": "2016-03-25"
                                },
                                {
                                    "0": "35",
                                    "1": "10960",
                                    "2": "2016-03-19"
                                },
                                {
                                    "0": "36",
                                    "1": "10660",
                                    "2": "2015-09-08"
                                },
                                {
                                    "0": "36",
                                    "1": "10600",
                                    "2": "2015-07-16"
                                },
                                {
                                    "0": "36",
                                    "1": "10415",
                                    "2": "2015-01-15"
                                },
                                {
                                    "0": "37",
                                    "1": "11063",
                                    "2": "2016-04-30"
                                },
                                {
                                    "0": "37",
                                    "1": "10985",
                                    "2": "2016-03-30"
                                },
                                {
                                    "0": "37",
                                    "1": "10912",
                                    "2": "2016-02-26"
                                },
                                {
                                    "0": "38",
                                    "1": "10933",
                                    "2": "2016-03-06"
                                },
                                {
                                    "0": "38",
                                    "1": "10829",
                                    "2": "2016-01-13"
                                },
                                {
                                    "0": "38",
                                    "1": "10798",
                                    "2": "2015-12-26"
                                },
                                {
                                    "0": "39",
                                    "1": "11028",
                                    "2": "2016-04-16"
                                },
                                {
                                    "0": "39",
                                    "1": "10893",
                                    "2": "2016-02-18"
                                },
                                {
                                    "0": "39",
                                    "1": "10849",
                                    "2": "2016-01-23"
                                },
                                {
                                    "0": "40",
                                    "1": "10973",
                                    "2": "2016-03-24"
                                },
                                {
                                    "0": "40",
                                    "1": "10972",
                                    "2": "2016-03-24"
                                },
                                {
                                    "0": "40",
                                    "1": "10927",
                                    "2": "2016-03-05"
                                },
                                {
                                    "0": "41",
                                    "1": "11051",
                                    "2": "2016-04-27"
                                },
                                {
                                    "0": "41",
                                    "1": "10923",
                                    "2": "2016-03-03"
                                },
                                {
                                    "0": "41",
                                    "1": "10832",
                                    "2": "2016-01-14"
                                },
                                {
                                    "0": "42",
                                    "1": "10810",
                                    "2": "2016-01-01"
                                },
                                {
                                    "0": "42",
                                    "1": "10620",
                                    "2": "2015-08-05"
                                },
                                {
                                    "0": "42",
                                    "1": "10495",
                                    "2": "2015-04-03"
                                },
                                {
                                    "0": "43",
                                    "1": "10545",
                                    "2": "2015-05-22"
                                },
                                {
                                    "0": "43",
                                    "1": "10482",
                                    "2": "2015-03-21"
                                },
                                {
                                    "0": "44",
                                    "1": "11070",
                                    "2": "2016-05-05"
                                },
                                {
                                    "0": "44",
                                    "1": "10934",
                                    "2": "2016-03-09"
                                },
                                {
                                    "0": "44",
                                    "1": "10891",
                                    "2": "2016-02-17"
                                },
                                {
                                    "0": "45",
                                    "1": "10884",
                                    "2": "2016-02-12"
                                },
                                {
                                    "0": "45",
                                    "1": "10735",
                                    "2": "2015-11-10"
                                },
                                {
                                    "0": "45",
                                    "1": "10719",
                                    "2": "2015-10-27"
                                },
                                {
                                    "0": "46",
                                    "1": "11071",
                                    "2": "2016-05-05"
                                },
                                {
                                    "0": "46",
                                    "1": "11065",
                                    "2": "2016-05-01"
                                },
                                {
                                    "0": "46",
                                    "1": "10997",
                                    "2": "2016-04-03"
                                },
                                {
                                    "0": "47",
                                    "1": "11039",
                                    "2": "2016-04-21"
                                },
                                {
                                    "0": "47",
                                    "1": "11014",
                                    "2": "2016-04-10"
                                },
                                {
                                    "0": "47",
                                    "1": "10954",
                                    "2": "2016-03-17"
                                },
                                {
                                    "0": "48",
                                    "1": "11018",
                                    "2": "2016-04-13"
                                },
                                {
                                    "0": "48",
                                    "1": "10883",
                                    "2": "2016-02-12"
                                },
                                {
                                    "0": "48",
                                    "1": "10867",
                                    "2": "2016-02-03"
                                },
                                {
                                    "0": "49",
                                    "1": "10950",
                                    "2": "2016-03-16"
                                },
                                {
                                    "0": "49",
                                    "1": "10939",
                                    "2": "2016-03-10"
                                },
                                {
                                    "0": "49",
                                    "1": "10818",
                                    "2": "2016-01-07"
                                },
                                {
                                    "0": "50",
                                    "1": "11004",
                                    "2": "2016-04-07"
                                },
                                {
                                    "0": "50",
                                    "1": "10978",
                                    "2": "2016-03-26"
                                },
                                {
                                    "0": "50",
                                    "1": "10896",
                                    "2": "2016-02-19"
                                },
                                {
                                    "0": "51",
                                    "1": "10724",
                                    "2": "2015-10-30"
                                },
                                {
                                    "0": "51",
                                    "1": "10619",
                                    "2": "2015-08-04"
                                },
                                {
                                    "0": "51",
                                    "1": "10618",
                                    "2": "2015-08-01"
                                },
                                {
                                    "0": "52",
                                    "1": "10945",
                                    "2": "2016-03-12"
                                },
                                {
                                    "0": "52",
                                    "1": "10779",
                                    "2": "2015-12-16"
                                },
                                {
                                    "0": "52",
                                    "1": "10699",
                                    "2": "2015-10-09"
                                },
                                {
                                    "0": "53",
                                    "1": "11057",
                                    "2": "2016-04-29"
                                },
                                {
                                    "0": "53",
                                    "1": "10752",
                                    "2": "2015-11-24"
                                },
                                {
                                    "0": "53",
                                    "1": "10517",
                                    "2": "2015-04-24"
                                },
                                {
                                    "0": "54",
                                    "1": "10986",
                                    "2": "2016-03-30"
                                },
                                {
                                    "0": "54",
                                    "1": "10958",
                                    "2": "2016-03-18"
                                },
                                {
                                    "0": "54",
                                    "1": "10898",
                                    "2": "2016-02-20"
                                },
                                {
                                    "0": "55",
                                    "1": "11034",
                                    "2": "2016-04-20"
                                },
                                {
                                    "0": "55",
                                    "1": "10965",
                                    "2": "2016-03-20"
                                },
                                {
                                    "0": "55",
                                    "1": "10855",
                                    "2": "2016-01-27"
                                },
                                {
                                    "0": "56",
                                    "1": "11020",
                                    "2": "2016-04-14"
                                },
                                {
                                    "0": "56",
                                    "1": "10999",
                                    "2": "2016-04-03"
                                },
                                {
                                    "0": "56",
                                    "1": "10833",
                                    "2": "2016-01-15"
                                },
                                {
                                    "0": "58",
                                    "1": "11073",
                                    "2": "2016-05-05"
                                },
                                {
                                    "0": "58",
                                    "1": "10995",
                                    "2": "2016-04-02"
                                },
                                {
                                    "0": "58",
                                    "1": "10502",
                                    "2": "2015-04-10"
                                },
                                {
                                    "0": "59",
                                    "1": "11053",
                                    "2": "2016-04-27"
                                },
                                {
                                    "0": "59",
                                    "1": "10844",
                                    "2": "2016-01-21"
                                },
                                {
                                    "0": "59",
                                    "1": "10747",
                                    "2": "2015-11-19"
                                },
                                {
                                    "0": "60",
                                    "1": "11007",
                                    "2": "2016-04-08"
                                },
                                {
                                    "0": "60",
                                    "1": "10477",
                                    "2": "2015-03-17"
                                },
                                {
                                    "0": "60",
                                    "1": "10433",
                                    "2": "2015-02-03"
                                },
                                {
                                    "0": "61",
                                    "1": "10989",
                                    "2": "2016-03-31"
                                },
                                {
                                    "0": "61",
                                    "1": "10794",
                                    "2": "2015-12-24"
                                },
                                {
                                    "0": "61",
                                    "1": "10720",
                                    "2": "2015-10-28"
                                },
                                {
                                    "0": "62",
                                    "1": "11068",
                                    "2": "2016-05-04"
                                },
                                {
                                    "0": "62",
                                    "1": "10961",
                                    "2": "2016-03-19"
                                },
                                {
                                    "0": "62",
                                    "1": "10914",
                                    "2": "2016-02-27"
                                },
                                {
                                    "0": "63",
                                    "1": "11021",
                                    "2": "2016-04-14"
                                },
                                {
                                    "0": "63",
                                    "1": "10996",
                                    "2": "2016-04-02"
                                },
                                {
                                    "0": "63",
                                    "1": "10991",
                                    "2": "2016-04-01"
                                },
                                {
                                    "0": "64",
                                    "1": "11019",
                                    "2": "2016-04-13"
                                },
                                {
                                    "0": "64",
                                    "1": "10916",
                                    "2": "2016-02-27"
                                },
                                {
                                    "0": "64",
                                    "1": "10828",
                                    "2": "2016-01-13"
                                },
                                {
                                    "0": "65",
                                    "1": "11077",
                                    "2": "2016-05-06"
                                },
                                {
                                    "0": "65",
                                    "1": "11000",
                                    "2": "2016-04-06"
                                },
                                {
                                    "0": "65",
                                    "1": "10988",
                                    "2": "2016-03-31"
                                },
                                {
                                    "0": "66",
                                    "1": "11062",
                                    "2": "2016-04-30"
                                },
                                {
                                    "0": "66",
                                    "1": "11010",
                                    "2": "2016-04-09"
                                },
                                {
                                    "0": "66",
                                    "1": "10942",
                                    "2": "2016-03-11"
                                },
                                {
                                    "0": "67",
                                    "1": "11059",
                                    "2": "2016-04-29"
                                },
                                {
                                    "0": "67",
                                    "1": "10877",
                                    "2": "2016-02-09"
                                },
                                {
                                    "0": "67",
                                    "1": "10851",
                                    "2": "2016-01-26"
                                },
                                {
                                    "0": "68",
                                    "1": "11075",
                                    "2": "2016-05-06"
                                },
                                {
                                    "0": "68",
                                    "1": "11033",
                                    "2": "2016-04-17"
                                },
                                {
                                    "0": "68",
                                    "1": "10951",
                                    "2": "2016-03-16"
                                },
                                {
                                    "0": "69",
                                    "1": "11013",
                                    "2": "2016-04-09"
                                },
                                {
                                    "0": "69",
                                    "1": "10917",
                                    "2": "2016-03-02"
                                },
                                {
                                    "0": "69",
                                    "1": "10306",
                                    "2": "2014-09-16"
                                },
                                {
                                    "0": "70",
                                    "1": "11015",
                                    "2": "2016-04-10"
                                },
                                {
                                    "0": "70",
                                    "1": "10909",
                                    "2": "2016-02-26"
                                },
                                {
                                    "0": "70",
                                    "1": "10831",
                                    "2": "2016-01-14"
                                },
                                {
                                    "0": "71",
                                    "1": "11064",
                                    "2": "2016-05-01"
                                },
                                {
                                    "0": "71",
                                    "1": "11031",
                                    "2": "2016-04-17"
                                },
                                {
                                    "0": "71",
                                    "1": "11030",
                                    "2": "2016-04-17"
                                },
                                {
                                    "0": "72",
                                    "1": "10869",
                                    "2": "2016-02-04"
                                },
                                {
                                    "0": "72",
                                    "1": "10804",
                                    "2": "2015-12-30"
                                },
                                {
                                    "0": "72",
                                    "1": "10800",
                                    "2": "2015-12-26"
                                },
                                {
                                    "0": "73",
                                    "1": "11074",
                                    "2": "2016-05-06"
                                },
                                {
                                    "0": "73",
                                    "1": "10802",
                                    "2": "2015-12-29"
                                },
                                {
                                    "0": "73",
                                    "1": "10669",
                                    "2": "2015-09-15"
                                },
                                {
                                    "0": "74",
                                    "1": "11043",
                                    "2": "2016-04-22"
                                },
                                {
                                    "0": "74",
                                    "1": "10964",
                                    "2": "2016-03-20"
                                },
                                {
                                    "0": "74",
                                    "1": "10907",
                                    "2": "2016-02-25"
                                },
                                {
                                    "0": "75",
                                    "1": "10974",
                                    "2": "2016-03-25"
                                },
                                {
                                    "0": "75",
                                    "1": "10821",
                                    "2": "2016-01-08"
                                },
                                {
                                    "0": "75",
                                    "1": "10756",
                                    "2": "2015-11-27"
                                },
                                {
                                    "0": "76",
                                    "1": "11038",
                                    "2": "2016-04-21"
                                },
                                {
                                    "0": "76",
                                    "1": "11035",
                                    "2": "2016-04-20"
                                },
                                {
                                    "0": "76",
                                    "1": "10930",
                                    "2": "2016-03-06"
                                },
                                {
                                    "0": "77",
                                    "1": "10992",
                                    "2": "2016-04-01"
                                },
                                {
                                    "0": "77",
                                    "1": "10805",
                                    "2": "2015-12-30"
                                },
                                {
                                    "0": "77",
                                    "1": "10708",
                                    "2": "2015-10-17"
                                },
                                {
                                    "0": "78",
                                    "1": "11003",
                                    "2": "2016-04-06"
                                },
                                {
                                    "0": "78",
                                    "1": "10775",
                                    "2": "2015-12-12"
                                },
                                {
                                    "0": "78",
                                    "1": "10624",
                                    "2": "2015-08-07"
                                },
                                {
                                    "0": "79",
                                    "1": "10967",
                                    "2": "2016-03-23"
                                },
                                {
                                    "0": "79",
                                    "1": "10608",
                                    "2": "2015-07-23"
                                },
                                {
                                    "0": "79",
                                    "1": "10548",
                                    "2": "2015-05-26"
                                },
                                {
                                    "0": "80",
                                    "1": "11069",
                                    "2": "2016-05-04"
                                },
                                {
                                    "0": "80",
                                    "1": "10915",
                                    "2": "2016-02-27"
                                },
                                {
                                    "0": "80",
                                    "1": "10842",
                                    "2": "2016-01-20"
                                },
                                {
                                    "0": "81",
                                    "1": "10839",
                                    "2": "2016-01-19"
                                },
                                {
                                    "0": "81",
                                    "1": "10834",
                                    "2": "2016-01-15"
                                },
                                {
                                    "0": "81",
                                    "1": "10830",
                                    "2": "2016-01-13"
                                },
                                {
                                    "0": "82",
                                    "1": "10822",
                                    "2": "2016-01-08"
                                },
                                {
                                    "0": "82",
                                    "1": "10577",
                                    "2": "2015-06-23"
                                },
                                {
                                    "0": "82",
                                    "1": "10574",
                                    "2": "2015-06-19"
                                },
                                {
                                    "0": "83",
                                    "1": "10994",
                                    "2": "2016-04-02"
                                },
                                {
                                    "0": "83",
                                    "1": "10946",
                                    "2": "2016-03-12"
                                },
                                {
                                    "0": "83",
                                    "1": "10921",
                                    "2": "2016-03-03"
                                },
                                {
                                    "0": "84",
                                    "1": "10850",
                                    "2": "2016-01-23"
                                },
                                {
                                    "0": "84",
                                    "1": "10843",
                                    "2": "2016-01-21"
                                },
                                {
                                    "0": "84",
                                    "1": "10814",
                                    "2": "2016-01-05"
                                },
                                {
                                    "0": "85",
                                    "1": "10739",
                                    "2": "2015-11-12"
                                },
                                {
                                    "0": "85",
                                    "1": "10737",
                                    "2": "2015-11-11"
                                },
                                {
                                    "0": "85",
                                    "1": "10295",
                                    "2": "2014-09-02"
                                },
                                {
                                    "0": "86",
                                    "1": "11046",
                                    "2": "2016-04-23"
                                },
                                {
                                    "0": "86",
                                    "1": "10668",
                                    "2": "2015-09-15"
                                },
                                {
                                    "0": "86",
                                    "1": "10651",
                                    "2": "2015-09-01"
                                },
                                {
                                    "0": "87",
                                    "1": "11025",
                                    "2": "2016-04-15"
                                },
                                {
                                    "0": "87",
                                    "1": "10781",
                                    "2": "2015-12-17"
                                },
                                {
                                    "0": "87",
                                    "1": "10750",
                                    "2": "2015-11-21"
                                },
                                {
                                    "0": "88",
                                    "1": "10935",
                                    "2": "2016-03-09"
                                },
                                {
                                    "0": "88",
                                    "1": "10905",
                                    "2": "2016-02-24"
                                },
                                {
                                    "0": "88",
                                    "1": "10900",
                                    "2": "2016-02-20"
                                },
                                {
                                    "0": "89",
                                    "1": "11066",
                                    "2": "2016-05-01"
                                },
                                {
                                    "0": "89",
                                    "1": "11032",
                                    "2": "2016-04-17"
                                },
                                {
                                    "0": "89",
                                    "1": "10904",
                                    "2": "2016-02-24"
                                },
                                {
                                    "0": "90",
                                    "1": "11005",
                                    "2": "2016-04-07"
                                },
                                {
                                    "0": "90",
                                    "1": "10910",
                                    "2": "2016-02-26"
                                },
                                {
                                    "0": "90",
                                    "1": "10879",
                                    "2": "2016-02-10"
                                },
                                {
                                    "0": "91",
                                    "1": "11044",
                                    "2": "2016-04-23"
                                },
                                {
                                    "0": "91",
                                    "1": "10998",
                                    "2": "2016-04-03"
                                },
                                {
                                    "0": "91",
                                    "1": "10906",
                                    "2": "2016-02-25"
                                }
                            ]
                        },
                        "text/html": [
                            "<table>",
                            "<tr><th>CustomerId</th><th>orderid</th><th>orderdate</th></tr>",
                            "<tr><td>1</td><td>11011</td><td>2016-04-09</td></tr>",
                            "<tr><td>1</td><td>10952</td><td>2016-03-16</td></tr>",
                            "<tr><td>1</td><td>10835</td><td>2016-01-15</td></tr>",
                            "<tr><td>2</td><td>10926</td><td>2016-03-04</td></tr>",
                            "<tr><td>2</td><td>10759</td><td>2015-11-28</td></tr>",
                            "<tr><td>2</td><td>10625</td><td>2015-08-08</td></tr>",
                            "<tr><td>3</td><td>10856</td><td>2016-01-28</td></tr>",
                            "<tr><td>3</td><td>10682</td><td>2015-09-25</td></tr>",
                            "<tr><td>3</td><td>10677</td><td>2015-09-22</td></tr>",
                            "<tr><td>4</td><td>11016</td><td>2016-04-10</td></tr>",
                            "<tr><td>4</td><td>10953</td><td>2016-03-16</td></tr>",
                            "<tr><td>4</td><td>10920</td><td>2016-03-03</td></tr>",
                            "<tr><td>5</td><td>10924</td><td>2016-03-04</td></tr>",
                            "<tr><td>5</td><td>10875</td><td>2016-02-06</td></tr>",
                            "<tr><td>5</td><td>10866</td><td>2016-02-03</td></tr>",
                            "<tr><td>6</td><td>11058</td><td>2016-04-29</td></tr>",
                            "<tr><td>6</td><td>10956</td><td>2016-03-17</td></tr>",
                            "<tr><td>6</td><td>10853</td><td>2016-01-27</td></tr>",
                            "<tr><td>7</td><td>10826</td><td>2016-01-12</td></tr>",
                            "<tr><td>7</td><td>10679</td><td>2015-09-23</td></tr>",
                            "<tr><td>7</td><td>10628</td><td>2015-08-12</td></tr>",
                            "<tr><td>8</td><td>10970</td><td>2016-03-24</td></tr>",
                            "<tr><td>8</td><td>10801</td><td>2015-12-29</td></tr>",
                            "<tr><td>8</td><td>10326</td><td>2014-10-10</td></tr>",
                            "<tr><td>9</td><td>11076</td><td>2016-05-06</td></tr>",
                            "<tr><td>9</td><td>10940</td><td>2016-03-11</td></tr>",
                            "<tr><td>9</td><td>10932</td><td>2016-03-06</td></tr>",
                            "<tr><td>10</td><td>11048</td><td>2016-04-24</td></tr>",
                            "<tr><td>10</td><td>11045</td><td>2016-04-23</td></tr>",
                            "<tr><td>10</td><td>11027</td><td>2016-04-16</td></tr>",
                            "<tr><td>11</td><td>11023</td><td>2016-04-14</td></tr>",
                            "<tr><td>11</td><td>10947</td><td>2016-03-13</td></tr>",
                            "<tr><td>11</td><td>10943</td><td>2016-03-11</td></tr>",
                            "<tr><td>12</td><td>11054</td><td>2016-04-28</td></tr>",
                            "<tr><td>12</td><td>10937</td><td>2016-03-10</td></tr>",
                            "<tr><td>12</td><td>10881</td><td>2016-02-11</td></tr>",
                            "<tr><td>13</td><td>10259</td><td>2014-07-18</td></tr>",
                            "<tr><td>14</td><td>11041</td><td>2016-04-22</td></tr>",
                            "<tr><td>14</td><td>11029</td><td>2016-04-16</td></tr>",
                            "<tr><td>14</td><td>10966</td><td>2016-03-20</td></tr>",
                            "<tr><td>15</td><td>11042</td><td>2016-04-22</td></tr>",
                            "<tr><td>15</td><td>10969</td><td>2016-03-23</td></tr>",
                            "<tr><td>15</td><td>10494</td><td>2015-04-02</td></tr>",
                            "<tr><td>16</td><td>10848</td><td>2016-01-23</td></tr>",
                            "<tr><td>16</td><td>10462</td><td>2015-03-03</td></tr>",
                            "<tr><td>16</td><td>10435</td><td>2015-02-04</td></tr>",
                            "<tr><td>17</td><td>11067</td><td>2016-05-04</td></tr>",
                            "<tr><td>17</td><td>11036</td><td>2016-04-20</td></tr>",
                            "<tr><td>17</td><td>10825</td><td>2016-01-09</td></tr>",
                            "<tr><td>18</td><td>10890</td><td>2016-02-16</td></tr>",
                            "<tr><td>18</td><td>10683</td><td>2015-09-26</td></tr>",
                            "<tr><td>18</td><td>10609</td><td>2015-07-24</td></tr>",
                            "<tr><td>19</td><td>11056</td><td>2016-04-28</td></tr>",
                            "<tr><td>19</td><td>11047</td><td>2016-04-24</td></tr>",
                            "<tr><td>19</td><td>11024</td><td>2016-04-15</td></tr>",
                            "<tr><td>20</td><td>11072</td><td>2016-05-05</td></tr>",
                            "<tr><td>20</td><td>11017</td><td>2016-04-13</td></tr>",
                            "<tr><td>20</td><td>11008</td><td>2016-04-08</td></tr>",
                            "<tr><td>21</td><td>10725</td><td>2015-10-31</td></tr>",
                            "<tr><td>21</td><td>10650</td><td>2015-08-29</td></tr>",
                            "<tr><td>21</td><td>10581</td><td>2015-06-26</td></tr>",
                            "<tr><td>23</td><td>10789</td><td>2015-12-22</td></tr>",
                            "<tr><td>23</td><td>10763</td><td>2015-12-03</td></tr>",
                            "<tr><td>23</td><td>10634</td><td>2015-08-15</td></tr>",
                            "<tr><td>24</td><td>11050</td><td>2016-04-27</td></tr>",
                            "<tr><td>24</td><td>11001</td><td>2016-04-06</td></tr>",
                            "<tr><td>24</td><td>10993</td><td>2016-04-01</td></tr>",
                            "<tr><td>25</td><td>11012</td><td>2016-04-09</td></tr>",
                            "<tr><td>25</td><td>10929</td><td>2016-03-05</td></tr>",
                            "<tr><td>25</td><td>10859</td><td>2016-01-29</td></tr>",
                            "<tr><td>26</td><td>10971</td><td>2016-03-24</td></tr>",
                            "<tr><td>26</td><td>10860</td><td>2016-01-29</td></tr>",
                            "<tr><td>26</td><td>10671</td><td>2015-09-17</td></tr>",
                            "<tr><td>27</td><td>11060</td><td>2016-04-30</td></tr>",
                            "<tr><td>27</td><td>11026</td><td>2016-04-15</td></tr>",
                            "<tr><td>27</td><td>10807</td><td>2015-12-31</td></tr>",
                            "<tr><td>28</td><td>10963</td><td>2016-03-19</td></tr>",
                            "<tr><td>28</td><td>10664</td><td>2015-09-10</td></tr>",
                            "<tr><td>28</td><td>10604</td><td>2015-07-18</td></tr>",
                            "<tr><td>29</td><td>10928</td><td>2016-03-05</td></tr>",
                            "<tr><td>29</td><td>10887</td><td>2016-02-13</td></tr>",
                            "<tr><td>29</td><td>10568</td><td>2015-06-13</td></tr>",
                            "<tr><td>30</td><td>11037</td><td>2016-04-21</td></tr>",
                            "<tr><td>30</td><td>11009</td><td>2016-04-08</td></tr>",
                            "<tr><td>30</td><td>10948</td><td>2016-03-13</td></tr>",
                            "<tr><td>31</td><td>11049</td><td>2016-04-24</td></tr>",
                            "<tr><td>31</td><td>10959</td><td>2016-03-18</td></tr>",
                            "<tr><td>31</td><td>10790</td><td>2015-12-22</td></tr>",
                            "<tr><td>32</td><td>11061</td><td>2016-04-30</td></tr>",
                            "<tr><td>32</td><td>11040</td><td>2016-04-22</td></tr>",
                            "<tr><td>32</td><td>11006</td><td>2016-04-07</td></tr>",
                            "<tr><td>33</td><td>10785</td><td>2015-12-18</td></tr>",
                            "<tr><td>33</td><td>10268</td><td>2014-07-30</td></tr>",
                            "<tr><td>34</td><td>11052</td><td>2016-04-27</td></tr>",
                            "<tr><td>34</td><td>11022</td><td>2016-04-14</td></tr>",
                            "<tr><td>34</td><td>10981</td><td>2016-03-27</td></tr>",
                            "<tr><td>35</td><td>11055</td><td>2016-04-28</td></tr>",
                            "<tr><td>35</td><td>10976</td><td>2016-03-25</td></tr>",
                            "<tr><td>35</td><td>10960</td><td>2016-03-19</td></tr>",
                            "<tr><td>36</td><td>10660</td><td>2015-09-08</td></tr>",
                            "<tr><td>36</td><td>10600</td><td>2015-07-16</td></tr>",
                            "<tr><td>36</td><td>10415</td><td>2015-01-15</td></tr>",
                            "<tr><td>37</td><td>11063</td><td>2016-04-30</td></tr>",
                            "<tr><td>37</td><td>10985</td><td>2016-03-30</td></tr>",
                            "<tr><td>37</td><td>10912</td><td>2016-02-26</td></tr>",
                            "<tr><td>38</td><td>10933</td><td>2016-03-06</td></tr>",
                            "<tr><td>38</td><td>10829</td><td>2016-01-13</td></tr>",
                            "<tr><td>38</td><td>10798</td><td>2015-12-26</td></tr>",
                            "<tr><td>39</td><td>11028</td><td>2016-04-16</td></tr>",
                            "<tr><td>39</td><td>10893</td><td>2016-02-18</td></tr>",
                            "<tr><td>39</td><td>10849</td><td>2016-01-23</td></tr>",
                            "<tr><td>40</td><td>10973</td><td>2016-03-24</td></tr>",
                            "<tr><td>40</td><td>10972</td><td>2016-03-24</td></tr>",
                            "<tr><td>40</td><td>10927</td><td>2016-03-05</td></tr>",
                            "<tr><td>41</td><td>11051</td><td>2016-04-27</td></tr>",
                            "<tr><td>41</td><td>10923</td><td>2016-03-03</td></tr>",
                            "<tr><td>41</td><td>10832</td><td>2016-01-14</td></tr>",
                            "<tr><td>42</td><td>10810</td><td>2016-01-01</td></tr>",
                            "<tr><td>42</td><td>10620</td><td>2015-08-05</td></tr>",
                            "<tr><td>42</td><td>10495</td><td>2015-04-03</td></tr>",
                            "<tr><td>43</td><td>10545</td><td>2015-05-22</td></tr>",
                            "<tr><td>43</td><td>10482</td><td>2015-03-21</td></tr>",
                            "<tr><td>44</td><td>11070</td><td>2016-05-05</td></tr>",
                            "<tr><td>44</td><td>10934</td><td>2016-03-09</td></tr>",
                            "<tr><td>44</td><td>10891</td><td>2016-02-17</td></tr>",
                            "<tr><td>45</td><td>10884</td><td>2016-02-12</td></tr>",
                            "<tr><td>45</td><td>10735</td><td>2015-11-10</td></tr>",
                            "<tr><td>45</td><td>10719</td><td>2015-10-27</td></tr>",
                            "<tr><td>46</td><td>11071</td><td>2016-05-05</td></tr>",
                            "<tr><td>46</td><td>11065</td><td>2016-05-01</td></tr>",
                            "<tr><td>46</td><td>10997</td><td>2016-04-03</td></tr>",
                            "<tr><td>47</td><td>11039</td><td>2016-04-21</td></tr>",
                            "<tr><td>47</td><td>11014</td><td>2016-04-10</td></tr>",
                            "<tr><td>47</td><td>10954</td><td>2016-03-17</td></tr>",
                            "<tr><td>48</td><td>11018</td><td>2016-04-13</td></tr>",
                            "<tr><td>48</td><td>10883</td><td>2016-02-12</td></tr>",
                            "<tr><td>48</td><td>10867</td><td>2016-02-03</td></tr>",
                            "<tr><td>49</td><td>10950</td><td>2016-03-16</td></tr>",
                            "<tr><td>49</td><td>10939</td><td>2016-03-10</td></tr>",
                            "<tr><td>49</td><td>10818</td><td>2016-01-07</td></tr>",
                            "<tr><td>50</td><td>11004</td><td>2016-04-07</td></tr>",
                            "<tr><td>50</td><td>10978</td><td>2016-03-26</td></tr>",
                            "<tr><td>50</td><td>10896</td><td>2016-02-19</td></tr>",
                            "<tr><td>51</td><td>10724</td><td>2015-10-30</td></tr>",
                            "<tr><td>51</td><td>10619</td><td>2015-08-04</td></tr>",
                            "<tr><td>51</td><td>10618</td><td>2015-08-01</td></tr>",
                            "<tr><td>52</td><td>10945</td><td>2016-03-12</td></tr>",
                            "<tr><td>52</td><td>10779</td><td>2015-12-16</td></tr>",
                            "<tr><td>52</td><td>10699</td><td>2015-10-09</td></tr>",
                            "<tr><td>53</td><td>11057</td><td>2016-04-29</td></tr>",
                            "<tr><td>53</td><td>10752</td><td>2015-11-24</td></tr>",
                            "<tr><td>53</td><td>10517</td><td>2015-04-24</td></tr>",
                            "<tr><td>54</td><td>10986</td><td>2016-03-30</td></tr>",
                            "<tr><td>54</td><td>10958</td><td>2016-03-18</td></tr>",
                            "<tr><td>54</td><td>10898</td><td>2016-02-20</td></tr>",
                            "<tr><td>55</td><td>11034</td><td>2016-04-20</td></tr>",
                            "<tr><td>55</td><td>10965</td><td>2016-03-20</td></tr>",
                            "<tr><td>55</td><td>10855</td><td>2016-01-27</td></tr>",
                            "<tr><td>56</td><td>11020</td><td>2016-04-14</td></tr>",
                            "<tr><td>56</td><td>10999</td><td>2016-04-03</td></tr>",
                            "<tr><td>56</td><td>10833</td><td>2016-01-15</td></tr>",
                            "<tr><td>58</td><td>11073</td><td>2016-05-05</td></tr>",
                            "<tr><td>58</td><td>10995</td><td>2016-04-02</td></tr>",
                            "<tr><td>58</td><td>10502</td><td>2015-04-10</td></tr>",
                            "<tr><td>59</td><td>11053</td><td>2016-04-27</td></tr>",
                            "<tr><td>59</td><td>10844</td><td>2016-01-21</td></tr>",
                            "<tr><td>59</td><td>10747</td><td>2015-11-19</td></tr>",
                            "<tr><td>60</td><td>11007</td><td>2016-04-08</td></tr>",
                            "<tr><td>60</td><td>10477</td><td>2015-03-17</td></tr>",
                            "<tr><td>60</td><td>10433</td><td>2015-02-03</td></tr>",
                            "<tr><td>61</td><td>10989</td><td>2016-03-31</td></tr>",
                            "<tr><td>61</td><td>10794</td><td>2015-12-24</td></tr>",
                            "<tr><td>61</td><td>10720</td><td>2015-10-28</td></tr>",
                            "<tr><td>62</td><td>11068</td><td>2016-05-04</td></tr>",
                            "<tr><td>62</td><td>10961</td><td>2016-03-19</td></tr>",
                            "<tr><td>62</td><td>10914</td><td>2016-02-27</td></tr>",
                            "<tr><td>63</td><td>11021</td><td>2016-04-14</td></tr>",
                            "<tr><td>63</td><td>10996</td><td>2016-04-02</td></tr>",
                            "<tr><td>63</td><td>10991</td><td>2016-04-01</td></tr>",
                            "<tr><td>64</td><td>11019</td><td>2016-04-13</td></tr>",
                            "<tr><td>64</td><td>10916</td><td>2016-02-27</td></tr>",
                            "<tr><td>64</td><td>10828</td><td>2016-01-13</td></tr>",
                            "<tr><td>65</td><td>11077</td><td>2016-05-06</td></tr>",
                            "<tr><td>65</td><td>11000</td><td>2016-04-06</td></tr>",
                            "<tr><td>65</td><td>10988</td><td>2016-03-31</td></tr>",
                            "<tr><td>66</td><td>11062</td><td>2016-04-30</td></tr>",
                            "<tr><td>66</td><td>11010</td><td>2016-04-09</td></tr>",
                            "<tr><td>66</td><td>10942</td><td>2016-03-11</td></tr>",
                            "<tr><td>67</td><td>11059</td><td>2016-04-29</td></tr>",
                            "<tr><td>67</td><td>10877</td><td>2016-02-09</td></tr>",
                            "<tr><td>67</td><td>10851</td><td>2016-01-26</td></tr>",
                            "<tr><td>68</td><td>11075</td><td>2016-05-06</td></tr>",
                            "<tr><td>68</td><td>11033</td><td>2016-04-17</td></tr>",
                            "<tr><td>68</td><td>10951</td><td>2016-03-16</td></tr>",
                            "<tr><td>69</td><td>11013</td><td>2016-04-09</td></tr>",
                            "<tr><td>69</td><td>10917</td><td>2016-03-02</td></tr>",
                            "<tr><td>69</td><td>10306</td><td>2014-09-16</td></tr>",
                            "<tr><td>70</td><td>11015</td><td>2016-04-10</td></tr>",
                            "<tr><td>70</td><td>10909</td><td>2016-02-26</td></tr>",
                            "<tr><td>70</td><td>10831</td><td>2016-01-14</td></tr>",
                            "<tr><td>71</td><td>11064</td><td>2016-05-01</td></tr>",
                            "<tr><td>71</td><td>11031</td><td>2016-04-17</td></tr>",
                            "<tr><td>71</td><td>11030</td><td>2016-04-17</td></tr>",
                            "<tr><td>72</td><td>10869</td><td>2016-02-04</td></tr>",
                            "<tr><td>72</td><td>10804</td><td>2015-12-30</td></tr>",
                            "<tr><td>72</td><td>10800</td><td>2015-12-26</td></tr>",
                            "<tr><td>73</td><td>11074</td><td>2016-05-06</td></tr>",
                            "<tr><td>73</td><td>10802</td><td>2015-12-29</td></tr>",
                            "<tr><td>73</td><td>10669</td><td>2015-09-15</td></tr>",
                            "<tr><td>74</td><td>11043</td><td>2016-04-22</td></tr>",
                            "<tr><td>74</td><td>10964</td><td>2016-03-20</td></tr>",
                            "<tr><td>74</td><td>10907</td><td>2016-02-25</td></tr>",
                            "<tr><td>75</td><td>10974</td><td>2016-03-25</td></tr>",
                            "<tr><td>75</td><td>10821</td><td>2016-01-08</td></tr>",
                            "<tr><td>75</td><td>10756</td><td>2015-11-27</td></tr>",
                            "<tr><td>76</td><td>11038</td><td>2016-04-21</td></tr>",
                            "<tr><td>76</td><td>11035</td><td>2016-04-20</td></tr>",
                            "<tr><td>76</td><td>10930</td><td>2016-03-06</td></tr>",
                            "<tr><td>77</td><td>10992</td><td>2016-04-01</td></tr>",
                            "<tr><td>77</td><td>10805</td><td>2015-12-30</td></tr>",
                            "<tr><td>77</td><td>10708</td><td>2015-10-17</td></tr>",
                            "<tr><td>78</td><td>11003</td><td>2016-04-06</td></tr>",
                            "<tr><td>78</td><td>10775</td><td>2015-12-12</td></tr>",
                            "<tr><td>78</td><td>10624</td><td>2015-08-07</td></tr>",
                            "<tr><td>79</td><td>10967</td><td>2016-03-23</td></tr>",
                            "<tr><td>79</td><td>10608</td><td>2015-07-23</td></tr>",
                            "<tr><td>79</td><td>10548</td><td>2015-05-26</td></tr>",
                            "<tr><td>80</td><td>11069</td><td>2016-05-04</td></tr>",
                            "<tr><td>80</td><td>10915</td><td>2016-02-27</td></tr>",
                            "<tr><td>80</td><td>10842</td><td>2016-01-20</td></tr>",
                            "<tr><td>81</td><td>10839</td><td>2016-01-19</td></tr>",
                            "<tr><td>81</td><td>10834</td><td>2016-01-15</td></tr>",
                            "<tr><td>81</td><td>10830</td><td>2016-01-13</td></tr>",
                            "<tr><td>82</td><td>10822</td><td>2016-01-08</td></tr>",
                            "<tr><td>82</td><td>10577</td><td>2015-06-23</td></tr>",
                            "<tr><td>82</td><td>10574</td><td>2015-06-19</td></tr>",
                            "<tr><td>83</td><td>10994</td><td>2016-04-02</td></tr>",
                            "<tr><td>83</td><td>10946</td><td>2016-03-12</td></tr>",
                            "<tr><td>83</td><td>10921</td><td>2016-03-03</td></tr>",
                            "<tr><td>84</td><td>10850</td><td>2016-01-23</td></tr>",
                            "<tr><td>84</td><td>10843</td><td>2016-01-21</td></tr>",
                            "<tr><td>84</td><td>10814</td><td>2016-01-05</td></tr>",
                            "<tr><td>85</td><td>10739</td><td>2015-11-12</td></tr>",
                            "<tr><td>85</td><td>10737</td><td>2015-11-11</td></tr>",
                            "<tr><td>85</td><td>10295</td><td>2014-09-02</td></tr>",
                            "<tr><td>86</td><td>11046</td><td>2016-04-23</td></tr>",
                            "<tr><td>86</td><td>10668</td><td>2015-09-15</td></tr>",
                            "<tr><td>86</td><td>10651</td><td>2015-09-01</td></tr>",
                            "<tr><td>87</td><td>11025</td><td>2016-04-15</td></tr>",
                            "<tr><td>87</td><td>10781</td><td>2015-12-17</td></tr>",
                            "<tr><td>87</td><td>10750</td><td>2015-11-21</td></tr>",
                            "<tr><td>88</td><td>10935</td><td>2016-03-09</td></tr>",
                            "<tr><td>88</td><td>10905</td><td>2016-02-24</td></tr>",
                            "<tr><td>88</td><td>10900</td><td>2016-02-20</td></tr>",
                            "<tr><td>89</td><td>11066</td><td>2016-05-01</td></tr>",
                            "<tr><td>89</td><td>11032</td><td>2016-04-17</td></tr>",
                            "<tr><td>89</td><td>10904</td><td>2016-02-24</td></tr>",
                            "<tr><td>90</td><td>11005</td><td>2016-04-07</td></tr>",
                            "<tr><td>90</td><td>10910</td><td>2016-02-26</td></tr>",
                            "<tr><td>90</td><td>10879</td><td>2016-02-10</td></tr>",
                            "<tr><td>91</td><td>11044</td><td>2016-04-23</td></tr>",
                            "<tr><td>91</td><td>10998</td><td>2016-04-03</td></tr>",
                            "<tr><td>91</td><td>10906</td><td>2016-02-25</td></tr>",
                            "</table>"
                        ]
                    }
                }
            ],
            "execution_count": 19
        },
        {
            "cell_type": "markdown",
            "source": [
                "OUTER APPLY\n",
                "\n",
                "Outer apply is like the left outer join. It performs two-query processing phases. It returns the matching and nonmatching rows.   \n",
                "\n",
                "Proposition: Return 3 most recent orders from each customer, preserve customers"
            ],
            "metadata": {
                "azdata_cell_guid": "87dbcebf-f240-42d6-a152-41f2d4e16118"
            },
            "attachments": {}
        },
        {
            "cell_type": "code",
            "source": [
                "use Northwinds2022TSQLV7;\r\n",
                "-- 3 most recent orders for each customer, preserve all customers\r\n",
                "SELECT C.CustomerId, A.orderid, A.orderdate\r\n",
                "FROM Sales.Customer AS C\r\n",
                "  OUTER APPLY\r\n",
                "    (SELECT TOP (3) orderid, EmployeeId, orderdate, requireddate \r\n",
                "     FROM Sales.[Order] AS O\r\n",
                "     WHERE O.CustomerId = C.CustomerId\r\n",
                "     ORDER BY orderdate DESC, orderid DESC) AS A;\r\n",
                "\r\n",
                "-- Customer 22 and 57 are included."
            ],
            "metadata": {
                "azdata_cell_guid": "34c7e5af-931b-4706-99c1-50d91ee87520",
                "language": "sql"
            },
            "outputs": [
                {
                    "output_type": "display_data",
                    "data": {
                        "text/html": "(265 rows affected)"
                    },
                    "metadata": {}
                },
                {
                    "output_type": "display_data",
                    "data": {
                        "text/html": "Total execution time: 00:00:00.025"
                    },
                    "metadata": {}
                },
                {
                    "output_type": "execute_result",
                    "metadata": {},
                    "execution_count": 20,
                    "data": {
                        "application/vnd.dataresource+json": {
                            "schema": {
                                "fields": [
                                    {
                                        "name": "CustomerId"
                                    },
                                    {
                                        "name": "orderid"
                                    },
                                    {
                                        "name": "orderdate"
                                    }
                                ]
                            },
                            "data": [
                                {
                                    "0": "1",
                                    "1": "11011",
                                    "2": "2016-04-09"
                                },
                                {
                                    "0": "1",
                                    "1": "10952",
                                    "2": "2016-03-16"
                                },
                                {
                                    "0": "1",
                                    "1": "10835",
                                    "2": "2016-01-15"
                                },
                                {
                                    "0": "2",
                                    "1": "10926",
                                    "2": "2016-03-04"
                                },
                                {
                                    "0": "2",
                                    "1": "10759",
                                    "2": "2015-11-28"
                                },
                                {
                                    "0": "2",
                                    "1": "10625",
                                    "2": "2015-08-08"
                                },
                                {
                                    "0": "3",
                                    "1": "10856",
                                    "2": "2016-01-28"
                                },
                                {
                                    "0": "3",
                                    "1": "10682",
                                    "2": "2015-09-25"
                                },
                                {
                                    "0": "3",
                                    "1": "10677",
                                    "2": "2015-09-22"
                                },
                                {
                                    "0": "4",
                                    "1": "11016",
                                    "2": "2016-04-10"
                                },
                                {
                                    "0": "4",
                                    "1": "10953",
                                    "2": "2016-03-16"
                                },
                                {
                                    "0": "4",
                                    "1": "10920",
                                    "2": "2016-03-03"
                                },
                                {
                                    "0": "5",
                                    "1": "10924",
                                    "2": "2016-03-04"
                                },
                                {
                                    "0": "5",
                                    "1": "10875",
                                    "2": "2016-02-06"
                                },
                                {
                                    "0": "5",
                                    "1": "10866",
                                    "2": "2016-02-03"
                                },
                                {
                                    "0": "6",
                                    "1": "11058",
                                    "2": "2016-04-29"
                                },
                                {
                                    "0": "6",
                                    "1": "10956",
                                    "2": "2016-03-17"
                                },
                                {
                                    "0": "6",
                                    "1": "10853",
                                    "2": "2016-01-27"
                                },
                                {
                                    "0": "7",
                                    "1": "10826",
                                    "2": "2016-01-12"
                                },
                                {
                                    "0": "7",
                                    "1": "10679",
                                    "2": "2015-09-23"
                                },
                                {
                                    "0": "7",
                                    "1": "10628",
                                    "2": "2015-08-12"
                                },
                                {
                                    "0": "8",
                                    "1": "10970",
                                    "2": "2016-03-24"
                                },
                                {
                                    "0": "8",
                                    "1": "10801",
                                    "2": "2015-12-29"
                                },
                                {
                                    "0": "8",
                                    "1": "10326",
                                    "2": "2014-10-10"
                                },
                                {
                                    "0": "9",
                                    "1": "11076",
                                    "2": "2016-05-06"
                                },
                                {
                                    "0": "9",
                                    "1": "10940",
                                    "2": "2016-03-11"
                                },
                                {
                                    "0": "9",
                                    "1": "10932",
                                    "2": "2016-03-06"
                                },
                                {
                                    "0": "10",
                                    "1": "11048",
                                    "2": "2016-04-24"
                                },
                                {
                                    "0": "10",
                                    "1": "11045",
                                    "2": "2016-04-23"
                                },
                                {
                                    "0": "10",
                                    "1": "11027",
                                    "2": "2016-04-16"
                                },
                                {
                                    "0": "11",
                                    "1": "11023",
                                    "2": "2016-04-14"
                                },
                                {
                                    "0": "11",
                                    "1": "10947",
                                    "2": "2016-03-13"
                                },
                                {
                                    "0": "11",
                                    "1": "10943",
                                    "2": "2016-03-11"
                                },
                                {
                                    "0": "12",
                                    "1": "11054",
                                    "2": "2016-04-28"
                                },
                                {
                                    "0": "12",
                                    "1": "10937",
                                    "2": "2016-03-10"
                                },
                                {
                                    "0": "12",
                                    "1": "10881",
                                    "2": "2016-02-11"
                                },
                                {
                                    "0": "13",
                                    "1": "10259",
                                    "2": "2014-07-18"
                                },
                                {
                                    "0": "14",
                                    "1": "11041",
                                    "2": "2016-04-22"
                                },
                                {
                                    "0": "14",
                                    "1": "11029",
                                    "2": "2016-04-16"
                                },
                                {
                                    "0": "14",
                                    "1": "10966",
                                    "2": "2016-03-20"
                                },
                                {
                                    "0": "15",
                                    "1": "11042",
                                    "2": "2016-04-22"
                                },
                                {
                                    "0": "15",
                                    "1": "10969",
                                    "2": "2016-03-23"
                                },
                                {
                                    "0": "15",
                                    "1": "10494",
                                    "2": "2015-04-02"
                                },
                                {
                                    "0": "16",
                                    "1": "10848",
                                    "2": "2016-01-23"
                                },
                                {
                                    "0": "16",
                                    "1": "10462",
                                    "2": "2015-03-03"
                                },
                                {
                                    "0": "16",
                                    "1": "10435",
                                    "2": "2015-02-04"
                                },
                                {
                                    "0": "17",
                                    "1": "11067",
                                    "2": "2016-05-04"
                                },
                                {
                                    "0": "17",
                                    "1": "11036",
                                    "2": "2016-04-20"
                                },
                                {
                                    "0": "17",
                                    "1": "10825",
                                    "2": "2016-01-09"
                                },
                                {
                                    "0": "18",
                                    "1": "10890",
                                    "2": "2016-02-16"
                                },
                                {
                                    "0": "18",
                                    "1": "10683",
                                    "2": "2015-09-26"
                                },
                                {
                                    "0": "18",
                                    "1": "10609",
                                    "2": "2015-07-24"
                                },
                                {
                                    "0": "19",
                                    "1": "11056",
                                    "2": "2016-04-28"
                                },
                                {
                                    "0": "19",
                                    "1": "11047",
                                    "2": "2016-04-24"
                                },
                                {
                                    "0": "19",
                                    "1": "11024",
                                    "2": "2016-04-15"
                                },
                                {
                                    "0": "20",
                                    "1": "11072",
                                    "2": "2016-05-05"
                                },
                                {
                                    "0": "20",
                                    "1": "11017",
                                    "2": "2016-04-13"
                                },
                                {
                                    "0": "20",
                                    "1": "11008",
                                    "2": "2016-04-08"
                                },
                                {
                                    "0": "21",
                                    "1": "10725",
                                    "2": "2015-10-31"
                                },
                                {
                                    "0": "21",
                                    "1": "10650",
                                    "2": "2015-08-29"
                                },
                                {
                                    "0": "21",
                                    "1": "10581",
                                    "2": "2015-06-26"
                                },
                                {
                                    "0": "22",
                                    "1": "NULL",
                                    "2": "NULL"
                                },
                                {
                                    "0": "23",
                                    "1": "10789",
                                    "2": "2015-12-22"
                                },
                                {
                                    "0": "23",
                                    "1": "10763",
                                    "2": "2015-12-03"
                                },
                                {
                                    "0": "23",
                                    "1": "10634",
                                    "2": "2015-08-15"
                                },
                                {
                                    "0": "24",
                                    "1": "11050",
                                    "2": "2016-04-27"
                                },
                                {
                                    "0": "24",
                                    "1": "11001",
                                    "2": "2016-04-06"
                                },
                                {
                                    "0": "24",
                                    "1": "10993",
                                    "2": "2016-04-01"
                                },
                                {
                                    "0": "25",
                                    "1": "11012",
                                    "2": "2016-04-09"
                                },
                                {
                                    "0": "25",
                                    "1": "10929",
                                    "2": "2016-03-05"
                                },
                                {
                                    "0": "25",
                                    "1": "10859",
                                    "2": "2016-01-29"
                                },
                                {
                                    "0": "26",
                                    "1": "10971",
                                    "2": "2016-03-24"
                                },
                                {
                                    "0": "26",
                                    "1": "10860",
                                    "2": "2016-01-29"
                                },
                                {
                                    "0": "26",
                                    "1": "10671",
                                    "2": "2015-09-17"
                                },
                                {
                                    "0": "27",
                                    "1": "11060",
                                    "2": "2016-04-30"
                                },
                                {
                                    "0": "27",
                                    "1": "11026",
                                    "2": "2016-04-15"
                                },
                                {
                                    "0": "27",
                                    "1": "10807",
                                    "2": "2015-12-31"
                                },
                                {
                                    "0": "28",
                                    "1": "10963",
                                    "2": "2016-03-19"
                                },
                                {
                                    "0": "28",
                                    "1": "10664",
                                    "2": "2015-09-10"
                                },
                                {
                                    "0": "28",
                                    "1": "10604",
                                    "2": "2015-07-18"
                                },
                                {
                                    "0": "29",
                                    "1": "10928",
                                    "2": "2016-03-05"
                                },
                                {
                                    "0": "29",
                                    "1": "10887",
                                    "2": "2016-02-13"
                                },
                                {
                                    "0": "29",
                                    "1": "10568",
                                    "2": "2015-06-13"
                                },
                                {
                                    "0": "30",
                                    "1": "11037",
                                    "2": "2016-04-21"
                                },
                                {
                                    "0": "30",
                                    "1": "11009",
                                    "2": "2016-04-08"
                                },
                                {
                                    "0": "30",
                                    "1": "10948",
                                    "2": "2016-03-13"
                                },
                                {
                                    "0": "31",
                                    "1": "11049",
                                    "2": "2016-04-24"
                                },
                                {
                                    "0": "31",
                                    "1": "10959",
                                    "2": "2016-03-18"
                                },
                                {
                                    "0": "31",
                                    "1": "10790",
                                    "2": "2015-12-22"
                                },
                                {
                                    "0": "32",
                                    "1": "11061",
                                    "2": "2016-04-30"
                                },
                                {
                                    "0": "32",
                                    "1": "11040",
                                    "2": "2016-04-22"
                                },
                                {
                                    "0": "32",
                                    "1": "11006",
                                    "2": "2016-04-07"
                                },
                                {
                                    "0": "33",
                                    "1": "10785",
                                    "2": "2015-12-18"
                                },
                                {
                                    "0": "33",
                                    "1": "10268",
                                    "2": "2014-07-30"
                                },
                                {
                                    "0": "34",
                                    "1": "11052",
                                    "2": "2016-04-27"
                                },
                                {
                                    "0": "34",
                                    "1": "11022",
                                    "2": "2016-04-14"
                                },
                                {
                                    "0": "34",
                                    "1": "10981",
                                    "2": "2016-03-27"
                                },
                                {
                                    "0": "35",
                                    "1": "11055",
                                    "2": "2016-04-28"
                                },
                                {
                                    "0": "35",
                                    "1": "10976",
                                    "2": "2016-03-25"
                                },
                                {
                                    "0": "35",
                                    "1": "10960",
                                    "2": "2016-03-19"
                                },
                                {
                                    "0": "36",
                                    "1": "10660",
                                    "2": "2015-09-08"
                                },
                                {
                                    "0": "36",
                                    "1": "10600",
                                    "2": "2015-07-16"
                                },
                                {
                                    "0": "36",
                                    "1": "10415",
                                    "2": "2015-01-15"
                                },
                                {
                                    "0": "37",
                                    "1": "11063",
                                    "2": "2016-04-30"
                                },
                                {
                                    "0": "37",
                                    "1": "10985",
                                    "2": "2016-03-30"
                                },
                                {
                                    "0": "37",
                                    "1": "10912",
                                    "2": "2016-02-26"
                                },
                                {
                                    "0": "38",
                                    "1": "10933",
                                    "2": "2016-03-06"
                                },
                                {
                                    "0": "38",
                                    "1": "10829",
                                    "2": "2016-01-13"
                                },
                                {
                                    "0": "38",
                                    "1": "10798",
                                    "2": "2015-12-26"
                                },
                                {
                                    "0": "39",
                                    "1": "11028",
                                    "2": "2016-04-16"
                                },
                                {
                                    "0": "39",
                                    "1": "10893",
                                    "2": "2016-02-18"
                                },
                                {
                                    "0": "39",
                                    "1": "10849",
                                    "2": "2016-01-23"
                                },
                                {
                                    "0": "40",
                                    "1": "10973",
                                    "2": "2016-03-24"
                                },
                                {
                                    "0": "40",
                                    "1": "10972",
                                    "2": "2016-03-24"
                                },
                                {
                                    "0": "40",
                                    "1": "10927",
                                    "2": "2016-03-05"
                                },
                                {
                                    "0": "41",
                                    "1": "11051",
                                    "2": "2016-04-27"
                                },
                                {
                                    "0": "41",
                                    "1": "10923",
                                    "2": "2016-03-03"
                                },
                                {
                                    "0": "41",
                                    "1": "10832",
                                    "2": "2016-01-14"
                                },
                                {
                                    "0": "42",
                                    "1": "10810",
                                    "2": "2016-01-01"
                                },
                                {
                                    "0": "42",
                                    "1": "10620",
                                    "2": "2015-08-05"
                                },
                                {
                                    "0": "42",
                                    "1": "10495",
                                    "2": "2015-04-03"
                                },
                                {
                                    "0": "43",
                                    "1": "10545",
                                    "2": "2015-05-22"
                                },
                                {
                                    "0": "43",
                                    "1": "10482",
                                    "2": "2015-03-21"
                                },
                                {
                                    "0": "44",
                                    "1": "11070",
                                    "2": "2016-05-05"
                                },
                                {
                                    "0": "44",
                                    "1": "10934",
                                    "2": "2016-03-09"
                                },
                                {
                                    "0": "44",
                                    "1": "10891",
                                    "2": "2016-02-17"
                                },
                                {
                                    "0": "45",
                                    "1": "10884",
                                    "2": "2016-02-12"
                                },
                                {
                                    "0": "45",
                                    "1": "10735",
                                    "2": "2015-11-10"
                                },
                                {
                                    "0": "45",
                                    "1": "10719",
                                    "2": "2015-10-27"
                                },
                                {
                                    "0": "46",
                                    "1": "11071",
                                    "2": "2016-05-05"
                                },
                                {
                                    "0": "46",
                                    "1": "11065",
                                    "2": "2016-05-01"
                                },
                                {
                                    "0": "46",
                                    "1": "10997",
                                    "2": "2016-04-03"
                                },
                                {
                                    "0": "47",
                                    "1": "11039",
                                    "2": "2016-04-21"
                                },
                                {
                                    "0": "47",
                                    "1": "11014",
                                    "2": "2016-04-10"
                                },
                                {
                                    "0": "47",
                                    "1": "10954",
                                    "2": "2016-03-17"
                                },
                                {
                                    "0": "48",
                                    "1": "11018",
                                    "2": "2016-04-13"
                                },
                                {
                                    "0": "48",
                                    "1": "10883",
                                    "2": "2016-02-12"
                                },
                                {
                                    "0": "48",
                                    "1": "10867",
                                    "2": "2016-02-03"
                                },
                                {
                                    "0": "49",
                                    "1": "10950",
                                    "2": "2016-03-16"
                                },
                                {
                                    "0": "49",
                                    "1": "10939",
                                    "2": "2016-03-10"
                                },
                                {
                                    "0": "49",
                                    "1": "10818",
                                    "2": "2016-01-07"
                                },
                                {
                                    "0": "50",
                                    "1": "11004",
                                    "2": "2016-04-07"
                                },
                                {
                                    "0": "50",
                                    "1": "10978",
                                    "2": "2016-03-26"
                                },
                                {
                                    "0": "50",
                                    "1": "10896",
                                    "2": "2016-02-19"
                                },
                                {
                                    "0": "51",
                                    "1": "10724",
                                    "2": "2015-10-30"
                                },
                                {
                                    "0": "51",
                                    "1": "10619",
                                    "2": "2015-08-04"
                                },
                                {
                                    "0": "51",
                                    "1": "10618",
                                    "2": "2015-08-01"
                                },
                                {
                                    "0": "52",
                                    "1": "10945",
                                    "2": "2016-03-12"
                                },
                                {
                                    "0": "52",
                                    "1": "10779",
                                    "2": "2015-12-16"
                                },
                                {
                                    "0": "52",
                                    "1": "10699",
                                    "2": "2015-10-09"
                                },
                                {
                                    "0": "53",
                                    "1": "11057",
                                    "2": "2016-04-29"
                                },
                                {
                                    "0": "53",
                                    "1": "10752",
                                    "2": "2015-11-24"
                                },
                                {
                                    "0": "53",
                                    "1": "10517",
                                    "2": "2015-04-24"
                                },
                                {
                                    "0": "54",
                                    "1": "10986",
                                    "2": "2016-03-30"
                                },
                                {
                                    "0": "54",
                                    "1": "10958",
                                    "2": "2016-03-18"
                                },
                                {
                                    "0": "54",
                                    "1": "10898",
                                    "2": "2016-02-20"
                                },
                                {
                                    "0": "55",
                                    "1": "11034",
                                    "2": "2016-04-20"
                                },
                                {
                                    "0": "55",
                                    "1": "10965",
                                    "2": "2016-03-20"
                                },
                                {
                                    "0": "55",
                                    "1": "10855",
                                    "2": "2016-01-27"
                                },
                                {
                                    "0": "56",
                                    "1": "11020",
                                    "2": "2016-04-14"
                                },
                                {
                                    "0": "56",
                                    "1": "10999",
                                    "2": "2016-04-03"
                                },
                                {
                                    "0": "56",
                                    "1": "10833",
                                    "2": "2016-01-15"
                                },
                                {
                                    "0": "57",
                                    "1": "NULL",
                                    "2": "NULL"
                                },
                                {
                                    "0": "58",
                                    "1": "11073",
                                    "2": "2016-05-05"
                                },
                                {
                                    "0": "58",
                                    "1": "10995",
                                    "2": "2016-04-02"
                                },
                                {
                                    "0": "58",
                                    "1": "10502",
                                    "2": "2015-04-10"
                                },
                                {
                                    "0": "59",
                                    "1": "11053",
                                    "2": "2016-04-27"
                                },
                                {
                                    "0": "59",
                                    "1": "10844",
                                    "2": "2016-01-21"
                                },
                                {
                                    "0": "59",
                                    "1": "10747",
                                    "2": "2015-11-19"
                                },
                                {
                                    "0": "60",
                                    "1": "11007",
                                    "2": "2016-04-08"
                                },
                                {
                                    "0": "60",
                                    "1": "10477",
                                    "2": "2015-03-17"
                                },
                                {
                                    "0": "60",
                                    "1": "10433",
                                    "2": "2015-02-03"
                                },
                                {
                                    "0": "61",
                                    "1": "10989",
                                    "2": "2016-03-31"
                                },
                                {
                                    "0": "61",
                                    "1": "10794",
                                    "2": "2015-12-24"
                                },
                                {
                                    "0": "61",
                                    "1": "10720",
                                    "2": "2015-10-28"
                                },
                                {
                                    "0": "62",
                                    "1": "11068",
                                    "2": "2016-05-04"
                                },
                                {
                                    "0": "62",
                                    "1": "10961",
                                    "2": "2016-03-19"
                                },
                                {
                                    "0": "62",
                                    "1": "10914",
                                    "2": "2016-02-27"
                                },
                                {
                                    "0": "63",
                                    "1": "11021",
                                    "2": "2016-04-14"
                                },
                                {
                                    "0": "63",
                                    "1": "10996",
                                    "2": "2016-04-02"
                                },
                                {
                                    "0": "63",
                                    "1": "10991",
                                    "2": "2016-04-01"
                                },
                                {
                                    "0": "64",
                                    "1": "11019",
                                    "2": "2016-04-13"
                                },
                                {
                                    "0": "64",
                                    "1": "10916",
                                    "2": "2016-02-27"
                                },
                                {
                                    "0": "64",
                                    "1": "10828",
                                    "2": "2016-01-13"
                                },
                                {
                                    "0": "65",
                                    "1": "11077",
                                    "2": "2016-05-06"
                                },
                                {
                                    "0": "65",
                                    "1": "11000",
                                    "2": "2016-04-06"
                                },
                                {
                                    "0": "65",
                                    "1": "10988",
                                    "2": "2016-03-31"
                                },
                                {
                                    "0": "66",
                                    "1": "11062",
                                    "2": "2016-04-30"
                                },
                                {
                                    "0": "66",
                                    "1": "11010",
                                    "2": "2016-04-09"
                                },
                                {
                                    "0": "66",
                                    "1": "10942",
                                    "2": "2016-03-11"
                                },
                                {
                                    "0": "67",
                                    "1": "11059",
                                    "2": "2016-04-29"
                                },
                                {
                                    "0": "67",
                                    "1": "10877",
                                    "2": "2016-02-09"
                                },
                                {
                                    "0": "67",
                                    "1": "10851",
                                    "2": "2016-01-26"
                                },
                                {
                                    "0": "68",
                                    "1": "11075",
                                    "2": "2016-05-06"
                                },
                                {
                                    "0": "68",
                                    "1": "11033",
                                    "2": "2016-04-17"
                                },
                                {
                                    "0": "68",
                                    "1": "10951",
                                    "2": "2016-03-16"
                                },
                                {
                                    "0": "69",
                                    "1": "11013",
                                    "2": "2016-04-09"
                                },
                                {
                                    "0": "69",
                                    "1": "10917",
                                    "2": "2016-03-02"
                                },
                                {
                                    "0": "69",
                                    "1": "10306",
                                    "2": "2014-09-16"
                                },
                                {
                                    "0": "70",
                                    "1": "11015",
                                    "2": "2016-04-10"
                                },
                                {
                                    "0": "70",
                                    "1": "10909",
                                    "2": "2016-02-26"
                                },
                                {
                                    "0": "70",
                                    "1": "10831",
                                    "2": "2016-01-14"
                                },
                                {
                                    "0": "71",
                                    "1": "11064",
                                    "2": "2016-05-01"
                                },
                                {
                                    "0": "71",
                                    "1": "11031",
                                    "2": "2016-04-17"
                                },
                                {
                                    "0": "71",
                                    "1": "11030",
                                    "2": "2016-04-17"
                                },
                                {
                                    "0": "72",
                                    "1": "10869",
                                    "2": "2016-02-04"
                                },
                                {
                                    "0": "72",
                                    "1": "10804",
                                    "2": "2015-12-30"
                                },
                                {
                                    "0": "72",
                                    "1": "10800",
                                    "2": "2015-12-26"
                                },
                                {
                                    "0": "73",
                                    "1": "11074",
                                    "2": "2016-05-06"
                                },
                                {
                                    "0": "73",
                                    "1": "10802",
                                    "2": "2015-12-29"
                                },
                                {
                                    "0": "73",
                                    "1": "10669",
                                    "2": "2015-09-15"
                                },
                                {
                                    "0": "74",
                                    "1": "11043",
                                    "2": "2016-04-22"
                                },
                                {
                                    "0": "74",
                                    "1": "10964",
                                    "2": "2016-03-20"
                                },
                                {
                                    "0": "74",
                                    "1": "10907",
                                    "2": "2016-02-25"
                                },
                                {
                                    "0": "75",
                                    "1": "10974",
                                    "2": "2016-03-25"
                                },
                                {
                                    "0": "75",
                                    "1": "10821",
                                    "2": "2016-01-08"
                                },
                                {
                                    "0": "75",
                                    "1": "10756",
                                    "2": "2015-11-27"
                                },
                                {
                                    "0": "76",
                                    "1": "11038",
                                    "2": "2016-04-21"
                                },
                                {
                                    "0": "76",
                                    "1": "11035",
                                    "2": "2016-04-20"
                                },
                                {
                                    "0": "76",
                                    "1": "10930",
                                    "2": "2016-03-06"
                                },
                                {
                                    "0": "77",
                                    "1": "10992",
                                    "2": "2016-04-01"
                                },
                                {
                                    "0": "77",
                                    "1": "10805",
                                    "2": "2015-12-30"
                                },
                                {
                                    "0": "77",
                                    "1": "10708",
                                    "2": "2015-10-17"
                                },
                                {
                                    "0": "78",
                                    "1": "11003",
                                    "2": "2016-04-06"
                                },
                                {
                                    "0": "78",
                                    "1": "10775",
                                    "2": "2015-12-12"
                                },
                                {
                                    "0": "78",
                                    "1": "10624",
                                    "2": "2015-08-07"
                                },
                                {
                                    "0": "79",
                                    "1": "10967",
                                    "2": "2016-03-23"
                                },
                                {
                                    "0": "79",
                                    "1": "10608",
                                    "2": "2015-07-23"
                                },
                                {
                                    "0": "79",
                                    "1": "10548",
                                    "2": "2015-05-26"
                                },
                                {
                                    "0": "80",
                                    "1": "11069",
                                    "2": "2016-05-04"
                                },
                                {
                                    "0": "80",
                                    "1": "10915",
                                    "2": "2016-02-27"
                                },
                                {
                                    "0": "80",
                                    "1": "10842",
                                    "2": "2016-01-20"
                                },
                                {
                                    "0": "81",
                                    "1": "10839",
                                    "2": "2016-01-19"
                                },
                                {
                                    "0": "81",
                                    "1": "10834",
                                    "2": "2016-01-15"
                                },
                                {
                                    "0": "81",
                                    "1": "10830",
                                    "2": "2016-01-13"
                                },
                                {
                                    "0": "82",
                                    "1": "10822",
                                    "2": "2016-01-08"
                                },
                                {
                                    "0": "82",
                                    "1": "10577",
                                    "2": "2015-06-23"
                                },
                                {
                                    "0": "82",
                                    "1": "10574",
                                    "2": "2015-06-19"
                                },
                                {
                                    "0": "83",
                                    "1": "10994",
                                    "2": "2016-04-02"
                                },
                                {
                                    "0": "83",
                                    "1": "10946",
                                    "2": "2016-03-12"
                                },
                                {
                                    "0": "83",
                                    "1": "10921",
                                    "2": "2016-03-03"
                                },
                                {
                                    "0": "84",
                                    "1": "10850",
                                    "2": "2016-01-23"
                                },
                                {
                                    "0": "84",
                                    "1": "10843",
                                    "2": "2016-01-21"
                                },
                                {
                                    "0": "84",
                                    "1": "10814",
                                    "2": "2016-01-05"
                                },
                                {
                                    "0": "85",
                                    "1": "10739",
                                    "2": "2015-11-12"
                                },
                                {
                                    "0": "85",
                                    "1": "10737",
                                    "2": "2015-11-11"
                                },
                                {
                                    "0": "85",
                                    "1": "10295",
                                    "2": "2014-09-02"
                                },
                                {
                                    "0": "86",
                                    "1": "11046",
                                    "2": "2016-04-23"
                                },
                                {
                                    "0": "86",
                                    "1": "10668",
                                    "2": "2015-09-15"
                                },
                                {
                                    "0": "86",
                                    "1": "10651",
                                    "2": "2015-09-01"
                                },
                                {
                                    "0": "87",
                                    "1": "11025",
                                    "2": "2016-04-15"
                                },
                                {
                                    "0": "87",
                                    "1": "10781",
                                    "2": "2015-12-17"
                                },
                                {
                                    "0": "87",
                                    "1": "10750",
                                    "2": "2015-11-21"
                                },
                                {
                                    "0": "88",
                                    "1": "10935",
                                    "2": "2016-03-09"
                                },
                                {
                                    "0": "88",
                                    "1": "10905",
                                    "2": "2016-02-24"
                                },
                                {
                                    "0": "88",
                                    "1": "10900",
                                    "2": "2016-02-20"
                                },
                                {
                                    "0": "89",
                                    "1": "11066",
                                    "2": "2016-05-01"
                                },
                                {
                                    "0": "89",
                                    "1": "11032",
                                    "2": "2016-04-17"
                                },
                                {
                                    "0": "89",
                                    "1": "10904",
                                    "2": "2016-02-24"
                                },
                                {
                                    "0": "90",
                                    "1": "11005",
                                    "2": "2016-04-07"
                                },
                                {
                                    "0": "90",
                                    "1": "10910",
                                    "2": "2016-02-26"
                                },
                                {
                                    "0": "90",
                                    "1": "10879",
                                    "2": "2016-02-10"
                                },
                                {
                                    "0": "91",
                                    "1": "11044",
                                    "2": "2016-04-23"
                                },
                                {
                                    "0": "91",
                                    "1": "10998",
                                    "2": "2016-04-03"
                                },
                                {
                                    "0": "91",
                                    "1": "10906",
                                    "2": "2016-02-25"
                                }
                            ]
                        },
                        "text/html": [
                            "<table>",
                            "<tr><th>CustomerId</th><th>orderid</th><th>orderdate</th></tr>",
                            "<tr><td>1</td><td>11011</td><td>2016-04-09</td></tr>",
                            "<tr><td>1</td><td>10952</td><td>2016-03-16</td></tr>",
                            "<tr><td>1</td><td>10835</td><td>2016-01-15</td></tr>",
                            "<tr><td>2</td><td>10926</td><td>2016-03-04</td></tr>",
                            "<tr><td>2</td><td>10759</td><td>2015-11-28</td></tr>",
                            "<tr><td>2</td><td>10625</td><td>2015-08-08</td></tr>",
                            "<tr><td>3</td><td>10856</td><td>2016-01-28</td></tr>",
                            "<tr><td>3</td><td>10682</td><td>2015-09-25</td></tr>",
                            "<tr><td>3</td><td>10677</td><td>2015-09-22</td></tr>",
                            "<tr><td>4</td><td>11016</td><td>2016-04-10</td></tr>",
                            "<tr><td>4</td><td>10953</td><td>2016-03-16</td></tr>",
                            "<tr><td>4</td><td>10920</td><td>2016-03-03</td></tr>",
                            "<tr><td>5</td><td>10924</td><td>2016-03-04</td></tr>",
                            "<tr><td>5</td><td>10875</td><td>2016-02-06</td></tr>",
                            "<tr><td>5</td><td>10866</td><td>2016-02-03</td></tr>",
                            "<tr><td>6</td><td>11058</td><td>2016-04-29</td></tr>",
                            "<tr><td>6</td><td>10956</td><td>2016-03-17</td></tr>",
                            "<tr><td>6</td><td>10853</td><td>2016-01-27</td></tr>",
                            "<tr><td>7</td><td>10826</td><td>2016-01-12</td></tr>",
                            "<tr><td>7</td><td>10679</td><td>2015-09-23</td></tr>",
                            "<tr><td>7</td><td>10628</td><td>2015-08-12</td></tr>",
                            "<tr><td>8</td><td>10970</td><td>2016-03-24</td></tr>",
                            "<tr><td>8</td><td>10801</td><td>2015-12-29</td></tr>",
                            "<tr><td>8</td><td>10326</td><td>2014-10-10</td></tr>",
                            "<tr><td>9</td><td>11076</td><td>2016-05-06</td></tr>",
                            "<tr><td>9</td><td>10940</td><td>2016-03-11</td></tr>",
                            "<tr><td>9</td><td>10932</td><td>2016-03-06</td></tr>",
                            "<tr><td>10</td><td>11048</td><td>2016-04-24</td></tr>",
                            "<tr><td>10</td><td>11045</td><td>2016-04-23</td></tr>",
                            "<tr><td>10</td><td>11027</td><td>2016-04-16</td></tr>",
                            "<tr><td>11</td><td>11023</td><td>2016-04-14</td></tr>",
                            "<tr><td>11</td><td>10947</td><td>2016-03-13</td></tr>",
                            "<tr><td>11</td><td>10943</td><td>2016-03-11</td></tr>",
                            "<tr><td>12</td><td>11054</td><td>2016-04-28</td></tr>",
                            "<tr><td>12</td><td>10937</td><td>2016-03-10</td></tr>",
                            "<tr><td>12</td><td>10881</td><td>2016-02-11</td></tr>",
                            "<tr><td>13</td><td>10259</td><td>2014-07-18</td></tr>",
                            "<tr><td>14</td><td>11041</td><td>2016-04-22</td></tr>",
                            "<tr><td>14</td><td>11029</td><td>2016-04-16</td></tr>",
                            "<tr><td>14</td><td>10966</td><td>2016-03-20</td></tr>",
                            "<tr><td>15</td><td>11042</td><td>2016-04-22</td></tr>",
                            "<tr><td>15</td><td>10969</td><td>2016-03-23</td></tr>",
                            "<tr><td>15</td><td>10494</td><td>2015-04-02</td></tr>",
                            "<tr><td>16</td><td>10848</td><td>2016-01-23</td></tr>",
                            "<tr><td>16</td><td>10462</td><td>2015-03-03</td></tr>",
                            "<tr><td>16</td><td>10435</td><td>2015-02-04</td></tr>",
                            "<tr><td>17</td><td>11067</td><td>2016-05-04</td></tr>",
                            "<tr><td>17</td><td>11036</td><td>2016-04-20</td></tr>",
                            "<tr><td>17</td><td>10825</td><td>2016-01-09</td></tr>",
                            "<tr><td>18</td><td>10890</td><td>2016-02-16</td></tr>",
                            "<tr><td>18</td><td>10683</td><td>2015-09-26</td></tr>",
                            "<tr><td>18</td><td>10609</td><td>2015-07-24</td></tr>",
                            "<tr><td>19</td><td>11056</td><td>2016-04-28</td></tr>",
                            "<tr><td>19</td><td>11047</td><td>2016-04-24</td></tr>",
                            "<tr><td>19</td><td>11024</td><td>2016-04-15</td></tr>",
                            "<tr><td>20</td><td>11072</td><td>2016-05-05</td></tr>",
                            "<tr><td>20</td><td>11017</td><td>2016-04-13</td></tr>",
                            "<tr><td>20</td><td>11008</td><td>2016-04-08</td></tr>",
                            "<tr><td>21</td><td>10725</td><td>2015-10-31</td></tr>",
                            "<tr><td>21</td><td>10650</td><td>2015-08-29</td></tr>",
                            "<tr><td>21</td><td>10581</td><td>2015-06-26</td></tr>",
                            "<tr><td>22</td><td>NULL</td><td>NULL</td></tr>",
                            "<tr><td>23</td><td>10789</td><td>2015-12-22</td></tr>",
                            "<tr><td>23</td><td>10763</td><td>2015-12-03</td></tr>",
                            "<tr><td>23</td><td>10634</td><td>2015-08-15</td></tr>",
                            "<tr><td>24</td><td>11050</td><td>2016-04-27</td></tr>",
                            "<tr><td>24</td><td>11001</td><td>2016-04-06</td></tr>",
                            "<tr><td>24</td><td>10993</td><td>2016-04-01</td></tr>",
                            "<tr><td>25</td><td>11012</td><td>2016-04-09</td></tr>",
                            "<tr><td>25</td><td>10929</td><td>2016-03-05</td></tr>",
                            "<tr><td>25</td><td>10859</td><td>2016-01-29</td></tr>",
                            "<tr><td>26</td><td>10971</td><td>2016-03-24</td></tr>",
                            "<tr><td>26</td><td>10860</td><td>2016-01-29</td></tr>",
                            "<tr><td>26</td><td>10671</td><td>2015-09-17</td></tr>",
                            "<tr><td>27</td><td>11060</td><td>2016-04-30</td></tr>",
                            "<tr><td>27</td><td>11026</td><td>2016-04-15</td></tr>",
                            "<tr><td>27</td><td>10807</td><td>2015-12-31</td></tr>",
                            "<tr><td>28</td><td>10963</td><td>2016-03-19</td></tr>",
                            "<tr><td>28</td><td>10664</td><td>2015-09-10</td></tr>",
                            "<tr><td>28</td><td>10604</td><td>2015-07-18</td></tr>",
                            "<tr><td>29</td><td>10928</td><td>2016-03-05</td></tr>",
                            "<tr><td>29</td><td>10887</td><td>2016-02-13</td></tr>",
                            "<tr><td>29</td><td>10568</td><td>2015-06-13</td></tr>",
                            "<tr><td>30</td><td>11037</td><td>2016-04-21</td></tr>",
                            "<tr><td>30</td><td>11009</td><td>2016-04-08</td></tr>",
                            "<tr><td>30</td><td>10948</td><td>2016-03-13</td></tr>",
                            "<tr><td>31</td><td>11049</td><td>2016-04-24</td></tr>",
                            "<tr><td>31</td><td>10959</td><td>2016-03-18</td></tr>",
                            "<tr><td>31</td><td>10790</td><td>2015-12-22</td></tr>",
                            "<tr><td>32</td><td>11061</td><td>2016-04-30</td></tr>",
                            "<tr><td>32</td><td>11040</td><td>2016-04-22</td></tr>",
                            "<tr><td>32</td><td>11006</td><td>2016-04-07</td></tr>",
                            "<tr><td>33</td><td>10785</td><td>2015-12-18</td></tr>",
                            "<tr><td>33</td><td>10268</td><td>2014-07-30</td></tr>",
                            "<tr><td>34</td><td>11052</td><td>2016-04-27</td></tr>",
                            "<tr><td>34</td><td>11022</td><td>2016-04-14</td></tr>",
                            "<tr><td>34</td><td>10981</td><td>2016-03-27</td></tr>",
                            "<tr><td>35</td><td>11055</td><td>2016-04-28</td></tr>",
                            "<tr><td>35</td><td>10976</td><td>2016-03-25</td></tr>",
                            "<tr><td>35</td><td>10960</td><td>2016-03-19</td></tr>",
                            "<tr><td>36</td><td>10660</td><td>2015-09-08</td></tr>",
                            "<tr><td>36</td><td>10600</td><td>2015-07-16</td></tr>",
                            "<tr><td>36</td><td>10415</td><td>2015-01-15</td></tr>",
                            "<tr><td>37</td><td>11063</td><td>2016-04-30</td></tr>",
                            "<tr><td>37</td><td>10985</td><td>2016-03-30</td></tr>",
                            "<tr><td>37</td><td>10912</td><td>2016-02-26</td></tr>",
                            "<tr><td>38</td><td>10933</td><td>2016-03-06</td></tr>",
                            "<tr><td>38</td><td>10829</td><td>2016-01-13</td></tr>",
                            "<tr><td>38</td><td>10798</td><td>2015-12-26</td></tr>",
                            "<tr><td>39</td><td>11028</td><td>2016-04-16</td></tr>",
                            "<tr><td>39</td><td>10893</td><td>2016-02-18</td></tr>",
                            "<tr><td>39</td><td>10849</td><td>2016-01-23</td></tr>",
                            "<tr><td>40</td><td>10973</td><td>2016-03-24</td></tr>",
                            "<tr><td>40</td><td>10972</td><td>2016-03-24</td></tr>",
                            "<tr><td>40</td><td>10927</td><td>2016-03-05</td></tr>",
                            "<tr><td>41</td><td>11051</td><td>2016-04-27</td></tr>",
                            "<tr><td>41</td><td>10923</td><td>2016-03-03</td></tr>",
                            "<tr><td>41</td><td>10832</td><td>2016-01-14</td></tr>",
                            "<tr><td>42</td><td>10810</td><td>2016-01-01</td></tr>",
                            "<tr><td>42</td><td>10620</td><td>2015-08-05</td></tr>",
                            "<tr><td>42</td><td>10495</td><td>2015-04-03</td></tr>",
                            "<tr><td>43</td><td>10545</td><td>2015-05-22</td></tr>",
                            "<tr><td>43</td><td>10482</td><td>2015-03-21</td></tr>",
                            "<tr><td>44</td><td>11070</td><td>2016-05-05</td></tr>",
                            "<tr><td>44</td><td>10934</td><td>2016-03-09</td></tr>",
                            "<tr><td>44</td><td>10891</td><td>2016-02-17</td></tr>",
                            "<tr><td>45</td><td>10884</td><td>2016-02-12</td></tr>",
                            "<tr><td>45</td><td>10735</td><td>2015-11-10</td></tr>",
                            "<tr><td>45</td><td>10719</td><td>2015-10-27</td></tr>",
                            "<tr><td>46</td><td>11071</td><td>2016-05-05</td></tr>",
                            "<tr><td>46</td><td>11065</td><td>2016-05-01</td></tr>",
                            "<tr><td>46</td><td>10997</td><td>2016-04-03</td></tr>",
                            "<tr><td>47</td><td>11039</td><td>2016-04-21</td></tr>",
                            "<tr><td>47</td><td>11014</td><td>2016-04-10</td></tr>",
                            "<tr><td>47</td><td>10954</td><td>2016-03-17</td></tr>",
                            "<tr><td>48</td><td>11018</td><td>2016-04-13</td></tr>",
                            "<tr><td>48</td><td>10883</td><td>2016-02-12</td></tr>",
                            "<tr><td>48</td><td>10867</td><td>2016-02-03</td></tr>",
                            "<tr><td>49</td><td>10950</td><td>2016-03-16</td></tr>",
                            "<tr><td>49</td><td>10939</td><td>2016-03-10</td></tr>",
                            "<tr><td>49</td><td>10818</td><td>2016-01-07</td></tr>",
                            "<tr><td>50</td><td>11004</td><td>2016-04-07</td></tr>",
                            "<tr><td>50</td><td>10978</td><td>2016-03-26</td></tr>",
                            "<tr><td>50</td><td>10896</td><td>2016-02-19</td></tr>",
                            "<tr><td>51</td><td>10724</td><td>2015-10-30</td></tr>",
                            "<tr><td>51</td><td>10619</td><td>2015-08-04</td></tr>",
                            "<tr><td>51</td><td>10618</td><td>2015-08-01</td></tr>",
                            "<tr><td>52</td><td>10945</td><td>2016-03-12</td></tr>",
                            "<tr><td>52</td><td>10779</td><td>2015-12-16</td></tr>",
                            "<tr><td>52</td><td>10699</td><td>2015-10-09</td></tr>",
                            "<tr><td>53</td><td>11057</td><td>2016-04-29</td></tr>",
                            "<tr><td>53</td><td>10752</td><td>2015-11-24</td></tr>",
                            "<tr><td>53</td><td>10517</td><td>2015-04-24</td></tr>",
                            "<tr><td>54</td><td>10986</td><td>2016-03-30</td></tr>",
                            "<tr><td>54</td><td>10958</td><td>2016-03-18</td></tr>",
                            "<tr><td>54</td><td>10898</td><td>2016-02-20</td></tr>",
                            "<tr><td>55</td><td>11034</td><td>2016-04-20</td></tr>",
                            "<tr><td>55</td><td>10965</td><td>2016-03-20</td></tr>",
                            "<tr><td>55</td><td>10855</td><td>2016-01-27</td></tr>",
                            "<tr><td>56</td><td>11020</td><td>2016-04-14</td></tr>",
                            "<tr><td>56</td><td>10999</td><td>2016-04-03</td></tr>",
                            "<tr><td>56</td><td>10833</td><td>2016-01-15</td></tr>",
                            "<tr><td>57</td><td>NULL</td><td>NULL</td></tr>",
                            "<tr><td>58</td><td>11073</td><td>2016-05-05</td></tr>",
                            "<tr><td>58</td><td>10995</td><td>2016-04-02</td></tr>",
                            "<tr><td>58</td><td>10502</td><td>2015-04-10</td></tr>",
                            "<tr><td>59</td><td>11053</td><td>2016-04-27</td></tr>",
                            "<tr><td>59</td><td>10844</td><td>2016-01-21</td></tr>",
                            "<tr><td>59</td><td>10747</td><td>2015-11-19</td></tr>",
                            "<tr><td>60</td><td>11007</td><td>2016-04-08</td></tr>",
                            "<tr><td>60</td><td>10477</td><td>2015-03-17</td></tr>",
                            "<tr><td>60</td><td>10433</td><td>2015-02-03</td></tr>",
                            "<tr><td>61</td><td>10989</td><td>2016-03-31</td></tr>",
                            "<tr><td>61</td><td>10794</td><td>2015-12-24</td></tr>",
                            "<tr><td>61</td><td>10720</td><td>2015-10-28</td></tr>",
                            "<tr><td>62</td><td>11068</td><td>2016-05-04</td></tr>",
                            "<tr><td>62</td><td>10961</td><td>2016-03-19</td></tr>",
                            "<tr><td>62</td><td>10914</td><td>2016-02-27</td></tr>",
                            "<tr><td>63</td><td>11021</td><td>2016-04-14</td></tr>",
                            "<tr><td>63</td><td>10996</td><td>2016-04-02</td></tr>",
                            "<tr><td>63</td><td>10991</td><td>2016-04-01</td></tr>",
                            "<tr><td>64</td><td>11019</td><td>2016-04-13</td></tr>",
                            "<tr><td>64</td><td>10916</td><td>2016-02-27</td></tr>",
                            "<tr><td>64</td><td>10828</td><td>2016-01-13</td></tr>",
                            "<tr><td>65</td><td>11077</td><td>2016-05-06</td></tr>",
                            "<tr><td>65</td><td>11000</td><td>2016-04-06</td></tr>",
                            "<tr><td>65</td><td>10988</td><td>2016-03-31</td></tr>",
                            "<tr><td>66</td><td>11062</td><td>2016-04-30</td></tr>",
                            "<tr><td>66</td><td>11010</td><td>2016-04-09</td></tr>",
                            "<tr><td>66</td><td>10942</td><td>2016-03-11</td></tr>",
                            "<tr><td>67</td><td>11059</td><td>2016-04-29</td></tr>",
                            "<tr><td>67</td><td>10877</td><td>2016-02-09</td></tr>",
                            "<tr><td>67</td><td>10851</td><td>2016-01-26</td></tr>",
                            "<tr><td>68</td><td>11075</td><td>2016-05-06</td></tr>",
                            "<tr><td>68</td><td>11033</td><td>2016-04-17</td></tr>",
                            "<tr><td>68</td><td>10951</td><td>2016-03-16</td></tr>",
                            "<tr><td>69</td><td>11013</td><td>2016-04-09</td></tr>",
                            "<tr><td>69</td><td>10917</td><td>2016-03-02</td></tr>",
                            "<tr><td>69</td><td>10306</td><td>2014-09-16</td></tr>",
                            "<tr><td>70</td><td>11015</td><td>2016-04-10</td></tr>",
                            "<tr><td>70</td><td>10909</td><td>2016-02-26</td></tr>",
                            "<tr><td>70</td><td>10831</td><td>2016-01-14</td></tr>",
                            "<tr><td>71</td><td>11064</td><td>2016-05-01</td></tr>",
                            "<tr><td>71</td><td>11031</td><td>2016-04-17</td></tr>",
                            "<tr><td>71</td><td>11030</td><td>2016-04-17</td></tr>",
                            "<tr><td>72</td><td>10869</td><td>2016-02-04</td></tr>",
                            "<tr><td>72</td><td>10804</td><td>2015-12-30</td></tr>",
                            "<tr><td>72</td><td>10800</td><td>2015-12-26</td></tr>",
                            "<tr><td>73</td><td>11074</td><td>2016-05-06</td></tr>",
                            "<tr><td>73</td><td>10802</td><td>2015-12-29</td></tr>",
                            "<tr><td>73</td><td>10669</td><td>2015-09-15</td></tr>",
                            "<tr><td>74</td><td>11043</td><td>2016-04-22</td></tr>",
                            "<tr><td>74</td><td>10964</td><td>2016-03-20</td></tr>",
                            "<tr><td>74</td><td>10907</td><td>2016-02-25</td></tr>",
                            "<tr><td>75</td><td>10974</td><td>2016-03-25</td></tr>",
                            "<tr><td>75</td><td>10821</td><td>2016-01-08</td></tr>",
                            "<tr><td>75</td><td>10756</td><td>2015-11-27</td></tr>",
                            "<tr><td>76</td><td>11038</td><td>2016-04-21</td></tr>",
                            "<tr><td>76</td><td>11035</td><td>2016-04-20</td></tr>",
                            "<tr><td>76</td><td>10930</td><td>2016-03-06</td></tr>",
                            "<tr><td>77</td><td>10992</td><td>2016-04-01</td></tr>",
                            "<tr><td>77</td><td>10805</td><td>2015-12-30</td></tr>",
                            "<tr><td>77</td><td>10708</td><td>2015-10-17</td></tr>",
                            "<tr><td>78</td><td>11003</td><td>2016-04-06</td></tr>",
                            "<tr><td>78</td><td>10775</td><td>2015-12-12</td></tr>",
                            "<tr><td>78</td><td>10624</td><td>2015-08-07</td></tr>",
                            "<tr><td>79</td><td>10967</td><td>2016-03-23</td></tr>",
                            "<tr><td>79</td><td>10608</td><td>2015-07-23</td></tr>",
                            "<tr><td>79</td><td>10548</td><td>2015-05-26</td></tr>",
                            "<tr><td>80</td><td>11069</td><td>2016-05-04</td></tr>",
                            "<tr><td>80</td><td>10915</td><td>2016-02-27</td></tr>",
                            "<tr><td>80</td><td>10842</td><td>2016-01-20</td></tr>",
                            "<tr><td>81</td><td>10839</td><td>2016-01-19</td></tr>",
                            "<tr><td>81</td><td>10834</td><td>2016-01-15</td></tr>",
                            "<tr><td>81</td><td>10830</td><td>2016-01-13</td></tr>",
                            "<tr><td>82</td><td>10822</td><td>2016-01-08</td></tr>",
                            "<tr><td>82</td><td>10577</td><td>2015-06-23</td></tr>",
                            "<tr><td>82</td><td>10574</td><td>2015-06-19</td></tr>",
                            "<tr><td>83</td><td>10994</td><td>2016-04-02</td></tr>",
                            "<tr><td>83</td><td>10946</td><td>2016-03-12</td></tr>",
                            "<tr><td>83</td><td>10921</td><td>2016-03-03</td></tr>",
                            "<tr><td>84</td><td>10850</td><td>2016-01-23</td></tr>",
                            "<tr><td>84</td><td>10843</td><td>2016-01-21</td></tr>",
                            "<tr><td>84</td><td>10814</td><td>2016-01-05</td></tr>",
                            "<tr><td>85</td><td>10739</td><td>2015-11-12</td></tr>",
                            "<tr><td>85</td><td>10737</td><td>2015-11-11</td></tr>",
                            "<tr><td>85</td><td>10295</td><td>2014-09-02</td></tr>",
                            "<tr><td>86</td><td>11046</td><td>2016-04-23</td></tr>",
                            "<tr><td>86</td><td>10668</td><td>2015-09-15</td></tr>",
                            "<tr><td>86</td><td>10651</td><td>2015-09-01</td></tr>",
                            "<tr><td>87</td><td>11025</td><td>2016-04-15</td></tr>",
                            "<tr><td>87</td><td>10781</td><td>2015-12-17</td></tr>",
                            "<tr><td>87</td><td>10750</td><td>2015-11-21</td></tr>",
                            "<tr><td>88</td><td>10935</td><td>2016-03-09</td></tr>",
                            "<tr><td>88</td><td>10905</td><td>2016-02-24</td></tr>",
                            "<tr><td>88</td><td>10900</td><td>2016-02-20</td></tr>",
                            "<tr><td>89</td><td>11066</td><td>2016-05-01</td></tr>",
                            "<tr><td>89</td><td>11032</td><td>2016-04-17</td></tr>",
                            "<tr><td>89</td><td>10904</td><td>2016-02-24</td></tr>",
                            "<tr><td>90</td><td>11005</td><td>2016-04-07</td></tr>",
                            "<tr><td>90</td><td>10910</td><td>2016-02-26</td></tr>",
                            "<tr><td>90</td><td>10879</td><td>2016-02-10</td></tr>",
                            "<tr><td>91</td><td>11044</td><td>2016-04-23</td></tr>",
                            "<tr><td>91</td><td>10998</td><td>2016-04-03</td></tr>",
                            "<tr><td>91</td><td>10906</td><td>2016-02-25</td></tr>",
                            "</table>"
                        ]
                    }
                }
            ],
            "execution_count": 20
        },
        {
            "cell_type": "markdown",
            "source": [
                "Using Cross Apply with inline function.\n",
                "\n",
                "Proposition: Return 3 most recent orders for each customer."
            ],
            "metadata": {
                "azdata_cell_guid": "bf777d57-deb2-47e6-b53d-df7562e4d1b8"
            },
            "attachments": {}
        },
        {
            "cell_type": "code",
            "source": [
                "use Northwinds2022TSQLV7;\r\n",
                "-- Creation Script for the Function TopOrders\r\n",
                "DROP FUNCTION IF EXISTS dbo.TopOrders;\r\n",
                "GO\r\n",
                "CREATE FUNCTION dbo.TopOrders\r\n",
                "  (@custid AS INT, @n AS INT)\r\n",
                "  RETURNS TABLE\r\n",
                "AS\r\n",
                "RETURN\r\n",
                "  SELECT TOP (@n) orderid, EmployeeId, orderdate, requireddate \r\n",
                "  FROM Sales.[Order]\r\n",
                "  WHERE CustomerId = @custid\r\n",
                "  ORDER BY orderdate DESC, orderid DESC;\r\n",
                "GO\r\n",
                "\r\n",
                "SELECT\r\n",
                "  C.CustomerId, C.CustomerCompanyname,\r\n",
                "  A.orderid, A.EmployeeId, A.orderdate, A.requireddate \r\n",
                "FROM Sales.Customer AS C\r\n",
                "  CROSS APPLY dbo.TopOrders(C.CustomerId, 3) AS A;\r\n",
                ""
            ],
            "metadata": {
                "azdata_cell_guid": "8bc399e4-6555-4ee8-a3b5-2af69c56eb1b",
                "language": "sql"
            },
            "outputs": [
                {
                    "output_type": "display_data",
                    "data": {
                        "text/html": "Commands completed successfully."
                    },
                    "metadata": {}
                },
                {
                    "output_type": "display_data",
                    "data": {
                        "text/html": "Commands completed successfully."
                    },
                    "metadata": {}
                },
                {
                    "output_type": "display_data",
                    "data": {
                        "text/html": "(263 rows affected)"
                    },
                    "metadata": {}
                },
                {
                    "output_type": "display_data",
                    "data": {
                        "text/html": "Total execution time: 00:00:00.043"
                    },
                    "metadata": {}
                },
                {
                    "output_type": "execute_result",
                    "metadata": {},
                    "execution_count": 21,
                    "data": {
                        "application/vnd.dataresource+json": {
                            "schema": {
                                "fields": [
                                    {
                                        "name": "CustomerId"
                                    },
                                    {
                                        "name": "CustomerCompanyname"
                                    },
                                    {
                                        "name": "orderid"
                                    },
                                    {
                                        "name": "EmployeeId"
                                    },
                                    {
                                        "name": "orderdate"
                                    },
                                    {
                                        "name": "requireddate"
                                    }
                                ]
                            },
                            "data": [
                                {
                                    "0": "1",
                                    "1": "Customer NRZBB",
                                    "2": "11011",
                                    "3": "3",
                                    "4": "2016-04-09",
                                    "5": "2016-05-07"
                                },
                                {
                                    "0": "1",
                                    "1": "Customer NRZBB",
                                    "2": "10952",
                                    "3": "1",
                                    "4": "2016-03-16",
                                    "5": "2016-04-27"
                                },
                                {
                                    "0": "1",
                                    "1": "Customer NRZBB",
                                    "2": "10835",
                                    "3": "1",
                                    "4": "2016-01-15",
                                    "5": "2016-02-12"
                                },
                                {
                                    "0": "2",
                                    "1": "Customer MLTDN",
                                    "2": "10926",
                                    "3": "4",
                                    "4": "2016-03-04",
                                    "5": "2016-04-01"
                                },
                                {
                                    "0": "2",
                                    "1": "Customer MLTDN",
                                    "2": "10759",
                                    "3": "3",
                                    "4": "2015-11-28",
                                    "5": "2015-12-26"
                                },
                                {
                                    "0": "2",
                                    "1": "Customer MLTDN",
                                    "2": "10625",
                                    "3": "3",
                                    "4": "2015-08-08",
                                    "5": "2015-09-05"
                                },
                                {
                                    "0": "3",
                                    "1": "Customer KBUDE",
                                    "2": "10856",
                                    "3": "3",
                                    "4": "2016-01-28",
                                    "5": "2016-02-25"
                                },
                                {
                                    "0": "3",
                                    "1": "Customer KBUDE",
                                    "2": "10682",
                                    "3": "3",
                                    "4": "2015-09-25",
                                    "5": "2015-10-23"
                                },
                                {
                                    "0": "3",
                                    "1": "Customer KBUDE",
                                    "2": "10677",
                                    "3": "1",
                                    "4": "2015-09-22",
                                    "5": "2015-10-20"
                                },
                                {
                                    "0": "4",
                                    "1": "Customer HFBZG",
                                    "2": "11016",
                                    "3": "9",
                                    "4": "2016-04-10",
                                    "5": "2016-05-08"
                                },
                                {
                                    "0": "4",
                                    "1": "Customer HFBZG",
                                    "2": "10953",
                                    "3": "9",
                                    "4": "2016-03-16",
                                    "5": "2016-03-30"
                                },
                                {
                                    "0": "4",
                                    "1": "Customer HFBZG",
                                    "2": "10920",
                                    "3": "4",
                                    "4": "2016-03-03",
                                    "5": "2016-03-31"
                                },
                                {
                                    "0": "5",
                                    "1": "Customer HGVLZ",
                                    "2": "10924",
                                    "3": "3",
                                    "4": "2016-03-04",
                                    "5": "2016-04-01"
                                },
                                {
                                    "0": "5",
                                    "1": "Customer HGVLZ",
                                    "2": "10875",
                                    "3": "4",
                                    "4": "2016-02-06",
                                    "5": "2016-03-06"
                                },
                                {
                                    "0": "5",
                                    "1": "Customer HGVLZ",
                                    "2": "10866",
                                    "3": "5",
                                    "4": "2016-02-03",
                                    "5": "2016-03-03"
                                },
                                {
                                    "0": "6",
                                    "1": "Customer XHXJV",
                                    "2": "11058",
                                    "3": "9",
                                    "4": "2016-04-29",
                                    "5": "2016-05-27"
                                },
                                {
                                    "0": "6",
                                    "1": "Customer XHXJV",
                                    "2": "10956",
                                    "3": "6",
                                    "4": "2016-03-17",
                                    "5": "2016-04-28"
                                },
                                {
                                    "0": "6",
                                    "1": "Customer XHXJV",
                                    "2": "10853",
                                    "3": "9",
                                    "4": "2016-01-27",
                                    "5": "2016-02-24"
                                },
                                {
                                    "0": "7",
                                    "1": "Customer QXVLA",
                                    "2": "10826",
                                    "3": "6",
                                    "4": "2016-01-12",
                                    "5": "2016-02-09"
                                },
                                {
                                    "0": "7",
                                    "1": "Customer QXVLA",
                                    "2": "10679",
                                    "3": "8",
                                    "4": "2015-09-23",
                                    "5": "2015-10-21"
                                },
                                {
                                    "0": "7",
                                    "1": "Customer QXVLA",
                                    "2": "10628",
                                    "3": "4",
                                    "4": "2015-08-12",
                                    "5": "2015-09-09"
                                },
                                {
                                    "0": "8",
                                    "1": "Customer QUHWH",
                                    "2": "10970",
                                    "3": "9",
                                    "4": "2016-03-24",
                                    "5": "2016-04-07"
                                },
                                {
                                    "0": "8",
                                    "1": "Customer QUHWH",
                                    "2": "10801",
                                    "3": "4",
                                    "4": "2015-12-29",
                                    "5": "2016-01-26"
                                },
                                {
                                    "0": "8",
                                    "1": "Customer QUHWH",
                                    "2": "10326",
                                    "3": "4",
                                    "4": "2014-10-10",
                                    "5": "2014-11-07"
                                },
                                {
                                    "0": "9",
                                    "1": "Customer RTXGC",
                                    "2": "11076",
                                    "3": "4",
                                    "4": "2016-05-06",
                                    "5": "2016-06-03"
                                },
                                {
                                    "0": "9",
                                    "1": "Customer RTXGC",
                                    "2": "10940",
                                    "3": "8",
                                    "4": "2016-03-11",
                                    "5": "2016-04-08"
                                },
                                {
                                    "0": "9",
                                    "1": "Customer RTXGC",
                                    "2": "10932",
                                    "3": "8",
                                    "4": "2016-03-06",
                                    "5": "2016-04-03"
                                },
                                {
                                    "0": "10",
                                    "1": "Customer EEALV",
                                    "2": "11048",
                                    "3": "7",
                                    "4": "2016-04-24",
                                    "5": "2016-05-22"
                                },
                                {
                                    "0": "10",
                                    "1": "Customer EEALV",
                                    "2": "11045",
                                    "3": "6",
                                    "4": "2016-04-23",
                                    "5": "2016-05-21"
                                },
                                {
                                    "0": "10",
                                    "1": "Customer EEALV",
                                    "2": "11027",
                                    "3": "1",
                                    "4": "2016-04-16",
                                    "5": "2016-05-14"
                                },
                                {
                                    "0": "11",
                                    "1": "Customer UBHAU",
                                    "2": "11023",
                                    "3": "1",
                                    "4": "2016-04-14",
                                    "5": "2016-04-28"
                                },
                                {
                                    "0": "11",
                                    "1": "Customer UBHAU",
                                    "2": "10947",
                                    "3": "3",
                                    "4": "2016-03-13",
                                    "5": "2016-04-10"
                                },
                                {
                                    "0": "11",
                                    "1": "Customer UBHAU",
                                    "2": "10943",
                                    "3": "4",
                                    "4": "2016-03-11",
                                    "5": "2016-04-08"
                                },
                                {
                                    "0": "12",
                                    "1": "Customer PSNMQ",
                                    "2": "11054",
                                    "3": "8",
                                    "4": "2016-04-28",
                                    "5": "2016-05-26"
                                },
                                {
                                    "0": "12",
                                    "1": "Customer PSNMQ",
                                    "2": "10937",
                                    "3": "7",
                                    "4": "2016-03-10",
                                    "5": "2016-03-24"
                                },
                                {
                                    "0": "12",
                                    "1": "Customer PSNMQ",
                                    "2": "10881",
                                    "3": "4",
                                    "4": "2016-02-11",
                                    "5": "2016-03-11"
                                },
                                {
                                    "0": "13",
                                    "1": "Customer VMLOG",
                                    "2": "10259",
                                    "3": "4",
                                    "4": "2014-07-18",
                                    "5": "2014-08-15"
                                },
                                {
                                    "0": "14",
                                    "1": "Customer WNMAF",
                                    "2": "11041",
                                    "3": "3",
                                    "4": "2016-04-22",
                                    "5": "2016-05-20"
                                },
                                {
                                    "0": "14",
                                    "1": "Customer WNMAF",
                                    "2": "11029",
                                    "3": "4",
                                    "4": "2016-04-16",
                                    "5": "2016-05-14"
                                },
                                {
                                    "0": "14",
                                    "1": "Customer WNMAF",
                                    "2": "10966",
                                    "3": "4",
                                    "4": "2016-03-20",
                                    "5": "2016-04-17"
                                },
                                {
                                    "0": "15",
                                    "1": "Customer JUWXK",
                                    "2": "11042",
                                    "3": "2",
                                    "4": "2016-04-22",
                                    "5": "2016-05-06"
                                },
                                {
                                    "0": "15",
                                    "1": "Customer JUWXK",
                                    "2": "10969",
                                    "3": "1",
                                    "4": "2016-03-23",
                                    "5": "2016-04-20"
                                },
                                {
                                    "0": "15",
                                    "1": "Customer JUWXK",
                                    "2": "10494",
                                    "3": "4",
                                    "4": "2015-04-02",
                                    "5": "2015-04-30"
                                },
                                {
                                    "0": "16",
                                    "1": "Customer GYBBY",
                                    "2": "10848",
                                    "3": "7",
                                    "4": "2016-01-23",
                                    "5": "2016-02-20"
                                },
                                {
                                    "0": "16",
                                    "1": "Customer GYBBY",
                                    "2": "10462",
                                    "3": "2",
                                    "4": "2015-03-03",
                                    "5": "2015-03-31"
                                },
                                {
                                    "0": "16",
                                    "1": "Customer GYBBY",
                                    "2": "10435",
                                    "3": "8",
                                    "4": "2015-02-04",
                                    "5": "2015-03-18"
                                },
                                {
                                    "0": "17",
                                    "1": "Customer FEVNN",
                                    "2": "11067",
                                    "3": "1",
                                    "4": "2016-05-04",
                                    "5": "2016-05-18"
                                },
                                {
                                    "0": "17",
                                    "1": "Customer FEVNN",
                                    "2": "11036",
                                    "3": "8",
                                    "4": "2016-04-20",
                                    "5": "2016-05-18"
                                },
                                {
                                    "0": "17",
                                    "1": "Customer FEVNN",
                                    "2": "10825",
                                    "3": "1",
                                    "4": "2016-01-09",
                                    "5": "2016-02-06"
                                },
                                {
                                    "0": "18",
                                    "1": "Customer BSVAR",
                                    "2": "10890",
                                    "3": "7",
                                    "4": "2016-02-16",
                                    "5": "2016-03-16"
                                },
                                {
                                    "0": "18",
                                    "1": "Customer BSVAR",
                                    "2": "10683",
                                    "3": "2",
                                    "4": "2015-09-26",
                                    "5": "2015-10-24"
                                },
                                {
                                    "0": "18",
                                    "1": "Customer BSVAR",
                                    "2": "10609",
                                    "3": "7",
                                    "4": "2015-07-24",
                                    "5": "2015-08-21"
                                },
                                {
                                    "0": "19",
                                    "1": "Customer RFNQC",
                                    "2": "11056",
                                    "3": "8",
                                    "4": "2016-04-28",
                                    "5": "2016-05-12"
                                },
                                {
                                    "0": "19",
                                    "1": "Customer RFNQC",
                                    "2": "11047",
                                    "3": "7",
                                    "4": "2016-04-24",
                                    "5": "2016-05-22"
                                },
                                {
                                    "0": "19",
                                    "1": "Customer RFNQC",
                                    "2": "11024",
                                    "3": "4",
                                    "4": "2016-04-15",
                                    "5": "2016-05-13"
                                },
                                {
                                    "0": "20",
                                    "1": "Customer THHDP",
                                    "2": "11072",
                                    "3": "4",
                                    "4": "2016-05-05",
                                    "5": "2016-06-02"
                                },
                                {
                                    "0": "20",
                                    "1": "Customer THHDP",
                                    "2": "11017",
                                    "3": "9",
                                    "4": "2016-04-13",
                                    "5": "2016-05-11"
                                },
                                {
                                    "0": "20",
                                    "1": "Customer THHDP",
                                    "2": "11008",
                                    "3": "7",
                                    "4": "2016-04-08",
                                    "5": "2016-05-06"
                                },
                                {
                                    "0": "21",
                                    "1": "Customer KIDPX",
                                    "2": "10725",
                                    "3": "4",
                                    "4": "2015-10-31",
                                    "5": "2015-11-28"
                                },
                                {
                                    "0": "21",
                                    "1": "Customer KIDPX",
                                    "2": "10650",
                                    "3": "5",
                                    "4": "2015-08-29",
                                    "5": "2015-09-26"
                                },
                                {
                                    "0": "21",
                                    "1": "Customer KIDPX",
                                    "2": "10581",
                                    "3": "3",
                                    "4": "2015-06-26",
                                    "5": "2015-07-24"
                                },
                                {
                                    "0": "23",
                                    "1": "Customer WVFAF",
                                    "2": "10789",
                                    "3": "1",
                                    "4": "2015-12-22",
                                    "5": "2016-01-19"
                                },
                                {
                                    "0": "23",
                                    "1": "Customer WVFAF",
                                    "2": "10763",
                                    "3": "3",
                                    "4": "2015-12-03",
                                    "5": "2015-12-31"
                                },
                                {
                                    "0": "23",
                                    "1": "Customer WVFAF",
                                    "2": "10634",
                                    "3": "4",
                                    "4": "2015-08-15",
                                    "5": "2015-09-12"
                                },
                                {
                                    "0": "24",
                                    "1": "Customer CYZTN",
                                    "2": "11050",
                                    "3": "8",
                                    "4": "2016-04-27",
                                    "5": "2016-05-25"
                                },
                                {
                                    "0": "24",
                                    "1": "Customer CYZTN",
                                    "2": "11001",
                                    "3": "2",
                                    "4": "2016-04-06",
                                    "5": "2016-05-04"
                                },
                                {
                                    "0": "24",
                                    "1": "Customer CYZTN",
                                    "2": "10993",
                                    "3": "7",
                                    "4": "2016-04-01",
                                    "5": "2016-04-29"
                                },
                                {
                                    "0": "25",
                                    "1": "Customer AZJED",
                                    "2": "11012",
                                    "3": "1",
                                    "4": "2016-04-09",
                                    "5": "2016-04-23"
                                },
                                {
                                    "0": "25",
                                    "1": "Customer AZJED",
                                    "2": "10929",
                                    "3": "6",
                                    "4": "2016-03-05",
                                    "5": "2016-04-02"
                                },
                                {
                                    "0": "25",
                                    "1": "Customer AZJED",
                                    "2": "10859",
                                    "3": "1",
                                    "4": "2016-01-29",
                                    "5": "2016-02-26"
                                },
                                {
                                    "0": "26",
                                    "1": "Customer USDBG",
                                    "2": "10971",
                                    "3": "2",
                                    "4": "2016-03-24",
                                    "5": "2016-04-21"
                                },
                                {
                                    "0": "26",
                                    "1": "Customer USDBG",
                                    "2": "10860",
                                    "3": "3",
                                    "4": "2016-01-29",
                                    "5": "2016-02-26"
                                },
                                {
                                    "0": "26",
                                    "1": "Customer USDBG",
                                    "2": "10671",
                                    "3": "1",
                                    "4": "2015-09-17",
                                    "5": "2015-10-15"
                                },
                                {
                                    "0": "27",
                                    "1": "Customer WMFEA",
                                    "2": "11060",
                                    "3": "2",
                                    "4": "2016-04-30",
                                    "5": "2016-05-28"
                                },
                                {
                                    "0": "27",
                                    "1": "Customer WMFEA",
                                    "2": "11026",
                                    "3": "4",
                                    "4": "2016-04-15",
                                    "5": "2016-05-13"
                                },
                                {
                                    "0": "27",
                                    "1": "Customer WMFEA",
                                    "2": "10807",
                                    "3": "4",
                                    "4": "2015-12-31",
                                    "5": "2016-01-28"
                                },
                                {
                                    "0": "28",
                                    "1": "Customer XYUFB",
                                    "2": "10963",
                                    "3": "9",
                                    "4": "2016-03-19",
                                    "5": "2016-04-16"
                                },
                                {
                                    "0": "28",
                                    "1": "Customer XYUFB",
                                    "2": "10664",
                                    "3": "1",
                                    "4": "2015-09-10",
                                    "5": "2015-10-08"
                                },
                                {
                                    "0": "28",
                                    "1": "Customer XYUFB",
                                    "2": "10604",
                                    "3": "1",
                                    "4": "2015-07-18",
                                    "5": "2015-08-15"
                                },
                                {
                                    "0": "29",
                                    "1": "Customer MDLWA",
                                    "2": "10928",
                                    "3": "1",
                                    "4": "2016-03-05",
                                    "5": "2016-04-02"
                                },
                                {
                                    "0": "29",
                                    "1": "Customer MDLWA",
                                    "2": "10887",
                                    "3": "8",
                                    "4": "2016-02-13",
                                    "5": "2016-03-13"
                                },
                                {
                                    "0": "29",
                                    "1": "Customer MDLWA",
                                    "2": "10568",
                                    "3": "3",
                                    "4": "2015-06-13",
                                    "5": "2015-07-11"
                                },
                                {
                                    "0": "30",
                                    "1": "Customer KSLQF",
                                    "2": "11037",
                                    "3": "7",
                                    "4": "2016-04-21",
                                    "5": "2016-05-19"
                                },
                                {
                                    "0": "30",
                                    "1": "Customer KSLQF",
                                    "2": "11009",
                                    "3": "2",
                                    "4": "2016-04-08",
                                    "5": "2016-05-06"
                                },
                                {
                                    "0": "30",
                                    "1": "Customer KSLQF",
                                    "2": "10948",
                                    "3": "3",
                                    "4": "2016-03-13",
                                    "5": "2016-04-10"
                                },
                                {
                                    "0": "31",
                                    "1": "Customer YJCBX",
                                    "2": "11049",
                                    "3": "3",
                                    "4": "2016-04-24",
                                    "5": "2016-05-22"
                                },
                                {
                                    "0": "31",
                                    "1": "Customer YJCBX",
                                    "2": "10959",
                                    "3": "6",
                                    "4": "2016-03-18",
                                    "5": "2016-04-29"
                                },
                                {
                                    "0": "31",
                                    "1": "Customer YJCBX",
                                    "2": "10790",
                                    "3": "6",
                                    "4": "2015-12-22",
                                    "5": "2016-01-19"
                                },
                                {
                                    "0": "32",
                                    "1": "Customer YSIQX",
                                    "2": "11061",
                                    "3": "4",
                                    "4": "2016-04-30",
                                    "5": "2016-06-11"
                                },
                                {
                                    "0": "32",
                                    "1": "Customer YSIQX",
                                    "2": "11040",
                                    "3": "4",
                                    "4": "2016-04-22",
                                    "5": "2016-05-20"
                                },
                                {
                                    "0": "32",
                                    "1": "Customer YSIQX",
                                    "2": "11006",
                                    "3": "3",
                                    "4": "2016-04-07",
                                    "5": "2016-05-05"
                                },
                                {
                                    "0": "33",
                                    "1": "Customer FVXPQ",
                                    "2": "10785",
                                    "3": "1",
                                    "4": "2015-12-18",
                                    "5": "2016-01-15"
                                },
                                {
                                    "0": "33",
                                    "1": "Customer FVXPQ",
                                    "2": "10268",
                                    "3": "8",
                                    "4": "2014-07-30",
                                    "5": "2014-08-27"
                                },
                                {
                                    "0": "34",
                                    "1": "Customer IBVRG",
                                    "2": "11052",
                                    "3": "3",
                                    "4": "2016-04-27",
                                    "5": "2016-05-25"
                                },
                                {
                                    "0": "34",
                                    "1": "Customer IBVRG",
                                    "2": "11022",
                                    "3": "9",
                                    "4": "2016-04-14",
                                    "5": "2016-05-12"
                                },
                                {
                                    "0": "34",
                                    "1": "Customer IBVRG",
                                    "2": "10981",
                                    "3": "1",
                                    "4": "2016-03-27",
                                    "5": "2016-04-24"
                                },
                                {
                                    "0": "35",
                                    "1": "Customer UMTLM",
                                    "2": "11055",
                                    "3": "7",
                                    "4": "2016-04-28",
                                    "5": "2016-05-26"
                                },
                                {
                                    "0": "35",
                                    "1": "Customer UMTLM",
                                    "2": "10976",
                                    "3": "1",
                                    "4": "2016-03-25",
                                    "5": "2016-05-06"
                                },
                                {
                                    "0": "35",
                                    "1": "Customer UMTLM",
                                    "2": "10960",
                                    "3": "3",
                                    "4": "2016-03-19",
                                    "5": "2016-04-02"
                                },
                                {
                                    "0": "36",
                                    "1": "Customer LVJSO",
                                    "2": "10660",
                                    "3": "8",
                                    "4": "2015-09-08",
                                    "5": "2015-10-06"
                                },
                                {
                                    "0": "36",
                                    "1": "Customer LVJSO",
                                    "2": "10600",
                                    "3": "4",
                                    "4": "2015-07-16",
                                    "5": "2015-08-13"
                                },
                                {
                                    "0": "36",
                                    "1": "Customer LVJSO",
                                    "2": "10415",
                                    "3": "3",
                                    "4": "2015-01-15",
                                    "5": "2015-02-12"
                                },
                                {
                                    "0": "37",
                                    "1": "Customer FRXZL",
                                    "2": "11063",
                                    "3": "3",
                                    "4": "2016-04-30",
                                    "5": "2016-05-28"
                                },
                                {
                                    "0": "37",
                                    "1": "Customer FRXZL",
                                    "2": "10985",
                                    "3": "2",
                                    "4": "2016-03-30",
                                    "5": "2016-04-27"
                                },
                                {
                                    "0": "37",
                                    "1": "Customer FRXZL",
                                    "2": "10912",
                                    "3": "2",
                                    "4": "2016-02-26",
                                    "5": "2016-03-26"
                                },
                                {
                                    "0": "38",
                                    "1": "Customer LJUCA",
                                    "2": "10933",
                                    "3": "6",
                                    "4": "2016-03-06",
                                    "5": "2016-04-03"
                                },
                                {
                                    "0": "38",
                                    "1": "Customer LJUCA",
                                    "2": "10829",
                                    "3": "9",
                                    "4": "2016-01-13",
                                    "5": "2016-02-10"
                                },
                                {
                                    "0": "38",
                                    "1": "Customer LJUCA",
                                    "2": "10798",
                                    "3": "2",
                                    "4": "2015-12-26",
                                    "5": "2016-01-23"
                                },
                                {
                                    "0": "39",
                                    "1": "Customer GLLAG",
                                    "2": "11028",
                                    "3": "2",
                                    "4": "2016-04-16",
                                    "5": "2016-05-14"
                                },
                                {
                                    "0": "39",
                                    "1": "Customer GLLAG",
                                    "2": "10893",
                                    "3": "9",
                                    "4": "2016-02-18",
                                    "5": "2016-03-18"
                                },
                                {
                                    "0": "39",
                                    "1": "Customer GLLAG",
                                    "2": "10849",
                                    "3": "9",
                                    "4": "2016-01-23",
                                    "5": "2016-02-20"
                                },
                                {
                                    "0": "40",
                                    "1": "Customer EFFTC",
                                    "2": "10973",
                                    "3": "6",
                                    "4": "2016-03-24",
                                    "5": "2016-04-21"
                                },
                                {
                                    "0": "40",
                                    "1": "Customer EFFTC",
                                    "2": "10972",
                                    "3": "4",
                                    "4": "2016-03-24",
                                    "5": "2016-04-21"
                                },
                                {
                                    "0": "40",
                                    "1": "Customer EFFTC",
                                    "2": "10927",
                                    "3": "4",
                                    "4": "2016-03-05",
                                    "5": "2016-04-02"
                                },
                                {
                                    "0": "41",
                                    "1": "Customer XIIWM",
                                    "2": "11051",
                                    "3": "7",
                                    "4": "2016-04-27",
                                    "5": "2016-05-25"
                                },
                                {
                                    "0": "41",
                                    "1": "Customer XIIWM",
                                    "2": "10923",
                                    "3": "7",
                                    "4": "2016-03-03",
                                    "5": "2016-04-14"
                                },
                                {
                                    "0": "41",
                                    "1": "Customer XIIWM",
                                    "2": "10832",
                                    "3": "2",
                                    "4": "2016-01-14",
                                    "5": "2016-02-11"
                                },
                                {
                                    "0": "42",
                                    "1": "Customer IAIJK",
                                    "2": "10810",
                                    "3": "2",
                                    "4": "2016-01-01",
                                    "5": "2016-01-29"
                                },
                                {
                                    "0": "42",
                                    "1": "Customer IAIJK",
                                    "2": "10620",
                                    "3": "2",
                                    "4": "2015-08-05",
                                    "5": "2015-09-02"
                                },
                                {
                                    "0": "42",
                                    "1": "Customer IAIJK",
                                    "2": "10495",
                                    "3": "3",
                                    "4": "2015-04-03",
                                    "5": "2015-05-01"
                                },
                                {
                                    "0": "43",
                                    "1": "Customer UISOJ",
                                    "2": "10545",
                                    "3": "8",
                                    "4": "2015-05-22",
                                    "5": "2015-06-19"
                                },
                                {
                                    "0": "43",
                                    "1": "Customer UISOJ",
                                    "2": "10482",
                                    "3": "1",
                                    "4": "2015-03-21",
                                    "5": "2015-04-18"
                                },
                                {
                                    "0": "44",
                                    "1": "Customer OXFRU",
                                    "2": "11070",
                                    "3": "2",
                                    "4": "2016-05-05",
                                    "5": "2016-06-02"
                                },
                                {
                                    "0": "44",
                                    "1": "Customer OXFRU",
                                    "2": "10934",
                                    "3": "3",
                                    "4": "2016-03-09",
                                    "5": "2016-04-06"
                                },
                                {
                                    "0": "44",
                                    "1": "Customer OXFRU",
                                    "2": "10891",
                                    "3": "7",
                                    "4": "2016-02-17",
                                    "5": "2016-03-17"
                                },
                                {
                                    "0": "45",
                                    "1": "Customer QXPPT",
                                    "2": "10884",
                                    "3": "4",
                                    "4": "2016-02-12",
                                    "5": "2016-03-12"
                                },
                                {
                                    "0": "45",
                                    "1": "Customer QXPPT",
                                    "2": "10735",
                                    "3": "6",
                                    "4": "2015-11-10",
                                    "5": "2015-12-08"
                                },
                                {
                                    "0": "45",
                                    "1": "Customer QXPPT",
                                    "2": "10719",
                                    "3": "8",
                                    "4": "2015-10-27",
                                    "5": "2015-11-24"
                                },
                                {
                                    "0": "46",
                                    "1": "Customer XPNIK",
                                    "2": "11071",
                                    "3": "1",
                                    "4": "2016-05-05",
                                    "5": "2016-06-02"
                                },
                                {
                                    "0": "46",
                                    "1": "Customer XPNIK",
                                    "2": "11065",
                                    "3": "8",
                                    "4": "2016-05-01",
                                    "5": "2016-05-29"
                                },
                                {
                                    "0": "46",
                                    "1": "Customer XPNIK",
                                    "2": "10997",
                                    "3": "8",
                                    "4": "2016-04-03",
                                    "5": "2016-05-15"
                                },
                                {
                                    "0": "47",
                                    "1": "Customer PSQUZ",
                                    "2": "11039",
                                    "3": "1",
                                    "4": "2016-04-21",
                                    "5": "2016-05-19"
                                },
                                {
                                    "0": "47",
                                    "1": "Customer PSQUZ",
                                    "2": "11014",
                                    "3": "2",
                                    "4": "2016-04-10",
                                    "5": "2016-05-08"
                                },
                                {
                                    "0": "47",
                                    "1": "Customer PSQUZ",
                                    "2": "10954",
                                    "3": "5",
                                    "4": "2016-03-17",
                                    "5": "2016-04-28"
                                },
                                {
                                    "0": "48",
                                    "1": "Customer DVFMB",
                                    "2": "11018",
                                    "3": "4",
                                    "4": "2016-04-13",
                                    "5": "2016-05-11"
                                },
                                {
                                    "0": "48",
                                    "1": "Customer DVFMB",
                                    "2": "10883",
                                    "3": "8",
                                    "4": "2016-02-12",
                                    "5": "2016-03-12"
                                },
                                {
                                    "0": "48",
                                    "1": "Customer DVFMB",
                                    "2": "10867",
                                    "3": "6",
                                    "4": "2016-02-03",
                                    "5": "2016-03-17"
                                },
                                {
                                    "0": "49",
                                    "1": "Customer CQRAA",
                                    "2": "10950",
                                    "3": "1",
                                    "4": "2016-03-16",
                                    "5": "2016-04-13"
                                },
                                {
                                    "0": "49",
                                    "1": "Customer CQRAA",
                                    "2": "10939",
                                    "3": "2",
                                    "4": "2016-03-10",
                                    "5": "2016-04-07"
                                },
                                {
                                    "0": "49",
                                    "1": "Customer CQRAA",
                                    "2": "10818",
                                    "3": "7",
                                    "4": "2016-01-07",
                                    "5": "2016-02-04"
                                },
                                {
                                    "0": "50",
                                    "1": "Customer JYPSC",
                                    "2": "11004",
                                    "3": "3",
                                    "4": "2016-04-07",
                                    "5": "2016-05-05"
                                },
                                {
                                    "0": "50",
                                    "1": "Customer JYPSC",
                                    "2": "10978",
                                    "3": "9",
                                    "4": "2016-03-26",
                                    "5": "2016-04-23"
                                },
                                {
                                    "0": "50",
                                    "1": "Customer JYPSC",
                                    "2": "10896",
                                    "3": "7",
                                    "4": "2016-02-19",
                                    "5": "2016-03-19"
                                },
                                {
                                    "0": "51",
                                    "1": "Customer PVDZC",
                                    "2": "10724",
                                    "3": "8",
                                    "4": "2015-10-30",
                                    "5": "2015-12-11"
                                },
                                {
                                    "0": "51",
                                    "1": "Customer PVDZC",
                                    "2": "10619",
                                    "3": "3",
                                    "4": "2015-08-04",
                                    "5": "2015-09-01"
                                },
                                {
                                    "0": "51",
                                    "1": "Customer PVDZC",
                                    "2": "10618",
                                    "3": "1",
                                    "4": "2015-08-01",
                                    "5": "2015-09-12"
                                },
                                {
                                    "0": "52",
                                    "1": "Customer PZNLA",
                                    "2": "10945",
                                    "3": "4",
                                    "4": "2016-03-12",
                                    "5": "2016-04-09"
                                },
                                {
                                    "0": "52",
                                    "1": "Customer PZNLA",
                                    "2": "10779",
                                    "3": "3",
                                    "4": "2015-12-16",
                                    "5": "2016-01-13"
                                },
                                {
                                    "0": "52",
                                    "1": "Customer PZNLA",
                                    "2": "10699",
                                    "3": "3",
                                    "4": "2015-10-09",
                                    "5": "2015-11-06"
                                },
                                {
                                    "0": "53",
                                    "1": "Customer GCJSG",
                                    "2": "11057",
                                    "3": "3",
                                    "4": "2016-04-29",
                                    "5": "2016-05-27"
                                },
                                {
                                    "0": "53",
                                    "1": "Customer GCJSG",
                                    "2": "10752",
                                    "3": "2",
                                    "4": "2015-11-24",
                                    "5": "2015-12-22"
                                },
                                {
                                    "0": "53",
                                    "1": "Customer GCJSG",
                                    "2": "10517",
                                    "3": "3",
                                    "4": "2015-04-24",
                                    "5": "2015-05-22"
                                },
                                {
                                    "0": "54",
                                    "1": "Customer TDKEG",
                                    "2": "10986",
                                    "3": "8",
                                    "4": "2016-03-30",
                                    "5": "2016-04-27"
                                },
                                {
                                    "0": "54",
                                    "1": "Customer TDKEG",
                                    "2": "10958",
                                    "3": "7",
                                    "4": "2016-03-18",
                                    "5": "2016-04-15"
                                },
                                {
                                    "0": "54",
                                    "1": "Customer TDKEG",
                                    "2": "10898",
                                    "3": "4",
                                    "4": "2016-02-20",
                                    "5": "2016-03-20"
                                },
                                {
                                    "0": "55",
                                    "1": "Customer KZQZT",
                                    "2": "11034",
                                    "3": "8",
                                    "4": "2016-04-20",
                                    "5": "2016-06-01"
                                },
                                {
                                    "0": "55",
                                    "1": "Customer KZQZT",
                                    "2": "10965",
                                    "3": "6",
                                    "4": "2016-03-20",
                                    "5": "2016-04-17"
                                },
                                {
                                    "0": "55",
                                    "1": "Customer KZQZT",
                                    "2": "10855",
                                    "3": "3",
                                    "4": "2016-01-27",
                                    "5": "2016-02-24"
                                },
                                {
                                    "0": "56",
                                    "1": "Customer QNIVZ",
                                    "2": "11020",
                                    "3": "2",
                                    "4": "2016-04-14",
                                    "5": "2016-05-12"
                                },
                                {
                                    "0": "56",
                                    "1": "Customer QNIVZ",
                                    "2": "10999",
                                    "3": "6",
                                    "4": "2016-04-03",
                                    "5": "2016-05-01"
                                },
                                {
                                    "0": "56",
                                    "1": "Customer QNIVZ",
                                    "2": "10833",
                                    "3": "6",
                                    "4": "2016-01-15",
                                    "5": "2016-02-12"
                                },
                                {
                                    "0": "58",
                                    "1": "Customer AHXHT",
                                    "2": "11073",
                                    "3": "2",
                                    "4": "2016-05-05",
                                    "5": "2016-06-02"
                                },
                                {
                                    "0": "58",
                                    "1": "Customer AHXHT",
                                    "2": "10995",
                                    "3": "1",
                                    "4": "2016-04-02",
                                    "5": "2016-04-30"
                                },
                                {
                                    "0": "58",
                                    "1": "Customer AHXHT",
                                    "2": "10502",
                                    "3": "2",
                                    "4": "2015-04-10",
                                    "5": "2015-05-08"
                                },
                                {
                                    "0": "59",
                                    "1": "Customer LOLJO",
                                    "2": "11053",
                                    "3": "2",
                                    "4": "2016-04-27",
                                    "5": "2016-05-25"
                                },
                                {
                                    "0": "59",
                                    "1": "Customer LOLJO",
                                    "2": "10844",
                                    "3": "8",
                                    "4": "2016-01-21",
                                    "5": "2016-02-18"
                                },
                                {
                                    "0": "59",
                                    "1": "Customer LOLJO",
                                    "2": "10747",
                                    "3": "6",
                                    "4": "2015-11-19",
                                    "5": "2015-12-17"
                                },
                                {
                                    "0": "60",
                                    "1": "Customer QZURI",
                                    "2": "11007",
                                    "3": "8",
                                    "4": "2016-04-08",
                                    "5": "2016-05-06"
                                },
                                {
                                    "0": "60",
                                    "1": "Customer QZURI",
                                    "2": "10477",
                                    "3": "5",
                                    "4": "2015-03-17",
                                    "5": "2015-04-14"
                                },
                                {
                                    "0": "60",
                                    "1": "Customer QZURI",
                                    "2": "10433",
                                    "3": "3",
                                    "4": "2015-02-03",
                                    "5": "2015-03-03"
                                },
                                {
                                    "0": "61",
                                    "1": "Customer WULWD",
                                    "2": "10989",
                                    "3": "2",
                                    "4": "2016-03-31",
                                    "5": "2016-04-28"
                                },
                                {
                                    "0": "61",
                                    "1": "Customer WULWD",
                                    "2": "10794",
                                    "3": "6",
                                    "4": "2015-12-24",
                                    "5": "2016-01-21"
                                },
                                {
                                    "0": "61",
                                    "1": "Customer WULWD",
                                    "2": "10720",
                                    "3": "8",
                                    "4": "2015-10-28",
                                    "5": "2015-11-11"
                                },
                                {
                                    "0": "62",
                                    "1": "Customer WFIZJ",
                                    "2": "11068",
                                    "3": "8",
                                    "4": "2016-05-04",
                                    "5": "2016-06-01"
                                },
                                {
                                    "0": "62",
                                    "1": "Customer WFIZJ",
                                    "2": "10961",
                                    "3": "8",
                                    "4": "2016-03-19",
                                    "5": "2016-04-16"
                                },
                                {
                                    "0": "62",
                                    "1": "Customer WFIZJ",
                                    "2": "10914",
                                    "3": "6",
                                    "4": "2016-02-27",
                                    "5": "2016-03-27"
                                },
                                {
                                    "0": "63",
                                    "1": "Customer IRRVL",
                                    "2": "11021",
                                    "3": "3",
                                    "4": "2016-04-14",
                                    "5": "2016-05-12"
                                },
                                {
                                    "0": "63",
                                    "1": "Customer IRRVL",
                                    "2": "10996",
                                    "3": "4",
                                    "4": "2016-04-02",
                                    "5": "2016-04-30"
                                },
                                {
                                    "0": "63",
                                    "1": "Customer IRRVL",
                                    "2": "10991",
                                    "3": "1",
                                    "4": "2016-04-01",
                                    "5": "2016-04-29"
                                },
                                {
                                    "0": "64",
                                    "1": "Customer LWGMD",
                                    "2": "11019",
                                    "3": "6",
                                    "4": "2016-04-13",
                                    "5": "2016-05-11"
                                },
                                {
                                    "0": "64",
                                    "1": "Customer LWGMD",
                                    "2": "10916",
                                    "3": "1",
                                    "4": "2016-02-27",
                                    "5": "2016-03-27"
                                },
                                {
                                    "0": "64",
                                    "1": "Customer LWGMD",
                                    "2": "10828",
                                    "3": "9",
                                    "4": "2016-01-13",
                                    "5": "2016-01-27"
                                },
                                {
                                    "0": "65",
                                    "1": "Customer NYUHS",
                                    "2": "11077",
                                    "3": "1",
                                    "4": "2016-05-06",
                                    "5": "2016-06-03"
                                },
                                {
                                    "0": "65",
                                    "1": "Customer NYUHS",
                                    "2": "11000",
                                    "3": "2",
                                    "4": "2016-04-06",
                                    "5": "2016-05-04"
                                },
                                {
                                    "0": "65",
                                    "1": "Customer NYUHS",
                                    "2": "10988",
                                    "3": "3",
                                    "4": "2016-03-31",
                                    "5": "2016-04-28"
                                },
                                {
                                    "0": "66",
                                    "1": "Customer LHANT",
                                    "2": "11062",
                                    "3": "4",
                                    "4": "2016-04-30",
                                    "5": "2016-05-28"
                                },
                                {
                                    "0": "66",
                                    "1": "Customer LHANT",
                                    "2": "11010",
                                    "3": "2",
                                    "4": "2016-04-09",
                                    "5": "2016-05-07"
                                },
                                {
                                    "0": "66",
                                    "1": "Customer LHANT",
                                    "2": "10942",
                                    "3": "9",
                                    "4": "2016-03-11",
                                    "5": "2016-04-08"
                                },
                                {
                                    "0": "67",
                                    "1": "Customer QVEPD",
                                    "2": "11059",
                                    "3": "2",
                                    "4": "2016-04-29",
                                    "5": "2016-06-10"
                                },
                                {
                                    "0": "67",
                                    "1": "Customer QVEPD",
                                    "2": "10877",
                                    "3": "1",
                                    "4": "2016-02-09",
                                    "5": "2016-03-09"
                                },
                                {
                                    "0": "67",
                                    "1": "Customer QVEPD",
                                    "2": "10851",
                                    "3": "5",
                                    "4": "2016-01-26",
                                    "5": "2016-02-23"
                                },
                                {
                                    "0": "68",
                                    "1": "Customer CCKOT",
                                    "2": "11075",
                                    "3": "8",
                                    "4": "2016-05-06",
                                    "5": "2016-06-03"
                                },
                                {
                                    "0": "68",
                                    "1": "Customer CCKOT",
                                    "2": "11033",
                                    "3": "7",
                                    "4": "2016-04-17",
                                    "5": "2016-05-15"
                                },
                                {
                                    "0": "68",
                                    "1": "Customer CCKOT",
                                    "2": "10951",
                                    "3": "9",
                                    "4": "2016-03-16",
                                    "5": "2016-04-27"
                                },
                                {
                                    "0": "69",
                                    "1": "Customer SIUIH",
                                    "2": "11013",
                                    "3": "2",
                                    "4": "2016-04-09",
                                    "5": "2016-05-07"
                                },
                                {
                                    "0": "69",
                                    "1": "Customer SIUIH",
                                    "2": "10917",
                                    "3": "4",
                                    "4": "2016-03-02",
                                    "5": "2016-03-30"
                                },
                                {
                                    "0": "69",
                                    "1": "Customer SIUIH",
                                    "2": "10306",
                                    "3": "1",
                                    "4": "2014-09-16",
                                    "5": "2014-10-14"
                                },
                                {
                                    "0": "70",
                                    "1": "Customer TMXGN",
                                    "2": "11015",
                                    "3": "2",
                                    "4": "2016-04-10",
                                    "5": "2016-04-24"
                                },
                                {
                                    "0": "70",
                                    "1": "Customer TMXGN",
                                    "2": "10909",
                                    "3": "1",
                                    "4": "2016-02-26",
                                    "5": "2016-03-26"
                                },
                                {
                                    "0": "70",
                                    "1": "Customer TMXGN",
                                    "2": "10831",
                                    "3": "3",
                                    "4": "2016-01-14",
                                    "5": "2016-02-11"
                                },
                                {
                                    "0": "71",
                                    "1": "Customer LCOUJ",
                                    "2": "11064",
                                    "3": "1",
                                    "4": "2016-05-01",
                                    "5": "2016-05-29"
                                },
                                {
                                    "0": "71",
                                    "1": "Customer LCOUJ",
                                    "2": "11031",
                                    "3": "6",
                                    "4": "2016-04-17",
                                    "5": "2016-05-15"
                                },
                                {
                                    "0": "71",
                                    "1": "Customer LCOUJ",
                                    "2": "11030",
                                    "3": "7",
                                    "4": "2016-04-17",
                                    "5": "2016-05-15"
                                },
                                {
                                    "0": "72",
                                    "1": "Customer AHPOP",
                                    "2": "10869",
                                    "3": "5",
                                    "4": "2016-02-04",
                                    "5": "2016-03-04"
                                },
                                {
                                    "0": "72",
                                    "1": "Customer AHPOP",
                                    "2": "10804",
                                    "3": "6",
                                    "4": "2015-12-30",
                                    "5": "2016-01-27"
                                },
                                {
                                    "0": "72",
                                    "1": "Customer AHPOP",
                                    "2": "10800",
                                    "3": "1",
                                    "4": "2015-12-26",
                                    "5": "2016-01-23"
                                },
                                {
                                    "0": "73",
                                    "1": "Customer JMIKW",
                                    "2": "11074",
                                    "3": "7",
                                    "4": "2016-05-06",
                                    "5": "2016-06-03"
                                },
                                {
                                    "0": "73",
                                    "1": "Customer JMIKW",
                                    "2": "10802",
                                    "3": "4",
                                    "4": "2015-12-29",
                                    "5": "2016-01-26"
                                },
                                {
                                    "0": "73",
                                    "1": "Customer JMIKW",
                                    "2": "10669",
                                    "3": "2",
                                    "4": "2015-09-15",
                                    "5": "2015-10-13"
                                },
                                {
                                    "0": "74",
                                    "1": "Customer YSHXL",
                                    "2": "11043",
                                    "3": "5",
                                    "4": "2016-04-22",
                                    "5": "2016-05-20"
                                },
                                {
                                    "0": "74",
                                    "1": "Customer YSHXL",
                                    "2": "10964",
                                    "3": "3",
                                    "4": "2016-03-20",
                                    "5": "2016-04-17"
                                },
                                {
                                    "0": "74",
                                    "1": "Customer YSHXL",
                                    "2": "10907",
                                    "3": "6",
                                    "4": "2016-02-25",
                                    "5": "2016-03-25"
                                },
                                {
                                    "0": "75",
                                    "1": "Customer XOJYP",
                                    "2": "10974",
                                    "3": "3",
                                    "4": "2016-03-25",
                                    "5": "2016-04-08"
                                },
                                {
                                    "0": "75",
                                    "1": "Customer XOJYP",
                                    "2": "10821",
                                    "3": "1",
                                    "4": "2016-01-08",
                                    "5": "2016-02-05"
                                },
                                {
                                    "0": "75",
                                    "1": "Customer XOJYP",
                                    "2": "10756",
                                    "3": "8",
                                    "4": "2015-11-27",
                                    "5": "2015-12-25"
                                },
                                {
                                    "0": "76",
                                    "1": "Customer SFOGW",
                                    "2": "11038",
                                    "3": "1",
                                    "4": "2016-04-21",
                                    "5": "2016-05-19"
                                },
                                {
                                    "0": "76",
                                    "1": "Customer SFOGW",
                                    "2": "11035",
                                    "3": "2",
                                    "4": "2016-04-20",
                                    "5": "2016-05-18"
                                },
                                {
                                    "0": "76",
                                    "1": "Customer SFOGW",
                                    "2": "10930",
                                    "3": "4",
                                    "4": "2016-03-06",
                                    "5": "2016-04-17"
                                },
                                {
                                    "0": "77",
                                    "1": "Customer LCYBZ",
                                    "2": "10992",
                                    "3": "1",
                                    "4": "2016-04-01",
                                    "5": "2016-04-29"
                                },
                                {
                                    "0": "77",
                                    "1": "Customer LCYBZ",
                                    "2": "10805",
                                    "3": "2",
                                    "4": "2015-12-30",
                                    "5": "2016-01-27"
                                },
                                {
                                    "0": "77",
                                    "1": "Customer LCYBZ",
                                    "2": "10708",
                                    "3": "6",
                                    "4": "2015-10-17",
                                    "5": "2015-11-28"
                                },
                                {
                                    "0": "78",
                                    "1": "Customer NLTYP",
                                    "2": "11003",
                                    "3": "3",
                                    "4": "2016-04-06",
                                    "5": "2016-05-04"
                                },
                                {
                                    "0": "78",
                                    "1": "Customer NLTYP",
                                    "2": "10775",
                                    "3": "7",
                                    "4": "2015-12-12",
                                    "5": "2016-01-09"
                                },
                                {
                                    "0": "78",
                                    "1": "Customer NLTYP",
                                    "2": "10624",
                                    "3": "4",
                                    "4": "2015-08-07",
                                    "5": "2015-09-04"
                                },
                                {
                                    "0": "79",
                                    "1": "Customer FAPSM",
                                    "2": "10967",
                                    "3": "2",
                                    "4": "2016-03-23",
                                    "5": "2016-04-20"
                                },
                                {
                                    "0": "79",
                                    "1": "Customer FAPSM",
                                    "2": "10608",
                                    "3": "4",
                                    "4": "2015-07-23",
                                    "5": "2015-08-20"
                                },
                                {
                                    "0": "79",
                                    "1": "Customer FAPSM",
                                    "2": "10548",
                                    "3": "3",
                                    "4": "2015-05-26",
                                    "5": "2015-06-23"
                                },
                                {
                                    "0": "80",
                                    "1": "Customer VONTK",
                                    "2": "11069",
                                    "3": "1",
                                    "4": "2016-05-04",
                                    "5": "2016-06-01"
                                },
                                {
                                    "0": "80",
                                    "1": "Customer VONTK",
                                    "2": "10915",
                                    "3": "2",
                                    "4": "2016-02-27",
                                    "5": "2016-03-27"
                                },
                                {
                                    "0": "80",
                                    "1": "Customer VONTK",
                                    "2": "10842",
                                    "3": "1",
                                    "4": "2016-01-20",
                                    "5": "2016-02-17"
                                },
                                {
                                    "0": "81",
                                    "1": "Customer YQQWW",
                                    "2": "10839",
                                    "3": "3",
                                    "4": "2016-01-19",
                                    "5": "2016-02-16"
                                },
                                {
                                    "0": "81",
                                    "1": "Customer YQQWW",
                                    "2": "10834",
                                    "3": "1",
                                    "4": "2016-01-15",
                                    "5": "2016-02-12"
                                },
                                {
                                    "0": "81",
                                    "1": "Customer YQQWW",
                                    "2": "10830",
                                    "3": "4",
                                    "4": "2016-01-13",
                                    "5": "2016-02-24"
                                },
                                {
                                    "0": "82",
                                    "1": "Customer EYHKM",
                                    "2": "10822",
                                    "3": "6",
                                    "4": "2016-01-08",
                                    "5": "2016-02-05"
                                },
                                {
                                    "0": "82",
                                    "1": "Customer EYHKM",
                                    "2": "10577",
                                    "3": "9",
                                    "4": "2015-06-23",
                                    "5": "2015-08-04"
                                },
                                {
                                    "0": "82",
                                    "1": "Customer EYHKM",
                                    "2": "10574",
                                    "3": "4",
                                    "4": "2015-06-19",
                                    "5": "2015-07-17"
                                },
                                {
                                    "0": "83",
                                    "1": "Customer ZRNDE",
                                    "2": "10994",
                                    "3": "2",
                                    "4": "2016-04-02",
                                    "5": "2016-04-16"
                                },
                                {
                                    "0": "83",
                                    "1": "Customer ZRNDE",
                                    "2": "10946",
                                    "3": "1",
                                    "4": "2016-03-12",
                                    "5": "2016-04-09"
                                },
                                {
                                    "0": "83",
                                    "1": "Customer ZRNDE",
                                    "2": "10921",
                                    "3": "1",
                                    "4": "2016-03-03",
                                    "5": "2016-04-14"
                                },
                                {
                                    "0": "84",
                                    "1": "Customer NRCSK",
                                    "2": "10850",
                                    "3": "1",
                                    "4": "2016-01-23",
                                    "5": "2016-03-06"
                                },
                                {
                                    "0": "84",
                                    "1": "Customer NRCSK",
                                    "2": "10843",
                                    "3": "4",
                                    "4": "2016-01-21",
                                    "5": "2016-02-18"
                                },
                                {
                                    "0": "84",
                                    "1": "Customer NRCSK",
                                    "2": "10814",
                                    "3": "3",
                                    "4": "2016-01-05",
                                    "5": "2016-02-02"
                                },
                                {
                                    "0": "85",
                                    "1": "Customer ENQZT",
                                    "2": "10739",
                                    "3": "3",
                                    "4": "2015-11-12",
                                    "5": "2015-12-10"
                                },
                                {
                                    "0": "85",
                                    "1": "Customer ENQZT",
                                    "2": "10737",
                                    "3": "2",
                                    "4": "2015-11-11",
                                    "5": "2015-12-09"
                                },
                                {
                                    "0": "85",
                                    "1": "Customer ENQZT",
                                    "2": "10295",
                                    "3": "2",
                                    "4": "2014-09-02",
                                    "5": "2014-09-30"
                                },
                                {
                                    "0": "86",
                                    "1": "Customer SNXOJ",
                                    "2": "11046",
                                    "3": "8",
                                    "4": "2016-04-23",
                                    "5": "2016-05-21"
                                },
                                {
                                    "0": "86",
                                    "1": "Customer SNXOJ",
                                    "2": "10668",
                                    "3": "1",
                                    "4": "2015-09-15",
                                    "5": "2015-10-13"
                                },
                                {
                                    "0": "86",
                                    "1": "Customer SNXOJ",
                                    "2": "10651",
                                    "3": "8",
                                    "4": "2015-09-01",
                                    "5": "2015-09-29"
                                },
                                {
                                    "0": "87",
                                    "1": "Customer ZHYOS",
                                    "2": "11025",
                                    "3": "6",
                                    "4": "2016-04-15",
                                    "5": "2016-05-13"
                                },
                                {
                                    "0": "87",
                                    "1": "Customer ZHYOS",
                                    "2": "10781",
                                    "3": "2",
                                    "4": "2015-12-17",
                                    "5": "2016-01-14"
                                },
                                {
                                    "0": "87",
                                    "1": "Customer ZHYOS",
                                    "2": "10750",
                                    "3": "9",
                                    "4": "2015-11-21",
                                    "5": "2015-12-19"
                                },
                                {
                                    "0": "88",
                                    "1": "Customer SRQVM",
                                    "2": "10935",
                                    "3": "4",
                                    "4": "2016-03-09",
                                    "5": "2016-04-06"
                                },
                                {
                                    "0": "88",
                                    "1": "Customer SRQVM",
                                    "2": "10905",
                                    "3": "9",
                                    "4": "2016-02-24",
                                    "5": "2016-03-24"
                                },
                                {
                                    "0": "88",
                                    "1": "Customer SRQVM",
                                    "2": "10900",
                                    "3": "1",
                                    "4": "2016-02-20",
                                    "5": "2016-03-20"
                                },
                                {
                                    "0": "89",
                                    "1": "Customer YBQTI",
                                    "2": "11066",
                                    "3": "7",
                                    "4": "2016-05-01",
                                    "5": "2016-05-29"
                                },
                                {
                                    "0": "89",
                                    "1": "Customer YBQTI",
                                    "2": "11032",
                                    "3": "2",
                                    "4": "2016-04-17",
                                    "5": "2016-05-15"
                                },
                                {
                                    "0": "89",
                                    "1": "Customer YBQTI",
                                    "2": "10904",
                                    "3": "3",
                                    "4": "2016-02-24",
                                    "5": "2016-03-24"
                                },
                                {
                                    "0": "90",
                                    "1": "Customer XBBVR",
                                    "2": "11005",
                                    "3": "2",
                                    "4": "2016-04-07",
                                    "5": "2016-05-05"
                                },
                                {
                                    "0": "90",
                                    "1": "Customer XBBVR",
                                    "2": "10910",
                                    "3": "1",
                                    "4": "2016-02-26",
                                    "5": "2016-03-26"
                                },
                                {
                                    "0": "90",
                                    "1": "Customer XBBVR",
                                    "2": "10879",
                                    "3": "3",
                                    "4": "2016-02-10",
                                    "5": "2016-03-10"
                                },
                                {
                                    "0": "91",
                                    "1": "Customer CCFIZ",
                                    "2": "11044",
                                    "3": "4",
                                    "4": "2016-04-23",
                                    "5": "2016-05-21"
                                },
                                {
                                    "0": "91",
                                    "1": "Customer CCFIZ",
                                    "2": "10998",
                                    "3": "8",
                                    "4": "2016-04-03",
                                    "5": "2016-04-17"
                                },
                                {
                                    "0": "91",
                                    "1": "Customer CCFIZ",
                                    "2": "10906",
                                    "3": "4",
                                    "4": "2016-02-25",
                                    "5": "2016-03-11"
                                }
                            ]
                        },
                        "text/html": [
                            "<table>",
                            "<tr><th>CustomerId</th><th>CustomerCompanyname</th><th>orderid</th><th>EmployeeId</th><th>orderdate</th><th>requireddate</th></tr>",
                            "<tr><td>1</td><td>Customer NRZBB</td><td>11011</td><td>3</td><td>2016-04-09</td><td>2016-05-07</td></tr>",
                            "<tr><td>1</td><td>Customer NRZBB</td><td>10952</td><td>1</td><td>2016-03-16</td><td>2016-04-27</td></tr>",
                            "<tr><td>1</td><td>Customer NRZBB</td><td>10835</td><td>1</td><td>2016-01-15</td><td>2016-02-12</td></tr>",
                            "<tr><td>2</td><td>Customer MLTDN</td><td>10926</td><td>4</td><td>2016-03-04</td><td>2016-04-01</td></tr>",
                            "<tr><td>2</td><td>Customer MLTDN</td><td>10759</td><td>3</td><td>2015-11-28</td><td>2015-12-26</td></tr>",
                            "<tr><td>2</td><td>Customer MLTDN</td><td>10625</td><td>3</td><td>2015-08-08</td><td>2015-09-05</td></tr>",
                            "<tr><td>3</td><td>Customer KBUDE</td><td>10856</td><td>3</td><td>2016-01-28</td><td>2016-02-25</td></tr>",
                            "<tr><td>3</td><td>Customer KBUDE</td><td>10682</td><td>3</td><td>2015-09-25</td><td>2015-10-23</td></tr>",
                            "<tr><td>3</td><td>Customer KBUDE</td><td>10677</td><td>1</td><td>2015-09-22</td><td>2015-10-20</td></tr>",
                            "<tr><td>4</td><td>Customer HFBZG</td><td>11016</td><td>9</td><td>2016-04-10</td><td>2016-05-08</td></tr>",
                            "<tr><td>4</td><td>Customer HFBZG</td><td>10953</td><td>9</td><td>2016-03-16</td><td>2016-03-30</td></tr>",
                            "<tr><td>4</td><td>Customer HFBZG</td><td>10920</td><td>4</td><td>2016-03-03</td><td>2016-03-31</td></tr>",
                            "<tr><td>5</td><td>Customer HGVLZ</td><td>10924</td><td>3</td><td>2016-03-04</td><td>2016-04-01</td></tr>",
                            "<tr><td>5</td><td>Customer HGVLZ</td><td>10875</td><td>4</td><td>2016-02-06</td><td>2016-03-06</td></tr>",
                            "<tr><td>5</td><td>Customer HGVLZ</td><td>10866</td><td>5</td><td>2016-02-03</td><td>2016-03-03</td></tr>",
                            "<tr><td>6</td><td>Customer XHXJV</td><td>11058</td><td>9</td><td>2016-04-29</td><td>2016-05-27</td></tr>",
                            "<tr><td>6</td><td>Customer XHXJV</td><td>10956</td><td>6</td><td>2016-03-17</td><td>2016-04-28</td></tr>",
                            "<tr><td>6</td><td>Customer XHXJV</td><td>10853</td><td>9</td><td>2016-01-27</td><td>2016-02-24</td></tr>",
                            "<tr><td>7</td><td>Customer QXVLA</td><td>10826</td><td>6</td><td>2016-01-12</td><td>2016-02-09</td></tr>",
                            "<tr><td>7</td><td>Customer QXVLA</td><td>10679</td><td>8</td><td>2015-09-23</td><td>2015-10-21</td></tr>",
                            "<tr><td>7</td><td>Customer QXVLA</td><td>10628</td><td>4</td><td>2015-08-12</td><td>2015-09-09</td></tr>",
                            "<tr><td>8</td><td>Customer QUHWH</td><td>10970</td><td>9</td><td>2016-03-24</td><td>2016-04-07</td></tr>",
                            "<tr><td>8</td><td>Customer QUHWH</td><td>10801</td><td>4</td><td>2015-12-29</td><td>2016-01-26</td></tr>",
                            "<tr><td>8</td><td>Customer QUHWH</td><td>10326</td><td>4</td><td>2014-10-10</td><td>2014-11-07</td></tr>",
                            "<tr><td>9</td><td>Customer RTXGC</td><td>11076</td><td>4</td><td>2016-05-06</td><td>2016-06-03</td></tr>",
                            "<tr><td>9</td><td>Customer RTXGC</td><td>10940</td><td>8</td><td>2016-03-11</td><td>2016-04-08</td></tr>",
                            "<tr><td>9</td><td>Customer RTXGC</td><td>10932</td><td>8</td><td>2016-03-06</td><td>2016-04-03</td></tr>",
                            "<tr><td>10</td><td>Customer EEALV</td><td>11048</td><td>7</td><td>2016-04-24</td><td>2016-05-22</td></tr>",
                            "<tr><td>10</td><td>Customer EEALV</td><td>11045</td><td>6</td><td>2016-04-23</td><td>2016-05-21</td></tr>",
                            "<tr><td>10</td><td>Customer EEALV</td><td>11027</td><td>1</td><td>2016-04-16</td><td>2016-05-14</td></tr>",
                            "<tr><td>11</td><td>Customer UBHAU</td><td>11023</td><td>1</td><td>2016-04-14</td><td>2016-04-28</td></tr>",
                            "<tr><td>11</td><td>Customer UBHAU</td><td>10947</td><td>3</td><td>2016-03-13</td><td>2016-04-10</td></tr>",
                            "<tr><td>11</td><td>Customer UBHAU</td><td>10943</td><td>4</td><td>2016-03-11</td><td>2016-04-08</td></tr>",
                            "<tr><td>12</td><td>Customer PSNMQ</td><td>11054</td><td>8</td><td>2016-04-28</td><td>2016-05-26</td></tr>",
                            "<tr><td>12</td><td>Customer PSNMQ</td><td>10937</td><td>7</td><td>2016-03-10</td><td>2016-03-24</td></tr>",
                            "<tr><td>12</td><td>Customer PSNMQ</td><td>10881</td><td>4</td><td>2016-02-11</td><td>2016-03-11</td></tr>",
                            "<tr><td>13</td><td>Customer VMLOG</td><td>10259</td><td>4</td><td>2014-07-18</td><td>2014-08-15</td></tr>",
                            "<tr><td>14</td><td>Customer WNMAF</td><td>11041</td><td>3</td><td>2016-04-22</td><td>2016-05-20</td></tr>",
                            "<tr><td>14</td><td>Customer WNMAF</td><td>11029</td><td>4</td><td>2016-04-16</td><td>2016-05-14</td></tr>",
                            "<tr><td>14</td><td>Customer WNMAF</td><td>10966</td><td>4</td><td>2016-03-20</td><td>2016-04-17</td></tr>",
                            "<tr><td>15</td><td>Customer JUWXK</td><td>11042</td><td>2</td><td>2016-04-22</td><td>2016-05-06</td></tr>",
                            "<tr><td>15</td><td>Customer JUWXK</td><td>10969</td><td>1</td><td>2016-03-23</td><td>2016-04-20</td></tr>",
                            "<tr><td>15</td><td>Customer JUWXK</td><td>10494</td><td>4</td><td>2015-04-02</td><td>2015-04-30</td></tr>",
                            "<tr><td>16</td><td>Customer GYBBY</td><td>10848</td><td>7</td><td>2016-01-23</td><td>2016-02-20</td></tr>",
                            "<tr><td>16</td><td>Customer GYBBY</td><td>10462</td><td>2</td><td>2015-03-03</td><td>2015-03-31</td></tr>",
                            "<tr><td>16</td><td>Customer GYBBY</td><td>10435</td><td>8</td><td>2015-02-04</td><td>2015-03-18</td></tr>",
                            "<tr><td>17</td><td>Customer FEVNN</td><td>11067</td><td>1</td><td>2016-05-04</td><td>2016-05-18</td></tr>",
                            "<tr><td>17</td><td>Customer FEVNN</td><td>11036</td><td>8</td><td>2016-04-20</td><td>2016-05-18</td></tr>",
                            "<tr><td>17</td><td>Customer FEVNN</td><td>10825</td><td>1</td><td>2016-01-09</td><td>2016-02-06</td></tr>",
                            "<tr><td>18</td><td>Customer BSVAR</td><td>10890</td><td>7</td><td>2016-02-16</td><td>2016-03-16</td></tr>",
                            "<tr><td>18</td><td>Customer BSVAR</td><td>10683</td><td>2</td><td>2015-09-26</td><td>2015-10-24</td></tr>",
                            "<tr><td>18</td><td>Customer BSVAR</td><td>10609</td><td>7</td><td>2015-07-24</td><td>2015-08-21</td></tr>",
                            "<tr><td>19</td><td>Customer RFNQC</td><td>11056</td><td>8</td><td>2016-04-28</td><td>2016-05-12</td></tr>",
                            "<tr><td>19</td><td>Customer RFNQC</td><td>11047</td><td>7</td><td>2016-04-24</td><td>2016-05-22</td></tr>",
                            "<tr><td>19</td><td>Customer RFNQC</td><td>11024</td><td>4</td><td>2016-04-15</td><td>2016-05-13</td></tr>",
                            "<tr><td>20</td><td>Customer THHDP</td><td>11072</td><td>4</td><td>2016-05-05</td><td>2016-06-02</td></tr>",
                            "<tr><td>20</td><td>Customer THHDP</td><td>11017</td><td>9</td><td>2016-04-13</td><td>2016-05-11</td></tr>",
                            "<tr><td>20</td><td>Customer THHDP</td><td>11008</td><td>7</td><td>2016-04-08</td><td>2016-05-06</td></tr>",
                            "<tr><td>21</td><td>Customer KIDPX</td><td>10725</td><td>4</td><td>2015-10-31</td><td>2015-11-28</td></tr>",
                            "<tr><td>21</td><td>Customer KIDPX</td><td>10650</td><td>5</td><td>2015-08-29</td><td>2015-09-26</td></tr>",
                            "<tr><td>21</td><td>Customer KIDPX</td><td>10581</td><td>3</td><td>2015-06-26</td><td>2015-07-24</td></tr>",
                            "<tr><td>23</td><td>Customer WVFAF</td><td>10789</td><td>1</td><td>2015-12-22</td><td>2016-01-19</td></tr>",
                            "<tr><td>23</td><td>Customer WVFAF</td><td>10763</td><td>3</td><td>2015-12-03</td><td>2015-12-31</td></tr>",
                            "<tr><td>23</td><td>Customer WVFAF</td><td>10634</td><td>4</td><td>2015-08-15</td><td>2015-09-12</td></tr>",
                            "<tr><td>24</td><td>Customer CYZTN</td><td>11050</td><td>8</td><td>2016-04-27</td><td>2016-05-25</td></tr>",
                            "<tr><td>24</td><td>Customer CYZTN</td><td>11001</td><td>2</td><td>2016-04-06</td><td>2016-05-04</td></tr>",
                            "<tr><td>24</td><td>Customer CYZTN</td><td>10993</td><td>7</td><td>2016-04-01</td><td>2016-04-29</td></tr>",
                            "<tr><td>25</td><td>Customer AZJED</td><td>11012</td><td>1</td><td>2016-04-09</td><td>2016-04-23</td></tr>",
                            "<tr><td>25</td><td>Customer AZJED</td><td>10929</td><td>6</td><td>2016-03-05</td><td>2016-04-02</td></tr>",
                            "<tr><td>25</td><td>Customer AZJED</td><td>10859</td><td>1</td><td>2016-01-29</td><td>2016-02-26</td></tr>",
                            "<tr><td>26</td><td>Customer USDBG</td><td>10971</td><td>2</td><td>2016-03-24</td><td>2016-04-21</td></tr>",
                            "<tr><td>26</td><td>Customer USDBG</td><td>10860</td><td>3</td><td>2016-01-29</td><td>2016-02-26</td></tr>",
                            "<tr><td>26</td><td>Customer USDBG</td><td>10671</td><td>1</td><td>2015-09-17</td><td>2015-10-15</td></tr>",
                            "<tr><td>27</td><td>Customer WMFEA</td><td>11060</td><td>2</td><td>2016-04-30</td><td>2016-05-28</td></tr>",
                            "<tr><td>27</td><td>Customer WMFEA</td><td>11026</td><td>4</td><td>2016-04-15</td><td>2016-05-13</td></tr>",
                            "<tr><td>27</td><td>Customer WMFEA</td><td>10807</td><td>4</td><td>2015-12-31</td><td>2016-01-28</td></tr>",
                            "<tr><td>28</td><td>Customer XYUFB</td><td>10963</td><td>9</td><td>2016-03-19</td><td>2016-04-16</td></tr>",
                            "<tr><td>28</td><td>Customer XYUFB</td><td>10664</td><td>1</td><td>2015-09-10</td><td>2015-10-08</td></tr>",
                            "<tr><td>28</td><td>Customer XYUFB</td><td>10604</td><td>1</td><td>2015-07-18</td><td>2015-08-15</td></tr>",
                            "<tr><td>29</td><td>Customer MDLWA</td><td>10928</td><td>1</td><td>2016-03-05</td><td>2016-04-02</td></tr>",
                            "<tr><td>29</td><td>Customer MDLWA</td><td>10887</td><td>8</td><td>2016-02-13</td><td>2016-03-13</td></tr>",
                            "<tr><td>29</td><td>Customer MDLWA</td><td>10568</td><td>3</td><td>2015-06-13</td><td>2015-07-11</td></tr>",
                            "<tr><td>30</td><td>Customer KSLQF</td><td>11037</td><td>7</td><td>2016-04-21</td><td>2016-05-19</td></tr>",
                            "<tr><td>30</td><td>Customer KSLQF</td><td>11009</td><td>2</td><td>2016-04-08</td><td>2016-05-06</td></tr>",
                            "<tr><td>30</td><td>Customer KSLQF</td><td>10948</td><td>3</td><td>2016-03-13</td><td>2016-04-10</td></tr>",
                            "<tr><td>31</td><td>Customer YJCBX</td><td>11049</td><td>3</td><td>2016-04-24</td><td>2016-05-22</td></tr>",
                            "<tr><td>31</td><td>Customer YJCBX</td><td>10959</td><td>6</td><td>2016-03-18</td><td>2016-04-29</td></tr>",
                            "<tr><td>31</td><td>Customer YJCBX</td><td>10790</td><td>6</td><td>2015-12-22</td><td>2016-01-19</td></tr>",
                            "<tr><td>32</td><td>Customer YSIQX</td><td>11061</td><td>4</td><td>2016-04-30</td><td>2016-06-11</td></tr>",
                            "<tr><td>32</td><td>Customer YSIQX</td><td>11040</td><td>4</td><td>2016-04-22</td><td>2016-05-20</td></tr>",
                            "<tr><td>32</td><td>Customer YSIQX</td><td>11006</td><td>3</td><td>2016-04-07</td><td>2016-05-05</td></tr>",
                            "<tr><td>33</td><td>Customer FVXPQ</td><td>10785</td><td>1</td><td>2015-12-18</td><td>2016-01-15</td></tr>",
                            "<tr><td>33</td><td>Customer FVXPQ</td><td>10268</td><td>8</td><td>2014-07-30</td><td>2014-08-27</td></tr>",
                            "<tr><td>34</td><td>Customer IBVRG</td><td>11052</td><td>3</td><td>2016-04-27</td><td>2016-05-25</td></tr>",
                            "<tr><td>34</td><td>Customer IBVRG</td><td>11022</td><td>9</td><td>2016-04-14</td><td>2016-05-12</td></tr>",
                            "<tr><td>34</td><td>Customer IBVRG</td><td>10981</td><td>1</td><td>2016-03-27</td><td>2016-04-24</td></tr>",
                            "<tr><td>35</td><td>Customer UMTLM</td><td>11055</td><td>7</td><td>2016-04-28</td><td>2016-05-26</td></tr>",
                            "<tr><td>35</td><td>Customer UMTLM</td><td>10976</td><td>1</td><td>2016-03-25</td><td>2016-05-06</td></tr>",
                            "<tr><td>35</td><td>Customer UMTLM</td><td>10960</td><td>3</td><td>2016-03-19</td><td>2016-04-02</td></tr>",
                            "<tr><td>36</td><td>Customer LVJSO</td><td>10660</td><td>8</td><td>2015-09-08</td><td>2015-10-06</td></tr>",
                            "<tr><td>36</td><td>Customer LVJSO</td><td>10600</td><td>4</td><td>2015-07-16</td><td>2015-08-13</td></tr>",
                            "<tr><td>36</td><td>Customer LVJSO</td><td>10415</td><td>3</td><td>2015-01-15</td><td>2015-02-12</td></tr>",
                            "<tr><td>37</td><td>Customer FRXZL</td><td>11063</td><td>3</td><td>2016-04-30</td><td>2016-05-28</td></tr>",
                            "<tr><td>37</td><td>Customer FRXZL</td><td>10985</td><td>2</td><td>2016-03-30</td><td>2016-04-27</td></tr>",
                            "<tr><td>37</td><td>Customer FRXZL</td><td>10912</td><td>2</td><td>2016-02-26</td><td>2016-03-26</td></tr>",
                            "<tr><td>38</td><td>Customer LJUCA</td><td>10933</td><td>6</td><td>2016-03-06</td><td>2016-04-03</td></tr>",
                            "<tr><td>38</td><td>Customer LJUCA</td><td>10829</td><td>9</td><td>2016-01-13</td><td>2016-02-10</td></tr>",
                            "<tr><td>38</td><td>Customer LJUCA</td><td>10798</td><td>2</td><td>2015-12-26</td><td>2016-01-23</td></tr>",
                            "<tr><td>39</td><td>Customer GLLAG</td><td>11028</td><td>2</td><td>2016-04-16</td><td>2016-05-14</td></tr>",
                            "<tr><td>39</td><td>Customer GLLAG</td><td>10893</td><td>9</td><td>2016-02-18</td><td>2016-03-18</td></tr>",
                            "<tr><td>39</td><td>Customer GLLAG</td><td>10849</td><td>9</td><td>2016-01-23</td><td>2016-02-20</td></tr>",
                            "<tr><td>40</td><td>Customer EFFTC</td><td>10973</td><td>6</td><td>2016-03-24</td><td>2016-04-21</td></tr>",
                            "<tr><td>40</td><td>Customer EFFTC</td><td>10972</td><td>4</td><td>2016-03-24</td><td>2016-04-21</td></tr>",
                            "<tr><td>40</td><td>Customer EFFTC</td><td>10927</td><td>4</td><td>2016-03-05</td><td>2016-04-02</td></tr>",
                            "<tr><td>41</td><td>Customer XIIWM</td><td>11051</td><td>7</td><td>2016-04-27</td><td>2016-05-25</td></tr>",
                            "<tr><td>41</td><td>Customer XIIWM</td><td>10923</td><td>7</td><td>2016-03-03</td><td>2016-04-14</td></tr>",
                            "<tr><td>41</td><td>Customer XIIWM</td><td>10832</td><td>2</td><td>2016-01-14</td><td>2016-02-11</td></tr>",
                            "<tr><td>42</td><td>Customer IAIJK</td><td>10810</td><td>2</td><td>2016-01-01</td><td>2016-01-29</td></tr>",
                            "<tr><td>42</td><td>Customer IAIJK</td><td>10620</td><td>2</td><td>2015-08-05</td><td>2015-09-02</td></tr>",
                            "<tr><td>42</td><td>Customer IAIJK</td><td>10495</td><td>3</td><td>2015-04-03</td><td>2015-05-01</td></tr>",
                            "<tr><td>43</td><td>Customer UISOJ</td><td>10545</td><td>8</td><td>2015-05-22</td><td>2015-06-19</td></tr>",
                            "<tr><td>43</td><td>Customer UISOJ</td><td>10482</td><td>1</td><td>2015-03-21</td><td>2015-04-18</td></tr>",
                            "<tr><td>44</td><td>Customer OXFRU</td><td>11070</td><td>2</td><td>2016-05-05</td><td>2016-06-02</td></tr>",
                            "<tr><td>44</td><td>Customer OXFRU</td><td>10934</td><td>3</td><td>2016-03-09</td><td>2016-04-06</td></tr>",
                            "<tr><td>44</td><td>Customer OXFRU</td><td>10891</td><td>7</td><td>2016-02-17</td><td>2016-03-17</td></tr>",
                            "<tr><td>45</td><td>Customer QXPPT</td><td>10884</td><td>4</td><td>2016-02-12</td><td>2016-03-12</td></tr>",
                            "<tr><td>45</td><td>Customer QXPPT</td><td>10735</td><td>6</td><td>2015-11-10</td><td>2015-12-08</td></tr>",
                            "<tr><td>45</td><td>Customer QXPPT</td><td>10719</td><td>8</td><td>2015-10-27</td><td>2015-11-24</td></tr>",
                            "<tr><td>46</td><td>Customer XPNIK</td><td>11071</td><td>1</td><td>2016-05-05</td><td>2016-06-02</td></tr>",
                            "<tr><td>46</td><td>Customer XPNIK</td><td>11065</td><td>8</td><td>2016-05-01</td><td>2016-05-29</td></tr>",
                            "<tr><td>46</td><td>Customer XPNIK</td><td>10997</td><td>8</td><td>2016-04-03</td><td>2016-05-15</td></tr>",
                            "<tr><td>47</td><td>Customer PSQUZ</td><td>11039</td><td>1</td><td>2016-04-21</td><td>2016-05-19</td></tr>",
                            "<tr><td>47</td><td>Customer PSQUZ</td><td>11014</td><td>2</td><td>2016-04-10</td><td>2016-05-08</td></tr>",
                            "<tr><td>47</td><td>Customer PSQUZ</td><td>10954</td><td>5</td><td>2016-03-17</td><td>2016-04-28</td></tr>",
                            "<tr><td>48</td><td>Customer DVFMB</td><td>11018</td><td>4</td><td>2016-04-13</td><td>2016-05-11</td></tr>",
                            "<tr><td>48</td><td>Customer DVFMB</td><td>10883</td><td>8</td><td>2016-02-12</td><td>2016-03-12</td></tr>",
                            "<tr><td>48</td><td>Customer DVFMB</td><td>10867</td><td>6</td><td>2016-02-03</td><td>2016-03-17</td></tr>",
                            "<tr><td>49</td><td>Customer CQRAA</td><td>10950</td><td>1</td><td>2016-03-16</td><td>2016-04-13</td></tr>",
                            "<tr><td>49</td><td>Customer CQRAA</td><td>10939</td><td>2</td><td>2016-03-10</td><td>2016-04-07</td></tr>",
                            "<tr><td>49</td><td>Customer CQRAA</td><td>10818</td><td>7</td><td>2016-01-07</td><td>2016-02-04</td></tr>",
                            "<tr><td>50</td><td>Customer JYPSC</td><td>11004</td><td>3</td><td>2016-04-07</td><td>2016-05-05</td></tr>",
                            "<tr><td>50</td><td>Customer JYPSC</td><td>10978</td><td>9</td><td>2016-03-26</td><td>2016-04-23</td></tr>",
                            "<tr><td>50</td><td>Customer JYPSC</td><td>10896</td><td>7</td><td>2016-02-19</td><td>2016-03-19</td></tr>",
                            "<tr><td>51</td><td>Customer PVDZC</td><td>10724</td><td>8</td><td>2015-10-30</td><td>2015-12-11</td></tr>",
                            "<tr><td>51</td><td>Customer PVDZC</td><td>10619</td><td>3</td><td>2015-08-04</td><td>2015-09-01</td></tr>",
                            "<tr><td>51</td><td>Customer PVDZC</td><td>10618</td><td>1</td><td>2015-08-01</td><td>2015-09-12</td></tr>",
                            "<tr><td>52</td><td>Customer PZNLA</td><td>10945</td><td>4</td><td>2016-03-12</td><td>2016-04-09</td></tr>",
                            "<tr><td>52</td><td>Customer PZNLA</td><td>10779</td><td>3</td><td>2015-12-16</td><td>2016-01-13</td></tr>",
                            "<tr><td>52</td><td>Customer PZNLA</td><td>10699</td><td>3</td><td>2015-10-09</td><td>2015-11-06</td></tr>",
                            "<tr><td>53</td><td>Customer GCJSG</td><td>11057</td><td>3</td><td>2016-04-29</td><td>2016-05-27</td></tr>",
                            "<tr><td>53</td><td>Customer GCJSG</td><td>10752</td><td>2</td><td>2015-11-24</td><td>2015-12-22</td></tr>",
                            "<tr><td>53</td><td>Customer GCJSG</td><td>10517</td><td>3</td><td>2015-04-24</td><td>2015-05-22</td></tr>",
                            "<tr><td>54</td><td>Customer TDKEG</td><td>10986</td><td>8</td><td>2016-03-30</td><td>2016-04-27</td></tr>",
                            "<tr><td>54</td><td>Customer TDKEG</td><td>10958</td><td>7</td><td>2016-03-18</td><td>2016-04-15</td></tr>",
                            "<tr><td>54</td><td>Customer TDKEG</td><td>10898</td><td>4</td><td>2016-02-20</td><td>2016-03-20</td></tr>",
                            "<tr><td>55</td><td>Customer KZQZT</td><td>11034</td><td>8</td><td>2016-04-20</td><td>2016-06-01</td></tr>",
                            "<tr><td>55</td><td>Customer KZQZT</td><td>10965</td><td>6</td><td>2016-03-20</td><td>2016-04-17</td></tr>",
                            "<tr><td>55</td><td>Customer KZQZT</td><td>10855</td><td>3</td><td>2016-01-27</td><td>2016-02-24</td></tr>",
                            "<tr><td>56</td><td>Customer QNIVZ</td><td>11020</td><td>2</td><td>2016-04-14</td><td>2016-05-12</td></tr>",
                            "<tr><td>56</td><td>Customer QNIVZ</td><td>10999</td><td>6</td><td>2016-04-03</td><td>2016-05-01</td></tr>",
                            "<tr><td>56</td><td>Customer QNIVZ</td><td>10833</td><td>6</td><td>2016-01-15</td><td>2016-02-12</td></tr>",
                            "<tr><td>58</td><td>Customer AHXHT</td><td>11073</td><td>2</td><td>2016-05-05</td><td>2016-06-02</td></tr>",
                            "<tr><td>58</td><td>Customer AHXHT</td><td>10995</td><td>1</td><td>2016-04-02</td><td>2016-04-30</td></tr>",
                            "<tr><td>58</td><td>Customer AHXHT</td><td>10502</td><td>2</td><td>2015-04-10</td><td>2015-05-08</td></tr>",
                            "<tr><td>59</td><td>Customer LOLJO</td><td>11053</td><td>2</td><td>2016-04-27</td><td>2016-05-25</td></tr>",
                            "<tr><td>59</td><td>Customer LOLJO</td><td>10844</td><td>8</td><td>2016-01-21</td><td>2016-02-18</td></tr>",
                            "<tr><td>59</td><td>Customer LOLJO</td><td>10747</td><td>6</td><td>2015-11-19</td><td>2015-12-17</td></tr>",
                            "<tr><td>60</td><td>Customer QZURI</td><td>11007</td><td>8</td><td>2016-04-08</td><td>2016-05-06</td></tr>",
                            "<tr><td>60</td><td>Customer QZURI</td><td>10477</td><td>5</td><td>2015-03-17</td><td>2015-04-14</td></tr>",
                            "<tr><td>60</td><td>Customer QZURI</td><td>10433</td><td>3</td><td>2015-02-03</td><td>2015-03-03</td></tr>",
                            "<tr><td>61</td><td>Customer WULWD</td><td>10989</td><td>2</td><td>2016-03-31</td><td>2016-04-28</td></tr>",
                            "<tr><td>61</td><td>Customer WULWD</td><td>10794</td><td>6</td><td>2015-12-24</td><td>2016-01-21</td></tr>",
                            "<tr><td>61</td><td>Customer WULWD</td><td>10720</td><td>8</td><td>2015-10-28</td><td>2015-11-11</td></tr>",
                            "<tr><td>62</td><td>Customer WFIZJ</td><td>11068</td><td>8</td><td>2016-05-04</td><td>2016-06-01</td></tr>",
                            "<tr><td>62</td><td>Customer WFIZJ</td><td>10961</td><td>8</td><td>2016-03-19</td><td>2016-04-16</td></tr>",
                            "<tr><td>62</td><td>Customer WFIZJ</td><td>10914</td><td>6</td><td>2016-02-27</td><td>2016-03-27</td></tr>",
                            "<tr><td>63</td><td>Customer IRRVL</td><td>11021</td><td>3</td><td>2016-04-14</td><td>2016-05-12</td></tr>",
                            "<tr><td>63</td><td>Customer IRRVL</td><td>10996</td><td>4</td><td>2016-04-02</td><td>2016-04-30</td></tr>",
                            "<tr><td>63</td><td>Customer IRRVL</td><td>10991</td><td>1</td><td>2016-04-01</td><td>2016-04-29</td></tr>",
                            "<tr><td>64</td><td>Customer LWGMD</td><td>11019</td><td>6</td><td>2016-04-13</td><td>2016-05-11</td></tr>",
                            "<tr><td>64</td><td>Customer LWGMD</td><td>10916</td><td>1</td><td>2016-02-27</td><td>2016-03-27</td></tr>",
                            "<tr><td>64</td><td>Customer LWGMD</td><td>10828</td><td>9</td><td>2016-01-13</td><td>2016-01-27</td></tr>",
                            "<tr><td>65</td><td>Customer NYUHS</td><td>11077</td><td>1</td><td>2016-05-06</td><td>2016-06-03</td></tr>",
                            "<tr><td>65</td><td>Customer NYUHS</td><td>11000</td><td>2</td><td>2016-04-06</td><td>2016-05-04</td></tr>",
                            "<tr><td>65</td><td>Customer NYUHS</td><td>10988</td><td>3</td><td>2016-03-31</td><td>2016-04-28</td></tr>",
                            "<tr><td>66</td><td>Customer LHANT</td><td>11062</td><td>4</td><td>2016-04-30</td><td>2016-05-28</td></tr>",
                            "<tr><td>66</td><td>Customer LHANT</td><td>11010</td><td>2</td><td>2016-04-09</td><td>2016-05-07</td></tr>",
                            "<tr><td>66</td><td>Customer LHANT</td><td>10942</td><td>9</td><td>2016-03-11</td><td>2016-04-08</td></tr>",
                            "<tr><td>67</td><td>Customer QVEPD</td><td>11059</td><td>2</td><td>2016-04-29</td><td>2016-06-10</td></tr>",
                            "<tr><td>67</td><td>Customer QVEPD</td><td>10877</td><td>1</td><td>2016-02-09</td><td>2016-03-09</td></tr>",
                            "<tr><td>67</td><td>Customer QVEPD</td><td>10851</td><td>5</td><td>2016-01-26</td><td>2016-02-23</td></tr>",
                            "<tr><td>68</td><td>Customer CCKOT</td><td>11075</td><td>8</td><td>2016-05-06</td><td>2016-06-03</td></tr>",
                            "<tr><td>68</td><td>Customer CCKOT</td><td>11033</td><td>7</td><td>2016-04-17</td><td>2016-05-15</td></tr>",
                            "<tr><td>68</td><td>Customer CCKOT</td><td>10951</td><td>9</td><td>2016-03-16</td><td>2016-04-27</td></tr>",
                            "<tr><td>69</td><td>Customer SIUIH</td><td>11013</td><td>2</td><td>2016-04-09</td><td>2016-05-07</td></tr>",
                            "<tr><td>69</td><td>Customer SIUIH</td><td>10917</td><td>4</td><td>2016-03-02</td><td>2016-03-30</td></tr>",
                            "<tr><td>69</td><td>Customer SIUIH</td><td>10306</td><td>1</td><td>2014-09-16</td><td>2014-10-14</td></tr>",
                            "<tr><td>70</td><td>Customer TMXGN</td><td>11015</td><td>2</td><td>2016-04-10</td><td>2016-04-24</td></tr>",
                            "<tr><td>70</td><td>Customer TMXGN</td><td>10909</td><td>1</td><td>2016-02-26</td><td>2016-03-26</td></tr>",
                            "<tr><td>70</td><td>Customer TMXGN</td><td>10831</td><td>3</td><td>2016-01-14</td><td>2016-02-11</td></tr>",
                            "<tr><td>71</td><td>Customer LCOUJ</td><td>11064</td><td>1</td><td>2016-05-01</td><td>2016-05-29</td></tr>",
                            "<tr><td>71</td><td>Customer LCOUJ</td><td>11031</td><td>6</td><td>2016-04-17</td><td>2016-05-15</td></tr>",
                            "<tr><td>71</td><td>Customer LCOUJ</td><td>11030</td><td>7</td><td>2016-04-17</td><td>2016-05-15</td></tr>",
                            "<tr><td>72</td><td>Customer AHPOP</td><td>10869</td><td>5</td><td>2016-02-04</td><td>2016-03-04</td></tr>",
                            "<tr><td>72</td><td>Customer AHPOP</td><td>10804</td><td>6</td><td>2015-12-30</td><td>2016-01-27</td></tr>",
                            "<tr><td>72</td><td>Customer AHPOP</td><td>10800</td><td>1</td><td>2015-12-26</td><td>2016-01-23</td></tr>",
                            "<tr><td>73</td><td>Customer JMIKW</td><td>11074</td><td>7</td><td>2016-05-06</td><td>2016-06-03</td></tr>",
                            "<tr><td>73</td><td>Customer JMIKW</td><td>10802</td><td>4</td><td>2015-12-29</td><td>2016-01-26</td></tr>",
                            "<tr><td>73</td><td>Customer JMIKW</td><td>10669</td><td>2</td><td>2015-09-15</td><td>2015-10-13</td></tr>",
                            "<tr><td>74</td><td>Customer YSHXL</td><td>11043</td><td>5</td><td>2016-04-22</td><td>2016-05-20</td></tr>",
                            "<tr><td>74</td><td>Customer YSHXL</td><td>10964</td><td>3</td><td>2016-03-20</td><td>2016-04-17</td></tr>",
                            "<tr><td>74</td><td>Customer YSHXL</td><td>10907</td><td>6</td><td>2016-02-25</td><td>2016-03-25</td></tr>",
                            "<tr><td>75</td><td>Customer XOJYP</td><td>10974</td><td>3</td><td>2016-03-25</td><td>2016-04-08</td></tr>",
                            "<tr><td>75</td><td>Customer XOJYP</td><td>10821</td><td>1</td><td>2016-01-08</td><td>2016-02-05</td></tr>",
                            "<tr><td>75</td><td>Customer XOJYP</td><td>10756</td><td>8</td><td>2015-11-27</td><td>2015-12-25</td></tr>",
                            "<tr><td>76</td><td>Customer SFOGW</td><td>11038</td><td>1</td><td>2016-04-21</td><td>2016-05-19</td></tr>",
                            "<tr><td>76</td><td>Customer SFOGW</td><td>11035</td><td>2</td><td>2016-04-20</td><td>2016-05-18</td></tr>",
                            "<tr><td>76</td><td>Customer SFOGW</td><td>10930</td><td>4</td><td>2016-03-06</td><td>2016-04-17</td></tr>",
                            "<tr><td>77</td><td>Customer LCYBZ</td><td>10992</td><td>1</td><td>2016-04-01</td><td>2016-04-29</td></tr>",
                            "<tr><td>77</td><td>Customer LCYBZ</td><td>10805</td><td>2</td><td>2015-12-30</td><td>2016-01-27</td></tr>",
                            "<tr><td>77</td><td>Customer LCYBZ</td><td>10708</td><td>6</td><td>2015-10-17</td><td>2015-11-28</td></tr>",
                            "<tr><td>78</td><td>Customer NLTYP</td><td>11003</td><td>3</td><td>2016-04-06</td><td>2016-05-04</td></tr>",
                            "<tr><td>78</td><td>Customer NLTYP</td><td>10775</td><td>7</td><td>2015-12-12</td><td>2016-01-09</td></tr>",
                            "<tr><td>78</td><td>Customer NLTYP</td><td>10624</td><td>4</td><td>2015-08-07</td><td>2015-09-04</td></tr>",
                            "<tr><td>79</td><td>Customer FAPSM</td><td>10967</td><td>2</td><td>2016-03-23</td><td>2016-04-20</td></tr>",
                            "<tr><td>79</td><td>Customer FAPSM</td><td>10608</td><td>4</td><td>2015-07-23</td><td>2015-08-20</td></tr>",
                            "<tr><td>79</td><td>Customer FAPSM</td><td>10548</td><td>3</td><td>2015-05-26</td><td>2015-06-23</td></tr>",
                            "<tr><td>80</td><td>Customer VONTK</td><td>11069</td><td>1</td><td>2016-05-04</td><td>2016-06-01</td></tr>",
                            "<tr><td>80</td><td>Customer VONTK</td><td>10915</td><td>2</td><td>2016-02-27</td><td>2016-03-27</td></tr>",
                            "<tr><td>80</td><td>Customer VONTK</td><td>10842</td><td>1</td><td>2016-01-20</td><td>2016-02-17</td></tr>",
                            "<tr><td>81</td><td>Customer YQQWW</td><td>10839</td><td>3</td><td>2016-01-19</td><td>2016-02-16</td></tr>",
                            "<tr><td>81</td><td>Customer YQQWW</td><td>10834</td><td>1</td><td>2016-01-15</td><td>2016-02-12</td></tr>",
                            "<tr><td>81</td><td>Customer YQQWW</td><td>10830</td><td>4</td><td>2016-01-13</td><td>2016-02-24</td></tr>",
                            "<tr><td>82</td><td>Customer EYHKM</td><td>10822</td><td>6</td><td>2016-01-08</td><td>2016-02-05</td></tr>",
                            "<tr><td>82</td><td>Customer EYHKM</td><td>10577</td><td>9</td><td>2015-06-23</td><td>2015-08-04</td></tr>",
                            "<tr><td>82</td><td>Customer EYHKM</td><td>10574</td><td>4</td><td>2015-06-19</td><td>2015-07-17</td></tr>",
                            "<tr><td>83</td><td>Customer ZRNDE</td><td>10994</td><td>2</td><td>2016-04-02</td><td>2016-04-16</td></tr>",
                            "<tr><td>83</td><td>Customer ZRNDE</td><td>10946</td><td>1</td><td>2016-03-12</td><td>2016-04-09</td></tr>",
                            "<tr><td>83</td><td>Customer ZRNDE</td><td>10921</td><td>1</td><td>2016-03-03</td><td>2016-04-14</td></tr>",
                            "<tr><td>84</td><td>Customer NRCSK</td><td>10850</td><td>1</td><td>2016-01-23</td><td>2016-03-06</td></tr>",
                            "<tr><td>84</td><td>Customer NRCSK</td><td>10843</td><td>4</td><td>2016-01-21</td><td>2016-02-18</td></tr>",
                            "<tr><td>84</td><td>Customer NRCSK</td><td>10814</td><td>3</td><td>2016-01-05</td><td>2016-02-02</td></tr>",
                            "<tr><td>85</td><td>Customer ENQZT</td><td>10739</td><td>3</td><td>2015-11-12</td><td>2015-12-10</td></tr>",
                            "<tr><td>85</td><td>Customer ENQZT</td><td>10737</td><td>2</td><td>2015-11-11</td><td>2015-12-09</td></tr>",
                            "<tr><td>85</td><td>Customer ENQZT</td><td>10295</td><td>2</td><td>2014-09-02</td><td>2014-09-30</td></tr>",
                            "<tr><td>86</td><td>Customer SNXOJ</td><td>11046</td><td>8</td><td>2016-04-23</td><td>2016-05-21</td></tr>",
                            "<tr><td>86</td><td>Customer SNXOJ</td><td>10668</td><td>1</td><td>2015-09-15</td><td>2015-10-13</td></tr>",
                            "<tr><td>86</td><td>Customer SNXOJ</td><td>10651</td><td>8</td><td>2015-09-01</td><td>2015-09-29</td></tr>",
                            "<tr><td>87</td><td>Customer ZHYOS</td><td>11025</td><td>6</td><td>2016-04-15</td><td>2016-05-13</td></tr>",
                            "<tr><td>87</td><td>Customer ZHYOS</td><td>10781</td><td>2</td><td>2015-12-17</td><td>2016-01-14</td></tr>",
                            "<tr><td>87</td><td>Customer ZHYOS</td><td>10750</td><td>9</td><td>2015-11-21</td><td>2015-12-19</td></tr>",
                            "<tr><td>88</td><td>Customer SRQVM</td><td>10935</td><td>4</td><td>2016-03-09</td><td>2016-04-06</td></tr>",
                            "<tr><td>88</td><td>Customer SRQVM</td><td>10905</td><td>9</td><td>2016-02-24</td><td>2016-03-24</td></tr>",
                            "<tr><td>88</td><td>Customer SRQVM</td><td>10900</td><td>1</td><td>2016-02-20</td><td>2016-03-20</td></tr>",
                            "<tr><td>89</td><td>Customer YBQTI</td><td>11066</td><td>7</td><td>2016-05-01</td><td>2016-05-29</td></tr>",
                            "<tr><td>89</td><td>Customer YBQTI</td><td>11032</td><td>2</td><td>2016-04-17</td><td>2016-05-15</td></tr>",
                            "<tr><td>89</td><td>Customer YBQTI</td><td>10904</td><td>3</td><td>2016-02-24</td><td>2016-03-24</td></tr>",
                            "<tr><td>90</td><td>Customer XBBVR</td><td>11005</td><td>2</td><td>2016-04-07</td><td>2016-05-05</td></tr>",
                            "<tr><td>90</td><td>Customer XBBVR</td><td>10910</td><td>1</td><td>2016-02-26</td><td>2016-03-26</td></tr>",
                            "<tr><td>90</td><td>Customer XBBVR</td><td>10879</td><td>3</td><td>2016-02-10</td><td>2016-03-10</td></tr>",
                            "<tr><td>91</td><td>Customer CCFIZ</td><td>11044</td><td>4</td><td>2016-04-23</td><td>2016-05-21</td></tr>",
                            "<tr><td>91</td><td>Customer CCFIZ</td><td>10998</td><td>8</td><td>2016-04-03</td><td>2016-04-17</td></tr>",
                            "<tr><td>91</td><td>Customer CCFIZ</td><td>10906</td><td>4</td><td>2016-02-25</td><td>2016-03-11</td></tr>",
                            "</table>"
                        ]
                    }
                }
            ],
            "execution_count": 21
        }
    ]
}