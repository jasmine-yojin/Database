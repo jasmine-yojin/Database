{
    "metadata": {
        "kernelspec": {
            "name": "SQL",
            "display_name": "SQL",
            "language": "sql"
        },
        "language_info": {
            "name": "sql",
            "version": ""
        }
    },
    "nbformat_minor": 2,
    "nbformat": 4,
    "cells": [
        {
            "cell_type": "markdown",
            "source": [
                "Window Functions\n",
                "\n",
                "  \n",
                "\n",
                "Calculation against a subset of the rows. \n",
                "\n",
                "Widow: subset of rows. \n",
                "\n",
                "  \n",
                "\n",
                "Drawback of group by is that you lose the details. The one for subquery is that you have to repeat all the subquery as well as the underlying query. Window function can elegantly overcome these drawbacks.\n",
                "\n",
                "It also has ability to define order."
            ],
            "metadata": {
                "azdata_cell_guid": "73baebc0-a2e1-4183-96d9-56c64fbc7626"
            },
            "attachments": {}
        },
        {
            "cell_type": "markdown",
            "source": [
                "Proposition: Compute the running-total values for each employee and month"
            ],
            "metadata": {
                "azdata_cell_guid": "dc80930e-0bc8-4e27-996a-86498c2c478c"
            },
            "attachments": {}
        },
        {
            "cell_type": "code",
            "source": [
                "--Creating a view to generate the table grouped by employeeId and ordermonth.\r\n",
                "USE Northwinds2022TSQLV7;\r\n",
                "alter VIEW Sales.empOrders\r\n",
                "AS\r\n",
                "SELECT o.EmployeeId,\r\n",
                "\t   dateadd (MONTH, datediff (MONTH, 0, o.OrderDate), 0) AS ordermonth,--DATEADD(datepart, number, date)\r\n",
                "\t   SUM(od.Quantity) AS qty,\r\n",
                "\t   cast (sum (od.quantity * od.UnitPrice * (1 - od.DiscountPercentage)) AS NUMERIC (12,2)) AS val   \r\n",
                "FROM Sales.[Order] AS [o]\r\n",
                "\tINNER JOIN sales.OrderDetail AS od\r\n",
                "\t\tON od.OrderId = o.OrderId\r\n",
                "GROUP BY o.EmployeeId, dateadd (MONTH, datediff (MONTH, 0, o.OrderDate), 0)\r\n",
                "GO\r\n",
                "\r\n",
                "SELECT * FROM sales.EmpOrders AS veo --see what the view generates"
            ],
            "metadata": {
                "language": "sql",
                "azdata_cell_guid": "91bde66b-744c-4795-baf2-fd701e0b12dd"
            },
            "outputs": [
                {
                    "output_type": "error",
                    "ename": "",
                    "evalue": "Msg 208, Level 16, State 1, Procedure empOrders, Line 8\r\nInvalid object name 'Sales.Order'.",
                    "traceback": []
                },
                {
                    "output_type": "error",
                    "ename": "",
                    "evalue": "Msg 208, Level 16, State 1, Line 14\r\nInvalid object name 'sales.EmpOrders'.",
                    "traceback": []
                },
                {
                    "output_type": "display_data",
                    "data": {
                        "text/html": "Total execution time: 00:00:00.015"
                    },
                    "metadata": {}
                }
            ],
            "execution_count": 1
        },
        {
            "cell_type": "code",
            "source": [
                "USE Northwinds2022TSQLV7\r\n",
                "SELECT veo.EmployeeId,\r\n",
                "       veo.ordermonth,\r\n",
                "       veo.qty,\r\n",
                "\t   SUM(qty) OVER (PARTITION BY veo.EmployeeId\r\n",
                "\t\t\t\t\tORDER BY veo.ordermonth\r\n",
                "\t\t\t\t\tROWS BETWEEN UNBOUNDED PRECEDING --no low boundary point\r\n",
                "\t\t\t\t\t\tAND CURRENT ROW) AS runqty --extends until the current row\r\n",
                " \r\n",
                "FROM Sales.empOrders AS veo\r\n",
                "\r\n",
                "--window functions are only allowed in the SELECT and ORDER BY. If you need it earliler like in WHERE phase, use TABLE EXPRESSION."
            ],
            "metadata": {
                "azdata_cell_guid": "c4041f87-9310-460f-b1e6-896c349220f1",
                "language": "sql"
            },
            "outputs": [],
            "execution_count": null
        },
        {
            "cell_type": "markdown",
            "source": [
                "Ranking window functions\n",
                "\n",
                "  \n",
                "\n",
                "Proposition: Use ranking functions agains Sales.OrderValues. Use val for ORDER BY."
            ],
            "metadata": {
                "language": "sql",
                "azdata_cell_guid": "f2152394-0ba8-4469-8f2a-4644860d48a7"
            },
            "attachments": {}
        },
        {
            "cell_type": "code",
            "source": [
                "USE Northwinds2022TSQLV7\r\n",
                "SELECT OrderId, CustomerId, Freight,\r\n",
                "\t row_number() OVER (ORDER BY freight) AS rownum,\r\n",
                "\t RANK() OVER (ORDER BY Freight) AS [rank],\r\n",
                "\t DENSE_RANK() OVER (ORDER BY freight) AS [dense_rank],\r\n",
                "\t NTILE(100) OVER (ORDER BY freight) AS [ntile]\r\n",
                "FROM sales.[ORDER]\r\n",
                "\r\n",
                "--row_number() can be nondeterministic as it produces unique values even when there are ties. To make it deterministic, add another column to the ORDER BY. \r\n",
                "--To make it deterministic, use RANK or DENSE_RANK function. \r\n",
                "--RANK: just rank.\r\n",
                "--DENSE_RANK: distinct rank\r\n",
                "--NTILE: divide the result set into 100. "
            ],
            "metadata": {
                "language": "sql",
                "azdata_cell_guid": "6d1f8e55-decc-46e7-9951-bc95690c7cee"
            },
            "outputs": [
                {
                    "output_type": "display_data",
                    "data": {
                        "text/html": "(830 rows affected)"
                    },
                    "metadata": {}
                },
                {
                    "output_type": "display_data",
                    "data": {
                        "text/html": "Total execution time: 00:00:00.081"
                    },
                    "metadata": {}
                },
                {
                    "output_type": "execute_result",
                    "metadata": {},
                    "execution_count": 1,
                    "data": {
                        "application/vnd.dataresource+json": {
                            "schema": {
                                "fields": [
                                    {
                                        "name": "OrderId"
                                    },
                                    {
                                        "name": "CustomerId"
                                    },
                                    {
                                        "name": "Freight"
                                    },
                                    {
                                        "name": "rownum"
                                    },
                                    {
                                        "name": "rank"
                                    },
                                    {
                                        "name": "dense_rank"
                                    },
                                    {
                                        "name": "ntile"
                                    }
                                ]
                            },
                            "data": [
                                {
                                    "0": "10972",
                                    "1": "40",
                                    "2": "0.02",
                                    "3": "1",
                                    "4": "1",
                                    "5": "1",
                                    "6": "1"
                                },
                                {
                                    "0": "10296",
                                    "1": "46",
                                    "2": "0.12",
                                    "3": "2",
                                    "4": "2",
                                    "5": "2",
                                    "6": "1"
                                },
                                {
                                    "0": "10644",
                                    "1": "88",
                                    "2": "0.14",
                                    "3": "3",
                                    "4": "3",
                                    "5": "3",
                                    "6": "1"
                                },
                                {
                                    "0": "10509",
                                    "1": "6",
                                    "2": "0.15",
                                    "3": "4",
                                    "4": "4",
                                    "5": "4",
                                    "6": "1"
                                },
                                {
                                    "0": "11035",
                                    "1": "76",
                                    "2": "0.17",
                                    "3": "5",
                                    "4": "5",
                                    "5": "5",
                                    "6": "1"
                                },
                                {
                                    "0": "10415",
                                    "1": "36",
                                    "2": "0.20",
                                    "3": "6",
                                    "4": "6",
                                    "5": "6",
                                    "6": "1"
                                },
                                {
                                    "0": "10969",
                                    "1": "15",
                                    "2": "0.21",
                                    "3": "7",
                                    "4": "7",
                                    "5": "7",
                                    "6": "1"
                                },
                                {
                                    "0": "11054",
                                    "1": "12",
                                    "2": "0.33",
                                    "3": "8",
                                    "4": "8",
                                    "5": "8",
                                    "6": "1"
                                },
                                {
                                    "0": "10322",
                                    "1": "58",
                                    "2": "0.40",
                                    "3": "9",
                                    "4": "9",
                                    "5": "9",
                                    "6": "1"
                                },
                                {
                                    "0": "10371",
                                    "1": "41",
                                    "2": "0.45",
                                    "3": "10",
                                    "4": "10",
                                    "5": "10",
                                    "6": "2"
                                },
                                {
                                    "0": "10586",
                                    "1": "66",
                                    "2": "0.48",
                                    "3": "11",
                                    "4": "11",
                                    "5": "11",
                                    "6": "2"
                                },
                                {
                                    "0": "10883",
                                    "1": "48",
                                    "2": "0.53",
                                    "3": "12",
                                    "4": "12",
                                    "5": "12",
                                    "6": "2"
                                },
                                {
                                    "0": "10849",
                                    "1": "39",
                                    "2": "0.56",
                                    "3": "13",
                                    "4": "13",
                                    "5": "13",
                                    "6": "2"
                                },
                                {
                                    "0": "10307",
                                    "1": "48",
                                    "2": "0.56",
                                    "3": "14",
                                    "4": "13",
                                    "5": "13",
                                    "6": "2"
                                },
                                {
                                    "0": "10699",
                                    "1": "52",
                                    "2": "0.58",
                                    "3": "15",
                                    "4": "15",
                                    "5": "14",
                                    "6": "2"
                                },
                                {
                                    "0": "10333",
                                    "1": "87",
                                    "2": "0.59",
                                    "3": "16",
                                    "4": "16",
                                    "5": "15",
                                    "6": "2"
                                },
                                {
                                    "0": "10615",
                                    "1": "90",
                                    "2": "0.75",
                                    "3": "17",
                                    "4": "17",
                                    "5": "16",
                                    "6": "2"
                                },
                                {
                                    "0": "11005",
                                    "1": "90",
                                    "2": "0.75",
                                    "3": "18",
                                    "4": "17",
                                    "5": "16",
                                    "6": "2"
                                },
                                {
                                    "0": "10348",
                                    "1": "86",
                                    "2": "0.78",
                                    "3": "19",
                                    "4": "19",
                                    "5": "17",
                                    "6": "3"
                                },
                                {
                                    "0": "10873",
                                    "1": "90",
                                    "2": "0.82",
                                    "3": "20",
                                    "4": "20",
                                    "5": "18",
                                    "6": "3"
                                },
                                {
                                    "0": "10631",
                                    "1": "41",
                                    "2": "0.87",
                                    "3": "21",
                                    "4": "21",
                                    "5": "19",
                                    "6": "3"
                                },
                                {
                                    "0": "10674",
                                    "1": "38",
                                    "2": "0.90",
                                    "3": "22",
                                    "4": "22",
                                    "5": "20",
                                    "6": "3"
                                },
                                {
                                    "0": "11071",
                                    "1": "46",
                                    "2": "0.93",
                                    "3": "23",
                                    "4": "23",
                                    "5": "21",
                                    "6": "3"
                                },
                                {
                                    "0": "10620",
                                    "1": "42",
                                    "2": "0.94",
                                    "3": "24",
                                    "4": "24",
                                    "5": "22",
                                    "6": "3"
                                },
                                {
                                    "0": "10782",
                                    "1": "12",
                                    "2": "1.10",
                                    "3": "25",
                                    "4": "25",
                                    "5": "23",
                                    "6": "3"
                                },
                                {
                                    "0": "10996",
                                    "1": "63",
                                    "2": "1.12",
                                    "3": "26",
                                    "4": "26",
                                    "5": "24",
                                    "6": "3"
                                },
                                {
                                    "0": "10636",
                                    "1": "87",
                                    "2": "1.15",
                                    "3": "27",
                                    "4": "27",
                                    "5": "25",
                                    "6": "3"
                                },
                                {
                                    "0": "10295",
                                    "1": "85",
                                    "2": "1.15",
                                    "3": "28",
                                    "4": "27",
                                    "5": "25",
                                    "6": "4"
                                },
                                {
                                    "0": "10370",
                                    "1": "14",
                                    "2": "1.17",
                                    "3": "29",
                                    "4": "29",
                                    "5": "26",
                                    "6": "4"
                                },
                                {
                                    "0": "11011",
                                    "1": "1",
                                    "2": "1.21",
                                    "3": "30",
                                    "4": "30",
                                    "5": "27",
                                    "6": "4"
                                },
                                {
                                    "0": "10899",
                                    "1": "46",
                                    "2": "1.21",
                                    "3": "31",
                                    "4": "30",
                                    "5": "27",
                                    "6": "4"
                                },
                                {
                                    "0": "10824",
                                    "1": "24",
                                    "2": "1.23",
                                    "3": "32",
                                    "4": "32",
                                    "5": "28",
                                    "6": "4"
                                },
                                {
                                    "0": "10887",
                                    "1": "29",
                                    "2": "1.25",
                                    "3": "33",
                                    "4": "33",
                                    "5": "29",
                                    "6": "4"
                                },
                                {
                                    "0": "10980",
                                    "1": "24",
                                    "2": "1.26",
                                    "3": "34",
                                    "4": "34",
                                    "5": "30",
                                    "6": "4"
                                },
                                {
                                    "0": "10898",
                                    "1": "54",
                                    "2": "1.27",
                                    "3": "35",
                                    "4": "35",
                                    "5": "31",
                                    "6": "4"
                                },
                                {
                                    "0": "10664",
                                    "1": "28",
                                    "2": "1.27",
                                    "3": "36",
                                    "4": "35",
                                    "5": "31",
                                    "6": "4"
                                },
                                {
                                    "0": "10662",
                                    "1": "48",
                                    "2": "1.28",
                                    "3": "37",
                                    "4": "37",
                                    "5": "32",
                                    "6": "5"
                                },
                                {
                                    "0": "10352",
                                    "1": "28",
                                    "2": "1.30",
                                    "3": "38",
                                    "4": "38",
                                    "5": "33",
                                    "6": "5"
                                },
                                {
                                    "0": "10292",
                                    "1": "81",
                                    "2": "1.35",
                                    "3": "39",
                                    "4": "39",
                                    "5": "34",
                                    "6": "5"
                                },
                                {
                                    "0": "10480",
                                    "1": "23",
                                    "2": "1.35",
                                    "3": "40",
                                    "4": "39",
                                    "5": "34",
                                    "6": "5"
                                },
                                {
                                    "0": "10807",
                                    "1": "27",
                                    "2": "1.36",
                                    "3": "41",
                                    "4": "41",
                                    "5": "35",
                                    "6": "5"
                                },
                                {
                                    "0": "10928",
                                    "1": "29",
                                    "2": "1.36",
                                    "3": "42",
                                    "4": "41",
                                    "5": "35",
                                    "6": "5"
                                },
                                {
                                    "0": "10752",
                                    "1": "53",
                                    "2": "1.39",
                                    "3": "43",
                                    "4": "43",
                                    "5": "36",
                                    "6": "5"
                                },
                                {
                                    "0": "10548",
                                    "1": "79",
                                    "2": "1.43",
                                    "3": "44",
                                    "4": "44",
                                    "5": "37",
                                    "6": "5"
                                },
                                {
                                    "0": "10785",
                                    "1": "33",
                                    "2": "1.51",
                                    "3": "45",
                                    "4": "45",
                                    "5": "38",
                                    "6": "5"
                                },
                                {
                                    "0": "10767",
                                    "1": "76",
                                    "2": "1.59",
                                    "3": "46",
                                    "4": "46",
                                    "5": "39",
                                    "6": "6"
                                },
                                {
                                    "0": "10308",
                                    "1": "2",
                                    "2": "1.61",
                                    "3": "47",
                                    "4": "47",
                                    "5": "40",
                                    "6": "6"
                                },
                                {
                                    "0": "10734",
                                    "1": "31",
                                    "2": "1.63",
                                    "3": "48",
                                    "4": "48",
                                    "5": "41",
                                    "6": "6"
                                },
                                {
                                    "0": "10900",
                                    "1": "88",
                                    "2": "1.66",
                                    "3": "49",
                                    "4": "49",
                                    "5": "42",
                                    "6": "6"
                                },
                                {
                                    "0": "10609",
                                    "1": "18",
                                    "2": "1.85",
                                    "3": "50",
                                    "4": "50",
                                    "5": "43",
                                    "6": "6"
                                },
                                {
                                    "0": "10614",
                                    "1": "6",
                                    "2": "1.93",
                                    "3": "51",
                                    "4": "51",
                                    "5": "44",
                                    "6": "6"
                                },
                                {
                                    "0": "10867",
                                    "1": "48",
                                    "2": "1.93",
                                    "3": "52",
                                    "4": "51",
                                    "5": "44",
                                    "6": "6"
                                },
                                {
                                    "0": "10313",
                                    "1": "63",
                                    "2": "1.96",
                                    "3": "53",
                                    "4": "53",
                                    "5": "45",
                                    "6": "6"
                                },
                                {
                                    "0": "10676",
                                    "1": "80",
                                    "2": "2.01",
                                    "3": "54",
                                    "4": "54",
                                    "5": "46",
                                    "6": "6"
                                },
                                {
                                    "0": "10960",
                                    "1": "35",
                                    "2": "2.08",
                                    "3": "55",
                                    "4": "55",
                                    "5": "47",
                                    "6": "7"
                                },
                                {
                                    "0": "10943",
                                    "1": "11",
                                    "2": "2.17",
                                    "3": "56",
                                    "4": "56",
                                    "5": "48",
                                    "6": "7"
                                },
                                {
                                    "0": "10925",
                                    "1": "34",
                                    "2": "2.27",
                                    "3": "57",
                                    "4": "57",
                                    "5": "49",
                                    "6": "7"
                                },
                                {
                                    "0": "10798",
                                    "1": "38",
                                    "2": "2.33",
                                    "3": "58",
                                    "4": "58",
                                    "5": "50",
                                    "6": "7"
                                },
                                {
                                    "0": "10754",
                                    "1": "49",
                                    "2": "2.38",
                                    "3": "59",
                                    "4": "59",
                                    "5": "51",
                                    "6": "7"
                                },
                                {
                                    "0": "10410",
                                    "1": "10",
                                    "2": "2.40",
                                    "3": "60",
                                    "4": "60",
                                    "5": "52",
                                    "6": "7"
                                },
                                {
                                    "0": "10950",
                                    "1": "49",
                                    "2": "2.50",
                                    "3": "61",
                                    "4": "61",
                                    "5": "53",
                                    "6": "7"
                                },
                                {
                                    "0": "10963",
                                    "1": "28",
                                    "2": "2.70",
                                    "3": "62",
                                    "4": "62",
                                    "5": "54",
                                    "6": "7"
                                },
                                {
                                    "0": "10840",
                                    "1": "47",
                                    "2": "2.71",
                                    "3": "63",
                                    "4": "63",
                                    "5": "55",
                                    "6": "7"
                                },
                                {
                                    "0": "10454",
                                    "1": "41",
                                    "2": "2.74",
                                    "3": "64",
                                    "4": "64",
                                    "5": "56",
                                    "6": "8"
                                },
                                {
                                    "0": "11051",
                                    "1": "41",
                                    "2": "2.79",
                                    "3": "65",
                                    "4": "65",
                                    "5": "57",
                                    "6": "8"
                                },
                                {
                                    "0": "10881",
                                    "1": "12",
                                    "2": "2.84",
                                    "3": "66",
                                    "4": "66",
                                    "5": "58",
                                    "6": "8"
                                },
                                {
                                    "0": "10738",
                                    "1": "74",
                                    "2": "2.91",
                                    "3": "67",
                                    "4": "67",
                                    "5": "59",
                                    "6": "8"
                                },
                                {
                                    "0": "10602",
                                    "1": "83",
                                    "2": "2.92",
                                    "3": "68",
                                    "4": "68",
                                    "5": "60",
                                    "6": "8"
                                },
                                {
                                    "0": "10281",
                                    "1": "69",
                                    "2": "2.94",
                                    "3": "69",
                                    "4": "69",
                                    "5": "61",
                                    "6": "8"
                                },
                                {
                                    "0": "10708",
                                    "1": "77",
                                    "2": "2.96",
                                    "3": "70",
                                    "4": "70",
                                    "5": "62",
                                    "6": "8"
                                },
                                {
                                    "0": "10777",
                                    "1": "31",
                                    "2": "3.01",
                                    "3": "71",
                                    "4": "71",
                                    "5": "63",
                                    "6": "8"
                                },
                                {
                                    "0": "10581",
                                    "1": "21",
                                    "2": "3.01",
                                    "3": "72",
                                    "4": "71",
                                    "5": "63",
                                    "6": "8"
                                },
                                {
                                    "0": "10422",
                                    "1": "27",
                                    "2": "3.02",
                                    "3": "73",
                                    "4": "73",
                                    "5": "64",
                                    "6": "9"
                                },
                                {
                                    "0": "10864",
                                    "1": "4",
                                    "2": "3.04",
                                    "3": "74",
                                    "4": "74",
                                    "5": "65",
                                    "6": "9"
                                },
                                {
                                    "0": "10261",
                                    "1": "61",
                                    "2": "3.05",
                                    "3": "75",
                                    "4": "75",
                                    "5": "66",
                                    "6": "9"
                                },
                                {
                                    "0": "10347",
                                    "1": "21",
                                    "2": "3.10",
                                    "3": "76",
                                    "4": "76",
                                    "5": "67",
                                    "6": "9"
                                },
                                {
                                    "0": "11019",
                                    "1": "64",
                                    "2": "3.17",
                                    "3": "77",
                                    "4": "77",
                                    "5": "68",
                                    "6": "9"
                                },
                                {
                                    "0": "11037",
                                    "1": "30",
                                    "2": "3.20",
                                    "3": "78",
                                    "4": "78",
                                    "5": "69",
                                    "6": "9"
                                },
                                {
                                    "0": "10259",
                                    "1": "13",
                                    "2": "3.25",
                                    "3": "79",
                                    "4": "79",
                                    "5": "70",
                                    "6": "9"
                                },
                                {
                                    "0": "10947",
                                    "1": "11",
                                    "2": "3.26",
                                    "3": "80",
                                    "4": "80",
                                    "5": "71",
                                    "6": "9"
                                },
                                {
                                    "0": "10955",
                                    "1": "24",
                                    "2": "3.26",
                                    "3": "81",
                                    "4": "80",
                                    "5": "71",
                                    "6": "9"
                                },
                                {
                                    "0": "10528",
                                    "1": "32",
                                    "2": "3.35",
                                    "3": "82",
                                    "4": "82",
                                    "5": "72",
                                    "6": "10"
                                },
                                {
                                    "0": "10321",
                                    "1": "38",
                                    "2": "3.43",
                                    "3": "83",
                                    "4": "83",
                                    "5": "73",
                                    "6": "10"
                                },
                                {
                                    "0": "10444",
                                    "1": "5",
                                    "2": "3.50",
                                    "3": "84",
                                    "4": "84",
                                    "5": "74",
                                    "6": "10"
                                },
                                {
                                    "0": "10915",
                                    "1": "80",
                                    "2": "3.51",
                                    "3": "85",
                                    "4": "85",
                                    "5": "75",
                                    "6": "10"
                                },
                                {
                                    "0": "10745",
                                    "1": "63",
                                    "2": "3.52",
                                    "3": "86",
                                    "4": "86",
                                    "5": "76",
                                    "6": "10"
                                },
                                {
                                    "0": "10705",
                                    "1": "35",
                                    "2": "3.52",
                                    "3": "87",
                                    "4": "86",
                                    "5": "76",
                                    "6": "10"
                                },
                                {
                                    "0": "10512",
                                    "1": "21",
                                    "2": "3.53",
                                    "3": "88",
                                    "4": "88",
                                    "5": "77",
                                    "6": "10"
                                },
                                {
                                    "0": "10264",
                                    "1": "24",
                                    "2": "3.67",
                                    "3": "89",
                                    "4": "89",
                                    "5": "78",
                                    "6": "10"
                                },
                                {
                                    "0": "10412",
                                    "1": "87",
                                    "2": "3.77",
                                    "3": "90",
                                    "4": "90",
                                    "5": "79",
                                    "6": "10"
                                },
                                {
                                    "0": "10374",
                                    "1": "91",
                                    "2": "3.94",
                                    "3": "91",
                                    "4": "91",
                                    "5": "80",
                                    "6": "11"
                                },
                                {
                                    "0": "10677",
                                    "1": "3",
                                    "2": "4.03",
                                    "3": "92",
                                    "4": "92",
                                    "5": "81",
                                    "6": "11"
                                },
                                {
                                    "0": "10439",
                                    "1": "51",
                                    "2": "4.07",
                                    "3": "93",
                                    "4": "93",
                                    "5": "82",
                                    "6": "11"
                                },
                                {
                                    "0": "11057",
                                    "1": "53",
                                    "2": "4.13",
                                    "3": "94",
                                    "4": "94",
                                    "5": "83",
                                    "6": "11"
                                },
                                {
                                    "0": "10472",
                                    "1": "72",
                                    "2": "4.20",
                                    "3": "95",
                                    "4": "95",
                                    "5": "84",
                                    "6": "11"
                                },
                                {
                                    "0": "10992",
                                    "1": "77",
                                    "2": "4.27",
                                    "3": "96",
                                    "4": "96",
                                    "5": "85",
                                    "6": "11"
                                },
                                {
                                    "0": "10550",
                                    "1": "30",
                                    "2": "4.32",
                                    "3": "97",
                                    "4": "97",
                                    "5": "86",
                                    "6": "11"
                                },
                                {
                                    "0": "10810",
                                    "1": "42",
                                    "2": "4.33",
                                    "3": "98",
                                    "4": "98",
                                    "5": "87",
                                    "6": "11"
                                },
                                {
                                    "0": "10432",
                                    "1": "75",
                                    "2": "4.34",
                                    "3": "99",
                                    "4": "99",
                                    "5": "88",
                                    "6": "11"
                                },
                                {
                                    "0": "10683",
                                    "1": "18",
                                    "2": "4.40",
                                    "3": "100",
                                    "4": "100",
                                    "5": "89",
                                    "6": "12"
                                },
                                {
                                    "0": "10655",
                                    "1": "66",
                                    "2": "4.41",
                                    "3": "101",
                                    "4": "101",
                                    "5": "90",
                                    "6": "12"
                                },
                                {
                                    "0": "10476",
                                    "1": "35",
                                    "2": "4.41",
                                    "3": "102",
                                    "4": "101",
                                    "5": "90",
                                    "6": "12"
                                },
                                {
                                    "0": "10589",
                                    "1": "32",
                                    "2": "4.42",
                                    "3": "103",
                                    "4": "103",
                                    "5": "91",
                                    "6": "12"
                                },
                                {
                                    "0": "10793",
                                    "1": "4",
                                    "2": "4.52",
                                    "3": "104",
                                    "4": "104",
                                    "5": "92",
                                    "6": "12"
                                },
                                {
                                    "0": "10271",
                                    "1": "75",
                                    "2": "4.54",
                                    "3": "105",
                                    "4": "105",
                                    "5": "93",
                                    "6": "12"
                                },
                                {
                                    "0": "10269",
                                    "1": "89",
                                    "2": "4.56",
                                    "3": "106",
                                    "4": "106",
                                    "5": "94",
                                    "6": "12"
                                },
                                {
                                    "0": "11015",
                                    "1": "70",
                                    "2": "4.62",
                                    "3": "107",
                                    "4": "107",
                                    "5": "95",
                                    "6": "12"
                                },
                                {
                                    "0": "10495",
                                    "1": "42",
                                    "2": "4.65",
                                    "3": "108",
                                    "4": "108",
                                    "5": "96",
                                    "6": "12"
                                },
                                {
                                    "0": "10318",
                                    "1": "38",
                                    "2": "4.73",
                                    "3": "109",
                                    "4": "109",
                                    "5": "97",
                                    "6": "13"
                                },
                                {
                                    "0": "10704",
                                    "1": "62",
                                    "2": "4.78",
                                    "3": "110",
                                    "4": "110",
                                    "5": "98",
                                    "6": "13"
                                },
                                {
                                    "0": "10478",
                                    "1": "84",
                                    "2": "4.81",
                                    "3": "111",
                                    "4": "111",
                                    "5": "99",
                                    "6": "13"
                                },
                                {
                                    "0": "10538",
                                    "1": "11",
                                    "2": "4.87",
                                    "3": "112",
                                    "4": "112",
                                    "5": "100",
                                    "6": "13"
                                },
                                {
                                    "0": "10809",
                                    "1": "88",
                                    "2": "4.87",
                                    "3": "113",
                                    "4": "112",
                                    "5": "100",
                                    "6": "13"
                                },
                                {
                                    "0": "10323",
                                    "1": "39",
                                    "2": "4.88",
                                    "3": "114",
                                    "4": "114",
                                    "5": "101",
                                    "6": "13"
                                },
                                {
                                    "0": "10488",
                                    "1": "25",
                                    "2": "4.93",
                                    "3": "115",
                                    "4": "115",
                                    "5": "102",
                                    "6": "13"
                                },
                                {
                                    "0": "10467",
                                    "1": "49",
                                    "2": "4.93",
                                    "3": "116",
                                    "4": "115",
                                    "5": "102",
                                    "6": "13"
                                },
                                {
                                    "0": "10710",
                                    "1": "27",
                                    "2": "4.98",
                                    "3": "117",
                                    "4": "117",
                                    "5": "103",
                                    "6": "13"
                                },
                                {
                                    "0": "10959",
                                    "1": "31",
                                    "2": "4.98",
                                    "3": "118",
                                    "4": "117",
                                    "5": "103",
                                    "6": "14"
                                },
                                {
                                    "0": "10886",
                                    "1": "34",
                                    "2": "4.99",
                                    "3": "119",
                                    "4": "119",
                                    "5": "104",
                                    "6": "14"
                                },
                                {
                                    "0": "10508",
                                    "1": "56",
                                    "2": "4.99",
                                    "3": "120",
                                    "4": "119",
                                    "5": "104",
                                    "6": "14"
                                },
                                {
                                    "0": "10594",
                                    "1": "55",
                                    "2": "5.24",
                                    "3": "121",
                                    "4": "121",
                                    "5": "105",
                                    "6": "14"
                                },
                                {
                                    "0": "10489",
                                    "1": "59",
                                    "2": "5.29",
                                    "3": "122",
                                    "4": "122",
                                    "5": "106",
                                    "6": "14"
                                },
                                {
                                    "0": "10770",
                                    "1": "34",
                                    "2": "5.32",
                                    "3": "123",
                                    "4": "123",
                                    "5": "107",
                                    "6": "14"
                                },
                                {
                                    "0": "10378",
                                    "1": "24",
                                    "2": "5.44",
                                    "3": "124",
                                    "4": "124",
                                    "5": "108",
                                    "6": "14"
                                },
                                {
                                    "0": "10391",
                                    "1": "17",
                                    "2": "5.45",
                                    "3": "125",
                                    "4": "125",
                                    "5": "109",
                                    "6": "14"
                                },
                                {
                                    "0": "10885",
                                    "1": "76",
                                    "2": "5.64",
                                    "3": "126",
                                    "4": "126",
                                    "5": "110",
                                    "6": "14"
                                },
                                {
                                    "0": "10297",
                                    "1": "7",
                                    "2": "5.74",
                                    "3": "127",
                                    "4": "127",
                                    "5": "111",
                                    "6": "15"
                                },
                                {
                                    "0": "10274",
                                    "1": "85",
                                    "2": "6.01",
                                    "3": "128",
                                    "4": "128",
                                    "5": "112",
                                    "6": "15"
                                },
                                {
                                    "0": "10462",
                                    "1": "16",
                                    "2": "6.17",
                                    "3": "129",
                                    "4": "129",
                                    "5": "113",
                                    "6": "15"
                                },
                                {
                                    "0": "11075",
                                    "1": "68",
                                    "2": "6.19",
                                    "3": "130",
                                    "4": "130",
                                    "5": "114",
                                    "6": "15"
                                },
                                {
                                    "0": "10649",
                                    "1": "50",
                                    "2": "6.20",
                                    "3": "131",
                                    "4": "131",
                                    "5": "115",
                                    "6": "15"
                                },
                                {
                                    "0": "10302",
                                    "1": "76",
                                    "2": "6.27",
                                    "3": "132",
                                    "4": "132",
                                    "5": "116",
                                    "6": "15"
                                },
                                {
                                    "0": "11022",
                                    "1": "34",
                                    "2": "6.27",
                                    "3": "133",
                                    "4": "132",
                                    "5": "116",
                                    "6": "15"
                                },
                                {
                                    "0": "10291",
                                    "1": "61",
                                    "2": "6.40",
                                    "3": "134",
                                    "4": "134",
                                    "5": "117",
                                    "6": "15"
                                },
                                {
                                    "0": "10568",
                                    "1": "29",
                                    "2": "6.54",
                                    "3": "135",
                                    "4": "135",
                                    "5": "118",
                                    "6": "15"
                                },
                                {
                                    "0": "10778",
                                    "1": "5",
                                    "2": "6.79",
                                    "3": "136",
                                    "4": "136",
                                    "5": "119",
                                    "6": "16"
                                },
                                {
                                    "0": "10484",
                                    "1": "11",
                                    "2": "6.88",
                                    "3": "137",
                                    "4": "137",
                                    "5": "120",
                                    "6": "16"
                                },
                                {
                                    "0": "10822",
                                    "1": "82",
                                    "2": "7.00",
                                    "3": "138",
                                    "4": "138",
                                    "5": "121",
                                    "6": "16"
                                },
                                {
                                    "0": "10826",
                                    "1": "7",
                                    "2": "7.09",
                                    "3": "139",
                                    "4": "139",
                                    "5": "122",
                                    "6": "16"
                                },
                                {
                                    "0": "10505",
                                    "1": "51",
                                    "2": "7.13",
                                    "3": "140",
                                    "4": "140",
                                    "5": "123",
                                    "6": "16"
                                },
                                {
                                    "0": "10652",
                                    "1": "31",
                                    "2": "7.14",
                                    "3": "141",
                                    "4": "141",
                                    "5": "124",
                                    "6": "16"
                                },
                                {
                                    "0": "10565",
                                    "1": "51",
                                    "2": "7.15",
                                    "3": "142",
                                    "4": "142",
                                    "5": "125",
                                    "6": "16"
                                },
                                {
                                    "0": "10450",
                                    "1": "84",
                                    "2": "7.23",
                                    "3": "143",
                                    "4": "143",
                                    "5": "126",
                                    "6": "16"
                                },
                                {
                                    "0": "10583",
                                    "1": "87",
                                    "2": "7.28",
                                    "3": "144",
                                    "4": "144",
                                    "5": "127",
                                    "6": "16"
                                },
                                {
                                    "0": "10288",
                                    "1": "66",
                                    "2": "7.45",
                                    "3": "145",
                                    "4": "145",
                                    "5": "128",
                                    "6": "17"
                                },
                                {
                                    "0": "10604",
                                    "1": "28",
                                    "2": "7.46",
                                    "3": "146",
                                    "4": "146",
                                    "5": "129",
                                    "6": "17"
                                },
                                {
                                    "0": "10482",
                                    "1": "43",
                                    "2": "7.48",
                                    "3": "147",
                                    "4": "147",
                                    "5": "130",
                                    "6": "17"
                                },
                                {
                                    "0": "10306",
                                    "1": "69",
                                    "2": "7.56",
                                    "3": "148",
                                    "4": "148",
                                    "5": "131",
                                    "6": "17"
                                },
                                {
                                    "0": "10753",
                                    "1": "27",
                                    "2": "7.70",
                                    "3": "149",
                                    "4": "149",
                                    "5": "132",
                                    "6": "17"
                                },
                                {
                                    "0": "10737",
                                    "1": "85",
                                    "2": "7.79",
                                    "3": "150",
                                    "4": "150",
                                    "5": "133",
                                    "6": "17"
                                },
                                {
                                    "0": "10425",
                                    "1": "41",
                                    "2": "7.93",
                                    "3": "151",
                                    "4": "151",
                                    "5": "134",
                                    "6": "17"
                                },
                                {
                                    "0": "11067",
                                    "1": "17",
                                    "2": "7.98",
                                    "3": "152",
                                    "4": "152",
                                    "5": "135",
                                    "6": "17"
                                },
                                {
                                    "0": "10381",
                                    "1": "46",
                                    "2": "7.99",
                                    "3": "153",
                                    "4": "153",
                                    "5": "136",
                                    "6": "17"
                                },
                                {
                                    "0": "10559",
                                    "1": "7",
                                    "2": "8.05",
                                    "3": "154",
                                    "4": "154",
                                    "5": "137",
                                    "6": "18"
                                },
                                {
                                    "0": "10613",
                                    "1": "35",
                                    "2": "8.11",
                                    "3": "155",
                                    "4": "155",
                                    "5": "138",
                                    "6": "18"
                                },
                                {
                                    "0": "10531",
                                    "1": "54",
                                    "2": "8.12",
                                    "3": "156",
                                    "4": "156",
                                    "5": "139",
                                    "6": "18"
                                },
                                {
                                    "0": "10456",
                                    "1": "39",
                                    "2": "8.12",
                                    "3": "157",
                                    "4": "156",
                                    "5": "139",
                                    "6": "18"
                                },
                                {
                                    "0": "10757",
                                    "1": "71",
                                    "2": "8.19",
                                    "3": "158",
                                    "4": "158",
                                    "5": "140",
                                    "6": "18"
                                },
                                {
                                    "0": "10438",
                                    "1": "79",
                                    "2": "8.24",
                                    "3": "159",
                                    "4": "159",
                                    "5": "141",
                                    "6": "18"
                                },
                                {
                                    "0": "10917",
                                    "1": "69",
                                    "2": "8.29",
                                    "3": "160",
                                    "4": "160",
                                    "5": "142",
                                    "6": "18"
                                },
                                {
                                    "0": "11049",
                                    "1": "31",
                                    "2": "8.34",
                                    "3": "161",
                                    "4": "161",
                                    "5": "143",
                                    "6": "18"
                                },
                                {
                                    "0": "10879",
                                    "1": "90",
                                    "2": "8.50",
                                    "3": "162",
                                    "4": "162",
                                    "5": "144",
                                    "6": "18"
                                },
                                {
                                    "0": "11077",
                                    "1": "65",
                                    "2": "8.53",
                                    "3": "163",
                                    "4": "163",
                                    "5": "145",
                                    "6": "19"
                                },
                                {
                                    "0": "10334",
                                    "1": "84",
                                    "2": "8.56",
                                    "3": "164",
                                    "4": "164",
                                    "5": "146",
                                    "6": "19"
                                },
                                {
                                    "0": "10349",
                                    "1": "75",
                                    "2": "8.63",
                                    "3": "165",
                                    "4": "165",
                                    "5": "147",
                                    "6": "19"
                                },
                                {
                                    "0": "11044",
                                    "1": "91",
                                    "2": "8.72",
                                    "3": "166",
                                    "4": "166",
                                    "5": "148",
                                    "6": "19"
                                },
                                {
                                    "0": "11043",
                                    "1": "74",
                                    "2": "8.80",
                                    "3": "167",
                                    "4": "167",
                                    "5": "149",
                                    "6": "19"
                                },
                                {
                                    "0": "10993",
                                    "1": "24",
                                    "2": "8.81",
                                    "3": "168",
                                    "4": "168",
                                    "5": "150",
                                    "6": "19"
                                },
                                {
                                    "0": "10501",
                                    "1": "6",
                                    "2": "8.85",
                                    "3": "169",
                                    "4": "169",
                                    "5": "151",
                                    "6": "19"
                                },
                                {
                                    "0": "10280",
                                    "1": "5",
                                    "2": "8.98",
                                    "3": "170",
                                    "4": "170",
                                    "5": "152",
                                    "6": "19"
                                },
                                {
                                    "0": "10907",
                                    "1": "74",
                                    "2": "9.19",
                                    "3": "171",
                                    "4": "171",
                                    "5": "153",
                                    "6": "19"
                                },
                                {
                                    "0": "10435",
                                    "1": "16",
                                    "2": "9.21",
                                    "3": "172",
                                    "4": "172",
                                    "5": "154",
                                    "6": "20"
                                },
                                {
                                    "0": "10843",
                                    "1": "84",
                                    "2": "9.26",
                                    "3": "173",
                                    "4": "173",
                                    "5": "155",
                                    "6": "20"
                                },
                                {
                                    "0": "10445",
                                    "1": "5",
                                    "2": "9.30",
                                    "3": "174",
                                    "4": "174",
                                    "5": "156",
                                    "6": "20"
                                },
                                {
                                    "0": "10720",
                                    "1": "61",
                                    "2": "9.53",
                                    "3": "175",
                                    "4": "175",
                                    "5": "157",
                                    "6": "20"
                                },
                                {
                                    "0": "10556",
                                    "1": "73",
                                    "2": "9.80",
                                    "3": "176",
                                    "4": "176",
                                    "5": "158",
                                    "6": "20"
                                },
                                {
                                    "0": "10366",
                                    "1": "29",
                                    "2": "10.14",
                                    "3": "177",
                                    "4": "177",
                                    "5": "159",
                                    "6": "20"
                                },
                                {
                                    "0": "10331",
                                    "1": "9",
                                    "2": "10.19",
                                    "3": "178",
                                    "4": "178",
                                    "5": "160",
                                    "6": "20"
                                },
                                {
                                    "0": "10945",
                                    "1": "52",
                                    "2": "10.22",
                                    "3": "179",
                                    "4": "179",
                                    "5": "161",
                                    "6": "20"
                                },
                                {
                                    "0": "10493",
                                    "1": "41",
                                    "2": "10.64",
                                    "3": "180",
                                    "4": "180",
                                    "5": "162",
                                    "6": "20"
                                },
                                {
                                    "0": "10725",
                                    "1": "21",
                                    "2": "10.83",
                                    "3": "181",
                                    "4": "181",
                                    "5": "163",
                                    "6": "21"
                                },
                                {
                                    "0": "10542",
                                    "1": "39",
                                    "2": "10.95",
                                    "3": "182",
                                    "4": "182",
                                    "5": "164",
                                    "6": "21"
                                },
                                {
                                    "0": "10741",
                                    "1": "4",
                                    "2": "10.96",
                                    "3": "183",
                                    "4": "183",
                                    "5": "165",
                                    "6": "21"
                                },
                                {
                                    "0": "11060",
                                    "1": "27",
                                    "2": "10.98",
                                    "3": "184",
                                    "4": "184",
                                    "5": "166",
                                    "6": "21"
                                },
                                {
                                    "0": "10525",
                                    "1": "9",
                                    "2": "11.06",
                                    "3": "185",
                                    "4": "185",
                                    "5": "167",
                                    "6": "21"
                                },
                                {
                                    "0": "10739",
                                    "1": "85",
                                    "2": "11.08",
                                    "3": "186",
                                    "4": "186",
                                    "5": "168",
                                    "6": "21"
                                },
                                {
                                    "0": "10428",
                                    "1": "66",
                                    "2": "11.09",
                                    "3": "187",
                                    "4": "187",
                                    "5": "169",
                                    "6": "21"
                                },
                                {
                                    "0": "10771",
                                    "1": "20",
                                    "2": "11.19",
                                    "3": "188",
                                    "4": "188",
                                    "5": "170",
                                    "6": "21"
                                },
                                {
                                    "0": "10408",
                                    "1": "23",
                                    "2": "11.26",
                                    "3": "189",
                                    "4": "189",
                                    "5": "171",
                                    "6": "21"
                                },
                                {
                                    "0": "10457",
                                    "1": "39",
                                    "2": "11.57",
                                    "3": "190",
                                    "4": "190",
                                    "5": "172",
                                    "6": "22"
                                },
                                {
                                    "0": "10249",
                                    "1": "79",
                                    "2": "11.61",
                                    "3": "191",
                                    "4": "191",
                                    "5": "173",
                                    "6": "22"
                                },
                                {
                                    "0": "11018",
                                    "1": "48",
                                    "2": "11.65",
                                    "3": "192",
                                    "4": "192",
                                    "5": "174",
                                    "6": "22"
                                },
                                {
                                    "0": "10545",
                                    "1": "43",
                                    "2": "11.92",
                                    "3": "193",
                                    "4": "193",
                                    "5": "175",
                                    "6": "22"
                                },
                                {
                                    "0": "10466",
                                    "1": "15",
                                    "2": "11.93",
                                    "3": "194",
                                    "4": "194",
                                    "5": "176",
                                    "6": "22"
                                },
                                {
                                    "0": "10759",
                                    "1": "2",
                                    "2": "11.99",
                                    "3": "195",
                                    "4": "195",
                                    "5": "177",
                                    "6": "22"
                                },
                                {
                                    "0": "10870",
                                    "1": "91",
                                    "2": "12.04",
                                    "3": "196",
                                    "4": "196",
                                    "5": "178",
                                    "6": "22"
                                },
                                {
                                    "0": "10539",
                                    "1": "11",
                                    "2": "12.36",
                                    "3": "197",
                                    "4": "197",
                                    "5": "179",
                                    "6": "22"
                                },
                                {
                                    "0": "10645",
                                    "1": "34",
                                    "2": "12.41",
                                    "3": "198",
                                    "4": "198",
                                    "5": "180",
                                    "6": "22"
                                },
                                {
                                    "0": "10401",
                                    "1": "65",
                                    "2": "12.51",
                                    "3": "199",
                                    "4": "199",
                                    "5": "181",
                                    "6": "23"
                                },
                                {
                                    "0": "10282",
                                    "1": "69",
                                    "2": "12.69",
                                    "3": "200",
                                    "4": "200",
                                    "5": "182",
                                    "6": "23"
                                },
                                {
                                    "0": "10317",
                                    "1": "48",
                                    "2": "12.69",
                                    "3": "201",
                                    "4": "200",
                                    "5": "182",
                                    "6": "23"
                                },
                                {
                                    "0": "10330",
                                    "1": "46",
                                    "2": "12.75",
                                    "3": "202",
                                    "4": "202",
                                    "5": "183",
                                    "6": "23"
                                },
                                {
                                    "0": "10287",
                                    "1": "67",
                                    "2": "12.76",
                                    "3": "203",
                                    "4": "203",
                                    "5": "184",
                                    "6": "23"
                                },
                                {
                                    "0": "11065",
                                    "1": "46",
                                    "2": "12.91",
                                    "3": "204",
                                    "4": "204",
                                    "5": "185",
                                    "6": "23"
                                },
                                {
                                    "0": "10974",
                                    "1": "75",
                                    "2": "12.96",
                                    "3": "205",
                                    "4": "205",
                                    "5": "186",
                                    "6": "23"
                                },
                                {
                                    "0": "10477",
                                    "1": "60",
                                    "2": "13.02",
                                    "3": "206",
                                    "4": "206",
                                    "5": "187",
                                    "6": "23"
                                },
                                {
                                    "0": "10837",
                                    "1": "5",
                                    "2": "13.32",
                                    "3": "207",
                                    "4": "207",
                                    "5": "188",
                                    "6": "23"
                                },
                                {
                                    "0": "10520",
                                    "1": "70",
                                    "2": "13.37",
                                    "3": "208",
                                    "4": "208",
                                    "5": "189",
                                    "6": "24"
                                },
                                {
                                    "0": "10585",
                                    "1": "88",
                                    "2": "13.41",
                                    "3": "209",
                                    "4": "209",
                                    "5": "190",
                                    "6": "24"
                                },
                                {
                                    "0": "10689",
                                    "1": "5",
                                    "2": "13.42",
                                    "3": "210",
                                    "4": "210",
                                    "5": "191",
                                    "6": "24"
                                },
                                {
                                    "0": "10367",
                                    "1": "83",
                                    "2": "13.55",
                                    "3": "211",
                                    "4": "211",
                                    "5": "192",
                                    "6": "24"
                                },
                                {
                                    "0": "10931",
                                    "1": "68",
                                    "2": "13.60",
                                    "3": "212",
                                    "4": "212",
                                    "5": "193",
                                    "6": "24"
                                },
                                {
                                    "0": "10905",
                                    "1": "88",
                                    "2": "13.72",
                                    "3": "213",
                                    "4": "213",
                                    "5": "194",
                                    "6": "24"
                                },
                                {
                                    "0": "10579",
                                    "1": "45",
                                    "2": "13.73",
                                    "3": "214",
                                    "4": "214",
                                    "5": "195",
                                    "6": "24"
                                },
                                {
                                    "0": "10564",
                                    "1": "65",
                                    "2": "13.75",
                                    "3": "215",
                                    "4": "215",
                                    "5": "196",
                                    "6": "24"
                                },
                                {
                                    "0": "10276",
                                    "1": "80",
                                    "2": "13.84",
                                    "3": "216",
                                    "4": "216",
                                    "5": "197",
                                    "6": "24"
                                },
                                {
                                    "0": "10443",
                                    "1": "66",
                                    "2": "13.95",
                                    "3": "217",
                                    "4": "217",
                                    "5": "198",
                                    "6": "25"
                                },
                                {
                                    "0": "10256",
                                    "1": "88",
                                    "2": "13.97",
                                    "3": "218",
                                    "4": "218",
                                    "5": "199",
                                    "6": "25"
                                },
                                {
                                    "0": "10386",
                                    "1": "21",
                                    "2": "13.99",
                                    "3": "219",
                                    "4": "219",
                                    "5": "200",
                                    "6": "25"
                                },
                                {
                                    "0": "10982",
                                    "1": "10",
                                    "2": "14.01",
                                    "3": "220",
                                    "4": "220",
                                    "5": "201",
                                    "6": "25"
                                },
                                {
                                    "0": "11061",
                                    "1": "32",
                                    "2": "14.01",
                                    "3": "221",
                                    "4": "220",
                                    "5": "201",
                                    "6": "25"
                                },
                                {
                                    "0": "10648",
                                    "1": "67",
                                    "2": "14.25",
                                    "3": "222",
                                    "4": "222",
                                    "5": "202",
                                    "6": "25"
                                },
                                {
                                    "0": "10815",
                                    "1": "71",
                                    "2": "14.62",
                                    "3": "223",
                                    "4": "223",
                                    "5": "203",
                                    "6": "25"
                                },
                                {
                                    "0": "10446",
                                    "1": "79",
                                    "2": "14.68",
                                    "3": "224",
                                    "4": "224",
                                    "5": "204",
                                    "6": "25"
                                },
                                {
                                    "0": "10463",
                                    "1": "76",
                                    "2": "14.78",
                                    "3": "225",
                                    "4": "225",
                                    "5": "205",
                                    "6": "25"
                                },
                                {
                                    "0": "11003",
                                    "1": "78",
                                    "2": "14.91",
                                    "3": "226",
                                    "4": "226",
                                    "5": "206",
                                    "6": "26"
                                },
                                {
                                    "0": "10861",
                                    "1": "89",
                                    "2": "14.93",
                                    "3": "227",
                                    "4": "227",
                                    "5": "207",
                                    "6": "26"
                                },
                                {
                                    "0": "10973",
                                    "1": "40",
                                    "2": "15.17",
                                    "3": "228",
                                    "4": "228",
                                    "5": "208",
                                    "6": "26"
                                },
                                {
                                    "0": "10483",
                                    "1": "89",
                                    "2": "15.28",
                                    "3": "229",
                                    "4": "229",
                                    "5": "209",
                                    "6": "26"
                                },
                                {
                                    "0": "10336",
                                    "1": "60",
                                    "2": "15.51",
                                    "3": "230",
                                    "4": "230",
                                    "5": "210",
                                    "6": "26"
                                },
                                {
                                    "0": "10930",
                                    "1": "76",
                                    "2": "15.55",
                                    "3": "231",
                                    "4": "231",
                                    "5": "211",
                                    "6": "26"
                                },
                                {
                                    "0": "10535",
                                    "1": "3",
                                    "2": "15.64",
                                    "3": "232",
                                    "4": "232",
                                    "5": "212",
                                    "6": "26"
                                },
                                {
                                    "0": "10339",
                                    "1": "51",
                                    "2": "15.66",
                                    "3": "233",
                                    "4": "233",
                                    "5": "213",
                                    "6": "26"
                                },
                                {
                                    "0": "11069",
                                    "1": "80",
                                    "2": "15.67",
                                    "3": "234",
                                    "4": "234",
                                    "5": "214",
                                    "6": "26"
                                },
                                {
                                    "0": "10690",
                                    "1": "34",
                                    "2": "15.80",
                                    "3": "235",
                                    "4": "235",
                                    "5": "215",
                                    "6": "27"
                                },
                                {
                                    "0": "10970",
                                    "1": "8",
                                    "2": "16.16",
                                    "3": "236",
                                    "4": "236",
                                    "5": "216",
                                    "6": "27"
                                },
                                {
                                    "0": "10460",
                                    "1": "24",
                                    "2": "16.27",
                                    "3": "237",
                                    "4": "237",
                                    "5": "217",
                                    "6": "27"
                                },
                                {
                                    "0": "10596",
                                    "1": "89",
                                    "2": "16.34",
                                    "3": "238",
                                    "4": "238",
                                    "5": "218",
                                    "6": "27"
                                },
                                {
                                    "0": "10473",
                                    "1": "38",
                                    "2": "16.37",
                                    "3": "239",
                                    "4": "239",
                                    "5": "219",
                                    "6": "27"
                                },
                                {
                                    "0": "10726",
                                    "1": "19",
                                    "2": "16.56",
                                    "3": "240",
                                    "4": "240",
                                    "5": "220",
                                    "6": "27"
                                },
                                {
                                    "0": "10755",
                                    "1": "9",
                                    "2": "16.71",
                                    "3": "241",
                                    "4": "241",
                                    "5": "221",
                                    "6": "27"
                                },
                                {
                                    "0": "10695",
                                    "1": "90",
                                    "2": "16.72",
                                    "3": "242",
                                    "4": "242",
                                    "5": "222",
                                    "6": "27"
                                },
                                {
                                    "0": "10503",
                                    "1": "37",
                                    "2": "16.74",
                                    "3": "243",
                                    "4": "243",
                                    "5": "223",
                                    "6": "27"
                                },
                                {
                                    "0": "10791",
                                    "1": "25",
                                    "2": "16.85",
                                    "3": "244",
                                    "4": "244",
                                    "5": "224",
                                    "6": "28"
                                },
                                {
                                    "0": "10491",
                                    "1": "28",
                                    "2": "16.96",
                                    "3": "245",
                                    "4": "245",
                                    "5": "225",
                                    "6": "28"
                                },
                                {
                                    "0": "10732",
                                    "1": "9",
                                    "2": "16.97",
                                    "3": "246",
                                    "4": "246",
                                    "5": "226",
                                    "6": "28"
                                },
                                {
                                    "0": "10521",
                                    "1": "12",
                                    "2": "17.22",
                                    "3": "247",
                                    "4": "247",
                                    "5": "227",
                                    "6": "28"
                                },
                                {
                                    "0": "10310",
                                    "1": "77",
                                    "2": "17.52",
                                    "3": "248",
                                    "4": "248",
                                    "5": "228",
                                    "6": "28"
                                },
                                {
                                    "0": "10418",
                                    "1": "63",
                                    "2": "17.55",
                                    "3": "249",
                                    "4": "249",
                                    "5": "229",
                                    "6": "28"
                                },
                                {
                                    "0": "10661",
                                    "1": "37",
                                    "2": "17.55",
                                    "3": "250",
                                    "4": "249",
                                    "5": "229",
                                    "6": "28"
                                },
                                {
                                    "0": "10300",
                                    "1": "49",
                                    "2": "17.68",
                                    "3": "251",
                                    "4": "251",
                                    "5": "230",
                                    "6": "28"
                                },
                                {
                                    "0": "10434",
                                    "1": "24",
                                    "2": "17.92",
                                    "3": "252",
                                    "4": "252",
                                    "5": "231",
                                    "6": "28"
                                },
                                {
                                    "0": "10942",
                                    "1": "66",
                                    "2": "17.95",
                                    "3": "253",
                                    "4": "253",
                                    "5": "232",
                                    "6": "29"
                                },
                                {
                                    "0": "11074",
                                    "1": "73",
                                    "2": "18.44",
                                    "3": "254",
                                    "4": "254",
                                    "5": "233",
                                    "6": "29"
                                },
                                {
                                    "0": "10617",
                                    "1": "32",
                                    "2": "18.53",
                                    "3": "255",
                                    "4": "255",
                                    "5": "234",
                                    "6": "29"
                                },
                                {
                                    "0": "10576",
                                    "1": "80",
                                    "2": "18.56",
                                    "3": "256",
                                    "4": "256",
                                    "5": "235",
                                    "6": "29"
                                },
                                {
                                    "0": "10761",
                                    "1": "65",
                                    "2": "18.66",
                                    "3": "257",
                                    "4": "257",
                                    "5": "236",
                                    "6": "29"
                                },
                                {
                                    "0": "10426",
                                    "1": "29",
                                    "2": "18.69",
                                    "3": "258",
                                    "4": "258",
                                    "5": "237",
                                    "6": "29"
                                },
                                {
                                    "0": "11040",
                                    "1": "32",
                                    "2": "18.84",
                                    "3": "259",
                                    "4": "259",
                                    "5": "238",
                                    "6": "29"
                                },
                                {
                                    "0": "10860",
                                    "1": "26",
                                    "2": "19.26",
                                    "3": "260",
                                    "4": "260",
                                    "5": "239",
                                    "6": "29"
                                },
                                {
                                    "0": "10874",
                                    "1": "30",
                                    "2": "19.58",
                                    "3": "261",
                                    "4": "261",
                                    "5": "240",
                                    "6": "29"
                                },
                                {
                                    "0": "10358",
                                    "1": "41",
                                    "2": "19.64",
                                    "3": "262",
                                    "4": "262",
                                    "5": "241",
                                    "6": "30"
                                },
                                {
                                    "0": "10819",
                                    "1": "12",
                                    "2": "19.76",
                                    "3": "263",
                                    "4": "263",
                                    "5": "242",
                                    "6": "30"
                                },
                                {
                                    "0": "10940",
                                    "1": "9",
                                    "2": "19.77",
                                    "3": "264",
                                    "4": "264",
                                    "5": "243",
                                    "6": "30"
                                },
                                {
                                    "0": "10927",
                                    "1": "40",
                                    "2": "19.79",
                                    "3": "265",
                                    "4": "265",
                                    "5": "244",
                                    "6": "30"
                                },
                                {
                                    "0": "10919",
                                    "1": "47",
                                    "2": "19.80",
                                    "3": "266",
                                    "4": "266",
                                    "5": "245",
                                    "6": "30"
                                },
                                {
                                    "0": "10437",
                                    "1": "87",
                                    "2": "19.97",
                                    "3": "267",
                                    "4": "267",
                                    "5": "246",
                                    "6": "30"
                                },
                                {
                                    "0": "10375",
                                    "1": "36",
                                    "2": "20.12",
                                    "3": "268",
                                    "4": "268",
                                    "5": "247",
                                    "6": "30"
                                },
                                {
                                    "0": "10730",
                                    "1": "9",
                                    "2": "20.12",
                                    "3": "269",
                                    "4": "268",
                                    "5": "247",
                                    "6": "30"
                                },
                                {
                                    "0": "10775",
                                    "1": "78",
                                    "2": "20.25",
                                    "3": "270",
                                    "4": "270",
                                    "5": "248",
                                    "6": "30"
                                },
                                {
                                    "0": "10998",
                                    "1": "91",
                                    "2": "20.31",
                                    "3": "271",
                                    "4": "271",
                                    "5": "249",
                                    "6": "31"
                                },
                                {
                                    "0": "10891",
                                    "1": "44",
                                    "2": "20.37",
                                    "3": "272",
                                    "4": "272",
                                    "5": "250",
                                    "6": "31"
                                },
                                {
                                    "0": "10376",
                                    "1": "51",
                                    "2": "20.39",
                                    "3": "273",
                                    "4": "273",
                                    "5": "251",
                                    "6": "31"
                                },
                                {
                                    "0": "10651",
                                    "1": "86",
                                    "2": "20.60",
                                    "3": "274",
                                    "4": "274",
                                    "5": "252",
                                    "6": "31"
                                },
                                {
                                    "0": "10293",
                                    "1": "80",
                                    "2": "21.18",
                                    "3": "275",
                                    "4": "275",
                                    "5": "253",
                                    "6": "31"
                                },
                                {
                                    "0": "10506",
                                    "1": "39",
                                    "2": "21.19",
                                    "3": "276",
                                    "4": "276",
                                    "5": "254",
                                    "6": "31"
                                },
                                {
                                    "0": "10914",
                                    "1": "62",
                                    "2": "21.19",
                                    "3": "277",
                                    "4": "276",
                                    "5": "254",
                                    "6": "31"
                                },
                                {
                                    "0": "10414",
                                    "1": "21",
                                    "2": "21.48",
                                    "3": "278",
                                    "4": "278",
                                    "5": "255",
                                    "6": "31"
                                },
                                {
                                    "0": "10794",
                                    "1": "61",
                                    "2": "21.49",
                                    "3": "279",
                                    "4": "279",
                                    "5": "256",
                                    "6": "32"
                                },
                                {
                                    "0": "10723",
                                    "1": "89",
                                    "2": "21.72",
                                    "3": "280",
                                    "4": "280",
                                    "5": "257",
                                    "6": "32"
                                },
                                {
                                    "0": "10707",
                                    "1": "4",
                                    "2": "21.74",
                                    "3": "281",
                                    "4": "281",
                                    "5": "258",
                                    "6": "32"
                                },
                                {
                                    "0": "10365",
                                    "1": "3",
                                    "2": "22.00",
                                    "3": "282",
                                    "4": "282",
                                    "5": "259",
                                    "6": "32"
                                },
                                {
                                    "0": "10806",
                                    "1": "84",
                                    "2": "22.11",
                                    "3": "283",
                                    "4": "283",
                                    "5": "260",
                                    "6": "32"
                                },
                                {
                                    "0": "10377",
                                    "1": "72",
                                    "2": "22.21",
                                    "3": "284",
                                    "4": "284",
                                    "5": "261",
                                    "6": "32"
                                },
                                {
                                    "0": "10716",
                                    "1": "64",
                                    "2": "22.57",
                                    "3": "285",
                                    "4": "285",
                                    "5": "262",
                                    "6": "32"
                                },
                                {
                                    "0": "10416",
                                    "1": "87",
                                    "2": "22.72",
                                    "3": "286",
                                    "4": "286",
                                    "5": "263",
                                    "6": "32"
                                },
                                {
                                    "0": "10673",
                                    "1": "90",
                                    "2": "22.76",
                                    "3": "287",
                                    "4": "287",
                                    "5": "264",
                                    "6": "33"
                                },
                                {
                                    "0": "10289",
                                    "1": "11",
                                    "2": "22.77",
                                    "3": "288",
                                    "4": "288",
                                    "5": "265",
                                    "6": "33"
                                },
                                {
                                    "0": "10562",
                                    "1": "66",
                                    "2": "22.95",
                                    "3": "289",
                                    "4": "289",
                                    "5": "266",
                                    "6": "33"
                                },
                                {
                                    "0": "10254",
                                    "1": "14",
                                    "2": "22.98",
                                    "3": "290",
                                    "4": "290",
                                    "5": "267",
                                    "6": "33"
                                },
                                {
                                    "0": "10882",
                                    "1": "71",
                                    "2": "23.10",
                                    "3": "291",
                                    "4": "291",
                                    "5": "268",
                                    "6": "33"
                                },
                                {
                                    "0": "10344",
                                    "1": "89",
                                    "2": "23.29",
                                    "3": "292",
                                    "4": "292",
                                    "5": "269",
                                    "6": "33"
                                },
                                {
                                    "0": "10948",
                                    "1": "30",
                                    "2": "23.39",
                                    "3": "293",
                                    "4": "293",
                                    "5": "270",
                                    "6": "33"
                                },
                                {
                                    "0": "10640",
                                    "1": "86",
                                    "2": "23.55",
                                    "3": "294",
                                    "4": "294",
                                    "5": "271",
                                    "6": "33"
                                },
                                {
                                    "0": "11014",
                                    "1": "47",
                                    "2": "23.60",
                                    "3": "295",
                                    "4": "295",
                                    "5": "272",
                                    "6": "34"
                                },
                                {
                                    "0": "10411",
                                    "1": "10",
                                    "2": "23.65",
                                    "3": "296",
                                    "4": "296",
                                    "5": "273",
                                    "6": "34"
                                },
                                {
                                    "0": "10743",
                                    "1": "4",
                                    "2": "23.72",
                                    "3": "297",
                                    "4": "297",
                                    "5": "274",
                                    "6": "34"
                                },
                                {
                                    "0": "10953",
                                    "1": "4",
                                    "2": "23.72",
                                    "3": "298",
                                    "4": "297",
                                    "5": "274",
                                    "6": "34"
                                },
                                {
                                    "0": "10621",
                                    "1": "38",
                                    "2": "23.73",
                                    "3": "299",
                                    "4": "299",
                                    "5": "275",
                                    "6": "34"
                                },
                                {
                                    "0": "10792",
                                    "1": "91",
                                    "2": "23.79",
                                    "3": "300",
                                    "4": "300",
                                    "5": "276",
                                    "6": "34"
                                },
                                {
                                    "0": "10702",
                                    "1": "1",
                                    "2": "23.94",
                                    "3": "301",
                                    "4": "301",
                                    "5": "277",
                                    "6": "34"
                                },
                                {
                                    "0": "11048",
                                    "1": "10",
                                    "2": "24.12",
                                    "3": "302",
                                    "4": "302",
                                    "5": "278",
                                    "6": "34"
                                },
                                {
                                    "0": "10669",
                                    "1": "73",
                                    "2": "24.39",
                                    "3": "303",
                                    "4": "303",
                                    "5": "279",
                                    "6": "35"
                                },
                                {
                                    "0": "10714",
                                    "1": "71",
                                    "2": "24.49",
                                    "3": "304",
                                    "4": "304",
                                    "5": "280",
                                    "6": "35"
                                },
                                {
                                    "0": "10423",
                                    "1": "31",
                                    "2": "24.50",
                                    "3": "305",
                                    "4": "305",
                                    "5": "281",
                                    "6": "35"
                                },
                                {
                                    "0": "10311",
                                    "1": "18",
                                    "2": "24.69",
                                    "3": "306",
                                    "4": "306",
                                    "5": "282",
                                    "6": "35"
                                },
                                {
                                    "0": "10544",
                                    "1": "48",
                                    "2": "24.91",
                                    "3": "307",
                                    "4": "307",
                                    "5": "283",
                                    "6": "35"
                                },
                                {
                                    "0": "11073",
                                    "1": "58",
                                    "2": "24.95",
                                    "3": "308",
                                    "4": "308",
                                    "5": "284",
                                    "6": "35"
                                },
                                {
                                    "0": "10459",
                                    "1": "84",
                                    "2": "25.09",
                                    "3": "309",
                                    "4": "309",
                                    "5": "285",
                                    "6": "35"
                                },
                                {
                                    "0": "11006",
                                    "1": "32",
                                    "2": "25.19",
                                    "3": "310",
                                    "4": "310",
                                    "5": "286",
                                    "6": "35"
                                },
                                {
                                    "0": "10844",
                                    "1": "59",
                                    "2": "25.22",
                                    "3": "311",
                                    "4": "311",
                                    "5": "287",
                                    "6": "36"
                                },
                                {
                                    "0": "10453",
                                    "1": "4",
                                    "2": "25.36",
                                    "3": "312",
                                    "4": "312",
                                    "5": "288",
                                    "6": "36"
                                },
                                {
                                    "0": "10577",
                                    "1": "82",
                                    "2": "25.41",
                                    "3": "313",
                                    "4": "313",
                                    "5": "289",
                                    "6": "36"
                                },
                                {
                                    "0": "10266",
                                    "1": "87",
                                    "2": "25.73",
                                    "3": "314",
                                    "4": "314",
                                    "5": "290",
                                    "6": "36"
                                },
                                {
                                    "0": "10279",
                                    "1": "44",
                                    "2": "25.83",
                                    "3": "315",
                                    "4": "315",
                                    "5": "291",
                                    "6": "36"
                                },
                                {
                                    "0": "10571",
                                    "1": "20",
                                    "2": "26.06",
                                    "3": "316",
                                    "4": "316",
                                    "5": "292",
                                    "6": "36"
                                },
                                {
                                    "0": "10906",
                                    "1": "91",
                                    "2": "26.29",
                                    "3": "317",
                                    "4": "317",
                                    "5": "293",
                                    "6": "36"
                                },
                                {
                                    "0": "10665",
                                    "1": "48",
                                    "2": "26.31",
                                    "3": "318",
                                    "4": "318",
                                    "5": "294",
                                    "6": "36"
                                },
                                {
                                    "0": "10796",
                                    "1": "35",
                                    "2": "26.52",
                                    "3": "319",
                                    "4": "319",
                                    "5": "295",
                                    "6": "37"
                                },
                                {
                                    "0": "10680",
                                    "1": "55",
                                    "2": "26.61",
                                    "3": "320",
                                    "4": "320",
                                    "5": "296",
                                    "6": "37"
                                },
                                {
                                    "0": "10610",
                                    "1": "41",
                                    "2": "26.78",
                                    "3": "321",
                                    "4": "321",
                                    "5": "297",
                                    "6": "37"
                                },
                                {
                                    "0": "10341",
                                    "1": "73",
                                    "2": "26.78",
                                    "3": "322",
                                    "4": "321",
                                    "5": "297",
                                    "6": "37"
                                },
                                {
                                    "0": "10275",
                                    "1": "49",
                                    "2": "26.93",
                                    "3": "323",
                                    "4": "323",
                                    "5": "298",
                                    "6": "37"
                                },
                                {
                                    "0": "10966",
                                    "1": "14",
                                    "2": "27.19",
                                    "3": "324",
                                    "4": "324",
                                    "5": "299",
                                    "6": "37"
                                },
                                {
                                    "0": "10946",
                                    "1": "83",
                                    "2": "27.20",
                                    "3": "325",
                                    "4": "325",
                                    "5": "300",
                                    "6": "37"
                                },
                                {
                                    "0": "10804",
                                    "1": "72",
                                    "2": "27.33",
                                    "3": "326",
                                    "4": "326",
                                    "5": "301",
                                    "6": "37"
                                },
                                {
                                    "0": "10399",
                                    "1": "83",
                                    "2": "27.36",
                                    "3": "327",
                                    "4": "327",
                                    "5": "302",
                                    "6": "38"
                                },
                                {
                                    "0": "10582",
                                    "1": "6",
                                    "2": "27.71",
                                    "3": "328",
                                    "4": "328",
                                    "5": "303",
                                    "6": "38"
                                },
                                {
                                    "0": "10608",
                                    "1": "79",
                                    "2": "27.79",
                                    "3": "329",
                                    "4": "329",
                                    "5": "304",
                                    "6": "38"
                                },
                                {
                                    "0": "10954",
                                    "1": "47",
                                    "2": "27.91",
                                    "3": "330",
                                    "4": "330",
                                    "5": "305",
                                    "6": "38"
                                },
                                {
                                    "0": "10534",
                                    "1": "44",
                                    "2": "27.94",
                                    "3": "331",
                                    "4": "331",
                                    "5": "306",
                                    "6": "38"
                                },
                                {
                                    "0": "10679",
                                    "1": "7",
                                    "2": "27.94",
                                    "3": "332",
                                    "4": "331",
                                    "5": "306",
                                    "6": "38"
                                },
                                {
                                    "0": "10790",
                                    "1": "31",
                                    "2": "28.23",
                                    "3": "333",
                                    "4": "333",
                                    "5": "307",
                                    "6": "38"
                                },
                                {
                                    "0": "11010",
                                    "1": "66",
                                    "2": "28.71",
                                    "3": "334",
                                    "4": "334",
                                    "5": "308",
                                    "6": "38"
                                },
                                {
                                    "0": "11025",
                                    "1": "87",
                                    "2": "29.17",
                                    "3": "335",
                                    "4": "335",
                                    "5": "309",
                                    "6": "39"
                                },
                                {
                                    "0": "10643",
                                    "1": "1",
                                    "2": "29.46",
                                    "3": "336",
                                    "4": "336",
                                    "5": "310",
                                    "6": "39"
                                },
                                {
                                    "0": "11028",
                                    "1": "39",
                                    "2": "29.59",
                                    "3": "337",
                                    "4": "337",
                                    "5": "311",
                                    "6": "39"
                                },
                                {
                                    "0": "11038",
                                    "1": "76",
                                    "2": "29.59",
                                    "3": "338",
                                    "4": "337",
                                    "5": "311",
                                    "6": "39"
                                },
                                {
                                    "0": "10578",
                                    "1": "11",
                                    "2": "29.60",
                                    "3": "339",
                                    "4": "339",
                                    "5": "312",
                                    "6": "39"
                                },
                                {
                                    "0": "10920",
                                    "1": "4",
                                    "2": "29.61",
                                    "3": "340",
                                    "4": "340",
                                    "5": "313",
                                    "6": "39"
                                },
                                {
                                    "0": "10498",
                                    "1": "35",
                                    "2": "29.75",
                                    "3": "341",
                                    "4": "341",
                                    "5": "314",
                                    "6": "39"
                                },
                                {
                                    "0": "10299",
                                    "1": "67",
                                    "2": "29.76",
                                    "3": "342",
                                    "4": "342",
                                    "5": "315",
                                    "6": "39"
                                },
                                {
                                    "0": "10834",
                                    "1": "81",
                                    "2": "29.78",
                                    "3": "343",
                                    "4": "343",
                                    "5": "316",
                                    "6": "40"
                                },
                                {
                                    "0": "10409",
                                    "1": "54",
                                    "2": "29.83",
                                    "3": "344",
                                    "4": "344",
                                    "5": "317",
                                    "6": "40"
                                },
                                {
                                    "0": "11062",
                                    "1": "66",
                                    "2": "29.93",
                                    "3": "345",
                                    "4": "345",
                                    "5": "318",
                                    "6": "40"
                                },
                                {
                                    "0": "10599",
                                    "1": "11",
                                    "2": "29.98",
                                    "3": "346",
                                    "4": "346",
                                    "5": "319",
                                    "6": "40"
                                },
                                {
                                    "0": "11042",
                                    "1": "15",
                                    "2": "29.99",
                                    "3": "347",
                                    "4": "347",
                                    "5": "320",
                                    "6": "40"
                                },
                                {
                                    "0": "11064",
                                    "1": "71",
                                    "2": "30.09",
                                    "3": "348",
                                    "4": "348",
                                    "5": "321",
                                    "6": "40"
                                },
                                {
                                    "0": "10863",
                                    "1": "35",
                                    "2": "30.26",
                                    "3": "349",
                                    "4": "349",
                                    "5": "322",
                                    "6": "40"
                                },
                                {
                                    "0": "10671",
                                    "1": "26",
                                    "2": "30.34",
                                    "3": "350",
                                    "4": "350",
                                    "5": "323",
                                    "6": "40"
                                },
                                {
                                    "0": "10394",
                                    "1": "36",
                                    "2": "30.34",
                                    "3": "351",
                                    "4": "350",
                                    "5": "323",
                                    "6": "41"
                                },
                                {
                                    "0": "10628",
                                    "1": "7",
                                    "2": "30.36",
                                    "3": "352",
                                    "4": "352",
                                    "5": "324",
                                    "6": "41"
                                },
                                {
                                    "0": "10486",
                                    "1": "35",
                                    "2": "30.53",
                                    "3": "353",
                                    "4": "353",
                                    "5": "325",
                                    "6": "41"
                                },
                                {
                                    "0": "10363",
                                    "1": "17",
                                    "2": "30.54",
                                    "3": "354",
                                    "4": "354",
                                    "5": "326",
                                    "6": "41"
                                },
                                {
                                    "0": "10799",
                                    "1": "39",
                                    "2": "30.76",
                                    "3": "355",
                                    "4": "355",
                                    "5": "327",
                                    "6": "41"
                                },
                                {
                                    "0": "10951",
                                    "1": "68",
                                    "2": "30.85",
                                    "3": "356",
                                    "4": "356",
                                    "5": "328",
                                    "6": "41"
                                },
                                {
                                    "0": "10385",
                                    "1": "75",
                                    "2": "30.96",
                                    "3": "357",
                                    "4": "357",
                                    "5": "329",
                                    "6": "41"
                                },
                                {
                                    "0": "11058",
                                    "1": "6",
                                    "2": "31.14",
                                    "3": "358",
                                    "4": "358",
                                    "5": "330",
                                    "6": "41"
                                },
                                {
                                    "0": "10811",
                                    "1": "47",
                                    "2": "31.22",
                                    "3": "359",
                                    "4": "359",
                                    "5": "331",
                                    "6": "42"
                                },
                                {
                                    "0": "10427",
                                    "1": "59",
                                    "2": "31.29",
                                    "3": "360",
                                    "4": "360",
                                    "5": "332",
                                    "6": "42"
                                },
                                {
                                    "0": "10746",
                                    "1": "14",
                                    "2": "31.43",
                                    "3": "361",
                                    "4": "361",
                                    "5": "333",
                                    "6": "42"
                                },
                                {
                                    "0": "10937",
                                    "1": "12",
                                    "2": "31.51",
                                    "3": "362",
                                    "4": "362",
                                    "5": "334",
                                    "6": "42"
                                },
                                {
                                    "0": "10675",
                                    "1": "25",
                                    "2": "31.85",
                                    "3": "363",
                                    "4": "363",
                                    "5": "335",
                                    "6": "42"
                                },
                                {
                                    "0": "10938",
                                    "1": "63",
                                    "2": "31.89",
                                    "3": "364",
                                    "4": "364",
                                    "5": "336",
                                    "6": "42"
                                },
                                {
                                    "0": "10934",
                                    "1": "44",
                                    "2": "32.01",
                                    "3": "365",
                                    "4": "365",
                                    "5": "337",
                                    "6": "42"
                                },
                                {
                                    "0": "10517",
                                    "1": "53",
                                    "2": "32.07",
                                    "3": "366",
                                    "4": "366",
                                    "5": "338",
                                    "6": "42"
                                },
                                {
                                    "0": "10592",
                                    "1": "44",
                                    "2": "32.10",
                                    "3": "367",
                                    "4": "367",
                                    "5": "339",
                                    "6": "43"
                                },
                                {
                                    "0": "10975",
                                    "1": "10",
                                    "2": "32.27",
                                    "3": "368",
                                    "4": "368",
                                    "5": "340",
                                    "6": "43"
                                },
                                {
                                    "0": "10630",
                                    "1": "39",
                                    "2": "32.35",
                                    "3": "369",
                                    "4": "369",
                                    "5": "341",
                                    "6": "43"
                                },
                                {
                                    "0": "10875",
                                    "1": "5",
                                    "2": "32.37",
                                    "3": "370",
                                    "4": "370",
                                    "5": "342",
                                    "6": "43"
                                },
                                {
                                    "0": "10248",
                                    "1": "85",
                                    "2": "32.38",
                                    "3": "371",
                                    "4": "371",
                                    "5": "343",
                                    "6": "43"
                                },
                                {
                                    "0": "10896",
                                    "1": "50",
                                    "2": "32.45",
                                    "3": "372",
                                    "4": "372",
                                    "5": "344",
                                    "6": "43"
                                },
                                {
                                    "0": "10890",
                                    "1": "18",
                                    "2": "32.76",
                                    "3": "373",
                                    "4": "373",
                                    "5": "345",
                                    "6": "43"
                                },
                                {
                                    "0": "10978",
                                    "1": "50",
                                    "2": "32.82",
                                    "3": "374",
                                    "4": "374",
                                    "5": "346",
                                    "6": "43"
                                },
                                {
                                    "0": "10908",
                                    "1": "66",
                                    "2": "32.96",
                                    "3": "375",
                                    "4": "375",
                                    "5": "347",
                                    "6": "44"
                                },
                                {
                                    "0": "11013",
                                    "1": "69",
                                    "2": "32.99",
                                    "3": "376",
                                    "4": "376",
                                    "5": "348",
                                    "6": "44"
                                },
                                {
                                    "0": "10913",
                                    "1": "62",
                                    "2": "33.05",
                                    "3": "377",
                                    "4": "377",
                                    "5": "349",
                                    "6": "44"
                                },
                                {
                                    "0": "10797",
                                    "1": "17",
                                    "2": "33.35",
                                    "3": "378",
                                    "4": "378",
                                    "5": "350",
                                    "6": "44"
                                },
                                {
                                    "0": "10936",
                                    "1": "32",
                                    "2": "33.68",
                                    "3": "379",
                                    "4": "379",
                                    "5": "351",
                                    "6": "44"
                                },
                                {
                                    "0": "10685",
                                    "1": "31",
                                    "2": "33.75",
                                    "3": "380",
                                    "4": "380",
                                    "5": "352",
                                    "6": "44"
                                },
                                {
                                    "0": "11016",
                                    "1": "4",
                                    "2": "33.80",
                                    "3": "381",
                                    "4": "381",
                                    "5": "353",
                                    "6": "44"
                                },
                                {
                                    "0": "10929",
                                    "1": "25",
                                    "2": "33.93",
                                    "3": "382",
                                    "4": "382",
                                    "5": "354",
                                    "6": "44"
                                },
                                {
                                    "0": "10567",
                                    "1": "37",
                                    "2": "33.97",
                                    "3": "383",
                                    "4": "383",
                                    "5": "355",
                                    "6": "45"
                                },
                                {
                                    "0": "10383",
                                    "1": "4",
                                    "2": "34.24",
                                    "3": "384",
                                    "4": "384",
                                    "5": "356",
                                    "6": "45"
                                },
                                {
                                    "0": "10320",
                                    "1": "87",
                                    "2": "34.57",
                                    "3": "385",
                                    "4": "385",
                                    "5": "357",
                                    "6": "45"
                                },
                                {
                                    "0": "10989",
                                    "1": "61",
                                    "2": "34.76",
                                    "3": "386",
                                    "4": "386",
                                    "5": "358",
                                    "6": "45"
                                },
                                {
                                    "0": "10405",
                                    "1": "47",
                                    "2": "34.82",
                                    "3": "387",
                                    "4": "387",
                                    "5": "359",
                                    "6": "45"
                                },
                                {
                                    "0": "10388",
                                    "1": "72",
                                    "2": "34.86",
                                    "3": "388",
                                    "4": "388",
                                    "5": "360",
                                    "6": "45"
                                },
                                {
                                    "0": "10357",
                                    "1": "46",
                                    "2": "34.88",
                                    "3": "389",
                                    "4": "389",
                                    "5": "361",
                                    "6": "45"
                                },
                                {
                                    "0": "10380",
                                    "1": "37",
                                    "2": "35.03",
                                    "3": "390",
                                    "4": "390",
                                    "5": "362",
                                    "6": "45"
                                },
                                {
                                    "0": "10597",
                                    "1": "59",
                                    "2": "35.12",
                                    "3": "391",
                                    "4": "391",
                                    "5": "363",
                                    "6": "46"
                                },
                                {
                                    "0": "10839",
                                    "1": "81",
                                    "2": "35.43",
                                    "3": "392",
                                    "4": "392",
                                    "5": "364",
                                    "6": "46"
                                },
                                {
                                    "0": "10682",
                                    "1": "3",
                                    "2": "36.13",
                                    "3": "393",
                                    "4": "393",
                                    "5": "365",
                                    "6": "46"
                                },
                                {
                                    "0": "10497",
                                    "1": "44",
                                    "2": "36.21",
                                    "3": "394",
                                    "4": "394",
                                    "5": "366",
                                    "6": "46"
                                },
                                {
                                    "0": "10560",
                                    "1": "25",
                                    "2": "36.65",
                                    "3": "395",
                                    "4": "395",
                                    "5": "367",
                                    "6": "46"
                                },
                                {
                                    "0": "10821",
                                    "1": "75",
                                    "2": "36.68",
                                    "3": "396",
                                    "4": "396",
                                    "5": "368",
                                    "6": "46"
                                },
                                {
                                    "0": "10903",
                                    "1": "34",
                                    "2": "36.71",
                                    "3": "397",
                                    "4": "397",
                                    "5": "369",
                                    "6": "46"
                                },
                                {
                                    "0": "10356",
                                    "1": "86",
                                    "2": "36.71",
                                    "3": "398",
                                    "4": "397",
                                    "5": "369",
                                    "6": "46"
                                },
                                {
                                    "0": "10763",
                                    "1": "23",
                                    "2": "37.35",
                                    "3": "399",
                                    "4": "399",
                                    "5": "370",
                                    "6": "47"
                                },
                                {
                                    "0": "10820",
                                    "1": "65",
                                    "2": "37.52",
                                    "3": "400",
                                    "4": "400",
                                    "5": "371",
                                    "6": "47"
                                },
                                {
                                    "0": "10574",
                                    "1": "82",
                                    "2": "37.60",
                                    "3": "401",
                                    "4": "401",
                                    "5": "372",
                                    "6": "47"
                                },
                                {
                                    "0": "10976",
                                    "1": "35",
                                    "2": "37.97",
                                    "3": "402",
                                    "4": "402",
                                    "5": "373",
                                    "6": "47"
                                },
                                {
                                    "0": "10877",
                                    "1": "67",
                                    "2": "38.06",
                                    "3": "403",
                                    "4": "403",
                                    "5": "374",
                                    "6": "47"
                                },
                                {
                                    "0": "10910",
                                    "1": "90",
                                    "2": "38.11",
                                    "3": "404",
                                    "4": "404",
                                    "5": "375",
                                    "6": "47"
                                },
                                {
                                    "0": "10911",
                                    "1": "30",
                                    "2": "38.19",
                                    "3": "405",
                                    "4": "405",
                                    "5": "376",
                                    "6": "47"
                                },
                                {
                                    "0": "10848",
                                    "1": "16",
                                    "2": "38.24",
                                    "3": "406",
                                    "4": "406",
                                    "5": "377",
                                    "6": "47"
                                },
                                {
                                    "0": "11076",
                                    "1": "9",
                                    "2": "38.28",
                                    "3": "407",
                                    "4": "407",
                                    "5": "378",
                                    "6": "48"
                                },
                                {
                                    "0": "10991",
                                    "1": "63",
                                    "2": "38.51",
                                    "3": "408",
                                    "4": "408",
                                    "5": "379",
                                    "6": "48"
                                },
                                {
                                    "0": "10639",
                                    "1": "70",
                                    "2": "38.64",
                                    "3": "409",
                                    "4": "409",
                                    "5": "380",
                                    "6": "48"
                                },
                                {
                                    "0": "10448",
                                    "1": "64",
                                    "2": "38.82",
                                    "3": "410",
                                    "4": "410",
                                    "5": "381",
                                    "6": "48"
                                },
                                {
                                    "0": "10926",
                                    "1": "2",
                                    "2": "39.92",
                                    "3": "411",
                                    "4": "411",
                                    "5": "382",
                                    "6": "48"
                                },
                                {
                                    "0": "10312",
                                    "1": "86",
                                    "2": "40.26",
                                    "3": "412",
                                    "4": "412",
                                    "5": "383",
                                    "6": "48"
                                },
                                {
                                    "0": "11034",
                                    "1": "55",
                                    "2": "40.32",
                                    "3": "413",
                                    "4": "413",
                                    "5": "384",
                                    "6": "48"
                                },
                                {
                                    "0": "10952",
                                    "1": "1",
                                    "2": "40.42",
                                    "3": "414",
                                    "4": "414",
                                    "5": "385",
                                    "6": "48"
                                },
                                {
                                    "0": "10251",
                                    "1": "84",
                                    "2": "41.34",
                                    "3": "415",
                                    "4": "415",
                                    "5": "386",
                                    "6": "49"
                                },
                                {
                                    "0": "10632",
                                    "1": "86",
                                    "2": "41.38",
                                    "3": "416",
                                    "4": "416",
                                    "5": "387",
                                    "6": "49"
                                },
                                {
                                    "0": "10315",
                                    "1": "38",
                                    "2": "41.76",
                                    "3": "417",
                                    "4": "417",
                                    "5": "388",
                                    "6": "49"
                                },
                                {
                                    "0": "10642",
                                    "1": "73",
                                    "2": "41.89",
                                    "3": "418",
                                    "4": "418",
                                    "5": "389",
                                    "6": "49"
                                },
                                {
                                    "0": "10527",
                                    "1": "63",
                                    "2": "41.90",
                                    "3": "419",
                                    "4": "419",
                                    "5": "390",
                                    "6": "49"
                                },
                                {
                                    "0": "10355",
                                    "1": "4",
                                    "2": "41.95",
                                    "3": "420",
                                    "4": "420",
                                    "5": "391",
                                    "6": "49"
                                },
                                {
                                    "0": "10335",
                                    "1": "37",
                                    "2": "42.11",
                                    "3": "421",
                                    "4": "421",
                                    "5": "392",
                                    "6": "49"
                                },
                                {
                                    "0": "10780",
                                    "1": "46",
                                    "2": "42.13",
                                    "3": "422",
                                    "4": "422",
                                    "5": "393",
                                    "6": "49"
                                },
                                {
                                    "0": "10500",
                                    "1": "41",
                                    "2": "42.68",
                                    "3": "423",
                                    "4": "423",
                                    "5": "394",
                                    "6": "50"
                                },
                                {
                                    "0": "10788",
                                    "1": "63",
                                    "2": "42.70",
                                    "3": "424",
                                    "4": "424",
                                    "5": "395",
                                    "6": "50"
                                },
                                {
                                    "0": "10765",
                                    "1": "63",
                                    "2": "42.74",
                                    "3": "425",
                                    "4": "425",
                                    "5": "396",
                                    "6": "50"
                                },
                                {
                                    "0": "10832",
                                    "1": "41",
                                    "2": "43.26",
                                    "3": "426",
                                    "4": "426",
                                    "5": "397",
                                    "6": "50"
                                },
                                {
                                    "0": "11020",
                                    "1": "56",
                                    "2": "43.30",
                                    "3": "427",
                                    "4": "427",
                                    "5": "398",
                                    "6": "50"
                                },
                                {
                                    "0": "10625",
                                    "1": "2",
                                    "2": "43.90",
                                    "3": "428",
                                    "4": "428",
                                    "5": "399",
                                    "6": "50"
                                },
                                {
                                    "0": "10736",
                                    "1": "37",
                                    "2": "44.10",
                                    "3": "429",
                                    "4": "429",
                                    "5": "400",
                                    "6": "50"
                                },
                                {
                                    "0": "10468",
                                    "1": "39",
                                    "2": "44.12",
                                    "3": "430",
                                    "4": "430",
                                    "5": "401",
                                    "6": "50"
                                },
                                {
                                    "0": "10420",
                                    "1": "88",
                                    "2": "44.12",
                                    "3": "431",
                                    "4": "430",
                                    "5": "401",
                                    "6": "51"
                                },
                                {
                                    "0": "10902",
                                    "1": "24",
                                    "2": "44.15",
                                    "3": "432",
                                    "4": "432",
                                    "5": "402",
                                    "6": "51"
                                },
                                {
                                    "0": "10431",
                                    "1": "10",
                                    "2": "44.17",
                                    "3": "433",
                                    "4": "433",
                                    "5": "403",
                                    "6": "51"
                                },
                                {
                                    "0": "10598",
                                    "1": "65",
                                    "2": "44.42",
                                    "3": "434",
                                    "4": "434",
                                    "5": "404",
                                    "6": "51"
                                },
                                {
                                    "0": "10956",
                                    "1": "6",
                                    "2": "44.65",
                                    "3": "435",
                                    "4": "435",
                                    "5": "405",
                                    "6": "51"
                                },
                                {
                                    "0": "11066",
                                    "1": "89",
                                    "2": "44.72",
                                    "3": "436",
                                    "4": "436",
                                    "5": "406",
                                    "6": "51"
                                },
                                {
                                    "0": "10590",
                                    "1": "51",
                                    "2": "44.77",
                                    "3": "437",
                                    "4": "437",
                                    "5": "407",
                                    "6": "51"
                                },
                                {
                                    "0": "11004",
                                    "1": "50",
                                    "2": "44.84",
                                    "3": "438",
                                    "4": "438",
                                    "5": "408",
                                    "6": "51"
                                },
                                {
                                    "0": "10379",
                                    "1": "61",
                                    "2": "45.03",
                                    "3": "439",
                                    "4": "439",
                                    "5": "409",
                                    "6": "52"
                                },
                                {
                                    "0": "10301",
                                    "1": "86",
                                    "2": "45.08",
                                    "3": "440",
                                    "4": "440",
                                    "5": "410",
                                    "6": "52"
                                },
                                {
                                    "0": "10600",
                                    "1": "36",
                                    "2": "45.13",
                                    "3": "441",
                                    "4": "441",
                                    "5": "411",
                                    "6": "52"
                                },
                                {
                                    "0": "10522",
                                    "1": "44",
                                    "2": "45.33",
                                    "3": "442",
                                    "4": "442",
                                    "5": "412",
                                    "6": "52"
                                },
                                {
                                    "0": "10697",
                                    "1": "47",
                                    "2": "45.52",
                                    "3": "443",
                                    "4": "443",
                                    "5": "413",
                                    "6": "52"
                                },
                                {
                                    "0": "10808",
                                    "1": "55",
                                    "2": "45.53",
                                    "3": "444",
                                    "4": "444",
                                    "5": "414",
                                    "6": "52"
                                },
                                {
                                    "0": "10647",
                                    "1": "61",
                                    "2": "45.54",
                                    "3": "445",
                                    "4": "445",
                                    "5": "415",
                                    "6": "52"
                                },
                                {
                                    "0": "10471",
                                    "1": "11",
                                    "2": "45.59",
                                    "3": "446",
                                    "4": "446",
                                    "5": "416",
                                    "6": "52"
                                },
                                {
                                    "0": "10735",
                                    "1": "45",
                                    "2": "45.97",
                                    "3": "447",
                                    "4": "447",
                                    "5": "417",
                                    "6": "53"
                                },
                                {
                                    "0": "10995",
                                    "1": "58",
                                    "2": "46.00",
                                    "3": "448",
                                    "4": "448",
                                    "5": "418",
                                    "6": "53"
                                },
                                {
                                    "0": "11047",
                                    "1": "19",
                                    "2": "46.62",
                                    "3": "449",
                                    "4": "449",
                                    "5": "419",
                                    "6": "53"
                                },
                                {
                                    "0": "10878",
                                    "1": "63",
                                    "2": "46.69",
                                    "3": "450",
                                    "4": "450",
                                    "5": "420",
                                    "6": "53"
                                },
                                {
                                    "0": "10496",
                                    "1": "81",
                                    "2": "46.77",
                                    "3": "451",
                                    "4": "451",
                                    "5": "421",
                                    "6": "53"
                                },
                                {
                                    "0": "11026",
                                    "1": "27",
                                    "2": "47.09",
                                    "3": "452",
                                    "4": "452",
                                    "5": "422",
                                    "6": "53"
                                },
                                {
                                    "0": "10668",
                                    "1": "86",
                                    "2": "47.22",
                                    "3": "453",
                                    "4": "453",
                                    "5": "423",
                                    "6": "53"
                                },
                                {
                                    "0": "10309",
                                    "1": "37",
                                    "2": "47.30",
                                    "3": "454",
                                    "4": "454",
                                    "5": "424",
                                    "6": "53"
                                },
                                {
                                    "0": "10813",
                                    "1": "67",
                                    "2": "47.38",
                                    "3": "455",
                                    "4": "455",
                                    "5": "425",
                                    "6": "54"
                                },
                                {
                                    "0": "10389",
                                    "1": "10",
                                    "2": "47.42",
                                    "3": "456",
                                    "4": "456",
                                    "5": "426",
                                    "6": "54"
                                },
                                {
                                    "0": "10507",
                                    "1": "3",
                                    "2": "47.45",
                                    "3": "457",
                                    "4": "457",
                                    "5": "427",
                                    "6": "54"
                                },
                                {
                                    "0": "10635",
                                    "1": "49",
                                    "2": "47.46",
                                    "3": "458",
                                    "4": "458",
                                    "5": "428",
                                    "6": "54"
                                },
                                {
                                    "0": "10935",
                                    "1": "88",
                                    "2": "47.59",
                                    "3": "459",
                                    "4": "459",
                                    "5": "429",
                                    "6": "54"
                                },
                                {
                                    "0": "11029",
                                    "1": "14",
                                    "2": "47.84",
                                    "3": "460",
                                    "4": "460",
                                    "5": "430",
                                    "6": "54"
                                },
                                {
                                    "0": "10442",
                                    "1": "20",
                                    "2": "47.94",
                                    "3": "461",
                                    "4": "461",
                                    "5": "431",
                                    "6": "54"
                                },
                                {
                                    "0": "10543",
                                    "1": "46",
                                    "2": "48.17",
                                    "3": "462",
                                    "4": "462",
                                    "5": "432",
                                    "6": "54"
                                },
                                {
                                    "0": "10774",
                                    "1": "24",
                                    "2": "48.20",
                                    "3": "463",
                                    "4": "463",
                                    "5": "433",
                                    "6": "55"
                                },
                                {
                                    "0": "11041",
                                    "1": "14",
                                    "2": "48.22",
                                    "3": "464",
                                    "4": "464",
                                    "5": "434",
                                    "6": "55"
                                },
                                {
                                    "0": "10262",
                                    "1": "65",
                                    "2": "48.29",
                                    "3": "465",
                                    "4": "465",
                                    "5": "435",
                                    "6": "55"
                                },
                                {
                                    "0": "10603",
                                    "1": "71",
                                    "2": "48.77",
                                    "3": "466",
                                    "4": "466",
                                    "5": "436",
                                    "6": "55"
                                },
                                {
                                    "0": "10918",
                                    "1": "10",
                                    "2": "48.83",
                                    "3": "467",
                                    "4": "467",
                                    "5": "437",
                                    "6": "55"
                                },
                                {
                                    "0": "10721",
                                    "1": "63",
                                    "2": "48.92",
                                    "3": "468",
                                    "4": "468",
                                    "5": "438",
                                    "6": "55"
                                },
                                {
                                    "0": "10850",
                                    "1": "84",
                                    "2": "49.19",
                                    "3": "469",
                                    "4": "469",
                                    "5": "439",
                                    "6": "55"
                                },
                                {
                                    "0": "10958",
                                    "1": "54",
                                    "2": "49.56",
                                    "3": "470",
                                    "4": "470",
                                    "5": "440",
                                    "6": "55"
                                },
                                {
                                    "0": "10622",
                                    "1": "67",
                                    "2": "50.97",
                                    "3": "471",
                                    "4": "471",
                                    "5": "441",
                                    "6": "56"
                                },
                                {
                                    "0": "10252",
                                    "1": "76",
                                    "2": "51.30",
                                    "3": "472",
                                    "4": "472",
                                    "5": "442",
                                    "6": "56"
                                },
                                {
                                    "0": "10719",
                                    "1": "45",
                                    "2": "51.44",
                                    "3": "473",
                                    "4": "473",
                                    "5": "443",
                                    "6": "56"
                                },
                                {
                                    "0": "10888",
                                    "1": "30",
                                    "2": "51.87",
                                    "3": "474",
                                    "4": "474",
                                    "5": "444",
                                    "6": "56"
                                },
                                {
                                    "0": "10711",
                                    "1": "71",
                                    "2": "52.41",
                                    "3": "475",
                                    "4": "475",
                                    "5": "445",
                                    "6": "56"
                                },
                                {
                                    "0": "10858",
                                    "1": "40",
                                    "2": "52.51",
                                    "3": "476",
                                    "4": "476",
                                    "5": "446",
                                    "6": "56"
                                },
                                {
                                    "0": "11027",
                                    "1": "10",
                                    "2": "52.52",
                                    "3": "477",
                                    "4": "477",
                                    "5": "447",
                                    "6": "56"
                                },
                                {
                                    "0": "10332",
                                    "1": "51",
                                    "2": "52.84",
                                    "3": "478",
                                    "4": "478",
                                    "5": "448",
                                    "6": "56"
                                },
                                {
                                    "0": "10944",
                                    "1": "10",
                                    "2": "52.92",
                                    "3": "479",
                                    "4": "479",
                                    "5": "449",
                                    "6": "57"
                                },
                                {
                                    "0": "10909",
                                    "1": "70",
                                    "2": "53.05",
                                    "3": "480",
                                    "4": "480",
                                    "5": "450",
                                    "6": "57"
                                },
                                {
                                    "0": "11053",
                                    "1": "59",
                                    "2": "53.05",
                                    "3": "481",
                                    "4": "480",
                                    "5": "450",
                                    "6": "57"
                                },
                                {
                                    "0": "10862",
                                    "1": "44",
                                    "2": "53.23",
                                    "3": "482",
                                    "4": "482",
                                    "5": "451",
                                    "6": "57"
                                },
                                {
                                    "0": "10449",
                                    "1": "7",
                                    "2": "53.30",
                                    "3": "483",
                                    "4": "483",
                                    "5": "452",
                                    "6": "57"
                                },
                                {
                                    "0": "10354",
                                    "1": "58",
                                    "2": "53.80",
                                    "3": "484",
                                    "4": "484",
                                    "5": "453",
                                    "6": "57"
                                },
                                {
                                    "0": "10853",
                                    "1": "6",
                                    "2": "53.83",
                                    "3": "485",
                                    "4": "485",
                                    "5": "454",
                                    "6": "57"
                                },
                                {
                                    "0": "10933",
                                    "1": "38",
                                    "2": "54.15",
                                    "3": "486",
                                    "4": "486",
                                    "5": "455",
                                    "6": "57"
                                },
                                {
                                    "0": "10842",
                                    "1": "80",
                                    "2": "54.42",
                                    "3": "487",
                                    "4": "487",
                                    "5": "456",
                                    "6": "58"
                                },
                                {
                                    "0": "10342",
                                    "1": "25",
                                    "2": "54.83",
                                    "3": "488",
                                    "4": "488",
                                    "5": "457",
                                    "6": "58"
                                },
                                {
                                    "0": "10260",
                                    "1": "56",
                                    "2": "55.09",
                                    "3": "489",
                                    "4": "489",
                                    "5": "458",
                                    "6": "58"
                                },
                                {
                                    "0": "11000",
                                    "1": "65",
                                    "2": "55.12",
                                    "3": "490",
                                    "4": "490",
                                    "5": "459",
                                    "6": "58"
                                },
                                {
                                    "0": "10803",
                                    "1": "88",
                                    "2": "55.23",
                                    "3": "491",
                                    "4": "491",
                                    "5": "460",
                                    "6": "58"
                                },
                                {
                                    "0": "10654",
                                    "1": "5",
                                    "2": "55.26",
                                    "3": "492",
                                    "4": "492",
                                    "5": "461",
                                    "6": "58"
                                },
                                {
                                    "0": "10265",
                                    "1": "7",
                                    "2": "55.28",
                                    "3": "493",
                                    "4": "493",
                                    "5": "462",
                                    "6": "58"
                                },
                                {
                                    "0": "10591",
                                    "1": "83",
                                    "2": "55.92",
                                    "3": "494",
                                    "4": "494",
                                    "5": "463",
                                    "6": "58"
                                },
                                {
                                    "0": "10846",
                                    "1": "76",
                                    "2": "56.46",
                                    "3": "495",
                                    "4": "495",
                                    "5": "464",
                                    "6": "59"
                                },
                                {
                                    "0": "10429",
                                    "1": "37",
                                    "2": "56.63",
                                    "3": "496",
                                    "4": "496",
                                    "5": "465",
                                    "6": "59"
                                },
                                {
                                    "0": "10656",
                                    "1": "32",
                                    "2": "57.15",
                                    "3": "497",
                                    "4": "497",
                                    "5": "466",
                                    "6": "59"
                                },
                                {
                                    "0": "10724",
                                    "1": "51",
                                    "2": "57.75",
                                    "3": "498",
                                    "4": "498",
                                    "5": "467",
                                    "6": "59"
                                },
                                {
                                    "0": "10779",
                                    "1": "52",
                                    "2": "58.13",
                                    "3": "499",
                                    "4": "499",
                                    "5": "468",
                                    "6": "59"
                                },
                                {
                                    "0": "10253",
                                    "1": "34",
                                    "2": "58.17",
                                    "3": "500",
                                    "4": "500",
                                    "5": "469",
                                    "6": "59"
                                },
                                {
                                    "0": "10601",
                                    "1": "35",
                                    "2": "58.30",
                                    "3": "501",
                                    "4": "501",
                                    "5": "470",
                                    "6": "59"
                                },
                                {
                                    "0": "10728",
                                    "1": "62",
                                    "2": "58.33",
                                    "3": "502",
                                    "4": "502",
                                    "5": "471",
                                    "6": "59"
                                },
                                {
                                    "0": "10856",
                                    "1": "3",
                                    "2": "58.43",
                                    "3": "503",
                                    "4": "503",
                                    "5": "472",
                                    "6": "60"
                                },
                                {
                                    "0": "10526",
                                    "1": "87",
                                    "2": "58.59",
                                    "3": "504",
                                    "4": "504",
                                    "5": "473",
                                    "6": "60"
                                },
                                {
                                    "0": "10536",
                                    "1": "44",
                                    "2": "58.88",
                                    "3": "505",
                                    "4": "505",
                                    "5": "474",
                                    "6": "60"
                                },
                                {
                                    "0": "10569",
                                    "1": "65",
                                    "2": "58.98",
                                    "3": "506",
                                    "4": "506",
                                    "5": "475",
                                    "6": "60"
                                },
                                {
                                    "0": "11009",
                                    "1": "30",
                                    "2": "59.11",
                                    "3": "507",
                                    "4": "507",
                                    "5": "476",
                                    "6": "60"
                                },
                                {
                                    "0": "10504",
                                    "1": "89",
                                    "2": "59.13",
                                    "3": "508",
                                    "4": "508",
                                    "5": "477",
                                    "6": "60"
                                },
                                {
                                    "0": "10584",
                                    "1": "7",
                                    "2": "59.14",
                                    "3": "509",
                                    "4": "509",
                                    "5": "478",
                                    "6": "60"
                                },
                                {
                                    "0": "10717",
                                    "1": "25",
                                    "2": "59.25",
                                    "3": "510",
                                    "4": "510",
                                    "5": "479",
                                    "6": "60"
                                },
                                {
                                    "0": "10838",
                                    "1": "47",
                                    "2": "59.28",
                                    "3": "511",
                                    "4": "511",
                                    "5": "480",
                                    "6": "61"
                                },
                                {
                                    "0": "11050",
                                    "1": "24",
                                    "2": "59.41",
                                    "3": "512",
                                    "4": "512",
                                    "5": "481",
                                    "6": "61"
                                },
                                {
                                    "0": "10812",
                                    "1": "66",
                                    "2": "59.78",
                                    "3": "513",
                                    "4": "513",
                                    "5": "482",
                                    "6": "61"
                                },
                                {
                                    "0": "10469",
                                    "1": "89",
                                    "2": "60.18",
                                    "3": "514",
                                    "4": "514",
                                    "5": "483",
                                    "6": "61"
                                },
                                {
                                    "0": "10397",
                                    "1": "60",
                                    "2": "60.26",
                                    "3": "515",
                                    "4": "515",
                                    "5": "484",
                                    "6": "61"
                                },
                                {
                                    "0": "10876",
                                    "1": "9",
                                    "2": "60.42",
                                    "3": "516",
                                    "4": "516",
                                    "5": "485",
                                    "6": "61"
                                },
                                {
                                    "0": "10563",
                                    "1": "67",
                                    "2": "60.43",
                                    "3": "517",
                                    "4": "517",
                                    "5": "486",
                                    "6": "61"
                                },
                                {
                                    "0": "10692",
                                    "1": "1",
                                    "2": "61.02",
                                    "3": "518",
                                    "4": "518",
                                    "5": "487",
                                    "6": "61"
                                },
                                {
                                    "0": "10988",
                                    "1": "65",
                                    "2": "61.14",
                                    "3": "519",
                                    "4": "519",
                                    "5": "488",
                                    "6": "62"
                                },
                                {
                                    "0": "10749",
                                    "1": "38",
                                    "2": "61.53",
                                    "3": "520",
                                    "4": "520",
                                    "5": "489",
                                    "6": "62"
                                },
                                {
                                    "0": "10901",
                                    "1": "35",
                                    "2": "62.09",
                                    "3": "521",
                                    "4": "521",
                                    "5": "490",
                                    "6": "62"
                                },
                                {
                                    "0": "10967",
                                    "1": "79",
                                    "2": "62.22",
                                    "3": "522",
                                    "4": "522",
                                    "5": "491",
                                    "6": "62"
                                },
                                {
                                    "0": "10587",
                                    "1": "61",
                                    "2": "62.52",
                                    "3": "523",
                                    "4": "523",
                                    "5": "492",
                                    "6": "62"
                                },
                                {
                                    "0": "10922",
                                    "1": "34",
                                    "2": "62.74",
                                    "3": "524",
                                    "4": "524",
                                    "5": "493",
                                    "6": "62"
                                },
                                {
                                    "0": "10516",
                                    "1": "37",
                                    "2": "62.78",
                                    "3": "525",
                                    "4": "525",
                                    "5": "494",
                                    "6": "62"
                                },
                                {
                                    "0": "10492",
                                    "1": "10",
                                    "2": "62.89",
                                    "3": "526",
                                    "4": "526",
                                    "5": "495",
                                    "6": "62"
                                },
                                {
                                    "0": "10715",
                                    "1": "9",
                                    "2": "63.20",
                                    "3": "527",
                                    "4": "527",
                                    "5": "496",
                                    "6": "63"
                                },
                                {
                                    "0": "10327",
                                    "1": "24",
                                    "2": "63.36",
                                    "3": "528",
                                    "4": "528",
                                    "5": "497",
                                    "6": "63"
                                },
                                {
                                    "0": "10827",
                                    "1": "9",
                                    "2": "63.54",
                                    "3": "529",
                                    "4": "529",
                                    "5": "498",
                                    "6": "63"
                                },
                                {
                                    "0": "10916",
                                    "1": "64",
                                    "2": "63.77",
                                    "3": "530",
                                    "4": "530",
                                    "5": "499",
                                    "6": "63"
                                },
                                {
                                    "0": "10304",
                                    "1": "80",
                                    "2": "63.79",
                                    "3": "531",
                                    "4": "531",
                                    "5": "500",
                                    "6": "63"
                                },
                                {
                                    "0": "10350",
                                    "1": "41",
                                    "2": "64.19",
                                    "3": "532",
                                    "4": "532",
                                    "5": "501",
                                    "6": "63"
                                },
                                {
                                    "0": "10481",
                                    "1": "67",
                                    "2": "64.33",
                                    "3": "533",
                                    "4": "533",
                                    "5": "502",
                                    "6": "63"
                                },
                                {
                                    "0": "10485",
                                    "1": "47",
                                    "2": "64.45",
                                    "3": "534",
                                    "4": "534",
                                    "5": "503",
                                    "6": "63"
                                },
                                {
                                    "0": "10319",
                                    "1": "80",
                                    "2": "64.50",
                                    "3": "535",
                                    "4": "535",
                                    "5": "504",
                                    "6": "64"
                                },
                                {
                                    "0": "10470",
                                    "1": "9",
                                    "2": "64.56",
                                    "3": "536",
                                    "4": "536",
                                    "5": "505",
                                    "6": "64"
                                },
                                {
                                    "0": "10325",
                                    "1": "39",
                                    "2": "64.86",
                                    "3": "537",
                                    "4": "537",
                                    "5": "506",
                                    "6": "64"
                                },
                                {
                                    "0": "11039",
                                    "1": "47",
                                    "2": "65.00",
                                    "3": "538",
                                    "4": "538",
                                    "5": "507",
                                    "6": "64"
                                },
                                {
                                    "0": "10769",
                                    "1": "83",
                                    "2": "65.06",
                                    "3": "539",
                                    "4": "539",
                                    "5": "508",
                                    "6": "64"
                                },
                                {
                                    "0": "10700",
                                    "1": "71",
                                    "2": "65.10",
                                    "3": "540",
                                    "4": "540",
                                    "5": "509",
                                    "6": "64"
                                },
                                {
                                    "0": "10818",
                                    "1": "49",
                                    "2": "65.48",
                                    "3": "541",
                                    "4": "541",
                                    "5": "510",
                                    "6": "64"
                                },
                                {
                                    "0": "10994",
                                    "1": "83",
                                    "2": "65.53",
                                    "3": "542",
                                    "4": "542",
                                    "5": "511",
                                    "6": "64"
                                },
                                {
                                    "0": "10250",
                                    "1": "34",
                                    "2": "65.83",
                                    "3": "543",
                                    "4": "543",
                                    "5": "512",
                                    "6": "65"
                                },
                                {
                                    "0": "10494",
                                    "1": "15",
                                    "2": "65.99",
                                    "3": "544",
                                    "4": "544",
                                    "5": "513",
                                    "6": "65"
                                },
                                {
                                    "0": "10268",
                                    "1": "33",
                                    "2": "66.29",
                                    "3": "545",
                                    "4": "545",
                                    "5": "514",
                                    "6": "65"
                                },
                                {
                                    "0": "10529",
                                    "1": "50",
                                    "2": "66.69",
                                    "3": "546",
                                    "4": "546",
                                    "5": "515",
                                    "6": "65"
                                },
                                {
                                    "0": "11052",
                                    "1": "34",
                                    "2": "67.26",
                                    "3": "547",
                                    "4": "547",
                                    "5": "516",
                                    "6": "65"
                                },
                                {
                                    "0": "10402",
                                    "1": "20",
                                    "2": "67.88",
                                    "3": "548",
                                    "4": "548",
                                    "5": "517",
                                    "6": "65"
                                },
                                {
                                    "0": "10923",
                                    "1": "41",
                                    "2": "68.26",
                                    "3": "549",
                                    "4": "549",
                                    "5": "518",
                                    "6": "65"
                                },
                                {
                                    "0": "10475",
                                    "1": "76",
                                    "2": "68.52",
                                    "3": "550",
                                    "4": "550",
                                    "5": "519",
                                    "6": "65"
                                },
                                {
                                    "0": "10541",
                                    "1": "34",
                                    "2": "68.65",
                                    "3": "551",
                                    "4": "551",
                                    "5": "520",
                                    "6": "66"
                                },
                                {
                                    "0": "10447",
                                    "1": "67",
                                    "2": "68.66",
                                    "3": "552",
                                    "4": "552",
                                    "5": "521",
                                    "6": "66"
                                },
                                {
                                    "0": "10744",
                                    "1": "83",
                                    "2": "69.19",
                                    "3": "553",
                                    "4": "553",
                                    "5": "522",
                                    "6": "66"
                                },
                                {
                                    "0": "10502",
                                    "1": "58",
                                    "2": "69.32",
                                    "3": "554",
                                    "4": "554",
                                    "5": "523",
                                    "6": "66"
                                },
                                {
                                    "0": "10835",
                                    "1": "1",
                                    "2": "69.53",
                                    "3": "555",
                                    "4": "555",
                                    "5": "524",
                                    "6": "66"
                                },
                                {
                                    "0": "10784",
                                    "1": "49",
                                    "2": "70.09",
                                    "3": "556",
                                    "4": "556",
                                    "5": "525",
                                    "6": "66"
                                },
                                {
                                    "0": "10417",
                                    "1": "73",
                                    "2": "70.29",
                                    "3": "557",
                                    "4": "557",
                                    "5": "526",
                                    "6": "66"
                                },
                                {
                                    "0": "11045",
                                    "1": "10",
                                    "2": "70.58",
                                    "3": "558",
                                    "4": "558",
                                    "5": "527",
                                    "6": "66"
                                },
                                {
                                    "0": "10487",
                                    "1": "62",
                                    "2": "71.07",
                                    "3": "559",
                                    "4": "559",
                                    "5": "528",
                                    "6": "67"
                                },
                                {
                                    "0": "10833",
                                    "1": "56",
                                    "2": "71.49",
                                    "3": "560",
                                    "4": "560",
                                    "5": "529",
                                    "6": "67"
                                },
                                {
                                    "0": "11046",
                                    "1": "86",
                                    "2": "71.64",
                                    "3": "561",
                                    "4": "561",
                                    "5": "530",
                                    "6": "67"
                                },
                                {
                                    "0": "10364",
                                    "1": "19",
                                    "2": "71.97",
                                    "3": "562",
                                    "4": "562",
                                    "5": "531",
                                    "6": "67"
                                },
                                {
                                    "0": "10831",
                                    "1": "70",
                                    "2": "72.19",
                                    "3": "563",
                                    "4": "563",
                                    "5": "532",
                                    "6": "67"
                                },
                                {
                                    "0": "10551",
                                    "1": "28",
                                    "2": "72.95",
                                    "3": "564",
                                    "4": "564",
                                    "5": "533",
                                    "6": "67"
                                },
                                {
                                    "0": "10558",
                                    "1": "4",
                                    "2": "72.97",
                                    "3": "565",
                                    "4": "565",
                                    "5": "534",
                                    "6": "67"
                                },
                                {
                                    "0": "10441",
                                    "1": "55",
                                    "2": "73.02",
                                    "3": "566",
                                    "4": "566",
                                    "5": "535",
                                    "6": "67"
                                },
                                {
                                    "0": "10781",
                                    "1": "87",
                                    "2": "73.16",
                                    "3": "567",
                                    "4": "567",
                                    "5": "536",
                                    "6": "68"
                                },
                                {
                                    "0": "10756",
                                    "1": "75",
                                    "2": "73.21",
                                    "3": "568",
                                    "4": "568",
                                    "5": "537",
                                    "6": "68"
                                },
                                {
                                    "0": "10403",
                                    "1": "20",
                                    "2": "73.79",
                                    "3": "569",
                                    "4": "569",
                                    "5": "538",
                                    "6": "68"
                                },
                                {
                                    "0": "10433",
                                    "1": "60",
                                    "2": "73.83",
                                    "3": "570",
                                    "4": "570",
                                    "5": "539",
                                    "6": "68"
                                },
                                {
                                    "0": "10997",
                                    "1": "46",
                                    "2": "73.91",
                                    "3": "571",
                                    "4": "571",
                                    "5": "540",
                                    "6": "68"
                                },
                                {
                                    "0": "10314",
                                    "1": "65",
                                    "2": "74.16",
                                    "3": "572",
                                    "4": "572",
                                    "5": "541",
                                    "6": "68"
                                },
                                {
                                    "0": "11024",
                                    "1": "19",
                                    "2": "74.36",
                                    "3": "573",
                                    "4": "573",
                                    "5": "542",
                                    "6": "68"
                                },
                                {
                                    "0": "10949",
                                    "1": "10",
                                    "2": "74.44",
                                    "3": "574",
                                    "4": "574",
                                    "5": "543",
                                    "6": "68"
                                },
                                {
                                    "0": "10532",
                                    "1": "19",
                                    "2": "74.46",
                                    "3": "575",
                                    "4": "575",
                                    "5": "544",
                                    "6": "69"
                                },
                                {
                                    "0": "10722",
                                    "1": "71",
                                    "2": "74.58",
                                    "3": "576",
                                    "4": "576",
                                    "5": "545",
                                    "6": "69"
                                },
                                {
                                    "0": "10968",
                                    "1": "20",
                                    "2": "74.60",
                                    "3": "577",
                                    "4": "577",
                                    "5": "546",
                                    "6": "69"
                                },
                                {
                                    "0": "10580",
                                    "1": "56",
                                    "2": "75.89",
                                    "3": "578",
                                    "4": "578",
                                    "5": "547",
                                    "6": "69"
                                },
                                {
                                    "0": "10273",
                                    "1": "63",
                                    "2": "76.07",
                                    "3": "579",
                                    "4": "579",
                                    "5": "548",
                                    "6": "69"
                                },
                                {
                                    "0": "10859",
                                    "1": "25",
                                    "2": "76.10",
                                    "3": "580",
                                    "4": "580",
                                    "5": "549",
                                    "6": "69"
                                },
                                {
                                    "0": "10681",
                                    "1": "32",
                                    "2": "76.13",
                                    "3": "581",
                                    "4": "581",
                                    "5": "550",
                                    "6": "69"
                                },
                                {
                                    "0": "10939",
                                    "1": "49",
                                    "2": "76.33",
                                    "3": "582",
                                    "4": "582",
                                    "5": "551",
                                    "6": "69"
                                },
                                {
                                    "0": "10284",
                                    "1": "44",
                                    "2": "76.56",
                                    "3": "583",
                                    "4": "583",
                                    "5": "552",
                                    "6": "70"
                                },
                                {
                                    "0": "10285",
                                    "1": "63",
                                    "2": "76.83",
                                    "3": "584",
                                    "4": "584",
                                    "5": "553",
                                    "6": "70"
                                },
                                {
                                    "0": "10523",
                                    "1": "72",
                                    "2": "77.63",
                                    "3": "585",
                                    "4": "585",
                                    "5": "554",
                                    "6": "70"
                                },
                                {
                                    "0": "10893",
                                    "1": "39",
                                    "2": "77.78",
                                    "3": "586",
                                    "4": "586",
                                    "5": "555",
                                    "6": "70"
                                },
                                {
                                    "0": "10326",
                                    "1": "8",
                                    "2": "77.92",
                                    "3": "587",
                                    "4": "587",
                                    "5": "556",
                                    "6": "70"
                                },
                                {
                                    "0": "10667",
                                    "1": "20",
                                    "2": "78.09",
                                    "3": "588",
                                    "4": "588",
                                    "5": "557",
                                    "6": "70"
                                },
                                {
                                    "0": "10537",
                                    "1": "68",
                                    "2": "78.85",
                                    "3": "589",
                                    "4": "589",
                                    "5": "558",
                                    "6": "70"
                                },
                                {
                                    "0": "10825",
                                    "1": "17",
                                    "2": "79.25",
                                    "3": "590",
                                    "4": "590",
                                    "5": "559",
                                    "6": "70"
                                },
                                {
                                    "0": "10750",
                                    "1": "87",
                                    "2": "79.30",
                                    "3": "591",
                                    "4": "591",
                                    "5": "560",
                                    "6": "71"
                                },
                                {
                                    "0": "10606",
                                    "1": "81",
                                    "2": "79.40",
                                    "3": "592",
                                    "4": "592",
                                    "5": "561",
                                    "6": "71"
                                },
                                {
                                    "0": "11008",
                                    "1": "20",
                                    "2": "79.46",
                                    "3": "593",
                                    "4": "593",
                                    "5": "562",
                                    "6": "71"
                                },
                                {
                                    "0": "10290",
                                    "1": "15",
                                    "2": "79.70",
                                    "3": "594",
                                    "4": "594",
                                    "5": "563",
                                    "6": "71"
                                },
                                {
                                    "0": "10611",
                                    "1": "91",
                                    "2": "80.65",
                                    "3": "595",
                                    "4": "595",
                                    "5": "564",
                                    "6": "71"
                                },
                                {
                                    "0": "11063",
                                    "1": "37",
                                    "2": "81.73",
                                    "3": "596",
                                    "4": "596",
                                    "5": "565",
                                    "6": "71"
                                },
                                {
                                    "0": "11068",
                                    "1": "62",
                                    "2": "81.75",
                                    "3": "597",
                                    "4": "597",
                                    "5": "566",
                                    "6": "71"
                                },
                                {
                                    "0": "10830",
                                    "1": "81",
                                    "2": "81.83",
                                    "3": "598",
                                    "4": "598",
                                    "5": "567",
                                    "6": "71"
                                },
                                {
                                    "0": "10740",
                                    "1": "89",
                                    "2": "81.88",
                                    "3": "599",
                                    "4": "599",
                                    "5": "568",
                                    "6": "72"
                                },
                                {
                                    "0": "10257",
                                    "1": "35",
                                    "2": "81.91",
                                    "3": "600",
                                    "4": "600",
                                    "5": "569",
                                    "6": "72"
                                },
                                {
                                    "0": "10552",
                                    "1": "35",
                                    "2": "83.22",
                                    "3": "601",
                                    "4": "601",
                                    "5": "570",
                                    "6": "72"
                                },
                                {
                                    "0": "10474",
                                    "1": "58",
                                    "2": "83.49",
                                    "3": "602",
                                    "4": "602",
                                    "5": "571",
                                    "6": "72"
                                },
                                {
                                    "0": "10400",
                                    "1": "19",
                                    "2": "83.93",
                                    "3": "603",
                                    "4": "603",
                                    "5": "572",
                                    "6": "72"
                                },
                                {
                                    "0": "10338",
                                    "1": "55",
                                    "2": "84.21",
                                    "3": "604",
                                    "4": "604",
                                    "5": "573",
                                    "6": "72"
                                },
                                {
                                    "0": "11033",
                                    "1": "68",
                                    "2": "84.74",
                                    "3": "605",
                                    "4": "605",
                                    "5": "574",
                                    "6": "72"
                                },
                                {
                                    "0": "10283",
                                    "1": "46",
                                    "2": "84.81",
                                    "3": "606",
                                    "4": "606",
                                    "5": "575",
                                    "6": "72"
                                },
                                {
                                    "0": "10573",
                                    "1": "3",
                                    "2": "84.84",
                                    "3": "607",
                                    "4": "607",
                                    "5": "576",
                                    "6": "73"
                                },
                                {
                                    "0": "10629",
                                    "1": "30",
                                    "2": "85.46",
                                    "3": "608",
                                    "4": "608",
                                    "5": "577",
                                    "6": "73"
                                },
                                {
                                    "0": "11059",
                                    "1": "67",
                                    "2": "85.80",
                                    "3": "609",
                                    "4": "609",
                                    "5": "578",
                                    "6": "73"
                                },
                                {
                                    "0": "10440",
                                    "1": "71",
                                    "2": "86.53",
                                    "3": "610",
                                    "4": "610",
                                    "5": "579",
                                    "6": "73"
                                },
                                {
                                    "0": "10328",
                                    "1": "28",
                                    "2": "87.03",
                                    "3": "611",
                                    "4": "611",
                                    "5": "580",
                                    "6": "73"
                                },
                                {
                                    "0": "10964",
                                    "1": "74",
                                    "2": "87.38",
                                    "3": "612",
                                    "4": "612",
                                    "5": "581",
                                    "6": "73"
                                },
                                {
                                    "0": "10880",
                                    "1": "24",
                                    "2": "88.01",
                                    "3": "613",
                                    "4": "613",
                                    "5": "582",
                                    "6": "73"
                                },
                                {
                                    "0": "10566",
                                    "1": "7",
                                    "2": "88.40",
                                    "3": "614",
                                    "4": "614",
                                    "5": "583",
                                    "6": "73"
                                },
                                {
                                    "0": "10464",
                                    "1": "28",
                                    "2": "89.00",
                                    "3": "615",
                                    "4": "615",
                                    "5": "584",
                                    "6": "74"
                                },
                                {
                                    "0": "10398",
                                    "1": "71",
                                    "2": "89.16",
                                    "3": "616",
                                    "4": "616",
                                    "5": "585",
                                    "6": "74"
                                },
                                {
                                    "0": "10727",
                                    "1": "66",
                                    "2": "89.90",
                                    "3": "617",
                                    "4": "617",
                                    "5": "586",
                                    "6": "74"
                                },
                                {
                                    "0": "10712",
                                    "1": "37",
                                    "2": "89.93",
                                    "3": "618",
                                    "4": "618",
                                    "5": "587",
                                    "6": "74"
                                },
                                {
                                    "0": "10828",
                                    "1": "64",
                                    "2": "90.85",
                                    "3": "619",
                                    "4": "619",
                                    "5": "588",
                                    "6": "74"
                                },
                                {
                                    "0": "10884",
                                    "1": "45",
                                    "2": "90.97",
                                    "3": "620",
                                    "4": "620",
                                    "5": "589",
                                    "6": "74"
                                },
                                {
                                    "0": "10619",
                                    "1": "51",
                                    "2": "91.05",
                                    "3": "621",
                                    "4": "621",
                                    "5": "590",
                                    "6": "74"
                                },
                                {
                                    "0": "10772",
                                    "1": "44",
                                    "2": "91.28",
                                    "3": "622",
                                    "4": "622",
                                    "5": "591",
                                    "6": "74"
                                },
                                {
                                    "0": "10407",
                                    "1": "56",
                                    "2": "91.48",
                                    "3": "623",
                                    "4": "623",
                                    "5": "592",
                                    "6": "75"
                                },
                                {
                                    "0": "10985",
                                    "1": "37",
                                    "2": "91.51",
                                    "3": "624",
                                    "4": "624",
                                    "5": "593",
                                    "6": "75"
                                },
                                {
                                    "0": "10519",
                                    "1": "14",
                                    "2": "91.76",
                                    "3": "625",
                                    "4": "625",
                                    "5": "594",
                                    "6": "75"
                                },
                                {
                                    "0": "10278",
                                    "1": "5",
                                    "2": "92.69",
                                    "3": "626",
                                    "4": "626",
                                    "5": "595",
                                    "6": "75"
                                },
                                {
                                    "0": "10653",
                                    "1": "25",
                                    "2": "93.25",
                                    "3": "627",
                                    "4": "627",
                                    "5": "596",
                                    "6": "75"
                                },
                                {
                                    "0": "10387",
                                    "1": "70",
                                    "2": "93.63",
                                    "3": "628",
                                    "4": "628",
                                    "5": "597",
                                    "6": "75"
                                },
                                {
                                    "0": "10382",
                                    "1": "20",
                                    "2": "94.77",
                                    "3": "629",
                                    "4": "629",
                                    "5": "598",
                                    "6": "75"
                                },
                                {
                                    "0": "10624",
                                    "1": "78",
                                    "2": "94.80",
                                    "3": "630",
                                    "4": "630",
                                    "5": "599",
                                    "6": "75"
                                },
                                {
                                    "0": "10413",
                                    "1": "41",
                                    "2": "95.66",
                                    "3": "631",
                                    "4": "631",
                                    "5": "600",
                                    "6": "76"
                                },
                                {
                                    "0": "10672",
                                    "1": "5",
                                    "2": "95.75",
                                    "3": "632",
                                    "4": "632",
                                    "5": "601",
                                    "6": "76"
                                },
                                {
                                    "0": "10362",
                                    "1": "9",
                                    "2": "96.04",
                                    "3": "633",
                                    "4": "633",
                                    "5": "602",
                                    "6": "76"
                                },
                                {
                                    "0": "10999",
                                    "1": "56",
                                    "2": "96.35",
                                    "3": "634",
                                    "4": "634",
                                    "5": "603",
                                    "6": "76"
                                },
                                {
                                    "0": "10773",
                                    "1": "20",
                                    "2": "96.43",
                                    "3": "635",
                                    "4": "635",
                                    "5": "604",
                                    "6": "76"
                                },
                                {
                                    "0": "10686",
                                    "1": "59",
                                    "2": "96.50",
                                    "3": "636",
                                    "4": "636",
                                    "5": "605",
                                    "6": "76"
                                },
                                {
                                    "0": "10731",
                                    "1": "14",
                                    "2": "96.65",
                                    "3": "637",
                                    "4": "637",
                                    "5": "606",
                                    "6": "76"
                                },
                                {
                                    "0": "10557",
                                    "1": "44",
                                    "2": "96.72",
                                    "3": "638",
                                    "4": "638",
                                    "5": "607",
                                    "6": "76"
                                },
                                {
                                    "0": "10595",
                                    "1": "20",
                                    "2": "96.78",
                                    "3": "639",
                                    "4": "639",
                                    "5": "608",
                                    "6": "77"
                                },
                                {
                                    "0": "10801",
                                    "1": "8",
                                    "2": "97.09",
                                    "3": "640",
                                    "4": "640",
                                    "5": "609",
                                    "6": "77"
                                },
                                {
                                    "0": "10623",
                                    "1": "25",
                                    "2": "97.18",
                                    "3": "641",
                                    "4": "641",
                                    "5": "610",
                                    "6": "77"
                                },
                                {
                                    "0": "10272",
                                    "1": "65",
                                    "2": "98.03",
                                    "3": "642",
                                    "4": "642",
                                    "5": "611",
                                    "6": "77"
                                },
                                {
                                    "0": "10421",
                                    "1": "61",
                                    "2": "99.23",
                                    "3": "643",
                                    "4": "643",
                                    "5": "612",
                                    "6": "77"
                                },
                                {
                                    "0": "10854",
                                    "1": "20",
                                    "2": "100.22",
                                    "3": "644",
                                    "4": "644",
                                    "5": "613",
                                    "6": "77"
                                },
                                {
                                    "0": "10789",
                                    "1": "23",
                                    "2": "100.60",
                                    "3": "645",
                                    "4": "645",
                                    "5": "614",
                                    "6": "77"
                                },
                                {
                                    "0": "10368",
                                    "1": "20",
                                    "2": "101.95",
                                    "3": "646",
                                    "4": "646",
                                    "5": "615",
                                    "6": "77"
                                },
                                {
                                    "0": "10499",
                                    "1": "46",
                                    "2": "102.02",
                                    "3": "647",
                                    "4": "647",
                                    "5": "616",
                                    "6": "78"
                                },
                                {
                                    "0": "10696",
                                    "1": "89",
                                    "2": "102.55",
                                    "3": "648",
                                    "4": "648",
                                    "5": "617",
                                    "6": "78"
                                },
                                {
                                    "0": "10961",
                                    "1": "62",
                                    "2": "104.47",
                                    "3": "649",
                                    "4": "649",
                                    "5": "618",
                                    "6": "78"
                                },
                                {
                                    "0": "10957",
                                    "1": "35",
                                    "2": "105.36",
                                    "3": "650",
                                    "4": "650",
                                    "5": "619",
                                    "6": "78"
                                },
                                {
                                    "0": "10513",
                                    "1": "86",
                                    "2": "105.65",
                                    "3": "651",
                                    "4": "651",
                                    "5": "620",
                                    "6": "78"
                                },
                                {
                                    "0": "10659",
                                    "1": "62",
                                    "2": "105.81",
                                    "3": "652",
                                    "4": "652",
                                    "5": "621",
                                    "6": "78"
                                },
                                {
                                    "0": "10627",
                                    "1": "71",
                                    "2": "107.46",
                                    "3": "653",
                                    "4": "653",
                                    "5": "622",
                                    "6": "78"
                                },
                                {
                                    "0": "10303",
                                    "1": "30",
                                    "2": "107.83",
                                    "3": "654",
                                    "4": "654",
                                    "5": "623",
                                    "6": "78"
                                },
                                {
                                    "0": "10406",
                                    "1": "62",
                                    "2": "108.04",
                                    "3": "655",
                                    "4": "655",
                                    "5": "624",
                                    "6": "79"
                                },
                                {
                                    "0": "10337",
                                    "1": "25",
                                    "2": "108.26",
                                    "3": "656",
                                    "4": "656",
                                    "5": "625",
                                    "6": "79"
                                },
                                {
                                    "0": "10866",
                                    "1": "5",
                                    "2": "109.11",
                                    "3": "657",
                                    "4": "657",
                                    "5": "626",
                                    "6": "79"
                                },
                                {
                                    "0": "10733",
                                    "1": "5",
                                    "2": "110.11",
                                    "3": "658",
                                    "4": "658",
                                    "5": "627",
                                    "6": "79"
                                },
                                {
                                    "0": "10343",
                                    "1": "44",
                                    "2": "110.37",
                                    "3": "659",
                                    "4": "659",
                                    "5": "628",
                                    "6": "79"
                                },
                                {
                                    "0": "10786",
                                    "1": "62",
                                    "2": "110.87",
                                    "3": "660",
                                    "4": "660",
                                    "5": "629",
                                    "6": "79"
                                },
                                {
                                    "0": "10660",
                                    "1": "36",
                                    "2": "111.29",
                                    "3": "661",
                                    "4": "661",
                                    "5": "630",
                                    "6": "79"
                                },
                                {
                                    "0": "10871",
                                    "1": "9",
                                    "2": "112.27",
                                    "3": "662",
                                    "4": "662",
                                    "5": "631",
                                    "6": "79"
                                },
                                {
                                    "0": "10663",
                                    "1": "9",
                                    "2": "113.15",
                                    "3": "663",
                                    "4": "663",
                                    "5": "632",
                                    "6": "80"
                                },
                                {
                                    "0": "10894",
                                    "1": "71",
                                    "2": "116.13",
                                    "3": "664",
                                    "4": "664",
                                    "5": "633",
                                    "6": "80"
                                },
                                {
                                    "0": "10572",
                                    "1": "5",
                                    "2": "116.43",
                                    "3": "665",
                                    "4": "665",
                                    "5": "634",
                                    "6": "80"
                                },
                                {
                                    "0": "10616",
                                    "1": "32",
                                    "2": "116.53",
                                    "3": "666",
                                    "4": "666",
                                    "5": "635",
                                    "6": "80"
                                },
                                {
                                    "0": "10747",
                                    "1": "59",
                                    "2": "117.33",
                                    "3": "667",
                                    "4": "667",
                                    "5": "636",
                                    "6": "80"
                                },
                                {
                                    "0": "10990",
                                    "1": "20",
                                    "2": "117.61",
                                    "3": "668",
                                    "4": "668",
                                    "5": "637",
                                    "6": "80"
                                },
                                {
                                    "0": "10892",
                                    "1": "50",
                                    "2": "120.27",
                                    "3": "669",
                                    "4": "669",
                                    "5": "638",
                                    "6": "80"
                                },
                                {
                                    "0": "11055",
                                    "1": "35",
                                    "2": "120.92",
                                    "3": "670",
                                    "4": "670",
                                    "5": "639",
                                    "6": "80"
                                },
                                {
                                    "0": "10554",
                                    "1": "56",
                                    "2": "120.97",
                                    "3": "671",
                                    "4": "671",
                                    "5": "640",
                                    "6": "81"
                                },
                                {
                                    "0": "10971",
                                    "1": "26",
                                    "2": "121.82",
                                    "3": "672",
                                    "4": "672",
                                    "5": "641",
                                    "6": "81"
                                },
                                {
                                    "0": "10392",
                                    "1": "59",
                                    "2": "122.46",
                                    "3": "673",
                                    "4": "673",
                                    "5": "642",
                                    "6": "81"
                                },
                                {
                                    "0": "11023",
                                    "1": "11",
                                    "2": "123.83",
                                    "3": "674",
                                    "4": "674",
                                    "5": "643",
                                    "6": "81"
                                },
                                {
                                    "0": "10373",
                                    "1": "37",
                                    "2": "124.12",
                                    "3": "675",
                                    "4": "675",
                                    "5": "644",
                                    "6": "81"
                                },
                                {
                                    "0": "10783",
                                    "1": "34",
                                    "2": "124.98",
                                    "3": "676",
                                    "4": "676",
                                    "5": "645",
                                    "6": "81"
                                },
                                {
                                    "0": "10277",
                                    "1": "52",
                                    "2": "125.77",
                                    "3": "677",
                                    "4": "677",
                                    "5": "646",
                                    "6": "81"
                                },
                                {
                                    "0": "10390",
                                    "1": "20",
                                    "2": "126.38",
                                    "3": "678",
                                    "4": "678",
                                    "5": "647",
                                    "6": "81"
                                },
                                {
                                    "0": "10393",
                                    "1": "71",
                                    "2": "126.56",
                                    "3": "679",
                                    "4": "679",
                                    "5": "648",
                                    "6": "82"
                                },
                                {
                                    "0": "10795",
                                    "1": "20",
                                    "2": "126.66",
                                    "3": "680",
                                    "4": "680",
                                    "5": "649",
                                    "6": "82"
                                },
                                {
                                    "0": "10575",
                                    "1": "52",
                                    "2": "127.34",
                                    "3": "681",
                                    "4": "681",
                                    "5": "650",
                                    "6": "82"
                                },
                                {
                                    "0": "10751",
                                    "1": "68",
                                    "2": "130.79",
                                    "3": "682",
                                    "4": "682",
                                    "5": "651",
                                    "6": "82"
                                },
                                {
                                    "0": "10814",
                                    "1": "84",
                                    "2": "130.94",
                                    "3": "683",
                                    "4": "683",
                                    "5": "652",
                                    "6": "82"
                                },
                                {
                                    "0": "10360",
                                    "1": "7",
                                    "2": "131.70",
                                    "3": "684",
                                    "4": "684",
                                    "5": "653",
                                    "6": "82"
                                },
                                {
                                    "0": "10932",
                                    "1": "9",
                                    "2": "134.64",
                                    "3": "685",
                                    "4": "685",
                                    "5": "654",
                                    "6": "82"
                                },
                                {
                                    "0": "10396",
                                    "1": "25",
                                    "2": "135.35",
                                    "3": "686",
                                    "4": "686",
                                    "5": "655",
                                    "6": "82"
                                },
                                {
                                    "0": "10706",
                                    "1": "55",
                                    "2": "135.63",
                                    "3": "687",
                                    "4": "687",
                                    "5": "656",
                                    "6": "83"
                                },
                                {
                                    "0": "11070",
                                    "1": "44",
                                    "2": "136.00",
                                    "3": "688",
                                    "4": "688",
                                    "5": "657",
                                    "6": "83"
                                },
                                {
                                    "0": "10270",
                                    "1": "87",
                                    "2": "136.54",
                                    "3": "689",
                                    "4": "689",
                                    "5": "658",
                                    "6": "83"
                                },
                                {
                                    "0": "10419",
                                    "1": "68",
                                    "2": "137.35",
                                    "3": "690",
                                    "4": "690",
                                    "5": "659",
                                    "6": "83"
                                },
                                {
                                    "0": "10800",
                                    "1": "72",
                                    "2": "137.44",
                                    "3": "691",
                                    "4": "691",
                                    "5": "660",
                                    "6": "83"
                                },
                                {
                                    "0": "10758",
                                    "1": "68",
                                    "2": "138.17",
                                    "3": "692",
                                    "4": "692",
                                    "5": "661",
                                    "6": "83"
                                },
                                {
                                    "0": "10626",
                                    "1": "5",
                                    "2": "138.69",
                                    "3": "693",
                                    "4": "693",
                                    "5": "662",
                                    "6": "83"
                                },
                                {
                                    "0": "10693",
                                    "1": "89",
                                    "2": "139.34",
                                    "3": "694",
                                    "4": "694",
                                    "5": "663",
                                    "6": "83"
                                },
                                {
                                    "0": "10452",
                                    "1": "71",
                                    "2": "140.26",
                                    "3": "695",
                                    "4": "695",
                                    "5": "664",
                                    "6": "84"
                                },
                                {
                                    "0": "10258",
                                    "1": "20",
                                    "2": "140.51",
                                    "3": "696",
                                    "4": "696",
                                    "5": "665",
                                    "6": "84"
                                },
                                {
                                    "0": "10729",
                                    "1": "47",
                                    "2": "141.06",
                                    "3": "697",
                                    "4": "697",
                                    "5": "666",
                                    "6": "84"
                                },
                                {
                                    "0": "11002",
                                    "1": "71",
                                    "2": "141.16",
                                    "3": "698",
                                    "4": "698",
                                    "5": "667",
                                    "6": "84"
                                },
                                {
                                    "0": "10346",
                                    "1": "65",
                                    "2": "142.08",
                                    "3": "699",
                                    "4": "699",
                                    "5": "668",
                                    "6": "84"
                                },
                                {
                                    "0": "10646",
                                    "1": "37",
                                    "2": "142.33",
                                    "3": "700",
                                    "4": "700",
                                    "5": "669",
                                    "6": "84"
                                },
                                {
                                    "0": "10869",
                                    "1": "72",
                                    "2": "143.28",
                                    "3": "701",
                                    "4": "701",
                                    "5": "670",
                                    "6": "84"
                                },
                                {
                                    "0": "10965",
                                    "1": "55",
                                    "2": "144.38",
                                    "3": "702",
                                    "4": "702",
                                    "5": "671",
                                    "6": "84"
                                },
                                {
                                    "0": "10465",
                                    "1": "83",
                                    "2": "145.04",
                                    "3": "703",
                                    "4": "703",
                                    "5": "672",
                                    "6": "85"
                                },
                                {
                                    "0": "10764",
                                    "1": "20",
                                    "2": "145.45",
                                    "3": "704",
                                    "4": "704",
                                    "5": "673",
                                    "6": "85"
                                },
                                {
                                    "0": "10684",
                                    "1": "56",
                                    "2": "145.63",
                                    "3": "705",
                                    "4": "705",
                                    "5": "674",
                                    "6": "85"
                                },
                                {
                                    "0": "10263",
                                    "1": "20",
                                    "2": "146.06",
                                    "3": "706",
                                    "4": "706",
                                    "5": "675",
                                    "6": "85"
                                },
                                {
                                    "0": "10768",
                                    "1": "4",
                                    "2": "146.32",
                                    "3": "707",
                                    "4": "707",
                                    "5": "676",
                                    "6": "85"
                                },
                                {
                                    "0": "10458",
                                    "1": "76",
                                    "2": "147.06",
                                    "3": "708",
                                    "4": "708",
                                    "5": "677",
                                    "6": "85"
                                },
                                {
                                    "0": "10294",
                                    "1": "65",
                                    "2": "147.26",
                                    "3": "709",
                                    "4": "709",
                                    "5": "678",
                                    "6": "85"
                                },
                                {
                                    "0": "10255",
                                    "1": "68",
                                    "2": "148.33",
                                    "3": "710",
                                    "4": "710",
                                    "5": "679",
                                    "6": "85"
                                },
                                {
                                    "0": "10461",
                                    "1": "46",
                                    "2": "148.61",
                                    "3": "711",
                                    "4": "711",
                                    "5": "680",
                                    "6": "86"
                                },
                                {
                                    "0": "11036",
                                    "1": "17",
                                    "2": "149.47",
                                    "3": "712",
                                    "4": "712",
                                    "5": "681",
                                    "6": "86"
                                },
                                {
                                    "0": "10553",
                                    "1": "87",
                                    "2": "149.49",
                                    "3": "713",
                                    "4": "713",
                                    "5": "682",
                                    "6": "86"
                                },
                                {
                                    "0": "10316",
                                    "1": "65",
                                    "2": "150.15",
                                    "3": "714",
                                    "4": "714",
                                    "5": "683",
                                    "6": "86"
                                },
                                {
                                    "0": "10924",
                                    "1": "5",
                                    "2": "151.52",
                                    "3": "715",
                                    "4": "715",
                                    "5": "684",
                                    "6": "86"
                                },
                                {
                                    "0": "10703",
                                    "1": "24",
                                    "2": "152.30",
                                    "3": "716",
                                    "4": "716",
                                    "5": "685",
                                    "6": "86"
                                },
                                {
                                    "0": "10618",
                                    "1": "51",
                                    "2": "154.68",
                                    "3": "717",
                                    "4": "717",
                                    "5": "686",
                                    "6": "86"
                                },
                                {
                                    "0": "10829",
                                    "1": "38",
                                    "2": "154.72",
                                    "3": "718",
                                    "4": "718",
                                    "5": "687",
                                    "6": "86"
                                },
                                {
                                    "0": "10760",
                                    "1": "50",
                                    "2": "155.64",
                                    "3": "719",
                                    "4": "719",
                                    "5": "688",
                                    "6": "87"
                                },
                                {
                                    "0": "10404",
                                    "1": "49",
                                    "2": "155.97",
                                    "3": "720",
                                    "4": "720",
                                    "5": "689",
                                    "6": "87"
                                },
                                {
                                    "0": "10436",
                                    "1": "7",
                                    "2": "156.66",
                                    "3": "721",
                                    "4": "721",
                                    "5": "690",
                                    "6": "87"
                                },
                                {
                                    "0": "10766",
                                    "1": "56",
                                    "2": "157.55",
                                    "3": "722",
                                    "4": "722",
                                    "5": "691",
                                    "6": "87"
                                },
                                {
                                    "0": "10638",
                                    "1": "47",
                                    "2": "158.44",
                                    "3": "723",
                                    "4": "723",
                                    "5": "692",
                                    "6": "87"
                                },
                                {
                                    "0": "10851",
                                    "1": "67",
                                    "2": "160.55",
                                    "3": "724",
                                    "4": "724",
                                    "5": "693",
                                    "6": "87"
                                },
                                {
                                    "0": "10351",
                                    "1": "20",
                                    "2": "162.33",
                                    "3": "725",
                                    "4": "725",
                                    "5": "694",
                                    "6": "87"
                                },
                                {
                                    "0": "10895",
                                    "1": "20",
                                    "2": "162.75",
                                    "3": "726",
                                    "4": "726",
                                    "5": "695",
                                    "6": "87"
                                },
                                {
                                    "0": "10904",
                                    "1": "89",
                                    "2": "162.95",
                                    "3": "727",
                                    "4": "727",
                                    "5": "696",
                                    "6": "88"
                                },
                                {
                                    "0": "10823",
                                    "1": "46",
                                    "2": "163.97",
                                    "3": "728",
                                    "4": "728",
                                    "5": "697",
                                    "6": "88"
                                },
                                {
                                    "0": "10340",
                                    "1": "9",
                                    "2": "166.31",
                                    "3": "729",
                                    "4": "729",
                                    "5": "698",
                                    "6": "88"
                                },
                                {
                                    "0": "10713",
                                    "1": "71",
                                    "2": "167.05",
                                    "3": "730",
                                    "4": "730",
                                    "5": "699",
                                    "6": "88"
                                },
                                {
                                    "0": "10298",
                                    "1": "37",
                                    "2": "168.22",
                                    "3": "731",
                                    "4": "731",
                                    "5": "700",
                                    "6": "88"
                                },
                                {
                                    "0": "10384",
                                    "1": "5",
                                    "2": "168.64",
                                    "3": "732",
                                    "4": "732",
                                    "5": "701",
                                    "6": "88"
                                },
                                {
                                    "0": "10718",
                                    "1": "39",
                                    "2": "170.88",
                                    "3": "733",
                                    "4": "733",
                                    "5": "702",
                                    "6": "88"
                                },
                                {
                                    "0": "10855",
                                    "1": "55",
                                    "2": "170.97",
                                    "3": "734",
                                    "4": "734",
                                    "5": "703",
                                    "6": "88"
                                },
                                {
                                    "0": "10549",
                                    "1": "63",
                                    "2": "171.24",
                                    "3": "735",
                                    "4": "735",
                                    "5": "704",
                                    "6": "89"
                                },
                                {
                                    "0": "10852",
                                    "1": "65",
                                    "2": "174.05",
                                    "3": "736",
                                    "4": "736",
                                    "5": "705",
                                    "6": "89"
                                },
                                {
                                    "0": "10593",
                                    "1": "44",
                                    "2": "174.20",
                                    "3": "737",
                                    "4": "737",
                                    "5": "706",
                                    "6": "89"
                                },
                                {
                                    "0": "10872",
                                    "1": "30",
                                    "2": "175.32",
                                    "3": "738",
                                    "4": "738",
                                    "5": "707",
                                    "6": "89"
                                },
                                {
                                    "0": "10921",
                                    "1": "83",
                                    "2": "176.48",
                                    "3": "739",
                                    "4": "739",
                                    "5": "708",
                                    "6": "89"
                                },
                                {
                                    "0": "10650",
                                    "1": "21",
                                    "2": "176.81",
                                    "3": "740",
                                    "4": "740",
                                    "5": "709",
                                    "6": "89"
                                },
                                {
                                    "0": "10547",
                                    "1": "72",
                                    "2": "178.43",
                                    "3": "741",
                                    "4": "741",
                                    "5": "710",
                                    "6": "89"
                                },
                                {
                                    "0": "10641",
                                    "1": "35",
                                    "2": "179.61",
                                    "3": "742",
                                    "4": "742",
                                    "5": "711",
                                    "6": "89"
                                },
                                {
                                    "0": "10455",
                                    "1": "87",
                                    "2": "180.45",
                                    "3": "743",
                                    "4": "743",
                                    "5": "712",
                                    "6": "90"
                                },
                                {
                                    "0": "10361",
                                    "1": "63",
                                    "2": "183.17",
                                    "3": "744",
                                    "4": "744",
                                    "5": "713",
                                    "6": "90"
                                },
                                {
                                    "0": "10395",
                                    "1": "35",
                                    "2": "184.41",
                                    "3": "745",
                                    "4": "745",
                                    "5": "714",
                                    "6": "90"
                                },
                                {
                                    "0": "10987",
                                    "1": "19",
                                    "2": "185.48",
                                    "3": "746",
                                    "4": "746",
                                    "5": "715",
                                    "6": "90"
                                },
                                {
                                    "0": "10533",
                                    "1": "24",
                                    "2": "188.04",
                                    "3": "747",
                                    "4": "747",
                                    "5": "716",
                                    "6": "90"
                                },
                                {
                                    "0": "10857",
                                    "1": "5",
                                    "2": "188.85",
                                    "3": "748",
                                    "4": "748",
                                    "5": "717",
                                    "6": "90"
                                },
                                {
                                    "0": "10570",
                                    "1": "51",
                                    "2": "188.99",
                                    "3": "749",
                                    "4": "749",
                                    "5": "718",
                                    "6": "90"
                                },
                                {
                                    "0": "10451",
                                    "1": "63",
                                    "2": "189.09",
                                    "3": "750",
                                    "4": "750",
                                    "5": "719",
                                    "6": "90"
                                },
                                {
                                    "0": "10868",
                                    "1": "62",
                                    "2": "191.27",
                                    "3": "751",
                                    "4": "751",
                                    "5": "720",
                                    "6": "91"
                                },
                                {
                                    "0": "10329",
                                    "1": "75",
                                    "2": "191.67",
                                    "3": "752",
                                    "4": "752",
                                    "5": "721",
                                    "6": "91"
                                },
                                {
                                    "0": "10981",
                                    "1": "34",
                                    "2": "193.37",
                                    "3": "753",
                                    "4": "753",
                                    "5": "722",
                                    "6": "91"
                                },
                                {
                                    "0": "10588",
                                    "1": "63",
                                    "2": "194.67",
                                    "3": "754",
                                    "4": "754",
                                    "5": "723",
                                    "6": "91"
                                },
                                {
                                    "0": "10546",
                                    "1": "84",
                                    "2": "194.72",
                                    "3": "755",
                                    "4": "755",
                                    "5": "724",
                                    "6": "91"
                                },
                                {
                                    "0": "10369",
                                    "1": "75",
                                    "2": "195.68",
                                    "3": "756",
                                    "4": "756",
                                    "5": "725",
                                    "6": "91"
                                },
                                {
                                    "0": "11001",
                                    "1": "24",
                                    "2": "197.30",
                                    "3": "757",
                                    "4": "757",
                                    "5": "726",
                                    "6": "91"
                                },
                                {
                                    "0": "10607",
                                    "1": "71",
                                    "2": "200.24",
                                    "3": "758",
                                    "4": "758",
                                    "5": "727",
                                    "6": "91"
                                },
                                {
                                    "0": "10637",
                                    "1": "62",
                                    "2": "201.29",
                                    "3": "759",
                                    "4": "759",
                                    "5": "728",
                                    "6": "92"
                                },
                                {
                                    "0": "11007",
                                    "1": "60",
                                    "2": "202.24",
                                    "3": "760",
                                    "4": "760",
                                    "5": "729",
                                    "6": "92"
                                },
                                {
                                    "0": "10670",
                                    "1": "25",
                                    "2": "203.48",
                                    "3": "761",
                                    "4": "761",
                                    "5": "730",
                                    "6": "92"
                                },
                                {
                                    "0": "10515",
                                    "1": "63",
                                    "2": "204.47",
                                    "3": "762",
                                    "4": "762",
                                    "5": "731",
                                    "6": "92"
                                },
                                {
                                    "0": "10977",
                                    "1": "24",
                                    "2": "208.50",
                                    "3": "763",
                                    "4": "763",
                                    "5": "732",
                                    "6": "92"
                                },
                                {
                                    "0": "10267",
                                    "1": "25",
                                    "2": "208.58",
                                    "3": "764",
                                    "4": "764",
                                    "5": "733",
                                    "6": "92"
                                },
                                {
                                    "0": "10490",
                                    "1": "35",
                                    "2": "210.19",
                                    "3": "765",
                                    "4": "765",
                                    "5": "734",
                                    "6": "92"
                                },
                                {
                                    "0": "10709",
                                    "1": "31",
                                    "2": "210.80",
                                    "3": "766",
                                    "4": "766",
                                    "5": "735",
                                    "6": "92"
                                },
                                {
                                    "0": "10984",
                                    "1": "71",
                                    "2": "211.22",
                                    "3": "767",
                                    "4": "767",
                                    "5": "736",
                                    "6": "93"
                                },
                                {
                                    "0": "10845",
                                    "1": "63",
                                    "2": "212.98",
                                    "3": "768",
                                    "4": "768",
                                    "5": "737",
                                    "6": "93"
                                },
                                {
                                    "0": "10324",
                                    "1": "71",
                                    "2": "214.27",
                                    "3": "769",
                                    "4": "769",
                                    "5": "738",
                                    "6": "93"
                                },
                                {
                                    "0": "10986",
                                    "1": "54",
                                    "2": "217.86",
                                    "3": "770",
                                    "4": "770",
                                    "5": "739",
                                    "6": "93"
                                },
                                {
                                    "0": "10518",
                                    "1": "80",
                                    "2": "218.15",
                                    "3": "771",
                                    "4": "771",
                                    "5": "740",
                                    "6": "93"
                                },
                                {
                                    "0": "10701",
                                    "1": "37",
                                    "2": "220.31",
                                    "3": "772",
                                    "4": "772",
                                    "5": "741",
                                    "6": "93"
                                },
                                {
                                    "0": "11031",
                                    "1": "71",
                                    "2": "227.22",
                                    "3": "773",
                                    "4": "773",
                                    "5": "742",
                                    "6": "93"
                                },
                                {
                                    "0": "10286",
                                    "1": "63",
                                    "2": "229.24",
                                    "3": "774",
                                    "4": "774",
                                    "5": "743",
                                    "6": "93"
                                },
                                {
                                    "0": "10666",
                                    "1": "68",
                                    "2": "232.42",
                                    "3": "775",
                                    "4": "775",
                                    "5": "744",
                                    "6": "94"
                                },
                                {
                                    "0": "10748",
                                    "1": "71",
                                    "2": "232.55",
                                    "3": "776",
                                    "4": "776",
                                    "5": "745",
                                    "6": "94"
                                },
                                {
                                    "0": "10805",
                                    "1": "77",
                                    "2": "237.34",
                                    "3": "777",
                                    "4": "777",
                                    "5": "746",
                                    "6": "94"
                                },
                                {
                                    "0": "10561",
                                    "1": "24",
                                    "2": "242.21",
                                    "3": "778",
                                    "4": "778",
                                    "5": "747",
                                    "6": "94"
                                },
                                {
                                    "0": "11012",
                                    "1": "25",
                                    "2": "242.95",
                                    "3": "779",
                                    "4": "779",
                                    "5": "748",
                                    "6": "94"
                                },
                                {
                                    "0": "10742",
                                    "1": "10",
                                    "2": "243.73",
                                    "3": "780",
                                    "4": "780",
                                    "5": "749",
                                    "6": "94"
                                },
                                {
                                    "0": "10524",
                                    "1": "5",
                                    "2": "244.79",
                                    "3": "781",
                                    "4": "781",
                                    "5": "750",
                                    "6": "94"
                                },
                                {
                                    "0": "10345",
                                    "1": "63",
                                    "2": "249.06",
                                    "3": "782",
                                    "4": "782",
                                    "5": "751",
                                    "6": "94"
                                },
                                {
                                    "0": "10787",
                                    "1": "41",
                                    "2": "249.93",
                                    "3": "783",
                                    "4": "783",
                                    "5": "752",
                                    "6": "95"
                                },
                                {
                                    "0": "10555",
                                    "1": "71",
                                    "2": "252.49",
                                    "3": "784",
                                    "4": "784",
                                    "5": "753",
                                    "6": "95"
                                },
                                {
                                    "0": "10802",
                                    "1": "73",
                                    "2": "257.26",
                                    "3": "785",
                                    "4": "785",
                                    "5": "754",
                                    "6": "95"
                                },
                                {
                                    "0": "10305",
                                    "1": "55",
                                    "2": "257.62",
                                    "3": "786",
                                    "4": "786",
                                    "5": "755",
                                    "6": "95"
                                },
                                {
                                    "0": "11072",
                                    "1": "20",
                                    "2": "258.64",
                                    "3": "787",
                                    "4": "787",
                                    "5": "756",
                                    "6": "95"
                                },
                                {
                                    "0": "10698",
                                    "1": "20",
                                    "2": "272.47",
                                    "3": "788",
                                    "4": "788",
                                    "5": "757",
                                    "6": "95"
                                },
                                {
                                    "0": "10962",
                                    "1": "63",
                                    "2": "275.79",
                                    "3": "789",
                                    "4": "789",
                                    "5": "758",
                                    "6": "95"
                                },
                                {
                                    "0": "11056",
                                    "1": "19",
                                    "2": "278.96",
                                    "3": "790",
                                    "4": "790",
                                    "5": "759",
                                    "6": "95"
                                },
                                {
                                    "0": "10889",
                                    "1": "65",
                                    "2": "280.61",
                                    "3": "791",
                                    "4": "791",
                                    "5": "760",
                                    "6": "96"
                                },
                                {
                                    "0": "10359",
                                    "1": "72",
                                    "2": "288.43",
                                    "3": "792",
                                    "4": "792",
                                    "5": "761",
                                    "6": "96"
                                },
                                {
                                    "0": "10687",
                                    "1": "37",
                                    "2": "296.43",
                                    "3": "793",
                                    "4": "793",
                                    "5": "762",
                                    "6": "96"
                                },
                                {
                                    "0": "11021",
                                    "1": "63",
                                    "2": "297.18",
                                    "3": "794",
                                    "4": "794",
                                    "5": "763",
                                    "6": "96"
                                },
                                {
                                    "0": "10688",
                                    "1": "83",
                                    "2": "299.09",
                                    "3": "795",
                                    "4": "795",
                                    "5": "764",
                                    "6": "96"
                                },
                                {
                                    "0": "10817",
                                    "1": "39",
                                    "2": "306.07",
                                    "3": "796",
                                    "4": "796",
                                    "5": "765",
                                    "6": "96"
                                },
                                {
                                    "0": "10762",
                                    "1": "24",
                                    "2": "328.74",
                                    "3": "797",
                                    "4": "797",
                                    "5": "766",
                                    "6": "96"
                                },
                                {
                                    "0": "10530",
                                    "1": "59",
                                    "2": "339.22",
                                    "3": "798",
                                    "4": "798",
                                    "5": "767",
                                    "6": "96"
                                },
                                {
                                    "0": "10865",
                                    "1": "63",
                                    "2": "348.14",
                                    "3": "799",
                                    "4": "799",
                                    "5": "768",
                                    "6": "97"
                                },
                                {
                                    "0": "10511",
                                    "1": "9",
                                    "2": "350.64",
                                    "3": "800",
                                    "4": "800",
                                    "5": "769",
                                    "6": "97"
                                },
                                {
                                    "0": "10776",
                                    "1": "20",
                                    "2": "351.53",
                                    "3": "801",
                                    "4": "801",
                                    "5": "770",
                                    "6": "97"
                                },
                                {
                                    "0": "10657",
                                    "1": "71",
                                    "2": "352.69",
                                    "3": "802",
                                    "4": "802",
                                    "5": "771",
                                    "6": "97"
                                },
                                {
                                    "0": "10979",
                                    "1": "20",
                                    "2": "353.07",
                                    "3": "803",
                                    "4": "803",
                                    "5": "772",
                                    "6": "97"
                                },
                                {
                                    "0": "10353",
                                    "1": "59",
                                    "2": "360.63",
                                    "3": "804",
                                    "4": "804",
                                    "5": "773",
                                    "6": "97"
                                },
                                {
                                    "0": "10658",
                                    "1": "63",
                                    "2": "364.15",
                                    "3": "805",
                                    "4": "805",
                                    "5": "774",
                                    "6": "97"
                                },
                                {
                                    "0": "10510",
                                    "1": "71",
                                    "2": "367.63",
                                    "3": "806",
                                    "4": "806",
                                    "5": "775",
                                    "6": "97"
                                },
                                {
                                    "0": "10424",
                                    "1": "51",
                                    "2": "370.61",
                                    "3": "807",
                                    "4": "807",
                                    "5": "776",
                                    "6": "98"
                                },
                                {
                                    "0": "10605",
                                    "1": "51",
                                    "2": "379.13",
                                    "3": "808",
                                    "4": "808",
                                    "5": "777",
                                    "6": "98"
                                },
                                {
                                    "0": "10678",
                                    "1": "71",
                                    "2": "388.98",
                                    "3": "809",
                                    "4": "809",
                                    "5": "778",
                                    "6": "98"
                                },
                                {
                                    "0": "10694",
                                    "1": "63",
                                    "2": "398.36",
                                    "3": "810",
                                    "4": "810",
                                    "5": "779",
                                    "6": "98"
                                },
                                {
                                    "0": "10941",
                                    "1": "71",
                                    "2": "400.81",
                                    "3": "811",
                                    "4": "811",
                                    "5": "780",
                                    "6": "98"
                                },
                                {
                                    "0": "10836",
                                    "1": "20",
                                    "2": "411.88",
                                    "3": "812",
                                    "4": "812",
                                    "5": "781",
                                    "6": "98"
                                },
                                {
                                    "0": "10841",
                                    "1": "76",
                                    "2": "424.30",
                                    "3": "813",
                                    "4": "813",
                                    "5": "782",
                                    "6": "98"
                                },
                                {
                                    "0": "10430",
                                    "1": "20",
                                    "2": "458.78",
                                    "3": "814",
                                    "4": "814",
                                    "5": "783",
                                    "6": "98"
                                },
                                {
                                    "0": "10633",
                                    "1": "20",
                                    "2": "477.90",
                                    "3": "815",
                                    "4": "815",
                                    "5": "784",
                                    "6": "99"
                                },
                                {
                                    "0": "10634",
                                    "1": "23",
                                    "2": "487.38",
                                    "3": "816",
                                    "4": "816",
                                    "5": "785",
                                    "6": "99"
                                },
                                {
                                    "0": "10847",
                                    "1": "71",
                                    "2": "487.57",
                                    "3": "817",
                                    "4": "817",
                                    "5": "786",
                                    "6": "99"
                                },
                                {
                                    "0": "10612",
                                    "1": "71",
                                    "2": "544.08",
                                    "3": "818",
                                    "4": "818",
                                    "5": "787",
                                    "6": "99"
                                },
                                {
                                    "0": "10912",
                                    "1": "37",
                                    "2": "580.91",
                                    "3": "819",
                                    "4": "819",
                                    "5": "788",
                                    "6": "99"
                                },
                                {
                                    "0": "10897",
                                    "1": "37",
                                    "2": "603.54",
                                    "3": "820",
                                    "4": "820",
                                    "5": "789",
                                    "6": "99"
                                },
                                {
                                    "0": "11032",
                                    "1": "89",
                                    "2": "606.19",
                                    "3": "821",
                                    "4": "821",
                                    "5": "790",
                                    "6": "99"
                                },
                                {
                                    "0": "10983",
                                    "1": "71",
                                    "2": "657.54",
                                    "3": "822",
                                    "4": "822",
                                    "5": "791",
                                    "6": "99"
                                },
                                {
                                    "0": "10479",
                                    "1": "65",
                                    "2": "708.95",
                                    "3": "823",
                                    "4": "823",
                                    "5": "792",
                                    "6": "100"
                                },
                                {
                                    "0": "10816",
                                    "1": "32",
                                    "2": "719.78",
                                    "3": "824",
                                    "4": "824",
                                    "5": "793",
                                    "6": "100"
                                },
                                {
                                    "0": "11017",
                                    "1": "20",
                                    "2": "754.26",
                                    "3": "825",
                                    "4": "825",
                                    "5": "794",
                                    "6": "100"
                                },
                                {
                                    "0": "10514",
                                    "1": "20",
                                    "2": "789.95",
                                    "3": "826",
                                    "4": "826",
                                    "5": "795",
                                    "6": "100"
                                },
                                {
                                    "0": "10691",
                                    "1": "63",
                                    "2": "810.05",
                                    "3": "827",
                                    "4": "827",
                                    "5": "796",
                                    "6": "100"
                                },
                                {
                                    "0": "11030",
                                    "1": "71",
                                    "2": "830.75",
                                    "3": "828",
                                    "4": "828",
                                    "5": "797",
                                    "6": "100"
                                },
                                {
                                    "0": "10372",
                                    "1": "62",
                                    "2": "890.78",
                                    "3": "829",
                                    "4": "829",
                                    "5": "798",
                                    "6": "100"
                                },
                                {
                                    "0": "10540",
                                    "1": "63",
                                    "2": "1007.64",
                                    "3": "830",
                                    "4": "830",
                                    "5": "799",
                                    "6": "100"
                                }
                            ]
                        },
                        "text/html": [
                            "<table>",
                            "<tr><th>OrderId</th><th>CustomerId</th><th>Freight</th><th>rownum</th><th>rank</th><th>dense_rank</th><th>ntile</th></tr>",
                            "<tr><td>10972</td><td>40</td><td>0.02</td><td>1</td><td>1</td><td>1</td><td>1</td></tr>",
                            "<tr><td>10296</td><td>46</td><td>0.12</td><td>2</td><td>2</td><td>2</td><td>1</td></tr>",
                            "<tr><td>10644</td><td>88</td><td>0.14</td><td>3</td><td>3</td><td>3</td><td>1</td></tr>",
                            "<tr><td>10509</td><td>6</td><td>0.15</td><td>4</td><td>4</td><td>4</td><td>1</td></tr>",
                            "<tr><td>11035</td><td>76</td><td>0.17</td><td>5</td><td>5</td><td>5</td><td>1</td></tr>",
                            "<tr><td>10415</td><td>36</td><td>0.20</td><td>6</td><td>6</td><td>6</td><td>1</td></tr>",
                            "<tr><td>10969</td><td>15</td><td>0.21</td><td>7</td><td>7</td><td>7</td><td>1</td></tr>",
                            "<tr><td>11054</td><td>12</td><td>0.33</td><td>8</td><td>8</td><td>8</td><td>1</td></tr>",
                            "<tr><td>10322</td><td>58</td><td>0.40</td><td>9</td><td>9</td><td>9</td><td>1</td></tr>",
                            "<tr><td>10371</td><td>41</td><td>0.45</td><td>10</td><td>10</td><td>10</td><td>2</td></tr>",
                            "<tr><td>10586</td><td>66</td><td>0.48</td><td>11</td><td>11</td><td>11</td><td>2</td></tr>",
                            "<tr><td>10883</td><td>48</td><td>0.53</td><td>12</td><td>12</td><td>12</td><td>2</td></tr>",
                            "<tr><td>10849</td><td>39</td><td>0.56</td><td>13</td><td>13</td><td>13</td><td>2</td></tr>",
                            "<tr><td>10307</td><td>48</td><td>0.56</td><td>14</td><td>13</td><td>13</td><td>2</td></tr>",
                            "<tr><td>10699</td><td>52</td><td>0.58</td><td>15</td><td>15</td><td>14</td><td>2</td></tr>",
                            "<tr><td>10333</td><td>87</td><td>0.59</td><td>16</td><td>16</td><td>15</td><td>2</td></tr>",
                            "<tr><td>10615</td><td>90</td><td>0.75</td><td>17</td><td>17</td><td>16</td><td>2</td></tr>",
                            "<tr><td>11005</td><td>90</td><td>0.75</td><td>18</td><td>17</td><td>16</td><td>2</td></tr>",
                            "<tr><td>10348</td><td>86</td><td>0.78</td><td>19</td><td>19</td><td>17</td><td>3</td></tr>",
                            "<tr><td>10873</td><td>90</td><td>0.82</td><td>20</td><td>20</td><td>18</td><td>3</td></tr>",
                            "<tr><td>10631</td><td>41</td><td>0.87</td><td>21</td><td>21</td><td>19</td><td>3</td></tr>",
                            "<tr><td>10674</td><td>38</td><td>0.90</td><td>22</td><td>22</td><td>20</td><td>3</td></tr>",
                            "<tr><td>11071</td><td>46</td><td>0.93</td><td>23</td><td>23</td><td>21</td><td>3</td></tr>",
                            "<tr><td>10620</td><td>42</td><td>0.94</td><td>24</td><td>24</td><td>22</td><td>3</td></tr>",
                            "<tr><td>10782</td><td>12</td><td>1.10</td><td>25</td><td>25</td><td>23</td><td>3</td></tr>",
                            "<tr><td>10996</td><td>63</td><td>1.12</td><td>26</td><td>26</td><td>24</td><td>3</td></tr>",
                            "<tr><td>10636</td><td>87</td><td>1.15</td><td>27</td><td>27</td><td>25</td><td>3</td></tr>",
                            "<tr><td>10295</td><td>85</td><td>1.15</td><td>28</td><td>27</td><td>25</td><td>4</td></tr>",
                            "<tr><td>10370</td><td>14</td><td>1.17</td><td>29</td><td>29</td><td>26</td><td>4</td></tr>",
                            "<tr><td>11011</td><td>1</td><td>1.21</td><td>30</td><td>30</td><td>27</td><td>4</td></tr>",
                            "<tr><td>10899</td><td>46</td><td>1.21</td><td>31</td><td>30</td><td>27</td><td>4</td></tr>",
                            "<tr><td>10824</td><td>24</td><td>1.23</td><td>32</td><td>32</td><td>28</td><td>4</td></tr>",
                            "<tr><td>10887</td><td>29</td><td>1.25</td><td>33</td><td>33</td><td>29</td><td>4</td></tr>",
                            "<tr><td>10980</td><td>24</td><td>1.26</td><td>34</td><td>34</td><td>30</td><td>4</td></tr>",
                            "<tr><td>10898</td><td>54</td><td>1.27</td><td>35</td><td>35</td><td>31</td><td>4</td></tr>",
                            "<tr><td>10664</td><td>28</td><td>1.27</td><td>36</td><td>35</td><td>31</td><td>4</td></tr>",
                            "<tr><td>10662</td><td>48</td><td>1.28</td><td>37</td><td>37</td><td>32</td><td>5</td></tr>",
                            "<tr><td>10352</td><td>28</td><td>1.30</td><td>38</td><td>38</td><td>33</td><td>5</td></tr>",
                            "<tr><td>10292</td><td>81</td><td>1.35</td><td>39</td><td>39</td><td>34</td><td>5</td></tr>",
                            "<tr><td>10480</td><td>23</td><td>1.35</td><td>40</td><td>39</td><td>34</td><td>5</td></tr>",
                            "<tr><td>10807</td><td>27</td><td>1.36</td><td>41</td><td>41</td><td>35</td><td>5</td></tr>",
                            "<tr><td>10928</td><td>29</td><td>1.36</td><td>42</td><td>41</td><td>35</td><td>5</td></tr>",
                            "<tr><td>10752</td><td>53</td><td>1.39</td><td>43</td><td>43</td><td>36</td><td>5</td></tr>",
                            "<tr><td>10548</td><td>79</td><td>1.43</td><td>44</td><td>44</td><td>37</td><td>5</td></tr>",
                            "<tr><td>10785</td><td>33</td><td>1.51</td><td>45</td><td>45</td><td>38</td><td>5</td></tr>",
                            "<tr><td>10767</td><td>76</td><td>1.59</td><td>46</td><td>46</td><td>39</td><td>6</td></tr>",
                            "<tr><td>10308</td><td>2</td><td>1.61</td><td>47</td><td>47</td><td>40</td><td>6</td></tr>",
                            "<tr><td>10734</td><td>31</td><td>1.63</td><td>48</td><td>48</td><td>41</td><td>6</td></tr>",
                            "<tr><td>10900</td><td>88</td><td>1.66</td><td>49</td><td>49</td><td>42</td><td>6</td></tr>",
                            "<tr><td>10609</td><td>18</td><td>1.85</td><td>50</td><td>50</td><td>43</td><td>6</td></tr>",
                            "<tr><td>10614</td><td>6</td><td>1.93</td><td>51</td><td>51</td><td>44</td><td>6</td></tr>",
                            "<tr><td>10867</td><td>48</td><td>1.93</td><td>52</td><td>51</td><td>44</td><td>6</td></tr>",
                            "<tr><td>10313</td><td>63</td><td>1.96</td><td>53</td><td>53</td><td>45</td><td>6</td></tr>",
                            "<tr><td>10676</td><td>80</td><td>2.01</td><td>54</td><td>54</td><td>46</td><td>6</td></tr>",
                            "<tr><td>10960</td><td>35</td><td>2.08</td><td>55</td><td>55</td><td>47</td><td>7</td></tr>",
                            "<tr><td>10943</td><td>11</td><td>2.17</td><td>56</td><td>56</td><td>48</td><td>7</td></tr>",
                            "<tr><td>10925</td><td>34</td><td>2.27</td><td>57</td><td>57</td><td>49</td><td>7</td></tr>",
                            "<tr><td>10798</td><td>38</td><td>2.33</td><td>58</td><td>58</td><td>50</td><td>7</td></tr>",
                            "<tr><td>10754</td><td>49</td><td>2.38</td><td>59</td><td>59</td><td>51</td><td>7</td></tr>",
                            "<tr><td>10410</td><td>10</td><td>2.40</td><td>60</td><td>60</td><td>52</td><td>7</td></tr>",
                            "<tr><td>10950</td><td>49</td><td>2.50</td><td>61</td><td>61</td><td>53</td><td>7</td></tr>",
                            "<tr><td>10963</td><td>28</td><td>2.70</td><td>62</td><td>62</td><td>54</td><td>7</td></tr>",
                            "<tr><td>10840</td><td>47</td><td>2.71</td><td>63</td><td>63</td><td>55</td><td>7</td></tr>",
                            "<tr><td>10454</td><td>41</td><td>2.74</td><td>64</td><td>64</td><td>56</td><td>8</td></tr>",
                            "<tr><td>11051</td><td>41</td><td>2.79</td><td>65</td><td>65</td><td>57</td><td>8</td></tr>",
                            "<tr><td>10881</td><td>12</td><td>2.84</td><td>66</td><td>66</td><td>58</td><td>8</td></tr>",
                            "<tr><td>10738</td><td>74</td><td>2.91</td><td>67</td><td>67</td><td>59</td><td>8</td></tr>",
                            "<tr><td>10602</td><td>83</td><td>2.92</td><td>68</td><td>68</td><td>60</td><td>8</td></tr>",
                            "<tr><td>10281</td><td>69</td><td>2.94</td><td>69</td><td>69</td><td>61</td><td>8</td></tr>",
                            "<tr><td>10708</td><td>77</td><td>2.96</td><td>70</td><td>70</td><td>62</td><td>8</td></tr>",
                            "<tr><td>10777</td><td>31</td><td>3.01</td><td>71</td><td>71</td><td>63</td><td>8</td></tr>",
                            "<tr><td>10581</td><td>21</td><td>3.01</td><td>72</td><td>71</td><td>63</td><td>8</td></tr>",
                            "<tr><td>10422</td><td>27</td><td>3.02</td><td>73</td><td>73</td><td>64</td><td>9</td></tr>",
                            "<tr><td>10864</td><td>4</td><td>3.04</td><td>74</td><td>74</td><td>65</td><td>9</td></tr>",
                            "<tr><td>10261</td><td>61</td><td>3.05</td><td>75</td><td>75</td><td>66</td><td>9</td></tr>",
                            "<tr><td>10347</td><td>21</td><td>3.10</td><td>76</td><td>76</td><td>67</td><td>9</td></tr>",
                            "<tr><td>11019</td><td>64</td><td>3.17</td><td>77</td><td>77</td><td>68</td><td>9</td></tr>",
                            "<tr><td>11037</td><td>30</td><td>3.20</td><td>78</td><td>78</td><td>69</td><td>9</td></tr>",
                            "<tr><td>10259</td><td>13</td><td>3.25</td><td>79</td><td>79</td><td>70</td><td>9</td></tr>",
                            "<tr><td>10947</td><td>11</td><td>3.26</td><td>80</td><td>80</td><td>71</td><td>9</td></tr>",
                            "<tr><td>10955</td><td>24</td><td>3.26</td><td>81</td><td>80</td><td>71</td><td>9</td></tr>",
                            "<tr><td>10528</td><td>32</td><td>3.35</td><td>82</td><td>82</td><td>72</td><td>10</td></tr>",
                            "<tr><td>10321</td><td>38</td><td>3.43</td><td>83</td><td>83</td><td>73</td><td>10</td></tr>",
                            "<tr><td>10444</td><td>5</td><td>3.50</td><td>84</td><td>84</td><td>74</td><td>10</td></tr>",
                            "<tr><td>10915</td><td>80</td><td>3.51</td><td>85</td><td>85</td><td>75</td><td>10</td></tr>",
                            "<tr><td>10745</td><td>63</td><td>3.52</td><td>86</td><td>86</td><td>76</td><td>10</td></tr>",
                            "<tr><td>10705</td><td>35</td><td>3.52</td><td>87</td><td>86</td><td>76</td><td>10</td></tr>",
                            "<tr><td>10512</td><td>21</td><td>3.53</td><td>88</td><td>88</td><td>77</td><td>10</td></tr>",
                            "<tr><td>10264</td><td>24</td><td>3.67</td><td>89</td><td>89</td><td>78</td><td>10</td></tr>",
                            "<tr><td>10412</td><td>87</td><td>3.77</td><td>90</td><td>90</td><td>79</td><td>10</td></tr>",
                            "<tr><td>10374</td><td>91</td><td>3.94</td><td>91</td><td>91</td><td>80</td><td>11</td></tr>",
                            "<tr><td>10677</td><td>3</td><td>4.03</td><td>92</td><td>92</td><td>81</td><td>11</td></tr>",
                            "<tr><td>10439</td><td>51</td><td>4.07</td><td>93</td><td>93</td><td>82</td><td>11</td></tr>",
                            "<tr><td>11057</td><td>53</td><td>4.13</td><td>94</td><td>94</td><td>83</td><td>11</td></tr>",
                            "<tr><td>10472</td><td>72</td><td>4.20</td><td>95</td><td>95</td><td>84</td><td>11</td></tr>",
                            "<tr><td>10992</td><td>77</td><td>4.27</td><td>96</td><td>96</td><td>85</td><td>11</td></tr>",
                            "<tr><td>10550</td><td>30</td><td>4.32</td><td>97</td><td>97</td><td>86</td><td>11</td></tr>",
                            "<tr><td>10810</td><td>42</td><td>4.33</td><td>98</td><td>98</td><td>87</td><td>11</td></tr>",
                            "<tr><td>10432</td><td>75</td><td>4.34</td><td>99</td><td>99</td><td>88</td><td>11</td></tr>",
                            "<tr><td>10683</td><td>18</td><td>4.40</td><td>100</td><td>100</td><td>89</td><td>12</td></tr>",
                            "<tr><td>10655</td><td>66</td><td>4.41</td><td>101</td><td>101</td><td>90</td><td>12</td></tr>",
                            "<tr><td>10476</td><td>35</td><td>4.41</td><td>102</td><td>101</td><td>90</td><td>12</td></tr>",
                            "<tr><td>10589</td><td>32</td><td>4.42</td><td>103</td><td>103</td><td>91</td><td>12</td></tr>",
                            "<tr><td>10793</td><td>4</td><td>4.52</td><td>104</td><td>104</td><td>92</td><td>12</td></tr>",
                            "<tr><td>10271</td><td>75</td><td>4.54</td><td>105</td><td>105</td><td>93</td><td>12</td></tr>",
                            "<tr><td>10269</td><td>89</td><td>4.56</td><td>106</td><td>106</td><td>94</td><td>12</td></tr>",
                            "<tr><td>11015</td><td>70</td><td>4.62</td><td>107</td><td>107</td><td>95</td><td>12</td></tr>",
                            "<tr><td>10495</td><td>42</td><td>4.65</td><td>108</td><td>108</td><td>96</td><td>12</td></tr>",
                            "<tr><td>10318</td><td>38</td><td>4.73</td><td>109</td><td>109</td><td>97</td><td>13</td></tr>",
                            "<tr><td>10704</td><td>62</td><td>4.78</td><td>110</td><td>110</td><td>98</td><td>13</td></tr>",
                            "<tr><td>10478</td><td>84</td><td>4.81</td><td>111</td><td>111</td><td>99</td><td>13</td></tr>",
                            "<tr><td>10538</td><td>11</td><td>4.87</td><td>112</td><td>112</td><td>100</td><td>13</td></tr>",
                            "<tr><td>10809</td><td>88</td><td>4.87</td><td>113</td><td>112</td><td>100</td><td>13</td></tr>",
                            "<tr><td>10323</td><td>39</td><td>4.88</td><td>114</td><td>114</td><td>101</td><td>13</td></tr>",
                            "<tr><td>10488</td><td>25</td><td>4.93</td><td>115</td><td>115</td><td>102</td><td>13</td></tr>",
                            "<tr><td>10467</td><td>49</td><td>4.93</td><td>116</td><td>115</td><td>102</td><td>13</td></tr>",
                            "<tr><td>10710</td><td>27</td><td>4.98</td><td>117</td><td>117</td><td>103</td><td>13</td></tr>",
                            "<tr><td>10959</td><td>31</td><td>4.98</td><td>118</td><td>117</td><td>103</td><td>14</td></tr>",
                            "<tr><td>10886</td><td>34</td><td>4.99</td><td>119</td><td>119</td><td>104</td><td>14</td></tr>",
                            "<tr><td>10508</td><td>56</td><td>4.99</td><td>120</td><td>119</td><td>104</td><td>14</td></tr>",
                            "<tr><td>10594</td><td>55</td><td>5.24</td><td>121</td><td>121</td><td>105</td><td>14</td></tr>",
                            "<tr><td>10489</td><td>59</td><td>5.29</td><td>122</td><td>122</td><td>106</td><td>14</td></tr>",
                            "<tr><td>10770</td><td>34</td><td>5.32</td><td>123</td><td>123</td><td>107</td><td>14</td></tr>",
                            "<tr><td>10378</td><td>24</td><td>5.44</td><td>124</td><td>124</td><td>108</td><td>14</td></tr>",
                            "<tr><td>10391</td><td>17</td><td>5.45</td><td>125</td><td>125</td><td>109</td><td>14</td></tr>",
                            "<tr><td>10885</td><td>76</td><td>5.64</td><td>126</td><td>126</td><td>110</td><td>14</td></tr>",
                            "<tr><td>10297</td><td>7</td><td>5.74</td><td>127</td><td>127</td><td>111</td><td>15</td></tr>",
                            "<tr><td>10274</td><td>85</td><td>6.01</td><td>128</td><td>128</td><td>112</td><td>15</td></tr>",
                            "<tr><td>10462</td><td>16</td><td>6.17</td><td>129</td><td>129</td><td>113</td><td>15</td></tr>",
                            "<tr><td>11075</td><td>68</td><td>6.19</td><td>130</td><td>130</td><td>114</td><td>15</td></tr>",
                            "<tr><td>10649</td><td>50</td><td>6.20</td><td>131</td><td>131</td><td>115</td><td>15</td></tr>",
                            "<tr><td>10302</td><td>76</td><td>6.27</td><td>132</td><td>132</td><td>116</td><td>15</td></tr>",
                            "<tr><td>11022</td><td>34</td><td>6.27</td><td>133</td><td>132</td><td>116</td><td>15</td></tr>",
                            "<tr><td>10291</td><td>61</td><td>6.40</td><td>134</td><td>134</td><td>117</td><td>15</td></tr>",
                            "<tr><td>10568</td><td>29</td><td>6.54</td><td>135</td><td>135</td><td>118</td><td>15</td></tr>",
                            "<tr><td>10778</td><td>5</td><td>6.79</td><td>136</td><td>136</td><td>119</td><td>16</td></tr>",
                            "<tr><td>10484</td><td>11</td><td>6.88</td><td>137</td><td>137</td><td>120</td><td>16</td></tr>",
                            "<tr><td>10822</td><td>82</td><td>7.00</td><td>138</td><td>138</td><td>121</td><td>16</td></tr>",
                            "<tr><td>10826</td><td>7</td><td>7.09</td><td>139</td><td>139</td><td>122</td><td>16</td></tr>",
                            "<tr><td>10505</td><td>51</td><td>7.13</td><td>140</td><td>140</td><td>123</td><td>16</td></tr>",
                            "<tr><td>10652</td><td>31</td><td>7.14</td><td>141</td><td>141</td><td>124</td><td>16</td></tr>",
                            "<tr><td>10565</td><td>51</td><td>7.15</td><td>142</td><td>142</td><td>125</td><td>16</td></tr>",
                            "<tr><td>10450</td><td>84</td><td>7.23</td><td>143</td><td>143</td><td>126</td><td>16</td></tr>",
                            "<tr><td>10583</td><td>87</td><td>7.28</td><td>144</td><td>144</td><td>127</td><td>16</td></tr>",
                            "<tr><td>10288</td><td>66</td><td>7.45</td><td>145</td><td>145</td><td>128</td><td>17</td></tr>",
                            "<tr><td>10604</td><td>28</td><td>7.46</td><td>146</td><td>146</td><td>129</td><td>17</td></tr>",
                            "<tr><td>10482</td><td>43</td><td>7.48</td><td>147</td><td>147</td><td>130</td><td>17</td></tr>",
                            "<tr><td>10306</td><td>69</td><td>7.56</td><td>148</td><td>148</td><td>131</td><td>17</td></tr>",
                            "<tr><td>10753</td><td>27</td><td>7.70</td><td>149</td><td>149</td><td>132</td><td>17</td></tr>",
                            "<tr><td>10737</td><td>85</td><td>7.79</td><td>150</td><td>150</td><td>133</td><td>17</td></tr>",
                            "<tr><td>10425</td><td>41</td><td>7.93</td><td>151</td><td>151</td><td>134</td><td>17</td></tr>",
                            "<tr><td>11067</td><td>17</td><td>7.98</td><td>152</td><td>152</td><td>135</td><td>17</td></tr>",
                            "<tr><td>10381</td><td>46</td><td>7.99</td><td>153</td><td>153</td><td>136</td><td>17</td></tr>",
                            "<tr><td>10559</td><td>7</td><td>8.05</td><td>154</td><td>154</td><td>137</td><td>18</td></tr>",
                            "<tr><td>10613</td><td>35</td><td>8.11</td><td>155</td><td>155</td><td>138</td><td>18</td></tr>",
                            "<tr><td>10531</td><td>54</td><td>8.12</td><td>156</td><td>156</td><td>139</td><td>18</td></tr>",
                            "<tr><td>10456</td><td>39</td><td>8.12</td><td>157</td><td>156</td><td>139</td><td>18</td></tr>",
                            "<tr><td>10757</td><td>71</td><td>8.19</td><td>158</td><td>158</td><td>140</td><td>18</td></tr>",
                            "<tr><td>10438</td><td>79</td><td>8.24</td><td>159</td><td>159</td><td>141</td><td>18</td></tr>",
                            "<tr><td>10917</td><td>69</td><td>8.29</td><td>160</td><td>160</td><td>142</td><td>18</td></tr>",
                            "<tr><td>11049</td><td>31</td><td>8.34</td><td>161</td><td>161</td><td>143</td><td>18</td></tr>",
                            "<tr><td>10879</td><td>90</td><td>8.50</td><td>162</td><td>162</td><td>144</td><td>18</td></tr>",
                            "<tr><td>11077</td><td>65</td><td>8.53</td><td>163</td><td>163</td><td>145</td><td>19</td></tr>",
                            "<tr><td>10334</td><td>84</td><td>8.56</td><td>164</td><td>164</td><td>146</td><td>19</td></tr>",
                            "<tr><td>10349</td><td>75</td><td>8.63</td><td>165</td><td>165</td><td>147</td><td>19</td></tr>",
                            "<tr><td>11044</td><td>91</td><td>8.72</td><td>166</td><td>166</td><td>148</td><td>19</td></tr>",
                            "<tr><td>11043</td><td>74</td><td>8.80</td><td>167</td><td>167</td><td>149</td><td>19</td></tr>",
                            "<tr><td>10993</td><td>24</td><td>8.81</td><td>168</td><td>168</td><td>150</td><td>19</td></tr>",
                            "<tr><td>10501</td><td>6</td><td>8.85</td><td>169</td><td>169</td><td>151</td><td>19</td></tr>",
                            "<tr><td>10280</td><td>5</td><td>8.98</td><td>170</td><td>170</td><td>152</td><td>19</td></tr>",
                            "<tr><td>10907</td><td>74</td><td>9.19</td><td>171</td><td>171</td><td>153</td><td>19</td></tr>",
                            "<tr><td>10435</td><td>16</td><td>9.21</td><td>172</td><td>172</td><td>154</td><td>20</td></tr>",
                            "<tr><td>10843</td><td>84</td><td>9.26</td><td>173</td><td>173</td><td>155</td><td>20</td></tr>",
                            "<tr><td>10445</td><td>5</td><td>9.30</td><td>174</td><td>174</td><td>156</td><td>20</td></tr>",
                            "<tr><td>10720</td><td>61</td><td>9.53</td><td>175</td><td>175</td><td>157</td><td>20</td></tr>",
                            "<tr><td>10556</td><td>73</td><td>9.80</td><td>176</td><td>176</td><td>158</td><td>20</td></tr>",
                            "<tr><td>10366</td><td>29</td><td>10.14</td><td>177</td><td>177</td><td>159</td><td>20</td></tr>",
                            "<tr><td>10331</td><td>9</td><td>10.19</td><td>178</td><td>178</td><td>160</td><td>20</td></tr>",
                            "<tr><td>10945</td><td>52</td><td>10.22</td><td>179</td><td>179</td><td>161</td><td>20</td></tr>",
                            "<tr><td>10493</td><td>41</td><td>10.64</td><td>180</td><td>180</td><td>162</td><td>20</td></tr>",
                            "<tr><td>10725</td><td>21</td><td>10.83</td><td>181</td><td>181</td><td>163</td><td>21</td></tr>",
                            "<tr><td>10542</td><td>39</td><td>10.95</td><td>182</td><td>182</td><td>164</td><td>21</td></tr>",
                            "<tr><td>10741</td><td>4</td><td>10.96</td><td>183</td><td>183</td><td>165</td><td>21</td></tr>",
                            "<tr><td>11060</td><td>27</td><td>10.98</td><td>184</td><td>184</td><td>166</td><td>21</td></tr>",
                            "<tr><td>10525</td><td>9</td><td>11.06</td><td>185</td><td>185</td><td>167</td><td>21</td></tr>",
                            "<tr><td>10739</td><td>85</td><td>11.08</td><td>186</td><td>186</td><td>168</td><td>21</td></tr>",
                            "<tr><td>10428</td><td>66</td><td>11.09</td><td>187</td><td>187</td><td>169</td><td>21</td></tr>",
                            "<tr><td>10771</td><td>20</td><td>11.19</td><td>188</td><td>188</td><td>170</td><td>21</td></tr>",
                            "<tr><td>10408</td><td>23</td><td>11.26</td><td>189</td><td>189</td><td>171</td><td>21</td></tr>",
                            "<tr><td>10457</td><td>39</td><td>11.57</td><td>190</td><td>190</td><td>172</td><td>22</td></tr>",
                            "<tr><td>10249</td><td>79</td><td>11.61</td><td>191</td><td>191</td><td>173</td><td>22</td></tr>",
                            "<tr><td>11018</td><td>48</td><td>11.65</td><td>192</td><td>192</td><td>174</td><td>22</td></tr>",
                            "<tr><td>10545</td><td>43</td><td>11.92</td><td>193</td><td>193</td><td>175</td><td>22</td></tr>",
                            "<tr><td>10466</td><td>15</td><td>11.93</td><td>194</td><td>194</td><td>176</td><td>22</td></tr>",
                            "<tr><td>10759</td><td>2</td><td>11.99</td><td>195</td><td>195</td><td>177</td><td>22</td></tr>",
                            "<tr><td>10870</td><td>91</td><td>12.04</td><td>196</td><td>196</td><td>178</td><td>22</td></tr>",
                            "<tr><td>10539</td><td>11</td><td>12.36</td><td>197</td><td>197</td><td>179</td><td>22</td></tr>",
                            "<tr><td>10645</td><td>34</td><td>12.41</td><td>198</td><td>198</td><td>180</td><td>22</td></tr>",
                            "<tr><td>10401</td><td>65</td><td>12.51</td><td>199</td><td>199</td><td>181</td><td>23</td></tr>",
                            "<tr><td>10282</td><td>69</td><td>12.69</td><td>200</td><td>200</td><td>182</td><td>23</td></tr>",
                            "<tr><td>10317</td><td>48</td><td>12.69</td><td>201</td><td>200</td><td>182</td><td>23</td></tr>",
                            "<tr><td>10330</td><td>46</td><td>12.75</td><td>202</td><td>202</td><td>183</td><td>23</td></tr>",
                            "<tr><td>10287</td><td>67</td><td>12.76</td><td>203</td><td>203</td><td>184</td><td>23</td></tr>",
                            "<tr><td>11065</td><td>46</td><td>12.91</td><td>204</td><td>204</td><td>185</td><td>23</td></tr>",
                            "<tr><td>10974</td><td>75</td><td>12.96</td><td>205</td><td>205</td><td>186</td><td>23</td></tr>",
                            "<tr><td>10477</td><td>60</td><td>13.02</td><td>206</td><td>206</td><td>187</td><td>23</td></tr>",
                            "<tr><td>10837</td><td>5</td><td>13.32</td><td>207</td><td>207</td><td>188</td><td>23</td></tr>",
                            "<tr><td>10520</td><td>70</td><td>13.37</td><td>208</td><td>208</td><td>189</td><td>24</td></tr>",
                            "<tr><td>10585</td><td>88</td><td>13.41</td><td>209</td><td>209</td><td>190</td><td>24</td></tr>",
                            "<tr><td>10689</td><td>5</td><td>13.42</td><td>210</td><td>210</td><td>191</td><td>24</td></tr>",
                            "<tr><td>10367</td><td>83</td><td>13.55</td><td>211</td><td>211</td><td>192</td><td>24</td></tr>",
                            "<tr><td>10931</td><td>68</td><td>13.60</td><td>212</td><td>212</td><td>193</td><td>24</td></tr>",
                            "<tr><td>10905</td><td>88</td><td>13.72</td><td>213</td><td>213</td><td>194</td><td>24</td></tr>",
                            "<tr><td>10579</td><td>45</td><td>13.73</td><td>214</td><td>214</td><td>195</td><td>24</td></tr>",
                            "<tr><td>10564</td><td>65</td><td>13.75</td><td>215</td><td>215</td><td>196</td><td>24</td></tr>",
                            "<tr><td>10276</td><td>80</td><td>13.84</td><td>216</td><td>216</td><td>197</td><td>24</td></tr>",
                            "<tr><td>10443</td><td>66</td><td>13.95</td><td>217</td><td>217</td><td>198</td><td>25</td></tr>",
                            "<tr><td>10256</td><td>88</td><td>13.97</td><td>218</td><td>218</td><td>199</td><td>25</td></tr>",
                            "<tr><td>10386</td><td>21</td><td>13.99</td><td>219</td><td>219</td><td>200</td><td>25</td></tr>",
                            "<tr><td>10982</td><td>10</td><td>14.01</td><td>220</td><td>220</td><td>201</td><td>25</td></tr>",
                            "<tr><td>11061</td><td>32</td><td>14.01</td><td>221</td><td>220</td><td>201</td><td>25</td></tr>",
                            "<tr><td>10648</td><td>67</td><td>14.25</td><td>222</td><td>222</td><td>202</td><td>25</td></tr>",
                            "<tr><td>10815</td><td>71</td><td>14.62</td><td>223</td><td>223</td><td>203</td><td>25</td></tr>",
                            "<tr><td>10446</td><td>79</td><td>14.68</td><td>224</td><td>224</td><td>204</td><td>25</td></tr>",
                            "<tr><td>10463</td><td>76</td><td>14.78</td><td>225</td><td>225</td><td>205</td><td>25</td></tr>",
                            "<tr><td>11003</td><td>78</td><td>14.91</td><td>226</td><td>226</td><td>206</td><td>26</td></tr>",
                            "<tr><td>10861</td><td>89</td><td>14.93</td><td>227</td><td>227</td><td>207</td><td>26</td></tr>",
                            "<tr><td>10973</td><td>40</td><td>15.17</td><td>228</td><td>228</td><td>208</td><td>26</td></tr>",
                            "<tr><td>10483</td><td>89</td><td>15.28</td><td>229</td><td>229</td><td>209</td><td>26</td></tr>",
                            "<tr><td>10336</td><td>60</td><td>15.51</td><td>230</td><td>230</td><td>210</td><td>26</td></tr>",
                            "<tr><td>10930</td><td>76</td><td>15.55</td><td>231</td><td>231</td><td>211</td><td>26</td></tr>",
                            "<tr><td>10535</td><td>3</td><td>15.64</td><td>232</td><td>232</td><td>212</td><td>26</td></tr>",
                            "<tr><td>10339</td><td>51</td><td>15.66</td><td>233</td><td>233</td><td>213</td><td>26</td></tr>",
                            "<tr><td>11069</td><td>80</td><td>15.67</td><td>234</td><td>234</td><td>214</td><td>26</td></tr>",
                            "<tr><td>10690</td><td>34</td><td>15.80</td><td>235</td><td>235</td><td>215</td><td>27</td></tr>",
                            "<tr><td>10970</td><td>8</td><td>16.16</td><td>236</td><td>236</td><td>216</td><td>27</td></tr>",
                            "<tr><td>10460</td><td>24</td><td>16.27</td><td>237</td><td>237</td><td>217</td><td>27</td></tr>",
                            "<tr><td>10596</td><td>89</td><td>16.34</td><td>238</td><td>238</td><td>218</td><td>27</td></tr>",
                            "<tr><td>10473</td><td>38</td><td>16.37</td><td>239</td><td>239</td><td>219</td><td>27</td></tr>",
                            "<tr><td>10726</td><td>19</td><td>16.56</td><td>240</td><td>240</td><td>220</td><td>27</td></tr>",
                            "<tr><td>10755</td><td>9</td><td>16.71</td><td>241</td><td>241</td><td>221</td><td>27</td></tr>",
                            "<tr><td>10695</td><td>90</td><td>16.72</td><td>242</td><td>242</td><td>222</td><td>27</td></tr>",
                            "<tr><td>10503</td><td>37</td><td>16.74</td><td>243</td><td>243</td><td>223</td><td>27</td></tr>",
                            "<tr><td>10791</td><td>25</td><td>16.85</td><td>244</td><td>244</td><td>224</td><td>28</td></tr>",
                            "<tr><td>10491</td><td>28</td><td>16.96</td><td>245</td><td>245</td><td>225</td><td>28</td></tr>",
                            "<tr><td>10732</td><td>9</td><td>16.97</td><td>246</td><td>246</td><td>226</td><td>28</td></tr>",
                            "<tr><td>10521</td><td>12</td><td>17.22</td><td>247</td><td>247</td><td>227</td><td>28</td></tr>",
                            "<tr><td>10310</td><td>77</td><td>17.52</td><td>248</td><td>248</td><td>228</td><td>28</td></tr>",
                            "<tr><td>10418</td><td>63</td><td>17.55</td><td>249</td><td>249</td><td>229</td><td>28</td></tr>",
                            "<tr><td>10661</td><td>37</td><td>17.55</td><td>250</td><td>249</td><td>229</td><td>28</td></tr>",
                            "<tr><td>10300</td><td>49</td><td>17.68</td><td>251</td><td>251</td><td>230</td><td>28</td></tr>",
                            "<tr><td>10434</td><td>24</td><td>17.92</td><td>252</td><td>252</td><td>231</td><td>28</td></tr>",
                            "<tr><td>10942</td><td>66</td><td>17.95</td><td>253</td><td>253</td><td>232</td><td>29</td></tr>",
                            "<tr><td>11074</td><td>73</td><td>18.44</td><td>254</td><td>254</td><td>233</td><td>29</td></tr>",
                            "<tr><td>10617</td><td>32</td><td>18.53</td><td>255</td><td>255</td><td>234</td><td>29</td></tr>",
                            "<tr><td>10576</td><td>80</td><td>18.56</td><td>256</td><td>256</td><td>235</td><td>29</td></tr>",
                            "<tr><td>10761</td><td>65</td><td>18.66</td><td>257</td><td>257</td><td>236</td><td>29</td></tr>",
                            "<tr><td>10426</td><td>29</td><td>18.69</td><td>258</td><td>258</td><td>237</td><td>29</td></tr>",
                            "<tr><td>11040</td><td>32</td><td>18.84</td><td>259</td><td>259</td><td>238</td><td>29</td></tr>",
                            "<tr><td>10860</td><td>26</td><td>19.26</td><td>260</td><td>260</td><td>239</td><td>29</td></tr>",
                            "<tr><td>10874</td><td>30</td><td>19.58</td><td>261</td><td>261</td><td>240</td><td>29</td></tr>",
                            "<tr><td>10358</td><td>41</td><td>19.64</td><td>262</td><td>262</td><td>241</td><td>30</td></tr>",
                            "<tr><td>10819</td><td>12</td><td>19.76</td><td>263</td><td>263</td><td>242</td><td>30</td></tr>",
                            "<tr><td>10940</td><td>9</td><td>19.77</td><td>264</td><td>264</td><td>243</td><td>30</td></tr>",
                            "<tr><td>10927</td><td>40</td><td>19.79</td><td>265</td><td>265</td><td>244</td><td>30</td></tr>",
                            "<tr><td>10919</td><td>47</td><td>19.80</td><td>266</td><td>266</td><td>245</td><td>30</td></tr>",
                            "<tr><td>10437</td><td>87</td><td>19.97</td><td>267</td><td>267</td><td>246</td><td>30</td></tr>",
                            "<tr><td>10375</td><td>36</td><td>20.12</td><td>268</td><td>268</td><td>247</td><td>30</td></tr>",
                            "<tr><td>10730</td><td>9</td><td>20.12</td><td>269</td><td>268</td><td>247</td><td>30</td></tr>",
                            "<tr><td>10775</td><td>78</td><td>20.25</td><td>270</td><td>270</td><td>248</td><td>30</td></tr>",
                            "<tr><td>10998</td><td>91</td><td>20.31</td><td>271</td><td>271</td><td>249</td><td>31</td></tr>",
                            "<tr><td>10891</td><td>44</td><td>20.37</td><td>272</td><td>272</td><td>250</td><td>31</td></tr>",
                            "<tr><td>10376</td><td>51</td><td>20.39</td><td>273</td><td>273</td><td>251</td><td>31</td></tr>",
                            "<tr><td>10651</td><td>86</td><td>20.60</td><td>274</td><td>274</td><td>252</td><td>31</td></tr>",
                            "<tr><td>10293</td><td>80</td><td>21.18</td><td>275</td><td>275</td><td>253</td><td>31</td></tr>",
                            "<tr><td>10506</td><td>39</td><td>21.19</td><td>276</td><td>276</td><td>254</td><td>31</td></tr>",
                            "<tr><td>10914</td><td>62</td><td>21.19</td><td>277</td><td>276</td><td>254</td><td>31</td></tr>",
                            "<tr><td>10414</td><td>21</td><td>21.48</td><td>278</td><td>278</td><td>255</td><td>31</td></tr>",
                            "<tr><td>10794</td><td>61</td><td>21.49</td><td>279</td><td>279</td><td>256</td><td>32</td></tr>",
                            "<tr><td>10723</td><td>89</td><td>21.72</td><td>280</td><td>280</td><td>257</td><td>32</td></tr>",
                            "<tr><td>10707</td><td>4</td><td>21.74</td><td>281</td><td>281</td><td>258</td><td>32</td></tr>",
                            "<tr><td>10365</td><td>3</td><td>22.00</td><td>282</td><td>282</td><td>259</td><td>32</td></tr>",
                            "<tr><td>10806</td><td>84</td><td>22.11</td><td>283</td><td>283</td><td>260</td><td>32</td></tr>",
                            "<tr><td>10377</td><td>72</td><td>22.21</td><td>284</td><td>284</td><td>261</td><td>32</td></tr>",
                            "<tr><td>10716</td><td>64</td><td>22.57</td><td>285</td><td>285</td><td>262</td><td>32</td></tr>",
                            "<tr><td>10416</td><td>87</td><td>22.72</td><td>286</td><td>286</td><td>263</td><td>32</td></tr>",
                            "<tr><td>10673</td><td>90</td><td>22.76</td><td>287</td><td>287</td><td>264</td><td>33</td></tr>",
                            "<tr><td>10289</td><td>11</td><td>22.77</td><td>288</td><td>288</td><td>265</td><td>33</td></tr>",
                            "<tr><td>10562</td><td>66</td><td>22.95</td><td>289</td><td>289</td><td>266</td><td>33</td></tr>",
                            "<tr><td>10254</td><td>14</td><td>22.98</td><td>290</td><td>290</td><td>267</td><td>33</td></tr>",
                            "<tr><td>10882</td><td>71</td><td>23.10</td><td>291</td><td>291</td><td>268</td><td>33</td></tr>",
                            "<tr><td>10344</td><td>89</td><td>23.29</td><td>292</td><td>292</td><td>269</td><td>33</td></tr>",
                            "<tr><td>10948</td><td>30</td><td>23.39</td><td>293</td><td>293</td><td>270</td><td>33</td></tr>",
                            "<tr><td>10640</td><td>86</td><td>23.55</td><td>294</td><td>294</td><td>271</td><td>33</td></tr>",
                            "<tr><td>11014</td><td>47</td><td>23.60</td><td>295</td><td>295</td><td>272</td><td>34</td></tr>",
                            "<tr><td>10411</td><td>10</td><td>23.65</td><td>296</td><td>296</td><td>273</td><td>34</td></tr>",
                            "<tr><td>10743</td><td>4</td><td>23.72</td><td>297</td><td>297</td><td>274</td><td>34</td></tr>",
                            "<tr><td>10953</td><td>4</td><td>23.72</td><td>298</td><td>297</td><td>274</td><td>34</td></tr>",
                            "<tr><td>10621</td><td>38</td><td>23.73</td><td>299</td><td>299</td><td>275</td><td>34</td></tr>",
                            "<tr><td>10792</td><td>91</td><td>23.79</td><td>300</td><td>300</td><td>276</td><td>34</td></tr>",
                            "<tr><td>10702</td><td>1</td><td>23.94</td><td>301</td><td>301</td><td>277</td><td>34</td></tr>",
                            "<tr><td>11048</td><td>10</td><td>24.12</td><td>302</td><td>302</td><td>278</td><td>34</td></tr>",
                            "<tr><td>10669</td><td>73</td><td>24.39</td><td>303</td><td>303</td><td>279</td><td>35</td></tr>",
                            "<tr><td>10714</td><td>71</td><td>24.49</td><td>304</td><td>304</td><td>280</td><td>35</td></tr>",
                            "<tr><td>10423</td><td>31</td><td>24.50</td><td>305</td><td>305</td><td>281</td><td>35</td></tr>",
                            "<tr><td>10311</td><td>18</td><td>24.69</td><td>306</td><td>306</td><td>282</td><td>35</td></tr>",
                            "<tr><td>10544</td><td>48</td><td>24.91</td><td>307</td><td>307</td><td>283</td><td>35</td></tr>",
                            "<tr><td>11073</td><td>58</td><td>24.95</td><td>308</td><td>308</td><td>284</td><td>35</td></tr>",
                            "<tr><td>10459</td><td>84</td><td>25.09</td><td>309</td><td>309</td><td>285</td><td>35</td></tr>",
                            "<tr><td>11006</td><td>32</td><td>25.19</td><td>310</td><td>310</td><td>286</td><td>35</td></tr>",
                            "<tr><td>10844</td><td>59</td><td>25.22</td><td>311</td><td>311</td><td>287</td><td>36</td></tr>",
                            "<tr><td>10453</td><td>4</td><td>25.36</td><td>312</td><td>312</td><td>288</td><td>36</td></tr>",
                            "<tr><td>10577</td><td>82</td><td>25.41</td><td>313</td><td>313</td><td>289</td><td>36</td></tr>",
                            "<tr><td>10266</td><td>87</td><td>25.73</td><td>314</td><td>314</td><td>290</td><td>36</td></tr>",
                            "<tr><td>10279</td><td>44</td><td>25.83</td><td>315</td><td>315</td><td>291</td><td>36</td></tr>",
                            "<tr><td>10571</td><td>20</td><td>26.06</td><td>316</td><td>316</td><td>292</td><td>36</td></tr>",
                            "<tr><td>10906</td><td>91</td><td>26.29</td><td>317</td><td>317</td><td>293</td><td>36</td></tr>",
                            "<tr><td>10665</td><td>48</td><td>26.31</td><td>318</td><td>318</td><td>294</td><td>36</td></tr>",
                            "<tr><td>10796</td><td>35</td><td>26.52</td><td>319</td><td>319</td><td>295</td><td>37</td></tr>",
                            "<tr><td>10680</td><td>55</td><td>26.61</td><td>320</td><td>320</td><td>296</td><td>37</td></tr>",
                            "<tr><td>10610</td><td>41</td><td>26.78</td><td>321</td><td>321</td><td>297</td><td>37</td></tr>",
                            "<tr><td>10341</td><td>73</td><td>26.78</td><td>322</td><td>321</td><td>297</td><td>37</td></tr>",
                            "<tr><td>10275</td><td>49</td><td>26.93</td><td>323</td><td>323</td><td>298</td><td>37</td></tr>",
                            "<tr><td>10966</td><td>14</td><td>27.19</td><td>324</td><td>324</td><td>299</td><td>37</td></tr>",
                            "<tr><td>10946</td><td>83</td><td>27.20</td><td>325</td><td>325</td><td>300</td><td>37</td></tr>",
                            "<tr><td>10804</td><td>72</td><td>27.33</td><td>326</td><td>326</td><td>301</td><td>37</td></tr>",
                            "<tr><td>10399</td><td>83</td><td>27.36</td><td>327</td><td>327</td><td>302</td><td>38</td></tr>",
                            "<tr><td>10582</td><td>6</td><td>27.71</td><td>328</td><td>328</td><td>303</td><td>38</td></tr>",
                            "<tr><td>10608</td><td>79</td><td>27.79</td><td>329</td><td>329</td><td>304</td><td>38</td></tr>",
                            "<tr><td>10954</td><td>47</td><td>27.91</td><td>330</td><td>330</td><td>305</td><td>38</td></tr>",
                            "<tr><td>10534</td><td>44</td><td>27.94</td><td>331</td><td>331</td><td>306</td><td>38</td></tr>",
                            "<tr><td>10679</td><td>7</td><td>27.94</td><td>332</td><td>331</td><td>306</td><td>38</td></tr>",
                            "<tr><td>10790</td><td>31</td><td>28.23</td><td>333</td><td>333</td><td>307</td><td>38</td></tr>",
                            "<tr><td>11010</td><td>66</td><td>28.71</td><td>334</td><td>334</td><td>308</td><td>38</td></tr>",
                            "<tr><td>11025</td><td>87</td><td>29.17</td><td>335</td><td>335</td><td>309</td><td>39</td></tr>",
                            "<tr><td>10643</td><td>1</td><td>29.46</td><td>336</td><td>336</td><td>310</td><td>39</td></tr>",
                            "<tr><td>11028</td><td>39</td><td>29.59</td><td>337</td><td>337</td><td>311</td><td>39</td></tr>",
                            "<tr><td>11038</td><td>76</td><td>29.59</td><td>338</td><td>337</td><td>311</td><td>39</td></tr>",
                            "<tr><td>10578</td><td>11</td><td>29.60</td><td>339</td><td>339</td><td>312</td><td>39</td></tr>",
                            "<tr><td>10920</td><td>4</td><td>29.61</td><td>340</td><td>340</td><td>313</td><td>39</td></tr>",
                            "<tr><td>10498</td><td>35</td><td>29.75</td><td>341</td><td>341</td><td>314</td><td>39</td></tr>",
                            "<tr><td>10299</td><td>67</td><td>29.76</td><td>342</td><td>342</td><td>315</td><td>39</td></tr>",
                            "<tr><td>10834</td><td>81</td><td>29.78</td><td>343</td><td>343</td><td>316</td><td>40</td></tr>",
                            "<tr><td>10409</td><td>54</td><td>29.83</td><td>344</td><td>344</td><td>317</td><td>40</td></tr>",
                            "<tr><td>11062</td><td>66</td><td>29.93</td><td>345</td><td>345</td><td>318</td><td>40</td></tr>",
                            "<tr><td>10599</td><td>11</td><td>29.98</td><td>346</td><td>346</td><td>319</td><td>40</td></tr>",
                            "<tr><td>11042</td><td>15</td><td>29.99</td><td>347</td><td>347</td><td>320</td><td>40</td></tr>",
                            "<tr><td>11064</td><td>71</td><td>30.09</td><td>348</td><td>348</td><td>321</td><td>40</td></tr>",
                            "<tr><td>10863</td><td>35</td><td>30.26</td><td>349</td><td>349</td><td>322</td><td>40</td></tr>",
                            "<tr><td>10671</td><td>26</td><td>30.34</td><td>350</td><td>350</td><td>323</td><td>40</td></tr>",
                            "<tr><td>10394</td><td>36</td><td>30.34</td><td>351</td><td>350</td><td>323</td><td>41</td></tr>",
                            "<tr><td>10628</td><td>7</td><td>30.36</td><td>352</td><td>352</td><td>324</td><td>41</td></tr>",
                            "<tr><td>10486</td><td>35</td><td>30.53</td><td>353</td><td>353</td><td>325</td><td>41</td></tr>",
                            "<tr><td>10363</td><td>17</td><td>30.54</td><td>354</td><td>354</td><td>326</td><td>41</td></tr>",
                            "<tr><td>10799</td><td>39</td><td>30.76</td><td>355</td><td>355</td><td>327</td><td>41</td></tr>",
                            "<tr><td>10951</td><td>68</td><td>30.85</td><td>356</td><td>356</td><td>328</td><td>41</td></tr>",
                            "<tr><td>10385</td><td>75</td><td>30.96</td><td>357</td><td>357</td><td>329</td><td>41</td></tr>",
                            "<tr><td>11058</td><td>6</td><td>31.14</td><td>358</td><td>358</td><td>330</td><td>41</td></tr>",
                            "<tr><td>10811</td><td>47</td><td>31.22</td><td>359</td><td>359</td><td>331</td><td>42</td></tr>",
                            "<tr><td>10427</td><td>59</td><td>31.29</td><td>360</td><td>360</td><td>332</td><td>42</td></tr>",
                            "<tr><td>10746</td><td>14</td><td>31.43</td><td>361</td><td>361</td><td>333</td><td>42</td></tr>",
                            "<tr><td>10937</td><td>12</td><td>31.51</td><td>362</td><td>362</td><td>334</td><td>42</td></tr>",
                            "<tr><td>10675</td><td>25</td><td>31.85</td><td>363</td><td>363</td><td>335</td><td>42</td></tr>",
                            "<tr><td>10938</td><td>63</td><td>31.89</td><td>364</td><td>364</td><td>336</td><td>42</td></tr>",
                            "<tr><td>10934</td><td>44</td><td>32.01</td><td>365</td><td>365</td><td>337</td><td>42</td></tr>",
                            "<tr><td>10517</td><td>53</td><td>32.07</td><td>366</td><td>366</td><td>338</td><td>42</td></tr>",
                            "<tr><td>10592</td><td>44</td><td>32.10</td><td>367</td><td>367</td><td>339</td><td>43</td></tr>",
                            "<tr><td>10975</td><td>10</td><td>32.27</td><td>368</td><td>368</td><td>340</td><td>43</td></tr>",
                            "<tr><td>10630</td><td>39</td><td>32.35</td><td>369</td><td>369</td><td>341</td><td>43</td></tr>",
                            "<tr><td>10875</td><td>5</td><td>32.37</td><td>370</td><td>370</td><td>342</td><td>43</td></tr>",
                            "<tr><td>10248</td><td>85</td><td>32.38</td><td>371</td><td>371</td><td>343</td><td>43</td></tr>",
                            "<tr><td>10896</td><td>50</td><td>32.45</td><td>372</td><td>372</td><td>344</td><td>43</td></tr>",
                            "<tr><td>10890</td><td>18</td><td>32.76</td><td>373</td><td>373</td><td>345</td><td>43</td></tr>",
                            "<tr><td>10978</td><td>50</td><td>32.82</td><td>374</td><td>374</td><td>346</td><td>43</td></tr>",
                            "<tr><td>10908</td><td>66</td><td>32.96</td><td>375</td><td>375</td><td>347</td><td>44</td></tr>",
                            "<tr><td>11013</td><td>69</td><td>32.99</td><td>376</td><td>376</td><td>348</td><td>44</td></tr>",
                            "<tr><td>10913</td><td>62</td><td>33.05</td><td>377</td><td>377</td><td>349</td><td>44</td></tr>",
                            "<tr><td>10797</td><td>17</td><td>33.35</td><td>378</td><td>378</td><td>350</td><td>44</td></tr>",
                            "<tr><td>10936</td><td>32</td><td>33.68</td><td>379</td><td>379</td><td>351</td><td>44</td></tr>",
                            "<tr><td>10685</td><td>31</td><td>33.75</td><td>380</td><td>380</td><td>352</td><td>44</td></tr>",
                            "<tr><td>11016</td><td>4</td><td>33.80</td><td>381</td><td>381</td><td>353</td><td>44</td></tr>",
                            "<tr><td>10929</td><td>25</td><td>33.93</td><td>382</td><td>382</td><td>354</td><td>44</td></tr>",
                            "<tr><td>10567</td><td>37</td><td>33.97</td><td>383</td><td>383</td><td>355</td><td>45</td></tr>",
                            "<tr><td>10383</td><td>4</td><td>34.24</td><td>384</td><td>384</td><td>356</td><td>45</td></tr>",
                            "<tr><td>10320</td><td>87</td><td>34.57</td><td>385</td><td>385</td><td>357</td><td>45</td></tr>",
                            "<tr><td>10989</td><td>61</td><td>34.76</td><td>386</td><td>386</td><td>358</td><td>45</td></tr>",
                            "<tr><td>10405</td><td>47</td><td>34.82</td><td>387</td><td>387</td><td>359</td><td>45</td></tr>",
                            "<tr><td>10388</td><td>72</td><td>34.86</td><td>388</td><td>388</td><td>360</td><td>45</td></tr>",
                            "<tr><td>10357</td><td>46</td><td>34.88</td><td>389</td><td>389</td><td>361</td><td>45</td></tr>",
                            "<tr><td>10380</td><td>37</td><td>35.03</td><td>390</td><td>390</td><td>362</td><td>45</td></tr>",
                            "<tr><td>10597</td><td>59</td><td>35.12</td><td>391</td><td>391</td><td>363</td><td>46</td></tr>",
                            "<tr><td>10839</td><td>81</td><td>35.43</td><td>392</td><td>392</td><td>364</td><td>46</td></tr>",
                            "<tr><td>10682</td><td>3</td><td>36.13</td><td>393</td><td>393</td><td>365</td><td>46</td></tr>",
                            "<tr><td>10497</td><td>44</td><td>36.21</td><td>394</td><td>394</td><td>366</td><td>46</td></tr>",
                            "<tr><td>10560</td><td>25</td><td>36.65</td><td>395</td><td>395</td><td>367</td><td>46</td></tr>",
                            "<tr><td>10821</td><td>75</td><td>36.68</td><td>396</td><td>396</td><td>368</td><td>46</td></tr>",
                            "<tr><td>10903</td><td>34</td><td>36.71</td><td>397</td><td>397</td><td>369</td><td>46</td></tr>",
                            "<tr><td>10356</td><td>86</td><td>36.71</td><td>398</td><td>397</td><td>369</td><td>46</td></tr>",
                            "<tr><td>10763</td><td>23</td><td>37.35</td><td>399</td><td>399</td><td>370</td><td>47</td></tr>",
                            "<tr><td>10820</td><td>65</td><td>37.52</td><td>400</td><td>400</td><td>371</td><td>47</td></tr>",
                            "<tr><td>10574</td><td>82</td><td>37.60</td><td>401</td><td>401</td><td>372</td><td>47</td></tr>",
                            "<tr><td>10976</td><td>35</td><td>37.97</td><td>402</td><td>402</td><td>373</td><td>47</td></tr>",
                            "<tr><td>10877</td><td>67</td><td>38.06</td><td>403</td><td>403</td><td>374</td><td>47</td></tr>",
                            "<tr><td>10910</td><td>90</td><td>38.11</td><td>404</td><td>404</td><td>375</td><td>47</td></tr>",
                            "<tr><td>10911</td><td>30</td><td>38.19</td><td>405</td><td>405</td><td>376</td><td>47</td></tr>",
                            "<tr><td>10848</td><td>16</td><td>38.24</td><td>406</td><td>406</td><td>377</td><td>47</td></tr>",
                            "<tr><td>11076</td><td>9</td><td>38.28</td><td>407</td><td>407</td><td>378</td><td>48</td></tr>",
                            "<tr><td>10991</td><td>63</td><td>38.51</td><td>408</td><td>408</td><td>379</td><td>48</td></tr>",
                            "<tr><td>10639</td><td>70</td><td>38.64</td><td>409</td><td>409</td><td>380</td><td>48</td></tr>",
                            "<tr><td>10448</td><td>64</td><td>38.82</td><td>410</td><td>410</td><td>381</td><td>48</td></tr>",
                            "<tr><td>10926</td><td>2</td><td>39.92</td><td>411</td><td>411</td><td>382</td><td>48</td></tr>",
                            "<tr><td>10312</td><td>86</td><td>40.26</td><td>412</td><td>412</td><td>383</td><td>48</td></tr>",
                            "<tr><td>11034</td><td>55</td><td>40.32</td><td>413</td><td>413</td><td>384</td><td>48</td></tr>",
                            "<tr><td>10952</td><td>1</td><td>40.42</td><td>414</td><td>414</td><td>385</td><td>48</td></tr>",
                            "<tr><td>10251</td><td>84</td><td>41.34</td><td>415</td><td>415</td><td>386</td><td>49</td></tr>",
                            "<tr><td>10632</td><td>86</td><td>41.38</td><td>416</td><td>416</td><td>387</td><td>49</td></tr>",
                            "<tr><td>10315</td><td>38</td><td>41.76</td><td>417</td><td>417</td><td>388</td><td>49</td></tr>",
                            "<tr><td>10642</td><td>73</td><td>41.89</td><td>418</td><td>418</td><td>389</td><td>49</td></tr>",
                            "<tr><td>10527</td><td>63</td><td>41.90</td><td>419</td><td>419</td><td>390</td><td>49</td></tr>",
                            "<tr><td>10355</td><td>4</td><td>41.95</td><td>420</td><td>420</td><td>391</td><td>49</td></tr>",
                            "<tr><td>10335</td><td>37</td><td>42.11</td><td>421</td><td>421</td><td>392</td><td>49</td></tr>",
                            "<tr><td>10780</td><td>46</td><td>42.13</td><td>422</td><td>422</td><td>393</td><td>49</td></tr>",
                            "<tr><td>10500</td><td>41</td><td>42.68</td><td>423</td><td>423</td><td>394</td><td>50</td></tr>",
                            "<tr><td>10788</td><td>63</td><td>42.70</td><td>424</td><td>424</td><td>395</td><td>50</td></tr>",
                            "<tr><td>10765</td><td>63</td><td>42.74</td><td>425</td><td>425</td><td>396</td><td>50</td></tr>",
                            "<tr><td>10832</td><td>41</td><td>43.26</td><td>426</td><td>426</td><td>397</td><td>50</td></tr>",
                            "<tr><td>11020</td><td>56</td><td>43.30</td><td>427</td><td>427</td><td>398</td><td>50</td></tr>",
                            "<tr><td>10625</td><td>2</td><td>43.90</td><td>428</td><td>428</td><td>399</td><td>50</td></tr>",
                            "<tr><td>10736</td><td>37</td><td>44.10</td><td>429</td><td>429</td><td>400</td><td>50</td></tr>",
                            "<tr><td>10468</td><td>39</td><td>44.12</td><td>430</td><td>430</td><td>401</td><td>50</td></tr>",
                            "<tr><td>10420</td><td>88</td><td>44.12</td><td>431</td><td>430</td><td>401</td><td>51</td></tr>",
                            "<tr><td>10902</td><td>24</td><td>44.15</td><td>432</td><td>432</td><td>402</td><td>51</td></tr>",
                            "<tr><td>10431</td><td>10</td><td>44.17</td><td>433</td><td>433</td><td>403</td><td>51</td></tr>",
                            "<tr><td>10598</td><td>65</td><td>44.42</td><td>434</td><td>434</td><td>404</td><td>51</td></tr>",
                            "<tr><td>10956</td><td>6</td><td>44.65</td><td>435</td><td>435</td><td>405</td><td>51</td></tr>",
                            "<tr><td>11066</td><td>89</td><td>44.72</td><td>436</td><td>436</td><td>406</td><td>51</td></tr>",
                            "<tr><td>10590</td><td>51</td><td>44.77</td><td>437</td><td>437</td><td>407</td><td>51</td></tr>",
                            "<tr><td>11004</td><td>50</td><td>44.84</td><td>438</td><td>438</td><td>408</td><td>51</td></tr>",
                            "<tr><td>10379</td><td>61</td><td>45.03</td><td>439</td><td>439</td><td>409</td><td>52</td></tr>",
                            "<tr><td>10301</td><td>86</td><td>45.08</td><td>440</td><td>440</td><td>410</td><td>52</td></tr>",
                            "<tr><td>10600</td><td>36</td><td>45.13</td><td>441</td><td>441</td><td>411</td><td>52</td></tr>",
                            "<tr><td>10522</td><td>44</td><td>45.33</td><td>442</td><td>442</td><td>412</td><td>52</td></tr>",
                            "<tr><td>10697</td><td>47</td><td>45.52</td><td>443</td><td>443</td><td>413</td><td>52</td></tr>",
                            "<tr><td>10808</td><td>55</td><td>45.53</td><td>444</td><td>444</td><td>414</td><td>52</td></tr>",
                            "<tr><td>10647</td><td>61</td><td>45.54</td><td>445</td><td>445</td><td>415</td><td>52</td></tr>",
                            "<tr><td>10471</td><td>11</td><td>45.59</td><td>446</td><td>446</td><td>416</td><td>52</td></tr>",
                            "<tr><td>10735</td><td>45</td><td>45.97</td><td>447</td><td>447</td><td>417</td><td>53</td></tr>",
                            "<tr><td>10995</td><td>58</td><td>46.00</td><td>448</td><td>448</td><td>418</td><td>53</td></tr>",
                            "<tr><td>11047</td><td>19</td><td>46.62</td><td>449</td><td>449</td><td>419</td><td>53</td></tr>",
                            "<tr><td>10878</td><td>63</td><td>46.69</td><td>450</td><td>450</td><td>420</td><td>53</td></tr>",
                            "<tr><td>10496</td><td>81</td><td>46.77</td><td>451</td><td>451</td><td>421</td><td>53</td></tr>",
                            "<tr><td>11026</td><td>27</td><td>47.09</td><td>452</td><td>452</td><td>422</td><td>53</td></tr>",
                            "<tr><td>10668</td><td>86</td><td>47.22</td><td>453</td><td>453</td><td>423</td><td>53</td></tr>",
                            "<tr><td>10309</td><td>37</td><td>47.30</td><td>454</td><td>454</td><td>424</td><td>53</td></tr>",
                            "<tr><td>10813</td><td>67</td><td>47.38</td><td>455</td><td>455</td><td>425</td><td>54</td></tr>",
                            "<tr><td>10389</td><td>10</td><td>47.42</td><td>456</td><td>456</td><td>426</td><td>54</td></tr>",
                            "<tr><td>10507</td><td>3</td><td>47.45</td><td>457</td><td>457</td><td>427</td><td>54</td></tr>",
                            "<tr><td>10635</td><td>49</td><td>47.46</td><td>458</td><td>458</td><td>428</td><td>54</td></tr>",
                            "<tr><td>10935</td><td>88</td><td>47.59</td><td>459</td><td>459</td><td>429</td><td>54</td></tr>",
                            "<tr><td>11029</td><td>14</td><td>47.84</td><td>460</td><td>460</td><td>430</td><td>54</td></tr>",
                            "<tr><td>10442</td><td>20</td><td>47.94</td><td>461</td><td>461</td><td>431</td><td>54</td></tr>",
                            "<tr><td>10543</td><td>46</td><td>48.17</td><td>462</td><td>462</td><td>432</td><td>54</td></tr>",
                            "<tr><td>10774</td><td>24</td><td>48.20</td><td>463</td><td>463</td><td>433</td><td>55</td></tr>",
                            "<tr><td>11041</td><td>14</td><td>48.22</td><td>464</td><td>464</td><td>434</td><td>55</td></tr>",
                            "<tr><td>10262</td><td>65</td><td>48.29</td><td>465</td><td>465</td><td>435</td><td>55</td></tr>",
                            "<tr><td>10603</td><td>71</td><td>48.77</td><td>466</td><td>466</td><td>436</td><td>55</td></tr>",
                            "<tr><td>10918</td><td>10</td><td>48.83</td><td>467</td><td>467</td><td>437</td><td>55</td></tr>",
                            "<tr><td>10721</td><td>63</td><td>48.92</td><td>468</td><td>468</td><td>438</td><td>55</td></tr>",
                            "<tr><td>10850</td><td>84</td><td>49.19</td><td>469</td><td>469</td><td>439</td><td>55</td></tr>",
                            "<tr><td>10958</td><td>54</td><td>49.56</td><td>470</td><td>470</td><td>440</td><td>55</td></tr>",
                            "<tr><td>10622</td><td>67</td><td>50.97</td><td>471</td><td>471</td><td>441</td><td>56</td></tr>",
                            "<tr><td>10252</td><td>76</td><td>51.30</td><td>472</td><td>472</td><td>442</td><td>56</td></tr>",
                            "<tr><td>10719</td><td>45</td><td>51.44</td><td>473</td><td>473</td><td>443</td><td>56</td></tr>",
                            "<tr><td>10888</td><td>30</td><td>51.87</td><td>474</td><td>474</td><td>444</td><td>56</td></tr>",
                            "<tr><td>10711</td><td>71</td><td>52.41</td><td>475</td><td>475</td><td>445</td><td>56</td></tr>",
                            "<tr><td>10858</td><td>40</td><td>52.51</td><td>476</td><td>476</td><td>446</td><td>56</td></tr>",
                            "<tr><td>11027</td><td>10</td><td>52.52</td><td>477</td><td>477</td><td>447</td><td>56</td></tr>",
                            "<tr><td>10332</td><td>51</td><td>52.84</td><td>478</td><td>478</td><td>448</td><td>56</td></tr>",
                            "<tr><td>10944</td><td>10</td><td>52.92</td><td>479</td><td>479</td><td>449</td><td>57</td></tr>",
                            "<tr><td>10909</td><td>70</td><td>53.05</td><td>480</td><td>480</td><td>450</td><td>57</td></tr>",
                            "<tr><td>11053</td><td>59</td><td>53.05</td><td>481</td><td>480</td><td>450</td><td>57</td></tr>",
                            "<tr><td>10862</td><td>44</td><td>53.23</td><td>482</td><td>482</td><td>451</td><td>57</td></tr>",
                            "<tr><td>10449</td><td>7</td><td>53.30</td><td>483</td><td>483</td><td>452</td><td>57</td></tr>",
                            "<tr><td>10354</td><td>58</td><td>53.80</td><td>484</td><td>484</td><td>453</td><td>57</td></tr>",
                            "<tr><td>10853</td><td>6</td><td>53.83</td><td>485</td><td>485</td><td>454</td><td>57</td></tr>",
                            "<tr><td>10933</td><td>38</td><td>54.15</td><td>486</td><td>486</td><td>455</td><td>57</td></tr>",
                            "<tr><td>10842</td><td>80</td><td>54.42</td><td>487</td><td>487</td><td>456</td><td>58</td></tr>",
                            "<tr><td>10342</td><td>25</td><td>54.83</td><td>488</td><td>488</td><td>457</td><td>58</td></tr>",
                            "<tr><td>10260</td><td>56</td><td>55.09</td><td>489</td><td>489</td><td>458</td><td>58</td></tr>",
                            "<tr><td>11000</td><td>65</td><td>55.12</td><td>490</td><td>490</td><td>459</td><td>58</td></tr>",
                            "<tr><td>10803</td><td>88</td><td>55.23</td><td>491</td><td>491</td><td>460</td><td>58</td></tr>",
                            "<tr><td>10654</td><td>5</td><td>55.26</td><td>492</td><td>492</td><td>461</td><td>58</td></tr>",
                            "<tr><td>10265</td><td>7</td><td>55.28</td><td>493</td><td>493</td><td>462</td><td>58</td></tr>",
                            "<tr><td>10591</td><td>83</td><td>55.92</td><td>494</td><td>494</td><td>463</td><td>58</td></tr>",
                            "<tr><td>10846</td><td>76</td><td>56.46</td><td>495</td><td>495</td><td>464</td><td>59</td></tr>",
                            "<tr><td>10429</td><td>37</td><td>56.63</td><td>496</td><td>496</td><td>465</td><td>59</td></tr>",
                            "<tr><td>10656</td><td>32</td><td>57.15</td><td>497</td><td>497</td><td>466</td><td>59</td></tr>",
                            "<tr><td>10724</td><td>51</td><td>57.75</td><td>498</td><td>498</td><td>467</td><td>59</td></tr>",
                            "<tr><td>10779</td><td>52</td><td>58.13</td><td>499</td><td>499</td><td>468</td><td>59</td></tr>",
                            "<tr><td>10253</td><td>34</td><td>58.17</td><td>500</td><td>500</td><td>469</td><td>59</td></tr>",
                            "<tr><td>10601</td><td>35</td><td>58.30</td><td>501</td><td>501</td><td>470</td><td>59</td></tr>",
                            "<tr><td>10728</td><td>62</td><td>58.33</td><td>502</td><td>502</td><td>471</td><td>59</td></tr>",
                            "<tr><td>10856</td><td>3</td><td>58.43</td><td>503</td><td>503</td><td>472</td><td>60</td></tr>",
                            "<tr><td>10526</td><td>87</td><td>58.59</td><td>504</td><td>504</td><td>473</td><td>60</td></tr>",
                            "<tr><td>10536</td><td>44</td><td>58.88</td><td>505</td><td>505</td><td>474</td><td>60</td></tr>",
                            "<tr><td>10569</td><td>65</td><td>58.98</td><td>506</td><td>506</td><td>475</td><td>60</td></tr>",
                            "<tr><td>11009</td><td>30</td><td>59.11</td><td>507</td><td>507</td><td>476</td><td>60</td></tr>",
                            "<tr><td>10504</td><td>89</td><td>59.13</td><td>508</td><td>508</td><td>477</td><td>60</td></tr>",
                            "<tr><td>10584</td><td>7</td><td>59.14</td><td>509</td><td>509</td><td>478</td><td>60</td></tr>",
                            "<tr><td>10717</td><td>25</td><td>59.25</td><td>510</td><td>510</td><td>479</td><td>60</td></tr>",
                            "<tr><td>10838</td><td>47</td><td>59.28</td><td>511</td><td>511</td><td>480</td><td>61</td></tr>",
                            "<tr><td>11050</td><td>24</td><td>59.41</td><td>512</td><td>512</td><td>481</td><td>61</td></tr>",
                            "<tr><td>10812</td><td>66</td><td>59.78</td><td>513</td><td>513</td><td>482</td><td>61</td></tr>",
                            "<tr><td>10469</td><td>89</td><td>60.18</td><td>514</td><td>514</td><td>483</td><td>61</td></tr>",
                            "<tr><td>10397</td><td>60</td><td>60.26</td><td>515</td><td>515</td><td>484</td><td>61</td></tr>",
                            "<tr><td>10876</td><td>9</td><td>60.42</td><td>516</td><td>516</td><td>485</td><td>61</td></tr>",
                            "<tr><td>10563</td><td>67</td><td>60.43</td><td>517</td><td>517</td><td>486</td><td>61</td></tr>",
                            "<tr><td>10692</td><td>1</td><td>61.02</td><td>518</td><td>518</td><td>487</td><td>61</td></tr>",
                            "<tr><td>10988</td><td>65</td><td>61.14</td><td>519</td><td>519</td><td>488</td><td>62</td></tr>",
                            "<tr><td>10749</td><td>38</td><td>61.53</td><td>520</td><td>520</td><td>489</td><td>62</td></tr>",
                            "<tr><td>10901</td><td>35</td><td>62.09</td><td>521</td><td>521</td><td>490</td><td>62</td></tr>",
                            "<tr><td>10967</td><td>79</td><td>62.22</td><td>522</td><td>522</td><td>491</td><td>62</td></tr>",
                            "<tr><td>10587</td><td>61</td><td>62.52</td><td>523</td><td>523</td><td>492</td><td>62</td></tr>",
                            "<tr><td>10922</td><td>34</td><td>62.74</td><td>524</td><td>524</td><td>493</td><td>62</td></tr>",
                            "<tr><td>10516</td><td>37</td><td>62.78</td><td>525</td><td>525</td><td>494</td><td>62</td></tr>",
                            "<tr><td>10492</td><td>10</td><td>62.89</td><td>526</td><td>526</td><td>495</td><td>62</td></tr>",
                            "<tr><td>10715</td><td>9</td><td>63.20</td><td>527</td><td>527</td><td>496</td><td>63</td></tr>",
                            "<tr><td>10327</td><td>24</td><td>63.36</td><td>528</td><td>528</td><td>497</td><td>63</td></tr>",
                            "<tr><td>10827</td><td>9</td><td>63.54</td><td>529</td><td>529</td><td>498</td><td>63</td></tr>",
                            "<tr><td>10916</td><td>64</td><td>63.77</td><td>530</td><td>530</td><td>499</td><td>63</td></tr>",
                            "<tr><td>10304</td><td>80</td><td>63.79</td><td>531</td><td>531</td><td>500</td><td>63</td></tr>",
                            "<tr><td>10350</td><td>41</td><td>64.19</td><td>532</td><td>532</td><td>501</td><td>63</td></tr>",
                            "<tr><td>10481</td><td>67</td><td>64.33</td><td>533</td><td>533</td><td>502</td><td>63</td></tr>",
                            "<tr><td>10485</td><td>47</td><td>64.45</td><td>534</td><td>534</td><td>503</td><td>63</td></tr>",
                            "<tr><td>10319</td><td>80</td><td>64.50</td><td>535</td><td>535</td><td>504</td><td>64</td></tr>",
                            "<tr><td>10470</td><td>9</td><td>64.56</td><td>536</td><td>536</td><td>505</td><td>64</td></tr>",
                            "<tr><td>10325</td><td>39</td><td>64.86</td><td>537</td><td>537</td><td>506</td><td>64</td></tr>",
                            "<tr><td>11039</td><td>47</td><td>65.00</td><td>538</td><td>538</td><td>507</td><td>64</td></tr>",
                            "<tr><td>10769</td><td>83</td><td>65.06</td><td>539</td><td>539</td><td>508</td><td>64</td></tr>",
                            "<tr><td>10700</td><td>71</td><td>65.10</td><td>540</td><td>540</td><td>509</td><td>64</td></tr>",
                            "<tr><td>10818</td><td>49</td><td>65.48</td><td>541</td><td>541</td><td>510</td><td>64</td></tr>",
                            "<tr><td>10994</td><td>83</td><td>65.53</td><td>542</td><td>542</td><td>511</td><td>64</td></tr>",
                            "<tr><td>10250</td><td>34</td><td>65.83</td><td>543</td><td>543</td><td>512</td><td>65</td></tr>",
                            "<tr><td>10494</td><td>15</td><td>65.99</td><td>544</td><td>544</td><td>513</td><td>65</td></tr>",
                            "<tr><td>10268</td><td>33</td><td>66.29</td><td>545</td><td>545</td><td>514</td><td>65</td></tr>",
                            "<tr><td>10529</td><td>50</td><td>66.69</td><td>546</td><td>546</td><td>515</td><td>65</td></tr>",
                            "<tr><td>11052</td><td>34</td><td>67.26</td><td>547</td><td>547</td><td>516</td><td>65</td></tr>",
                            "<tr><td>10402</td><td>20</td><td>67.88</td><td>548</td><td>548</td><td>517</td><td>65</td></tr>",
                            "<tr><td>10923</td><td>41</td><td>68.26</td><td>549</td><td>549</td><td>518</td><td>65</td></tr>",
                            "<tr><td>10475</td><td>76</td><td>68.52</td><td>550</td><td>550</td><td>519</td><td>65</td></tr>",
                            "<tr><td>10541</td><td>34</td><td>68.65</td><td>551</td><td>551</td><td>520</td><td>66</td></tr>",
                            "<tr><td>10447</td><td>67</td><td>68.66</td><td>552</td><td>552</td><td>521</td><td>66</td></tr>",
                            "<tr><td>10744</td><td>83</td><td>69.19</td><td>553</td><td>553</td><td>522</td><td>66</td></tr>",
                            "<tr><td>10502</td><td>58</td><td>69.32</td><td>554</td><td>554</td><td>523</td><td>66</td></tr>",
                            "<tr><td>10835</td><td>1</td><td>69.53</td><td>555</td><td>555</td><td>524</td><td>66</td></tr>",
                            "<tr><td>10784</td><td>49</td><td>70.09</td><td>556</td><td>556</td><td>525</td><td>66</td></tr>",
                            "<tr><td>10417</td><td>73</td><td>70.29</td><td>557</td><td>557</td><td>526</td><td>66</td></tr>",
                            "<tr><td>11045</td><td>10</td><td>70.58</td><td>558</td><td>558</td><td>527</td><td>66</td></tr>",
                            "<tr><td>10487</td><td>62</td><td>71.07</td><td>559</td><td>559</td><td>528</td><td>67</td></tr>",
                            "<tr><td>10833</td><td>56</td><td>71.49</td><td>560</td><td>560</td><td>529</td><td>67</td></tr>",
                            "<tr><td>11046</td><td>86</td><td>71.64</td><td>561</td><td>561</td><td>530</td><td>67</td></tr>",
                            "<tr><td>10364</td><td>19</td><td>71.97</td><td>562</td><td>562</td><td>531</td><td>67</td></tr>",
                            "<tr><td>10831</td><td>70</td><td>72.19</td><td>563</td><td>563</td><td>532</td><td>67</td></tr>",
                            "<tr><td>10551</td><td>28</td><td>72.95</td><td>564</td><td>564</td><td>533</td><td>67</td></tr>",
                            "<tr><td>10558</td><td>4</td><td>72.97</td><td>565</td><td>565</td><td>534</td><td>67</td></tr>",
                            "<tr><td>10441</td><td>55</td><td>73.02</td><td>566</td><td>566</td><td>535</td><td>67</td></tr>",
                            "<tr><td>10781</td><td>87</td><td>73.16</td><td>567</td><td>567</td><td>536</td><td>68</td></tr>",
                            "<tr><td>10756</td><td>75</td><td>73.21</td><td>568</td><td>568</td><td>537</td><td>68</td></tr>",
                            "<tr><td>10403</td><td>20</td><td>73.79</td><td>569</td><td>569</td><td>538</td><td>68</td></tr>",
                            "<tr><td>10433</td><td>60</td><td>73.83</td><td>570</td><td>570</td><td>539</td><td>68</td></tr>",
                            "<tr><td>10997</td><td>46</td><td>73.91</td><td>571</td><td>571</td><td>540</td><td>68</td></tr>",
                            "<tr><td>10314</td><td>65</td><td>74.16</td><td>572</td><td>572</td><td>541</td><td>68</td></tr>",
                            "<tr><td>11024</td><td>19</td><td>74.36</td><td>573</td><td>573</td><td>542</td><td>68</td></tr>",
                            "<tr><td>10949</td><td>10</td><td>74.44</td><td>574</td><td>574</td><td>543</td><td>68</td></tr>",
                            "<tr><td>10532</td><td>19</td><td>74.46</td><td>575</td><td>575</td><td>544</td><td>69</td></tr>",
                            "<tr><td>10722</td><td>71</td><td>74.58</td><td>576</td><td>576</td><td>545</td><td>69</td></tr>",
                            "<tr><td>10968</td><td>20</td><td>74.60</td><td>577</td><td>577</td><td>546</td><td>69</td></tr>",
                            "<tr><td>10580</td><td>56</td><td>75.89</td><td>578</td><td>578</td><td>547</td><td>69</td></tr>",
                            "<tr><td>10273</td><td>63</td><td>76.07</td><td>579</td><td>579</td><td>548</td><td>69</td></tr>",
                            "<tr><td>10859</td><td>25</td><td>76.10</td><td>580</td><td>580</td><td>549</td><td>69</td></tr>",
                            "<tr><td>10681</td><td>32</td><td>76.13</td><td>581</td><td>581</td><td>550</td><td>69</td></tr>",
                            "<tr><td>10939</td><td>49</td><td>76.33</td><td>582</td><td>582</td><td>551</td><td>69</td></tr>",
                            "<tr><td>10284</td><td>44</td><td>76.56</td><td>583</td><td>583</td><td>552</td><td>70</td></tr>",
                            "<tr><td>10285</td><td>63</td><td>76.83</td><td>584</td><td>584</td><td>553</td><td>70</td></tr>",
                            "<tr><td>10523</td><td>72</td><td>77.63</td><td>585</td><td>585</td><td>554</td><td>70</td></tr>",
                            "<tr><td>10893</td><td>39</td><td>77.78</td><td>586</td><td>586</td><td>555</td><td>70</td></tr>",
                            "<tr><td>10326</td><td>8</td><td>77.92</td><td>587</td><td>587</td><td>556</td><td>70</td></tr>",
                            "<tr><td>10667</td><td>20</td><td>78.09</td><td>588</td><td>588</td><td>557</td><td>70</td></tr>",
                            "<tr><td>10537</td><td>68</td><td>78.85</td><td>589</td><td>589</td><td>558</td><td>70</td></tr>",
                            "<tr><td>10825</td><td>17</td><td>79.25</td><td>590</td><td>590</td><td>559</td><td>70</td></tr>",
                            "<tr><td>10750</td><td>87</td><td>79.30</td><td>591</td><td>591</td><td>560</td><td>71</td></tr>",
                            "<tr><td>10606</td><td>81</td><td>79.40</td><td>592</td><td>592</td><td>561</td><td>71</td></tr>",
                            "<tr><td>11008</td><td>20</td><td>79.46</td><td>593</td><td>593</td><td>562</td><td>71</td></tr>",
                            "<tr><td>10290</td><td>15</td><td>79.70</td><td>594</td><td>594</td><td>563</td><td>71</td></tr>",
                            "<tr><td>10611</td><td>91</td><td>80.65</td><td>595</td><td>595</td><td>564</td><td>71</td></tr>",
                            "<tr><td>11063</td><td>37</td><td>81.73</td><td>596</td><td>596</td><td>565</td><td>71</td></tr>",
                            "<tr><td>11068</td><td>62</td><td>81.75</td><td>597</td><td>597</td><td>566</td><td>71</td></tr>",
                            "<tr><td>10830</td><td>81</td><td>81.83</td><td>598</td><td>598</td><td>567</td><td>71</td></tr>",
                            "<tr><td>10740</td><td>89</td><td>81.88</td><td>599</td><td>599</td><td>568</td><td>72</td></tr>",
                            "<tr><td>10257</td><td>35</td><td>81.91</td><td>600</td><td>600</td><td>569</td><td>72</td></tr>",
                            "<tr><td>10552</td><td>35</td><td>83.22</td><td>601</td><td>601</td><td>570</td><td>72</td></tr>",
                            "<tr><td>10474</td><td>58</td><td>83.49</td><td>602</td><td>602</td><td>571</td><td>72</td></tr>",
                            "<tr><td>10400</td><td>19</td><td>83.93</td><td>603</td><td>603</td><td>572</td><td>72</td></tr>",
                            "<tr><td>10338</td><td>55</td><td>84.21</td><td>604</td><td>604</td><td>573</td><td>72</td></tr>",
                            "<tr><td>11033</td><td>68</td><td>84.74</td><td>605</td><td>605</td><td>574</td><td>72</td></tr>",
                            "<tr><td>10283</td><td>46</td><td>84.81</td><td>606</td><td>606</td><td>575</td><td>72</td></tr>",
                            "<tr><td>10573</td><td>3</td><td>84.84</td><td>607</td><td>607</td><td>576</td><td>73</td></tr>",
                            "<tr><td>10629</td><td>30</td><td>85.46</td><td>608</td><td>608</td><td>577</td><td>73</td></tr>",
                            "<tr><td>11059</td><td>67</td><td>85.80</td><td>609</td><td>609</td><td>578</td><td>73</td></tr>",
                            "<tr><td>10440</td><td>71</td><td>86.53</td><td>610</td><td>610</td><td>579</td><td>73</td></tr>",
                            "<tr><td>10328</td><td>28</td><td>87.03</td><td>611</td><td>611</td><td>580</td><td>73</td></tr>",
                            "<tr><td>10964</td><td>74</td><td>87.38</td><td>612</td><td>612</td><td>581</td><td>73</td></tr>",
                            "<tr><td>10880</td><td>24</td><td>88.01</td><td>613</td><td>613</td><td>582</td><td>73</td></tr>",
                            "<tr><td>10566</td><td>7</td><td>88.40</td><td>614</td><td>614</td><td>583</td><td>73</td></tr>",
                            "<tr><td>10464</td><td>28</td><td>89.00</td><td>615</td><td>615</td><td>584</td><td>74</td></tr>",
                            "<tr><td>10398</td><td>71</td><td>89.16</td><td>616</td><td>616</td><td>585</td><td>74</td></tr>",
                            "<tr><td>10727</td><td>66</td><td>89.90</td><td>617</td><td>617</td><td>586</td><td>74</td></tr>",
                            "<tr><td>10712</td><td>37</td><td>89.93</td><td>618</td><td>618</td><td>587</td><td>74</td></tr>",
                            "<tr><td>10828</td><td>64</td><td>90.85</td><td>619</td><td>619</td><td>588</td><td>74</td></tr>",
                            "<tr><td>10884</td><td>45</td><td>90.97</td><td>620</td><td>620</td><td>589</td><td>74</td></tr>",
                            "<tr><td>10619</td><td>51</td><td>91.05</td><td>621</td><td>621</td><td>590</td><td>74</td></tr>",
                            "<tr><td>10772</td><td>44</td><td>91.28</td><td>622</td><td>622</td><td>591</td><td>74</td></tr>",
                            "<tr><td>10407</td><td>56</td><td>91.48</td><td>623</td><td>623</td><td>592</td><td>75</td></tr>",
                            "<tr><td>10985</td><td>37</td><td>91.51</td><td>624</td><td>624</td><td>593</td><td>75</td></tr>",
                            "<tr><td>10519</td><td>14</td><td>91.76</td><td>625</td><td>625</td><td>594</td><td>75</td></tr>",
                            "<tr><td>10278</td><td>5</td><td>92.69</td><td>626</td><td>626</td><td>595</td><td>75</td></tr>",
                            "<tr><td>10653</td><td>25</td><td>93.25</td><td>627</td><td>627</td><td>596</td><td>75</td></tr>",
                            "<tr><td>10387</td><td>70</td><td>93.63</td><td>628</td><td>628</td><td>597</td><td>75</td></tr>",
                            "<tr><td>10382</td><td>20</td><td>94.77</td><td>629</td><td>629</td><td>598</td><td>75</td></tr>",
                            "<tr><td>10624</td><td>78</td><td>94.80</td><td>630</td><td>630</td><td>599</td><td>75</td></tr>",
                            "<tr><td>10413</td><td>41</td><td>95.66</td><td>631</td><td>631</td><td>600</td><td>76</td></tr>",
                            "<tr><td>10672</td><td>5</td><td>95.75</td><td>632</td><td>632</td><td>601</td><td>76</td></tr>",
                            "<tr><td>10362</td><td>9</td><td>96.04</td><td>633</td><td>633</td><td>602</td><td>76</td></tr>",
                            "<tr><td>10999</td><td>56</td><td>96.35</td><td>634</td><td>634</td><td>603</td><td>76</td></tr>",
                            "<tr><td>10773</td><td>20</td><td>96.43</td><td>635</td><td>635</td><td>604</td><td>76</td></tr>",
                            "<tr><td>10686</td><td>59</td><td>96.50</td><td>636</td><td>636</td><td>605</td><td>76</td></tr>",
                            "<tr><td>10731</td><td>14</td><td>96.65</td><td>637</td><td>637</td><td>606</td><td>76</td></tr>",
                            "<tr><td>10557</td><td>44</td><td>96.72</td><td>638</td><td>638</td><td>607</td><td>76</td></tr>",
                            "<tr><td>10595</td><td>20</td><td>96.78</td><td>639</td><td>639</td><td>608</td><td>77</td></tr>",
                            "<tr><td>10801</td><td>8</td><td>97.09</td><td>640</td><td>640</td><td>609</td><td>77</td></tr>",
                            "<tr><td>10623</td><td>25</td><td>97.18</td><td>641</td><td>641</td><td>610</td><td>77</td></tr>",
                            "<tr><td>10272</td><td>65</td><td>98.03</td><td>642</td><td>642</td><td>611</td><td>77</td></tr>",
                            "<tr><td>10421</td><td>61</td><td>99.23</td><td>643</td><td>643</td><td>612</td><td>77</td></tr>",
                            "<tr><td>10854</td><td>20</td><td>100.22</td><td>644</td><td>644</td><td>613</td><td>77</td></tr>",
                            "<tr><td>10789</td><td>23</td><td>100.60</td><td>645</td><td>645</td><td>614</td><td>77</td></tr>",
                            "<tr><td>10368</td><td>20</td><td>101.95</td><td>646</td><td>646</td><td>615</td><td>77</td></tr>",
                            "<tr><td>10499</td><td>46</td><td>102.02</td><td>647</td><td>647</td><td>616</td><td>78</td></tr>",
                            "<tr><td>10696</td><td>89</td><td>102.55</td><td>648</td><td>648</td><td>617</td><td>78</td></tr>",
                            "<tr><td>10961</td><td>62</td><td>104.47</td><td>649</td><td>649</td><td>618</td><td>78</td></tr>",
                            "<tr><td>10957</td><td>35</td><td>105.36</td><td>650</td><td>650</td><td>619</td><td>78</td></tr>",
                            "<tr><td>10513</td><td>86</td><td>105.65</td><td>651</td><td>651</td><td>620</td><td>78</td></tr>",
                            "<tr><td>10659</td><td>62</td><td>105.81</td><td>652</td><td>652</td><td>621</td><td>78</td></tr>",
                            "<tr><td>10627</td><td>71</td><td>107.46</td><td>653</td><td>653</td><td>622</td><td>78</td></tr>",
                            "<tr><td>10303</td><td>30</td><td>107.83</td><td>654</td><td>654</td><td>623</td><td>78</td></tr>",
                            "<tr><td>10406</td><td>62</td><td>108.04</td><td>655</td><td>655</td><td>624</td><td>79</td></tr>",
                            "<tr><td>10337</td><td>25</td><td>108.26</td><td>656</td><td>656</td><td>625</td><td>79</td></tr>",
                            "<tr><td>10866</td><td>5</td><td>109.11</td><td>657</td><td>657</td><td>626</td><td>79</td></tr>",
                            "<tr><td>10733</td><td>5</td><td>110.11</td><td>658</td><td>658</td><td>627</td><td>79</td></tr>",
                            "<tr><td>10343</td><td>44</td><td>110.37</td><td>659</td><td>659</td><td>628</td><td>79</td></tr>",
                            "<tr><td>10786</td><td>62</td><td>110.87</td><td>660</td><td>660</td><td>629</td><td>79</td></tr>",
                            "<tr><td>10660</td><td>36</td><td>111.29</td><td>661</td><td>661</td><td>630</td><td>79</td></tr>",
                            "<tr><td>10871</td><td>9</td><td>112.27</td><td>662</td><td>662</td><td>631</td><td>79</td></tr>",
                            "<tr><td>10663</td><td>9</td><td>113.15</td><td>663</td><td>663</td><td>632</td><td>80</td></tr>",
                            "<tr><td>10894</td><td>71</td><td>116.13</td><td>664</td><td>664</td><td>633</td><td>80</td></tr>",
                            "<tr><td>10572</td><td>5</td><td>116.43</td><td>665</td><td>665</td><td>634</td><td>80</td></tr>",
                            "<tr><td>10616</td><td>32</td><td>116.53</td><td>666</td><td>666</td><td>635</td><td>80</td></tr>",
                            "<tr><td>10747</td><td>59</td><td>117.33</td><td>667</td><td>667</td><td>636</td><td>80</td></tr>",
                            "<tr><td>10990</td><td>20</td><td>117.61</td><td>668</td><td>668</td><td>637</td><td>80</td></tr>",
                            "<tr><td>10892</td><td>50</td><td>120.27</td><td>669</td><td>669</td><td>638</td><td>80</td></tr>",
                            "<tr><td>11055</td><td>35</td><td>120.92</td><td>670</td><td>670</td><td>639</td><td>80</td></tr>",
                            "<tr><td>10554</td><td>56</td><td>120.97</td><td>671</td><td>671</td><td>640</td><td>81</td></tr>",
                            "<tr><td>10971</td><td>26</td><td>121.82</td><td>672</td><td>672</td><td>641</td><td>81</td></tr>",
                            "<tr><td>10392</td><td>59</td><td>122.46</td><td>673</td><td>673</td><td>642</td><td>81</td></tr>",
                            "<tr><td>11023</td><td>11</td><td>123.83</td><td>674</td><td>674</td><td>643</td><td>81</td></tr>",
                            "<tr><td>10373</td><td>37</td><td>124.12</td><td>675</td><td>675</td><td>644</td><td>81</td></tr>",
                            "<tr><td>10783</td><td>34</td><td>124.98</td><td>676</td><td>676</td><td>645</td><td>81</td></tr>",
                            "<tr><td>10277</td><td>52</td><td>125.77</td><td>677</td><td>677</td><td>646</td><td>81</td></tr>",
                            "<tr><td>10390</td><td>20</td><td>126.38</td><td>678</td><td>678</td><td>647</td><td>81</td></tr>",
                            "<tr><td>10393</td><td>71</td><td>126.56</td><td>679</td><td>679</td><td>648</td><td>82</td></tr>",
                            "<tr><td>10795</td><td>20</td><td>126.66</td><td>680</td><td>680</td><td>649</td><td>82</td></tr>",
                            "<tr><td>10575</td><td>52</td><td>127.34</td><td>681</td><td>681</td><td>650</td><td>82</td></tr>",
                            "<tr><td>10751</td><td>68</td><td>130.79</td><td>682</td><td>682</td><td>651</td><td>82</td></tr>",
                            "<tr><td>10814</td><td>84</td><td>130.94</td><td>683</td><td>683</td><td>652</td><td>82</td></tr>",
                            "<tr><td>10360</td><td>7</td><td>131.70</td><td>684</td><td>684</td><td>653</td><td>82</td></tr>",
                            "<tr><td>10932</td><td>9</td><td>134.64</td><td>685</td><td>685</td><td>654</td><td>82</td></tr>",
                            "<tr><td>10396</td><td>25</td><td>135.35</td><td>686</td><td>686</td><td>655</td><td>82</td></tr>",
                            "<tr><td>10706</td><td>55</td><td>135.63</td><td>687</td><td>687</td><td>656</td><td>83</td></tr>",
                            "<tr><td>11070</td><td>44</td><td>136.00</td><td>688</td><td>688</td><td>657</td><td>83</td></tr>",
                            "<tr><td>10270</td><td>87</td><td>136.54</td><td>689</td><td>689</td><td>658</td><td>83</td></tr>",
                            "<tr><td>10419</td><td>68</td><td>137.35</td><td>690</td><td>690</td><td>659</td><td>83</td></tr>",
                            "<tr><td>10800</td><td>72</td><td>137.44</td><td>691</td><td>691</td><td>660</td><td>83</td></tr>",
                            "<tr><td>10758</td><td>68</td><td>138.17</td><td>692</td><td>692</td><td>661</td><td>83</td></tr>",
                            "<tr><td>10626</td><td>5</td><td>138.69</td><td>693</td><td>693</td><td>662</td><td>83</td></tr>",
                            "<tr><td>10693</td><td>89</td><td>139.34</td><td>694</td><td>694</td><td>663</td><td>83</td></tr>",
                            "<tr><td>10452</td><td>71</td><td>140.26</td><td>695</td><td>695</td><td>664</td><td>84</td></tr>",
                            "<tr><td>10258</td><td>20</td><td>140.51</td><td>696</td><td>696</td><td>665</td><td>84</td></tr>",
                            "<tr><td>10729</td><td>47</td><td>141.06</td><td>697</td><td>697</td><td>666</td><td>84</td></tr>",
                            "<tr><td>11002</td><td>71</td><td>141.16</td><td>698</td><td>698</td><td>667</td><td>84</td></tr>",
                            "<tr><td>10346</td><td>65</td><td>142.08</td><td>699</td><td>699</td><td>668</td><td>84</td></tr>",
                            "<tr><td>10646</td><td>37</td><td>142.33</td><td>700</td><td>700</td><td>669</td><td>84</td></tr>",
                            "<tr><td>10869</td><td>72</td><td>143.28</td><td>701</td><td>701</td><td>670</td><td>84</td></tr>",
                            "<tr><td>10965</td><td>55</td><td>144.38</td><td>702</td><td>702</td><td>671</td><td>84</td></tr>",
                            "<tr><td>10465</td><td>83</td><td>145.04</td><td>703</td><td>703</td><td>672</td><td>85</td></tr>",
                            "<tr><td>10764</td><td>20</td><td>145.45</td><td>704</td><td>704</td><td>673</td><td>85</td></tr>",
                            "<tr><td>10684</td><td>56</td><td>145.63</td><td>705</td><td>705</td><td>674</td><td>85</td></tr>",
                            "<tr><td>10263</td><td>20</td><td>146.06</td><td>706</td><td>706</td><td>675</td><td>85</td></tr>",
                            "<tr><td>10768</td><td>4</td><td>146.32</td><td>707</td><td>707</td><td>676</td><td>85</td></tr>",
                            "<tr><td>10458</td><td>76</td><td>147.06</td><td>708</td><td>708</td><td>677</td><td>85</td></tr>",
                            "<tr><td>10294</td><td>65</td><td>147.26</td><td>709</td><td>709</td><td>678</td><td>85</td></tr>",
                            "<tr><td>10255</td><td>68</td><td>148.33</td><td>710</td><td>710</td><td>679</td><td>85</td></tr>",
                            "<tr><td>10461</td><td>46</td><td>148.61</td><td>711</td><td>711</td><td>680</td><td>86</td></tr>",
                            "<tr><td>11036</td><td>17</td><td>149.47</td><td>712</td><td>712</td><td>681</td><td>86</td></tr>",
                            "<tr><td>10553</td><td>87</td><td>149.49</td><td>713</td><td>713</td><td>682</td><td>86</td></tr>",
                            "<tr><td>10316</td><td>65</td><td>150.15</td><td>714</td><td>714</td><td>683</td><td>86</td></tr>",
                            "<tr><td>10924</td><td>5</td><td>151.52</td><td>715</td><td>715</td><td>684</td><td>86</td></tr>",
                            "<tr><td>10703</td><td>24</td><td>152.30</td><td>716</td><td>716</td><td>685</td><td>86</td></tr>",
                            "<tr><td>10618</td><td>51</td><td>154.68</td><td>717</td><td>717</td><td>686</td><td>86</td></tr>",
                            "<tr><td>10829</td><td>38</td><td>154.72</td><td>718</td><td>718</td><td>687</td><td>86</td></tr>",
                            "<tr><td>10760</td><td>50</td><td>155.64</td><td>719</td><td>719</td><td>688</td><td>87</td></tr>",
                            "<tr><td>10404</td><td>49</td><td>155.97</td><td>720</td><td>720</td><td>689</td><td>87</td></tr>",
                            "<tr><td>10436</td><td>7</td><td>156.66</td><td>721</td><td>721</td><td>690</td><td>87</td></tr>",
                            "<tr><td>10766</td><td>56</td><td>157.55</td><td>722</td><td>722</td><td>691</td><td>87</td></tr>",
                            "<tr><td>10638</td><td>47</td><td>158.44</td><td>723</td><td>723</td><td>692</td><td>87</td></tr>",
                            "<tr><td>10851</td><td>67</td><td>160.55</td><td>724</td><td>724</td><td>693</td><td>87</td></tr>",
                            "<tr><td>10351</td><td>20</td><td>162.33</td><td>725</td><td>725</td><td>694</td><td>87</td></tr>",
                            "<tr><td>10895</td><td>20</td><td>162.75</td><td>726</td><td>726</td><td>695</td><td>87</td></tr>",
                            "<tr><td>10904</td><td>89</td><td>162.95</td><td>727</td><td>727</td><td>696</td><td>88</td></tr>",
                            "<tr><td>10823</td><td>46</td><td>163.97</td><td>728</td><td>728</td><td>697</td><td>88</td></tr>",
                            "<tr><td>10340</td><td>9</td><td>166.31</td><td>729</td><td>729</td><td>698</td><td>88</td></tr>",
                            "<tr><td>10713</td><td>71</td><td>167.05</td><td>730</td><td>730</td><td>699</td><td>88</td></tr>",
                            "<tr><td>10298</td><td>37</td><td>168.22</td><td>731</td><td>731</td><td>700</td><td>88</td></tr>",
                            "<tr><td>10384</td><td>5</td><td>168.64</td><td>732</td><td>732</td><td>701</td><td>88</td></tr>",
                            "<tr><td>10718</td><td>39</td><td>170.88</td><td>733</td><td>733</td><td>702</td><td>88</td></tr>",
                            "<tr><td>10855</td><td>55</td><td>170.97</td><td>734</td><td>734</td><td>703</td><td>88</td></tr>",
                            "<tr><td>10549</td><td>63</td><td>171.24</td><td>735</td><td>735</td><td>704</td><td>89</td></tr>",
                            "<tr><td>10852</td><td>65</td><td>174.05</td><td>736</td><td>736</td><td>705</td><td>89</td></tr>",
                            "<tr><td>10593</td><td>44</td><td>174.20</td><td>737</td><td>737</td><td>706</td><td>89</td></tr>",
                            "<tr><td>10872</td><td>30</td><td>175.32</td><td>738</td><td>738</td><td>707</td><td>89</td></tr>",
                            "<tr><td>10921</td><td>83</td><td>176.48</td><td>739</td><td>739</td><td>708</td><td>89</td></tr>",
                            "<tr><td>10650</td><td>21</td><td>176.81</td><td>740</td><td>740</td><td>709</td><td>89</td></tr>",
                            "<tr><td>10547</td><td>72</td><td>178.43</td><td>741</td><td>741</td><td>710</td><td>89</td></tr>",
                            "<tr><td>10641</td><td>35</td><td>179.61</td><td>742</td><td>742</td><td>711</td><td>89</td></tr>",
                            "<tr><td>10455</td><td>87</td><td>180.45</td><td>743</td><td>743</td><td>712</td><td>90</td></tr>",
                            "<tr><td>10361</td><td>63</td><td>183.17</td><td>744</td><td>744</td><td>713</td><td>90</td></tr>",
                            "<tr><td>10395</td><td>35</td><td>184.41</td><td>745</td><td>745</td><td>714</td><td>90</td></tr>",
                            "<tr><td>10987</td><td>19</td><td>185.48</td><td>746</td><td>746</td><td>715</td><td>90</td></tr>",
                            "<tr><td>10533</td><td>24</td><td>188.04</td><td>747</td><td>747</td><td>716</td><td>90</td></tr>",
                            "<tr><td>10857</td><td>5</td><td>188.85</td><td>748</td><td>748</td><td>717</td><td>90</td></tr>",
                            "<tr><td>10570</td><td>51</td><td>188.99</td><td>749</td><td>749</td><td>718</td><td>90</td></tr>",
                            "<tr><td>10451</td><td>63</td><td>189.09</td><td>750</td><td>750</td><td>719</td><td>90</td></tr>",
                            "<tr><td>10868</td><td>62</td><td>191.27</td><td>751</td><td>751</td><td>720</td><td>91</td></tr>",
                            "<tr><td>10329</td><td>75</td><td>191.67</td><td>752</td><td>752</td><td>721</td><td>91</td></tr>",
                            "<tr><td>10981</td><td>34</td><td>193.37</td><td>753</td><td>753</td><td>722</td><td>91</td></tr>",
                            "<tr><td>10588</td><td>63</td><td>194.67</td><td>754</td><td>754</td><td>723</td><td>91</td></tr>",
                            "<tr><td>10546</td><td>84</td><td>194.72</td><td>755</td><td>755</td><td>724</td><td>91</td></tr>",
                            "<tr><td>10369</td><td>75</td><td>195.68</td><td>756</td><td>756</td><td>725</td><td>91</td></tr>",
                            "<tr><td>11001</td><td>24</td><td>197.30</td><td>757</td><td>757</td><td>726</td><td>91</td></tr>",
                            "<tr><td>10607</td><td>71</td><td>200.24</td><td>758</td><td>758</td><td>727</td><td>91</td></tr>",
                            "<tr><td>10637</td><td>62</td><td>201.29</td><td>759</td><td>759</td><td>728</td><td>92</td></tr>",
                            "<tr><td>11007</td><td>60</td><td>202.24</td><td>760</td><td>760</td><td>729</td><td>92</td></tr>",
                            "<tr><td>10670</td><td>25</td><td>203.48</td><td>761</td><td>761</td><td>730</td><td>92</td></tr>",
                            "<tr><td>10515</td><td>63</td><td>204.47</td><td>762</td><td>762</td><td>731</td><td>92</td></tr>",
                            "<tr><td>10977</td><td>24</td><td>208.50</td><td>763</td><td>763</td><td>732</td><td>92</td></tr>",
                            "<tr><td>10267</td><td>25</td><td>208.58</td><td>764</td><td>764</td><td>733</td><td>92</td></tr>",
                            "<tr><td>10490</td><td>35</td><td>210.19</td><td>765</td><td>765</td><td>734</td><td>92</td></tr>",
                            "<tr><td>10709</td><td>31</td><td>210.80</td><td>766</td><td>766</td><td>735</td><td>92</td></tr>",
                            "<tr><td>10984</td><td>71</td><td>211.22</td><td>767</td><td>767</td><td>736</td><td>93</td></tr>",
                            "<tr><td>10845</td><td>63</td><td>212.98</td><td>768</td><td>768</td><td>737</td><td>93</td></tr>",
                            "<tr><td>10324</td><td>71</td><td>214.27</td><td>769</td><td>769</td><td>738</td><td>93</td></tr>",
                            "<tr><td>10986</td><td>54</td><td>217.86</td><td>770</td><td>770</td><td>739</td><td>93</td></tr>",
                            "<tr><td>10518</td><td>80</td><td>218.15</td><td>771</td><td>771</td><td>740</td><td>93</td></tr>",
                            "<tr><td>10701</td><td>37</td><td>220.31</td><td>772</td><td>772</td><td>741</td><td>93</td></tr>",
                            "<tr><td>11031</td><td>71</td><td>227.22</td><td>773</td><td>773</td><td>742</td><td>93</td></tr>",
                            "<tr><td>10286</td><td>63</td><td>229.24</td><td>774</td><td>774</td><td>743</td><td>93</td></tr>",
                            "<tr><td>10666</td><td>68</td><td>232.42</td><td>775</td><td>775</td><td>744</td><td>94</td></tr>",
                            "<tr><td>10748</td><td>71</td><td>232.55</td><td>776</td><td>776</td><td>745</td><td>94</td></tr>",
                            "<tr><td>10805</td><td>77</td><td>237.34</td><td>777</td><td>777</td><td>746</td><td>94</td></tr>",
                            "<tr><td>10561</td><td>24</td><td>242.21</td><td>778</td><td>778</td><td>747</td><td>94</td></tr>",
                            "<tr><td>11012</td><td>25</td><td>242.95</td><td>779</td><td>779</td><td>748</td><td>94</td></tr>",
                            "<tr><td>10742</td><td>10</td><td>243.73</td><td>780</td><td>780</td><td>749</td><td>94</td></tr>",
                            "<tr><td>10524</td><td>5</td><td>244.79</td><td>781</td><td>781</td><td>750</td><td>94</td></tr>",
                            "<tr><td>10345</td><td>63</td><td>249.06</td><td>782</td><td>782</td><td>751</td><td>94</td></tr>",
                            "<tr><td>10787</td><td>41</td><td>249.93</td><td>783</td><td>783</td><td>752</td><td>95</td></tr>",
                            "<tr><td>10555</td><td>71</td><td>252.49</td><td>784</td><td>784</td><td>753</td><td>95</td></tr>",
                            "<tr><td>10802</td><td>73</td><td>257.26</td><td>785</td><td>785</td><td>754</td><td>95</td></tr>",
                            "<tr><td>10305</td><td>55</td><td>257.62</td><td>786</td><td>786</td><td>755</td><td>95</td></tr>",
                            "<tr><td>11072</td><td>20</td><td>258.64</td><td>787</td><td>787</td><td>756</td><td>95</td></tr>",
                            "<tr><td>10698</td><td>20</td><td>272.47</td><td>788</td><td>788</td><td>757</td><td>95</td></tr>",
                            "<tr><td>10962</td><td>63</td><td>275.79</td><td>789</td><td>789</td><td>758</td><td>95</td></tr>",
                            "<tr><td>11056</td><td>19</td><td>278.96</td><td>790</td><td>790</td><td>759</td><td>95</td></tr>",
                            "<tr><td>10889</td><td>65</td><td>280.61</td><td>791</td><td>791</td><td>760</td><td>96</td></tr>",
                            "<tr><td>10359</td><td>72</td><td>288.43</td><td>792</td><td>792</td><td>761</td><td>96</td></tr>",
                            "<tr><td>10687</td><td>37</td><td>296.43</td><td>793</td><td>793</td><td>762</td><td>96</td></tr>",
                            "<tr><td>11021</td><td>63</td><td>297.18</td><td>794</td><td>794</td><td>763</td><td>96</td></tr>",
                            "<tr><td>10688</td><td>83</td><td>299.09</td><td>795</td><td>795</td><td>764</td><td>96</td></tr>",
                            "<tr><td>10817</td><td>39</td><td>306.07</td><td>796</td><td>796</td><td>765</td><td>96</td></tr>",
                            "<tr><td>10762</td><td>24</td><td>328.74</td><td>797</td><td>797</td><td>766</td><td>96</td></tr>",
                            "<tr><td>10530</td><td>59</td><td>339.22</td><td>798</td><td>798</td><td>767</td><td>96</td></tr>",
                            "<tr><td>10865</td><td>63</td><td>348.14</td><td>799</td><td>799</td><td>768</td><td>97</td></tr>",
                            "<tr><td>10511</td><td>9</td><td>350.64</td><td>800</td><td>800</td><td>769</td><td>97</td></tr>",
                            "<tr><td>10776</td><td>20</td><td>351.53</td><td>801</td><td>801</td><td>770</td><td>97</td></tr>",
                            "<tr><td>10657</td><td>71</td><td>352.69</td><td>802</td><td>802</td><td>771</td><td>97</td></tr>",
                            "<tr><td>10979</td><td>20</td><td>353.07</td><td>803</td><td>803</td><td>772</td><td>97</td></tr>",
                            "<tr><td>10353</td><td>59</td><td>360.63</td><td>804</td><td>804</td><td>773</td><td>97</td></tr>",
                            "<tr><td>10658</td><td>63</td><td>364.15</td><td>805</td><td>805</td><td>774</td><td>97</td></tr>",
                            "<tr><td>10510</td><td>71</td><td>367.63</td><td>806</td><td>806</td><td>775</td><td>97</td></tr>",
                            "<tr><td>10424</td><td>51</td><td>370.61</td><td>807</td><td>807</td><td>776</td><td>98</td></tr>",
                            "<tr><td>10605</td><td>51</td><td>379.13</td><td>808</td><td>808</td><td>777</td><td>98</td></tr>",
                            "<tr><td>10678</td><td>71</td><td>388.98</td><td>809</td><td>809</td><td>778</td><td>98</td></tr>",
                            "<tr><td>10694</td><td>63</td><td>398.36</td><td>810</td><td>810</td><td>779</td><td>98</td></tr>",
                            "<tr><td>10941</td><td>71</td><td>400.81</td><td>811</td><td>811</td><td>780</td><td>98</td></tr>",
                            "<tr><td>10836</td><td>20</td><td>411.88</td><td>812</td><td>812</td><td>781</td><td>98</td></tr>",
                            "<tr><td>10841</td><td>76</td><td>424.30</td><td>813</td><td>813</td><td>782</td><td>98</td></tr>",
                            "<tr><td>10430</td><td>20</td><td>458.78</td><td>814</td><td>814</td><td>783</td><td>98</td></tr>",
                            "<tr><td>10633</td><td>20</td><td>477.90</td><td>815</td><td>815</td><td>784</td><td>99</td></tr>",
                            "<tr><td>10634</td><td>23</td><td>487.38</td><td>816</td><td>816</td><td>785</td><td>99</td></tr>",
                            "<tr><td>10847</td><td>71</td><td>487.57</td><td>817</td><td>817</td><td>786</td><td>99</td></tr>",
                            "<tr><td>10612</td><td>71</td><td>544.08</td><td>818</td><td>818</td><td>787</td><td>99</td></tr>",
                            "<tr><td>10912</td><td>37</td><td>580.91</td><td>819</td><td>819</td><td>788</td><td>99</td></tr>",
                            "<tr><td>10897</td><td>37</td><td>603.54</td><td>820</td><td>820</td><td>789</td><td>99</td></tr>",
                            "<tr><td>11032</td><td>89</td><td>606.19</td><td>821</td><td>821</td><td>790</td><td>99</td></tr>",
                            "<tr><td>10983</td><td>71</td><td>657.54</td><td>822</td><td>822</td><td>791</td><td>99</td></tr>",
                            "<tr><td>10479</td><td>65</td><td>708.95</td><td>823</td><td>823</td><td>792</td><td>100</td></tr>",
                            "<tr><td>10816</td><td>32</td><td>719.78</td><td>824</td><td>824</td><td>793</td><td>100</td></tr>",
                            "<tr><td>11017</td><td>20</td><td>754.26</td><td>825</td><td>825</td><td>794</td><td>100</td></tr>",
                            "<tr><td>10514</td><td>20</td><td>789.95</td><td>826</td><td>826</td><td>795</td><td>100</td></tr>",
                            "<tr><td>10691</td><td>63</td><td>810.05</td><td>827</td><td>827</td><td>796</td><td>100</td></tr>",
                            "<tr><td>11030</td><td>71</td><td>830.75</td><td>828</td><td>828</td><td>797</td><td>100</td></tr>",
                            "<tr><td>10372</td><td>62</td><td>890.78</td><td>829</td><td>829</td><td>798</td><td>100</td></tr>",
                            "<tr><td>10540</td><td>63</td><td>1007.64</td><td>830</td><td>830</td><td>799</td><td>100</td></tr>",
                            "</table>"
                        ]
                    }
                }
            ],
            "execution_count": 1
        },
        {
            "cell_type": "markdown",
            "source": [
                "PARTITION OVER\n",
                "\n",
                "Proposition: Assign row numbers independently for each customer"
            ],
            "metadata": {
                "language": "sql",
                "azdata_cell_guid": "7c6fc8f6-7003-429e-8243-ffe48baca467"
            },
            "attachments": {}
        },
        {
            "cell_type": "code",
            "source": [
                "USE Northwinds2022TSQLV7\r\n",
                "SELECT orderId, o.CustomerId, o.Freight,\r\n",
                "\t  ROW_NUMBER() OVER (PARTITION BY o.CustomerId ORDER BY o.Freight) AS rownum\r\n",
                "FROM sales.[Order] AS o\r\n",
                "\r\n",
                "--if you want distinct rows, use GROUP BY instead of DISTINCT. Had to drop the orderId for it is not contained in the group by.\r\n",
                "SELECT o.customerId, o.Freight,\r\n",
                "\t   ROW_NUMBER() OVER (PARTITION BY o.CustomerId ORDER BY o.Freight) AS rownum\r\n",
                "FROM Sales.[Order] AS o\r\n",
                "GROUP BY o.customerId, o.Freight"
            ],
            "metadata": {
                "language": "sql",
                "azdata_cell_guid": "98274995-b127-43de-865d-4753133eb03a"
            },
            "outputs": [],
            "execution_count": null
        },
        {
            "cell_type": "markdown",
            "source": [
                "Offset Window Functions\n",
                "\n",
                "LAG: looks before the current row\n",
                "\n",
                "LEAD: looks ahead\n",
                "\n",
                "default is 1.\n",
                "\n",
                "Proposition: Find out for each order the previous and the next value ordered by orderDate and OrderID."
            ],
            "metadata": {
                "language": "sql",
                "azdata_cell_guid": "b2f215cf-42f6-4040-8d15-d251c6e4eb88"
            },
            "attachments": {}
        },
        {
            "cell_type": "code",
            "source": [
                "USE Northwinds2022TSQLV7\r\n",
                "SELECT o.orderId, o.CustomerId, o.Freight,\r\n",
                "\t  LAG(o.Freight) OVER (PARTITION BY o.CustomerId ORDER BY orderdate, o.OrderId) AS prevval,\r\n",
                "\t  LEAD(o.Freight) OVER (PARTITION BY o.CustomerId ORDER BY orderdate, o.OrderId) AS nextval\r\n",
                "FROM sales.[Order] AS o\r\n",
                "ORDER BY o.CustomerId, o.OrderDate, o.OrderId\r\n",
                "\r\n",
                "--You can specify the increment and decrement to be 3 and return value(0) when a row is not found.\r\n",
                "--LAG(val, 3, 0)"
            ],
            "metadata": {
                "language": "sql",
                "azdata_cell_guid": "65706eaf-a8d3-47a0-9744-8ad1b5bceba6"
            },
            "outputs": [],
            "execution_count": null
        },
        {
            "cell_type": "markdown",
            "source": [
                "FIRST\\_VALUE, LAST\\_VALUE\n",
                "\n",
                "Proposition: Return the value of the first customer's order and the value of the last customer's order."
            ],
            "metadata": {
                "language": "sql",
                "azdata_cell_guid": "45f0600a-5ebd-47ac-803b-70c4647509c6"
            },
            "attachments": {}
        },
        {
            "cell_type": "code",
            "source": [
                "USE Northwinds2022TSQLV7\r\n",
                "SELECT o.orderId, o.CustomerId, o.Freight,\r\n",
                "\t  FIRST_VALUE (o.Freight) OVER (PARTITION BY o.CustomerId ORDER BY orderdate, o.OrderId ROWS BETWEEN UNBOUNDED PRECEDING AND CURRENT ROW) AS firstval,\r\n",
                "\t  LAST_VALUE (o.Freight) OVER (PARTITION BY o.CustomerId ORDER BY orderdate, o.OrderId ROWS BETWEEN CURRENT ROW AND UNBOUNDED FOLLOWING) AS lastval\r\n",
                "FROM sales.[Order] AS o\r\n",
                "ORDER BY o.CustomerId, o.OrderDate, o.OrderId\r\n",
                ""
            ],
            "metadata": {
                "language": "sql",
                "azdata_cell_guid": "cb19112f-83be-44cd-aa52-379a03704763"
            },
            "outputs": [],
            "execution_count": null
        },
        {
            "cell_type": "markdown",
            "source": [
                "AGGREGATE WINDOW FUNCTIONS: SUM\n",
                "\n",
                "Proposition: Return each order along with the grand total of all order values as well as the customer total.  \n",
                "\n",
                ">"
            ],
            "metadata": {
                "language": "sql",
                "azdata_cell_guid": "82463cb7-39c3-40d2-9e82-908acf426fcc"
            },
            "attachments": {}
        },
        {
            "cell_type": "code",
            "source": [
                "USE Northwinds2022TSQLV7\r\n",
                "SELECT o.orderId, o.CustomerId, o.Freight,\r\n",
                "\t  SUM(o.Freight) OVER () AS totalValue,\r\n",
                "\t  SUM(o.Freight) OVER (PARTITION BY o.CustomerId) AS custTotalVal\r\n",
                "FROM sales.[Order] AS o\r\n",
                "ORDER BY o.Freight\r\n",
                ""
            ],
            "metadata": {
                "language": "sql",
                "azdata_cell_guid": "a52e5afc-b892-4304-a22e-bbdc88a25bd4"
            },
            "outputs": [],
            "execution_count": null
        },
        {
            "cell_type": "markdown",
            "source": [
                "APPLICATION OF AGGREGATE WINDOW FUNCTION\n",
                "\n",
                "Proposition: Return for each row the percentage of the current value oft of the grand total, as well as out of the customer total"
            ],
            "metadata": {
                "language": "sql",
                "azdata_cell_guid": "72061aa6-f181-46e2-924a-33beb57a4dd3"
            },
            "attachments": {}
        },
        {
            "cell_type": "code",
            "source": [
                "USE Northwinds2022TSQLV7\r\n",
                "SELECT o.orderId, o.CustomerId, o.Freight,\r\n",
                "\t  FORMAT(o.Freight/SUM(o.Freight) OVER (),'P') AS ptall,\r\n",
                "\t  format (o.Freight/SUM(o.Freight) OVER (PARTITION BY o.CustomerId),'P') AS pctcust\r\n",
                "FROM sales.[Order] AS o\r\n",
                "ORDER BY o.Freight\r\n",
                ""
            ],
            "metadata": {
                "language": "sql",
                "azdata_cell_guid": "97d05941-39c5-456c-b235-760820bb14bb"
            },
            "outputs": [],
            "execution_count": null
        },
        {
            "cell_type": "markdown",
            "source": [
                "Proposition: Calculate running total of each employee order by month"
            ],
            "metadata": {
                "language": "sql",
                "azdata_cell_guid": "816570bd-09ab-489d-bd9b-76de82162361"
            },
            "attachments": {}
        },
        {
            "cell_type": "code",
            "source": [
                "USE Northwinds2022TSQLV7\r\n",
                "SELECT veo.EmployeeId,\r\n",
                "       veo.ordermonth,\r\n",
                "       veo.qty,\r\n",
                "\t   SUM(qty) OVER (PARTITION BY veo.EmployeeId\r\n",
                "\t\t\t\t\tORDER BY veo.ordermonth\r\n",
                "\t\t\t\t\tROWS BETWEEN UNBOUNDED PRECEDING --no low boundary point\r\n",
                "\t\t\t\t\t\tAND CURRENT ROW) AS runqty --extends until the current row\r\n",
                " \r\n",
                "FROM Sales.empOrders AS veo"
            ],
            "metadata": {
                "language": "sql",
                "azdata_cell_guid": "7469cbbe-796c-4046-a45b-947f1e38da4d"
            },
            "outputs": [],
            "execution_count": null
        },
        {
            "cell_type": "markdown",
            "source": [
                "Pivoting data\n",
                "\n",
                "Rotates data from a state of rows to a state of column. Used for reporting.\n",
                "\n",
                "Proposition: Return total order quantity for each employee and customer."
            ],
            "metadata": {
                "language": "sql",
                "azdata_cell_guid": "8e942fb9-be94-4c84-a1c9-849fc81ad96f"
            },
            "attachments": {}
        },
        {
            "cell_type": "code",
            "source": [
                "USE Northwinds2022TSQLV7\r\n",
                "DROP TABLE IF EXISTS dbo.OrdersExample;\r\n",
                "GO\r\n",
                "\r\n",
                "CREATE TABLE dbo.OrdersExample\r\n",
                "(\r\n",
                "  orderid   INT        NOT NULL,\r\n",
                "  orderdate DATE       NOT NULL,\r\n",
                "  empid     INT        NOT NULL,\r\n",
                "  custid    VARCHAR(5) NOT NULL,\r\n",
                "  qty       INT        NOT NULL,\r\n",
                "  CONSTRAINT PK_OrdersExample PRIMARY KEY(orderid)\r\n",
                ");\r\n",
                "\r\n",
                "INSERT INTO dbo.OrdersExample(orderid, orderdate, empid, custid, qty)\r\n",
                "VALUES\r\n",
                "  (30001, '20140802', 3, 'A', 10),\r\n",
                "  (10001, '20141224', 2, 'A', 12),\r\n",
                "  (10005, '20141224', 1, 'B', 20),\r\n",
                "  (40001, '20150109', 2, 'A', 40),\r\n",
                "  (10006, '20150118', 1, 'C', 14),\r\n",
                "  (20001, '20150212', 2, 'B', 12),\r\n",
                "  (40005, '20160212', 3, 'A', 10),\r\n",
                "  (20002, '20160216', 1, 'C', 20),\r\n",
                "  (30003, '20160418', 2, 'B', 15),\r\n",
                "  (30004, '20140418', 3, 'C', 22),\r\n",
                "  (30007, '20160907', 3, 'D', 30);\r\n",
                "\r\n",
                "SELECT * FROM dbo.OrdersExample;\r\n",
                "SELECT oe.empid,\r\n",
                "       oe.custid,\r\n",
                "       sum (oe.qty) \r\n",
                "FROM dbo.OrdersExample AS oe\r\n",
                "GROUP BY oe.empid, oe.custid;\r\n",
                "\r\n",
                "--You need to produce a single row in the result for each unique employeeId. \"Spread\" the quantities by customerId. \r\n",
                ""
            ],
            "metadata": {
                "language": "sql",
                "azdata_cell_guid": "3e464323-056f-443d-82b1-b943722ebbc9"
            },
            "outputs": [],
            "execution_count": null
        },
        {
            "cell_type": "markdown",
            "source": [
                "Pivoting with a grouped query\n",
                "\n",
                "The grouping phase is achieved with a GROUP BY clause.\n",
                "\n",
                "The spreading phase is achieved in the SELECT caluse with a CASE expression for each target column.\n",
                "\n",
                "Proposition: Return total order quantity for each employee and customer."
            ],
            "metadata": {
                "language": "sql",
                "azdata_cell_guid": "8777bffd-985f-4ab0-b6a7-2d7a4026d060"
            },
            "attachments": {}
        },
        {
            "cell_type": "code",
            "source": [
                "USE Northwinds2022TSQLV7\r\n",
                "SELECT oe.empid,\r\n",
                "\t SUM(CASE WHEN oe.custid = 'A' THEN qty END) AS A, \r\n",
                "\t SUM(CASE WHEN oe.custid = 'B' THEN qty END) AS B,\r\n",
                "\t SUM(CASE WHEN oe.custid = 'C' THEN qty END) AS C,\r\n",
                "\t SUM(CASE WHEN oe.custid = 'D' THEN qty END) AS D\r\n",
                "FROM dbo.OrdersExample AS oe\r\n",
                "GROUP BY oe.empid"
            ],
            "metadata": {
                "language": "sql",
                "azdata_cell_guid": "1b96f435-58fe-4be2-9b90-54b1d15c9182"
            },
            "outputs": [],
            "execution_count": null
        },
        {
            "cell_type": "markdown",
            "source": [
                "Pivoting with the Pivot Operator\n",
                "\n",
                "PIVOT operator figures out the grouping elements implicitly by elmination.\n",
                "\n",
                "Proposition: Return total order quantity for each employee and customer."
            ],
            "metadata": {
                "language": "sql",
                "azdata_cell_guid": "c226f60f-74a5-405a-bf92-00c288251762"
            },
            "attachments": {}
        },
        {
            "cell_type": "code",
            "source": [
                "USE Northwinds2022TSQLV7\r\n",
                "SELECT empid, A, B, C, D \r\n",
                "FROM (SELECT empid, custid, qty\r\n",
                "\t  FROM dbo.OrdersExample AS oe) AS D\r\n",
                "\t  PIVOT (SUM(qty) FOR custid IN (A, B, C, D)) AS P;\r\n",
                "\r\n",
                "--It is good practice to pivot from a table expression because you do not want to group by irrelevant variables. "
            ],
            "metadata": {
                "language": "sql",
                "azdata_cell_guid": "6e0be35d-9154-4b22-a06c-a6cfcad5a973"
            },
            "outputs": [],
            "execution_count": null
        },
        {
            "cell_type": "markdown",
            "source": [
                "Proposition: Return total order quantity for each customer."
            ],
            "metadata": {
                "language": "sql",
                "azdata_cell_guid": "2192819c-1a08-4167-a6ae-e762d3405259"
            },
            "attachments": {}
        },
        {
            "cell_type": "code",
            "source": [
                "USE Northwinds2022TSQLV7\r\n",
                "SELECT custid, [1], [2], [3]\r\n",
                "FROM (SELECT empid, custid, qty\r\n",
                "\t  FROM dbo.OrdersExample AS oe) AS D\r\n",
                "\t  PIVOT (SUM(qty) FOR empid IN ([1], [2], [3])) AS P;"
            ],
            "metadata": {
                "language": "sql",
                "azdata_cell_guid": "9281b0d7-f63e-4195-a942-1845568fc6f1",
                "tags": []
            },
            "outputs": [],
            "execution_count": null
        },
        {
            "cell_type": "markdown",
            "source": [
                "Unpivoting data\n",
                "\n",
                "It is a technique that rotates data from a state of columns to a state of rows. A common use case is to unpivot data you imported from a spreadsheet into the database for easier manipulation. Let's create a pivot table so we can start unpivoting."
            ],
            "metadata": {
                "language": "sql",
                "azdata_cell_guid": "6d37e51d-fc9f-4020-a670-f5581a1d09bb"
            },
            "attachments": {}
        },
        {
            "cell_type": "code",
            "source": [
                "--Creating a table to store the pivoted information from dbo.OrdersExample\r\n",
                "CREATE TABLE dbo.EmpCustOrders\r\n",
                "(\r\n",
                "  empid INT NOT NULL\r\n",
                "    CONSTRAINT PK_EmpCustOrders PRIMARY KEY,\r\n",
                "  A VARCHAR(5) NULL,\r\n",
                "  B VARCHAR(5) NULL,\r\n",
                "  C VARCHAR(5) NULL,\r\n",
                "  D VARCHAR(5) NULL\r\n",
                ");\r\n",
                "\r\n",
                "--Inserting pivot table information\r\n",
                "INSERT INTO dbo.EmpCustOrders(empid, A, B, C, D)\r\n",
                "  SELECT empid, A, B, C, D\r\n",
                "  FROM (SELECT empid, custid, qty\r\n",
                "        FROM dbo.OrdersExample AS oe) AS D\r\n",
                "    PIVOT(SUM(qty) FOR custid IN(A, B, C, D)) AS P;\r\n",
                "\r\n",
                "--result of pivot table\r\n",
                "SELECT * FROM dbo.EmpCustOrders;\r\n",
                "--Employee-customer combination that had no intersecting order activity is represented by NULLs."
            ],
            "metadata": {
                "language": "sql",
                "azdata_cell_guid": "4137ccba-f6cd-451a-bc0c-e91de41fd127"
            },
            "outputs": [],
            "execution_count": null
        },
        {
            "cell_type": "markdown",
            "source": [
                "Unpivoting with the APPLY operator\n",
                "\n",
                "Unpivoting involves three logical processing phases: producing copies, extracting values, and eliminating irrelevant rows. Use CROSS APPLY without the third step when you need to keep the NULLs. Otherwise, it is simpler to use UNPIVOT."
            ],
            "metadata": {
                "language": "sql",
                "azdata_cell_guid": "5c3ad082-5a5f-4b21-9ddc-8776228576bb"
            },
            "attachments": {}
        },
        {
            "cell_type": "code",
            "source": [
                "--1. Produce copies.\r\n",
                "SELECT * \r\n",
                "FROM dbo.EmpCustOrders\r\n",
                "\tCROSS JOIN (VALUES ('A'), ('B'), ('C'), ('D')) AS C (custid);\r\n",
                "\r\n",
                "--the VALUES clause defines a set of four rows, each with a single customerID value. The code defines a derived table called C based on this clause and names the only column in it custid.\r\n",
                "--The code then applies a cross join between EmpCustOrders and C.\r\n",
                "\r\n",
                "--2.Extract values\r\n",
                "SELECT empid, custid, qty \r\n",
                "FROM dbo.EmpCustOrders AS eco\r\n",
                "\tCROSS APPLY (VALUES ('A', A), ('B',B), ('C',C), ('D',D)) AS C(custid, qty) -- USE CROSS APPLY instead of CROSS JOIN because custid and qty are not available with CROSS JOIN.\r\n",
                "WHERE qty IS NOT NULL;--3. Eliminate irrelavant rows: removes the rows with NULLs."
            ],
            "metadata": {
                "language": "sql",
                "azdata_cell_guid": "340d747e-3697-406f-aa3f-e97c7592731e"
            },
            "outputs": [],
            "execution_count": null
        },
        {
            "cell_type": "markdown",
            "source": [
                "Unpivoting with the UNPIVOT operator\n",
                "\n",
                "Unpivoting data involves producing two result columns from any number of source columns -- one to hold the source column names as strings and another to hold the source column values."
            ],
            "metadata": {
                "language": "sql",
                "azdata_cell_guid": "93ab0a21-3ee9-4d5e-90ee-0087f67e42f3"
            },
            "attachments": {}
        },
        {
            "cell_type": "code",
            "source": [
                "SELECT empid, custid, qty\r\n",
                "FROM dbo.EmpCustOrders AS eco\r\n",
                "\tUNPIVOT (qty FOR custid IN (A,B,C,D)) AS U;"
            ],
            "metadata": {
                "language": "sql",
                "azdata_cell_guid": "9a9b0fc6-d716-4846-b341-9eb366b795e6"
            },
            "outputs": [],
            "execution_count": null
        },
        {
            "cell_type": "markdown",
            "source": [
                "Grouping Sets\n",
                "\n",
                "Set: there is no significance to the order in which you specify.\n",
                "\n",
                "Proposition: Return order information grouped by combination of empid, custid, and the last one should be the for the entire orders."
            ],
            "metadata": {
                "language": "sql",
                "azdata_cell_guid": "323a979c-2e72-4fda-babe-df907a26db9f"
            },
            "attachments": {}
        },
        {
            "cell_type": "code",
            "source": [
                "USE Northwinds2022TSQLV7\r\n",
                "SELECT empid, custid, SUM(qty) AS sumqty\r\n",
                "FROM dbo.OrdersExample \r\n",
                "GROUP BY empid, custid;\r\n",
                "\r\n",
                "SELECT empid, SUM(qty) AS sumqty\r\n",
                "FROM dbo.OrdersExample \r\n",
                "GROUP BY empid;\r\n",
                "\r\n",
                "SELECT custid, SUM(qty) AS sumqty\r\n",
                "FROM dbo.OrdersExample \r\n",
                "GROUP BY custid;\r\n",
                "\r\n",
                "SELECT SUM(qty) AS sumqty\r\n",
                "FROM dbo.OrdersExample \r\n",
                "\r\n",
                "--GROUP SETS subclase. You can achieve the same results using a shortened syntax. The following returns the result in one table set.\r\n",
                "SELECT empid, custid, SUM(qty) AS sumqty\r\n",
                "FROM dbo.OrdersExample AS oe\r\n",
                "GROUP BY\r\n",
                "  GROUPING SETS\r\n",
                "  (\r\n",
                "    (empid, custid),\r\n",
                "    (empid),\r\n",
                "    (custid),\r\n",
                "    ()\r\n",
                "  );"
            ],
            "metadata": {
                "language": "sql",
                "azdata_cell_guid": "63a3941f-c2f1-408f-98da-1c7e0972d4de",
                "tags": []
            },
            "outputs": [],
            "execution_count": null
        },
        {
            "cell_type": "markdown",
            "source": [
                "The CUBE subclause\n",
                "\n",
                "Proposition: Return a power set of GROUPING SETS. Set of all subsets of elements that can be produced from a particular set.\n",
                "\n",
                "CUBE (a,b,c) is equivalent to\n",
                "\n",
                "GROUPING SETS ((a,b,c), (a,b),(a,c),(b,c),(a), (b), (v), ())"
            ],
            "metadata": {
                "language": "sql",
                "azdata_cell_guid": "75a5389e-1e21-47fc-863d-8af8fe897067"
            },
            "attachments": {}
        },
        {
            "cell_type": "code",
            "source": [
                "USE Northwinds2022TSQLV7\r\n",
                "SELECT empid, custid, SUM(qty) AS sumqty\r\n",
                "FROM dbo.OrdersExample\r\n",
                "GROUP BY CUBE(empid, custid);"
            ],
            "metadata": {
                "language": "sql",
                "azdata_cell_guid": "b2c99ae3-0d22-462e-bef6-7ab45b186c9b",
                "tags": []
            },
            "outputs": [],
            "execution_count": null
        },
        {
            "cell_type": "markdown",
            "source": [
                "The ROLLUP subclause\n",
                "\n",
                "It is like the CUBE subclase except in returns only four based on the hierarchy. ASsuming hierarchy a\\>b\\>c. \n",
                "\n",
                "ROLLUP (a,b,c) is equievalent to GROUPING SETS ((a,b,c),(a,b), (a), ())"
            ],
            "metadata": {
                "language": "sql",
                "azdata_cell_guid": "068dd2ff-892d-4927-b288-1539e614dc71"
            },
            "attachments": {}
        },
        {
            "cell_type": "code",
            "source": [
                "USE Northwinds2022TSQLV7\r\n",
                "SELECT \r\n",
                "  YEAR(orderdate) AS orderyear,\r\n",
                "  MONTH(orderdate) AS ordermonth,\r\n",
                "  DAY(orderdate) AS orderday,\r\n",
                "  SUM(qty) AS sumqty\r\n",
                "FROM dbo.OrdersExample\r\n",
                "GROUP BY ROLLUP(YEAR(orderdate), MONTH(orderdate), DAY(orderdate));"
            ],
            "metadata": {
                "language": "sql",
                "azdata_cell_guid": "49752d8f-50ab-4ffd-af6b-c7607bd0997c"
            },
            "outputs": [],
            "execution_count": null
        },
        {
            "cell_type": "markdown",
            "source": [
                "The GROUPING \n",
                "\n",
                "If a group column allows NULLs in the table, you cannot tell for sure whether a NULL in the result set originated from the data or is a placeholder for a nonparticiating member in a grouping set. GROUPING function accepts a name of a column and returns 0 if it is a member of the current grouping set (a detail element) and 1 otherwise (an agrgregate element)."
            ],
            "metadata": {
                "language": "sql",
                "azdata_cell_guid": "0e86ea44-c5fa-4b50-8dea-0b4cd95b6de9"
            },
            "attachments": {}
        },
        {
            "cell_type": "code",
            "source": [
                "USE Northwinds2022TSQLV7\r\n",
                "SELECT \r\n",
                "\tGROUPING (empid) AS grpemp,\r\n",
                "\tGROUPING (custid) AS grpcust,\r\n",
                "\tempid, custid, SUM(qty) AS sumqty\r\n",
                "FROM dbo.OrdersExample\r\n",
                "GROUP BY CUBE (empid, custid);\r\n",
                "\r\n",
                ""
            ],
            "metadata": {
                "language": "sql",
                "azdata_cell_guid": "835525bd-fff1-4acc-b598-037106b4a392"
            },
            "outputs": [],
            "execution_count": null
        },
        {
            "cell_type": "markdown",
            "source": [
                "GROUPING\\_ID\n",
                "\n",
                "Instead of GROUPING function for each grouping element as in the previous query, you can call the GROUPING\\_ID function once and provide it with all grouping elements as input."
            ],
            "metadata": {
                "language": "sql",
                "azdata_cell_guid": "321ce1ab-d1db-4a8a-9d97-e3c0b0e99b1c"
            },
            "attachments": {}
        },
        {
            "cell_type": "code",
            "source": [
                "USE Northwinds2022TSQLV7\r\n",
                "SELECT\r\n",
                "  GROUPING_ID(empid, custid) AS groupingset,\r\n",
                "  empid, custid, SUM(qty) AS sumqty\r\n",
                "FROM dbo.OrdersExample\r\n",
                "GROUP BY CUBE(empid, custid);"
            ],
            "metadata": {
                "language": "sql",
                "azdata_cell_guid": "b70afa1e-8508-41a9-86f5-2435041829dd"
            },
            "outputs": [],
            "execution_count": null
        }
    ]
}