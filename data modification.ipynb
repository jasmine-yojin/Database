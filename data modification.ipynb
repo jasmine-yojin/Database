{
    "metadata": {
        "kernelspec": {
            "name": "SQL",
            "display_name": "SQL",
            "language": "sql"
        },
        "language_info": {
            "name": "sql",
            "version": ""
        }
    },
    "nbformat_minor": 2,
    "nbformat": 4,
    "cells": [
        {
            "cell_type": "markdown",
            "source": [
                "**Data Manipulation Language (DML)**: SELECT, INSERT, UPDATE, DELETE, TRUNCATE, MERGE.\n",
                "**Data Modification**: a subset of DML. INSERT, UPDATE, DELETE, TRUNCATE, MERGE. Everything except for SELECT."
            ],
            "metadata": {
                "azdata_cell_guid": "29ac2a10-c3a9-45a6-8ddf-e22ef972f357"
            },
            "attachments": {}
        },
        {
            "cell_type": "markdown",
            "source": [
                "Inserting Data: INSERT VALUES, INSERT SELECT, INSERT EXEC, SELECT INTO, BULK INSERT"
            ],
            "metadata": {
                "azdata_cell_guid": "953900f9-ec6a-4bea-8b63-ad5a0e042c6d"
            },
            "attachments": {}
        },
        {
            "cell_type": "markdown",
            "source": [
                "**INSERT VALUES**\n",
                "\n",
                "Inserts rows into a table based on specified values."
            ],
            "metadata": {
                "azdata_cell_guid": "35e6bf55-c443-4af1-8455-13d8b774bfc5"
            },
            "attachments": {}
        },
        {
            "cell_type": "code",
            "source": [
                "use Northwinds2022TSQLV7\r\n",
                "ALTER TABLE dbo.OrderDetails\r\n",
                "DROP CONSTRAINT FK_OrderDetails_Orders;\r\n",
                "\r\n",
                "DROP TABLE IF EXISTS dbo.Orders;\r\n",
                "\r\n",
                "CREATE TABLE dbo.Orders\r\n",
                "(\r\n",
                "\torderid INT NOT NULL\r\n",
                "\t\tCONSTRAINT PK_Orders PRIMARY KEY,\r\n",
                "\torderdate DATE NOT NULL\r\n",
                "\t\tCONSTRAINT DFT_orderdate DEFAULT (SYSDATETIME()),\r\n",
                "\tempid INT NOT NULL,\r\n",
                "\tcustid\tVARCHAR (10) NOT NULL \r\n",
                "\r\n",
                ");\r\n",
                "\r\n",
                "INSERT INTO dbo.Orders (orderid, orderdate, empid, custid)\r\n",
                "\tVALUES (10001,'20160212', 5, 'A');\r\n",
                "\r\n",
                "SELECT * FROM dbo.orders\r\n",
                "-- if column is not specified, default value will be used. If no default value, NULL.\r\n",
                "INSERT INTO dbo.Orders (orderid, empid, custid)\r\n",
                "\tVALUES (10002, 5, 'B');\r\n",
                "\r\n",
                "SELECT * FROM dbo.orders\r\n",
                "\r\n",
                "-- enhanced insert for multiple inserts.\r\n",
                "INSERT INTO dbo.Orders \r\n",
                " (orderid, orderdate, empid, custid)\r\n",
                "VALUES \r\n",
                "  (10003, '20160213', 4, 'B'),\r\n",
                "  (10004, '20160214', 1, 'A'),\r\n",
                "  (10005, '20160213', 1, 'C'),\r\n",
                "  (10006, '20160215', 3, 'C');\r\n",
                "\r\n",
                "SELECT * FROM dbo.orders\r\n",
                "\r\n",
                "--You can make a derived table from enhanced insert. Following the values, you designate o for the table alias and column aliases.\r\n",
                "SELECT *\r\n",
                "\tFROM (VALUES \r\n",
                "\t\t\t(10003, '20160213', 4, 'B'),\r\n",
                "\t\t\t  (10004, '20160214', 1, 'A'),\r\n",
                "\t\t\t  (10005, '20160213', 1, 'C'),\r\n",
                "\t\t\t  (10006, '20160215', 3, 'C'))\r\n",
                "\tAS o (orderid, orderdate, empid, customerId);"
            ],
            "metadata": {
                "azdata_cell_guid": "ac01d739-86d0-433a-a341-52b24b3f7eb7",
                "language": "sql"
            },
            "outputs": [
                {
                    "output_type": "display_data",
                    "data": {
                        "text/html": "(1 row affected)"
                    },
                    "metadata": {}
                },
                {
                    "output_type": "display_data",
                    "data": {
                        "text/html": "(1 row affected)"
                    },
                    "metadata": {}
                },
                {
                    "output_type": "display_data",
                    "data": {
                        "text/html": "(1 row affected)"
                    },
                    "metadata": {}
                },
                {
                    "output_type": "display_data",
                    "data": {
                        "text/html": "(2 rows affected)"
                    },
                    "metadata": {}
                },
                {
                    "output_type": "display_data",
                    "data": {
                        "text/html": "(4 rows affected)"
                    },
                    "metadata": {}
                },
                {
                    "output_type": "display_data",
                    "data": {
                        "text/html": "(6 rows affected)"
                    },
                    "metadata": {}
                },
                {
                    "output_type": "display_data",
                    "data": {
                        "text/html": "(4 rows affected)"
                    },
                    "metadata": {}
                },
                {
                    "output_type": "display_data",
                    "data": {
                        "text/html": "Total execution time: 00:00:00.091"
                    },
                    "metadata": {}
                },
                {
                    "output_type": "execute_result",
                    "metadata": {},
                    "execution_count": 44,
                    "data": {
                        "application/vnd.dataresource+json": {
                            "schema": {
                                "fields": [
                                    {
                                        "name": "orderid"
                                    },
                                    {
                                        "name": "orderdate"
                                    },
                                    {
                                        "name": "empid"
                                    },
                                    {
                                        "name": "custid"
                                    }
                                ]
                            },
                            "data": [
                                {
                                    "0": "10001",
                                    "1": "2016-02-12",
                                    "2": "5",
                                    "3": "A"
                                }
                            ]
                        },
                        "text/html": [
                            "<table>",
                            "<tr><th>orderid</th><th>orderdate</th><th>empid</th><th>custid</th></tr>",
                            "<tr><td>10001</td><td>2016-02-12</td><td>5</td><td>A</td></tr>",
                            "</table>"
                        ]
                    }
                },
                {
                    "output_type": "execute_result",
                    "metadata": {},
                    "execution_count": 44,
                    "data": {
                        "application/vnd.dataresource+json": {
                            "schema": {
                                "fields": [
                                    {
                                        "name": "orderid"
                                    },
                                    {
                                        "name": "orderdate"
                                    },
                                    {
                                        "name": "empid"
                                    },
                                    {
                                        "name": "custid"
                                    }
                                ]
                            },
                            "data": [
                                {
                                    "0": "10001",
                                    "1": "2016-02-12",
                                    "2": "5",
                                    "3": "A"
                                },
                                {
                                    "0": "10002",
                                    "1": "2022-11-02",
                                    "2": "5",
                                    "3": "B"
                                }
                            ]
                        },
                        "text/html": [
                            "<table>",
                            "<tr><th>orderid</th><th>orderdate</th><th>empid</th><th>custid</th></tr>",
                            "<tr><td>10001</td><td>2016-02-12</td><td>5</td><td>A</td></tr>",
                            "<tr><td>10002</td><td>2022-11-02</td><td>5</td><td>B</td></tr>",
                            "</table>"
                        ]
                    }
                },
                {
                    "output_type": "execute_result",
                    "metadata": {},
                    "execution_count": 44,
                    "data": {
                        "application/vnd.dataresource+json": {
                            "schema": {
                                "fields": [
                                    {
                                        "name": "orderid"
                                    },
                                    {
                                        "name": "orderdate"
                                    },
                                    {
                                        "name": "empid"
                                    },
                                    {
                                        "name": "custid"
                                    }
                                ]
                            },
                            "data": [
                                {
                                    "0": "10001",
                                    "1": "2016-02-12",
                                    "2": "5",
                                    "3": "A"
                                },
                                {
                                    "0": "10002",
                                    "1": "2022-11-02",
                                    "2": "5",
                                    "3": "B"
                                },
                                {
                                    "0": "10003",
                                    "1": "2016-02-13",
                                    "2": "4",
                                    "3": "B"
                                },
                                {
                                    "0": "10004",
                                    "1": "2016-02-14",
                                    "2": "1",
                                    "3": "A"
                                },
                                {
                                    "0": "10005",
                                    "1": "2016-02-13",
                                    "2": "1",
                                    "3": "C"
                                },
                                {
                                    "0": "10006",
                                    "1": "2016-02-15",
                                    "2": "3",
                                    "3": "C"
                                }
                            ]
                        },
                        "text/html": [
                            "<table>",
                            "<tr><th>orderid</th><th>orderdate</th><th>empid</th><th>custid</th></tr>",
                            "<tr><td>10001</td><td>2016-02-12</td><td>5</td><td>A</td></tr>",
                            "<tr><td>10002</td><td>2022-11-02</td><td>5</td><td>B</td></tr>",
                            "<tr><td>10003</td><td>2016-02-13</td><td>4</td><td>B</td></tr>",
                            "<tr><td>10004</td><td>2016-02-14</td><td>1</td><td>A</td></tr>",
                            "<tr><td>10005</td><td>2016-02-13</td><td>1</td><td>C</td></tr>",
                            "<tr><td>10006</td><td>2016-02-15</td><td>3</td><td>C</td></tr>",
                            "</table>"
                        ]
                    }
                },
                {
                    "output_type": "execute_result",
                    "metadata": {},
                    "execution_count": 44,
                    "data": {
                        "application/vnd.dataresource+json": {
                            "schema": {
                                "fields": [
                                    {
                                        "name": "orderid"
                                    },
                                    {
                                        "name": "orderdate"
                                    },
                                    {
                                        "name": "empid"
                                    },
                                    {
                                        "name": "customerId"
                                    }
                                ]
                            },
                            "data": [
                                {
                                    "0": "10003",
                                    "1": "20160213",
                                    "2": "4",
                                    "3": "B"
                                },
                                {
                                    "0": "10004",
                                    "1": "20160214",
                                    "2": "1",
                                    "3": "A"
                                },
                                {
                                    "0": "10005",
                                    "1": "20160213",
                                    "2": "1",
                                    "3": "C"
                                },
                                {
                                    "0": "10006",
                                    "1": "20160215",
                                    "2": "3",
                                    "3": "C"
                                }
                            ]
                        },
                        "text/html": [
                            "<table>",
                            "<tr><th>orderid</th><th>orderdate</th><th>empid</th><th>customerId</th></tr>",
                            "<tr><td>10003</td><td>20160213</td><td>4</td><td>B</td></tr>",
                            "<tr><td>10004</td><td>20160214</td><td>1</td><td>A</td></tr>",
                            "<tr><td>10005</td><td>20160213</td><td>1</td><td>C</td></tr>",
                            "<tr><td>10006</td><td>20160215</td><td>3</td><td>C</td></tr>",
                            "</table>"
                        ]
                    }
                }
            ],
            "execution_count": 44
        },
        {
            "cell_type": "markdown",
            "source": [
                "**INSERT SELECT** \n",
                "\n",
                "Inserts a set of rows returned by a SELECT query into a target table."
            ],
            "metadata": {
                "language": "sql",
                "azdata_cell_guid": "d003998d-639e-4b07-863b-9f08be16c6df"
            },
            "attachments": {}
        },
        {
            "cell_type": "code",
            "source": [
                "use Northwinds2022TSQLV7\r\n",
                "INSERT INTO dbo.Orders (orderid, orderdate, empid, custid)\r\n",
                "\tSELECT orderid, orderdate, EmployeeId, CustomerId\r\n",
                "\tFROM sales.[ORDER]\r\n",
                "\tWHERE ShipToCountry = N'UK';\r\n",
                "\r\n",
                "--INSERT SELECT is performed as a transaction. If any row fails to entere the target table, none of the rows enteres the table.\r\n",
                "SELECT * FROM dbo.orders"
            ],
            "metadata": {
                "language": "sql",
                "azdata_cell_guid": "4777180a-3b31-447d-817a-28627f6eaabc"
            },
            "outputs": [
                {
                    "output_type": "display_data",
                    "data": {
                        "text/html": "(56 rows affected)"
                    },
                    "metadata": {}
                },
                {
                    "output_type": "display_data",
                    "data": {
                        "text/html": "(62 rows affected)"
                    },
                    "metadata": {}
                },
                {
                    "output_type": "display_data",
                    "data": {
                        "text/html": "Total execution time: 00:00:00.020"
                    },
                    "metadata": {}
                },
                {
                    "output_type": "execute_result",
                    "metadata": {},
                    "execution_count": 45,
                    "data": {
                        "application/vnd.dataresource+json": {
                            "schema": {
                                "fields": [
                                    {
                                        "name": "orderid"
                                    },
                                    {
                                        "name": "orderdate"
                                    },
                                    {
                                        "name": "empid"
                                    },
                                    {
                                        "name": "custid"
                                    }
                                ]
                            },
                            "data": [
                                {
                                    "0": "10001",
                                    "1": "2016-02-12",
                                    "2": "5",
                                    "3": "A"
                                },
                                {
                                    "0": "10002",
                                    "1": "2022-11-02",
                                    "2": "5",
                                    "3": "B"
                                },
                                {
                                    "0": "10003",
                                    "1": "2016-02-13",
                                    "2": "4",
                                    "3": "B"
                                },
                                {
                                    "0": "10004",
                                    "1": "2016-02-14",
                                    "2": "1",
                                    "3": "A"
                                },
                                {
                                    "0": "10005",
                                    "1": "2016-02-13",
                                    "2": "1",
                                    "3": "C"
                                },
                                {
                                    "0": "10006",
                                    "1": "2016-02-15",
                                    "2": "3",
                                    "3": "C"
                                },
                                {
                                    "0": "10289",
                                    "1": "2014-08-26",
                                    "2": "7",
                                    "3": "11"
                                },
                                {
                                    "0": "10315",
                                    "1": "2014-09-26",
                                    "2": "4",
                                    "3": "38"
                                },
                                {
                                    "0": "10318",
                                    "1": "2014-10-01",
                                    "2": "8",
                                    "3": "38"
                                },
                                {
                                    "0": "10321",
                                    "1": "2014-10-03",
                                    "2": "3",
                                    "3": "38"
                                },
                                {
                                    "0": "10355",
                                    "1": "2014-11-15",
                                    "2": "6",
                                    "3": "4"
                                },
                                {
                                    "0": "10359",
                                    "1": "2014-11-21",
                                    "2": "5",
                                    "3": "72"
                                },
                                {
                                    "0": "10364",
                                    "1": "2014-11-26",
                                    "2": "1",
                                    "3": "19"
                                },
                                {
                                    "0": "10377",
                                    "1": "2014-12-09",
                                    "2": "1",
                                    "3": "72"
                                },
                                {
                                    "0": "10383",
                                    "1": "2014-12-16",
                                    "2": "8",
                                    "3": "4"
                                },
                                {
                                    "0": "10388",
                                    "1": "2014-12-19",
                                    "2": "2",
                                    "3": "72"
                                },
                                {
                                    "0": "10400",
                                    "1": "2015-01-01",
                                    "2": "1",
                                    "3": "19"
                                },
                                {
                                    "0": "10435",
                                    "1": "2015-02-04",
                                    "2": "8",
                                    "3": "16"
                                },
                                {
                                    "0": "10453",
                                    "1": "2015-02-21",
                                    "2": "1",
                                    "3": "4"
                                },
                                {
                                    "0": "10462",
                                    "1": "2015-03-03",
                                    "2": "2",
                                    "3": "16"
                                },
                                {
                                    "0": "10471",
                                    "1": "2015-03-11",
                                    "2": "2",
                                    "3": "11"
                                },
                                {
                                    "0": "10472",
                                    "1": "2015-03-12",
                                    "2": "8",
                                    "3": "72"
                                },
                                {
                                    "0": "10473",
                                    "1": "2015-03-13",
                                    "2": "1",
                                    "3": "38"
                                },
                                {
                                    "0": "10484",
                                    "1": "2015-03-24",
                                    "2": "3",
                                    "3": "11"
                                },
                                {
                                    "0": "10517",
                                    "1": "2015-04-24",
                                    "2": "3",
                                    "3": "53"
                                },
                                {
                                    "0": "10523",
                                    "1": "2015-05-01",
                                    "2": "7",
                                    "3": "72"
                                },
                                {
                                    "0": "10532",
                                    "1": "2015-05-09",
                                    "2": "7",
                                    "3": "19"
                                },
                                {
                                    "0": "10538",
                                    "1": "2015-05-15",
                                    "2": "9",
                                    "3": "11"
                                },
                                {
                                    "0": "10539",
                                    "1": "2015-05-16",
                                    "2": "6",
                                    "3": "11"
                                },
                                {
                                    "0": "10547",
                                    "1": "2015-05-23",
                                    "2": "3",
                                    "3": "72"
                                },
                                {
                                    "0": "10558",
                                    "1": "2015-06-04",
                                    "2": "1",
                                    "3": "4"
                                },
                                {
                                    "0": "10578",
                                    "1": "2015-06-24",
                                    "2": "4",
                                    "3": "11"
                                },
                                {
                                    "0": "10599",
                                    "1": "2015-07-15",
                                    "2": "6",
                                    "3": "11"
                                },
                                {
                                    "0": "10621",
                                    "1": "2015-08-05",
                                    "2": "4",
                                    "3": "38"
                                },
                                {
                                    "0": "10674",
                                    "1": "2015-09-18",
                                    "2": "4",
                                    "3": "38"
                                },
                                {
                                    "0": "10707",
                                    "1": "2015-10-16",
                                    "2": "4",
                                    "3": "4"
                                },
                                {
                                    "0": "10726",
                                    "1": "2015-11-03",
                                    "2": "4",
                                    "3": "19"
                                },
                                {
                                    "0": "10741",
                                    "1": "2015-11-14",
                                    "2": "4",
                                    "3": "4"
                                },
                                {
                                    "0": "10743",
                                    "1": "2015-11-17",
                                    "2": "1",
                                    "3": "4"
                                },
                                {
                                    "0": "10749",
                                    "1": "2015-11-20",
                                    "2": "4",
                                    "3": "38"
                                },
                                {
                                    "0": "10752",
                                    "1": "2015-11-24",
                                    "2": "2",
                                    "3": "53"
                                },
                                {
                                    "0": "10768",
                                    "1": "2015-12-08",
                                    "2": "3",
                                    "3": "4"
                                },
                                {
                                    "0": "10793",
                                    "1": "2015-12-24",
                                    "2": "3",
                                    "3": "4"
                                },
                                {
                                    "0": "10798",
                                    "1": "2015-12-26",
                                    "2": "2",
                                    "3": "38"
                                },
                                {
                                    "0": "10800",
                                    "1": "2015-12-26",
                                    "2": "1",
                                    "3": "72"
                                },
                                {
                                    "0": "10804",
                                    "1": "2015-12-30",
                                    "2": "6",
                                    "3": "72"
                                },
                                {
                                    "0": "10829",
                                    "1": "2016-01-13",
                                    "2": "9",
                                    "3": "38"
                                },
                                {
                                    "0": "10848",
                                    "1": "2016-01-23",
                                    "2": "7",
                                    "3": "16"
                                },
                                {
                                    "0": "10864",
                                    "1": "2016-02-02",
                                    "2": "4",
                                    "3": "4"
                                },
                                {
                                    "0": "10869",
                                    "1": "2016-02-04",
                                    "2": "5",
                                    "3": "72"
                                },
                                {
                                    "0": "10920",
                                    "1": "2016-03-03",
                                    "2": "4",
                                    "3": "4"
                                },
                                {
                                    "0": "10933",
                                    "1": "2016-03-06",
                                    "2": "6",
                                    "3": "38"
                                },
                                {
                                    "0": "10943",
                                    "1": "2016-03-11",
                                    "2": "4",
                                    "3": "11"
                                },
                                {
                                    "0": "10947",
                                    "1": "2016-03-13",
                                    "2": "3",
                                    "3": "11"
                                },
                                {
                                    "0": "10953",
                                    "1": "2016-03-16",
                                    "2": "9",
                                    "3": "4"
                                },
                                {
                                    "0": "10987",
                                    "1": "2016-03-31",
                                    "2": "8",
                                    "3": "19"
                                },
                                {
                                    "0": "11016",
                                    "1": "2016-04-10",
                                    "2": "9",
                                    "3": "4"
                                },
                                {
                                    "0": "11023",
                                    "1": "2016-04-14",
                                    "2": "1",
                                    "3": "11"
                                },
                                {
                                    "0": "11024",
                                    "1": "2016-04-15",
                                    "2": "4",
                                    "3": "19"
                                },
                                {
                                    "0": "11047",
                                    "1": "2016-04-24",
                                    "2": "7",
                                    "3": "19"
                                },
                                {
                                    "0": "11056",
                                    "1": "2016-04-28",
                                    "2": "8",
                                    "3": "19"
                                },
                                {
                                    "0": "11057",
                                    "1": "2016-04-29",
                                    "2": "3",
                                    "3": "53"
                                }
                            ]
                        },
                        "text/html": [
                            "<table>",
                            "<tr><th>orderid</th><th>orderdate</th><th>empid</th><th>custid</th></tr>",
                            "<tr><td>10001</td><td>2016-02-12</td><td>5</td><td>A</td></tr>",
                            "<tr><td>10002</td><td>2022-11-02</td><td>5</td><td>B</td></tr>",
                            "<tr><td>10003</td><td>2016-02-13</td><td>4</td><td>B</td></tr>",
                            "<tr><td>10004</td><td>2016-02-14</td><td>1</td><td>A</td></tr>",
                            "<tr><td>10005</td><td>2016-02-13</td><td>1</td><td>C</td></tr>",
                            "<tr><td>10006</td><td>2016-02-15</td><td>3</td><td>C</td></tr>",
                            "<tr><td>10289</td><td>2014-08-26</td><td>7</td><td>11</td></tr>",
                            "<tr><td>10315</td><td>2014-09-26</td><td>4</td><td>38</td></tr>",
                            "<tr><td>10318</td><td>2014-10-01</td><td>8</td><td>38</td></tr>",
                            "<tr><td>10321</td><td>2014-10-03</td><td>3</td><td>38</td></tr>",
                            "<tr><td>10355</td><td>2014-11-15</td><td>6</td><td>4</td></tr>",
                            "<tr><td>10359</td><td>2014-11-21</td><td>5</td><td>72</td></tr>",
                            "<tr><td>10364</td><td>2014-11-26</td><td>1</td><td>19</td></tr>",
                            "<tr><td>10377</td><td>2014-12-09</td><td>1</td><td>72</td></tr>",
                            "<tr><td>10383</td><td>2014-12-16</td><td>8</td><td>4</td></tr>",
                            "<tr><td>10388</td><td>2014-12-19</td><td>2</td><td>72</td></tr>",
                            "<tr><td>10400</td><td>2015-01-01</td><td>1</td><td>19</td></tr>",
                            "<tr><td>10435</td><td>2015-02-04</td><td>8</td><td>16</td></tr>",
                            "<tr><td>10453</td><td>2015-02-21</td><td>1</td><td>4</td></tr>",
                            "<tr><td>10462</td><td>2015-03-03</td><td>2</td><td>16</td></tr>",
                            "<tr><td>10471</td><td>2015-03-11</td><td>2</td><td>11</td></tr>",
                            "<tr><td>10472</td><td>2015-03-12</td><td>8</td><td>72</td></tr>",
                            "<tr><td>10473</td><td>2015-03-13</td><td>1</td><td>38</td></tr>",
                            "<tr><td>10484</td><td>2015-03-24</td><td>3</td><td>11</td></tr>",
                            "<tr><td>10517</td><td>2015-04-24</td><td>3</td><td>53</td></tr>",
                            "<tr><td>10523</td><td>2015-05-01</td><td>7</td><td>72</td></tr>",
                            "<tr><td>10532</td><td>2015-05-09</td><td>7</td><td>19</td></tr>",
                            "<tr><td>10538</td><td>2015-05-15</td><td>9</td><td>11</td></tr>",
                            "<tr><td>10539</td><td>2015-05-16</td><td>6</td><td>11</td></tr>",
                            "<tr><td>10547</td><td>2015-05-23</td><td>3</td><td>72</td></tr>",
                            "<tr><td>10558</td><td>2015-06-04</td><td>1</td><td>4</td></tr>",
                            "<tr><td>10578</td><td>2015-06-24</td><td>4</td><td>11</td></tr>",
                            "<tr><td>10599</td><td>2015-07-15</td><td>6</td><td>11</td></tr>",
                            "<tr><td>10621</td><td>2015-08-05</td><td>4</td><td>38</td></tr>",
                            "<tr><td>10674</td><td>2015-09-18</td><td>4</td><td>38</td></tr>",
                            "<tr><td>10707</td><td>2015-10-16</td><td>4</td><td>4</td></tr>",
                            "<tr><td>10726</td><td>2015-11-03</td><td>4</td><td>19</td></tr>",
                            "<tr><td>10741</td><td>2015-11-14</td><td>4</td><td>4</td></tr>",
                            "<tr><td>10743</td><td>2015-11-17</td><td>1</td><td>4</td></tr>",
                            "<tr><td>10749</td><td>2015-11-20</td><td>4</td><td>38</td></tr>",
                            "<tr><td>10752</td><td>2015-11-24</td><td>2</td><td>53</td></tr>",
                            "<tr><td>10768</td><td>2015-12-08</td><td>3</td><td>4</td></tr>",
                            "<tr><td>10793</td><td>2015-12-24</td><td>3</td><td>4</td></tr>",
                            "<tr><td>10798</td><td>2015-12-26</td><td>2</td><td>38</td></tr>",
                            "<tr><td>10800</td><td>2015-12-26</td><td>1</td><td>72</td></tr>",
                            "<tr><td>10804</td><td>2015-12-30</td><td>6</td><td>72</td></tr>",
                            "<tr><td>10829</td><td>2016-01-13</td><td>9</td><td>38</td></tr>",
                            "<tr><td>10848</td><td>2016-01-23</td><td>7</td><td>16</td></tr>",
                            "<tr><td>10864</td><td>2016-02-02</td><td>4</td><td>4</td></tr>",
                            "<tr><td>10869</td><td>2016-02-04</td><td>5</td><td>72</td></tr>",
                            "<tr><td>10920</td><td>2016-03-03</td><td>4</td><td>4</td></tr>",
                            "<tr><td>10933</td><td>2016-03-06</td><td>6</td><td>38</td></tr>",
                            "<tr><td>10943</td><td>2016-03-11</td><td>4</td><td>11</td></tr>",
                            "<tr><td>10947</td><td>2016-03-13</td><td>3</td><td>11</td></tr>",
                            "<tr><td>10953</td><td>2016-03-16</td><td>9</td><td>4</td></tr>",
                            "<tr><td>10987</td><td>2016-03-31</td><td>8</td><td>19</td></tr>",
                            "<tr><td>11016</td><td>2016-04-10</td><td>9</td><td>4</td></tr>",
                            "<tr><td>11023</td><td>2016-04-14</td><td>1</td><td>11</td></tr>",
                            "<tr><td>11024</td><td>2016-04-15</td><td>4</td><td>19</td></tr>",
                            "<tr><td>11047</td><td>2016-04-24</td><td>7</td><td>19</td></tr>",
                            "<tr><td>11056</td><td>2016-04-28</td><td>8</td><td>19</td></tr>",
                            "<tr><td>11057</td><td>2016-04-29</td><td>3</td><td>53</td></tr>",
                            "</table>"
                        ]
                    }
                }
            ],
            "execution_count": 45
        },
        {
            "cell_type": "markdown",
            "source": [
                "INSERT EXEC\n",
                "\n",
                "You use this to insert a result set returned from a stored prcedure or a dynamic SQL batch into a target table. Stored procedure is a group of saved SQL statements. It is different from View in that View acts like a table while stored procedure can do multiple statements like insert, delete, etc."
            ],
            "metadata": {
                "language": "sql",
                "azdata_cell_guid": "7c820b46-b134-4617-92bb-08ff8675a046"
            },
            "attachments": {}
        },
        {
            "cell_type": "code",
            "source": [
                "use Northwinds2022TSQLV7\r\n",
                "DROP PROC IF EXISTS SALES.GetOrders;\r\n",
                "GO\r\n",
                "\r\n",
                "CREATE PROC SALES.GetOrders\r\n",
                "\t@country AS NVARCHAR (40)\r\n",
                "\r\n",
                "AS \r\n",
                "\r\n",
                "\tSELECT OrderId, OrderDate, EmployeeId, CustomerId\r\n",
                "\tFROM sales.[Order]\r\n",
                "\tWHERE ShipToCountry = @country;\r\n",
                "\r\n",
                "GO \r\n",
                "\r\n",
                "EXEC sales.GetOrders @country = N'France' -- nvarchar(40)\r\n",
                "\r\n",
                "INSERT INTO dbo.Orders (orderId, orderdate, empid, custid)\r\n",
                "\tEXEC sales.GetOrders @country = N'France' -- nvarchar(40)"
            ],
            "metadata": {
                "language": "sql",
                "azdata_cell_guid": "a4020d5e-9c71-401a-bc0d-a84ad1232af1"
            },
            "outputs": [
                {
                    "output_type": "display_data",
                    "data": {
                        "text/html": "Commands completed successfully."
                    },
                    "metadata": {}
                },
                {
                    "output_type": "display_data",
                    "data": {
                        "text/html": "Commands completed successfully."
                    },
                    "metadata": {}
                },
                {
                    "output_type": "display_data",
                    "data": {
                        "text/html": "(77 rows affected)"
                    },
                    "metadata": {}
                },
                {
                    "output_type": "display_data",
                    "data": {
                        "text/html": "(77 rows affected)"
                    },
                    "metadata": {}
                },
                {
                    "output_type": "display_data",
                    "data": {
                        "text/html": "Total execution time: 00:00:00.076"
                    },
                    "metadata": {}
                },
                {
                    "output_type": "execute_result",
                    "metadata": {},
                    "execution_count": 46,
                    "data": {
                        "application/vnd.dataresource+json": {
                            "schema": {
                                "fields": [
                                    {
                                        "name": "OrderId"
                                    },
                                    {
                                        "name": "OrderDate"
                                    },
                                    {
                                        "name": "EmployeeId"
                                    },
                                    {
                                        "name": "CustomerId"
                                    }
                                ]
                            },
                            "data": [
                                {
                                    "0": "10248",
                                    "1": "2014-07-04",
                                    "2": "5",
                                    "3": "85"
                                },
                                {
                                    "0": "10251",
                                    "1": "2014-07-08",
                                    "2": "3",
                                    "3": "84"
                                },
                                {
                                    "0": "10265",
                                    "1": "2014-07-25",
                                    "2": "2",
                                    "3": "7"
                                },
                                {
                                    "0": "10274",
                                    "1": "2014-08-06",
                                    "2": "6",
                                    "3": "85"
                                },
                                {
                                    "0": "10295",
                                    "1": "2014-09-02",
                                    "2": "2",
                                    "3": "85"
                                },
                                {
                                    "0": "10297",
                                    "1": "2014-09-04",
                                    "2": "5",
                                    "3": "7"
                                },
                                {
                                    "0": "10311",
                                    "1": "2014-09-20",
                                    "2": "1",
                                    "3": "18"
                                },
                                {
                                    "0": "10331",
                                    "1": "2014-10-16",
                                    "2": "9",
                                    "3": "9"
                                },
                                {
                                    "0": "10334",
                                    "1": "2014-10-21",
                                    "2": "8",
                                    "3": "84"
                                },
                                {
                                    "0": "10340",
                                    "1": "2014-10-29",
                                    "2": "1",
                                    "3": "9"
                                },
                                {
                                    "0": "10350",
                                    "1": "2014-11-11",
                                    "2": "6",
                                    "3": "41"
                                },
                                {
                                    "0": "10358",
                                    "1": "2014-11-20",
                                    "2": "5",
                                    "3": "41"
                                },
                                {
                                    "0": "10360",
                                    "1": "2014-11-22",
                                    "2": "4",
                                    "3": "7"
                                },
                                {
                                    "0": "10362",
                                    "1": "2014-11-25",
                                    "2": "3",
                                    "3": "9"
                                },
                                {
                                    "0": "10371",
                                    "1": "2014-12-03",
                                    "2": "1",
                                    "3": "41"
                                },
                                {
                                    "0": "10408",
                                    "1": "2015-01-08",
                                    "2": "8",
                                    "3": "23"
                                },
                                {
                                    "0": "10413",
                                    "1": "2015-01-14",
                                    "2": "3",
                                    "3": "41"
                                },
                                {
                                    "0": "10425",
                                    "1": "2015-01-24",
                                    "2": "6",
                                    "3": "41"
                                },
                                {
                                    "0": "10436",
                                    "1": "2015-02-05",
                                    "2": "3",
                                    "3": "7"
                                },
                                {
                                    "0": "10449",
                                    "1": "2015-02-18",
                                    "2": "3",
                                    "3": "7"
                                },
                                {
                                    "0": "10450",
                                    "1": "2015-02-19",
                                    "2": "8",
                                    "3": "84"
                                },
                                {
                                    "0": "10454",
                                    "1": "2015-02-21",
                                    "2": "4",
                                    "3": "41"
                                },
                                {
                                    "0": "10459",
                                    "1": "2015-02-27",
                                    "2": "4",
                                    "3": "84"
                                },
                                {
                                    "0": "10470",
                                    "1": "2015-03-11",
                                    "2": "4",
                                    "3": "9"
                                },
                                {
                                    "0": "10478",
                                    "1": "2015-03-18",
                                    "2": "2",
                                    "3": "84"
                                },
                                {
                                    "0": "10480",
                                    "1": "2015-03-20",
                                    "2": "6",
                                    "3": "23"
                                },
                                {
                                    "0": "10493",
                                    "1": "2015-04-02",
                                    "2": "4",
                                    "3": "41"
                                },
                                {
                                    "0": "10500",
                                    "1": "2015-04-09",
                                    "2": "6",
                                    "3": "41"
                                },
                                {
                                    "0": "10511",
                                    "1": "2015-04-18",
                                    "2": "4",
                                    "3": "9"
                                },
                                {
                                    "0": "10525",
                                    "1": "2015-05-02",
                                    "2": "1",
                                    "3": "9"
                                },
                                {
                                    "0": "10546",
                                    "1": "2015-05-23",
                                    "2": "1",
                                    "3": "84"
                                },
                                {
                                    "0": "10559",
                                    "1": "2015-06-05",
                                    "2": "6",
                                    "3": "7"
                                },
                                {
                                    "0": "10566",
                                    "1": "2015-06-12",
                                    "2": "9",
                                    "3": "7"
                                },
                                {
                                    "0": "10584",
                                    "1": "2015-06-30",
                                    "2": "4",
                                    "3": "7"
                                },
                                {
                                    "0": "10609",
                                    "1": "2015-07-24",
                                    "2": "7",
                                    "3": "18"
                                },
                                {
                                    "0": "10610",
                                    "1": "2015-07-25",
                                    "2": "8",
                                    "3": "41"
                                },
                                {
                                    "0": "10628",
                                    "1": "2015-08-12",
                                    "2": "4",
                                    "3": "7"
                                },
                                {
                                    "0": "10631",
                                    "1": "2015-08-14",
                                    "2": "8",
                                    "3": "41"
                                },
                                {
                                    "0": "10634",
                                    "1": "2015-08-15",
                                    "2": "4",
                                    "3": "23"
                                },
                                {
                                    "0": "10663",
                                    "1": "2015-09-10",
                                    "2": "2",
                                    "3": "9"
                                },
                                {
                                    "0": "10671",
                                    "1": "2015-09-17",
                                    "2": "1",
                                    "3": "26"
                                },
                                {
                                    "0": "10679",
                                    "1": "2015-09-23",
                                    "2": "8",
                                    "3": "7"
                                },
                                {
                                    "0": "10683",
                                    "1": "2015-09-26",
                                    "2": "2",
                                    "3": "18"
                                },
                                {
                                    "0": "10715",
                                    "1": "2015-10-23",
                                    "2": "3",
                                    "3": "9"
                                },
                                {
                                    "0": "10730",
                                    "1": "2015-11-05",
                                    "2": "5",
                                    "3": "9"
                                },
                                {
                                    "0": "10732",
                                    "1": "2015-11-06",
                                    "2": "3",
                                    "3": "9"
                                },
                                {
                                    "0": "10737",
                                    "1": "2015-11-11",
                                    "2": "2",
                                    "3": "85"
                                },
                                {
                                    "0": "10738",
                                    "1": "2015-11-12",
                                    "2": "2",
                                    "3": "74"
                                },
                                {
                                    "0": "10739",
                                    "1": "2015-11-12",
                                    "2": "3",
                                    "3": "85"
                                },
                                {
                                    "0": "10755",
                                    "1": "2015-11-26",
                                    "2": "4",
                                    "3": "9"
                                },
                                {
                                    "0": "10763",
                                    "1": "2015-12-03",
                                    "2": "3",
                                    "3": "23"
                                },
                                {
                                    "0": "10787",
                                    "1": "2015-12-19",
                                    "2": "2",
                                    "3": "41"
                                },
                                {
                                    "0": "10789",
                                    "1": "2015-12-22",
                                    "2": "1",
                                    "3": "23"
                                },
                                {
                                    "0": "10806",
                                    "1": "2015-12-31",
                                    "2": "3",
                                    "3": "84"
                                },
                                {
                                    "0": "10814",
                                    "1": "2016-01-05",
                                    "2": "3",
                                    "3": "84"
                                },
                                {
                                    "0": "10826",
                                    "1": "2016-01-12",
                                    "2": "6",
                                    "3": "7"
                                },
                                {
                                    "0": "10827",
                                    "1": "2016-01-12",
                                    "2": "1",
                                    "3": "9"
                                },
                                {
                                    "0": "10832",
                                    "1": "2016-01-14",
                                    "2": "2",
                                    "3": "41"
                                },
                                {
                                    "0": "10843",
                                    "1": "2016-01-21",
                                    "2": "4",
                                    "3": "84"
                                },
                                {
                                    "0": "10850",
                                    "1": "2016-01-23",
                                    "2": "1",
                                    "3": "84"
                                },
                                {
                                    "0": "10858",
                                    "1": "2016-01-29",
                                    "2": "2",
                                    "3": "40"
                                },
                                {
                                    "0": "10860",
                                    "1": "2016-01-29",
                                    "2": "3",
                                    "3": "26"
                                },
                                {
                                    "0": "10871",
                                    "1": "2016-02-05",
                                    "2": "9",
                                    "3": "9"
                                },
                                {
                                    "0": "10876",
                                    "1": "2016-02-09",
                                    "2": "7",
                                    "3": "9"
                                },
                                {
                                    "0": "10890",
                                    "1": "2016-02-16",
                                    "2": "7",
                                    "3": "18"
                                },
                                {
                                    "0": "10907",
                                    "1": "2016-02-25",
                                    "2": "6",
                                    "3": "74"
                                },
                                {
                                    "0": "10923",
                                    "1": "2016-03-03",
                                    "2": "7",
                                    "3": "41"
                                },
                                {
                                    "0": "10927",
                                    "1": "2016-03-05",
                                    "2": "4",
                                    "3": "40"
                                },
                                {
                                    "0": "10932",
                                    "1": "2016-03-06",
                                    "2": "8",
                                    "3": "9"
                                },
                                {
                                    "0": "10940",
                                    "1": "2016-03-11",
                                    "2": "8",
                                    "3": "9"
                                },
                                {
                                    "0": "10964",
                                    "1": "2016-03-20",
                                    "2": "3",
                                    "3": "74"
                                },
                                {
                                    "0": "10971",
                                    "1": "2016-03-24",
                                    "2": "2",
                                    "3": "26"
                                },
                                {
                                    "0": "10972",
                                    "1": "2016-03-24",
                                    "2": "4",
                                    "3": "40"
                                },
                                {
                                    "0": "10973",
                                    "1": "2016-03-24",
                                    "2": "6",
                                    "3": "40"
                                },
                                {
                                    "0": "11043",
                                    "1": "2016-04-22",
                                    "2": "5",
                                    "3": "74"
                                },
                                {
                                    "0": "11051",
                                    "1": "2016-04-27",
                                    "2": "7",
                                    "3": "41"
                                },
                                {
                                    "0": "11076",
                                    "1": "2016-05-06",
                                    "2": "4",
                                    "3": "9"
                                }
                            ]
                        },
                        "text/html": [
                            "<table>",
                            "<tr><th>OrderId</th><th>OrderDate</th><th>EmployeeId</th><th>CustomerId</th></tr>",
                            "<tr><td>10248</td><td>2014-07-04</td><td>5</td><td>85</td></tr>",
                            "<tr><td>10251</td><td>2014-07-08</td><td>3</td><td>84</td></tr>",
                            "<tr><td>10265</td><td>2014-07-25</td><td>2</td><td>7</td></tr>",
                            "<tr><td>10274</td><td>2014-08-06</td><td>6</td><td>85</td></tr>",
                            "<tr><td>10295</td><td>2014-09-02</td><td>2</td><td>85</td></tr>",
                            "<tr><td>10297</td><td>2014-09-04</td><td>5</td><td>7</td></tr>",
                            "<tr><td>10311</td><td>2014-09-20</td><td>1</td><td>18</td></tr>",
                            "<tr><td>10331</td><td>2014-10-16</td><td>9</td><td>9</td></tr>",
                            "<tr><td>10334</td><td>2014-10-21</td><td>8</td><td>84</td></tr>",
                            "<tr><td>10340</td><td>2014-10-29</td><td>1</td><td>9</td></tr>",
                            "<tr><td>10350</td><td>2014-11-11</td><td>6</td><td>41</td></tr>",
                            "<tr><td>10358</td><td>2014-11-20</td><td>5</td><td>41</td></tr>",
                            "<tr><td>10360</td><td>2014-11-22</td><td>4</td><td>7</td></tr>",
                            "<tr><td>10362</td><td>2014-11-25</td><td>3</td><td>9</td></tr>",
                            "<tr><td>10371</td><td>2014-12-03</td><td>1</td><td>41</td></tr>",
                            "<tr><td>10408</td><td>2015-01-08</td><td>8</td><td>23</td></tr>",
                            "<tr><td>10413</td><td>2015-01-14</td><td>3</td><td>41</td></tr>",
                            "<tr><td>10425</td><td>2015-01-24</td><td>6</td><td>41</td></tr>",
                            "<tr><td>10436</td><td>2015-02-05</td><td>3</td><td>7</td></tr>",
                            "<tr><td>10449</td><td>2015-02-18</td><td>3</td><td>7</td></tr>",
                            "<tr><td>10450</td><td>2015-02-19</td><td>8</td><td>84</td></tr>",
                            "<tr><td>10454</td><td>2015-02-21</td><td>4</td><td>41</td></tr>",
                            "<tr><td>10459</td><td>2015-02-27</td><td>4</td><td>84</td></tr>",
                            "<tr><td>10470</td><td>2015-03-11</td><td>4</td><td>9</td></tr>",
                            "<tr><td>10478</td><td>2015-03-18</td><td>2</td><td>84</td></tr>",
                            "<tr><td>10480</td><td>2015-03-20</td><td>6</td><td>23</td></tr>",
                            "<tr><td>10493</td><td>2015-04-02</td><td>4</td><td>41</td></tr>",
                            "<tr><td>10500</td><td>2015-04-09</td><td>6</td><td>41</td></tr>",
                            "<tr><td>10511</td><td>2015-04-18</td><td>4</td><td>9</td></tr>",
                            "<tr><td>10525</td><td>2015-05-02</td><td>1</td><td>9</td></tr>",
                            "<tr><td>10546</td><td>2015-05-23</td><td>1</td><td>84</td></tr>",
                            "<tr><td>10559</td><td>2015-06-05</td><td>6</td><td>7</td></tr>",
                            "<tr><td>10566</td><td>2015-06-12</td><td>9</td><td>7</td></tr>",
                            "<tr><td>10584</td><td>2015-06-30</td><td>4</td><td>7</td></tr>",
                            "<tr><td>10609</td><td>2015-07-24</td><td>7</td><td>18</td></tr>",
                            "<tr><td>10610</td><td>2015-07-25</td><td>8</td><td>41</td></tr>",
                            "<tr><td>10628</td><td>2015-08-12</td><td>4</td><td>7</td></tr>",
                            "<tr><td>10631</td><td>2015-08-14</td><td>8</td><td>41</td></tr>",
                            "<tr><td>10634</td><td>2015-08-15</td><td>4</td><td>23</td></tr>",
                            "<tr><td>10663</td><td>2015-09-10</td><td>2</td><td>9</td></tr>",
                            "<tr><td>10671</td><td>2015-09-17</td><td>1</td><td>26</td></tr>",
                            "<tr><td>10679</td><td>2015-09-23</td><td>8</td><td>7</td></tr>",
                            "<tr><td>10683</td><td>2015-09-26</td><td>2</td><td>18</td></tr>",
                            "<tr><td>10715</td><td>2015-10-23</td><td>3</td><td>9</td></tr>",
                            "<tr><td>10730</td><td>2015-11-05</td><td>5</td><td>9</td></tr>",
                            "<tr><td>10732</td><td>2015-11-06</td><td>3</td><td>9</td></tr>",
                            "<tr><td>10737</td><td>2015-11-11</td><td>2</td><td>85</td></tr>",
                            "<tr><td>10738</td><td>2015-11-12</td><td>2</td><td>74</td></tr>",
                            "<tr><td>10739</td><td>2015-11-12</td><td>3</td><td>85</td></tr>",
                            "<tr><td>10755</td><td>2015-11-26</td><td>4</td><td>9</td></tr>",
                            "<tr><td>10763</td><td>2015-12-03</td><td>3</td><td>23</td></tr>",
                            "<tr><td>10787</td><td>2015-12-19</td><td>2</td><td>41</td></tr>",
                            "<tr><td>10789</td><td>2015-12-22</td><td>1</td><td>23</td></tr>",
                            "<tr><td>10806</td><td>2015-12-31</td><td>3</td><td>84</td></tr>",
                            "<tr><td>10814</td><td>2016-01-05</td><td>3</td><td>84</td></tr>",
                            "<tr><td>10826</td><td>2016-01-12</td><td>6</td><td>7</td></tr>",
                            "<tr><td>10827</td><td>2016-01-12</td><td>1</td><td>9</td></tr>",
                            "<tr><td>10832</td><td>2016-01-14</td><td>2</td><td>41</td></tr>",
                            "<tr><td>10843</td><td>2016-01-21</td><td>4</td><td>84</td></tr>",
                            "<tr><td>10850</td><td>2016-01-23</td><td>1</td><td>84</td></tr>",
                            "<tr><td>10858</td><td>2016-01-29</td><td>2</td><td>40</td></tr>",
                            "<tr><td>10860</td><td>2016-01-29</td><td>3</td><td>26</td></tr>",
                            "<tr><td>10871</td><td>2016-02-05</td><td>9</td><td>9</td></tr>",
                            "<tr><td>10876</td><td>2016-02-09</td><td>7</td><td>9</td></tr>",
                            "<tr><td>10890</td><td>2016-02-16</td><td>7</td><td>18</td></tr>",
                            "<tr><td>10907</td><td>2016-02-25</td><td>6</td><td>74</td></tr>",
                            "<tr><td>10923</td><td>2016-03-03</td><td>7</td><td>41</td></tr>",
                            "<tr><td>10927</td><td>2016-03-05</td><td>4</td><td>40</td></tr>",
                            "<tr><td>10932</td><td>2016-03-06</td><td>8</td><td>9</td></tr>",
                            "<tr><td>10940</td><td>2016-03-11</td><td>8</td><td>9</td></tr>",
                            "<tr><td>10964</td><td>2016-03-20</td><td>3</td><td>74</td></tr>",
                            "<tr><td>10971</td><td>2016-03-24</td><td>2</td><td>26</td></tr>",
                            "<tr><td>10972</td><td>2016-03-24</td><td>4</td><td>40</td></tr>",
                            "<tr><td>10973</td><td>2016-03-24</td><td>6</td><td>40</td></tr>",
                            "<tr><td>11043</td><td>2016-04-22</td><td>5</td><td>74</td></tr>",
                            "<tr><td>11051</td><td>2016-04-27</td><td>7</td><td>41</td></tr>",
                            "<tr><td>11076</td><td>2016-05-06</td><td>4</td><td>9</td></tr>",
                            "</table>"
                        ]
                    }
                }
            ],
            "execution_count": 46
        },
        {
            "cell_type": "markdown",
            "source": [
                "**SELECT INTO**\n",
                "Copies the entire table data into a target table. It is a nonstandard T-SQL statement. It copies from the source table column names, types, nullability, identity property and the data. It does not copy constraints, indexes, triggers, column properties such as SPARSE and FILESTREAM, and permissions. It is efficient because it uses minimal logging."
            ],
            "metadata": {
                "language": "sql",
                "azdata_cell_guid": "a9a3f956-c3e1-4dd0-a846-9dd86fa24b5d"
            },
            "attachments": {}
        },
        {
            "cell_type": "code",
            "source": [
                "use Northwinds2022TSQLV7\r\n",
                "DROP TABLE IF EXISTS dbo.Locations;\r\n",
                "\r\n",
                "SELECT c.CustomerCountry, c.CustomerRegion, c.CustomerCity \r\n",
                "INTO dbo.Locations --it creates a brand new table without the CREATE clause\r\n",
                "FROM sales.Customer AS c\r\n",
                "\r\n",
                "select * from dbo.Locations;\r\n",
                "--If you want to use SELECT INTO with SET OPERATORS, you specifiy the INTO clause right in front of the FROM caluse of the FIRST query.\r\n",
                "\r\n",
                "DROP TABLE IF EXISTS dbo.locations;\r\n",
                "\r\n",
                "SELECT Customercountry, Customerregion, CustomerCity\r\n",
                "INTO dbo.Locations\r\n",
                "FROM sales.Customer\r\n",
                "\r\n",
                "EXCEPT\r\n",
                "\r\n",
                "SELECT EmployeeCountry, EmployeeRegion, EmployeeCity\r\n",
                "FROM HumanResources.Employee \r\n",
                "\r\n",
                "select * from dbo.Locations;"
            ],
            "metadata": {
                "language": "sql",
                "azdata_cell_guid": "7ce03baf-e993-4128-b4ed-34e4eeb16085"
            },
            "outputs": [
                {
                    "output_type": "display_data",
                    "data": {
                        "text/html": "(91 rows affected)"
                    },
                    "metadata": {}
                },
                {
                    "output_type": "display_data",
                    "data": {
                        "text/html": "(91 rows affected)"
                    },
                    "metadata": {}
                },
                {
                    "output_type": "display_data",
                    "data": {
                        "text/html": "(66 rows affected)"
                    },
                    "metadata": {}
                },
                {
                    "output_type": "display_data",
                    "data": {
                        "text/html": "(66 rows affected)"
                    },
                    "metadata": {}
                },
                {
                    "output_type": "display_data",
                    "data": {
                        "text/html": "Total execution time: 00:00:00.078"
                    },
                    "metadata": {}
                },
                {
                    "output_type": "execute_result",
                    "metadata": {},
                    "execution_count": 48,
                    "data": {
                        "application/vnd.dataresource+json": {
                            "schema": {
                                "fields": [
                                    {
                                        "name": "CustomerCountry"
                                    },
                                    {
                                        "name": "CustomerRegion"
                                    },
                                    {
                                        "name": "CustomerCity"
                                    }
                                ]
                            },
                            "data": [
                                {
                                    "0": "Germany",
                                    "1": "NULL",
                                    "2": "Berlin"
                                },
                                {
                                    "0": "Mexico",
                                    "1": "NULL",
                                    "2": "México D.F."
                                },
                                {
                                    "0": "Mexico",
                                    "1": "NULL",
                                    "2": "México D.F."
                                },
                                {
                                    "0": "UK",
                                    "1": "NULL",
                                    "2": "London"
                                },
                                {
                                    "0": "Sweden",
                                    "1": "NULL",
                                    "2": "Luleå"
                                },
                                {
                                    "0": "Germany",
                                    "1": "NULL",
                                    "2": "Mannheim"
                                },
                                {
                                    "0": "France",
                                    "1": "NULL",
                                    "2": "Strasbourg"
                                },
                                {
                                    "0": "Spain",
                                    "1": "NULL",
                                    "2": "Madrid"
                                },
                                {
                                    "0": "France",
                                    "1": "NULL",
                                    "2": "Marseille"
                                },
                                {
                                    "0": "Canada",
                                    "1": "BC",
                                    "2": "Tsawassen"
                                },
                                {
                                    "0": "UK",
                                    "1": "NULL",
                                    "2": "London"
                                },
                                {
                                    "0": "Argentina",
                                    "1": "NULL",
                                    "2": "Buenos Aires"
                                },
                                {
                                    "0": "Mexico",
                                    "1": "NULL",
                                    "2": "México D.F."
                                },
                                {
                                    "0": "Switzerland",
                                    "1": "NULL",
                                    "2": "Bern"
                                },
                                {
                                    "0": "Brazil",
                                    "1": "SP",
                                    "2": "Sao Paulo"
                                },
                                {
                                    "0": "UK",
                                    "1": "NULL",
                                    "2": "London"
                                },
                                {
                                    "0": "Germany",
                                    "1": "NULL",
                                    "2": "Aachen"
                                },
                                {
                                    "0": "France",
                                    "1": "NULL",
                                    "2": "Nantes"
                                },
                                {
                                    "0": "UK",
                                    "1": "NULL",
                                    "2": "London"
                                },
                                {
                                    "0": "Austria",
                                    "1": "NULL",
                                    "2": "Graz"
                                },
                                {
                                    "0": "Brazil",
                                    "1": "SP",
                                    "2": "Sao Paulo"
                                },
                                {
                                    "0": "Spain",
                                    "1": "NULL",
                                    "2": "Madrid"
                                },
                                {
                                    "0": "France",
                                    "1": "NULL",
                                    "2": "Lille"
                                },
                                {
                                    "0": "Sweden",
                                    "1": "NULL",
                                    "2": "Bräcke"
                                },
                                {
                                    "0": "Germany",
                                    "1": "NULL",
                                    "2": "München"
                                },
                                {
                                    "0": "France",
                                    "1": "NULL",
                                    "2": "Nantes"
                                },
                                {
                                    "0": "Italy",
                                    "1": "NULL",
                                    "2": "Torino"
                                },
                                {
                                    "0": "Portugal",
                                    "1": "NULL",
                                    "2": "Lisboa"
                                },
                                {
                                    "0": "Spain",
                                    "1": "NULL",
                                    "2": "Barcelona"
                                },
                                {
                                    "0": "Spain",
                                    "1": "NULL",
                                    "2": "Sevilla"
                                },
                                {
                                    "0": "Brazil",
                                    "1": "SP",
                                    "2": "Campinas"
                                },
                                {
                                    "0": "USA",
                                    "1": "OR",
                                    "2": "Eugene"
                                },
                                {
                                    "0": "Venezuela",
                                    "1": "DF",
                                    "2": "Caracas"
                                },
                                {
                                    "0": "Brazil",
                                    "1": "RJ",
                                    "2": "Rio de Janeiro"
                                },
                                {
                                    "0": "Venezuela",
                                    "1": "Táchira",
                                    "2": "San Cristóbal"
                                },
                                {
                                    "0": "USA",
                                    "1": "OR",
                                    "2": "Elgin"
                                },
                                {
                                    "0": "Ireland",
                                    "1": "Co. Cork",
                                    "2": "Cork"
                                },
                                {
                                    "0": "UK",
                                    "1": "Isle of Wight",
                                    "2": "Cowes"
                                },
                                {
                                    "0": "Germany",
                                    "1": "NULL",
                                    "2": "Brandenburg"
                                },
                                {
                                    "0": "France",
                                    "1": "NULL",
                                    "2": "Versailles"
                                },
                                {
                                    "0": "France",
                                    "1": "NULL",
                                    "2": "Toulouse"
                                },
                                {
                                    "0": "Canada",
                                    "1": "BC",
                                    "2": "Vancouver"
                                },
                                {
                                    "0": "USA",
                                    "1": "WA",
                                    "2": "Walla Walla"
                                },
                                {
                                    "0": "Germany",
                                    "1": "NULL",
                                    "2": "Frankfurt a.M."
                                },
                                {
                                    "0": "USA",
                                    "1": "CA",
                                    "2": "San Francisco"
                                },
                                {
                                    "0": "Venezuela",
                                    "1": "Lara",
                                    "2": "Barquisimeto"
                                },
                                {
                                    "0": "Venezuela",
                                    "1": "Nueva Esparta",
                                    "2": "I. de Margarita"
                                },
                                {
                                    "0": "USA",
                                    "1": "OR",
                                    "2": "Portland"
                                },
                                {
                                    "0": "Italy",
                                    "1": "NULL",
                                    "2": "Bergamo"
                                },
                                {
                                    "0": "Belgium",
                                    "1": "NULL",
                                    "2": "Bruxelles"
                                },
                                {
                                    "0": "Canada",
                                    "1": "Québec",
                                    "2": "Montréal"
                                },
                                {
                                    "0": "Germany",
                                    "1": "NULL",
                                    "2": "Leipzig"
                                },
                                {
                                    "0": "UK",
                                    "1": "NULL",
                                    "2": "London"
                                },
                                {
                                    "0": "Argentina",
                                    "1": "NULL",
                                    "2": "Buenos Aires"
                                },
                                {
                                    "0": "USA",
                                    "1": "AK",
                                    "2": "Anchorage"
                                },
                                {
                                    "0": "Germany",
                                    "1": "NULL",
                                    "2": "Köln"
                                },
                                {
                                    "0": "France",
                                    "1": "NULL",
                                    "2": "Paris"
                                },
                                {
                                    "0": "Mexico",
                                    "1": "NULL",
                                    "2": "México D.F."
                                },
                                {
                                    "0": "Austria",
                                    "1": "NULL",
                                    "2": "Salzburg"
                                },
                                {
                                    "0": "Portugal",
                                    "1": "NULL",
                                    "2": "Lisboa"
                                },
                                {
                                    "0": "Brazil",
                                    "1": "RJ",
                                    "2": "Rio de Janeiro"
                                },
                                {
                                    "0": "Brazil",
                                    "1": "SP",
                                    "2": "Sao Paulo"
                                },
                                {
                                    "0": "Germany",
                                    "1": "NULL",
                                    "2": "Cunewalde"
                                },
                                {
                                    "0": "Argentina",
                                    "1": "NULL",
                                    "2": "Buenos Aires"
                                },
                                {
                                    "0": "USA",
                                    "1": "NM",
                                    "2": "Albuquerque"
                                },
                                {
                                    "0": "Italy",
                                    "1": "NULL",
                                    "2": "Reggio Emilia"
                                },
                                {
                                    "0": "Brazil",
                                    "1": "RJ",
                                    "2": "Rio de Janeiro"
                                },
                                {
                                    "0": "Switzerland",
                                    "1": "NULL",
                                    "2": "Genève"
                                },
                                {
                                    "0": "Spain",
                                    "1": "NULL",
                                    "2": "Madrid"
                                },
                                {
                                    "0": "Norway",
                                    "1": "NULL",
                                    "2": "Stavern"
                                },
                                {
                                    "0": "USA",
                                    "1": "ID",
                                    "2": "Boise"
                                },
                                {
                                    "0": "UK",
                                    "1": "NULL",
                                    "2": "London"
                                },
                                {
                                    "0": "Denmark",
                                    "1": "NULL",
                                    "2": "Kobenhavn"
                                },
                                {
                                    "0": "France",
                                    "1": "NULL",
                                    "2": "Paris"
                                },
                                {
                                    "0": "USA",
                                    "1": "WY",
                                    "2": "Lander"
                                },
                                {
                                    "0": "Belgium",
                                    "1": "NULL",
                                    "2": "Charleroi"
                                },
                                {
                                    "0": "USA",
                                    "1": "OR",
                                    "2": "Portland"
                                },
                                {
                                    "0": "USA",
                                    "1": "MT",
                                    "2": "Butte"
                                },
                                {
                                    "0": "Germany",
                                    "1": "NULL",
                                    "2": "Münster"
                                },
                                {
                                    "0": "Mexico",
                                    "1": "NULL",
                                    "2": "México D.F."
                                },
                                {
                                    "0": "Brazil",
                                    "1": "SP",
                                    "2": "Sao Paulo"
                                },
                                {
                                    "0": "USA",
                                    "1": "WA",
                                    "2": "Kirkland"
                                },
                                {
                                    "0": "Denmark",
                                    "1": "NULL",
                                    "2": "Århus"
                                },
                                {
                                    "0": "France",
                                    "1": "NULL",
                                    "2": "Lyon"
                                },
                                {
                                    "0": "France",
                                    "1": "NULL",
                                    "2": "Reims"
                                },
                                {
                                    "0": "Germany",
                                    "1": "NULL",
                                    "2": "Stuttgart"
                                },
                                {
                                    "0": "Finland",
                                    "1": "NULL",
                                    "2": "Oulu"
                                },
                                {
                                    "0": "Brazil",
                                    "1": "SP",
                                    "2": "Resende"
                                },
                                {
                                    "0": "USA",
                                    "1": "WA",
                                    "2": "Seattle"
                                },
                                {
                                    "0": "Finland",
                                    "1": "NULL",
                                    "2": "Helsinki"
                                },
                                {
                                    "0": "Poland",
                                    "1": "NULL",
                                    "2": "Warszawa"
                                }
                            ]
                        },
                        "text/html": [
                            "<table>",
                            "<tr><th>CustomerCountry</th><th>CustomerRegion</th><th>CustomerCity</th></tr>",
                            "<tr><td>Germany</td><td>NULL</td><td>Berlin</td></tr>",
                            "<tr><td>Mexico</td><td>NULL</td><td>México D.F.</td></tr>",
                            "<tr><td>Mexico</td><td>NULL</td><td>México D.F.</td></tr>",
                            "<tr><td>UK</td><td>NULL</td><td>London</td></tr>",
                            "<tr><td>Sweden</td><td>NULL</td><td>Luleå</td></tr>",
                            "<tr><td>Germany</td><td>NULL</td><td>Mannheim</td></tr>",
                            "<tr><td>France</td><td>NULL</td><td>Strasbourg</td></tr>",
                            "<tr><td>Spain</td><td>NULL</td><td>Madrid</td></tr>",
                            "<tr><td>France</td><td>NULL</td><td>Marseille</td></tr>",
                            "<tr><td>Canada</td><td>BC</td><td>Tsawassen</td></tr>",
                            "<tr><td>UK</td><td>NULL</td><td>London</td></tr>",
                            "<tr><td>Argentina</td><td>NULL</td><td>Buenos Aires</td></tr>",
                            "<tr><td>Mexico</td><td>NULL</td><td>México D.F.</td></tr>",
                            "<tr><td>Switzerland</td><td>NULL</td><td>Bern</td></tr>",
                            "<tr><td>Brazil</td><td>SP</td><td>Sao Paulo</td></tr>",
                            "<tr><td>UK</td><td>NULL</td><td>London</td></tr>",
                            "<tr><td>Germany</td><td>NULL</td><td>Aachen</td></tr>",
                            "<tr><td>France</td><td>NULL</td><td>Nantes</td></tr>",
                            "<tr><td>UK</td><td>NULL</td><td>London</td></tr>",
                            "<tr><td>Austria</td><td>NULL</td><td>Graz</td></tr>",
                            "<tr><td>Brazil</td><td>SP</td><td>Sao Paulo</td></tr>",
                            "<tr><td>Spain</td><td>NULL</td><td>Madrid</td></tr>",
                            "<tr><td>France</td><td>NULL</td><td>Lille</td></tr>",
                            "<tr><td>Sweden</td><td>NULL</td><td>Bräcke</td></tr>",
                            "<tr><td>Germany</td><td>NULL</td><td>München</td></tr>",
                            "<tr><td>France</td><td>NULL</td><td>Nantes</td></tr>",
                            "<tr><td>Italy</td><td>NULL</td><td>Torino</td></tr>",
                            "<tr><td>Portugal</td><td>NULL</td><td>Lisboa</td></tr>",
                            "<tr><td>Spain</td><td>NULL</td><td>Barcelona</td></tr>",
                            "<tr><td>Spain</td><td>NULL</td><td>Sevilla</td></tr>",
                            "<tr><td>Brazil</td><td>SP</td><td>Campinas</td></tr>",
                            "<tr><td>USA</td><td>OR</td><td>Eugene</td></tr>",
                            "<tr><td>Venezuela</td><td>DF</td><td>Caracas</td></tr>",
                            "<tr><td>Brazil</td><td>RJ</td><td>Rio de Janeiro</td></tr>",
                            "<tr><td>Venezuela</td><td>Táchira</td><td>San Cristóbal</td></tr>",
                            "<tr><td>USA</td><td>OR</td><td>Elgin</td></tr>",
                            "<tr><td>Ireland</td><td>Co. Cork</td><td>Cork</td></tr>",
                            "<tr><td>UK</td><td>Isle of Wight</td><td>Cowes</td></tr>",
                            "<tr><td>Germany</td><td>NULL</td><td>Brandenburg</td></tr>",
                            "<tr><td>France</td><td>NULL</td><td>Versailles</td></tr>",
                            "<tr><td>France</td><td>NULL</td><td>Toulouse</td></tr>",
                            "<tr><td>Canada</td><td>BC</td><td>Vancouver</td></tr>",
                            "<tr><td>USA</td><td>WA</td><td>Walla Walla</td></tr>",
                            "<tr><td>Germany</td><td>NULL</td><td>Frankfurt a.M.</td></tr>",
                            "<tr><td>USA</td><td>CA</td><td>San Francisco</td></tr>",
                            "<tr><td>Venezuela</td><td>Lara</td><td>Barquisimeto</td></tr>",
                            "<tr><td>Venezuela</td><td>Nueva Esparta</td><td>I. de Margarita</td></tr>",
                            "<tr><td>USA</td><td>OR</td><td>Portland</td></tr>",
                            "<tr><td>Italy</td><td>NULL</td><td>Bergamo</td></tr>",
                            "<tr><td>Belgium</td><td>NULL</td><td>Bruxelles</td></tr>",
                            "<tr><td>Canada</td><td>Québec</td><td>Montréal</td></tr>",
                            "<tr><td>Germany</td><td>NULL</td><td>Leipzig</td></tr>",
                            "<tr><td>UK</td><td>NULL</td><td>London</td></tr>",
                            "<tr><td>Argentina</td><td>NULL</td><td>Buenos Aires</td></tr>",
                            "<tr><td>USA</td><td>AK</td><td>Anchorage</td></tr>",
                            "<tr><td>Germany</td><td>NULL</td><td>Köln</td></tr>",
                            "<tr><td>France</td><td>NULL</td><td>Paris</td></tr>",
                            "<tr><td>Mexico</td><td>NULL</td><td>México D.F.</td></tr>",
                            "<tr><td>Austria</td><td>NULL</td><td>Salzburg</td></tr>",
                            "<tr><td>Portugal</td><td>NULL</td><td>Lisboa</td></tr>",
                            "<tr><td>Brazil</td><td>RJ</td><td>Rio de Janeiro</td></tr>",
                            "<tr><td>Brazil</td><td>SP</td><td>Sao Paulo</td></tr>",
                            "<tr><td>Germany</td><td>NULL</td><td>Cunewalde</td></tr>",
                            "<tr><td>Argentina</td><td>NULL</td><td>Buenos Aires</td></tr>",
                            "<tr><td>USA</td><td>NM</td><td>Albuquerque</td></tr>",
                            "<tr><td>Italy</td><td>NULL</td><td>Reggio Emilia</td></tr>",
                            "<tr><td>Brazil</td><td>RJ</td><td>Rio de Janeiro</td></tr>",
                            "<tr><td>Switzerland</td><td>NULL</td><td>Genève</td></tr>",
                            "<tr><td>Spain</td><td>NULL</td><td>Madrid</td></tr>",
                            "<tr><td>Norway</td><td>NULL</td><td>Stavern</td></tr>",
                            "<tr><td>USA</td><td>ID</td><td>Boise</td></tr>",
                            "<tr><td>UK</td><td>NULL</td><td>London</td></tr>",
                            "<tr><td>Denmark</td><td>NULL</td><td>Kobenhavn</td></tr>",
                            "<tr><td>France</td><td>NULL</td><td>Paris</td></tr>",
                            "<tr><td>USA</td><td>WY</td><td>Lander</td></tr>",
                            "<tr><td>Belgium</td><td>NULL</td><td>Charleroi</td></tr>",
                            "<tr><td>USA</td><td>OR</td><td>Portland</td></tr>",
                            "<tr><td>USA</td><td>MT</td><td>Butte</td></tr>",
                            "<tr><td>Germany</td><td>NULL</td><td>Münster</td></tr>",
                            "<tr><td>Mexico</td><td>NULL</td><td>México D.F.</td></tr>",
                            "<tr><td>Brazil</td><td>SP</td><td>Sao Paulo</td></tr>",
                            "<tr><td>USA</td><td>WA</td><td>Kirkland</td></tr>",
                            "<tr><td>Denmark</td><td>NULL</td><td>Århus</td></tr>",
                            "<tr><td>France</td><td>NULL</td><td>Lyon</td></tr>",
                            "<tr><td>France</td><td>NULL</td><td>Reims</td></tr>",
                            "<tr><td>Germany</td><td>NULL</td><td>Stuttgart</td></tr>",
                            "<tr><td>Finland</td><td>NULL</td><td>Oulu</td></tr>",
                            "<tr><td>Brazil</td><td>SP</td><td>Resende</td></tr>",
                            "<tr><td>USA</td><td>WA</td><td>Seattle</td></tr>",
                            "<tr><td>Finland</td><td>NULL</td><td>Helsinki</td></tr>",
                            "<tr><td>Poland</td><td>NULL</td><td>Warszawa</td></tr>",
                            "</table>"
                        ]
                    }
                },
                {
                    "output_type": "execute_result",
                    "metadata": {},
                    "execution_count": 48,
                    "data": {
                        "application/vnd.dataresource+json": {
                            "schema": {
                                "fields": [
                                    {
                                        "name": "Customercountry"
                                    },
                                    {
                                        "name": "Customerregion"
                                    },
                                    {
                                        "name": "CustomerCity"
                                    }
                                ]
                            },
                            "data": [
                                {
                                    "0": "Argentina",
                                    "1": "NULL",
                                    "2": "Buenos Aires"
                                },
                                {
                                    "0": "Austria",
                                    "1": "NULL",
                                    "2": "Graz"
                                },
                                {
                                    "0": "Austria",
                                    "1": "NULL",
                                    "2": "Salzburg"
                                },
                                {
                                    "0": "Belgium",
                                    "1": "NULL",
                                    "2": "Bruxelles"
                                },
                                {
                                    "0": "Belgium",
                                    "1": "NULL",
                                    "2": "Charleroi"
                                },
                                {
                                    "0": "Brazil",
                                    "1": "RJ",
                                    "2": "Rio de Janeiro"
                                },
                                {
                                    "0": "Brazil",
                                    "1": "SP",
                                    "2": "Campinas"
                                },
                                {
                                    "0": "Brazil",
                                    "1": "SP",
                                    "2": "Resende"
                                },
                                {
                                    "0": "Brazil",
                                    "1": "SP",
                                    "2": "Sao Paulo"
                                },
                                {
                                    "0": "Canada",
                                    "1": "BC",
                                    "2": "Tsawassen"
                                },
                                {
                                    "0": "Canada",
                                    "1": "BC",
                                    "2": "Vancouver"
                                },
                                {
                                    "0": "Canada",
                                    "1": "Québec",
                                    "2": "Montréal"
                                },
                                {
                                    "0": "Denmark",
                                    "1": "NULL",
                                    "2": "Århus"
                                },
                                {
                                    "0": "Denmark",
                                    "1": "NULL",
                                    "2": "Kobenhavn"
                                },
                                {
                                    "0": "Finland",
                                    "1": "NULL",
                                    "2": "Helsinki"
                                },
                                {
                                    "0": "Finland",
                                    "1": "NULL",
                                    "2": "Oulu"
                                },
                                {
                                    "0": "France",
                                    "1": "NULL",
                                    "2": "Lille"
                                },
                                {
                                    "0": "France",
                                    "1": "NULL",
                                    "2": "Lyon"
                                },
                                {
                                    "0": "France",
                                    "1": "NULL",
                                    "2": "Marseille"
                                },
                                {
                                    "0": "France",
                                    "1": "NULL",
                                    "2": "Nantes"
                                },
                                {
                                    "0": "France",
                                    "1": "NULL",
                                    "2": "Paris"
                                },
                                {
                                    "0": "France",
                                    "1": "NULL",
                                    "2": "Reims"
                                },
                                {
                                    "0": "France",
                                    "1": "NULL",
                                    "2": "Strasbourg"
                                },
                                {
                                    "0": "France",
                                    "1": "NULL",
                                    "2": "Toulouse"
                                },
                                {
                                    "0": "France",
                                    "1": "NULL",
                                    "2": "Versailles"
                                },
                                {
                                    "0": "Germany",
                                    "1": "NULL",
                                    "2": "Aachen"
                                },
                                {
                                    "0": "Germany",
                                    "1": "NULL",
                                    "2": "Berlin"
                                },
                                {
                                    "0": "Germany",
                                    "1": "NULL",
                                    "2": "Brandenburg"
                                },
                                {
                                    "0": "Germany",
                                    "1": "NULL",
                                    "2": "Cunewalde"
                                },
                                {
                                    "0": "Germany",
                                    "1": "NULL",
                                    "2": "Frankfurt a.M."
                                },
                                {
                                    "0": "Germany",
                                    "1": "NULL",
                                    "2": "Köln"
                                },
                                {
                                    "0": "Germany",
                                    "1": "NULL",
                                    "2": "Leipzig"
                                },
                                {
                                    "0": "Germany",
                                    "1": "NULL",
                                    "2": "Mannheim"
                                },
                                {
                                    "0": "Germany",
                                    "1": "NULL",
                                    "2": "München"
                                },
                                {
                                    "0": "Germany",
                                    "1": "NULL",
                                    "2": "Münster"
                                },
                                {
                                    "0": "Germany",
                                    "1": "NULL",
                                    "2": "Stuttgart"
                                },
                                {
                                    "0": "Ireland",
                                    "1": "Co. Cork",
                                    "2": "Cork"
                                },
                                {
                                    "0": "Italy",
                                    "1": "NULL",
                                    "2": "Bergamo"
                                },
                                {
                                    "0": "Italy",
                                    "1": "NULL",
                                    "2": "Reggio Emilia"
                                },
                                {
                                    "0": "Italy",
                                    "1": "NULL",
                                    "2": "Torino"
                                },
                                {
                                    "0": "Mexico",
                                    "1": "NULL",
                                    "2": "México D.F."
                                },
                                {
                                    "0": "Norway",
                                    "1": "NULL",
                                    "2": "Stavern"
                                },
                                {
                                    "0": "Poland",
                                    "1": "NULL",
                                    "2": "Warszawa"
                                },
                                {
                                    "0": "Portugal",
                                    "1": "NULL",
                                    "2": "Lisboa"
                                },
                                {
                                    "0": "Spain",
                                    "1": "NULL",
                                    "2": "Barcelona"
                                },
                                {
                                    "0": "Spain",
                                    "1": "NULL",
                                    "2": "Madrid"
                                },
                                {
                                    "0": "Spain",
                                    "1": "NULL",
                                    "2": "Sevilla"
                                },
                                {
                                    "0": "Sweden",
                                    "1": "NULL",
                                    "2": "Bräcke"
                                },
                                {
                                    "0": "Sweden",
                                    "1": "NULL",
                                    "2": "Luleå"
                                },
                                {
                                    "0": "Switzerland",
                                    "1": "NULL",
                                    "2": "Bern"
                                },
                                {
                                    "0": "Switzerland",
                                    "1": "NULL",
                                    "2": "Genève"
                                },
                                {
                                    "0": "UK",
                                    "1": "Isle of Wight",
                                    "2": "Cowes"
                                },
                                {
                                    "0": "USA",
                                    "1": "AK",
                                    "2": "Anchorage"
                                },
                                {
                                    "0": "USA",
                                    "1": "CA",
                                    "2": "San Francisco"
                                },
                                {
                                    "0": "USA",
                                    "1": "ID",
                                    "2": "Boise"
                                },
                                {
                                    "0": "USA",
                                    "1": "MT",
                                    "2": "Butte"
                                },
                                {
                                    "0": "USA",
                                    "1": "NM",
                                    "2": "Albuquerque"
                                },
                                {
                                    "0": "USA",
                                    "1": "OR",
                                    "2": "Elgin"
                                },
                                {
                                    "0": "USA",
                                    "1": "OR",
                                    "2": "Eugene"
                                },
                                {
                                    "0": "USA",
                                    "1": "OR",
                                    "2": "Portland"
                                },
                                {
                                    "0": "USA",
                                    "1": "WA",
                                    "2": "Walla Walla"
                                },
                                {
                                    "0": "USA",
                                    "1": "WY",
                                    "2": "Lander"
                                },
                                {
                                    "0": "Venezuela",
                                    "1": "DF",
                                    "2": "Caracas"
                                },
                                {
                                    "0": "Venezuela",
                                    "1": "Lara",
                                    "2": "Barquisimeto"
                                },
                                {
                                    "0": "Venezuela",
                                    "1": "Nueva Esparta",
                                    "2": "I. de Margarita"
                                },
                                {
                                    "0": "Venezuela",
                                    "1": "Táchira",
                                    "2": "San Cristóbal"
                                }
                            ]
                        },
                        "text/html": [
                            "<table>",
                            "<tr><th>Customercountry</th><th>Customerregion</th><th>CustomerCity</th></tr>",
                            "<tr><td>Argentina</td><td>NULL</td><td>Buenos Aires</td></tr>",
                            "<tr><td>Austria</td><td>NULL</td><td>Graz</td></tr>",
                            "<tr><td>Austria</td><td>NULL</td><td>Salzburg</td></tr>",
                            "<tr><td>Belgium</td><td>NULL</td><td>Bruxelles</td></tr>",
                            "<tr><td>Belgium</td><td>NULL</td><td>Charleroi</td></tr>",
                            "<tr><td>Brazil</td><td>RJ</td><td>Rio de Janeiro</td></tr>",
                            "<tr><td>Brazil</td><td>SP</td><td>Campinas</td></tr>",
                            "<tr><td>Brazil</td><td>SP</td><td>Resende</td></tr>",
                            "<tr><td>Brazil</td><td>SP</td><td>Sao Paulo</td></tr>",
                            "<tr><td>Canada</td><td>BC</td><td>Tsawassen</td></tr>",
                            "<tr><td>Canada</td><td>BC</td><td>Vancouver</td></tr>",
                            "<tr><td>Canada</td><td>Québec</td><td>Montréal</td></tr>",
                            "<tr><td>Denmark</td><td>NULL</td><td>Århus</td></tr>",
                            "<tr><td>Denmark</td><td>NULL</td><td>Kobenhavn</td></tr>",
                            "<tr><td>Finland</td><td>NULL</td><td>Helsinki</td></tr>",
                            "<tr><td>Finland</td><td>NULL</td><td>Oulu</td></tr>",
                            "<tr><td>France</td><td>NULL</td><td>Lille</td></tr>",
                            "<tr><td>France</td><td>NULL</td><td>Lyon</td></tr>",
                            "<tr><td>France</td><td>NULL</td><td>Marseille</td></tr>",
                            "<tr><td>France</td><td>NULL</td><td>Nantes</td></tr>",
                            "<tr><td>France</td><td>NULL</td><td>Paris</td></tr>",
                            "<tr><td>France</td><td>NULL</td><td>Reims</td></tr>",
                            "<tr><td>France</td><td>NULL</td><td>Strasbourg</td></tr>",
                            "<tr><td>France</td><td>NULL</td><td>Toulouse</td></tr>",
                            "<tr><td>France</td><td>NULL</td><td>Versailles</td></tr>",
                            "<tr><td>Germany</td><td>NULL</td><td>Aachen</td></tr>",
                            "<tr><td>Germany</td><td>NULL</td><td>Berlin</td></tr>",
                            "<tr><td>Germany</td><td>NULL</td><td>Brandenburg</td></tr>",
                            "<tr><td>Germany</td><td>NULL</td><td>Cunewalde</td></tr>",
                            "<tr><td>Germany</td><td>NULL</td><td>Frankfurt a.M.</td></tr>",
                            "<tr><td>Germany</td><td>NULL</td><td>Köln</td></tr>",
                            "<tr><td>Germany</td><td>NULL</td><td>Leipzig</td></tr>",
                            "<tr><td>Germany</td><td>NULL</td><td>Mannheim</td></tr>",
                            "<tr><td>Germany</td><td>NULL</td><td>München</td></tr>",
                            "<tr><td>Germany</td><td>NULL</td><td>Münster</td></tr>",
                            "<tr><td>Germany</td><td>NULL</td><td>Stuttgart</td></tr>",
                            "<tr><td>Ireland</td><td>Co. Cork</td><td>Cork</td></tr>",
                            "<tr><td>Italy</td><td>NULL</td><td>Bergamo</td></tr>",
                            "<tr><td>Italy</td><td>NULL</td><td>Reggio Emilia</td></tr>",
                            "<tr><td>Italy</td><td>NULL</td><td>Torino</td></tr>",
                            "<tr><td>Mexico</td><td>NULL</td><td>México D.F.</td></tr>",
                            "<tr><td>Norway</td><td>NULL</td><td>Stavern</td></tr>",
                            "<tr><td>Poland</td><td>NULL</td><td>Warszawa</td></tr>",
                            "<tr><td>Portugal</td><td>NULL</td><td>Lisboa</td></tr>",
                            "<tr><td>Spain</td><td>NULL</td><td>Barcelona</td></tr>",
                            "<tr><td>Spain</td><td>NULL</td><td>Madrid</td></tr>",
                            "<tr><td>Spain</td><td>NULL</td><td>Sevilla</td></tr>",
                            "<tr><td>Sweden</td><td>NULL</td><td>Bräcke</td></tr>",
                            "<tr><td>Sweden</td><td>NULL</td><td>Luleå</td></tr>",
                            "<tr><td>Switzerland</td><td>NULL</td><td>Bern</td></tr>",
                            "<tr><td>Switzerland</td><td>NULL</td><td>Genève</td></tr>",
                            "<tr><td>UK</td><td>Isle of Wight</td><td>Cowes</td></tr>",
                            "<tr><td>USA</td><td>AK</td><td>Anchorage</td></tr>",
                            "<tr><td>USA</td><td>CA</td><td>San Francisco</td></tr>",
                            "<tr><td>USA</td><td>ID</td><td>Boise</td></tr>",
                            "<tr><td>USA</td><td>MT</td><td>Butte</td></tr>",
                            "<tr><td>USA</td><td>NM</td><td>Albuquerque</td></tr>",
                            "<tr><td>USA</td><td>OR</td><td>Elgin</td></tr>",
                            "<tr><td>USA</td><td>OR</td><td>Eugene</td></tr>",
                            "<tr><td>USA</td><td>OR</td><td>Portland</td></tr>",
                            "<tr><td>USA</td><td>WA</td><td>Walla Walla</td></tr>",
                            "<tr><td>USA</td><td>WY</td><td>Lander</td></tr>",
                            "<tr><td>Venezuela</td><td>DF</td><td>Caracas</td></tr>",
                            "<tr><td>Venezuela</td><td>Lara</td><td>Barquisimeto</td></tr>",
                            "<tr><td>Venezuela</td><td>Nueva Esparta</td><td>I. de Margarita</td></tr>",
                            "<tr><td>Venezuela</td><td>Táchira</td><td>San Cristóbal</td></tr>",
                            "</table>"
                        ]
                    }
                }
            ],
            "execution_count": 48
        },
        {
            "cell_type": "markdown",
            "source": [
                "**BULK INSERT**\n",
                "\n",
                "Inserts data from a file into an existing table."
            ],
            "metadata": {
                "language": "sql",
                "azdata_cell_guid": "29eb4f30-9292-4b9d-a56e-896ddfa9158d"
            },
            "attachments": {}
        },
        {
            "cell_type": "code",
            "source": [
                "use Northwinds2022TSQLV7\r\n",
                "BULK INSERT dbo.Orders FROM 'D:\\School\\QC\\Data\\Database\\Chapter 8 Data modification\\orders.txt'\r\n",
                "\tWITH \r\n",
                "\t\t(\r\n",
                "\t\t\tDATAFILETYPE = 'char',\r\n",
                "\t\t\tFIELDTERMINATOR = ',',\r\n",
                "\t\t\tROWTERMINATOR= '\\n'\r\n",
                "\r\n",
                "\t\t)"
            ],
            "metadata": {
                "language": "sql",
                "azdata_cell_guid": "d7e1f1d2-d9ae-427b-952c-74a28b24e976"
            },
            "outputs": [
                {
                    "output_type": "error",
                    "evalue": "Msg 4860, Level 16, State 1, Line 2\r\nCannot bulk load. The file \"D:\\School\\QC\\Data\\Database\\Chapter 8 Data modification\\orders.txt\" does not exist or you don't have file access rights.",
                    "ename": "",
                    "traceback": []
                },
                {
                    "output_type": "display_data",
                    "data": {
                        "text/html": "Total execution time: 00:00:00.020"
                    },
                    "metadata": {}
                }
            ],
            "execution_count": 11
        },
        {
            "cell_type": "markdown",
            "source": [
                "**The identity property and the sequence object**\n",
                "\n",
                "  \n",
                "\n",
                "IDENTITY COLUMN property and SEQUENCE OBJECT are two SQL Server's built-in solutions to automatically generate numeric keys."
            ],
            "metadata": {
                "language": "sql",
                "azdata_cell_guid": "cfc37ce5-bf06-4499-87bf-592e151d367c"
            },
            "attachments": {}
        },
        {
            "cell_type": "markdown",
            "source": [
                "**IDENTITY**\n",
                "\n",
                "  \n",
                "\n",
                "Identity is a standard column propety. You can define this property for a column with any numeric type with a scale of zero (no fraction/decimal). You use this propety to generate surrogate keys, which are keys produced by the system.  \n",
                "Seed: first value  \n",
                "Increment: step value"
            ],
            "metadata": {
                "language": "sql",
                "azdata_cell_guid": "1165e946-7adb-49f7-98e9-e6f8a6d8db83"
            },
            "attachments": {}
        },
        {
            "cell_type": "code",
            "source": [
                "use Northwinds2022TSQLV7\r\n",
                "DROP TABLE IF EXISTS dbo.T1;\r\n",
                "\r\n",
                "CREATE TABLE dbo.T1\r\n",
                "(\r\n",
                "\tkeycol INT NOT NULL IDENTITY (1,1)\r\n",
                "\t\tCONSTRAINT PK_T1 PRIMARY KEY,\r\n",
                "\tdatacol VARCHAR(10) NOT NULL \r\n",
                "\t\tCONSTRAINT CHK_T1_datacol CHECK (datacol LIKE '[ABCDEFGHIJKLMNOPQRSTVQWZYZ]%')\r\n",
                ")\r\n",
                "\r\n",
                "--In INSERT statements, you must ignore the identity column. It gets generated automatically.\r\n",
                "\r\n",
                "INSERT INTO dbo.T1 (datacol) VALUES ('AAAAA'), ('CCCCC'), ('BBBBB');\r\n",
                "SELECT * FROM dbo.T1 AS t\r\n",
                "\r\n",
                "--to refer to the identity column, you can specify the column name like this\r\n",
                "SELECT t.keycol FROM dbo.T1 AS t\r\n",
                "--or you can use this generic form\r\n",
                "SELECT $identity FROM dbo.T1 AS t\r\n",
                "\r\n",
                ""
            ],
            "metadata": {
                "language": "sql",
                "azdata_cell_guid": "b1300cbe-772a-4d66-9b82-4acc7f96839e"
            },
            "outputs": [
                {
                    "output_type": "display_data",
                    "data": {
                        "text/html": "(3 rows affected)"
                    },
                    "metadata": {}
                },
                {
                    "output_type": "display_data",
                    "data": {
                        "text/html": "(3 rows affected)"
                    },
                    "metadata": {}
                },
                {
                    "output_type": "display_data",
                    "data": {
                        "text/html": "(3 rows affected)"
                    },
                    "metadata": {}
                },
                {
                    "output_type": "display_data",
                    "data": {
                        "text/html": "(3 rows affected)"
                    },
                    "metadata": {}
                },
                {
                    "output_type": "display_data",
                    "data": {
                        "text/html": "Total execution time: 00:00:00.032"
                    },
                    "metadata": {}
                },
                {
                    "output_type": "execute_result",
                    "metadata": {},
                    "execution_count": 49,
                    "data": {
                        "application/vnd.dataresource+json": {
                            "schema": {
                                "fields": [
                                    {
                                        "name": "keycol"
                                    },
                                    {
                                        "name": "datacol"
                                    }
                                ]
                            },
                            "data": [
                                {
                                    "0": "1",
                                    "1": "AAAAA"
                                },
                                {
                                    "0": "2",
                                    "1": "CCCCC"
                                },
                                {
                                    "0": "3",
                                    "1": "BBBBB"
                                }
                            ]
                        },
                        "text/html": [
                            "<table>",
                            "<tr><th>keycol</th><th>datacol</th></tr>",
                            "<tr><td>1</td><td>AAAAA</td></tr>",
                            "<tr><td>2</td><td>CCCCC</td></tr>",
                            "<tr><td>3</td><td>BBBBB</td></tr>",
                            "</table>"
                        ]
                    }
                },
                {
                    "output_type": "execute_result",
                    "metadata": {},
                    "execution_count": 49,
                    "data": {
                        "application/vnd.dataresource+json": {
                            "schema": {
                                "fields": [
                                    {
                                        "name": "keycol"
                                    }
                                ]
                            },
                            "data": [
                                {
                                    "0": "1"
                                },
                                {
                                    "0": "2"
                                },
                                {
                                    "0": "3"
                                }
                            ]
                        },
                        "text/html": [
                            "<table>",
                            "<tr><th>keycol</th></tr>",
                            "<tr><td>1</td></tr>",
                            "<tr><td>2</td></tr>",
                            "<tr><td>3</td></tr>",
                            "</table>"
                        ]
                    }
                },
                {
                    "output_type": "execute_result",
                    "metadata": {},
                    "execution_count": 49,
                    "data": {
                        "application/vnd.dataresource+json": {
                            "schema": {
                                "fields": [
                                    {
                                        "name": "keycol"
                                    }
                                ]
                            },
                            "data": [
                                {
                                    "0": "1"
                                },
                                {
                                    "0": "2"
                                },
                                {
                                    "0": "3"
                                }
                            ]
                        },
                        "text/html": [
                            "<table>",
                            "<tr><th>keycol</th></tr>",
                            "<tr><td>1</td></tr>",
                            "<tr><td>2</td></tr>",
                            "<tr><td>3</td></tr>",
                            "</table>"
                        ]
                    }
                }
            ],
            "execution_count": 49
        },
        {
            "cell_type": "markdown",
            "source": [
                "<span style=\"color: #608b4e;\">--@@identity&nbsp;and&nbsp;SCOPE_IDENTITY&nbsp;returns&nbsp;last&nbsp;identity&nbsp;value&nbsp;produced&nbsp;by&nbsp;current&nbsp;session.&nbsp;</span> \n",
                "\n",
                "<span style=\"color: #dcdcaa;\">scope_identity</span>  <span style=\"color: #dcdcaa;\">@@identity</span>  IDENT\\_CURRENT\n",
                "\n",
                "<span style=\"color: #b5cea8;\">4</span>                   <span style=\"color: #b5cea8;\">4</span>           <span style=\"color: #b5cea8;\">4</span>\n",
                "\n",
                "<span style=\"color: #608b4e;\">IDENT_CURRENT&nbsp;returns&nbsp;last&nbsp;identity&nbsp;value&nbsp;regardless&nbsp;of&nbsp;session (in a new query window)</span>\n",
                "\n",
                "scope\\_identity @@identity IDENT\\_CURRENT\n",
                "\n",
                "> NULL NULL 4"
            ],
            "metadata": {
                "language": "sql",
                "azdata_cell_guid": "3eb02f6b-ce96-4581-819c-2679bf261443"
            },
            "attachments": {}
        },
        {
            "cell_type": "markdown",
            "source": [
                "**Drawbacks of Identity Property**\n",
                "\n",
                "<span style=\"color: #608b4e;\">Use&nbsp;the&nbsp;identity&nbsp;property&nbsp;only&nbsp;if&nbsp;you&nbsp;can&nbsp;allow&nbsp;gaps&nbsp;between&nbsp;the&nbsp;keys.</span>"
            ],
            "metadata": {
                "language": "sql",
                "azdata_cell_guid": "5655ab40-a9ef-421b-829b-abe0c51ff879"
            },
            "attachments": {}
        },
        {
            "cell_type": "code",
            "source": [
                "use Northwinds2022TSQLV7\r\n",
                "--The following insert fails. The identity value changed to 5. Next successful run will begin with 6. \r\n",
                "INSERT INTO dbo.T1(datacol) VALUES ('12345')\r\n",
                "\r\n",
                "INSERT INTO dbo.T1(datacol) VALUES ('EEEEE')\r\n",
                "\r\n",
                "SELECT * FROM DBO.T1;\r\n",
                "\r\n",
                "--Unclean terminations such as power failures can result in gaps between the keys. You cannot add identity property to an existing column or remove it from an existing column. \r\n",
                "--you can specify your own explicit values for the identity column when you insert rows. But you cannot update an identity column.\r\n",
                "\r\n",
                "SET IDENTITY_INSERT dbo.T1 ON;\r\n",
                "INSERT INTO dbo.T1(keycol, datacol) VALUES (4, 'FFFFF')\r\n",
                "SET IDENTITY_INSERT dbo.T1 OFF;\r\n",
                "SELECT * FROM dbo.T1\r\n",
                "\r\n",
                "--If you run the IDENT_CURRENT function now, it will be 6 not 5. Even though you just produced 5. \r\n",
                "--The current idenity value changes only if the explicit value you provided is greater than the current identity value.\r\n",
                "\r\n",
                "INSERT INTO dbo.T1 (datacol) VALUES ('GGGGG')\r\n",
                "\r\n",
                "SELECT * FROM dbo.T1\r\n",
                "\r\n",
                "--Identity property does not enforce uniqueness. When IDENTITY_INSERT is ON, you can insert values that already exist in the table. \r\n",
                "--In order to guarantee uniqueness, you must define primary key or unqiue constraint on that column."
            ],
            "metadata": {
                "language": "sql",
                "azdata_cell_guid": "4ad1a5cc-18fc-424e-bf42-48b56349db71"
            },
            "outputs": [
                {
                    "output_type": "display_data",
                    "data": {
                        "text/html": "The statement has been terminated."
                    },
                    "metadata": {}
                },
                {
                    "output_type": "display_data",
                    "data": {
                        "text/html": "(1 row affected)"
                    },
                    "metadata": {}
                },
                {
                    "output_type": "display_data",
                    "data": {
                        "text/html": "(4 rows affected)"
                    },
                    "metadata": {}
                },
                {
                    "output_type": "display_data",
                    "data": {
                        "text/html": "(1 row affected)"
                    },
                    "metadata": {}
                },
                {
                    "output_type": "display_data",
                    "data": {
                        "text/html": "(1 row affected)"
                    },
                    "metadata": {}
                },
                {
                    "output_type": "display_data",
                    "data": {
                        "text/html": "(6 rows affected)"
                    },
                    "metadata": {}
                },
                {
                    "output_type": "display_data",
                    "data": {
                        "text/html": "Total execution time: 00:00:00.043"
                    },
                    "metadata": {}
                },
                {
                    "output_type": "execute_result",
                    "metadata": {},
                    "execution_count": 50,
                    "data": {
                        "application/vnd.dataresource+json": {
                            "schema": {
                                "fields": [
                                    {
                                        "name": "keycol"
                                    },
                                    {
                                        "name": "datacol"
                                    }
                                ]
                            },
                            "data": [
                                {
                                    "0": "1",
                                    "1": "AAAAA"
                                },
                                {
                                    "0": "2",
                                    "1": "CCCCC"
                                },
                                {
                                    "0": "3",
                                    "1": "BBBBB"
                                },
                                {
                                    "0": "5",
                                    "1": "EEEEE"
                                }
                            ]
                        },
                        "text/html": [
                            "<table>",
                            "<tr><th>keycol</th><th>datacol</th></tr>",
                            "<tr><td>1</td><td>AAAAA</td></tr>",
                            "<tr><td>2</td><td>CCCCC</td></tr>",
                            "<tr><td>3</td><td>BBBBB</td></tr>",
                            "<tr><td>5</td><td>EEEEE</td></tr>",
                            "</table>"
                        ]
                    }
                },
                {
                    "output_type": "execute_result",
                    "metadata": {},
                    "execution_count": 50,
                    "data": {
                        "application/vnd.dataresource+json": {
                            "schema": {
                                "fields": [
                                    {
                                        "name": "keycol"
                                    },
                                    {
                                        "name": "datacol"
                                    }
                                ]
                            },
                            "data": [
                                {
                                    "0": "1",
                                    "1": "AAAAA"
                                },
                                {
                                    "0": "2",
                                    "1": "CCCCC"
                                },
                                {
                                    "0": "3",
                                    "1": "BBBBB"
                                },
                                {
                                    "0": "4",
                                    "1": "FFFFF"
                                },
                                {
                                    "0": "5",
                                    "1": "EEEEE"
                                },
                                {
                                    "0": "6",
                                    "1": "GGGGG"
                                }
                            ]
                        },
                        "text/html": [
                            "<table>",
                            "<tr><th>keycol</th><th>datacol</th></tr>",
                            "<tr><td>1</td><td>AAAAA</td></tr>",
                            "<tr><td>2</td><td>CCCCC</td></tr>",
                            "<tr><td>3</td><td>BBBBB</td></tr>",
                            "<tr><td>4</td><td>FFFFF</td></tr>",
                            "<tr><td>5</td><td>EEEEE</td></tr>",
                            "<tr><td>6</td><td>GGGGG</td></tr>",
                            "</table>"
                        ]
                    }
                },
                {
                    "output_type": "error",
                    "evalue": "Msg 547, Level 16, State 0, Line 3\r\nThe INSERT statement conflicted with the CHECK constraint \"CHK_T1_datacol\". The conflict occurred in database \"Northwinds2022TSQLV7\", table \"dbo.T1\", column 'datacol'.",
                    "ename": "",
                    "traceback": []
                }
            ],
            "execution_count": 50
        },
        {
            "cell_type": "markdown",
            "source": [
                "SEQUENCE\n",
                "\n",
                "  \n",
                "\n",
                "It is an independent object in the databse; it is not tied to a particular column in a table. By default, it uses BIGINT as datatype. Specify a datatype you want otherwise. It supports MINVALUE and MAXVALUE within that type. It supports cycling but by default there is no cycle. \n",
                "\n",
                "  \n",
                "\n",
                "START WITH\n",
                "\n",
                "INCREMENT BY\n",
                "\n",
                "  \n",
                "\n",
                "default start value is minimum value of the datatype  used and default increment is 1."
            ],
            "metadata": {
                "language": "sql",
                "azdata_cell_guid": "944fcb40-2c9b-4ea0-9a88-9b8d82fa0330"
            },
            "attachments": {}
        },
        {
            "cell_type": "code",
            "source": [
                "use Northwinds2022TSQLV7\r\n",
                "drop sequence dbo.SeqOrderIDs\r\n",
                ""
            ],
            "metadata": {
                "language": "sql",
                "azdata_cell_guid": "16a8f249-66d3-4a24-bb54-dad1f4ea9eaf"
            },
            "outputs": [
                {
                    "output_type": "display_data",
                    "data": {
                        "text/html": "Commands completed successfully."
                    },
                    "metadata": {}
                },
                {
                    "output_type": "display_data",
                    "data": {
                        "text/html": "Total execution time: 00:00:00.013"
                    },
                    "metadata": {}
                }
            ],
            "execution_count": 25
        },
        {
            "cell_type": "code",
            "source": [
                "use Northwinds2022TSQLV7\r\n",
                "CREATE SEQUENCE dbo.SeqOrderIDs AS INT \r\n",
                "\tMINVALUE 1\r\n",
                "\tCYCLE;\r\n",
                "\r\n",
                "--You can change any sequence properties except the datatype\r\n",
                "ALTER SEQUENCE dbo.SeqOrderIDs\r\n",
                "\tNO CYCLE; --MINVAL, MAXVAL, RESTART WITH, INCREMENT BY, CYCLE/NO CYCLE, CACHE/NO CASHE\r\n",
                "\r\n",
                "--To generate new sequence value:\r\n",
                "SELECT NEXT VALUE FOR dbo.SeqOrderIDs\r\n",
                "\r\n",
                "\r\n",
                "DROP TABLE IF EXISTS dbo.T1;\r\n",
                "CREATE TABLE dbo.T1\r\n",
                "(\r\n",
                "\tkeycol INT NOT NULL\r\n",
                "\t\tCONSTRAINT PK_T1 PRIMARY KEY,\r\n",
                "\tdatacol VARCHAR(10) NOT NULL \r\n",
                ");"
            ],
            "metadata": {
                "language": "sql",
                "azdata_cell_guid": "9db5d99c-5829-4751-8f87-a364624286f1"
            },
            "outputs": [
                {
                    "output_type": "display_data",
                    "data": {
                        "text/html": "(1 row affected)"
                    },
                    "metadata": {}
                },
                {
                    "output_type": "display_data",
                    "data": {
                        "text/html": "Total execution time: 00:00:00.049"
                    },
                    "metadata": {}
                },
                {
                    "output_type": "execute_result",
                    "metadata": {},
                    "execution_count": 26,
                    "data": {
                        "application/vnd.dataresource+json": {
                            "schema": {
                                "fields": [
                                    {
                                        "name": "(No column name)"
                                    }
                                ]
                            },
                            "data": [
                                {
                                    "0": "1"
                                }
                            ]
                        },
                        "text/html": [
                            "<table>",
                            "<tr><th>(No column name)</th></tr>",
                            "<tr><td>1</td></tr>",
                            "</table>"
                        ]
                    }
                }
            ],
            "execution_count": 26
        },
        {
            "cell_type": "code",
            "source": [
                "\r\n",
                "use Northwinds2022TSQLV7\r\n",
                "\r\n",
                "--with\tSEQUENCE, you can store the result of the function in a variable and  use it later in the code. You don't have to create a \r\n",
                "--new row to generate a new number.\r\n",
                "\r\n",
                "DECLARE @newOrderId AS INT = NEXT VALUE FOR dbo.SeqOrderIDs;\r\n",
                "INSERT INTO dbo.T1(keycol, datacol) VALUES (@neworderid, 'a');\r\n",
                "\r\n",
                "SELECT * FROM dbo.T1 AS t\r\n",
                "\r\n",
                "-- You can also place the command directly insider the INSERT.\r\n",
                "\r\n",
                "INSERT INTO dbo.T1(keycol, datacol) VALUES (NEXT VALUE FOR dbo.SeqOrderIDs, 'b');\r\n",
                "\r\n",
                "SELECT * FROM dbo.T1 AS t\r\n",
                "\r\n",
                "--you can also generate a new sequence values in an UPDATE statement\r\n",
                "UPDATE dbo.T1\r\n",
                "\tSET keycol = NEXT VALUE FOR dbo.SeqOrderIDs\r\n",
                "\r\n",
                "SELECT * FROM dbo.T1 AS t\r\n",
                "\r\n",
                "--to check the current state of the sequence, do the following:\r\n",
                "SELECT current_value\r\n",
                "FROM sys.sequences\r\n",
                "WHERE OBJECT_ID = OBJECT_ID(N'dbo.SeqOrderIDs')"
            ],
            "metadata": {
                "language": "sql",
                "azdata_cell_guid": "5b8f42bd-1217-41ed-bf9f-e599d0b8ec83"
            },
            "outputs": [
                {
                    "output_type": "display_data",
                    "data": {
                        "text/html": "(1 row affected)"
                    },
                    "metadata": {}
                },
                {
                    "output_type": "display_data",
                    "data": {
                        "text/html": "(1 row affected)"
                    },
                    "metadata": {}
                },
                {
                    "output_type": "display_data",
                    "data": {
                        "text/html": "(1 row affected)"
                    },
                    "metadata": {}
                },
                {
                    "output_type": "display_data",
                    "data": {
                        "text/html": "(2 rows affected)"
                    },
                    "metadata": {}
                },
                {
                    "output_type": "display_data",
                    "data": {
                        "text/html": "(2 rows affected)"
                    },
                    "metadata": {}
                },
                {
                    "output_type": "display_data",
                    "data": {
                        "text/html": "(2 rows affected)"
                    },
                    "metadata": {}
                },
                {
                    "output_type": "display_data",
                    "data": {
                        "text/html": "(1 row affected)"
                    },
                    "metadata": {}
                },
                {
                    "output_type": "display_data",
                    "data": {
                        "text/html": "Total execution time: 00:00:00.061"
                    },
                    "metadata": {}
                },
                {
                    "output_type": "execute_result",
                    "metadata": {},
                    "execution_count": 27,
                    "data": {
                        "application/vnd.dataresource+json": {
                            "schema": {
                                "fields": [
                                    {
                                        "name": "keycol"
                                    },
                                    {
                                        "name": "datacol"
                                    }
                                ]
                            },
                            "data": [
                                {
                                    "0": "2",
                                    "1": "a"
                                }
                            ]
                        },
                        "text/html": [
                            "<table>",
                            "<tr><th>keycol</th><th>datacol</th></tr>",
                            "<tr><td>2</td><td>a</td></tr>",
                            "</table>"
                        ]
                    }
                },
                {
                    "output_type": "execute_result",
                    "metadata": {},
                    "execution_count": 27,
                    "data": {
                        "application/vnd.dataresource+json": {
                            "schema": {
                                "fields": [
                                    {
                                        "name": "keycol"
                                    },
                                    {
                                        "name": "datacol"
                                    }
                                ]
                            },
                            "data": [
                                {
                                    "0": "2",
                                    "1": "a"
                                },
                                {
                                    "0": "3",
                                    "1": "b"
                                }
                            ]
                        },
                        "text/html": [
                            "<table>",
                            "<tr><th>keycol</th><th>datacol</th></tr>",
                            "<tr><td>2</td><td>a</td></tr>",
                            "<tr><td>3</td><td>b</td></tr>",
                            "</table>"
                        ]
                    }
                },
                {
                    "output_type": "execute_result",
                    "metadata": {},
                    "execution_count": 27,
                    "data": {
                        "application/vnd.dataresource+json": {
                            "schema": {
                                "fields": [
                                    {
                                        "name": "keycol"
                                    },
                                    {
                                        "name": "datacol"
                                    }
                                ]
                            },
                            "data": [
                                {
                                    "0": "4",
                                    "1": "a"
                                },
                                {
                                    "0": "5",
                                    "1": "b"
                                }
                            ]
                        },
                        "text/html": [
                            "<table>",
                            "<tr><th>keycol</th><th>datacol</th></tr>",
                            "<tr><td>4</td><td>a</td></tr>",
                            "<tr><td>5</td><td>b</td></tr>",
                            "</table>"
                        ]
                    }
                },
                {
                    "output_type": "execute_result",
                    "metadata": {},
                    "execution_count": 27,
                    "data": {
                        "application/vnd.dataresource+json": {
                            "schema": {
                                "fields": [
                                    {
                                        "name": "current_value"
                                    }
                                ]
                            },
                            "data": [
                                {
                                    "0": "5"
                                }
                            ]
                        },
                        "text/html": [
                            "<table>",
                            "<tr><th>current_value</th></tr>",
                            "<tr><td>5</td></tr>",
                            "</table>"
                        ]
                    }
                }
            ],
            "execution_count": 27
        },
        {
            "cell_type": "markdown",
            "source": [
                "SEQUENCE: Special Extension\n",
                "\n",
                "  \n",
                "\n",
                "NEXT VALUE FOR ... OVER enables you to control the order of the assigned sequence values."
            ],
            "metadata": {
                "azdata_cell_guid": "d5bd127e-918d-4c27-810c-785fe4b57abd"
            },
            "attachments": {}
        },
        {
            "cell_type": "code",
            "source": [
                "use Northwinds2022TSQLV7\r\n",
                "INSERT INTO dbo.T1(keycol, datacol)\r\n",
                "\tSELECT \r\n",
                "\t\tNEXT VALUE FOR dbo.SeqOrderIDs OVER (ORDER BY hiredate),\r\n",
                "\t\tLEFT(Employeefirstname, 1) + LEFT(Employeelastname,1)\r\n",
                "\tFROM HumanResources.Employee AS e\r\n",
                "\r\n",
                "SELECT * from dbo.T1;"
            ],
            "metadata": {
                "azdata_cell_guid": "4d275f3f-bd20-41dc-9d4f-dde40d11b888",
                "language": "sql"
            },
            "outputs": [
                {
                    "output_type": "display_data",
                    "data": {
                        "text/html": "(9 rows affected)"
                    },
                    "metadata": {}
                },
                {
                    "output_type": "display_data",
                    "data": {
                        "text/html": "(20 rows affected)"
                    },
                    "metadata": {}
                },
                {
                    "output_type": "display_data",
                    "data": {
                        "text/html": "Total execution time: 00:00:00.017"
                    },
                    "metadata": {}
                },
                {
                    "output_type": "execute_result",
                    "metadata": {},
                    "execution_count": 29,
                    "data": {
                        "application/vnd.dataresource+json": {
                            "schema": {
                                "fields": [
                                    {
                                        "name": "keycol"
                                    },
                                    {
                                        "name": "datacol"
                                    }
                                ]
                            },
                            "data": [
                                {
                                    "0": "4",
                                    "1": "a"
                                },
                                {
                                    "0": "5",
                                    "1": "b"
                                },
                                {
                                    "0": "6",
                                    "1": "JL"
                                },
                                {
                                    "0": "7",
                                    "1": "SD"
                                },
                                {
                                    "0": "8",
                                    "1": "DF"
                                },
                                {
                                    "0": "9",
                                    "1": "YP"
                                },
                                {
                                    "0": "10",
                                    "1": "SM"
                                },
                                {
                                    "0": "11",
                                    "1": "PS"
                                },
                                {
                                    "0": "12",
                                    "1": "RK"
                                },
                                {
                                    "0": "13",
                                    "1": "MC"
                                },
                                {
                                    "0": "14",
                                    "1": "PD"
                                },
                                {
                                    "0": "15",
                                    "1": "JL"
                                },
                                {
                                    "0": "16",
                                    "1": "SD"
                                },
                                {
                                    "0": "17",
                                    "1": "DF"
                                },
                                {
                                    "0": "18",
                                    "1": "YP"
                                },
                                {
                                    "0": "19",
                                    "1": "SM"
                                },
                                {
                                    "0": "20",
                                    "1": "PS"
                                },
                                {
                                    "0": "21",
                                    "1": "RK"
                                },
                                {
                                    "0": "22",
                                    "1": "MC"
                                },
                                {
                                    "0": "23",
                                    "1": "PD"
                                }
                            ]
                        },
                        "text/html": [
                            "<table>",
                            "<tr><th>keycol</th><th>datacol</th></tr>",
                            "<tr><td>4</td><td>a</td></tr>",
                            "<tr><td>5</td><td>b</td></tr>",
                            "<tr><td>6</td><td>JL</td></tr>",
                            "<tr><td>7</td><td>SD</td></tr>",
                            "<tr><td>8</td><td>DF</td></tr>",
                            "<tr><td>9</td><td>YP</td></tr>",
                            "<tr><td>10</td><td>SM</td></tr>",
                            "<tr><td>11</td><td>PS</td></tr>",
                            "<tr><td>12</td><td>RK</td></tr>",
                            "<tr><td>13</td><td>MC</td></tr>",
                            "<tr><td>14</td><td>PD</td></tr>",
                            "<tr><td>15</td><td>JL</td></tr>",
                            "<tr><td>16</td><td>SD</td></tr>",
                            "<tr><td>17</td><td>DF</td></tr>",
                            "<tr><td>18</td><td>YP</td></tr>",
                            "<tr><td>19</td><td>SM</td></tr>",
                            "<tr><td>20</td><td>PS</td></tr>",
                            "<tr><td>21</td><td>RK</td></tr>",
                            "<tr><td>22</td><td>MC</td></tr>",
                            "<tr><td>23</td><td>PD</td></tr>",
                            "</table>"
                        ]
                    }
                }
            ],
            "execution_count": 29
        },
        {
            "cell_type": "markdown",
            "source": [
                "Using NEXT VALUE FOR function as a default constraint"
            ],
            "metadata": {
                "language": "sql",
                "azdata_cell_guid": "9e7ce60d-77a4-4e43-bfe3-07f5584ec958"
            },
            "attachments": {}
        },
        {
            "cell_type": "code",
            "source": [
                "use Northwinds2022TSQLV7\r\n",
                "ALTER TABLE dbo.T1 \r\n",
                "\tADD CONSTRAINT DFT_T1_keycol\r\n",
                "\t\tDEFAULT (NEXT VALUE FOR dbo.SeqOrderIDs)\r\n",
                "\t\tFOR keycol;\r\n",
                "\r\n",
                "INSERT INTO dbo.T1(datacol) VALUES ('C');\r\n",
                "SELECT * FROM dbo.T1;\r\n",
                "\r\n",
                "--to remove constraint, use DROP CONSTRAINT"
            ],
            "metadata": {
                "language": "sql",
                "azdata_cell_guid": "c181ac89-93f9-4fc8-a13b-186f24207f1c"
            },
            "outputs": [],
            "execution_count": null
        },
        {
            "cell_type": "markdown",
            "source": [
                "Allocating a whole range of sequence values at once using Stored Procedure\n",
                "\n",
                "  \n",
                "\n",
                "SQL\\_VARIANT is a generic data type that can hold within its various base data types."
            ],
            "metadata": {
                "language": "sql",
                "azdata_cell_guid": "0efbf20c-dcb7-47d4-9223-7bdb2a1298ee"
            },
            "attachments": {}
        },
        {
            "cell_type": "code",
            "source": [
                "DECLARE @first AS SQL_VARIANT;\r\n",
                "\r\n",
                "EXEC sys.sp_sequence_get_range \r\n",
                "\t@sequence_name = N'dbo.SeqOrderIDs',\r\n",
                "\t@range_size = 100,\r\n",
                "\t@range_first_value = @first OUTPUT;\r\n",
                "\r\n",
                "SELECT @first \r\n",
                "--Each time you run, you 100 will be added to the @first.\r\n",
                "--Sequence does not guarantee that there will be no gaps.\r\n",
                "\r\n",
                "--clean up\r\n",
                "DROP TABLE IF EXISTS dbo.T1;\r\n",
                "DROP SEQUENCE IF EXISTS dbo.SeqOrderIds;"
            ],
            "metadata": {
                "language": "sql",
                "azdata_cell_guid": "e4755817-bf44-4209-a555-cb857914f137"
            },
            "outputs": [
                {
                    "output_type": "error",
                    "evalue": "Msg 208, Level 16, State 1, Procedure sys.sp_sequence_get_range_internal, Line 1\r\nInvalid object name 'dbo.SeqOrderIDs'.",
                    "ename": "",
                    "traceback": []
                },
                {
                    "output_type": "display_data",
                    "data": {
                        "text/html": "Total execution time: 00:00:00.008"
                    },
                    "metadata": {}
                }
            ],
            "execution_count": 31
        },
        {
            "cell_type": "markdown",
            "source": [
                "Deleting Data"
            ],
            "metadata": {
                "language": "sql",
                "azdata_cell_guid": "6704fb52-7321-449b-a1f5-f68469b4da98"
            },
            "attachments": {}
        },
        {
            "cell_type": "code",
            "source": [
                "--Copying over tables\r\n",
                "use Northwinds2022TSQLV7\r\n",
                "DROP TABLE IF EXISTS dbo.Orders, dbo.Customers;\r\n",
                "\r\n",
                "CREATE TABLE dbo.Customers\r\n",
                "(\r\n",
                "  custid       INT          NOT NULL,\r\n",
                "  companyname  NVARCHAR(40) NOT NULL,\r\n",
                "  contactname  NVARCHAR(30) NOT NULL,\r\n",
                "  contacttitle NVARCHAR(30) NOT NULL,\r\n",
                "  address      NVARCHAR(60) NOT NULL,\r\n",
                "  city         NVARCHAR(15) NOT NULL,\r\n",
                "  region       NVARCHAR(15) NULL,\r\n",
                "  postalcode   NVARCHAR(10) NULL,\r\n",
                "  country      NVARCHAR(15) NOT NULL,\r\n",
                "  phone        NVARCHAR(24) NOT NULL,\r\n",
                "  fax          NVARCHAR(24) NULL,\r\n",
                "  CONSTRAINT PK_Customers PRIMARY KEY(custid)\r\n",
                ");\r\n",
                "\r\n",
                "CREATE TABLE dbo.Orders\r\n",
                "(\r\n",
                "  orderid        INT          NOT NULL,\r\n",
                "  custid         INT          NULL,\r\n",
                "  empid          INT          NOT NULL,\r\n",
                "  shipperid      INT          NOT NULL,\r\n",
                "  orderdate      DATE         NOT NULL,\r\n",
                "  requireddate   DATE         NOT NULL,\r\n",
                "  shippeddate    DATE         NULL,\r\n",
                " \r\n",
                "  freight        MONEY        NOT NULL\r\n",
                "    CONSTRAINT DFT_Orders_freight DEFAULT(0),\r\n",
                "  shipname       NVARCHAR(40) NOT NULL,\r\n",
                "  shipaddress    NVARCHAR(60) NOT NULL,\r\n",
                "  shipcity       NVARCHAR(15) NOT NULL,\r\n",
                "  shipregion     NVARCHAR(15) NULL,\r\n",
                "  shippostalcode NVARCHAR(10) NULL,\r\n",
                "  shipcountry    NVARCHAR(15) NOT NULL,\r\n",
                "  userAuthenticationId INT NULL,\r\n",
                "  DateAdded DATETIME2 NULL,\r\n",
                "  dateoflastUpdate DATETIME2 NULL,\r\n",
                "  CONSTRAINT PK_Orders PRIMARY KEY(orderid),\r\n",
                "  CONSTRAINT FK_Orders_Customers FOREIGN KEY(custid)\r\n",
                "    REFERENCES dbo.Customers(custid)\r\n",
                ");\r\n",
                "GO\r\n",
                "\r\n",
                "INSERT INTO dbo.Customers SELECT * FROM Sales.Customer;\r\n",
                "INSERT INTO dbo.Orders SELECT * FROM Sales.[ORDER];"
            ],
            "metadata": {
                "language": "sql",
                "azdata_cell_guid": "26258c7b-6a03-4416-8fc3-eb06918a23e3"
            },
            "outputs": [
                {
                    "output_type": "display_data",
                    "data": {
                        "text/html": "Commands completed successfully."
                    },
                    "metadata": {}
                },
                {
                    "output_type": "display_data",
                    "data": {
                        "text/html": "(91 rows affected)"
                    },
                    "metadata": {}
                },
                {
                    "output_type": "display_data",
                    "data": {
                        "text/html": "(830 rows affected)"
                    },
                    "metadata": {}
                },
                {
                    "output_type": "display_data",
                    "data": {
                        "text/html": "Total execution time: 00:00:00.091"
                    },
                    "metadata": {}
                }
            ],
            "execution_count": 32
        },
        {
            "cell_type": "markdown",
            "source": [
                "DELETE Statement\n",
                "\n",
                "FROM\n",
                "\n",
                "WHERE\n",
                "\n",
                "Only the subset of rows for which the predicate evalutes to TRUE will be deleted. It is expensive because it is a fully logged operation."
            ],
            "metadata": {
                "azdata_cell_guid": "bcf0419c-d2a7-4c68-a9b5-c6dc61c70f23"
            },
            "attachments": {}
        },
        {
            "cell_type": "code",
            "source": [
                "use Northwinds2022TSQLV7\r\n",
                "DELETE FROM dbo.Orders\r\n",
                "WHERE orderdate < '20150101';\r\n",
                "\r\n",
                ""
            ],
            "metadata": {
                "azdata_cell_guid": "eaf8f61d-d42f-42df-9d09-98d562a585ff",
                "language": "sql"
            },
            "outputs": [
                {
                    "output_type": "display_data",
                    "data": {
                        "text/html": "(152 rows affected)"
                    },
                    "metadata": {}
                },
                {
                    "output_type": "display_data",
                    "data": {
                        "text/html": "Total execution time: 00:00:00.024"
                    },
                    "metadata": {}
                }
            ],
            "execution_count": 33
        },
        {
            "cell_type": "markdown",
            "source": [
                "TRUNCATE\n",
                "\n",
                "Deletes ALL rows from a table. It has no filter. It is minimally logged so it takes much less time than DELETE. Both DELETE and TRUNCATE are transactional. TRUNCATE resets the identiy value back to the original seed but DELETE does not. TRUNCATE statement is not allowed until you drop all foreign keys referencing the table with the ALTER TABLE DROP CONSTRAINT command. To avoid truncating a table by accident, you can create a dummy table with a foreign key pointing to ththat table. T-SQL also supports truncating certain partitions. Partitions allows importing data and purging historic data to be more efficient and has manageability purposes."
            ],
            "metadata": {
                "language": "sql",
                "azdata_cell_guid": "73f5bc6b-f23f-46a3-9459-9fa6707b63e2"
            },
            "attachments": {}
        },
        {
            "cell_type": "code",
            "source": [
                "use Northwinds2022TSQLV7\r\n",
                "TRUNCATE TABLE dbo.T1\r\n",
                "\r\n",
                "--Syntax for partition\r\n",
                "-- creating partitions\r\n",
                "DROP TABLE IF EXISTS dbo.T1;\r\n",
                "IF EXISTS (SELECT * FROM sys.partition_schemes WHERE name = N'PS1') DROP PARTITION SCHEME PS1;\r\n",
                "IF EXISTS (SELECT * FROM sys.partition_functions WHERE name = N'PF1') DROP PARTITION FUNCTION PF1;\r\n",
                "\r\n",
                "CREATE PARTITION FUNCTION PF1 (INT) AS RANGE LEFT FOR VALUES (10, 20, 30, 40, 50, 60, 70, 80, 90, 100, 110, 120);\r\n",
                "CREATE PARTITION SCHEME PS1 AS PARTITION PF1 ALL TO ([PRIMARY]);\r\n",
                "\r\n",
                "CREATE TABLE dbo.T1\r\n",
                "(\r\n",
                "  keycol INT NOT NULL\r\n",
                "    CONSTRAINT PK_T1 PRIMARY KEY,\r\n",
                "  datacol INT NOT NULL\r\n",
                ") ON PS1(keycol);\r\n",
                "GO\r\n",
                "--TRUNCATE\r\n",
                "TRUNCATE TABLE dbo.T1 WITH (PARTITIONS (1, 3, 5, 7 TO 10));\r\n",
                "\r\n",
                "--Clean up\r\n",
                "DROP TABLE IF EXISTS dbo.T1;\r\n",
                "IF EXISTS (SELECT * FROM sys.partition_schemes WHERE name = N'PS1') DROP PARTITION SCHEME PS1;\r\n",
                "IF EXISTS (SELECT * FROM sys.partition_functions WHERE name = N'PF1') DROP PARTITION FUNCTION PF1;"
            ],
            "metadata": {
                "language": "sql",
                "azdata_cell_guid": "1afd9884-ae26-4497-be4e-b2f26a9a1c7b"
            },
            "outputs": [
                {
                    "output_type": "error",
                    "evalue": "Msg 4701, Level 16, State 1, Line 2\r\nCannot find the object \"T1\" because it does not exist or you do not have permissions.",
                    "ename": "",
                    "traceback": []
                },
                {
                    "output_type": "error",
                    "evalue": "Msg 4701, Level 16, State 1, Line 21\r\nCannot find the object \"T1\" because it does not exist or you do not have permissions.",
                    "ename": "",
                    "traceback": []
                },
                {
                    "output_type": "display_data",
                    "data": {
                        "text/html": "Total execution time: 00:00:00.016"
                    },
                    "metadata": {}
                }
            ],
            "execution_count": 34
        },
        {
            "cell_type": "markdown",
            "source": [
                "DELETE based on a join (nonstandard)\n",
                "\n",
                "This is a nonstandard DELETE. You can delete rows from one table on a filter based on attributes from related rows from another table. In this case, you can delete rows from dbo.Orders based on an attribute (country) from dbo.Customers table. But it is better to stick to standard deletion using subquery."
            ],
            "metadata": {
                "language": "sql",
                "azdata_cell_guid": "8242354f-fe86-485e-9afa-10a36edd42bb"
            },
            "attachments": {}
        },
        {
            "cell_type": "code",
            "source": [
                "use Northwinds2022TSQLV7\r\n",
                "DELETE FROM o \r\n",
                "FROM dbo.Orders AS o\r\n",
                "\tINNER JOIN dbo.Customers AS c\r\n",
                "\t\tON o.custid = c.custid\r\n",
                "WHERE c.country = N'USA';\r\n",
                "\r\n",
                "-- o is the target of deletion."
            ],
            "metadata": {
                "language": "sql",
                "azdata_cell_guid": "cb6e2604-8ce7-4791-a199-91d1896ba5dd"
            },
            "outputs": [],
            "execution_count": null
        },
        {
            "cell_type": "markdown",
            "source": [
                "DELETE using subquery (standard)"
            ],
            "metadata": {
                "language": "sql",
                "azdata_cell_guid": "10aba5c4-988a-4e41-a04b-dc618c5df194"
            },
            "attachments": {}
        },
        {
            "cell_type": "code",
            "source": [
                "use Northwinds2022TSQLV7\r\n",
                "DELETE FROM dbo.Orders\r\n",
                "WHERE EXISTS \r\n",
                "\t(SELECT * \r\n",
                "\t FROM dbo.Customers AS C\r\n",
                "\t WHERE Orders.custid = C.custid\r\n",
                "\t\tAND C.Country = N'USA');"
            ],
            "metadata": {
                "language": "sql",
                "azdata_cell_guid": "f1c62b1f-1195-44ad-a667-fd08efab1354"
            },
            "outputs": [],
            "execution_count": null
        },
        {
            "cell_type": "markdown",
            "source": [
                "Updating Data"
            ],
            "metadata": {
                "language": "sql",
                "azdata_cell_guid": "c6b4687f-48b6-465e-b4e9-6bb332349b33"
            },
            "attachments": {}
        },
        {
            "cell_type": "code",
            "source": [
                "--Copying over tables. \r\n",
                "\r\n",
                "use Northwinds2022TSQLV7\r\n",
                "DROP TABLE IF EXISTS dbo.OrderDetails, dbo.Orders;\r\n",
                "\r\n",
                "CREATE TABLE dbo.Orders\r\n",
                "(\r\n",
                "  orderid        INT          NOT NULL,\r\n",
                "  custid         INT          NULL,\r\n",
                "  empid          INT          NOT NULL,\r\n",
                "  shipperid      INT          NOT NULL,\r\n",
                "  orderdate      DATE         NOT NULL,\r\n",
                "  requireddate   DATE         NOT NULL,\r\n",
                "  shippeddate    DATE         NULL,\r\n",
                " \r\n",
                "  freight        MONEY        NOT NULL\r\n",
                "    CONSTRAINT DFT_Orders_freight DEFAULT(0),\r\n",
                "  shipname       NVARCHAR(40) NOT NULL,\r\n",
                "  shipaddress    NVARCHAR(60) NOT NULL,\r\n",
                "  shipcity       NVARCHAR(15) NOT NULL,\r\n",
                "  shipregion     NVARCHAR(15) NULL,\r\n",
                "  shippostalcode NVARCHAR(10) NULL,\r\n",
                "  shipcountry    NVARCHAR(15) NOT NULL,\r\n",
                "  userAuthenticationId INT NULL,\r\n",
                "  DateAdded DATETIME2 NULL,\r\n",
                "  dateoflastUpdate DATETIME2 NULL,\r\n",
                "  CONSTRAINT PK_Orders PRIMARY KEY(orderid),\r\n",
                "  CONSTRAINT FK_Orders_Customers FOREIGN KEY(custid)\r\n",
                "    REFERENCES dbo.Customers(custid)\r\n",
                ");\r\n",
                "\r\n",
                "CREATE TABLE dbo.OrderDetails\r\n",
                "(\r\n",
                "  orderid   INT           NOT NULL,\r\n",
                "  productid INT           NOT NULL,\r\n",
                "  unitprice MONEY         NOT NULL\r\n",
                "    CONSTRAINT DFT_OrderDetails_unitprice DEFAULT(0),\r\n",
                "  qty       SMALLINT      NOT NULL\r\n",
                "    CONSTRAINT DFT_OrderDetails_qty DEFAULT(1),\r\n",
                "  discount  NUMERIC(4, 3) NOT NULL\r\n",
                "    CONSTRAINT DFT_OrderDetails_discount DEFAULT(0),\r\n",
                "  CONSTRAINT PK_OrderDetails PRIMARY KEY(orderid, productid),\r\n",
                "  CONSTRAINT FK_OrderDetails_Orders FOREIGN KEY(orderid)\r\n",
                "    REFERENCES dbo.Orders(orderid),\r\n",
                "  CONSTRAINT CHK_discount  CHECK (discount BETWEEN 0 AND 1),\r\n",
                "  CONSTRAINT CHK_qty  CHECK (qty > 0),\r\n",
                "  CONSTRAINT CHK_unitprice CHECK (unitprice >= 0)\r\n",
                ");\r\n",
                "GO\r\n",
                "\r\n",
                "INSERT INTO dbo.Orders SELECT * FROM Sales.[ORDER];\r\n",
                "INSERT INTO dbo.OrderDetails SELECT * FROM Sales.OrderDetail;"
            ],
            "metadata": {
                "language": "sql",
                "azdata_cell_guid": "67c304f4-a52e-4dc9-ab14-d361553e0ea8"
            },
            "outputs": [
                {
                    "output_type": "display_data",
                    "data": {
                        "text/html": "Commands completed successfully."
                    },
                    "metadata": {}
                },
                {
                    "output_type": "display_data",
                    "data": {
                        "text/html": "(830 rows affected)"
                    },
                    "metadata": {}
                },
                {
                    "output_type": "display_data",
                    "data": {
                        "text/html": "(2155 rows affected)"
                    },
                    "metadata": {}
                },
                {
                    "output_type": "display_data",
                    "data": {
                        "text/html": "Total execution time: 00:00:00.089"
                    },
                    "metadata": {}
                }
            ],
            "execution_count": 35
        },
        {
            "cell_type": "markdown",
            "source": [
                "**UPDATE statement**\n",
                "\n",
                "UPDATE\n",
                "\n",
                "SET\n",
                "\n",
                "WHERE\n",
                "\n",
                "You may use the following compound assignment operators in the SET clause: +=, -=, /=, \\*=, %="
            ],
            "metadata": {
                "azdata_cell_guid": "d253898a-9653-4a14-b7ca-289c65f74a56"
            },
            "attachments": {}
        },
        {
            "cell_type": "code",
            "source": [
                "use Northwinds2022TSQLV7\r\n",
                "UPDATE dbo.orderDetails\r\n",
                "\tSET discount = discount + 0.05\r\n",
                "WHERE productid = 51;\r\n",
                "\r\n",
                "--Keep in mind all-at-once operations. Let's say col1 is originally 100. The values of col1 and col2 will both be 110 because the value before the update will be applied to both regardless of order.\r\n",
                "UPDATE dbo.T1 \r\n",
                "\tSET col1 = col1 + 10, col2 = col1 + 10;\r\n",
                "\r\n",
                "--because of all-at-once operation, you do not have to have a temp variable to store value before swapping values of two variables.\r\n",
                "--For both operation, the original value will be used.\r\n",
                "UPDATE dbo.T1 \r\n",
                "\tSET col1=col2, col2=col1;"
            ],
            "metadata": {
                "azdata_cell_guid": "d45e1c71-a206-4104-90de-66e2ed31c1f5",
                "language": "sql"
            },
            "outputs": [],
            "execution_count": null
        },
        {
            "cell_type": "markdown",
            "source": [
                "UPDATE based on a join (nonstandard)\n",
                "\n",
                "You can update based on an attribute from another table.\n",
                "\n",
                "Proposition: Increase the discount of all order details of orders placed by customer 1 by 5 percent."
            ],
            "metadata": {
                "language": "sql",
                "azdata_cell_guid": "2ea43926-70de-431a-bae9-889134390cbb"
            },
            "attachments": {}
        },
        {
            "cell_type": "code",
            "source": [
                "use Northwinds2022TSQLV7\r\n",
                "UPDATE od \r\n",
                "\tSET discount += 0.05\r\n",
                "FROM dbo.OrderDetails AS OD\r\n",
                "\tINNER JOIN dbo.Orders AS O\r\n",
                "\t\tON OD.orderid = o.orderId\r\n",
                "WHERE o.custid = 1;\r\n",
                "\r\n",
                ""
            ],
            "metadata": {
                "language": "sql",
                "azdata_cell_guid": "780e16b5-9ac8-4fad-88db-d622a3178c74"
            },
            "outputs": [],
            "execution_count": null
        },
        {
            "cell_type": "markdown",
            "source": [
                "JOIN using subquery (standard)"
            ],
            "metadata": {
                "language": "sql",
                "azdata_cell_guid": "6501596c-ae78-4de0-a024-a694b308bbfa"
            },
            "attachments": {}
        },
        {
            "cell_type": "code",
            "source": [
                "use Northwinds2022TSQLV7\r\n",
                "UPDATE dbo.OrderDetails\r\n",
                "\tSET discount+= 0.05\r\n",
                "WHERE EXISTS (SELECT * FROM dbo.orders AS o\r\n",
                "\t\t\t  WHERE OrderDetails.orderid = o.orderid\r\n",
                "\t\t\t  AND o.custid = 1)"
            ],
            "metadata": {
                "language": "sql",
                "azdata_cell_guid": "980f5c63-adae-4255-88f8-873614a608fd"
            },
            "outputs": [],
            "execution_count": null
        },
        {
            "cell_type": "markdown",
            "source": [
                "<span style=\"color: #608b4e;\">It&nbsp;is&nbsp;best&nbsp;to&nbsp;use&nbsp;the&nbsp;standard&nbsp;subquery&nbsp;to&nbsp;update.&nbsp;At&nbsp;times,&nbsp;it&nbsp;is&nbsp;easier&nbsp;to&nbsp;update using join. You need separate subqueries for filtering and assignment and sa separate subquery for each assignment.</span>\n",
                "\n",
                "<span style=\"color: #608b4e;\">Compare and contrast the following update using join and subquery.</span>"
            ],
            "metadata": {
                "language": "sql",
                "azdata_cell_guid": "75e1d195-cc30-474b-a5f3-1de14f89d86d"
            },
            "attachments": {}
        },
        {
            "cell_type": "code",
            "source": [
                "DROP TABLE IF EXISTS dbo.T1, dbo.T2;\r\n",
                "\r\n",
                "CREATE TABLE dbo.T1\r\n",
                "(\r\n",
                "  keycol INT NOT NULL\r\n",
                "    CONSTRAINT PK_T1 PRIMARY KEY,\r\n",
                "  col1 INT NOT NULL,\r\n",
                "  col2 INT NOT NULL,\r\n",
                "  col3 INT NOT NULL,\r\n",
                "  col4 VARCHAR(10) NOT NULL\r\n",
                ");\r\n",
                "\r\n",
                "CREATE TABLE dbo.T2\r\n",
                "(\r\n",
                "  keycol INT NOT NULL\r\n",
                "    CONSTRAINT PK_T2 PRIMARY KEY,\r\n",
                "  col1 INT NOT NULL,\r\n",
                "  col2 INT NOT NULL,\r\n",
                "  col3 INT NOT NULL,\r\n",
                "  col4 VARCHAR(10) NOT NULL\r\n",
                ");\r\n",
                "GO"
            ],
            "metadata": {
                "language": "sql",
                "azdata_cell_guid": "f56e35e9-53da-4766-b287-6d23f7272dd5"
            },
            "outputs": [],
            "execution_count": null
        },
        {
            "cell_type": "code",
            "source": [
                "--JOIN\r\n",
                "UPDATE t1 \r\n",
                "\tSET col1 = T2.col1,\r\n",
                "\t\tcol2 = T2.col2,\r\n",
                "\t\tcol3 = T2.col3\r\n",
                "FROM dbo.T1 \r\n",
                "\tJOIN dbo.T2\r\n",
                "\t\tON T2.keycol = T1.keycol\r\n",
                "WHERE T2.col4 = 'ABC'\r\n",
                "\r\n",
                "--The same query using the subqueries\r\n",
                "UPDATE dbo.T1 \r\n",
                "\tSET col1 = (SELECT col1\r\n",
                "\t\t\t\tFROM dbo.T2\r\n",
                "\t\t\t\tWHERE T2.keycol = T1.keycol),\r\n",
                "\t\tcol2 = (SELECT col2\r\n",
                "\t\t\t\tFROM dbo.T2\r\n",
                "\t\t\t\tWHERE T2.keycol = T1.keycol),\r\n",
                "\t\tcol3 = (SELECT col3\r\n",
                "\t\t\t\tFROM dbo.T2\r\n",
                "\t\t\t\tWHERE T2.keycol = T1.keycol)\r\n",
                "WHERE EXISTS\r\n",
                "\t(SELECT *\r\n",
                "\t FROM dbo.T2\r\n",
                "\t WHERE T2.keycol = T1.keycol\r\n",
                "\t\tAND T2.col4 = 'ABC'); \r\n",
                "\r\n",
                "--Row Constructors is a subquery that enables multiple assignment. This one is a bit more simple than the one above but it still requires separte subqueries for filtering and for assignment.\r\n",
                "UPDATE dbo.T1\r\n",
                "\tSET (col1, col2, col3) =\r\n",
                "\t\t(SELECT col1, col2, col3\r\n",
                "\t\t FROM dbo.T2\r\n",
                "\t\t WHERE T2.keycol = T1.keycol)\r\n",
                "\tWHERE EXISTS \r\n",
                "\t\t(SELECT *\r\n",
                "\t\t FROM dbo.T2\r\n",
                "\t\t WHERE T2.keycol = T1.keycol\r\n",
                "\t\t\tAND T2.col4 = 'ABC')\r\n",
                ""
            ],
            "metadata": {
                "language": "sql",
                "azdata_cell_guid": "6bf18501-bbe8-4bb1-8835-ac2e3c0fc647"
            },
            "outputs": [],
            "execution_count": null
        },
        {
            "cell_type": "markdown",
            "source": [
                "Assignment UPDATE\n",
                "\n",
                "  \n",
                "\n",
                "You can both update data in a table and assign values to variables at the same time. Saves you the need to use deparate UPDATE and SELECT statements. \n",
                "\n",
                "  \n",
                "\n",
                "Proposition: Guarauntee no gaps between the values by maintaining a custom sequence/autonumbering mecahnism other than identity property and sequence object."
            ],
            "metadata": {
                "language": "sql",
                "azdata_cell_guid": "995751e0-5537-4a85-a32a-d61c7561181d"
            },
            "attachments": {}
        },
        {
            "cell_type": "code",
            "source": [
                "use Northwinds2022TSQLV7\r\n",
                "DROP TABLE IF EXISTS dbo.MySequences;\r\n",
                "\r\n",
                "CREATE TABLE dbo.MySequences\r\n",
                "(\r\n",
                "\tid VARCHAR(10) NOT NULL\r\n",
                "\t\tCONSTRAINT PK_MySequences PRIMARY KEY (id),\r\n",
                "\tval INT NOT NULL \r\n",
                ");\r\n",
                "\r\n",
                "INSERT INTO dbo.MySequences VALUES ('SEQ1', 0);\r\n",
                "\r\n",
                "DECLARE @nextval AS INT;\r\n",
                "\r\n",
                "UPDATE dbo.MySequences\r\n",
                "\tSET @nextval = val +=1\r\n",
                "WHERE id  = 'SEQ1';\r\n",
                "\r\n",
                "SELECT @nextval;"
            ],
            "metadata": {
                "language": "sql",
                "azdata_cell_guid": "b96ef935-4fd5-4c8b-b0b8-35dedd933ebb"
            },
            "outputs": [
                {
                    "output_type": "display_data",
                    "data": {
                        "text/html": "(1 row affected)"
                    },
                    "metadata": {}
                },
                {
                    "output_type": "display_data",
                    "data": {
                        "text/html": "(1 row affected)"
                    },
                    "metadata": {}
                },
                {
                    "output_type": "display_data",
                    "data": {
                        "text/html": "(1 row affected)"
                    },
                    "metadata": {}
                },
                {
                    "output_type": "display_data",
                    "data": {
                        "text/html": "Total execution time: 00:00:00.042"
                    },
                    "metadata": {}
                },
                {
                    "output_type": "execute_result",
                    "metadata": {},
                    "execution_count": 37,
                    "data": {
                        "application/vnd.dataresource+json": {
                            "schema": {
                                "fields": [
                                    {
                                        "name": "(No column name)"
                                    }
                                ]
                            },
                            "data": [
                                {
                                    "0": "1"
                                }
                            ]
                        },
                        "text/html": [
                            "<table>",
                            "<tr><th>(No column name)</th></tr>",
                            "<tr><td>1</td></tr>",
                            "</table>"
                        ]
                    }
                }
            ],
            "execution_count": 37
        },
        {
            "cell_type": "markdown",
            "source": [
                "Merging data\n",
                "\n",
                "Merge data from source into a target applying insert, update, and delete based on conditional logic."
            ],
            "metadata": {
                "language": "sql",
                "azdata_cell_guid": "ad42adb8-a7a6-4c04-a5d7-346383088496"
            },
            "attachments": {}
        },
        {
            "cell_type": "code",
            "source": [
                "use Northwinds2022TSQLV7\r\n",
                "\r\n",
                "DROP TABLE IF EXISTS dbo.Customer, dbo.CustomersStage;\r\n",
                "GO\r\n",
                "\r\n",
                "CREATE TABLE dbo.Customer\r\n",
                "(\r\n",
                "  custid      INT         NOT NULL,\r\n",
                "  companyname VARCHAR(25) NOT NULL,\r\n",
                "  phone       VARCHAR(20) NOT NULL,\r\n",
                "  address     VARCHAR(50) NOT NULL,\r\n",
                "  CONSTRAINT PK_Customer PRIMARY KEY(custid)\r\n",
                ");\r\n",
                "\r\n",
                "INSERT INTO dbo.Customer(custid, companyname, phone, address)\r\n",
                "VALUES\r\n",
                "  (1, 'cust 1', '(111) 111-1111', 'address 1'),\r\n",
                "  (2, 'cust 2', '(222) 222-2222', 'address 2'),\r\n",
                "  (3, 'cust 3', '(333) 333-3333', 'address 3'),\r\n",
                "  (4, 'cust 4', '(444) 444-4444', 'address 4'),\r\n",
                "  (5, 'cust 5', '(555) 555-5555', 'address 5');\r\n",
                "\r\n",
                "CREATE TABLE dbo.CustomersStage\r\n",
                "(\r\n",
                "  custid      INT         NOT NULL,\r\n",
                "  companyname VARCHAR(25) NOT NULL,\r\n",
                "  phone       VARCHAR(20) NOT NULL,\r\n",
                "  address     VARCHAR(50) NOT NULL,\r\n",
                "  CONSTRAINT PK_CustomersStage PRIMARY KEY(custid)\r\n",
                ");\r\n",
                "\r\n",
                "INSERT INTO dbo.CustomersStage(custid, companyname, phone, address)\r\n",
                "VALUES\r\n",
                "  (2, 'AAAAA', '(222) 222-2222', 'address 2'),\r\n",
                "  (3, 'cust 3', '(333) 333-3333', 'address 3'),\r\n",
                "  (5, 'BBBBB', 'CCCCC', 'DDDDD'),\r\n",
                "  (6, 'cust 6 (new)', '(666) 666-6666', 'address 6'),\r\n",
                "  (7, 'cust 7 (new)', '(777) 777-7777', 'address 7');\r\n",
                "\r\n",
                " SELECT * from dbo.Customer;\r\n",
                " SELECT * from  dbo.CustomersStage;\r\n",
                "\r\n",
                "MERGE INTO dbo.Customer AS TGT\r\n",
                "USING dbo.CustomersStage AS SRC\r\n",
                "\tON TGT.custid = SRC.custid\r\n",
                "WHEN MATCHED THEN \r\n",
                "\tUPDATE SET\r\n",
                "\t\tTGT.companyname = SRC.companyname,\r\n",
                "\t\tTGT.phone = SRC.phone,\r\n",
                "\t\tTGT.[ADDRESS] = SRC.[address]\r\n",
                "\tWHEN NOT MATCHED THEN \r\n",
                "\t\tINSERT (custid, companyname, phone, address)\r\n",
                "\t\tVALUES (SRC.custid, SRC.companyname, SRC.phone, SRC.address);\r\n",
                "\r\n",
                "SELECT * FROM dbo.Customer;\r\n",
                "\r\n",
                "--the following will delete the 1st and 4th rows for they were only present in the first table, not the second.\r\n",
                "MERGE INTO dbo.Customer AS TGT\r\n",
                "USING dbo.CustomersStage AS SRC\r\n",
                "\tON TGT.custid = SRC.custid\r\n",
                "WHEN MATCHED THEN \r\n",
                "\tUPDATE SET\r\n",
                "\t\tTGT.companyname = SRC.companyname,\r\n",
                "\t\tTGT.phone = SRC.phone,\r\n",
                "\t\tTGT.[ADDRESS] = SRC.[address]\r\n",
                "\tWHEN NOT MATCHED THEN \r\n",
                "\t\tINSERT (custid, companyname, phone, address)\r\n",
                "\t\tVALUES (SRC.custid, SRC.companyname, SRC.phone, SRC.address)\r\n",
                "\tWHEN NOT MATCHED BY SOURCE THEN \r\n",
                "\t\tDELETE;\r\n",
                "\r\n",
                "SELECT * FROM dbo.Customer;"
            ],
            "metadata": {
                "language": "sql",
                "azdata_cell_guid": "c05e027c-bad9-4d4d-97db-0df381055e41"
            },
            "outputs": [
                {
                    "output_type": "display_data",
                    "data": {
                        "text/html": "Commands completed successfully."
                    },
                    "metadata": {}
                },
                {
                    "output_type": "display_data",
                    "data": {
                        "text/html": "(5 rows affected)"
                    },
                    "metadata": {}
                },
                {
                    "output_type": "display_data",
                    "data": {
                        "text/html": "(5 rows affected)"
                    },
                    "metadata": {}
                },
                {
                    "output_type": "display_data",
                    "data": {
                        "text/html": "(5 rows affected)"
                    },
                    "metadata": {}
                },
                {
                    "output_type": "display_data",
                    "data": {
                        "text/html": "(5 rows affected)"
                    },
                    "metadata": {}
                },
                {
                    "output_type": "display_data",
                    "data": {
                        "text/html": "(5 rows affected)"
                    },
                    "metadata": {}
                },
                {
                    "output_type": "display_data",
                    "data": {
                        "text/html": "(7 rows affected)"
                    },
                    "metadata": {}
                },
                {
                    "output_type": "display_data",
                    "data": {
                        "text/html": "(7 rows affected)"
                    },
                    "metadata": {}
                },
                {
                    "output_type": "display_data",
                    "data": {
                        "text/html": "(5 rows affected)"
                    },
                    "metadata": {}
                },
                {
                    "output_type": "display_data",
                    "data": {
                        "text/html": "Total execution time: 00:00:00.102"
                    },
                    "metadata": {}
                },
                {
                    "output_type": "execute_result",
                    "metadata": {},
                    "execution_count": 40,
                    "data": {
                        "application/vnd.dataresource+json": {
                            "schema": {
                                "fields": [
                                    {
                                        "name": "custid"
                                    },
                                    {
                                        "name": "companyname"
                                    },
                                    {
                                        "name": "phone"
                                    },
                                    {
                                        "name": "address"
                                    }
                                ]
                            },
                            "data": [
                                {
                                    "0": "1",
                                    "1": "cust 1",
                                    "2": "(111) 111-1111",
                                    "3": "address 1"
                                },
                                {
                                    "0": "2",
                                    "1": "cust 2",
                                    "2": "(222) 222-2222",
                                    "3": "address 2"
                                },
                                {
                                    "0": "3",
                                    "1": "cust 3",
                                    "2": "(333) 333-3333",
                                    "3": "address 3"
                                },
                                {
                                    "0": "4",
                                    "1": "cust 4",
                                    "2": "(444) 444-4444",
                                    "3": "address 4"
                                },
                                {
                                    "0": "5",
                                    "1": "cust 5",
                                    "2": "(555) 555-5555",
                                    "3": "address 5"
                                }
                            ]
                        },
                        "text/html": [
                            "<table>",
                            "<tr><th>custid</th><th>companyname</th><th>phone</th><th>address</th></tr>",
                            "<tr><td>1</td><td>cust 1</td><td>(111) 111-1111</td><td>address 1</td></tr>",
                            "<tr><td>2</td><td>cust 2</td><td>(222) 222-2222</td><td>address 2</td></tr>",
                            "<tr><td>3</td><td>cust 3</td><td>(333) 333-3333</td><td>address 3</td></tr>",
                            "<tr><td>4</td><td>cust 4</td><td>(444) 444-4444</td><td>address 4</td></tr>",
                            "<tr><td>5</td><td>cust 5</td><td>(555) 555-5555</td><td>address 5</td></tr>",
                            "</table>"
                        ]
                    }
                },
                {
                    "output_type": "execute_result",
                    "metadata": {},
                    "execution_count": 40,
                    "data": {
                        "application/vnd.dataresource+json": {
                            "schema": {
                                "fields": [
                                    {
                                        "name": "custid"
                                    },
                                    {
                                        "name": "companyname"
                                    },
                                    {
                                        "name": "phone"
                                    },
                                    {
                                        "name": "address"
                                    }
                                ]
                            },
                            "data": [
                                {
                                    "0": "2",
                                    "1": "AAAAA",
                                    "2": "(222) 222-2222",
                                    "3": "address 2"
                                },
                                {
                                    "0": "3",
                                    "1": "cust 3",
                                    "2": "(333) 333-3333",
                                    "3": "address 3"
                                },
                                {
                                    "0": "5",
                                    "1": "BBBBB",
                                    "2": "CCCCC",
                                    "3": "DDDDD"
                                },
                                {
                                    "0": "6",
                                    "1": "cust 6 (new)",
                                    "2": "(666) 666-6666",
                                    "3": "address 6"
                                },
                                {
                                    "0": "7",
                                    "1": "cust 7 (new)",
                                    "2": "(777) 777-7777",
                                    "3": "address 7"
                                }
                            ]
                        },
                        "text/html": [
                            "<table>",
                            "<tr><th>custid</th><th>companyname</th><th>phone</th><th>address</th></tr>",
                            "<tr><td>2</td><td>AAAAA</td><td>(222) 222-2222</td><td>address 2</td></tr>",
                            "<tr><td>3</td><td>cust 3</td><td>(333) 333-3333</td><td>address 3</td></tr>",
                            "<tr><td>5</td><td>BBBBB</td><td>CCCCC</td><td>DDDDD</td></tr>",
                            "<tr><td>6</td><td>cust 6 (new)</td><td>(666) 666-6666</td><td>address 6</td></tr>",
                            "<tr><td>7</td><td>cust 7 (new)</td><td>(777) 777-7777</td><td>address 7</td></tr>",
                            "</table>"
                        ]
                    }
                },
                {
                    "output_type": "execute_result",
                    "metadata": {},
                    "execution_count": 40,
                    "data": {
                        "application/vnd.dataresource+json": {
                            "schema": {
                                "fields": [
                                    {
                                        "name": "custid"
                                    },
                                    {
                                        "name": "companyname"
                                    },
                                    {
                                        "name": "phone"
                                    },
                                    {
                                        "name": "address"
                                    }
                                ]
                            },
                            "data": [
                                {
                                    "0": "1",
                                    "1": "cust 1",
                                    "2": "(111) 111-1111",
                                    "3": "address 1"
                                },
                                {
                                    "0": "2",
                                    "1": "AAAAA",
                                    "2": "(222) 222-2222",
                                    "3": "address 2"
                                },
                                {
                                    "0": "3",
                                    "1": "cust 3",
                                    "2": "(333) 333-3333",
                                    "3": "address 3"
                                },
                                {
                                    "0": "4",
                                    "1": "cust 4",
                                    "2": "(444) 444-4444",
                                    "3": "address 4"
                                },
                                {
                                    "0": "5",
                                    "1": "BBBBB",
                                    "2": "CCCCC",
                                    "3": "DDDDD"
                                },
                                {
                                    "0": "6",
                                    "1": "cust 6 (new)",
                                    "2": "(666) 666-6666",
                                    "3": "address 6"
                                },
                                {
                                    "0": "7",
                                    "1": "cust 7 (new)",
                                    "2": "(777) 777-7777",
                                    "3": "address 7"
                                }
                            ]
                        },
                        "text/html": [
                            "<table>",
                            "<tr><th>custid</th><th>companyname</th><th>phone</th><th>address</th></tr>",
                            "<tr><td>1</td><td>cust 1</td><td>(111) 111-1111</td><td>address 1</td></tr>",
                            "<tr><td>2</td><td>AAAAA</td><td>(222) 222-2222</td><td>address 2</td></tr>",
                            "<tr><td>3</td><td>cust 3</td><td>(333) 333-3333</td><td>address 3</td></tr>",
                            "<tr><td>4</td><td>cust 4</td><td>(444) 444-4444</td><td>address 4</td></tr>",
                            "<tr><td>5</td><td>BBBBB</td><td>CCCCC</td><td>DDDDD</td></tr>",
                            "<tr><td>6</td><td>cust 6 (new)</td><td>(666) 666-6666</td><td>address 6</td></tr>",
                            "<tr><td>7</td><td>cust 7 (new)</td><td>(777) 777-7777</td><td>address 7</td></tr>",
                            "</table>"
                        ]
                    }
                },
                {
                    "output_type": "execute_result",
                    "metadata": {},
                    "execution_count": 40,
                    "data": {
                        "application/vnd.dataresource+json": {
                            "schema": {
                                "fields": [
                                    {
                                        "name": "custid"
                                    },
                                    {
                                        "name": "companyname"
                                    },
                                    {
                                        "name": "phone"
                                    },
                                    {
                                        "name": "address"
                                    }
                                ]
                            },
                            "data": [
                                {
                                    "0": "2",
                                    "1": "AAAAA",
                                    "2": "(222) 222-2222",
                                    "3": "address 2"
                                },
                                {
                                    "0": "3",
                                    "1": "cust 3",
                                    "2": "(333) 333-3333",
                                    "3": "address 3"
                                },
                                {
                                    "0": "5",
                                    "1": "BBBBB",
                                    "2": "CCCCC",
                                    "3": "DDDDD"
                                },
                                {
                                    "0": "6",
                                    "1": "cust 6 (new)",
                                    "2": "(666) 666-6666",
                                    "3": "address 6"
                                },
                                {
                                    "0": "7",
                                    "1": "cust 7 (new)",
                                    "2": "(777) 777-7777",
                                    "3": "address 7"
                                }
                            ]
                        },
                        "text/html": [
                            "<table>",
                            "<tr><th>custid</th><th>companyname</th><th>phone</th><th>address</th></tr>",
                            "<tr><td>2</td><td>AAAAA</td><td>(222) 222-2222</td><td>address 2</td></tr>",
                            "<tr><td>3</td><td>cust 3</td><td>(333) 333-3333</td><td>address 3</td></tr>",
                            "<tr><td>5</td><td>BBBBB</td><td>CCCCC</td><td>DDDDD</td></tr>",
                            "<tr><td>6</td><td>cust 6 (new)</td><td>(666) 666-6666</td><td>address 6</td></tr>",
                            "<tr><td>7</td><td>cust 7 (new)</td><td>(777) 777-7777</td><td>address 7</td></tr>",
                            "</table>"
                        ]
                    }
                }
            ],
            "execution_count": 40
        },
        {
            "cell_type": "markdown",
            "source": [
                "Merging Data - Additional condition\n",
                "\n",
                "  \n",
                "\n",
                "You can add WHEN MATCHED AND clause to check that at least one of the column values is idfferent to justify the update ACTION."
            ],
            "metadata": {
                "language": "sql",
                "azdata_cell_guid": "3d3d6eef-c78a-40a0-b696-b1e559ca9bb8"
            },
            "attachments": {}
        },
        {
            "cell_type": "code",
            "source": [
                "use Northwinds2022TSQLV7\r\n",
                "\r\n",
                "MERGE dbo.Customer AS TGT\r\n",
                "USING dbo.CustomersStage AS SRC\r\n",
                "  ON TGT.custid = SRC.custid\r\n",
                "WHEN MATCHED AND \r\n",
                "       (   TGT.companyname <> SRC.companyname\r\n",
                "        OR TGT.phone       <> SRC.phone\r\n",
                "        OR TGT.address     <> SRC.address) THEN\r\n",
                "  UPDATE SET\r\n",
                "    TGT.companyname = SRC.companyname,\r\n",
                "    TGT.phone = SRC.phone,\r\n",
                "    TGT.address = SRC.address\r\n",
                "WHEN NOT MATCHED THEN \r\n",
                "  INSERT (custid, companyname, phone, address)\r\n",
                "  VALUES (SRC.custid, SRC.companyname, SRC.phone, SRC.address);\r\n",
                "\r\n",
                "select * from dbo.Customer"
            ],
            "metadata": {
                "language": "sql",
                "azdata_cell_guid": "de30e6fc-bf39-4f9e-b0a6-2fa2cf8499a8",
                "tags": []
            },
            "outputs": [
                {
                    "output_type": "display_data",
                    "data": {
                        "text/html": "(0 rows affected)"
                    },
                    "metadata": {}
                },
                {
                    "output_type": "display_data",
                    "data": {
                        "text/html": "(5 rows affected)"
                    },
                    "metadata": {}
                },
                {
                    "output_type": "display_data",
                    "data": {
                        "text/html": "Total execution time: 00:00:00.007"
                    },
                    "metadata": {}
                },
                {
                    "output_type": "execute_result",
                    "metadata": {},
                    "execution_count": 42,
                    "data": {
                        "application/vnd.dataresource+json": {
                            "schema": {
                                "fields": [
                                    {
                                        "name": "custid"
                                    },
                                    {
                                        "name": "companyname"
                                    },
                                    {
                                        "name": "phone"
                                    },
                                    {
                                        "name": "address"
                                    }
                                ]
                            },
                            "data": [
                                {
                                    "0": "2",
                                    "1": "AAAAA",
                                    "2": "(222) 222-2222",
                                    "3": "address 2"
                                },
                                {
                                    "0": "3",
                                    "1": "cust 3",
                                    "2": "(333) 333-3333",
                                    "3": "address 3"
                                },
                                {
                                    "0": "5",
                                    "1": "BBBBB",
                                    "2": "CCCCC",
                                    "3": "DDDDD"
                                },
                                {
                                    "0": "6",
                                    "1": "cust 6 (new)",
                                    "2": "(666) 666-6666",
                                    "3": "address 6"
                                },
                                {
                                    "0": "7",
                                    "1": "cust 7 (new)",
                                    "2": "(777) 777-7777",
                                    "3": "address 7"
                                }
                            ]
                        },
                        "text/html": [
                            "<table>",
                            "<tr><th>custid</th><th>companyname</th><th>phone</th><th>address</th></tr>",
                            "<tr><td>2</td><td>AAAAA</td><td>(222) 222-2222</td><td>address 2</td></tr>",
                            "<tr><td>3</td><td>cust 3</td><td>(333) 333-3333</td><td>address 3</td></tr>",
                            "<tr><td>5</td><td>BBBBB</td><td>CCCCC</td><td>DDDDD</td></tr>",
                            "<tr><td>6</td><td>cust 6 (new)</td><td>(666) 666-6666</td><td>address 6</td></tr>",
                            "<tr><td>7</td><td>cust 7 (new)</td><td>(777) 777-7777</td><td>address 7</td></tr>",
                            "</table>"
                        ]
                    }
                }
            ],
            "execution_count": 42
        },
        {
            "cell_type": "markdown",
            "source": [
                "```\n",
                " 6\n",
                "Run the following code to create the tables Orders and OrderDetails and populate them with data\n",
                "\n",
                "```\n",
                "```\n",
                "You have to drop all FK relationships before truncating table. In the following two tables, there is only one FK in OrderDetails table. You drop that then truncate. Add the foreign key relationship back. \n",
                "\n",
                "```\n",
                "\n",
                "<span class=\"c1\" style=\"color: rgb(64, 128, 128); font-style: italic;\"><br></span>"
            ],
            "metadata": {
                "azdata_cell_guid": "e0a20c6f-37af-4e6e-86c4-db897145a508"
            },
            "attachments": {}
        },
        {
            "cell_type": "code",
            "source": [
                "DROP TABLE IF EXISTS dbo.OrderDetails, dbo.Orders;\r\n",
                "\r\n",
                "CREATE TABLE dbo.Orders\r\n",
                "(\r\n",
                "  orderid        INT          NOT NULL,\r\n",
                "  custid         INT          NULL,\r\n",
                "  empid          INT          NOT NULL,\r\n",
                "  shipperid      INT          NOT NULL,\r\n",
                "  orderdate      DATE         NOT NULL,\r\n",
                "  requireddate   DATE         NOT NULL,\r\n",
                "  shippeddate    DATE         NULL,\r\n",
                "  \r\n",
                "  freight        MONEY        NOT NULL\r\n",
                "    CONSTRAINT DFT_Orders_freight DEFAULT(0),\r\n",
                "  shipname       NVARCHAR(40) NOT NULL,\r\n",
                "  shipaddress    NVARCHAR(60) NOT NULL,\r\n",
                "  shipcity       NVARCHAR(15) NOT NULL,\r\n",
                "  shipregion     NVARCHAR(15) NULL,\r\n",
                "  shippostalcode NVARCHAR(10) NULL,\r\n",
                "  shipcountry    NVARCHAR(15) NOT NULL,\r\n",
                "  userAuthenticationid int NULL,\r\n",
                "  datadded datetime2 NULL,\r\n",
                "  dateoflastupdate DATETIME2 NULL,\r\n",
                "  CONSTRAINT PK_Orders PRIMARY KEY(orderid)\r\n",
                ");\r\n",
                "\r\n",
                "SELECT * FROM sales.[Order] AS o\r\n",
                "\r\n",
                "CREATE TABLE dbo.OrderDetails\r\n",
                "(\r\n",
                "  orderid   INT           NOT NULL,\r\n",
                "  productid INT           NOT NULL,\r\n",
                "  unitprice MONEY         NOT NULL\r\n",
                "    CONSTRAINT DFT_OrderDetails_unitprice DEFAULT(0),\r\n",
                "  qty       SMALLINT      NOT NULL\r\n",
                "    CONSTRAINT DFT_OrderDetails_qty DEFAULT(1),\r\n",
                "  discount  NUMERIC(4, 3) NOT NULL\r\n",
                "    CONSTRAINT DFT_OrderDetails_discount DEFAULT(0),\r\n",
                "  CONSTRAINT PK_OrderDetails PRIMARY KEY(orderid, productid),\r\n",
                "  CONSTRAINT FK_OrderDetails_Orders FOREIGN KEY(orderid)\r\n",
                "    REFERENCES dbo.Orders(orderid),\r\n",
                "  CONSTRAINT CHK_discount  CHECK (discount BETWEEN 0 AND 1),\r\n",
                "  CONSTRAINT CHK_qty  CHECK (qty > 0),\r\n",
                "  CONSTRAINT CHK_unitprice CHECK (unitprice >= 0)\r\n",
                ");\r\n",
                "GO\r\n",
                "\r\n",
                "INSERT INTO dbo.Orders SELECT * FROM Sales.[ORDER];\r\n",
                "INSERT INTO dbo.OrderDetails SELECT * FROM Sales.OrderDetail;\r\n",
                "\r\n",
                "ALTER TABLE dbo.OrderDetails DROP CONSTRAINT FK_OrderDetails_Orders;\r\n",
                "\r\n",
                "TRUNCATE TABLE dbo.OrderDetails;\r\n",
                "TRUNCATE TABLE dbo.orders;\r\n",
                "\r\n",
                "ALTER TABLE dbo.OrderDetails\r\n",
                "\tADD CONSTRAINT FK_OrderDetails_Orders\r\n",
                "\t\tFOREIGN KEY (orderId) REFERENCES dbo.Orders(orderId);"
            ],
            "metadata": {
                "azdata_cell_guid": "230c7f53-c268-4294-9362-88a45965ca07",
                "language": "sql"
            },
            "outputs": [],
            "execution_count": null
        }
    ]
}